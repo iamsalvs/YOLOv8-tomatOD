{
 "cells": [
  {
   "cell_type": "code",
   "execution_count": 1,
   "id": "ce5f00a2-8629-4171-9872-be14a36dd33a",
   "metadata": {
    "scrolled": true
   },
   "outputs": [],
   "source": [
    "from initialize_tomatod import tomatodInitialize\n",
    "\n",
    "tomatodInitialize()\n",
    "\n"
   ]
  },
  {
   "cell_type": "code",
   "execution_count": 2,
   "id": "d92ad71a-9752-49d9-8225-373e14bae9e7",
   "metadata": {},
   "outputs": [
    {
     "name": "stdout",
     "output_type": "stream",
     "text": [
      "✅ Modified YOLO Model Structure:\n",
      " DetectionModel(\n",
      "  (model): Sequential(\n",
      "    (0): CustomBackbone(\n",
      "      (backbone): EfficientNet(\n",
      "        (features): Sequential(\n",
      "          (0): Conv2dNormActivation(\n",
      "            (0): Conv2d(3, 32, kernel_size=(3, 3), stride=(2, 2), padding=(1, 1), bias=False)\n",
      "            (1): BatchNorm2d(32, eps=1e-05, momentum=0.1, affine=True, track_running_stats=True)\n",
      "            (2): SiLU(inplace=True)\n",
      "          )\n",
      "          (1): Sequential(\n",
      "            (0): MBConv(\n",
      "              (block): Sequential(\n",
      "                (0): Conv2dNormActivation(\n",
      "                  (0): Conv2d(32, 32, kernel_size=(3, 3), stride=(1, 1), padding=(1, 1), groups=32, bias=False)\n",
      "                  (1): BatchNorm2d(32, eps=1e-05, momentum=0.1, affine=True, track_running_stats=True)\n",
      "                  (2): SiLU(inplace=True)\n",
      "                )\n",
      "                (1): SqueezeExcitation(\n",
      "                  (avgpool): AdaptiveAvgPool2d(output_size=1)\n",
      "                  (fc1): Conv2d(32, 8, kernel_size=(1, 1), stride=(1, 1))\n",
      "                  (fc2): Conv2d(8, 32, kernel_size=(1, 1), stride=(1, 1))\n",
      "                  (activation): SiLU(inplace=True)\n",
      "                  (scale_activation): Sigmoid()\n",
      "                )\n",
      "                (2): Conv2dNormActivation(\n",
      "                  (0): Conv2d(32, 16, kernel_size=(1, 1), stride=(1, 1), bias=False)\n",
      "                  (1): BatchNorm2d(16, eps=1e-05, momentum=0.1, affine=True, track_running_stats=True)\n",
      "                )\n",
      "              )\n",
      "              (stochastic_depth): StochasticDepth(p=0.0, mode=row)\n",
      "            )\n",
      "          )\n",
      "          (2): Sequential(\n",
      "            (0): MBConv(\n",
      "              (block): Sequential(\n",
      "                (0): Conv2dNormActivation(\n",
      "                  (0): Conv2d(16, 96, kernel_size=(1, 1), stride=(1, 1), bias=False)\n",
      "                  (1): BatchNorm2d(96, eps=1e-05, momentum=0.1, affine=True, track_running_stats=True)\n",
      "                  (2): SiLU(inplace=True)\n",
      "                )\n",
      "                (1): Conv2dNormActivation(\n",
      "                  (0): Conv2d(96, 96, kernel_size=(3, 3), stride=(2, 2), padding=(1, 1), groups=96, bias=False)\n",
      "                  (1): BatchNorm2d(96, eps=1e-05, momentum=0.1, affine=True, track_running_stats=True)\n",
      "                  (2): SiLU(inplace=True)\n",
      "                )\n",
      "                (2): SqueezeExcitation(\n",
      "                  (avgpool): AdaptiveAvgPool2d(output_size=1)\n",
      "                  (fc1): Conv2d(96, 4, kernel_size=(1, 1), stride=(1, 1))\n",
      "                  (fc2): Conv2d(4, 96, kernel_size=(1, 1), stride=(1, 1))\n",
      "                  (activation): SiLU(inplace=True)\n",
      "                  (scale_activation): Sigmoid()\n",
      "                )\n",
      "                (3): Conv2dNormActivation(\n",
      "                  (0): Conv2d(96, 24, kernel_size=(1, 1), stride=(1, 1), bias=False)\n",
      "                  (1): BatchNorm2d(24, eps=1e-05, momentum=0.1, affine=True, track_running_stats=True)\n",
      "                )\n",
      "              )\n",
      "              (stochastic_depth): StochasticDepth(p=0.0125, mode=row)\n",
      "            )\n",
      "            (1): MBConv(\n",
      "              (block): Sequential(\n",
      "                (0): Conv2dNormActivation(\n",
      "                  (0): Conv2d(24, 144, kernel_size=(1, 1), stride=(1, 1), bias=False)\n",
      "                  (1): BatchNorm2d(144, eps=1e-05, momentum=0.1, affine=True, track_running_stats=True)\n",
      "                  (2): SiLU(inplace=True)\n",
      "                )\n",
      "                (1): Conv2dNormActivation(\n",
      "                  (0): Conv2d(144, 144, kernel_size=(3, 3), stride=(1, 1), padding=(1, 1), groups=144, bias=False)\n",
      "                  (1): BatchNorm2d(144, eps=1e-05, momentum=0.1, affine=True, track_running_stats=True)\n",
      "                  (2): SiLU(inplace=True)\n",
      "                )\n",
      "                (2): SqueezeExcitation(\n",
      "                  (avgpool): AdaptiveAvgPool2d(output_size=1)\n",
      "                  (fc1): Conv2d(144, 6, kernel_size=(1, 1), stride=(1, 1))\n",
      "                  (fc2): Conv2d(6, 144, kernel_size=(1, 1), stride=(1, 1))\n",
      "                  (activation): SiLU(inplace=True)\n",
      "                  (scale_activation): Sigmoid()\n",
      "                )\n",
      "                (3): Conv2dNormActivation(\n",
      "                  (0): Conv2d(144, 24, kernel_size=(1, 1), stride=(1, 1), bias=False)\n",
      "                  (1): BatchNorm2d(24, eps=1e-05, momentum=0.1, affine=True, track_running_stats=True)\n",
      "                )\n",
      "              )\n",
      "              (stochastic_depth): StochasticDepth(p=0.025, mode=row)\n",
      "            )\n",
      "          )\n",
      "          (3): Sequential(\n",
      "            (0): MBConv(\n",
      "              (block): Sequential(\n",
      "                (0): Conv2dNormActivation(\n",
      "                  (0): Conv2d(24, 144, kernel_size=(1, 1), stride=(1, 1), bias=False)\n",
      "                  (1): BatchNorm2d(144, eps=1e-05, momentum=0.1, affine=True, track_running_stats=True)\n",
      "                  (2): SiLU(inplace=True)\n",
      "                )\n",
      "                (1): Conv2dNormActivation(\n",
      "                  (0): Conv2d(144, 144, kernel_size=(5, 5), stride=(2, 2), padding=(2, 2), groups=144, bias=False)\n",
      "                  (1): BatchNorm2d(144, eps=1e-05, momentum=0.1, affine=True, track_running_stats=True)\n",
      "                  (2): SiLU(inplace=True)\n",
      "                )\n",
      "                (2): SqueezeExcitation(\n",
      "                  (avgpool): AdaptiveAvgPool2d(output_size=1)\n",
      "                  (fc1): Conv2d(144, 6, kernel_size=(1, 1), stride=(1, 1))\n",
      "                  (fc2): Conv2d(6, 144, kernel_size=(1, 1), stride=(1, 1))\n",
      "                  (activation): SiLU(inplace=True)\n",
      "                  (scale_activation): Sigmoid()\n",
      "                )\n",
      "                (3): Conv2dNormActivation(\n",
      "                  (0): Conv2d(144, 40, kernel_size=(1, 1), stride=(1, 1), bias=False)\n",
      "                  (1): BatchNorm2d(40, eps=1e-05, momentum=0.1, affine=True, track_running_stats=True)\n",
      "                )\n",
      "              )\n",
      "              (stochastic_depth): StochasticDepth(p=0.037500000000000006, mode=row)\n",
      "            )\n",
      "            (1): MBConv(\n",
      "              (block): Sequential(\n",
      "                (0): Conv2dNormActivation(\n",
      "                  (0): Conv2d(40, 240, kernel_size=(1, 1), stride=(1, 1), bias=False)\n",
      "                  (1): BatchNorm2d(240, eps=1e-05, momentum=0.1, affine=True, track_running_stats=True)\n",
      "                  (2): SiLU(inplace=True)\n",
      "                )\n",
      "                (1): Conv2dNormActivation(\n",
      "                  (0): Conv2d(240, 240, kernel_size=(5, 5), stride=(1, 1), padding=(2, 2), groups=240, bias=False)\n",
      "                  (1): BatchNorm2d(240, eps=1e-05, momentum=0.1, affine=True, track_running_stats=True)\n",
      "                  (2): SiLU(inplace=True)\n",
      "                )\n",
      "                (2): SqueezeExcitation(\n",
      "                  (avgpool): AdaptiveAvgPool2d(output_size=1)\n",
      "                  (fc1): Conv2d(240, 10, kernel_size=(1, 1), stride=(1, 1))\n",
      "                  (fc2): Conv2d(10, 240, kernel_size=(1, 1), stride=(1, 1))\n",
      "                  (activation): SiLU(inplace=True)\n",
      "                  (scale_activation): Sigmoid()\n",
      "                )\n",
      "                (3): Conv2dNormActivation(\n",
      "                  (0): Conv2d(240, 40, kernel_size=(1, 1), stride=(1, 1), bias=False)\n",
      "                  (1): BatchNorm2d(40, eps=1e-05, momentum=0.1, affine=True, track_running_stats=True)\n",
      "                )\n",
      "              )\n",
      "              (stochastic_depth): StochasticDepth(p=0.05, mode=row)\n",
      "            )\n",
      "          )\n",
      "          (4): Sequential(\n",
      "            (0): MBConv(\n",
      "              (block): Sequential(\n",
      "                (0): Conv2dNormActivation(\n",
      "                  (0): Conv2d(40, 240, kernel_size=(1, 1), stride=(1, 1), bias=False)\n",
      "                  (1): BatchNorm2d(240, eps=1e-05, momentum=0.1, affine=True, track_running_stats=True)\n",
      "                  (2): SiLU(inplace=True)\n",
      "                )\n",
      "                (1): Conv2dNormActivation(\n",
      "                  (0): Conv2d(240, 240, kernel_size=(3, 3), stride=(2, 2), padding=(1, 1), groups=240, bias=False)\n",
      "                  (1): BatchNorm2d(240, eps=1e-05, momentum=0.1, affine=True, track_running_stats=True)\n",
      "                  (2): SiLU(inplace=True)\n",
      "                )\n",
      "                (2): SqueezeExcitation(\n",
      "                  (avgpool): AdaptiveAvgPool2d(output_size=1)\n",
      "                  (fc1): Conv2d(240, 10, kernel_size=(1, 1), stride=(1, 1))\n",
      "                  (fc2): Conv2d(10, 240, kernel_size=(1, 1), stride=(1, 1))\n",
      "                  (activation): SiLU(inplace=True)\n",
      "                  (scale_activation): Sigmoid()\n",
      "                )\n",
      "                (3): Conv2dNormActivation(\n",
      "                  (0): Conv2d(240, 80, kernel_size=(1, 1), stride=(1, 1), bias=False)\n",
      "                  (1): BatchNorm2d(80, eps=1e-05, momentum=0.1, affine=True, track_running_stats=True)\n",
      "                )\n",
      "              )\n",
      "              (stochastic_depth): StochasticDepth(p=0.0625, mode=row)\n",
      "            )\n",
      "            (1): MBConv(\n",
      "              (block): Sequential(\n",
      "                (0): Conv2dNormActivation(\n",
      "                  (0): Conv2d(80, 480, kernel_size=(1, 1), stride=(1, 1), bias=False)\n",
      "                  (1): BatchNorm2d(480, eps=1e-05, momentum=0.1, affine=True, track_running_stats=True)\n",
      "                  (2): SiLU(inplace=True)\n",
      "                )\n",
      "                (1): Conv2dNormActivation(\n",
      "                  (0): Conv2d(480, 480, kernel_size=(3, 3), stride=(1, 1), padding=(1, 1), groups=480, bias=False)\n",
      "                  (1): BatchNorm2d(480, eps=1e-05, momentum=0.1, affine=True, track_running_stats=True)\n",
      "                  (2): SiLU(inplace=True)\n",
      "                )\n",
      "                (2): SqueezeExcitation(\n",
      "                  (avgpool): AdaptiveAvgPool2d(output_size=1)\n",
      "                  (fc1): Conv2d(480, 20, kernel_size=(1, 1), stride=(1, 1))\n",
      "                  (fc2): Conv2d(20, 480, kernel_size=(1, 1), stride=(1, 1))\n",
      "                  (activation): SiLU(inplace=True)\n",
      "                  (scale_activation): Sigmoid()\n",
      "                )\n",
      "                (3): Conv2dNormActivation(\n",
      "                  (0): Conv2d(480, 80, kernel_size=(1, 1), stride=(1, 1), bias=False)\n",
      "                  (1): BatchNorm2d(80, eps=1e-05, momentum=0.1, affine=True, track_running_stats=True)\n",
      "                )\n",
      "              )\n",
      "              (stochastic_depth): StochasticDepth(p=0.07500000000000001, mode=row)\n",
      "            )\n",
      "            (2): MBConv(\n",
      "              (block): Sequential(\n",
      "                (0): Conv2dNormActivation(\n",
      "                  (0): Conv2d(80, 480, kernel_size=(1, 1), stride=(1, 1), bias=False)\n",
      "                  (1): BatchNorm2d(480, eps=1e-05, momentum=0.1, affine=True, track_running_stats=True)\n",
      "                  (2): SiLU(inplace=True)\n",
      "                )\n",
      "                (1): Conv2dNormActivation(\n",
      "                  (0): Conv2d(480, 480, kernel_size=(3, 3), stride=(1, 1), padding=(1, 1), groups=480, bias=False)\n",
      "                  (1): BatchNorm2d(480, eps=1e-05, momentum=0.1, affine=True, track_running_stats=True)\n",
      "                  (2): SiLU(inplace=True)\n",
      "                )\n",
      "                (2): SqueezeExcitation(\n",
      "                  (avgpool): AdaptiveAvgPool2d(output_size=1)\n",
      "                  (fc1): Conv2d(480, 20, kernel_size=(1, 1), stride=(1, 1))\n",
      "                  (fc2): Conv2d(20, 480, kernel_size=(1, 1), stride=(1, 1))\n",
      "                  (activation): SiLU(inplace=True)\n",
      "                  (scale_activation): Sigmoid()\n",
      "                )\n",
      "                (3): Conv2dNormActivation(\n",
      "                  (0): Conv2d(480, 80, kernel_size=(1, 1), stride=(1, 1), bias=False)\n",
      "                  (1): BatchNorm2d(80, eps=1e-05, momentum=0.1, affine=True, track_running_stats=True)\n",
      "                )\n",
      "              )\n",
      "              (stochastic_depth): StochasticDepth(p=0.08750000000000001, mode=row)\n",
      "            )\n",
      "          )\n",
      "          (5): Sequential(\n",
      "            (0): MBConv(\n",
      "              (block): Sequential(\n",
      "                (0): Conv2dNormActivation(\n",
      "                  (0): Conv2d(80, 480, kernel_size=(1, 1), stride=(1, 1), bias=False)\n",
      "                  (1): BatchNorm2d(480, eps=1e-05, momentum=0.1, affine=True, track_running_stats=True)\n",
      "                  (2): SiLU(inplace=True)\n",
      "                )\n",
      "                (1): Conv2dNormActivation(\n",
      "                  (0): Conv2d(480, 480, kernel_size=(5, 5), stride=(1, 1), padding=(2, 2), groups=480, bias=False)\n",
      "                  (1): BatchNorm2d(480, eps=1e-05, momentum=0.1, affine=True, track_running_stats=True)\n",
      "                  (2): SiLU(inplace=True)\n",
      "                )\n",
      "                (2): SqueezeExcitation(\n",
      "                  (avgpool): AdaptiveAvgPool2d(output_size=1)\n",
      "                  (fc1): Conv2d(480, 20, kernel_size=(1, 1), stride=(1, 1))\n",
      "                  (fc2): Conv2d(20, 480, kernel_size=(1, 1), stride=(1, 1))\n",
      "                  (activation): SiLU(inplace=True)\n",
      "                  (scale_activation): Sigmoid()\n",
      "                )\n",
      "                (3): Conv2dNormActivation(\n",
      "                  (0): Conv2d(480, 112, kernel_size=(1, 1), stride=(1, 1), bias=False)\n",
      "                  (1): BatchNorm2d(112, eps=1e-05, momentum=0.1, affine=True, track_running_stats=True)\n",
      "                )\n",
      "              )\n",
      "              (stochastic_depth): StochasticDepth(p=0.1, mode=row)\n",
      "            )\n",
      "            (1): MBConv(\n",
      "              (block): Sequential(\n",
      "                (0): Conv2dNormActivation(\n",
      "                  (0): Conv2d(112, 672, kernel_size=(1, 1), stride=(1, 1), bias=False)\n",
      "                  (1): BatchNorm2d(672, eps=1e-05, momentum=0.1, affine=True, track_running_stats=True)\n",
      "                  (2): SiLU(inplace=True)\n",
      "                )\n",
      "                (1): Conv2dNormActivation(\n",
      "                  (0): Conv2d(672, 672, kernel_size=(5, 5), stride=(1, 1), padding=(2, 2), groups=672, bias=False)\n",
      "                  (1): BatchNorm2d(672, eps=1e-05, momentum=0.1, affine=True, track_running_stats=True)\n",
      "                  (2): SiLU(inplace=True)\n",
      "                )\n",
      "                (2): SqueezeExcitation(\n",
      "                  (avgpool): AdaptiveAvgPool2d(output_size=1)\n",
      "                  (fc1): Conv2d(672, 28, kernel_size=(1, 1), stride=(1, 1))\n",
      "                  (fc2): Conv2d(28, 672, kernel_size=(1, 1), stride=(1, 1))\n",
      "                  (activation): SiLU(inplace=True)\n",
      "                  (scale_activation): Sigmoid()\n",
      "                )\n",
      "                (3): Conv2dNormActivation(\n",
      "                  (0): Conv2d(672, 112, kernel_size=(1, 1), stride=(1, 1), bias=False)\n",
      "                  (1): BatchNorm2d(112, eps=1e-05, momentum=0.1, affine=True, track_running_stats=True)\n",
      "                )\n",
      "              )\n",
      "              (stochastic_depth): StochasticDepth(p=0.1125, mode=row)\n",
      "            )\n",
      "            (2): MBConv(\n",
      "              (block): Sequential(\n",
      "                (0): Conv2dNormActivation(\n",
      "                  (0): Conv2d(112, 672, kernel_size=(1, 1), stride=(1, 1), bias=False)\n",
      "                  (1): BatchNorm2d(672, eps=1e-05, momentum=0.1, affine=True, track_running_stats=True)\n",
      "                  (2): SiLU(inplace=True)\n",
      "                )\n",
      "                (1): Conv2dNormActivation(\n",
      "                  (0): Conv2d(672, 672, kernel_size=(5, 5), stride=(1, 1), padding=(2, 2), groups=672, bias=False)\n",
      "                  (1): BatchNorm2d(672, eps=1e-05, momentum=0.1, affine=True, track_running_stats=True)\n",
      "                  (2): SiLU(inplace=True)\n",
      "                )\n",
      "                (2): SqueezeExcitation(\n",
      "                  (avgpool): AdaptiveAvgPool2d(output_size=1)\n",
      "                  (fc1): Conv2d(672, 28, kernel_size=(1, 1), stride=(1, 1))\n",
      "                  (fc2): Conv2d(28, 672, kernel_size=(1, 1), stride=(1, 1))\n",
      "                  (activation): SiLU(inplace=True)\n",
      "                  (scale_activation): Sigmoid()\n",
      "                )\n",
      "                (3): Conv2dNormActivation(\n",
      "                  (0): Conv2d(672, 112, kernel_size=(1, 1), stride=(1, 1), bias=False)\n",
      "                  (1): BatchNorm2d(112, eps=1e-05, momentum=0.1, affine=True, track_running_stats=True)\n",
      "                )\n",
      "              )\n",
      "              (stochastic_depth): StochasticDepth(p=0.125, mode=row)\n",
      "            )\n",
      "          )\n",
      "          (6): Sequential(\n",
      "            (0): MBConv(\n",
      "              (block): Sequential(\n",
      "                (0): Conv2dNormActivation(\n",
      "                  (0): Conv2d(112, 672, kernel_size=(1, 1), stride=(1, 1), bias=False)\n",
      "                  (1): BatchNorm2d(672, eps=1e-05, momentum=0.1, affine=True, track_running_stats=True)\n",
      "                  (2): SiLU(inplace=True)\n",
      "                )\n",
      "                (1): Conv2dNormActivation(\n",
      "                  (0): Conv2d(672, 672, kernel_size=(5, 5), stride=(2, 2), padding=(2, 2), groups=672, bias=False)\n",
      "                  (1): BatchNorm2d(672, eps=1e-05, momentum=0.1, affine=True, track_running_stats=True)\n",
      "                  (2): SiLU(inplace=True)\n",
      "                )\n",
      "                (2): SqueezeExcitation(\n",
      "                  (avgpool): AdaptiveAvgPool2d(output_size=1)\n",
      "                  (fc1): Conv2d(672, 28, kernel_size=(1, 1), stride=(1, 1))\n",
      "                  (fc2): Conv2d(28, 672, kernel_size=(1, 1), stride=(1, 1))\n",
      "                  (activation): SiLU(inplace=True)\n",
      "                  (scale_activation): Sigmoid()\n",
      "                )\n",
      "                (3): Conv2dNormActivation(\n",
      "                  (0): Conv2d(672, 192, kernel_size=(1, 1), stride=(1, 1), bias=False)\n",
      "                  (1): BatchNorm2d(192, eps=1e-05, momentum=0.1, affine=True, track_running_stats=True)\n",
      "                )\n",
      "              )\n",
      "              (stochastic_depth): StochasticDepth(p=0.1375, mode=row)\n",
      "            )\n",
      "            (1): MBConv(\n",
      "              (block): Sequential(\n",
      "                (0): Conv2dNormActivation(\n",
      "                  (0): Conv2d(192, 1152, kernel_size=(1, 1), stride=(1, 1), bias=False)\n",
      "                  (1): BatchNorm2d(1152, eps=1e-05, momentum=0.1, affine=True, track_running_stats=True)\n",
      "                  (2): SiLU(inplace=True)\n",
      "                )\n",
      "                (1): Conv2dNormActivation(\n",
      "                  (0): Conv2d(1152, 1152, kernel_size=(5, 5), stride=(1, 1), padding=(2, 2), groups=1152, bias=False)\n",
      "                  (1): BatchNorm2d(1152, eps=1e-05, momentum=0.1, affine=True, track_running_stats=True)\n",
      "                  (2): SiLU(inplace=True)\n",
      "                )\n",
      "                (2): SqueezeExcitation(\n",
      "                  (avgpool): AdaptiveAvgPool2d(output_size=1)\n",
      "                  (fc1): Conv2d(1152, 48, kernel_size=(1, 1), stride=(1, 1))\n",
      "                  (fc2): Conv2d(48, 1152, kernel_size=(1, 1), stride=(1, 1))\n",
      "                  (activation): SiLU(inplace=True)\n",
      "                  (scale_activation): Sigmoid()\n",
      "                )\n",
      "                (3): Conv2dNormActivation(\n",
      "                  (0): Conv2d(1152, 192, kernel_size=(1, 1), stride=(1, 1), bias=False)\n",
      "                  (1): BatchNorm2d(192, eps=1e-05, momentum=0.1, affine=True, track_running_stats=True)\n",
      "                )\n",
      "              )\n",
      "              (stochastic_depth): StochasticDepth(p=0.15000000000000002, mode=row)\n",
      "            )\n",
      "            (2): MBConv(\n",
      "              (block): Sequential(\n",
      "                (0): Conv2dNormActivation(\n",
      "                  (0): Conv2d(192, 1152, kernel_size=(1, 1), stride=(1, 1), bias=False)\n",
      "                  (1): BatchNorm2d(1152, eps=1e-05, momentum=0.1, affine=True, track_running_stats=True)\n",
      "                  (2): SiLU(inplace=True)\n",
      "                )\n",
      "                (1): Conv2dNormActivation(\n",
      "                  (0): Conv2d(1152, 1152, kernel_size=(5, 5), stride=(1, 1), padding=(2, 2), groups=1152, bias=False)\n",
      "                  (1): BatchNorm2d(1152, eps=1e-05, momentum=0.1, affine=True, track_running_stats=True)\n",
      "                  (2): SiLU(inplace=True)\n",
      "                )\n",
      "                (2): SqueezeExcitation(\n",
      "                  (avgpool): AdaptiveAvgPool2d(output_size=1)\n",
      "                  (fc1): Conv2d(1152, 48, kernel_size=(1, 1), stride=(1, 1))\n",
      "                  (fc2): Conv2d(48, 1152, kernel_size=(1, 1), stride=(1, 1))\n",
      "                  (activation): SiLU(inplace=True)\n",
      "                  (scale_activation): Sigmoid()\n",
      "                )\n",
      "                (3): Conv2dNormActivation(\n",
      "                  (0): Conv2d(1152, 192, kernel_size=(1, 1), stride=(1, 1), bias=False)\n",
      "                  (1): BatchNorm2d(192, eps=1e-05, momentum=0.1, affine=True, track_running_stats=True)\n",
      "                )\n",
      "              )\n",
      "              (stochastic_depth): StochasticDepth(p=0.1625, mode=row)\n",
      "            )\n",
      "            (3): MBConv(\n",
      "              (block): Sequential(\n",
      "                (0): Conv2dNormActivation(\n",
      "                  (0): Conv2d(192, 1152, kernel_size=(1, 1), stride=(1, 1), bias=False)\n",
      "                  (1): BatchNorm2d(1152, eps=1e-05, momentum=0.1, affine=True, track_running_stats=True)\n",
      "                  (2): SiLU(inplace=True)\n",
      "                )\n",
      "                (1): Conv2dNormActivation(\n",
      "                  (0): Conv2d(1152, 1152, kernel_size=(5, 5), stride=(1, 1), padding=(2, 2), groups=1152, bias=False)\n",
      "                  (1): BatchNorm2d(1152, eps=1e-05, momentum=0.1, affine=True, track_running_stats=True)\n",
      "                  (2): SiLU(inplace=True)\n",
      "                )\n",
      "                (2): SqueezeExcitation(\n",
      "                  (avgpool): AdaptiveAvgPool2d(output_size=1)\n",
      "                  (fc1): Conv2d(1152, 48, kernel_size=(1, 1), stride=(1, 1))\n",
      "                  (fc2): Conv2d(48, 1152, kernel_size=(1, 1), stride=(1, 1))\n",
      "                  (activation): SiLU(inplace=True)\n",
      "                  (scale_activation): Sigmoid()\n",
      "                )\n",
      "                (3): Conv2dNormActivation(\n",
      "                  (0): Conv2d(1152, 192, kernel_size=(1, 1), stride=(1, 1), bias=False)\n",
      "                  (1): BatchNorm2d(192, eps=1e-05, momentum=0.1, affine=True, track_running_stats=True)\n",
      "                )\n",
      "              )\n",
      "              (stochastic_depth): StochasticDepth(p=0.17500000000000002, mode=row)\n",
      "            )\n",
      "          )\n",
      "          (7): Sequential(\n",
      "            (0): MBConv(\n",
      "              (block): Sequential(\n",
      "                (0): Conv2dNormActivation(\n",
      "                  (0): Conv2d(192, 1152, kernel_size=(1, 1), stride=(1, 1), bias=False)\n",
      "                  (1): BatchNorm2d(1152, eps=1e-05, momentum=0.1, affine=True, track_running_stats=True)\n",
      "                  (2): SiLU(inplace=True)\n",
      "                )\n",
      "                (1): Conv2dNormActivation(\n",
      "                  (0): Conv2d(1152, 1152, kernel_size=(3, 3), stride=(1, 1), padding=(1, 1), groups=1152, bias=False)\n",
      "                  (1): BatchNorm2d(1152, eps=1e-05, momentum=0.1, affine=True, track_running_stats=True)\n",
      "                  (2): SiLU(inplace=True)\n",
      "                )\n",
      "                (2): SqueezeExcitation(\n",
      "                  (avgpool): AdaptiveAvgPool2d(output_size=1)\n",
      "                  (fc1): Conv2d(1152, 48, kernel_size=(1, 1), stride=(1, 1))\n",
      "                  (fc2): Conv2d(48, 1152, kernel_size=(1, 1), stride=(1, 1))\n",
      "                  (activation): SiLU(inplace=True)\n",
      "                  (scale_activation): Sigmoid()\n",
      "                )\n",
      "                (3): Conv2dNormActivation(\n",
      "                  (0): Conv2d(1152, 320, kernel_size=(1, 1), stride=(1, 1), bias=False)\n",
      "                  (1): BatchNorm2d(320, eps=1e-05, momentum=0.1, affine=True, track_running_stats=True)\n",
      "                )\n",
      "              )\n",
      "              (stochastic_depth): StochasticDepth(p=0.1875, mode=row)\n",
      "            )\n",
      "          )\n",
      "          (8): Conv2dNormActivation(\n",
      "            (0): Conv2d(320, 1280, kernel_size=(1, 1), stride=(1, 1), bias=False)\n",
      "            (1): BatchNorm2d(1280, eps=1e-05, momentum=0.1, affine=True, track_running_stats=True)\n",
      "            (2): SiLU(inplace=True)\n",
      "          )\n",
      "        )\n",
      "        (avgpool): AdaptiveAvgPool2d(output_size=1)\n",
      "        (classifier): Sequential(\n",
      "          (0): Dropout(p=0.2, inplace=True)\n",
      "          (1): Linear(in_features=1280, out_features=1000, bias=True)\n",
      "        )\n",
      "      )\n",
      "      (feature_layers): ModuleDict(\n",
      "        (P3): Sequential(\n",
      "          (0): Sequential(\n",
      "            (0): Conv2dNormActivation(\n",
      "              (0): Conv2d(3, 32, kernel_size=(3, 3), stride=(2, 2), padding=(1, 1), bias=False)\n",
      "              (1): BatchNorm2d(32, eps=1e-05, momentum=0.1, affine=True, track_running_stats=True)\n",
      "              (2): SiLU(inplace=True)\n",
      "            )\n",
      "            (1): Sequential(\n",
      "              (0): MBConv(\n",
      "                (block): Sequential(\n",
      "                  (0): Conv2dNormActivation(\n",
      "                    (0): Conv2d(32, 32, kernel_size=(3, 3), stride=(1, 1), padding=(1, 1), groups=32, bias=False)\n",
      "                    (1): BatchNorm2d(32, eps=1e-05, momentum=0.1, affine=True, track_running_stats=True)\n",
      "                    (2): SiLU(inplace=True)\n",
      "                  )\n",
      "                  (1): SqueezeExcitation(\n",
      "                    (avgpool): AdaptiveAvgPool2d(output_size=1)\n",
      "                    (fc1): Conv2d(32, 8, kernel_size=(1, 1), stride=(1, 1))\n",
      "                    (fc2): Conv2d(8, 32, kernel_size=(1, 1), stride=(1, 1))\n",
      "                    (activation): SiLU(inplace=True)\n",
      "                    (scale_activation): Sigmoid()\n",
      "                  )\n",
      "                  (2): Conv2dNormActivation(\n",
      "                    (0): Conv2d(32, 16, kernel_size=(1, 1), stride=(1, 1), bias=False)\n",
      "                    (1): BatchNorm2d(16, eps=1e-05, momentum=0.1, affine=True, track_running_stats=True)\n",
      "                  )\n",
      "                )\n",
      "                (stochastic_depth): StochasticDepth(p=0.0, mode=row)\n",
      "              )\n",
      "            )\n",
      "            (2): Sequential(\n",
      "              (0): MBConv(\n",
      "                (block): Sequential(\n",
      "                  (0): Conv2dNormActivation(\n",
      "                    (0): Conv2d(16, 96, kernel_size=(1, 1), stride=(1, 1), bias=False)\n",
      "                    (1): BatchNorm2d(96, eps=1e-05, momentum=0.1, affine=True, track_running_stats=True)\n",
      "                    (2): SiLU(inplace=True)\n",
      "                  )\n",
      "                  (1): Conv2dNormActivation(\n",
      "                    (0): Conv2d(96, 96, kernel_size=(3, 3), stride=(2, 2), padding=(1, 1), groups=96, bias=False)\n",
      "                    (1): BatchNorm2d(96, eps=1e-05, momentum=0.1, affine=True, track_running_stats=True)\n",
      "                    (2): SiLU(inplace=True)\n",
      "                  )\n",
      "                  (2): SqueezeExcitation(\n",
      "                    (avgpool): AdaptiveAvgPool2d(output_size=1)\n",
      "                    (fc1): Conv2d(96, 4, kernel_size=(1, 1), stride=(1, 1))\n",
      "                    (fc2): Conv2d(4, 96, kernel_size=(1, 1), stride=(1, 1))\n",
      "                    (activation): SiLU(inplace=True)\n",
      "                    (scale_activation): Sigmoid()\n",
      "                  )\n",
      "                  (3): Conv2dNormActivation(\n",
      "                    (0): Conv2d(96, 24, kernel_size=(1, 1), stride=(1, 1), bias=False)\n",
      "                    (1): BatchNorm2d(24, eps=1e-05, momentum=0.1, affine=True, track_running_stats=True)\n",
      "                  )\n",
      "                )\n",
      "                (stochastic_depth): StochasticDepth(p=0.0125, mode=row)\n",
      "              )\n",
      "              (1): MBConv(\n",
      "                (block): Sequential(\n",
      "                  (0): Conv2dNormActivation(\n",
      "                    (0): Conv2d(24, 144, kernel_size=(1, 1), stride=(1, 1), bias=False)\n",
      "                    (1): BatchNorm2d(144, eps=1e-05, momentum=0.1, affine=True, track_running_stats=True)\n",
      "                    (2): SiLU(inplace=True)\n",
      "                  )\n",
      "                  (1): Conv2dNormActivation(\n",
      "                    (0): Conv2d(144, 144, kernel_size=(3, 3), stride=(1, 1), padding=(1, 1), groups=144, bias=False)\n",
      "                    (1): BatchNorm2d(144, eps=1e-05, momentum=0.1, affine=True, track_running_stats=True)\n",
      "                    (2): SiLU(inplace=True)\n",
      "                  )\n",
      "                  (2): SqueezeExcitation(\n",
      "                    (avgpool): AdaptiveAvgPool2d(output_size=1)\n",
      "                    (fc1): Conv2d(144, 6, kernel_size=(1, 1), stride=(1, 1))\n",
      "                    (fc2): Conv2d(6, 144, kernel_size=(1, 1), stride=(1, 1))\n",
      "                    (activation): SiLU(inplace=True)\n",
      "                    (scale_activation): Sigmoid()\n",
      "                  )\n",
      "                  (3): Conv2dNormActivation(\n",
      "                    (0): Conv2d(144, 24, kernel_size=(1, 1), stride=(1, 1), bias=False)\n",
      "                    (1): BatchNorm2d(24, eps=1e-05, momentum=0.1, affine=True, track_running_stats=True)\n",
      "                  )\n",
      "                )\n",
      "                (stochastic_depth): StochasticDepth(p=0.025, mode=row)\n",
      "              )\n",
      "            )\n",
      "          )\n",
      "        )\n",
      "        (P4): Sequential(\n",
      "          (0): Sequential(\n",
      "            (3): Sequential(\n",
      "              (0): MBConv(\n",
      "                (block): Sequential(\n",
      "                  (0): Conv2dNormActivation(\n",
      "                    (0): Conv2d(24, 144, kernel_size=(1, 1), stride=(1, 1), bias=False)\n",
      "                    (1): BatchNorm2d(144, eps=1e-05, momentum=0.1, affine=True, track_running_stats=True)\n",
      "                    (2): SiLU(inplace=True)\n",
      "                  )\n",
      "                  (1): Conv2dNormActivation(\n",
      "                    (0): Conv2d(144, 144, kernel_size=(5, 5), stride=(2, 2), padding=(2, 2), groups=144, bias=False)\n",
      "                    (1): BatchNorm2d(144, eps=1e-05, momentum=0.1, affine=True, track_running_stats=True)\n",
      "                    (2): SiLU(inplace=True)\n",
      "                  )\n",
      "                  (2): SqueezeExcitation(\n",
      "                    (avgpool): AdaptiveAvgPool2d(output_size=1)\n",
      "                    (fc1): Conv2d(144, 6, kernel_size=(1, 1), stride=(1, 1))\n",
      "                    (fc2): Conv2d(6, 144, kernel_size=(1, 1), stride=(1, 1))\n",
      "                    (activation): SiLU(inplace=True)\n",
      "                    (scale_activation): Sigmoid()\n",
      "                  )\n",
      "                  (3): Conv2dNormActivation(\n",
      "                    (0): Conv2d(144, 40, kernel_size=(1, 1), stride=(1, 1), bias=False)\n",
      "                    (1): BatchNorm2d(40, eps=1e-05, momentum=0.1, affine=True, track_running_stats=True)\n",
      "                  )\n",
      "                )\n",
      "                (stochastic_depth): StochasticDepth(p=0.037500000000000006, mode=row)\n",
      "              )\n",
      "              (1): MBConv(\n",
      "                (block): Sequential(\n",
      "                  (0): Conv2dNormActivation(\n",
      "                    (0): Conv2d(40, 240, kernel_size=(1, 1), stride=(1, 1), bias=False)\n",
      "                    (1): BatchNorm2d(240, eps=1e-05, momentum=0.1, affine=True, track_running_stats=True)\n",
      "                    (2): SiLU(inplace=True)\n",
      "                  )\n",
      "                  (1): Conv2dNormActivation(\n",
      "                    (0): Conv2d(240, 240, kernel_size=(5, 5), stride=(1, 1), padding=(2, 2), groups=240, bias=False)\n",
      "                    (1): BatchNorm2d(240, eps=1e-05, momentum=0.1, affine=True, track_running_stats=True)\n",
      "                    (2): SiLU(inplace=True)\n",
      "                  )\n",
      "                  (2): SqueezeExcitation(\n",
      "                    (avgpool): AdaptiveAvgPool2d(output_size=1)\n",
      "                    (fc1): Conv2d(240, 10, kernel_size=(1, 1), stride=(1, 1))\n",
      "                    (fc2): Conv2d(10, 240, kernel_size=(1, 1), stride=(1, 1))\n",
      "                    (activation): SiLU(inplace=True)\n",
      "                    (scale_activation): Sigmoid()\n",
      "                  )\n",
      "                  (3): Conv2dNormActivation(\n",
      "                    (0): Conv2d(240, 40, kernel_size=(1, 1), stride=(1, 1), bias=False)\n",
      "                    (1): BatchNorm2d(40, eps=1e-05, momentum=0.1, affine=True, track_running_stats=True)\n",
      "                  )\n",
      "                )\n",
      "                (stochastic_depth): StochasticDepth(p=0.05, mode=row)\n",
      "              )\n",
      "            )\n",
      "            (4): Sequential(\n",
      "              (0): MBConv(\n",
      "                (block): Sequential(\n",
      "                  (0): Conv2dNormActivation(\n",
      "                    (0): Conv2d(40, 240, kernel_size=(1, 1), stride=(1, 1), bias=False)\n",
      "                    (1): BatchNorm2d(240, eps=1e-05, momentum=0.1, affine=True, track_running_stats=True)\n",
      "                    (2): SiLU(inplace=True)\n",
      "                  )\n",
      "                  (1): Conv2dNormActivation(\n",
      "                    (0): Conv2d(240, 240, kernel_size=(3, 3), stride=(2, 2), padding=(1, 1), groups=240, bias=False)\n",
      "                    (1): BatchNorm2d(240, eps=1e-05, momentum=0.1, affine=True, track_running_stats=True)\n",
      "                    (2): SiLU(inplace=True)\n",
      "                  )\n",
      "                  (2): SqueezeExcitation(\n",
      "                    (avgpool): AdaptiveAvgPool2d(output_size=1)\n",
      "                    (fc1): Conv2d(240, 10, kernel_size=(1, 1), stride=(1, 1))\n",
      "                    (fc2): Conv2d(10, 240, kernel_size=(1, 1), stride=(1, 1))\n",
      "                    (activation): SiLU(inplace=True)\n",
      "                    (scale_activation): Sigmoid()\n",
      "                  )\n",
      "                  (3): Conv2dNormActivation(\n",
      "                    (0): Conv2d(240, 80, kernel_size=(1, 1), stride=(1, 1), bias=False)\n",
      "                    (1): BatchNorm2d(80, eps=1e-05, momentum=0.1, affine=True, track_running_stats=True)\n",
      "                  )\n",
      "                )\n",
      "                (stochastic_depth): StochasticDepth(p=0.0625, mode=row)\n",
      "              )\n",
      "              (1): MBConv(\n",
      "                (block): Sequential(\n",
      "                  (0): Conv2dNormActivation(\n",
      "                    (0): Conv2d(80, 480, kernel_size=(1, 1), stride=(1, 1), bias=False)\n",
      "                    (1): BatchNorm2d(480, eps=1e-05, momentum=0.1, affine=True, track_running_stats=True)\n",
      "                    (2): SiLU(inplace=True)\n",
      "                  )\n",
      "                  (1): Conv2dNormActivation(\n",
      "                    (0): Conv2d(480, 480, kernel_size=(3, 3), stride=(1, 1), padding=(1, 1), groups=480, bias=False)\n",
      "                    (1): BatchNorm2d(480, eps=1e-05, momentum=0.1, affine=True, track_running_stats=True)\n",
      "                    (2): SiLU(inplace=True)\n",
      "                  )\n",
      "                  (2): SqueezeExcitation(\n",
      "                    (avgpool): AdaptiveAvgPool2d(output_size=1)\n",
      "                    (fc1): Conv2d(480, 20, kernel_size=(1, 1), stride=(1, 1))\n",
      "                    (fc2): Conv2d(20, 480, kernel_size=(1, 1), stride=(1, 1))\n",
      "                    (activation): SiLU(inplace=True)\n",
      "                    (scale_activation): Sigmoid()\n",
      "                  )\n",
      "                  (3): Conv2dNormActivation(\n",
      "                    (0): Conv2d(480, 80, kernel_size=(1, 1), stride=(1, 1), bias=False)\n",
      "                    (1): BatchNorm2d(80, eps=1e-05, momentum=0.1, affine=True, track_running_stats=True)\n",
      "                  )\n",
      "                )\n",
      "                (stochastic_depth): StochasticDepth(p=0.07500000000000001, mode=row)\n",
      "              )\n",
      "              (2): MBConv(\n",
      "                (block): Sequential(\n",
      "                  (0): Conv2dNormActivation(\n",
      "                    (0): Conv2d(80, 480, kernel_size=(1, 1), stride=(1, 1), bias=False)\n",
      "                    (1): BatchNorm2d(480, eps=1e-05, momentum=0.1, affine=True, track_running_stats=True)\n",
      "                    (2): SiLU(inplace=True)\n",
      "                  )\n",
      "                  (1): Conv2dNormActivation(\n",
      "                    (0): Conv2d(480, 480, kernel_size=(3, 3), stride=(1, 1), padding=(1, 1), groups=480, bias=False)\n",
      "                    (1): BatchNorm2d(480, eps=1e-05, momentum=0.1, affine=True, track_running_stats=True)\n",
      "                    (2): SiLU(inplace=True)\n",
      "                  )\n",
      "                  (2): SqueezeExcitation(\n",
      "                    (avgpool): AdaptiveAvgPool2d(output_size=1)\n",
      "                    (fc1): Conv2d(480, 20, kernel_size=(1, 1), stride=(1, 1))\n",
      "                    (fc2): Conv2d(20, 480, kernel_size=(1, 1), stride=(1, 1))\n",
      "                    (activation): SiLU(inplace=True)\n",
      "                    (scale_activation): Sigmoid()\n",
      "                  )\n",
      "                  (3): Conv2dNormActivation(\n",
      "                    (0): Conv2d(480, 80, kernel_size=(1, 1), stride=(1, 1), bias=False)\n",
      "                    (1): BatchNorm2d(80, eps=1e-05, momentum=0.1, affine=True, track_running_stats=True)\n",
      "                  )\n",
      "                )\n",
      "                (stochastic_depth): StochasticDepth(p=0.08750000000000001, mode=row)\n",
      "              )\n",
      "            )\n",
      "          )\n",
      "        )\n",
      "        (P5): Sequential(\n",
      "          (0): Sequential(\n",
      "            (5): Sequential(\n",
      "              (0): MBConv(\n",
      "                (block): Sequential(\n",
      "                  (0): Conv2dNormActivation(\n",
      "                    (0): Conv2d(80, 480, kernel_size=(1, 1), stride=(1, 1), bias=False)\n",
      "                    (1): BatchNorm2d(480, eps=1e-05, momentum=0.1, affine=True, track_running_stats=True)\n",
      "                    (2): SiLU(inplace=True)\n",
      "                  )\n",
      "                  (1): Conv2dNormActivation(\n",
      "                    (0): Conv2d(480, 480, kernel_size=(5, 5), stride=(1, 1), padding=(2, 2), groups=480, bias=False)\n",
      "                    (1): BatchNorm2d(480, eps=1e-05, momentum=0.1, affine=True, track_running_stats=True)\n",
      "                    (2): SiLU(inplace=True)\n",
      "                  )\n",
      "                  (2): SqueezeExcitation(\n",
      "                    (avgpool): AdaptiveAvgPool2d(output_size=1)\n",
      "                    (fc1): Conv2d(480, 20, kernel_size=(1, 1), stride=(1, 1))\n",
      "                    (fc2): Conv2d(20, 480, kernel_size=(1, 1), stride=(1, 1))\n",
      "                    (activation): SiLU(inplace=True)\n",
      "                    (scale_activation): Sigmoid()\n",
      "                  )\n",
      "                  (3): Conv2dNormActivation(\n",
      "                    (0): Conv2d(480, 112, kernel_size=(1, 1), stride=(1, 1), bias=False)\n",
      "                    (1): BatchNorm2d(112, eps=1e-05, momentum=0.1, affine=True, track_running_stats=True)\n",
      "                  )\n",
      "                )\n",
      "                (stochastic_depth): StochasticDepth(p=0.1, mode=row)\n",
      "              )\n",
      "              (1): MBConv(\n",
      "                (block): Sequential(\n",
      "                  (0): Conv2dNormActivation(\n",
      "                    (0): Conv2d(112, 672, kernel_size=(1, 1), stride=(1, 1), bias=False)\n",
      "                    (1): BatchNorm2d(672, eps=1e-05, momentum=0.1, affine=True, track_running_stats=True)\n",
      "                    (2): SiLU(inplace=True)\n",
      "                  )\n",
      "                  (1): Conv2dNormActivation(\n",
      "                    (0): Conv2d(672, 672, kernel_size=(5, 5), stride=(1, 1), padding=(2, 2), groups=672, bias=False)\n",
      "                    (1): BatchNorm2d(672, eps=1e-05, momentum=0.1, affine=True, track_running_stats=True)\n",
      "                    (2): SiLU(inplace=True)\n",
      "                  )\n",
      "                  (2): SqueezeExcitation(\n",
      "                    (avgpool): AdaptiveAvgPool2d(output_size=1)\n",
      "                    (fc1): Conv2d(672, 28, kernel_size=(1, 1), stride=(1, 1))\n",
      "                    (fc2): Conv2d(28, 672, kernel_size=(1, 1), stride=(1, 1))\n",
      "                    (activation): SiLU(inplace=True)\n",
      "                    (scale_activation): Sigmoid()\n",
      "                  )\n",
      "                  (3): Conv2dNormActivation(\n",
      "                    (0): Conv2d(672, 112, kernel_size=(1, 1), stride=(1, 1), bias=False)\n",
      "                    (1): BatchNorm2d(112, eps=1e-05, momentum=0.1, affine=True, track_running_stats=True)\n",
      "                  )\n",
      "                )\n",
      "                (stochastic_depth): StochasticDepth(p=0.1125, mode=row)\n",
      "              )\n",
      "              (2): MBConv(\n",
      "                (block): Sequential(\n",
      "                  (0): Conv2dNormActivation(\n",
      "                    (0): Conv2d(112, 672, kernel_size=(1, 1), stride=(1, 1), bias=False)\n",
      "                    (1): BatchNorm2d(672, eps=1e-05, momentum=0.1, affine=True, track_running_stats=True)\n",
      "                    (2): SiLU(inplace=True)\n",
      "                  )\n",
      "                  (1): Conv2dNormActivation(\n",
      "                    (0): Conv2d(672, 672, kernel_size=(5, 5), stride=(1, 1), padding=(2, 2), groups=672, bias=False)\n",
      "                    (1): BatchNorm2d(672, eps=1e-05, momentum=0.1, affine=True, track_running_stats=True)\n",
      "                    (2): SiLU(inplace=True)\n",
      "                  )\n",
      "                  (2): SqueezeExcitation(\n",
      "                    (avgpool): AdaptiveAvgPool2d(output_size=1)\n",
      "                    (fc1): Conv2d(672, 28, kernel_size=(1, 1), stride=(1, 1))\n",
      "                    (fc2): Conv2d(28, 672, kernel_size=(1, 1), stride=(1, 1))\n",
      "                    (activation): SiLU(inplace=True)\n",
      "                    (scale_activation): Sigmoid()\n",
      "                  )\n",
      "                  (3): Conv2dNormActivation(\n",
      "                    (0): Conv2d(672, 112, kernel_size=(1, 1), stride=(1, 1), bias=False)\n",
      "                    (1): BatchNorm2d(112, eps=1e-05, momentum=0.1, affine=True, track_running_stats=True)\n",
      "                  )\n",
      "                )\n",
      "                (stochastic_depth): StochasticDepth(p=0.125, mode=row)\n",
      "              )\n",
      "            )\n",
      "            (6): Sequential(\n",
      "              (0): MBConv(\n",
      "                (block): Sequential(\n",
      "                  (0): Conv2dNormActivation(\n",
      "                    (0): Conv2d(112, 672, kernel_size=(1, 1), stride=(1, 1), bias=False)\n",
      "                    (1): BatchNorm2d(672, eps=1e-05, momentum=0.1, affine=True, track_running_stats=True)\n",
      "                    (2): SiLU(inplace=True)\n",
      "                  )\n",
      "                  (1): Conv2dNormActivation(\n",
      "                    (0): Conv2d(672, 672, kernel_size=(5, 5), stride=(2, 2), padding=(2, 2), groups=672, bias=False)\n",
      "                    (1): BatchNorm2d(672, eps=1e-05, momentum=0.1, affine=True, track_running_stats=True)\n",
      "                    (2): SiLU(inplace=True)\n",
      "                  )\n",
      "                  (2): SqueezeExcitation(\n",
      "                    (avgpool): AdaptiveAvgPool2d(output_size=1)\n",
      "                    (fc1): Conv2d(672, 28, kernel_size=(1, 1), stride=(1, 1))\n",
      "                    (fc2): Conv2d(28, 672, kernel_size=(1, 1), stride=(1, 1))\n",
      "                    (activation): SiLU(inplace=True)\n",
      "                    (scale_activation): Sigmoid()\n",
      "                  )\n",
      "                  (3): Conv2dNormActivation(\n",
      "                    (0): Conv2d(672, 192, kernel_size=(1, 1), stride=(1, 1), bias=False)\n",
      "                    (1): BatchNorm2d(192, eps=1e-05, momentum=0.1, affine=True, track_running_stats=True)\n",
      "                  )\n",
      "                )\n",
      "                (stochastic_depth): StochasticDepth(p=0.1375, mode=row)\n",
      "              )\n",
      "              (1): MBConv(\n",
      "                (block): Sequential(\n",
      "                  (0): Conv2dNormActivation(\n",
      "                    (0): Conv2d(192, 1152, kernel_size=(1, 1), stride=(1, 1), bias=False)\n",
      "                    (1): BatchNorm2d(1152, eps=1e-05, momentum=0.1, affine=True, track_running_stats=True)\n",
      "                    (2): SiLU(inplace=True)\n",
      "                  )\n",
      "                  (1): Conv2dNormActivation(\n",
      "                    (0): Conv2d(1152, 1152, kernel_size=(5, 5), stride=(1, 1), padding=(2, 2), groups=1152, bias=False)\n",
      "                    (1): BatchNorm2d(1152, eps=1e-05, momentum=0.1, affine=True, track_running_stats=True)\n",
      "                    (2): SiLU(inplace=True)\n",
      "                  )\n",
      "                  (2): SqueezeExcitation(\n",
      "                    (avgpool): AdaptiveAvgPool2d(output_size=1)\n",
      "                    (fc1): Conv2d(1152, 48, kernel_size=(1, 1), stride=(1, 1))\n",
      "                    (fc2): Conv2d(48, 1152, kernel_size=(1, 1), stride=(1, 1))\n",
      "                    (activation): SiLU(inplace=True)\n",
      "                    (scale_activation): Sigmoid()\n",
      "                  )\n",
      "                  (3): Conv2dNormActivation(\n",
      "                    (0): Conv2d(1152, 192, kernel_size=(1, 1), stride=(1, 1), bias=False)\n",
      "                    (1): BatchNorm2d(192, eps=1e-05, momentum=0.1, affine=True, track_running_stats=True)\n",
      "                  )\n",
      "                )\n",
      "                (stochastic_depth): StochasticDepth(p=0.15000000000000002, mode=row)\n",
      "              )\n",
      "              (2): MBConv(\n",
      "                (block): Sequential(\n",
      "                  (0): Conv2dNormActivation(\n",
      "                    (0): Conv2d(192, 1152, kernel_size=(1, 1), stride=(1, 1), bias=False)\n",
      "                    (1): BatchNorm2d(1152, eps=1e-05, momentum=0.1, affine=True, track_running_stats=True)\n",
      "                    (2): SiLU(inplace=True)\n",
      "                  )\n",
      "                  (1): Conv2dNormActivation(\n",
      "                    (0): Conv2d(1152, 1152, kernel_size=(5, 5), stride=(1, 1), padding=(2, 2), groups=1152, bias=False)\n",
      "                    (1): BatchNorm2d(1152, eps=1e-05, momentum=0.1, affine=True, track_running_stats=True)\n",
      "                    (2): SiLU(inplace=True)\n",
      "                  )\n",
      "                  (2): SqueezeExcitation(\n",
      "                    (avgpool): AdaptiveAvgPool2d(output_size=1)\n",
      "                    (fc1): Conv2d(1152, 48, kernel_size=(1, 1), stride=(1, 1))\n",
      "                    (fc2): Conv2d(48, 1152, kernel_size=(1, 1), stride=(1, 1))\n",
      "                    (activation): SiLU(inplace=True)\n",
      "                    (scale_activation): Sigmoid()\n",
      "                  )\n",
      "                  (3): Conv2dNormActivation(\n",
      "                    (0): Conv2d(1152, 192, kernel_size=(1, 1), stride=(1, 1), bias=False)\n",
      "                    (1): BatchNorm2d(192, eps=1e-05, momentum=0.1, affine=True, track_running_stats=True)\n",
      "                  )\n",
      "                )\n",
      "                (stochastic_depth): StochasticDepth(p=0.1625, mode=row)\n",
      "              )\n",
      "              (3): MBConv(\n",
      "                (block): Sequential(\n",
      "                  (0): Conv2dNormActivation(\n",
      "                    (0): Conv2d(192, 1152, kernel_size=(1, 1), stride=(1, 1), bias=False)\n",
      "                    (1): BatchNorm2d(1152, eps=1e-05, momentum=0.1, affine=True, track_running_stats=True)\n",
      "                    (2): SiLU(inplace=True)\n",
      "                  )\n",
      "                  (1): Conv2dNormActivation(\n",
      "                    (0): Conv2d(1152, 1152, kernel_size=(5, 5), stride=(1, 1), padding=(2, 2), groups=1152, bias=False)\n",
      "                    (1): BatchNorm2d(1152, eps=1e-05, momentum=0.1, affine=True, track_running_stats=True)\n",
      "                    (2): SiLU(inplace=True)\n",
      "                  )\n",
      "                  (2): SqueezeExcitation(\n",
      "                    (avgpool): AdaptiveAvgPool2d(output_size=1)\n",
      "                    (fc1): Conv2d(1152, 48, kernel_size=(1, 1), stride=(1, 1))\n",
      "                    (fc2): Conv2d(48, 1152, kernel_size=(1, 1), stride=(1, 1))\n",
      "                    (activation): SiLU(inplace=True)\n",
      "                    (scale_activation): Sigmoid()\n",
      "                  )\n",
      "                  (3): Conv2dNormActivation(\n",
      "                    (0): Conv2d(1152, 192, kernel_size=(1, 1), stride=(1, 1), bias=False)\n",
      "                    (1): BatchNorm2d(192, eps=1e-05, momentum=0.1, affine=True, track_running_stats=True)\n",
      "                  )\n",
      "                )\n",
      "                (stochastic_depth): StochasticDepth(p=0.17500000000000002, mode=row)\n",
      "              )\n",
      "            )\n",
      "            (7): Sequential(\n",
      "              (0): MBConv(\n",
      "                (block): Sequential(\n",
      "                  (0): Conv2dNormActivation(\n",
      "                    (0): Conv2d(192, 1152, kernel_size=(1, 1), stride=(1, 1), bias=False)\n",
      "                    (1): BatchNorm2d(1152, eps=1e-05, momentum=0.1, affine=True, track_running_stats=True)\n",
      "                    (2): SiLU(inplace=True)\n",
      "                  )\n",
      "                  (1): Conv2dNormActivation(\n",
      "                    (0): Conv2d(1152, 1152, kernel_size=(3, 3), stride=(1, 1), padding=(1, 1), groups=1152, bias=False)\n",
      "                    (1): BatchNorm2d(1152, eps=1e-05, momentum=0.1, affine=True, track_running_stats=True)\n",
      "                    (2): SiLU(inplace=True)\n",
      "                  )\n",
      "                  (2): SqueezeExcitation(\n",
      "                    (avgpool): AdaptiveAvgPool2d(output_size=1)\n",
      "                    (fc1): Conv2d(1152, 48, kernel_size=(1, 1), stride=(1, 1))\n",
      "                    (fc2): Conv2d(48, 1152, kernel_size=(1, 1), stride=(1, 1))\n",
      "                    (activation): SiLU(inplace=True)\n",
      "                    (scale_activation): Sigmoid()\n",
      "                  )\n",
      "                  (3): Conv2dNormActivation(\n",
      "                    (0): Conv2d(1152, 320, kernel_size=(1, 1), stride=(1, 1), bias=False)\n",
      "                    (1): BatchNorm2d(320, eps=1e-05, momentum=0.1, affine=True, track_running_stats=True)\n",
      "                  )\n",
      "                )\n",
      "                (stochastic_depth): StochasticDepth(p=0.1875, mode=row)\n",
      "              )\n",
      "            )\n",
      "            (8): Conv2dNormActivation(\n",
      "              (0): Conv2d(320, 1280, kernel_size=(1, 1), stride=(1, 1), bias=False)\n",
      "              (1): BatchNorm2d(1280, eps=1e-05, momentum=0.1, affine=True, track_running_stats=True)\n",
      "              (2): SiLU(inplace=True)\n",
      "            )\n",
      "          )\n",
      "        )\n",
      "      )\n",
      "      (channel_adapter): ModuleList(\n",
      "        (0): Conv2d(24, 256, kernel_size=(1, 1), stride=(1, 1))\n",
      "        (1): Conv2d(40, 512, kernel_size=(1, 1), stride=(1, 1))\n",
      "        (2): Conv2d(112, 1024, kernel_size=(1, 1), stride=(1, 1))\n",
      "      )\n",
      "    )\n",
      "    (1): Conv(\n",
      "      (conv): Conv2d(16, 32, kernel_size=(3, 3), stride=(2, 2), padding=(1, 1), bias=False)\n",
      "      (bn): BatchNorm2d(32, eps=0.001, momentum=0.03, affine=True, track_running_stats=True)\n",
      "      (act): SiLU(inplace=True)\n",
      "    )\n",
      "    (2): C2f(\n",
      "      (cv1): Conv(\n",
      "        (conv): Conv2d(32, 32, kernel_size=(1, 1), stride=(1, 1), bias=False)\n",
      "        (bn): BatchNorm2d(32, eps=0.001, momentum=0.03, affine=True, track_running_stats=True)\n",
      "        (act): SiLU(inplace=True)\n",
      "      )\n",
      "      (cv2): Conv(\n",
      "        (conv): Conv2d(48, 32, kernel_size=(1, 1), stride=(1, 1), bias=False)\n",
      "        (bn): BatchNorm2d(32, eps=0.001, momentum=0.03, affine=True, track_running_stats=True)\n",
      "        (act): SiLU(inplace=True)\n",
      "      )\n",
      "      (m): ModuleList(\n",
      "        (0): Bottleneck(\n",
      "          (cv1): Conv(\n",
      "            (conv): Conv2d(16, 16, kernel_size=(3, 3), stride=(1, 1), padding=(1, 1), bias=False)\n",
      "            (bn): BatchNorm2d(16, eps=0.001, momentum=0.03, affine=True, track_running_stats=True)\n",
      "            (act): SiLU(inplace=True)\n",
      "          )\n",
      "          (cv2): Conv(\n",
      "            (conv): Conv2d(16, 16, kernel_size=(3, 3), stride=(1, 1), padding=(1, 1), bias=False)\n",
      "            (bn): BatchNorm2d(16, eps=0.001, momentum=0.03, affine=True, track_running_stats=True)\n",
      "            (act): SiLU(inplace=True)\n",
      "          )\n",
      "        )\n",
      "      )\n",
      "    )\n",
      "    (3): Conv(\n",
      "      (conv): Conv2d(32, 64, kernel_size=(3, 3), stride=(2, 2), padding=(1, 1), bias=False)\n",
      "      (bn): BatchNorm2d(64, eps=0.001, momentum=0.03, affine=True, track_running_stats=True)\n",
      "      (act): SiLU(inplace=True)\n",
      "    )\n",
      "    (4): C2f(\n",
      "      (cv1): Conv(\n",
      "        (conv): Conv2d(64, 64, kernel_size=(1, 1), stride=(1, 1), bias=False)\n",
      "        (bn): BatchNorm2d(64, eps=0.001, momentum=0.03, affine=True, track_running_stats=True)\n",
      "        (act): SiLU(inplace=True)\n",
      "      )\n",
      "      (cv2): Conv(\n",
      "        (conv): Conv2d(128, 64, kernel_size=(1, 1), stride=(1, 1), bias=False)\n",
      "        (bn): BatchNorm2d(64, eps=0.001, momentum=0.03, affine=True, track_running_stats=True)\n",
      "        (act): SiLU(inplace=True)\n",
      "      )\n",
      "      (m): ModuleList(\n",
      "        (0-1): 2 x Bottleneck(\n",
      "          (cv1): Conv(\n",
      "            (conv): Conv2d(32, 32, kernel_size=(3, 3), stride=(1, 1), padding=(1, 1), bias=False)\n",
      "            (bn): BatchNorm2d(32, eps=0.001, momentum=0.03, affine=True, track_running_stats=True)\n",
      "            (act): SiLU(inplace=True)\n",
      "          )\n",
      "          (cv2): Conv(\n",
      "            (conv): Conv2d(32, 32, kernel_size=(3, 3), stride=(1, 1), padding=(1, 1), bias=False)\n",
      "            (bn): BatchNorm2d(32, eps=0.001, momentum=0.03, affine=True, track_running_stats=True)\n",
      "            (act): SiLU(inplace=True)\n",
      "          )\n",
      "        )\n",
      "      )\n",
      "    )\n",
      "    (5): Conv(\n",
      "      (conv): Conv2d(64, 128, kernel_size=(3, 3), stride=(2, 2), padding=(1, 1), bias=False)\n",
      "      (bn): BatchNorm2d(128, eps=0.001, momentum=0.03, affine=True, track_running_stats=True)\n",
      "      (act): SiLU(inplace=True)\n",
      "    )\n",
      "    (6): C2f(\n",
      "      (cv1): Conv(\n",
      "        (conv): Conv2d(128, 128, kernel_size=(1, 1), stride=(1, 1), bias=False)\n",
      "        (bn): BatchNorm2d(128, eps=0.001, momentum=0.03, affine=True, track_running_stats=True)\n",
      "        (act): SiLU(inplace=True)\n",
      "      )\n",
      "      (cv2): Conv(\n",
      "        (conv): Conv2d(256, 128, kernel_size=(1, 1), stride=(1, 1), bias=False)\n",
      "        (bn): BatchNorm2d(128, eps=0.001, momentum=0.03, affine=True, track_running_stats=True)\n",
      "        (act): SiLU(inplace=True)\n",
      "      )\n",
      "      (m): ModuleList(\n",
      "        (0-1): 2 x Bottleneck(\n",
      "          (cv1): Conv(\n",
      "            (conv): Conv2d(64, 64, kernel_size=(3, 3), stride=(1, 1), padding=(1, 1), bias=False)\n",
      "            (bn): BatchNorm2d(64, eps=0.001, momentum=0.03, affine=True, track_running_stats=True)\n",
      "            (act): SiLU(inplace=True)\n",
      "          )\n",
      "          (cv2): Conv(\n",
      "            (conv): Conv2d(64, 64, kernel_size=(3, 3), stride=(1, 1), padding=(1, 1), bias=False)\n",
      "            (bn): BatchNorm2d(64, eps=0.001, momentum=0.03, affine=True, track_running_stats=True)\n",
      "            (act): SiLU(inplace=True)\n",
      "          )\n",
      "        )\n",
      "      )\n",
      "    )\n",
      "    (7): Conv(\n",
      "      (conv): Conv2d(128, 256, kernel_size=(3, 3), stride=(2, 2), padding=(1, 1), bias=False)\n",
      "      (bn): BatchNorm2d(256, eps=0.001, momentum=0.03, affine=True, track_running_stats=True)\n",
      "      (act): SiLU(inplace=True)\n",
      "    )\n",
      "    (8): C2f(\n",
      "      (cv1): Conv(\n",
      "        (conv): Conv2d(256, 256, kernel_size=(1, 1), stride=(1, 1), bias=False)\n",
      "        (bn): BatchNorm2d(256, eps=0.001, momentum=0.03, affine=True, track_running_stats=True)\n",
      "        (act): SiLU(inplace=True)\n",
      "      )\n",
      "      (cv2): Conv(\n",
      "        (conv): Conv2d(384, 256, kernel_size=(1, 1), stride=(1, 1), bias=False)\n",
      "        (bn): BatchNorm2d(256, eps=0.001, momentum=0.03, affine=True, track_running_stats=True)\n",
      "        (act): SiLU(inplace=True)\n",
      "      )\n",
      "      (m): ModuleList(\n",
      "        (0): Bottleneck(\n",
      "          (cv1): Conv(\n",
      "            (conv): Conv2d(128, 128, kernel_size=(3, 3), stride=(1, 1), padding=(1, 1), bias=False)\n",
      "            (bn): BatchNorm2d(128, eps=0.001, momentum=0.03, affine=True, track_running_stats=True)\n",
      "            (act): SiLU(inplace=True)\n",
      "          )\n",
      "          (cv2): Conv(\n",
      "            (conv): Conv2d(128, 128, kernel_size=(3, 3), stride=(1, 1), padding=(1, 1), bias=False)\n",
      "            (bn): BatchNorm2d(128, eps=0.001, momentum=0.03, affine=True, track_running_stats=True)\n",
      "            (act): SiLU(inplace=True)\n",
      "          )\n",
      "        )\n",
      "      )\n",
      "    )\n",
      "    (9): SPPF(\n",
      "      (cv1): Conv(\n",
      "        (conv): Conv2d(256, 128, kernel_size=(1, 1), stride=(1, 1), bias=False)\n",
      "        (bn): BatchNorm2d(128, eps=0.001, momentum=0.03, affine=True, track_running_stats=True)\n",
      "        (act): SiLU(inplace=True)\n",
      "      )\n",
      "      (cv2): Conv(\n",
      "        (conv): Conv2d(512, 256, kernel_size=(1, 1), stride=(1, 1), bias=False)\n",
      "        (bn): BatchNorm2d(256, eps=0.001, momentum=0.03, affine=True, track_running_stats=True)\n",
      "        (act): SiLU(inplace=True)\n",
      "      )\n",
      "      (m): MaxPool2d(kernel_size=5, stride=1, padding=2, dilation=1, ceil_mode=False)\n",
      "    )\n",
      "    (10): Upsample(scale_factor=2.0, mode='nearest')\n",
      "    (11): Concat()\n",
      "    (12): C2f(\n",
      "      (cv1): Conv(\n",
      "        (conv): Conv2d(384, 128, kernel_size=(1, 1), stride=(1, 1), bias=False)\n",
      "        (bn): BatchNorm2d(128, eps=0.001, momentum=0.03, affine=True, track_running_stats=True)\n",
      "        (act): SiLU(inplace=True)\n",
      "      )\n",
      "      (cv2): Conv(\n",
      "        (conv): Conv2d(192, 128, kernel_size=(1, 1), stride=(1, 1), bias=False)\n",
      "        (bn): BatchNorm2d(128, eps=0.001, momentum=0.03, affine=True, track_running_stats=True)\n",
      "        (act): SiLU(inplace=True)\n",
      "      )\n",
      "      (m): ModuleList(\n",
      "        (0): Bottleneck(\n",
      "          (cv1): Conv(\n",
      "            (conv): Conv2d(64, 64, kernel_size=(3, 3), stride=(1, 1), padding=(1, 1), bias=False)\n",
      "            (bn): BatchNorm2d(64, eps=0.001, momentum=0.03, affine=True, track_running_stats=True)\n",
      "            (act): SiLU(inplace=True)\n",
      "          )\n",
      "          (cv2): Conv(\n",
      "            (conv): Conv2d(64, 64, kernel_size=(3, 3), stride=(1, 1), padding=(1, 1), bias=False)\n",
      "            (bn): BatchNorm2d(64, eps=0.001, momentum=0.03, affine=True, track_running_stats=True)\n",
      "            (act): SiLU(inplace=True)\n",
      "          )\n",
      "        )\n",
      "      )\n",
      "    )\n",
      "    (13): Upsample(scale_factor=2.0, mode='nearest')\n",
      "    (14): Concat()\n",
      "    (15): C2f(\n",
      "      (cv1): Conv(\n",
      "        (conv): Conv2d(192, 64, kernel_size=(1, 1), stride=(1, 1), bias=False)\n",
      "        (bn): BatchNorm2d(64, eps=0.001, momentum=0.03, affine=True, track_running_stats=True)\n",
      "        (act): SiLU(inplace=True)\n",
      "      )\n",
      "      (cv2): Conv(\n",
      "        (conv): Conv2d(96, 64, kernel_size=(1, 1), stride=(1, 1), bias=False)\n",
      "        (bn): BatchNorm2d(64, eps=0.001, momentum=0.03, affine=True, track_running_stats=True)\n",
      "        (act): SiLU(inplace=True)\n",
      "      )\n",
      "      (m): ModuleList(\n",
      "        (0): Bottleneck(\n",
      "          (cv1): Conv(\n",
      "            (conv): Conv2d(32, 32, kernel_size=(3, 3), stride=(1, 1), padding=(1, 1), bias=False)\n",
      "            (bn): BatchNorm2d(32, eps=0.001, momentum=0.03, affine=True, track_running_stats=True)\n",
      "            (act): SiLU(inplace=True)\n",
      "          )\n",
      "          (cv2): Conv(\n",
      "            (conv): Conv2d(32, 32, kernel_size=(3, 3), stride=(1, 1), padding=(1, 1), bias=False)\n",
      "            (bn): BatchNorm2d(32, eps=0.001, momentum=0.03, affine=True, track_running_stats=True)\n",
      "            (act): SiLU(inplace=True)\n",
      "          )\n",
      "        )\n",
      "      )\n",
      "    )\n",
      "    (16): Conv(\n",
      "      (conv): Conv2d(64, 64, kernel_size=(3, 3), stride=(2, 2), padding=(1, 1), bias=False)\n",
      "      (bn): BatchNorm2d(64, eps=0.001, momentum=0.03, affine=True, track_running_stats=True)\n",
      "      (act): SiLU(inplace=True)\n",
      "    )\n",
      "    (17): Concat()\n",
      "    (18): C2f(\n",
      "      (cv1): Conv(\n",
      "        (conv): Conv2d(192, 128, kernel_size=(1, 1), stride=(1, 1), bias=False)\n",
      "        (bn): BatchNorm2d(128, eps=0.001, momentum=0.03, affine=True, track_running_stats=True)\n",
      "        (act): SiLU(inplace=True)\n",
      "      )\n",
      "      (cv2): Conv(\n",
      "        (conv): Conv2d(192, 128, kernel_size=(1, 1), stride=(1, 1), bias=False)\n",
      "        (bn): BatchNorm2d(128, eps=0.001, momentum=0.03, affine=True, track_running_stats=True)\n",
      "        (act): SiLU(inplace=True)\n",
      "      )\n",
      "      (m): ModuleList(\n",
      "        (0): Bottleneck(\n",
      "          (cv1): Conv(\n",
      "            (conv): Conv2d(64, 64, kernel_size=(3, 3), stride=(1, 1), padding=(1, 1), bias=False)\n",
      "            (bn): BatchNorm2d(64, eps=0.001, momentum=0.03, affine=True, track_running_stats=True)\n",
      "            (act): SiLU(inplace=True)\n",
      "          )\n",
      "          (cv2): Conv(\n",
      "            (conv): Conv2d(64, 64, kernel_size=(3, 3), stride=(1, 1), padding=(1, 1), bias=False)\n",
      "            (bn): BatchNorm2d(64, eps=0.001, momentum=0.03, affine=True, track_running_stats=True)\n",
      "            (act): SiLU(inplace=True)\n",
      "          )\n",
      "        )\n",
      "      )\n",
      "    )\n",
      "    (19): Conv(\n",
      "      (conv): Conv2d(128, 128, kernel_size=(3, 3), stride=(2, 2), padding=(1, 1), bias=False)\n",
      "      (bn): BatchNorm2d(128, eps=0.001, momentum=0.03, affine=True, track_running_stats=True)\n",
      "      (act): SiLU(inplace=True)\n",
      "    )\n",
      "    (20): Concat()\n",
      "    (21): C2f(\n",
      "      (cv1): Conv(\n",
      "        (conv): Conv2d(384, 256, kernel_size=(1, 1), stride=(1, 1), bias=False)\n",
      "        (bn): BatchNorm2d(256, eps=0.001, momentum=0.03, affine=True, track_running_stats=True)\n",
      "        (act): SiLU(inplace=True)\n",
      "      )\n",
      "      (cv2): Conv(\n",
      "        (conv): Conv2d(384, 256, kernel_size=(1, 1), stride=(1, 1), bias=False)\n",
      "        (bn): BatchNorm2d(256, eps=0.001, momentum=0.03, affine=True, track_running_stats=True)\n",
      "        (act): SiLU(inplace=True)\n",
      "      )\n",
      "      (m): ModuleList(\n",
      "        (0): Bottleneck(\n",
      "          (cv1): Conv(\n",
      "            (conv): Conv2d(128, 128, kernel_size=(3, 3), stride=(1, 1), padding=(1, 1), bias=False)\n",
      "            (bn): BatchNorm2d(128, eps=0.001, momentum=0.03, affine=True, track_running_stats=True)\n",
      "            (act): SiLU(inplace=True)\n",
      "          )\n",
      "          (cv2): Conv(\n",
      "            (conv): Conv2d(128, 128, kernel_size=(3, 3), stride=(1, 1), padding=(1, 1), bias=False)\n",
      "            (bn): BatchNorm2d(128, eps=0.001, momentum=0.03, affine=True, track_running_stats=True)\n",
      "            (act): SiLU(inplace=True)\n",
      "          )\n",
      "        )\n",
      "      )\n",
      "    )\n",
      "    (22): Detect(\n",
      "      (cv2): ModuleList(\n",
      "        (0): Sequential(\n",
      "          (0): Conv(\n",
      "            (conv): Conv2d(64, 64, kernel_size=(3, 3), stride=(1, 1), padding=(1, 1), bias=False)\n",
      "            (bn): BatchNorm2d(64, eps=0.001, momentum=0.03, affine=True, track_running_stats=True)\n",
      "            (act): SiLU(inplace=True)\n",
      "          )\n",
      "          (1): Conv(\n",
      "            (conv): Conv2d(64, 64, kernel_size=(3, 3), stride=(1, 1), padding=(1, 1), bias=False)\n",
      "            (bn): BatchNorm2d(64, eps=0.001, momentum=0.03, affine=True, track_running_stats=True)\n",
      "            (act): SiLU(inplace=True)\n",
      "          )\n",
      "          (2): Conv2d(64, 64, kernel_size=(1, 1), stride=(1, 1))\n",
      "        )\n",
      "        (1): Sequential(\n",
      "          (0): Conv(\n",
      "            (conv): Conv2d(128, 64, kernel_size=(3, 3), stride=(1, 1), padding=(1, 1), bias=False)\n",
      "            (bn): BatchNorm2d(64, eps=0.001, momentum=0.03, affine=True, track_running_stats=True)\n",
      "            (act): SiLU(inplace=True)\n",
      "          )\n",
      "          (1): Conv(\n",
      "            (conv): Conv2d(64, 64, kernel_size=(3, 3), stride=(1, 1), padding=(1, 1), bias=False)\n",
      "            (bn): BatchNorm2d(64, eps=0.001, momentum=0.03, affine=True, track_running_stats=True)\n",
      "            (act): SiLU(inplace=True)\n",
      "          )\n",
      "          (2): Conv2d(64, 64, kernel_size=(1, 1), stride=(1, 1))\n",
      "        )\n",
      "        (2): Sequential(\n",
      "          (0): Conv(\n",
      "            (conv): Conv2d(256, 64, kernel_size=(3, 3), stride=(1, 1), padding=(1, 1), bias=False)\n",
      "            (bn): BatchNorm2d(64, eps=0.001, momentum=0.03, affine=True, track_running_stats=True)\n",
      "            (act): SiLU(inplace=True)\n",
      "          )\n",
      "          (1): Conv(\n",
      "            (conv): Conv2d(64, 64, kernel_size=(3, 3), stride=(1, 1), padding=(1, 1), bias=False)\n",
      "            (bn): BatchNorm2d(64, eps=0.001, momentum=0.03, affine=True, track_running_stats=True)\n",
      "            (act): SiLU(inplace=True)\n",
      "          )\n",
      "          (2): Conv2d(64, 64, kernel_size=(1, 1), stride=(1, 1))\n",
      "        )\n",
      "      )\n",
      "      (cv3): ModuleList(\n",
      "        (0): Sequential(\n",
      "          (0): Conv(\n",
      "            (conv): Conv2d(64, 80, kernel_size=(3, 3), stride=(1, 1), padding=(1, 1), bias=False)\n",
      "            (bn): BatchNorm2d(80, eps=0.001, momentum=0.03, affine=True, track_running_stats=True)\n",
      "            (act): SiLU(inplace=True)\n",
      "          )\n",
      "          (1): Conv(\n",
      "            (conv): Conv2d(80, 80, kernel_size=(3, 3), stride=(1, 1), padding=(1, 1), bias=False)\n",
      "            (bn): BatchNorm2d(80, eps=0.001, momentum=0.03, affine=True, track_running_stats=True)\n",
      "            (act): SiLU(inplace=True)\n",
      "          )\n",
      "          (2): Conv2d(80, 80, kernel_size=(1, 1), stride=(1, 1))\n",
      "        )\n",
      "        (1): Sequential(\n",
      "          (0): Conv(\n",
      "            (conv): Conv2d(128, 80, kernel_size=(3, 3), stride=(1, 1), padding=(1, 1), bias=False)\n",
      "            (bn): BatchNorm2d(80, eps=0.001, momentum=0.03, affine=True, track_running_stats=True)\n",
      "            (act): SiLU(inplace=True)\n",
      "          )\n",
      "          (1): Conv(\n",
      "            (conv): Conv2d(80, 80, kernel_size=(3, 3), stride=(1, 1), padding=(1, 1), bias=False)\n",
      "            (bn): BatchNorm2d(80, eps=0.001, momentum=0.03, affine=True, track_running_stats=True)\n",
      "            (act): SiLU(inplace=True)\n",
      "          )\n",
      "          (2): Conv2d(80, 80, kernel_size=(1, 1), stride=(1, 1))\n",
      "        )\n",
      "        (2): Sequential(\n",
      "          (0): Conv(\n",
      "            (conv): Conv2d(256, 80, kernel_size=(3, 3), stride=(1, 1), padding=(1, 1), bias=False)\n",
      "            (bn): BatchNorm2d(80, eps=0.001, momentum=0.03, affine=True, track_running_stats=True)\n",
      "            (act): SiLU(inplace=True)\n",
      "          )\n",
      "          (1): Conv(\n",
      "            (conv): Conv2d(80, 80, kernel_size=(3, 3), stride=(1, 1), padding=(1, 1), bias=False)\n",
      "            (bn): BatchNorm2d(80, eps=0.001, momentum=0.03, affine=True, track_running_stats=True)\n",
      "            (act): SiLU(inplace=True)\n",
      "          )\n",
      "          (2): Conv2d(80, 80, kernel_size=(1, 1), stride=(1, 1))\n",
      "        )\n",
      "      )\n",
      "      (dfl): DFL(\n",
      "        (conv): Conv2d(16, 1, kernel_size=(1, 1), stride=(1, 1), bias=False)\n",
      "      )\n",
      "    )\n",
      "  )\n",
      ")\n",
      "🔍 Model after modification:\n",
      " DetectionModel(\n",
      "  (model): Sequential(\n",
      "    (0): CustomBackbone(\n",
      "      (backbone): EfficientNet(\n",
      "        (features): Sequential(\n",
      "          (0): Conv2dNormActivation(\n",
      "            (0): Conv2d(3, 32, kernel_size=(3, 3), stride=(2, 2), padding=(1, 1), bias=False)\n",
      "            (1): BatchNorm2d(32, eps=1e-05, momentum=0.1, affine=True, track_running_stats=True)\n",
      "            (2): SiLU(inplace=True)\n",
      "          )\n",
      "          (1): Sequential(\n",
      "            (0): MBConv(\n",
      "              (block): Sequential(\n",
      "                (0): Conv2dNormActivation(\n",
      "                  (0): Conv2d(32, 32, kernel_size=(3, 3), stride=(1, 1), padding=(1, 1), groups=32, bias=False)\n",
      "                  (1): BatchNorm2d(32, eps=1e-05, momentum=0.1, affine=True, track_running_stats=True)\n",
      "                  (2): SiLU(inplace=True)\n",
      "                )\n",
      "                (1): SqueezeExcitation(\n",
      "                  (avgpool): AdaptiveAvgPool2d(output_size=1)\n",
      "                  (fc1): Conv2d(32, 8, kernel_size=(1, 1), stride=(1, 1))\n",
      "                  (fc2): Conv2d(8, 32, kernel_size=(1, 1), stride=(1, 1))\n",
      "                  (activation): SiLU(inplace=True)\n",
      "                  (scale_activation): Sigmoid()\n",
      "                )\n",
      "                (2): Conv2dNormActivation(\n",
      "                  (0): Conv2d(32, 16, kernel_size=(1, 1), stride=(1, 1), bias=False)\n",
      "                  (1): BatchNorm2d(16, eps=1e-05, momentum=0.1, affine=True, track_running_stats=True)\n",
      "                )\n",
      "              )\n",
      "              (stochastic_depth): StochasticDepth(p=0.0, mode=row)\n",
      "            )\n",
      "          )\n",
      "          (2): Sequential(\n",
      "            (0): MBConv(\n",
      "              (block): Sequential(\n",
      "                (0): Conv2dNormActivation(\n",
      "                  (0): Conv2d(16, 96, kernel_size=(1, 1), stride=(1, 1), bias=False)\n",
      "                  (1): BatchNorm2d(96, eps=1e-05, momentum=0.1, affine=True, track_running_stats=True)\n",
      "                  (2): SiLU(inplace=True)\n",
      "                )\n",
      "                (1): Conv2dNormActivation(\n",
      "                  (0): Conv2d(96, 96, kernel_size=(3, 3), stride=(2, 2), padding=(1, 1), groups=96, bias=False)\n",
      "                  (1): BatchNorm2d(96, eps=1e-05, momentum=0.1, affine=True, track_running_stats=True)\n",
      "                  (2): SiLU(inplace=True)\n",
      "                )\n",
      "                (2): SqueezeExcitation(\n",
      "                  (avgpool): AdaptiveAvgPool2d(output_size=1)\n",
      "                  (fc1): Conv2d(96, 4, kernel_size=(1, 1), stride=(1, 1))\n",
      "                  (fc2): Conv2d(4, 96, kernel_size=(1, 1), stride=(1, 1))\n",
      "                  (activation): SiLU(inplace=True)\n",
      "                  (scale_activation): Sigmoid()\n",
      "                )\n",
      "                (3): Conv2dNormActivation(\n",
      "                  (0): Conv2d(96, 24, kernel_size=(1, 1), stride=(1, 1), bias=False)\n",
      "                  (1): BatchNorm2d(24, eps=1e-05, momentum=0.1, affine=True, track_running_stats=True)\n",
      "                )\n",
      "              )\n",
      "              (stochastic_depth): StochasticDepth(p=0.0125, mode=row)\n",
      "            )\n",
      "            (1): MBConv(\n",
      "              (block): Sequential(\n",
      "                (0): Conv2dNormActivation(\n",
      "                  (0): Conv2d(24, 144, kernel_size=(1, 1), stride=(1, 1), bias=False)\n",
      "                  (1): BatchNorm2d(144, eps=1e-05, momentum=0.1, affine=True, track_running_stats=True)\n",
      "                  (2): SiLU(inplace=True)\n",
      "                )\n",
      "                (1): Conv2dNormActivation(\n",
      "                  (0): Conv2d(144, 144, kernel_size=(3, 3), stride=(1, 1), padding=(1, 1), groups=144, bias=False)\n",
      "                  (1): BatchNorm2d(144, eps=1e-05, momentum=0.1, affine=True, track_running_stats=True)\n",
      "                  (2): SiLU(inplace=True)\n",
      "                )\n",
      "                (2): SqueezeExcitation(\n",
      "                  (avgpool): AdaptiveAvgPool2d(output_size=1)\n",
      "                  (fc1): Conv2d(144, 6, kernel_size=(1, 1), stride=(1, 1))\n",
      "                  (fc2): Conv2d(6, 144, kernel_size=(1, 1), stride=(1, 1))\n",
      "                  (activation): SiLU(inplace=True)\n",
      "                  (scale_activation): Sigmoid()\n",
      "                )\n",
      "                (3): Conv2dNormActivation(\n",
      "                  (0): Conv2d(144, 24, kernel_size=(1, 1), stride=(1, 1), bias=False)\n",
      "                  (1): BatchNorm2d(24, eps=1e-05, momentum=0.1, affine=True, track_running_stats=True)\n",
      "                )\n",
      "              )\n",
      "              (stochastic_depth): StochasticDepth(p=0.025, mode=row)\n",
      "            )\n",
      "          )\n",
      "          (3): Sequential(\n",
      "            (0): MBConv(\n",
      "              (block): Sequential(\n",
      "                (0): Conv2dNormActivation(\n",
      "                  (0): Conv2d(24, 144, kernel_size=(1, 1), stride=(1, 1), bias=False)\n",
      "                  (1): BatchNorm2d(144, eps=1e-05, momentum=0.1, affine=True, track_running_stats=True)\n",
      "                  (2): SiLU(inplace=True)\n",
      "                )\n",
      "                (1): Conv2dNormActivation(\n",
      "                  (0): Conv2d(144, 144, kernel_size=(5, 5), stride=(2, 2), padding=(2, 2), groups=144, bias=False)\n",
      "                  (1): BatchNorm2d(144, eps=1e-05, momentum=0.1, affine=True, track_running_stats=True)\n",
      "                  (2): SiLU(inplace=True)\n",
      "                )\n",
      "                (2): SqueezeExcitation(\n",
      "                  (avgpool): AdaptiveAvgPool2d(output_size=1)\n",
      "                  (fc1): Conv2d(144, 6, kernel_size=(1, 1), stride=(1, 1))\n",
      "                  (fc2): Conv2d(6, 144, kernel_size=(1, 1), stride=(1, 1))\n",
      "                  (activation): SiLU(inplace=True)\n",
      "                  (scale_activation): Sigmoid()\n",
      "                )\n",
      "                (3): Conv2dNormActivation(\n",
      "                  (0): Conv2d(144, 40, kernel_size=(1, 1), stride=(1, 1), bias=False)\n",
      "                  (1): BatchNorm2d(40, eps=1e-05, momentum=0.1, affine=True, track_running_stats=True)\n",
      "                )\n",
      "              )\n",
      "              (stochastic_depth): StochasticDepth(p=0.037500000000000006, mode=row)\n",
      "            )\n",
      "            (1): MBConv(\n",
      "              (block): Sequential(\n",
      "                (0): Conv2dNormActivation(\n",
      "                  (0): Conv2d(40, 240, kernel_size=(1, 1), stride=(1, 1), bias=False)\n",
      "                  (1): BatchNorm2d(240, eps=1e-05, momentum=0.1, affine=True, track_running_stats=True)\n",
      "                  (2): SiLU(inplace=True)\n",
      "                )\n",
      "                (1): Conv2dNormActivation(\n",
      "                  (0): Conv2d(240, 240, kernel_size=(5, 5), stride=(1, 1), padding=(2, 2), groups=240, bias=False)\n",
      "                  (1): BatchNorm2d(240, eps=1e-05, momentum=0.1, affine=True, track_running_stats=True)\n",
      "                  (2): SiLU(inplace=True)\n",
      "                )\n",
      "                (2): SqueezeExcitation(\n",
      "                  (avgpool): AdaptiveAvgPool2d(output_size=1)\n",
      "                  (fc1): Conv2d(240, 10, kernel_size=(1, 1), stride=(1, 1))\n",
      "                  (fc2): Conv2d(10, 240, kernel_size=(1, 1), stride=(1, 1))\n",
      "                  (activation): SiLU(inplace=True)\n",
      "                  (scale_activation): Sigmoid()\n",
      "                )\n",
      "                (3): Conv2dNormActivation(\n",
      "                  (0): Conv2d(240, 40, kernel_size=(1, 1), stride=(1, 1), bias=False)\n",
      "                  (1): BatchNorm2d(40, eps=1e-05, momentum=0.1, affine=True, track_running_stats=True)\n",
      "                )\n",
      "              )\n",
      "              (stochastic_depth): StochasticDepth(p=0.05, mode=row)\n",
      "            )\n",
      "          )\n",
      "          (4): Sequential(\n",
      "            (0): MBConv(\n",
      "              (block): Sequential(\n",
      "                (0): Conv2dNormActivation(\n",
      "                  (0): Conv2d(40, 240, kernel_size=(1, 1), stride=(1, 1), bias=False)\n",
      "                  (1): BatchNorm2d(240, eps=1e-05, momentum=0.1, affine=True, track_running_stats=True)\n",
      "                  (2): SiLU(inplace=True)\n",
      "                )\n",
      "                (1): Conv2dNormActivation(\n",
      "                  (0): Conv2d(240, 240, kernel_size=(3, 3), stride=(2, 2), padding=(1, 1), groups=240, bias=False)\n",
      "                  (1): BatchNorm2d(240, eps=1e-05, momentum=0.1, affine=True, track_running_stats=True)\n",
      "                  (2): SiLU(inplace=True)\n",
      "                )\n",
      "                (2): SqueezeExcitation(\n",
      "                  (avgpool): AdaptiveAvgPool2d(output_size=1)\n",
      "                  (fc1): Conv2d(240, 10, kernel_size=(1, 1), stride=(1, 1))\n",
      "                  (fc2): Conv2d(10, 240, kernel_size=(1, 1), stride=(1, 1))\n",
      "                  (activation): SiLU(inplace=True)\n",
      "                  (scale_activation): Sigmoid()\n",
      "                )\n",
      "                (3): Conv2dNormActivation(\n",
      "                  (0): Conv2d(240, 80, kernel_size=(1, 1), stride=(1, 1), bias=False)\n",
      "                  (1): BatchNorm2d(80, eps=1e-05, momentum=0.1, affine=True, track_running_stats=True)\n",
      "                )\n",
      "              )\n",
      "              (stochastic_depth): StochasticDepth(p=0.0625, mode=row)\n",
      "            )\n",
      "            (1): MBConv(\n",
      "              (block): Sequential(\n",
      "                (0): Conv2dNormActivation(\n",
      "                  (0): Conv2d(80, 480, kernel_size=(1, 1), stride=(1, 1), bias=False)\n",
      "                  (1): BatchNorm2d(480, eps=1e-05, momentum=0.1, affine=True, track_running_stats=True)\n",
      "                  (2): SiLU(inplace=True)\n",
      "                )\n",
      "                (1): Conv2dNormActivation(\n",
      "                  (0): Conv2d(480, 480, kernel_size=(3, 3), stride=(1, 1), padding=(1, 1), groups=480, bias=False)\n",
      "                  (1): BatchNorm2d(480, eps=1e-05, momentum=0.1, affine=True, track_running_stats=True)\n",
      "                  (2): SiLU(inplace=True)\n",
      "                )\n",
      "                (2): SqueezeExcitation(\n",
      "                  (avgpool): AdaptiveAvgPool2d(output_size=1)\n",
      "                  (fc1): Conv2d(480, 20, kernel_size=(1, 1), stride=(1, 1))\n",
      "                  (fc2): Conv2d(20, 480, kernel_size=(1, 1), stride=(1, 1))\n",
      "                  (activation): SiLU(inplace=True)\n",
      "                  (scale_activation): Sigmoid()\n",
      "                )\n",
      "                (3): Conv2dNormActivation(\n",
      "                  (0): Conv2d(480, 80, kernel_size=(1, 1), stride=(1, 1), bias=False)\n",
      "                  (1): BatchNorm2d(80, eps=1e-05, momentum=0.1, affine=True, track_running_stats=True)\n",
      "                )\n",
      "              )\n",
      "              (stochastic_depth): StochasticDepth(p=0.07500000000000001, mode=row)\n",
      "            )\n",
      "            (2): MBConv(\n",
      "              (block): Sequential(\n",
      "                (0): Conv2dNormActivation(\n",
      "                  (0): Conv2d(80, 480, kernel_size=(1, 1), stride=(1, 1), bias=False)\n",
      "                  (1): BatchNorm2d(480, eps=1e-05, momentum=0.1, affine=True, track_running_stats=True)\n",
      "                  (2): SiLU(inplace=True)\n",
      "                )\n",
      "                (1): Conv2dNormActivation(\n",
      "                  (0): Conv2d(480, 480, kernel_size=(3, 3), stride=(1, 1), padding=(1, 1), groups=480, bias=False)\n",
      "                  (1): BatchNorm2d(480, eps=1e-05, momentum=0.1, affine=True, track_running_stats=True)\n",
      "                  (2): SiLU(inplace=True)\n",
      "                )\n",
      "                (2): SqueezeExcitation(\n",
      "                  (avgpool): AdaptiveAvgPool2d(output_size=1)\n",
      "                  (fc1): Conv2d(480, 20, kernel_size=(1, 1), stride=(1, 1))\n",
      "                  (fc2): Conv2d(20, 480, kernel_size=(1, 1), stride=(1, 1))\n",
      "                  (activation): SiLU(inplace=True)\n",
      "                  (scale_activation): Sigmoid()\n",
      "                )\n",
      "                (3): Conv2dNormActivation(\n",
      "                  (0): Conv2d(480, 80, kernel_size=(1, 1), stride=(1, 1), bias=False)\n",
      "                  (1): BatchNorm2d(80, eps=1e-05, momentum=0.1, affine=True, track_running_stats=True)\n",
      "                )\n",
      "              )\n",
      "              (stochastic_depth): StochasticDepth(p=0.08750000000000001, mode=row)\n",
      "            )\n",
      "          )\n",
      "          (5): Sequential(\n",
      "            (0): MBConv(\n",
      "              (block): Sequential(\n",
      "                (0): Conv2dNormActivation(\n",
      "                  (0): Conv2d(80, 480, kernel_size=(1, 1), stride=(1, 1), bias=False)\n",
      "                  (1): BatchNorm2d(480, eps=1e-05, momentum=0.1, affine=True, track_running_stats=True)\n",
      "                  (2): SiLU(inplace=True)\n",
      "                )\n",
      "                (1): Conv2dNormActivation(\n",
      "                  (0): Conv2d(480, 480, kernel_size=(5, 5), stride=(1, 1), padding=(2, 2), groups=480, bias=False)\n",
      "                  (1): BatchNorm2d(480, eps=1e-05, momentum=0.1, affine=True, track_running_stats=True)\n",
      "                  (2): SiLU(inplace=True)\n",
      "                )\n",
      "                (2): SqueezeExcitation(\n",
      "                  (avgpool): AdaptiveAvgPool2d(output_size=1)\n",
      "                  (fc1): Conv2d(480, 20, kernel_size=(1, 1), stride=(1, 1))\n",
      "                  (fc2): Conv2d(20, 480, kernel_size=(1, 1), stride=(1, 1))\n",
      "                  (activation): SiLU(inplace=True)\n",
      "                  (scale_activation): Sigmoid()\n",
      "                )\n",
      "                (3): Conv2dNormActivation(\n",
      "                  (0): Conv2d(480, 112, kernel_size=(1, 1), stride=(1, 1), bias=False)\n",
      "                  (1): BatchNorm2d(112, eps=1e-05, momentum=0.1, affine=True, track_running_stats=True)\n",
      "                )\n",
      "              )\n",
      "              (stochastic_depth): StochasticDepth(p=0.1, mode=row)\n",
      "            )\n",
      "            (1): MBConv(\n",
      "              (block): Sequential(\n",
      "                (0): Conv2dNormActivation(\n",
      "                  (0): Conv2d(112, 672, kernel_size=(1, 1), stride=(1, 1), bias=False)\n",
      "                  (1): BatchNorm2d(672, eps=1e-05, momentum=0.1, affine=True, track_running_stats=True)\n",
      "                  (2): SiLU(inplace=True)\n",
      "                )\n",
      "                (1): Conv2dNormActivation(\n",
      "                  (0): Conv2d(672, 672, kernel_size=(5, 5), stride=(1, 1), padding=(2, 2), groups=672, bias=False)\n",
      "                  (1): BatchNorm2d(672, eps=1e-05, momentum=0.1, affine=True, track_running_stats=True)\n",
      "                  (2): SiLU(inplace=True)\n",
      "                )\n",
      "                (2): SqueezeExcitation(\n",
      "                  (avgpool): AdaptiveAvgPool2d(output_size=1)\n",
      "                  (fc1): Conv2d(672, 28, kernel_size=(1, 1), stride=(1, 1))\n",
      "                  (fc2): Conv2d(28, 672, kernel_size=(1, 1), stride=(1, 1))\n",
      "                  (activation): SiLU(inplace=True)\n",
      "                  (scale_activation): Sigmoid()\n",
      "                )\n",
      "                (3): Conv2dNormActivation(\n",
      "                  (0): Conv2d(672, 112, kernel_size=(1, 1), stride=(1, 1), bias=False)\n",
      "                  (1): BatchNorm2d(112, eps=1e-05, momentum=0.1, affine=True, track_running_stats=True)\n",
      "                )\n",
      "              )\n",
      "              (stochastic_depth): StochasticDepth(p=0.1125, mode=row)\n",
      "            )\n",
      "            (2): MBConv(\n",
      "              (block): Sequential(\n",
      "                (0): Conv2dNormActivation(\n",
      "                  (0): Conv2d(112, 672, kernel_size=(1, 1), stride=(1, 1), bias=False)\n",
      "                  (1): BatchNorm2d(672, eps=1e-05, momentum=0.1, affine=True, track_running_stats=True)\n",
      "                  (2): SiLU(inplace=True)\n",
      "                )\n",
      "                (1): Conv2dNormActivation(\n",
      "                  (0): Conv2d(672, 672, kernel_size=(5, 5), stride=(1, 1), padding=(2, 2), groups=672, bias=False)\n",
      "                  (1): BatchNorm2d(672, eps=1e-05, momentum=0.1, affine=True, track_running_stats=True)\n",
      "                  (2): SiLU(inplace=True)\n",
      "                )\n",
      "                (2): SqueezeExcitation(\n",
      "                  (avgpool): AdaptiveAvgPool2d(output_size=1)\n",
      "                  (fc1): Conv2d(672, 28, kernel_size=(1, 1), stride=(1, 1))\n",
      "                  (fc2): Conv2d(28, 672, kernel_size=(1, 1), stride=(1, 1))\n",
      "                  (activation): SiLU(inplace=True)\n",
      "                  (scale_activation): Sigmoid()\n",
      "                )\n",
      "                (3): Conv2dNormActivation(\n",
      "                  (0): Conv2d(672, 112, kernel_size=(1, 1), stride=(1, 1), bias=False)\n",
      "                  (1): BatchNorm2d(112, eps=1e-05, momentum=0.1, affine=True, track_running_stats=True)\n",
      "                )\n",
      "              )\n",
      "              (stochastic_depth): StochasticDepth(p=0.125, mode=row)\n",
      "            )\n",
      "          )\n",
      "          (6): Sequential(\n",
      "            (0): MBConv(\n",
      "              (block): Sequential(\n",
      "                (0): Conv2dNormActivation(\n",
      "                  (0): Conv2d(112, 672, kernel_size=(1, 1), stride=(1, 1), bias=False)\n",
      "                  (1): BatchNorm2d(672, eps=1e-05, momentum=0.1, affine=True, track_running_stats=True)\n",
      "                  (2): SiLU(inplace=True)\n",
      "                )\n",
      "                (1): Conv2dNormActivation(\n",
      "                  (0): Conv2d(672, 672, kernel_size=(5, 5), stride=(2, 2), padding=(2, 2), groups=672, bias=False)\n",
      "                  (1): BatchNorm2d(672, eps=1e-05, momentum=0.1, affine=True, track_running_stats=True)\n",
      "                  (2): SiLU(inplace=True)\n",
      "                )\n",
      "                (2): SqueezeExcitation(\n",
      "                  (avgpool): AdaptiveAvgPool2d(output_size=1)\n",
      "                  (fc1): Conv2d(672, 28, kernel_size=(1, 1), stride=(1, 1))\n",
      "                  (fc2): Conv2d(28, 672, kernel_size=(1, 1), stride=(1, 1))\n",
      "                  (activation): SiLU(inplace=True)\n",
      "                  (scale_activation): Sigmoid()\n",
      "                )\n",
      "                (3): Conv2dNormActivation(\n",
      "                  (0): Conv2d(672, 192, kernel_size=(1, 1), stride=(1, 1), bias=False)\n",
      "                  (1): BatchNorm2d(192, eps=1e-05, momentum=0.1, affine=True, track_running_stats=True)\n",
      "                )\n",
      "              )\n",
      "              (stochastic_depth): StochasticDepth(p=0.1375, mode=row)\n",
      "            )\n",
      "            (1): MBConv(\n",
      "              (block): Sequential(\n",
      "                (0): Conv2dNormActivation(\n",
      "                  (0): Conv2d(192, 1152, kernel_size=(1, 1), stride=(1, 1), bias=False)\n",
      "                  (1): BatchNorm2d(1152, eps=1e-05, momentum=0.1, affine=True, track_running_stats=True)\n",
      "                  (2): SiLU(inplace=True)\n",
      "                )\n",
      "                (1): Conv2dNormActivation(\n",
      "                  (0): Conv2d(1152, 1152, kernel_size=(5, 5), stride=(1, 1), padding=(2, 2), groups=1152, bias=False)\n",
      "                  (1): BatchNorm2d(1152, eps=1e-05, momentum=0.1, affine=True, track_running_stats=True)\n",
      "                  (2): SiLU(inplace=True)\n",
      "                )\n",
      "                (2): SqueezeExcitation(\n",
      "                  (avgpool): AdaptiveAvgPool2d(output_size=1)\n",
      "                  (fc1): Conv2d(1152, 48, kernel_size=(1, 1), stride=(1, 1))\n",
      "                  (fc2): Conv2d(48, 1152, kernel_size=(1, 1), stride=(1, 1))\n",
      "                  (activation): SiLU(inplace=True)\n",
      "                  (scale_activation): Sigmoid()\n",
      "                )\n",
      "                (3): Conv2dNormActivation(\n",
      "                  (0): Conv2d(1152, 192, kernel_size=(1, 1), stride=(1, 1), bias=False)\n",
      "                  (1): BatchNorm2d(192, eps=1e-05, momentum=0.1, affine=True, track_running_stats=True)\n",
      "                )\n",
      "              )\n",
      "              (stochastic_depth): StochasticDepth(p=0.15000000000000002, mode=row)\n",
      "            )\n",
      "            (2): MBConv(\n",
      "              (block): Sequential(\n",
      "                (0): Conv2dNormActivation(\n",
      "                  (0): Conv2d(192, 1152, kernel_size=(1, 1), stride=(1, 1), bias=False)\n",
      "                  (1): BatchNorm2d(1152, eps=1e-05, momentum=0.1, affine=True, track_running_stats=True)\n",
      "                  (2): SiLU(inplace=True)\n",
      "                )\n",
      "                (1): Conv2dNormActivation(\n",
      "                  (0): Conv2d(1152, 1152, kernel_size=(5, 5), stride=(1, 1), padding=(2, 2), groups=1152, bias=False)\n",
      "                  (1): BatchNorm2d(1152, eps=1e-05, momentum=0.1, affine=True, track_running_stats=True)\n",
      "                  (2): SiLU(inplace=True)\n",
      "                )\n",
      "                (2): SqueezeExcitation(\n",
      "                  (avgpool): AdaptiveAvgPool2d(output_size=1)\n",
      "                  (fc1): Conv2d(1152, 48, kernel_size=(1, 1), stride=(1, 1))\n",
      "                  (fc2): Conv2d(48, 1152, kernel_size=(1, 1), stride=(1, 1))\n",
      "                  (activation): SiLU(inplace=True)\n",
      "                  (scale_activation): Sigmoid()\n",
      "                )\n",
      "                (3): Conv2dNormActivation(\n",
      "                  (0): Conv2d(1152, 192, kernel_size=(1, 1), stride=(1, 1), bias=False)\n",
      "                  (1): BatchNorm2d(192, eps=1e-05, momentum=0.1, affine=True, track_running_stats=True)\n",
      "                )\n",
      "              )\n",
      "              (stochastic_depth): StochasticDepth(p=0.1625, mode=row)\n",
      "            )\n",
      "            (3): MBConv(\n",
      "              (block): Sequential(\n",
      "                (0): Conv2dNormActivation(\n",
      "                  (0): Conv2d(192, 1152, kernel_size=(1, 1), stride=(1, 1), bias=False)\n",
      "                  (1): BatchNorm2d(1152, eps=1e-05, momentum=0.1, affine=True, track_running_stats=True)\n",
      "                  (2): SiLU(inplace=True)\n",
      "                )\n",
      "                (1): Conv2dNormActivation(\n",
      "                  (0): Conv2d(1152, 1152, kernel_size=(5, 5), stride=(1, 1), padding=(2, 2), groups=1152, bias=False)\n",
      "                  (1): BatchNorm2d(1152, eps=1e-05, momentum=0.1, affine=True, track_running_stats=True)\n",
      "                  (2): SiLU(inplace=True)\n",
      "                )\n",
      "                (2): SqueezeExcitation(\n",
      "                  (avgpool): AdaptiveAvgPool2d(output_size=1)\n",
      "                  (fc1): Conv2d(1152, 48, kernel_size=(1, 1), stride=(1, 1))\n",
      "                  (fc2): Conv2d(48, 1152, kernel_size=(1, 1), stride=(1, 1))\n",
      "                  (activation): SiLU(inplace=True)\n",
      "                  (scale_activation): Sigmoid()\n",
      "                )\n",
      "                (3): Conv2dNormActivation(\n",
      "                  (0): Conv2d(1152, 192, kernel_size=(1, 1), stride=(1, 1), bias=False)\n",
      "                  (1): BatchNorm2d(192, eps=1e-05, momentum=0.1, affine=True, track_running_stats=True)\n",
      "                )\n",
      "              )\n",
      "              (stochastic_depth): StochasticDepth(p=0.17500000000000002, mode=row)\n",
      "            )\n",
      "          )\n",
      "          (7): Sequential(\n",
      "            (0): MBConv(\n",
      "              (block): Sequential(\n",
      "                (0): Conv2dNormActivation(\n",
      "                  (0): Conv2d(192, 1152, kernel_size=(1, 1), stride=(1, 1), bias=False)\n",
      "                  (1): BatchNorm2d(1152, eps=1e-05, momentum=0.1, affine=True, track_running_stats=True)\n",
      "                  (2): SiLU(inplace=True)\n",
      "                )\n",
      "                (1): Conv2dNormActivation(\n",
      "                  (0): Conv2d(1152, 1152, kernel_size=(3, 3), stride=(1, 1), padding=(1, 1), groups=1152, bias=False)\n",
      "                  (1): BatchNorm2d(1152, eps=1e-05, momentum=0.1, affine=True, track_running_stats=True)\n",
      "                  (2): SiLU(inplace=True)\n",
      "                )\n",
      "                (2): SqueezeExcitation(\n",
      "                  (avgpool): AdaptiveAvgPool2d(output_size=1)\n",
      "                  (fc1): Conv2d(1152, 48, kernel_size=(1, 1), stride=(1, 1))\n",
      "                  (fc2): Conv2d(48, 1152, kernel_size=(1, 1), stride=(1, 1))\n",
      "                  (activation): SiLU(inplace=True)\n",
      "                  (scale_activation): Sigmoid()\n",
      "                )\n",
      "                (3): Conv2dNormActivation(\n",
      "                  (0): Conv2d(1152, 320, kernel_size=(1, 1), stride=(1, 1), bias=False)\n",
      "                  (1): BatchNorm2d(320, eps=1e-05, momentum=0.1, affine=True, track_running_stats=True)\n",
      "                )\n",
      "              )\n",
      "              (stochastic_depth): StochasticDepth(p=0.1875, mode=row)\n",
      "            )\n",
      "          )\n",
      "          (8): Conv2dNormActivation(\n",
      "            (0): Conv2d(320, 1280, kernel_size=(1, 1), stride=(1, 1), bias=False)\n",
      "            (1): BatchNorm2d(1280, eps=1e-05, momentum=0.1, affine=True, track_running_stats=True)\n",
      "            (2): SiLU(inplace=True)\n",
      "          )\n",
      "        )\n",
      "        (avgpool): AdaptiveAvgPool2d(output_size=1)\n",
      "        (classifier): Sequential(\n",
      "          (0): Dropout(p=0.2, inplace=True)\n",
      "          (1): Linear(in_features=1280, out_features=1000, bias=True)\n",
      "        )\n",
      "      )\n",
      "      (feature_layers): ModuleDict(\n",
      "        (P3): Sequential(\n",
      "          (0): Sequential(\n",
      "            (0): Conv2dNormActivation(\n",
      "              (0): Conv2d(3, 32, kernel_size=(3, 3), stride=(2, 2), padding=(1, 1), bias=False)\n",
      "              (1): BatchNorm2d(32, eps=1e-05, momentum=0.1, affine=True, track_running_stats=True)\n",
      "              (2): SiLU(inplace=True)\n",
      "            )\n",
      "            (1): Sequential(\n",
      "              (0): MBConv(\n",
      "                (block): Sequential(\n",
      "                  (0): Conv2dNormActivation(\n",
      "                    (0): Conv2d(32, 32, kernel_size=(3, 3), stride=(1, 1), padding=(1, 1), groups=32, bias=False)\n",
      "                    (1): BatchNorm2d(32, eps=1e-05, momentum=0.1, affine=True, track_running_stats=True)\n",
      "                    (2): SiLU(inplace=True)\n",
      "                  )\n",
      "                  (1): SqueezeExcitation(\n",
      "                    (avgpool): AdaptiveAvgPool2d(output_size=1)\n",
      "                    (fc1): Conv2d(32, 8, kernel_size=(1, 1), stride=(1, 1))\n",
      "                    (fc2): Conv2d(8, 32, kernel_size=(1, 1), stride=(1, 1))\n",
      "                    (activation): SiLU(inplace=True)\n",
      "                    (scale_activation): Sigmoid()\n",
      "                  )\n",
      "                  (2): Conv2dNormActivation(\n",
      "                    (0): Conv2d(32, 16, kernel_size=(1, 1), stride=(1, 1), bias=False)\n",
      "                    (1): BatchNorm2d(16, eps=1e-05, momentum=0.1, affine=True, track_running_stats=True)\n",
      "                  )\n",
      "                )\n",
      "                (stochastic_depth): StochasticDepth(p=0.0, mode=row)\n",
      "              )\n",
      "            )\n",
      "            (2): Sequential(\n",
      "              (0): MBConv(\n",
      "                (block): Sequential(\n",
      "                  (0): Conv2dNormActivation(\n",
      "                    (0): Conv2d(16, 96, kernel_size=(1, 1), stride=(1, 1), bias=False)\n",
      "                    (1): BatchNorm2d(96, eps=1e-05, momentum=0.1, affine=True, track_running_stats=True)\n",
      "                    (2): SiLU(inplace=True)\n",
      "                  )\n",
      "                  (1): Conv2dNormActivation(\n",
      "                    (0): Conv2d(96, 96, kernel_size=(3, 3), stride=(2, 2), padding=(1, 1), groups=96, bias=False)\n",
      "                    (1): BatchNorm2d(96, eps=1e-05, momentum=0.1, affine=True, track_running_stats=True)\n",
      "                    (2): SiLU(inplace=True)\n",
      "                  )\n",
      "                  (2): SqueezeExcitation(\n",
      "                    (avgpool): AdaptiveAvgPool2d(output_size=1)\n",
      "                    (fc1): Conv2d(96, 4, kernel_size=(1, 1), stride=(1, 1))\n",
      "                    (fc2): Conv2d(4, 96, kernel_size=(1, 1), stride=(1, 1))\n",
      "                    (activation): SiLU(inplace=True)\n",
      "                    (scale_activation): Sigmoid()\n",
      "                  )\n",
      "                  (3): Conv2dNormActivation(\n",
      "                    (0): Conv2d(96, 24, kernel_size=(1, 1), stride=(1, 1), bias=False)\n",
      "                    (1): BatchNorm2d(24, eps=1e-05, momentum=0.1, affine=True, track_running_stats=True)\n",
      "                  )\n",
      "                )\n",
      "                (stochastic_depth): StochasticDepth(p=0.0125, mode=row)\n",
      "              )\n",
      "              (1): MBConv(\n",
      "                (block): Sequential(\n",
      "                  (0): Conv2dNormActivation(\n",
      "                    (0): Conv2d(24, 144, kernel_size=(1, 1), stride=(1, 1), bias=False)\n",
      "                    (1): BatchNorm2d(144, eps=1e-05, momentum=0.1, affine=True, track_running_stats=True)\n",
      "                    (2): SiLU(inplace=True)\n",
      "                  )\n",
      "                  (1): Conv2dNormActivation(\n",
      "                    (0): Conv2d(144, 144, kernel_size=(3, 3), stride=(1, 1), padding=(1, 1), groups=144, bias=False)\n",
      "                    (1): BatchNorm2d(144, eps=1e-05, momentum=0.1, affine=True, track_running_stats=True)\n",
      "                    (2): SiLU(inplace=True)\n",
      "                  )\n",
      "                  (2): SqueezeExcitation(\n",
      "                    (avgpool): AdaptiveAvgPool2d(output_size=1)\n",
      "                    (fc1): Conv2d(144, 6, kernel_size=(1, 1), stride=(1, 1))\n",
      "                    (fc2): Conv2d(6, 144, kernel_size=(1, 1), stride=(1, 1))\n",
      "                    (activation): SiLU(inplace=True)\n",
      "                    (scale_activation): Sigmoid()\n",
      "                  )\n",
      "                  (3): Conv2dNormActivation(\n",
      "                    (0): Conv2d(144, 24, kernel_size=(1, 1), stride=(1, 1), bias=False)\n",
      "                    (1): BatchNorm2d(24, eps=1e-05, momentum=0.1, affine=True, track_running_stats=True)\n",
      "                  )\n",
      "                )\n",
      "                (stochastic_depth): StochasticDepth(p=0.025, mode=row)\n",
      "              )\n",
      "            )\n",
      "          )\n",
      "        )\n",
      "        (P4): Sequential(\n",
      "          (0): Sequential(\n",
      "            (3): Sequential(\n",
      "              (0): MBConv(\n",
      "                (block): Sequential(\n",
      "                  (0): Conv2dNormActivation(\n",
      "                    (0): Conv2d(24, 144, kernel_size=(1, 1), stride=(1, 1), bias=False)\n",
      "                    (1): BatchNorm2d(144, eps=1e-05, momentum=0.1, affine=True, track_running_stats=True)\n",
      "                    (2): SiLU(inplace=True)\n",
      "                  )\n",
      "                  (1): Conv2dNormActivation(\n",
      "                    (0): Conv2d(144, 144, kernel_size=(5, 5), stride=(2, 2), padding=(2, 2), groups=144, bias=False)\n",
      "                    (1): BatchNorm2d(144, eps=1e-05, momentum=0.1, affine=True, track_running_stats=True)\n",
      "                    (2): SiLU(inplace=True)\n",
      "                  )\n",
      "                  (2): SqueezeExcitation(\n",
      "                    (avgpool): AdaptiveAvgPool2d(output_size=1)\n",
      "                    (fc1): Conv2d(144, 6, kernel_size=(1, 1), stride=(1, 1))\n",
      "                    (fc2): Conv2d(6, 144, kernel_size=(1, 1), stride=(1, 1))\n",
      "                    (activation): SiLU(inplace=True)\n",
      "                    (scale_activation): Sigmoid()\n",
      "                  )\n",
      "                  (3): Conv2dNormActivation(\n",
      "                    (0): Conv2d(144, 40, kernel_size=(1, 1), stride=(1, 1), bias=False)\n",
      "                    (1): BatchNorm2d(40, eps=1e-05, momentum=0.1, affine=True, track_running_stats=True)\n",
      "                  )\n",
      "                )\n",
      "                (stochastic_depth): StochasticDepth(p=0.037500000000000006, mode=row)\n",
      "              )\n",
      "              (1): MBConv(\n",
      "                (block): Sequential(\n",
      "                  (0): Conv2dNormActivation(\n",
      "                    (0): Conv2d(40, 240, kernel_size=(1, 1), stride=(1, 1), bias=False)\n",
      "                    (1): BatchNorm2d(240, eps=1e-05, momentum=0.1, affine=True, track_running_stats=True)\n",
      "                    (2): SiLU(inplace=True)\n",
      "                  )\n",
      "                  (1): Conv2dNormActivation(\n",
      "                    (0): Conv2d(240, 240, kernel_size=(5, 5), stride=(1, 1), padding=(2, 2), groups=240, bias=False)\n",
      "                    (1): BatchNorm2d(240, eps=1e-05, momentum=0.1, affine=True, track_running_stats=True)\n",
      "                    (2): SiLU(inplace=True)\n",
      "                  )\n",
      "                  (2): SqueezeExcitation(\n",
      "                    (avgpool): AdaptiveAvgPool2d(output_size=1)\n",
      "                    (fc1): Conv2d(240, 10, kernel_size=(1, 1), stride=(1, 1))\n",
      "                    (fc2): Conv2d(10, 240, kernel_size=(1, 1), stride=(1, 1))\n",
      "                    (activation): SiLU(inplace=True)\n",
      "                    (scale_activation): Sigmoid()\n",
      "                  )\n",
      "                  (3): Conv2dNormActivation(\n",
      "                    (0): Conv2d(240, 40, kernel_size=(1, 1), stride=(1, 1), bias=False)\n",
      "                    (1): BatchNorm2d(40, eps=1e-05, momentum=0.1, affine=True, track_running_stats=True)\n",
      "                  )\n",
      "                )\n",
      "                (stochastic_depth): StochasticDepth(p=0.05, mode=row)\n",
      "              )\n",
      "            )\n",
      "            (4): Sequential(\n",
      "              (0): MBConv(\n",
      "                (block): Sequential(\n",
      "                  (0): Conv2dNormActivation(\n",
      "                    (0): Conv2d(40, 240, kernel_size=(1, 1), stride=(1, 1), bias=False)\n",
      "                    (1): BatchNorm2d(240, eps=1e-05, momentum=0.1, affine=True, track_running_stats=True)\n",
      "                    (2): SiLU(inplace=True)\n",
      "                  )\n",
      "                  (1): Conv2dNormActivation(\n",
      "                    (0): Conv2d(240, 240, kernel_size=(3, 3), stride=(2, 2), padding=(1, 1), groups=240, bias=False)\n",
      "                    (1): BatchNorm2d(240, eps=1e-05, momentum=0.1, affine=True, track_running_stats=True)\n",
      "                    (2): SiLU(inplace=True)\n",
      "                  )\n",
      "                  (2): SqueezeExcitation(\n",
      "                    (avgpool): AdaptiveAvgPool2d(output_size=1)\n",
      "                    (fc1): Conv2d(240, 10, kernel_size=(1, 1), stride=(1, 1))\n",
      "                    (fc2): Conv2d(10, 240, kernel_size=(1, 1), stride=(1, 1))\n",
      "                    (activation): SiLU(inplace=True)\n",
      "                    (scale_activation): Sigmoid()\n",
      "                  )\n",
      "                  (3): Conv2dNormActivation(\n",
      "                    (0): Conv2d(240, 80, kernel_size=(1, 1), stride=(1, 1), bias=False)\n",
      "                    (1): BatchNorm2d(80, eps=1e-05, momentum=0.1, affine=True, track_running_stats=True)\n",
      "                  )\n",
      "                )\n",
      "                (stochastic_depth): StochasticDepth(p=0.0625, mode=row)\n",
      "              )\n",
      "              (1): MBConv(\n",
      "                (block): Sequential(\n",
      "                  (0): Conv2dNormActivation(\n",
      "                    (0): Conv2d(80, 480, kernel_size=(1, 1), stride=(1, 1), bias=False)\n",
      "                    (1): BatchNorm2d(480, eps=1e-05, momentum=0.1, affine=True, track_running_stats=True)\n",
      "                    (2): SiLU(inplace=True)\n",
      "                  )\n",
      "                  (1): Conv2dNormActivation(\n",
      "                    (0): Conv2d(480, 480, kernel_size=(3, 3), stride=(1, 1), padding=(1, 1), groups=480, bias=False)\n",
      "                    (1): BatchNorm2d(480, eps=1e-05, momentum=0.1, affine=True, track_running_stats=True)\n",
      "                    (2): SiLU(inplace=True)\n",
      "                  )\n",
      "                  (2): SqueezeExcitation(\n",
      "                    (avgpool): AdaptiveAvgPool2d(output_size=1)\n",
      "                    (fc1): Conv2d(480, 20, kernel_size=(1, 1), stride=(1, 1))\n",
      "                    (fc2): Conv2d(20, 480, kernel_size=(1, 1), stride=(1, 1))\n",
      "                    (activation): SiLU(inplace=True)\n",
      "                    (scale_activation): Sigmoid()\n",
      "                  )\n",
      "                  (3): Conv2dNormActivation(\n",
      "                    (0): Conv2d(480, 80, kernel_size=(1, 1), stride=(1, 1), bias=False)\n",
      "                    (1): BatchNorm2d(80, eps=1e-05, momentum=0.1, affine=True, track_running_stats=True)\n",
      "                  )\n",
      "                )\n",
      "                (stochastic_depth): StochasticDepth(p=0.07500000000000001, mode=row)\n",
      "              )\n",
      "              (2): MBConv(\n",
      "                (block): Sequential(\n",
      "                  (0): Conv2dNormActivation(\n",
      "                    (0): Conv2d(80, 480, kernel_size=(1, 1), stride=(1, 1), bias=False)\n",
      "                    (1): BatchNorm2d(480, eps=1e-05, momentum=0.1, affine=True, track_running_stats=True)\n",
      "                    (2): SiLU(inplace=True)\n",
      "                  )\n",
      "                  (1): Conv2dNormActivation(\n",
      "                    (0): Conv2d(480, 480, kernel_size=(3, 3), stride=(1, 1), padding=(1, 1), groups=480, bias=False)\n",
      "                    (1): BatchNorm2d(480, eps=1e-05, momentum=0.1, affine=True, track_running_stats=True)\n",
      "                    (2): SiLU(inplace=True)\n",
      "                  )\n",
      "                  (2): SqueezeExcitation(\n",
      "                    (avgpool): AdaptiveAvgPool2d(output_size=1)\n",
      "                    (fc1): Conv2d(480, 20, kernel_size=(1, 1), stride=(1, 1))\n",
      "                    (fc2): Conv2d(20, 480, kernel_size=(1, 1), stride=(1, 1))\n",
      "                    (activation): SiLU(inplace=True)\n",
      "                    (scale_activation): Sigmoid()\n",
      "                  )\n",
      "                  (3): Conv2dNormActivation(\n",
      "                    (0): Conv2d(480, 80, kernel_size=(1, 1), stride=(1, 1), bias=False)\n",
      "                    (1): BatchNorm2d(80, eps=1e-05, momentum=0.1, affine=True, track_running_stats=True)\n",
      "                  )\n",
      "                )\n",
      "                (stochastic_depth): StochasticDepth(p=0.08750000000000001, mode=row)\n",
      "              )\n",
      "            )\n",
      "          )\n",
      "        )\n",
      "        (P5): Sequential(\n",
      "          (0): Sequential(\n",
      "            (5): Sequential(\n",
      "              (0): MBConv(\n",
      "                (block): Sequential(\n",
      "                  (0): Conv2dNormActivation(\n",
      "                    (0): Conv2d(80, 480, kernel_size=(1, 1), stride=(1, 1), bias=False)\n",
      "                    (1): BatchNorm2d(480, eps=1e-05, momentum=0.1, affine=True, track_running_stats=True)\n",
      "                    (2): SiLU(inplace=True)\n",
      "                  )\n",
      "                  (1): Conv2dNormActivation(\n",
      "                    (0): Conv2d(480, 480, kernel_size=(5, 5), stride=(1, 1), padding=(2, 2), groups=480, bias=False)\n",
      "                    (1): BatchNorm2d(480, eps=1e-05, momentum=0.1, affine=True, track_running_stats=True)\n",
      "                    (2): SiLU(inplace=True)\n",
      "                  )\n",
      "                  (2): SqueezeExcitation(\n",
      "                    (avgpool): AdaptiveAvgPool2d(output_size=1)\n",
      "                    (fc1): Conv2d(480, 20, kernel_size=(1, 1), stride=(1, 1))\n",
      "                    (fc2): Conv2d(20, 480, kernel_size=(1, 1), stride=(1, 1))\n",
      "                    (activation): SiLU(inplace=True)\n",
      "                    (scale_activation): Sigmoid()\n",
      "                  )\n",
      "                  (3): Conv2dNormActivation(\n",
      "                    (0): Conv2d(480, 112, kernel_size=(1, 1), stride=(1, 1), bias=False)\n",
      "                    (1): BatchNorm2d(112, eps=1e-05, momentum=0.1, affine=True, track_running_stats=True)\n",
      "                  )\n",
      "                )\n",
      "                (stochastic_depth): StochasticDepth(p=0.1, mode=row)\n",
      "              )\n",
      "              (1): MBConv(\n",
      "                (block): Sequential(\n",
      "                  (0): Conv2dNormActivation(\n",
      "                    (0): Conv2d(112, 672, kernel_size=(1, 1), stride=(1, 1), bias=False)\n",
      "                    (1): BatchNorm2d(672, eps=1e-05, momentum=0.1, affine=True, track_running_stats=True)\n",
      "                    (2): SiLU(inplace=True)\n",
      "                  )\n",
      "                  (1): Conv2dNormActivation(\n",
      "                    (0): Conv2d(672, 672, kernel_size=(5, 5), stride=(1, 1), padding=(2, 2), groups=672, bias=False)\n",
      "                    (1): BatchNorm2d(672, eps=1e-05, momentum=0.1, affine=True, track_running_stats=True)\n",
      "                    (2): SiLU(inplace=True)\n",
      "                  )\n",
      "                  (2): SqueezeExcitation(\n",
      "                    (avgpool): AdaptiveAvgPool2d(output_size=1)\n",
      "                    (fc1): Conv2d(672, 28, kernel_size=(1, 1), stride=(1, 1))\n",
      "                    (fc2): Conv2d(28, 672, kernel_size=(1, 1), stride=(1, 1))\n",
      "                    (activation): SiLU(inplace=True)\n",
      "                    (scale_activation): Sigmoid()\n",
      "                  )\n",
      "                  (3): Conv2dNormActivation(\n",
      "                    (0): Conv2d(672, 112, kernel_size=(1, 1), stride=(1, 1), bias=False)\n",
      "                    (1): BatchNorm2d(112, eps=1e-05, momentum=0.1, affine=True, track_running_stats=True)\n",
      "                  )\n",
      "                )\n",
      "                (stochastic_depth): StochasticDepth(p=0.1125, mode=row)\n",
      "              )\n",
      "              (2): MBConv(\n",
      "                (block): Sequential(\n",
      "                  (0): Conv2dNormActivation(\n",
      "                    (0): Conv2d(112, 672, kernel_size=(1, 1), stride=(1, 1), bias=False)\n",
      "                    (1): BatchNorm2d(672, eps=1e-05, momentum=0.1, affine=True, track_running_stats=True)\n",
      "                    (2): SiLU(inplace=True)\n",
      "                  )\n",
      "                  (1): Conv2dNormActivation(\n",
      "                    (0): Conv2d(672, 672, kernel_size=(5, 5), stride=(1, 1), padding=(2, 2), groups=672, bias=False)\n",
      "                    (1): BatchNorm2d(672, eps=1e-05, momentum=0.1, affine=True, track_running_stats=True)\n",
      "                    (2): SiLU(inplace=True)\n",
      "                  )\n",
      "                  (2): SqueezeExcitation(\n",
      "                    (avgpool): AdaptiveAvgPool2d(output_size=1)\n",
      "                    (fc1): Conv2d(672, 28, kernel_size=(1, 1), stride=(1, 1))\n",
      "                    (fc2): Conv2d(28, 672, kernel_size=(1, 1), stride=(1, 1))\n",
      "                    (activation): SiLU(inplace=True)\n",
      "                    (scale_activation): Sigmoid()\n",
      "                  )\n",
      "                  (3): Conv2dNormActivation(\n",
      "                    (0): Conv2d(672, 112, kernel_size=(1, 1), stride=(1, 1), bias=False)\n",
      "                    (1): BatchNorm2d(112, eps=1e-05, momentum=0.1, affine=True, track_running_stats=True)\n",
      "                  )\n",
      "                )\n",
      "                (stochastic_depth): StochasticDepth(p=0.125, mode=row)\n",
      "              )\n",
      "            )\n",
      "            (6): Sequential(\n",
      "              (0): MBConv(\n",
      "                (block): Sequential(\n",
      "                  (0): Conv2dNormActivation(\n",
      "                    (0): Conv2d(112, 672, kernel_size=(1, 1), stride=(1, 1), bias=False)\n",
      "                    (1): BatchNorm2d(672, eps=1e-05, momentum=0.1, affine=True, track_running_stats=True)\n",
      "                    (2): SiLU(inplace=True)\n",
      "                  )\n",
      "                  (1): Conv2dNormActivation(\n",
      "                    (0): Conv2d(672, 672, kernel_size=(5, 5), stride=(2, 2), padding=(2, 2), groups=672, bias=False)\n",
      "                    (1): BatchNorm2d(672, eps=1e-05, momentum=0.1, affine=True, track_running_stats=True)\n",
      "                    (2): SiLU(inplace=True)\n",
      "                  )\n",
      "                  (2): SqueezeExcitation(\n",
      "                    (avgpool): AdaptiveAvgPool2d(output_size=1)\n",
      "                    (fc1): Conv2d(672, 28, kernel_size=(1, 1), stride=(1, 1))\n",
      "                    (fc2): Conv2d(28, 672, kernel_size=(1, 1), stride=(1, 1))\n",
      "                    (activation): SiLU(inplace=True)\n",
      "                    (scale_activation): Sigmoid()\n",
      "                  )\n",
      "                  (3): Conv2dNormActivation(\n",
      "                    (0): Conv2d(672, 192, kernel_size=(1, 1), stride=(1, 1), bias=False)\n",
      "                    (1): BatchNorm2d(192, eps=1e-05, momentum=0.1, affine=True, track_running_stats=True)\n",
      "                  )\n",
      "                )\n",
      "                (stochastic_depth): StochasticDepth(p=0.1375, mode=row)\n",
      "              )\n",
      "              (1): MBConv(\n",
      "                (block): Sequential(\n",
      "                  (0): Conv2dNormActivation(\n",
      "                    (0): Conv2d(192, 1152, kernel_size=(1, 1), stride=(1, 1), bias=False)\n",
      "                    (1): BatchNorm2d(1152, eps=1e-05, momentum=0.1, affine=True, track_running_stats=True)\n",
      "                    (2): SiLU(inplace=True)\n",
      "                  )\n",
      "                  (1): Conv2dNormActivation(\n",
      "                    (0): Conv2d(1152, 1152, kernel_size=(5, 5), stride=(1, 1), padding=(2, 2), groups=1152, bias=False)\n",
      "                    (1): BatchNorm2d(1152, eps=1e-05, momentum=0.1, affine=True, track_running_stats=True)\n",
      "                    (2): SiLU(inplace=True)\n",
      "                  )\n",
      "                  (2): SqueezeExcitation(\n",
      "                    (avgpool): AdaptiveAvgPool2d(output_size=1)\n",
      "                    (fc1): Conv2d(1152, 48, kernel_size=(1, 1), stride=(1, 1))\n",
      "                    (fc2): Conv2d(48, 1152, kernel_size=(1, 1), stride=(1, 1))\n",
      "                    (activation): SiLU(inplace=True)\n",
      "                    (scale_activation): Sigmoid()\n",
      "                  )\n",
      "                  (3): Conv2dNormActivation(\n",
      "                    (0): Conv2d(1152, 192, kernel_size=(1, 1), stride=(1, 1), bias=False)\n",
      "                    (1): BatchNorm2d(192, eps=1e-05, momentum=0.1, affine=True, track_running_stats=True)\n",
      "                  )\n",
      "                )\n",
      "                (stochastic_depth): StochasticDepth(p=0.15000000000000002, mode=row)\n",
      "              )\n",
      "              (2): MBConv(\n",
      "                (block): Sequential(\n",
      "                  (0): Conv2dNormActivation(\n",
      "                    (0): Conv2d(192, 1152, kernel_size=(1, 1), stride=(1, 1), bias=False)\n",
      "                    (1): BatchNorm2d(1152, eps=1e-05, momentum=0.1, affine=True, track_running_stats=True)\n",
      "                    (2): SiLU(inplace=True)\n",
      "                  )\n",
      "                  (1): Conv2dNormActivation(\n",
      "                    (0): Conv2d(1152, 1152, kernel_size=(5, 5), stride=(1, 1), padding=(2, 2), groups=1152, bias=False)\n",
      "                    (1): BatchNorm2d(1152, eps=1e-05, momentum=0.1, affine=True, track_running_stats=True)\n",
      "                    (2): SiLU(inplace=True)\n",
      "                  )\n",
      "                  (2): SqueezeExcitation(\n",
      "                    (avgpool): AdaptiveAvgPool2d(output_size=1)\n",
      "                    (fc1): Conv2d(1152, 48, kernel_size=(1, 1), stride=(1, 1))\n",
      "                    (fc2): Conv2d(48, 1152, kernel_size=(1, 1), stride=(1, 1))\n",
      "                    (activation): SiLU(inplace=True)\n",
      "                    (scale_activation): Sigmoid()\n",
      "                  )\n",
      "                  (3): Conv2dNormActivation(\n",
      "                    (0): Conv2d(1152, 192, kernel_size=(1, 1), stride=(1, 1), bias=False)\n",
      "                    (1): BatchNorm2d(192, eps=1e-05, momentum=0.1, affine=True, track_running_stats=True)\n",
      "                  )\n",
      "                )\n",
      "                (stochastic_depth): StochasticDepth(p=0.1625, mode=row)\n",
      "              )\n",
      "              (3): MBConv(\n",
      "                (block): Sequential(\n",
      "                  (0): Conv2dNormActivation(\n",
      "                    (0): Conv2d(192, 1152, kernel_size=(1, 1), stride=(1, 1), bias=False)\n",
      "                    (1): BatchNorm2d(1152, eps=1e-05, momentum=0.1, affine=True, track_running_stats=True)\n",
      "                    (2): SiLU(inplace=True)\n",
      "                  )\n",
      "                  (1): Conv2dNormActivation(\n",
      "                    (0): Conv2d(1152, 1152, kernel_size=(5, 5), stride=(1, 1), padding=(2, 2), groups=1152, bias=False)\n",
      "                    (1): BatchNorm2d(1152, eps=1e-05, momentum=0.1, affine=True, track_running_stats=True)\n",
      "                    (2): SiLU(inplace=True)\n",
      "                  )\n",
      "                  (2): SqueezeExcitation(\n",
      "                    (avgpool): AdaptiveAvgPool2d(output_size=1)\n",
      "                    (fc1): Conv2d(1152, 48, kernel_size=(1, 1), stride=(1, 1))\n",
      "                    (fc2): Conv2d(48, 1152, kernel_size=(1, 1), stride=(1, 1))\n",
      "                    (activation): SiLU(inplace=True)\n",
      "                    (scale_activation): Sigmoid()\n",
      "                  )\n",
      "                  (3): Conv2dNormActivation(\n",
      "                    (0): Conv2d(1152, 192, kernel_size=(1, 1), stride=(1, 1), bias=False)\n",
      "                    (1): BatchNorm2d(192, eps=1e-05, momentum=0.1, affine=True, track_running_stats=True)\n",
      "                  )\n",
      "                )\n",
      "                (stochastic_depth): StochasticDepth(p=0.17500000000000002, mode=row)\n",
      "              )\n",
      "            )\n",
      "            (7): Sequential(\n",
      "              (0): MBConv(\n",
      "                (block): Sequential(\n",
      "                  (0): Conv2dNormActivation(\n",
      "                    (0): Conv2d(192, 1152, kernel_size=(1, 1), stride=(1, 1), bias=False)\n",
      "                    (1): BatchNorm2d(1152, eps=1e-05, momentum=0.1, affine=True, track_running_stats=True)\n",
      "                    (2): SiLU(inplace=True)\n",
      "                  )\n",
      "                  (1): Conv2dNormActivation(\n",
      "                    (0): Conv2d(1152, 1152, kernel_size=(3, 3), stride=(1, 1), padding=(1, 1), groups=1152, bias=False)\n",
      "                    (1): BatchNorm2d(1152, eps=1e-05, momentum=0.1, affine=True, track_running_stats=True)\n",
      "                    (2): SiLU(inplace=True)\n",
      "                  )\n",
      "                  (2): SqueezeExcitation(\n",
      "                    (avgpool): AdaptiveAvgPool2d(output_size=1)\n",
      "                    (fc1): Conv2d(1152, 48, kernel_size=(1, 1), stride=(1, 1))\n",
      "                    (fc2): Conv2d(48, 1152, kernel_size=(1, 1), stride=(1, 1))\n",
      "                    (activation): SiLU(inplace=True)\n",
      "                    (scale_activation): Sigmoid()\n",
      "                  )\n",
      "                  (3): Conv2dNormActivation(\n",
      "                    (0): Conv2d(1152, 320, kernel_size=(1, 1), stride=(1, 1), bias=False)\n",
      "                    (1): BatchNorm2d(320, eps=1e-05, momentum=0.1, affine=True, track_running_stats=True)\n",
      "                  )\n",
      "                )\n",
      "                (stochastic_depth): StochasticDepth(p=0.1875, mode=row)\n",
      "              )\n",
      "            )\n",
      "            (8): Conv2dNormActivation(\n",
      "              (0): Conv2d(320, 1280, kernel_size=(1, 1), stride=(1, 1), bias=False)\n",
      "              (1): BatchNorm2d(1280, eps=1e-05, momentum=0.1, affine=True, track_running_stats=True)\n",
      "              (2): SiLU(inplace=True)\n",
      "            )\n",
      "          )\n",
      "        )\n",
      "      )\n",
      "      (channel_adapter): ModuleList(\n",
      "        (0): Conv2d(24, 256, kernel_size=(1, 1), stride=(1, 1))\n",
      "        (1): Conv2d(40, 512, kernel_size=(1, 1), stride=(1, 1))\n",
      "        (2): Conv2d(112, 1024, kernel_size=(1, 1), stride=(1, 1))\n",
      "      )\n",
      "    )\n",
      "    (1): Conv(\n",
      "      (conv): Conv2d(16, 32, kernel_size=(3, 3), stride=(2, 2), padding=(1, 1), bias=False)\n",
      "      (bn): BatchNorm2d(32, eps=0.001, momentum=0.03, affine=True, track_running_stats=True)\n",
      "      (act): SiLU(inplace=True)\n",
      "    )\n",
      "    (2): C2f(\n",
      "      (cv1): Conv(\n",
      "        (conv): Conv2d(32, 32, kernel_size=(1, 1), stride=(1, 1), bias=False)\n",
      "        (bn): BatchNorm2d(32, eps=0.001, momentum=0.03, affine=True, track_running_stats=True)\n",
      "        (act): SiLU(inplace=True)\n",
      "      )\n",
      "      (cv2): Conv(\n",
      "        (conv): Conv2d(48, 32, kernel_size=(1, 1), stride=(1, 1), bias=False)\n",
      "        (bn): BatchNorm2d(32, eps=0.001, momentum=0.03, affine=True, track_running_stats=True)\n",
      "        (act): SiLU(inplace=True)\n",
      "      )\n",
      "      (m): ModuleList(\n",
      "        (0): Bottleneck(\n",
      "          (cv1): Conv(\n",
      "            (conv): Conv2d(16, 16, kernel_size=(3, 3), stride=(1, 1), padding=(1, 1), bias=False)\n",
      "            (bn): BatchNorm2d(16, eps=0.001, momentum=0.03, affine=True, track_running_stats=True)\n",
      "            (act): SiLU(inplace=True)\n",
      "          )\n",
      "          (cv2): Conv(\n",
      "            (conv): Conv2d(16, 16, kernel_size=(3, 3), stride=(1, 1), padding=(1, 1), bias=False)\n",
      "            (bn): BatchNorm2d(16, eps=0.001, momentum=0.03, affine=True, track_running_stats=True)\n",
      "            (act): SiLU(inplace=True)\n",
      "          )\n",
      "        )\n",
      "      )\n",
      "    )\n",
      "    (3): Conv(\n",
      "      (conv): Conv2d(32, 64, kernel_size=(3, 3), stride=(2, 2), padding=(1, 1), bias=False)\n",
      "      (bn): BatchNorm2d(64, eps=0.001, momentum=0.03, affine=True, track_running_stats=True)\n",
      "      (act): SiLU(inplace=True)\n",
      "    )\n",
      "    (4): C2f(\n",
      "      (cv1): Conv(\n",
      "        (conv): Conv2d(64, 64, kernel_size=(1, 1), stride=(1, 1), bias=False)\n",
      "        (bn): BatchNorm2d(64, eps=0.001, momentum=0.03, affine=True, track_running_stats=True)\n",
      "        (act): SiLU(inplace=True)\n",
      "      )\n",
      "      (cv2): Conv(\n",
      "        (conv): Conv2d(128, 64, kernel_size=(1, 1), stride=(1, 1), bias=False)\n",
      "        (bn): BatchNorm2d(64, eps=0.001, momentum=0.03, affine=True, track_running_stats=True)\n",
      "        (act): SiLU(inplace=True)\n",
      "      )\n",
      "      (m): ModuleList(\n",
      "        (0-1): 2 x Bottleneck(\n",
      "          (cv1): Conv(\n",
      "            (conv): Conv2d(32, 32, kernel_size=(3, 3), stride=(1, 1), padding=(1, 1), bias=False)\n",
      "            (bn): BatchNorm2d(32, eps=0.001, momentum=0.03, affine=True, track_running_stats=True)\n",
      "            (act): SiLU(inplace=True)\n",
      "          )\n",
      "          (cv2): Conv(\n",
      "            (conv): Conv2d(32, 32, kernel_size=(3, 3), stride=(1, 1), padding=(1, 1), bias=False)\n",
      "            (bn): BatchNorm2d(32, eps=0.001, momentum=0.03, affine=True, track_running_stats=True)\n",
      "            (act): SiLU(inplace=True)\n",
      "          )\n",
      "        )\n",
      "      )\n",
      "    )\n",
      "    (5): Conv(\n",
      "      (conv): Conv2d(64, 128, kernel_size=(3, 3), stride=(2, 2), padding=(1, 1), bias=False)\n",
      "      (bn): BatchNorm2d(128, eps=0.001, momentum=0.03, affine=True, track_running_stats=True)\n",
      "      (act): SiLU(inplace=True)\n",
      "    )\n",
      "    (6): C2f(\n",
      "      (cv1): Conv(\n",
      "        (conv): Conv2d(128, 128, kernel_size=(1, 1), stride=(1, 1), bias=False)\n",
      "        (bn): BatchNorm2d(128, eps=0.001, momentum=0.03, affine=True, track_running_stats=True)\n",
      "        (act): SiLU(inplace=True)\n",
      "      )\n",
      "      (cv2): Conv(\n",
      "        (conv): Conv2d(256, 128, kernel_size=(1, 1), stride=(1, 1), bias=False)\n",
      "        (bn): BatchNorm2d(128, eps=0.001, momentum=0.03, affine=True, track_running_stats=True)\n",
      "        (act): SiLU(inplace=True)\n",
      "      )\n",
      "      (m): ModuleList(\n",
      "        (0-1): 2 x Bottleneck(\n",
      "          (cv1): Conv(\n",
      "            (conv): Conv2d(64, 64, kernel_size=(3, 3), stride=(1, 1), padding=(1, 1), bias=False)\n",
      "            (bn): BatchNorm2d(64, eps=0.001, momentum=0.03, affine=True, track_running_stats=True)\n",
      "            (act): SiLU(inplace=True)\n",
      "          )\n",
      "          (cv2): Conv(\n",
      "            (conv): Conv2d(64, 64, kernel_size=(3, 3), stride=(1, 1), padding=(1, 1), bias=False)\n",
      "            (bn): BatchNorm2d(64, eps=0.001, momentum=0.03, affine=True, track_running_stats=True)\n",
      "            (act): SiLU(inplace=True)\n",
      "          )\n",
      "        )\n",
      "      )\n",
      "    )\n",
      "    (7): Conv(\n",
      "      (conv): Conv2d(128, 256, kernel_size=(3, 3), stride=(2, 2), padding=(1, 1), bias=False)\n",
      "      (bn): BatchNorm2d(256, eps=0.001, momentum=0.03, affine=True, track_running_stats=True)\n",
      "      (act): SiLU(inplace=True)\n",
      "    )\n",
      "    (8): C2f(\n",
      "      (cv1): Conv(\n",
      "        (conv): Conv2d(256, 256, kernel_size=(1, 1), stride=(1, 1), bias=False)\n",
      "        (bn): BatchNorm2d(256, eps=0.001, momentum=0.03, affine=True, track_running_stats=True)\n",
      "        (act): SiLU(inplace=True)\n",
      "      )\n",
      "      (cv2): Conv(\n",
      "        (conv): Conv2d(384, 256, kernel_size=(1, 1), stride=(1, 1), bias=False)\n",
      "        (bn): BatchNorm2d(256, eps=0.001, momentum=0.03, affine=True, track_running_stats=True)\n",
      "        (act): SiLU(inplace=True)\n",
      "      )\n",
      "      (m): ModuleList(\n",
      "        (0): Bottleneck(\n",
      "          (cv1): Conv(\n",
      "            (conv): Conv2d(128, 128, kernel_size=(3, 3), stride=(1, 1), padding=(1, 1), bias=False)\n",
      "            (bn): BatchNorm2d(128, eps=0.001, momentum=0.03, affine=True, track_running_stats=True)\n",
      "            (act): SiLU(inplace=True)\n",
      "          )\n",
      "          (cv2): Conv(\n",
      "            (conv): Conv2d(128, 128, kernel_size=(3, 3), stride=(1, 1), padding=(1, 1), bias=False)\n",
      "            (bn): BatchNorm2d(128, eps=0.001, momentum=0.03, affine=True, track_running_stats=True)\n",
      "            (act): SiLU(inplace=True)\n",
      "          )\n",
      "        )\n",
      "      )\n",
      "    )\n",
      "    (9): SPPF(\n",
      "      (cv1): Conv(\n",
      "        (conv): Conv2d(256, 128, kernel_size=(1, 1), stride=(1, 1), bias=False)\n",
      "        (bn): BatchNorm2d(128, eps=0.001, momentum=0.03, affine=True, track_running_stats=True)\n",
      "        (act): SiLU(inplace=True)\n",
      "      )\n",
      "      (cv2): Conv(\n",
      "        (conv): Conv2d(512, 256, kernel_size=(1, 1), stride=(1, 1), bias=False)\n",
      "        (bn): BatchNorm2d(256, eps=0.001, momentum=0.03, affine=True, track_running_stats=True)\n",
      "        (act): SiLU(inplace=True)\n",
      "      )\n",
      "      (m): MaxPool2d(kernel_size=5, stride=1, padding=2, dilation=1, ceil_mode=False)\n",
      "    )\n",
      "    (10): Upsample(scale_factor=2.0, mode='nearest')\n",
      "    (11): Concat()\n",
      "    (12): C2f(\n",
      "      (cv1): Conv(\n",
      "        (conv): Conv2d(384, 128, kernel_size=(1, 1), stride=(1, 1), bias=False)\n",
      "        (bn): BatchNorm2d(128, eps=0.001, momentum=0.03, affine=True, track_running_stats=True)\n",
      "        (act): SiLU(inplace=True)\n",
      "      )\n",
      "      (cv2): Conv(\n",
      "        (conv): Conv2d(192, 128, kernel_size=(1, 1), stride=(1, 1), bias=False)\n",
      "        (bn): BatchNorm2d(128, eps=0.001, momentum=0.03, affine=True, track_running_stats=True)\n",
      "        (act): SiLU(inplace=True)\n",
      "      )\n",
      "      (m): ModuleList(\n",
      "        (0): Bottleneck(\n",
      "          (cv1): Conv(\n",
      "            (conv): Conv2d(64, 64, kernel_size=(3, 3), stride=(1, 1), padding=(1, 1), bias=False)\n",
      "            (bn): BatchNorm2d(64, eps=0.001, momentum=0.03, affine=True, track_running_stats=True)\n",
      "            (act): SiLU(inplace=True)\n",
      "          )\n",
      "          (cv2): Conv(\n",
      "            (conv): Conv2d(64, 64, kernel_size=(3, 3), stride=(1, 1), padding=(1, 1), bias=False)\n",
      "            (bn): BatchNorm2d(64, eps=0.001, momentum=0.03, affine=True, track_running_stats=True)\n",
      "            (act): SiLU(inplace=True)\n",
      "          )\n",
      "        )\n",
      "      )\n",
      "    )\n",
      "    (13): Upsample(scale_factor=2.0, mode='nearest')\n",
      "    (14): Concat()\n",
      "    (15): C2f(\n",
      "      (cv1): Conv(\n",
      "        (conv): Conv2d(192, 64, kernel_size=(1, 1), stride=(1, 1), bias=False)\n",
      "        (bn): BatchNorm2d(64, eps=0.001, momentum=0.03, affine=True, track_running_stats=True)\n",
      "        (act): SiLU(inplace=True)\n",
      "      )\n",
      "      (cv2): Conv(\n",
      "        (conv): Conv2d(96, 64, kernel_size=(1, 1), stride=(1, 1), bias=False)\n",
      "        (bn): BatchNorm2d(64, eps=0.001, momentum=0.03, affine=True, track_running_stats=True)\n",
      "        (act): SiLU(inplace=True)\n",
      "      )\n",
      "      (m): ModuleList(\n",
      "        (0): Bottleneck(\n",
      "          (cv1): Conv(\n",
      "            (conv): Conv2d(32, 32, kernel_size=(3, 3), stride=(1, 1), padding=(1, 1), bias=False)\n",
      "            (bn): BatchNorm2d(32, eps=0.001, momentum=0.03, affine=True, track_running_stats=True)\n",
      "            (act): SiLU(inplace=True)\n",
      "          )\n",
      "          (cv2): Conv(\n",
      "            (conv): Conv2d(32, 32, kernel_size=(3, 3), stride=(1, 1), padding=(1, 1), bias=False)\n",
      "            (bn): BatchNorm2d(32, eps=0.001, momentum=0.03, affine=True, track_running_stats=True)\n",
      "            (act): SiLU(inplace=True)\n",
      "          )\n",
      "        )\n",
      "      )\n",
      "    )\n",
      "    (16): Conv(\n",
      "      (conv): Conv2d(64, 64, kernel_size=(3, 3), stride=(2, 2), padding=(1, 1), bias=False)\n",
      "      (bn): BatchNorm2d(64, eps=0.001, momentum=0.03, affine=True, track_running_stats=True)\n",
      "      (act): SiLU(inplace=True)\n",
      "    )\n",
      "    (17): Concat()\n",
      "    (18): C2f(\n",
      "      (cv1): Conv(\n",
      "        (conv): Conv2d(192, 128, kernel_size=(1, 1), stride=(1, 1), bias=False)\n",
      "        (bn): BatchNorm2d(128, eps=0.001, momentum=0.03, affine=True, track_running_stats=True)\n",
      "        (act): SiLU(inplace=True)\n",
      "      )\n",
      "      (cv2): Conv(\n",
      "        (conv): Conv2d(192, 128, kernel_size=(1, 1), stride=(1, 1), bias=False)\n",
      "        (bn): BatchNorm2d(128, eps=0.001, momentum=0.03, affine=True, track_running_stats=True)\n",
      "        (act): SiLU(inplace=True)\n",
      "      )\n",
      "      (m): ModuleList(\n",
      "        (0): Bottleneck(\n",
      "          (cv1): Conv(\n",
      "            (conv): Conv2d(64, 64, kernel_size=(3, 3), stride=(1, 1), padding=(1, 1), bias=False)\n",
      "            (bn): BatchNorm2d(64, eps=0.001, momentum=0.03, affine=True, track_running_stats=True)\n",
      "            (act): SiLU(inplace=True)\n",
      "          )\n",
      "          (cv2): Conv(\n",
      "            (conv): Conv2d(64, 64, kernel_size=(3, 3), stride=(1, 1), padding=(1, 1), bias=False)\n",
      "            (bn): BatchNorm2d(64, eps=0.001, momentum=0.03, affine=True, track_running_stats=True)\n",
      "            (act): SiLU(inplace=True)\n",
      "          )\n",
      "        )\n",
      "      )\n",
      "    )\n",
      "    (19): Conv(\n",
      "      (conv): Conv2d(128, 128, kernel_size=(3, 3), stride=(2, 2), padding=(1, 1), bias=False)\n",
      "      (bn): BatchNorm2d(128, eps=0.001, momentum=0.03, affine=True, track_running_stats=True)\n",
      "      (act): SiLU(inplace=True)\n",
      "    )\n",
      "    (20): Concat()\n",
      "    (21): C2f(\n",
      "      (cv1): Conv(\n",
      "        (conv): Conv2d(384, 256, kernel_size=(1, 1), stride=(1, 1), bias=False)\n",
      "        (bn): BatchNorm2d(256, eps=0.001, momentum=0.03, affine=True, track_running_stats=True)\n",
      "        (act): SiLU(inplace=True)\n",
      "      )\n",
      "      (cv2): Conv(\n",
      "        (conv): Conv2d(384, 256, kernel_size=(1, 1), stride=(1, 1), bias=False)\n",
      "        (bn): BatchNorm2d(256, eps=0.001, momentum=0.03, affine=True, track_running_stats=True)\n",
      "        (act): SiLU(inplace=True)\n",
      "      )\n",
      "      (m): ModuleList(\n",
      "        (0): Bottleneck(\n",
      "          (cv1): Conv(\n",
      "            (conv): Conv2d(128, 128, kernel_size=(3, 3), stride=(1, 1), padding=(1, 1), bias=False)\n",
      "            (bn): BatchNorm2d(128, eps=0.001, momentum=0.03, affine=True, track_running_stats=True)\n",
      "            (act): SiLU(inplace=True)\n",
      "          )\n",
      "          (cv2): Conv(\n",
      "            (conv): Conv2d(128, 128, kernel_size=(3, 3), stride=(1, 1), padding=(1, 1), bias=False)\n",
      "            (bn): BatchNorm2d(128, eps=0.001, momentum=0.03, affine=True, track_running_stats=True)\n",
      "            (act): SiLU(inplace=True)\n",
      "          )\n",
      "        )\n",
      "      )\n",
      "    )\n",
      "    (22): Detect(\n",
      "      (cv2): ModuleList(\n",
      "        (0): Sequential(\n",
      "          (0): Conv(\n",
      "            (conv): Conv2d(64, 64, kernel_size=(3, 3), stride=(1, 1), padding=(1, 1), bias=False)\n",
      "            (bn): BatchNorm2d(64, eps=0.001, momentum=0.03, affine=True, track_running_stats=True)\n",
      "            (act): SiLU(inplace=True)\n",
      "          )\n",
      "          (1): Conv(\n",
      "            (conv): Conv2d(64, 64, kernel_size=(3, 3), stride=(1, 1), padding=(1, 1), bias=False)\n",
      "            (bn): BatchNorm2d(64, eps=0.001, momentum=0.03, affine=True, track_running_stats=True)\n",
      "            (act): SiLU(inplace=True)\n",
      "          )\n",
      "          (2): Conv2d(64, 64, kernel_size=(1, 1), stride=(1, 1))\n",
      "        )\n",
      "        (1): Sequential(\n",
      "          (0): Conv(\n",
      "            (conv): Conv2d(128, 64, kernel_size=(3, 3), stride=(1, 1), padding=(1, 1), bias=False)\n",
      "            (bn): BatchNorm2d(64, eps=0.001, momentum=0.03, affine=True, track_running_stats=True)\n",
      "            (act): SiLU(inplace=True)\n",
      "          )\n",
      "          (1): Conv(\n",
      "            (conv): Conv2d(64, 64, kernel_size=(3, 3), stride=(1, 1), padding=(1, 1), bias=False)\n",
      "            (bn): BatchNorm2d(64, eps=0.001, momentum=0.03, affine=True, track_running_stats=True)\n",
      "            (act): SiLU(inplace=True)\n",
      "          )\n",
      "          (2): Conv2d(64, 64, kernel_size=(1, 1), stride=(1, 1))\n",
      "        )\n",
      "        (2): Sequential(\n",
      "          (0): Conv(\n",
      "            (conv): Conv2d(256, 64, kernel_size=(3, 3), stride=(1, 1), padding=(1, 1), bias=False)\n",
      "            (bn): BatchNorm2d(64, eps=0.001, momentum=0.03, affine=True, track_running_stats=True)\n",
      "            (act): SiLU(inplace=True)\n",
      "          )\n",
      "          (1): Conv(\n",
      "            (conv): Conv2d(64, 64, kernel_size=(3, 3), stride=(1, 1), padding=(1, 1), bias=False)\n",
      "            (bn): BatchNorm2d(64, eps=0.001, momentum=0.03, affine=True, track_running_stats=True)\n",
      "            (act): SiLU(inplace=True)\n",
      "          )\n",
      "          (2): Conv2d(64, 64, kernel_size=(1, 1), stride=(1, 1))\n",
      "        )\n",
      "      )\n",
      "      (cv3): ModuleList(\n",
      "        (0): Sequential(\n",
      "          (0): Conv(\n",
      "            (conv): Conv2d(64, 80, kernel_size=(3, 3), stride=(1, 1), padding=(1, 1), bias=False)\n",
      "            (bn): BatchNorm2d(80, eps=0.001, momentum=0.03, affine=True, track_running_stats=True)\n",
      "            (act): SiLU(inplace=True)\n",
      "          )\n",
      "          (1): Conv(\n",
      "            (conv): Conv2d(80, 80, kernel_size=(3, 3), stride=(1, 1), padding=(1, 1), bias=False)\n",
      "            (bn): BatchNorm2d(80, eps=0.001, momentum=0.03, affine=True, track_running_stats=True)\n",
      "            (act): SiLU(inplace=True)\n",
      "          )\n",
      "          (2): Conv2d(80, 80, kernel_size=(1, 1), stride=(1, 1))\n",
      "        )\n",
      "        (1): Sequential(\n",
      "          (0): Conv(\n",
      "            (conv): Conv2d(128, 80, kernel_size=(3, 3), stride=(1, 1), padding=(1, 1), bias=False)\n",
      "            (bn): BatchNorm2d(80, eps=0.001, momentum=0.03, affine=True, track_running_stats=True)\n",
      "            (act): SiLU(inplace=True)\n",
      "          )\n",
      "          (1): Conv(\n",
      "            (conv): Conv2d(80, 80, kernel_size=(3, 3), stride=(1, 1), padding=(1, 1), bias=False)\n",
      "            (bn): BatchNorm2d(80, eps=0.001, momentum=0.03, affine=True, track_running_stats=True)\n",
      "            (act): SiLU(inplace=True)\n",
      "          )\n",
      "          (2): Conv2d(80, 80, kernel_size=(1, 1), stride=(1, 1))\n",
      "        )\n",
      "        (2): Sequential(\n",
      "          (0): Conv(\n",
      "            (conv): Conv2d(256, 80, kernel_size=(3, 3), stride=(1, 1), padding=(1, 1), bias=False)\n",
      "            (bn): BatchNorm2d(80, eps=0.001, momentum=0.03, affine=True, track_running_stats=True)\n",
      "            (act): SiLU(inplace=True)\n",
      "          )\n",
      "          (1): Conv(\n",
      "            (conv): Conv2d(80, 80, kernel_size=(3, 3), stride=(1, 1), padding=(1, 1), bias=False)\n",
      "            (bn): BatchNorm2d(80, eps=0.001, momentum=0.03, affine=True, track_running_stats=True)\n",
      "            (act): SiLU(inplace=True)\n",
      "          )\n",
      "          (2): Conv2d(80, 80, kernel_size=(1, 1), stride=(1, 1))\n",
      "        )\n",
      "      )\n",
      "      (dfl): DFL(\n",
      "        (conv): Conv2d(16, 1, kernel_size=(1, 1), stride=(1, 1), bias=False)\n",
      "      )\n",
      "    )\n",
      "  )\n",
      ")\n",
      "New https://pypi.org/project/ultralytics/8.3.86 available  Update with 'pip install -U ultralytics'\n",
      "Ultralytics 8.3.70  Python-3.11.11 torch-2.7.0.dev20250127+cu126 CUDA:0 (NVIDIA GeForce RTX 3050 Laptop GPU, 4096MiB)\n",
      "\u001b[34m\u001b[1mengine\\trainer: \u001b[0mtask=detect, mode=train, model=YOLOv8n.pt, data=tomatOD_yolo/data.yaml, epochs=25, time=None, patience=100, batch=16, imgsz=300, save=True, save_period=1, cache=False, device=0, workers=0, project=runs/detect, name=tomatOD_run_effnet, exist_ok=False, pretrained=True, optimizer=SGD, verbose=True, seed=0, deterministic=True, single_cls=False, rect=False, cos_lr=False, close_mosaic=10, resume=False, amp=True, fraction=1.0, profile=False, freeze=None, multi_scale=False, overlap_mask=True, mask_ratio=4, dropout=0.0, val=True, split=val, save_json=False, save_hybrid=False, conf=None, iou=0.7, max_det=300, half=False, dnn=False, plots=True, source=None, vid_stride=1, stream_buffer=False, visualize=False, augment=False, agnostic_nms=False, classes=None, retina_masks=False, embed=None, show=False, save_frames=False, save_txt=False, save_conf=False, save_crop=False, show_labels=True, show_conf=True, show_boxes=True, line_width=None, format=torchscript, keras=False, optimize=False, int8=False, dynamic=False, simplify=True, opset=None, workspace=None, nms=False, lr0=0.01, lrf=0.0001, momentum=0.9, weight_decay=0.0005, warmup_epochs=3.0, warmup_momentum=0.8, warmup_bias_lr=0.1, box=7.5, cls=0.5, dfl=1.5, pose=12.0, kobj=1.0, nbs=64, hsv_h=0.015, hsv_s=0.7, hsv_v=0.4, degrees=0.0, translate=0.1, scale=0.5, shear=0.0, perspective=0.0, flipud=0.0, fliplr=0.5, bgr=0.0, mosaic=1.0, mixup=0.0, copy_paste=0.0, copy_paste_mode=flip, auto_augment=randaugment, erasing=0.4, crop_fraction=1.0, cfg=None, tracker=botsort.yaml, save_dir=runs\\detect\\tomatOD_run_effnet\n",
      "Overriding model.yaml nc=80 with nc=3\n",
      "\n",
      "                   from  n    params  module                                       arguments                     \n",
      "  0                  -1  1       464  ultralytics.nn.modules.conv.Conv             [3, 16, 3, 2]                 \n",
      "  1                  -1  1      4672  ultralytics.nn.modules.conv.Conv             [16, 32, 3, 2]                \n",
      "  2                  -1  1      7360  ultralytics.nn.modules.block.C2f             [32, 32, 1, True]             \n",
      "  3                  -1  1     18560  ultralytics.nn.modules.conv.Conv             [32, 64, 3, 2]                \n",
      "  4                  -1  2     49664  ultralytics.nn.modules.block.C2f             [64, 64, 2, True]             \n",
      "  5                  -1  1     73984  ultralytics.nn.modules.conv.Conv             [64, 128, 3, 2]               \n",
      "  6                  -1  2    197632  ultralytics.nn.modules.block.C2f             [128, 128, 2, True]           \n",
      "  7                  -1  1    295424  ultralytics.nn.modules.conv.Conv             [128, 256, 3, 2]              \n",
      "  8                  -1  1    460288  ultralytics.nn.modules.block.C2f             [256, 256, 1, True]           \n",
      "  9                  -1  1    164608  ultralytics.nn.modules.block.SPPF            [256, 256, 5]                 \n",
      " 10                  -1  1         0  torch.nn.modules.upsampling.Upsample         [None, 2, 'nearest']          \n",
      " 11             [-1, 6]  1         0  ultralytics.nn.modules.conv.Concat           [1]                           \n",
      " 12                  -1  1    148224  ultralytics.nn.modules.block.C2f             [384, 128, 1]                 \n",
      " 13                  -1  1         0  torch.nn.modules.upsampling.Upsample         [None, 2, 'nearest']          \n",
      " 14             [-1, 4]  1         0  ultralytics.nn.modules.conv.Concat           [1]                           \n",
      " 15                  -1  1     37248  ultralytics.nn.modules.block.C2f             [192, 64, 1]                  \n",
      " 16                  -1  1     36992  ultralytics.nn.modules.conv.Conv             [64, 64, 3, 2]                \n",
      " 17            [-1, 12]  1         0  ultralytics.nn.modules.conv.Concat           [1]                           \n",
      " 18                  -1  1    123648  ultralytics.nn.modules.block.C2f             [192, 128, 1]                 \n",
      " 19                  -1  1    147712  ultralytics.nn.modules.conv.Conv             [128, 128, 3, 2]              \n",
      " 20             [-1, 9]  1         0  ultralytics.nn.modules.conv.Concat           [1]                           \n",
      " 21                  -1  1    493056  ultralytics.nn.modules.block.C2f             [384, 256, 1]                 \n",
      " 22        [15, 18, 21]  1    751897  ultralytics.nn.modules.head.Detect           [3, [64, 128, 256]]           \n",
      "Model summary: 225 layers, 3,011,433 parameters, 3,011,417 gradients, 8.2 GFLOPs\n",
      "\n",
      "Transferred 313/355 items from pretrained weights\n",
      "Freezing layer 'model.22.dfl.conv.weight'\n",
      "\u001b[34m\u001b[1mAMP: \u001b[0mrunning Automatic Mixed Precision (AMP) checks...\n",
      "\u001b[34m\u001b[1mAMP: \u001b[0mchecks passed \n",
      "WARNING  imgsz=[300] must be multiple of max stride 32, updating to [320]\n"
     ]
    },
    {
     "name": "stderr",
     "output_type": "stream",
     "text": [
      "\u001b[34m\u001b[1mtrain: \u001b[0mScanning D:\\YOLOV8-tomatod\\tomatOD_yolo\\train\\labels.cache... 200 images, 0 backgrounds, 0 corrupt: 100%|███████\u001b[0m"
     ]
    },
    {
     "name": "stdout",
     "output_type": "stream",
     "text": [
      "\u001b[34m\u001b[1mtrain: \u001b[0mWARNING  D:\\YOLOV8-tomatod\\tomatOD_yolo\\train\\images\\stereo20190405_133623_p1_snap_036.jpg: 1 duplicate labels removed\n",
      "\u001b[34m\u001b[1mtrain: \u001b[0mWARNING  D:\\YOLOV8-tomatod\\tomatOD_yolo\\train\\images\\stereo20190405_133623_p2_snap_087.jpg: 2 duplicate labels removed\n",
      "\u001b[34m\u001b[1mtrain: \u001b[0mWARNING  D:\\YOLOV8-tomatod\\tomatOD_yolo\\train\\images\\stereo20190406_054921_p0_snap_414.jpg: 1 duplicate labels removed\n",
      "\u001b[34m\u001b[1mtrain: \u001b[0mWARNING  D:\\YOLOV8-tomatod\\tomatOD_yolo\\train\\images\\stereo20190406_054921_p0_snap_544.jpg: 1 duplicate labels removed\n",
      "\u001b[34m\u001b[1mtrain: \u001b[0mWARNING  D:\\YOLOV8-tomatod\\tomatOD_yolo\\train\\images\\stereo20190406_054921_p0_snap_822.jpg: 1 duplicate labels removed\n"
     ]
    },
    {
     "name": "stderr",
     "output_type": "stream",
     "text": [
      "\n",
      "\u001b[34m\u001b[1mval: \u001b[0mScanning D:\\YOLOV8-tomatod\\tomatOD_yolo\\val\\labels.cache... 22 images, 0 backgrounds, 0 corrupt: 100%|██████████| \u001b[0m"
     ]
    },
    {
     "name": "stdout",
     "output_type": "stream",
     "text": [
      "\u001b[34m\u001b[1mval: \u001b[0mWARNING  D:\\YOLOV8-tomatod\\tomatOD_yolo\\val\\images\\stereo20190405_133623_p2_snap_043.jpg: 1 duplicate labels removed\n",
      "\u001b[34m\u001b[1mval: \u001b[0mWARNING  D:\\YOLOV8-tomatod\\tomatOD_yolo\\val\\images\\stereo20190406_065607_p0_snap_080.jpg: 1 duplicate labels removed\n"
     ]
    },
    {
     "name": "stderr",
     "output_type": "stream",
     "text": [
      "\n"
     ]
    },
    {
     "name": "stdout",
     "output_type": "stream",
     "text": [
      "Plotting labels to runs\\detect\\tomatOD_run_effnet\\labels.jpg... \n",
      "\u001b[34m\u001b[1moptimizer:\u001b[0m SGD(lr=0.01, momentum=0.9) with parameter groups 57 weight(decay=0.0), 64 weight(decay=0.0005), 63 bias(decay=0.0)\n",
      "Image sizes 320 train, 320 val\n",
      "Using 0 dataloader workers\n",
      "Logging results to \u001b[1mruns\\detect\\tomatOD_run_effnet\u001b[0m\n",
      "Starting training for 25 epochs...\n",
      "\n",
      "      Epoch    GPU_mem   box_loss   cls_loss   dfl_loss  Instances       Size\n"
     ]
    },
    {
     "name": "stderr",
     "output_type": "stream",
     "text": [
      "       1/25     0.623G       3.02      4.456      1.518         85        320: 100%|██████████| 13/13 [00:11<00:00,  1.\n",
      "                 Class     Images  Instances      Box(P          R      mAP50  mAP50-95): 100%|██████████| 1/1 [00:01<0"
     ]
    },
    {
     "name": "stdout",
     "output_type": "stream",
     "text": [
      "                   all         22        245          0          0          0          0\n"
     ]
    },
    {
     "name": "stderr",
     "output_type": "stream",
     "text": [
      "\n"
     ]
    },
    {
     "name": "stdout",
     "output_type": "stream",
     "text": [
      "\n",
      "      Epoch    GPU_mem   box_loss   cls_loss   dfl_loss  Instances       Size\n"
     ]
    },
    {
     "name": "stderr",
     "output_type": "stream",
     "text": [
      "       2/25     0.614G      2.283      4.139      1.161         90        320: 100%|██████████| 13/13 [00:04<00:00,  3.\n",
      "                 Class     Images  Instances      Box(P          R      mAP50  mAP50-95): 100%|██████████| 1/1 [00:00<0"
     ]
    },
    {
     "name": "stdout",
     "output_type": "stream",
     "text": [
      "                   all         22        245          0          0          0          0\n"
     ]
    },
    {
     "name": "stderr",
     "output_type": "stream",
     "text": [
      "\n"
     ]
    },
    {
     "name": "stdout",
     "output_type": "stream",
     "text": [
      "\n",
      "      Epoch    GPU_mem   box_loss   cls_loss   dfl_loss  Instances       Size\n"
     ]
    },
    {
     "name": "stderr",
     "output_type": "stream",
     "text": [
      "       3/25     0.621G      2.079      3.346      1.048         74        320: 100%|██████████| 13/13 [00:04<00:00,  3.\n",
      "                 Class     Images  Instances      Box(P          R      mAP50  mAP50-95): 100%|██████████| 1/1 [00:00<0"
     ]
    },
    {
     "name": "stdout",
     "output_type": "stream",
     "text": [
      "                   all         22        245   0.000508     0.0115   0.000266    6.8e-05\n"
     ]
    },
    {
     "name": "stderr",
     "output_type": "stream",
     "text": [
      "\n"
     ]
    },
    {
     "name": "stdout",
     "output_type": "stream",
     "text": [
      "\n",
      "      Epoch    GPU_mem   box_loss   cls_loss   dfl_loss  Instances       Size\n"
     ]
    },
    {
     "name": "stderr",
     "output_type": "stream",
     "text": [
      "       4/25     0.621G      1.995      2.426      1.038         93        320: 100%|██████████| 13/13 [00:04<00:00,  3.\n",
      "                 Class     Images  Instances      Box(P          R      mAP50  mAP50-95): 100%|██████████| 1/1 [00:00<0"
     ]
    },
    {
     "name": "stdout",
     "output_type": "stream",
     "text": [
      "                   all         22        245    0.00362     0.0307    0.00242   0.000767\n"
     ]
    },
    {
     "name": "stderr",
     "output_type": "stream",
     "text": [
      "\n"
     ]
    },
    {
     "name": "stdout",
     "output_type": "stream",
     "text": [
      "\n",
      "      Epoch    GPU_mem   box_loss   cls_loss   dfl_loss  Instances       Size\n"
     ]
    },
    {
     "name": "stderr",
     "output_type": "stream",
     "text": [
      "       5/25     0.621G      2.055      2.076      1.027         51        320: 100%|██████████| 13/13 [00:04<00:00,  2.\n",
      "                 Class     Images  Instances      Box(P          R      mAP50  mAP50-95): 100%|██████████| 1/1 [00:00<0"
     ]
    },
    {
     "name": "stdout",
     "output_type": "stream",
     "text": [
      "                   all         22        245    0.00557     0.0729     0.0149    0.00563\n"
     ]
    },
    {
     "name": "stderr",
     "output_type": "stream",
     "text": [
      "\n"
     ]
    },
    {
     "name": "stdout",
     "output_type": "stream",
     "text": [
      "\n",
      "      Epoch    GPU_mem   box_loss   cls_loss   dfl_loss  Instances       Size\n"
     ]
    },
    {
     "name": "stderr",
     "output_type": "stream",
     "text": [
      "       6/25     0.614G      2.021      1.859      1.021        124        320: 100%|██████████| 13/13 [00:04<00:00,  2.\n",
      "                 Class     Images  Instances      Box(P          R      mAP50  mAP50-95): 100%|██████████| 1/1 [00:00<0"
     ]
    },
    {
     "name": "stdout",
     "output_type": "stream",
     "text": [
      "                   all         22        245     0.0103      0.222     0.0412     0.0232\n"
     ]
    },
    {
     "name": "stderr",
     "output_type": "stream",
     "text": [
      "\n"
     ]
    },
    {
     "name": "stdout",
     "output_type": "stream",
     "text": [
      "\n",
      "      Epoch    GPU_mem   box_loss   cls_loss   dfl_loss  Instances       Size\n"
     ]
    },
    {
     "name": "stderr",
     "output_type": "stream",
     "text": [
      "       7/25      0.61G      1.973      1.789      1.016         76        320: 100%|██████████| 13/13 [00:04<00:00,  2.\n",
      "                 Class     Images  Instances      Box(P          R      mAP50  mAP50-95): 100%|██████████| 1/1 [00:00<0"
     ]
    },
    {
     "name": "stdout",
     "output_type": "stream",
     "text": [
      "                   all         22        245    0.00954      0.225     0.0372     0.0167\n"
     ]
    },
    {
     "name": "stderr",
     "output_type": "stream",
     "text": [
      "\n"
     ]
    },
    {
     "name": "stdout",
     "output_type": "stream",
     "text": [
      "\n",
      "      Epoch    GPU_mem   box_loss   cls_loss   dfl_loss  Instances       Size\n"
     ]
    },
    {
     "name": "stderr",
     "output_type": "stream",
     "text": [
      "       8/25     0.623G      1.974      1.636      1.019         99        320: 100%|██████████| 13/13 [00:04<00:00,  2.\n",
      "                 Class     Images  Instances      Box(P          R      mAP50  mAP50-95): 100%|██████████| 1/1 [00:00<0"
     ]
    },
    {
     "name": "stdout",
     "output_type": "stream",
     "text": [
      "                   all         22        245      0.919     0.0298      0.165     0.0742\n"
     ]
    },
    {
     "name": "stderr",
     "output_type": "stream",
     "text": [
      "\n"
     ]
    },
    {
     "name": "stdout",
     "output_type": "stream",
     "text": [
      "\n",
      "      Epoch    GPU_mem   box_loss   cls_loss   dfl_loss  Instances       Size\n"
     ]
    },
    {
     "name": "stderr",
     "output_type": "stream",
     "text": [
      "       9/25     0.621G      1.883      1.674      1.006         37        320: 100%|██████████| 13/13 [00:04<00:00,  3.\n",
      "                 Class     Images  Instances      Box(P          R      mAP50  mAP50-95): 100%|██████████| 1/1 [00:00<0"
     ]
    },
    {
     "name": "stdout",
     "output_type": "stream",
     "text": [
      "                   all         22        245       0.68      0.145      0.316      0.167\n"
     ]
    },
    {
     "name": "stderr",
     "output_type": "stream",
     "text": [
      "\n"
     ]
    },
    {
     "name": "stdout",
     "output_type": "stream",
     "text": [
      "\n",
      "      Epoch    GPU_mem   box_loss   cls_loss   dfl_loss  Instances       Size\n"
     ]
    },
    {
     "name": "stderr",
     "output_type": "stream",
     "text": [
      "      10/25     0.652G      1.853      1.506     0.9905        106        320: 100%|██████████| 13/13 [00:04<00:00,  2.\n",
      "                 Class     Images  Instances      Box(P          R      mAP50  mAP50-95): 100%|██████████| 1/1 [00:00<0"
     ]
    },
    {
     "name": "stdout",
     "output_type": "stream",
     "text": [
      "                   all         22        245      0.635       0.45      0.499      0.209\n"
     ]
    },
    {
     "name": "stderr",
     "output_type": "stream",
     "text": [
      "\n"
     ]
    },
    {
     "name": "stdout",
     "output_type": "stream",
     "text": [
      "\n",
      "      Epoch    GPU_mem   box_loss   cls_loss   dfl_loss  Instances       Size\n"
     ]
    },
    {
     "name": "stderr",
     "output_type": "stream",
     "text": [
      "      11/25     0.621G      1.865      1.482     0.9868         65        320: 100%|██████████| 13/13 [00:04<00:00,  2.\n",
      "                 Class     Images  Instances      Box(P          R      mAP50  mAP50-95): 100%|██████████| 1/1 [00:00<0"
     ]
    },
    {
     "name": "stdout",
     "output_type": "stream",
     "text": [
      "                   all         22        245      0.569      0.486      0.533      0.242\n"
     ]
    },
    {
     "name": "stderr",
     "output_type": "stream",
     "text": [
      "\n"
     ]
    },
    {
     "name": "stdout",
     "output_type": "stream",
     "text": [
      "\n",
      "      Epoch    GPU_mem   box_loss   cls_loss   dfl_loss  Instances       Size\n"
     ]
    },
    {
     "name": "stderr",
     "output_type": "stream",
     "text": [
      "      12/25     0.614G      1.876      1.447     0.9728         83        320: 100%|██████████| 13/13 [00:04<00:00,  3.\n",
      "                 Class     Images  Instances      Box(P          R      mAP50  mAP50-95): 100%|██████████| 1/1 [00:00<0"
     ]
    },
    {
     "name": "stdout",
     "output_type": "stream",
     "text": [
      "                   all         22        245      0.555      0.599      0.593      0.302\n"
     ]
    },
    {
     "name": "stderr",
     "output_type": "stream",
     "text": [
      "\n"
     ]
    },
    {
     "name": "stdout",
     "output_type": "stream",
     "text": [
      "\n",
      "      Epoch    GPU_mem   box_loss   cls_loss   dfl_loss  Instances       Size\n"
     ]
    },
    {
     "name": "stderr",
     "output_type": "stream",
     "text": [
      "      13/25     0.619G      1.791      1.369     0.9642         95        320: 100%|██████████| 13/13 [00:04<00:00,  3.\n",
      "                 Class     Images  Instances      Box(P          R      mAP50  mAP50-95): 100%|██████████| 1/1 [00:00<0"
     ]
    },
    {
     "name": "stdout",
     "output_type": "stream",
     "text": [
      "                   all         22        245      0.534      0.596      0.572      0.284\n"
     ]
    },
    {
     "name": "stderr",
     "output_type": "stream",
     "text": [
      "\n"
     ]
    },
    {
     "name": "stdout",
     "output_type": "stream",
     "text": [
      "\n",
      "      Epoch    GPU_mem   box_loss   cls_loss   dfl_loss  Instances       Size\n"
     ]
    },
    {
     "name": "stderr",
     "output_type": "stream",
     "text": [
      "      14/25     0.652G      1.666      1.344     0.9686         84        320: 100%|██████████| 13/13 [00:04<00:00,  3.\n",
      "                 Class     Images  Instances      Box(P          R      mAP50  mAP50-95): 100%|██████████| 1/1 [00:00<0"
     ]
    },
    {
     "name": "stdout",
     "output_type": "stream",
     "text": [
      "                   all         22        245      0.539      0.644      0.632      0.329\n"
     ]
    },
    {
     "name": "stderr",
     "output_type": "stream",
     "text": [
      "\n"
     ]
    },
    {
     "name": "stdout",
     "output_type": "stream",
     "text": [
      "\n",
      "      Epoch    GPU_mem   box_loss   cls_loss   dfl_loss  Instances       Size\n"
     ]
    },
    {
     "name": "stderr",
     "output_type": "stream",
     "text": [
      "      15/25     0.629G       1.68      1.319     0.9486        106        320: 100%|██████████| 13/13 [00:04<00:00,  3.\n",
      "                 Class     Images  Instances      Box(P          R      mAP50  mAP50-95): 100%|██████████| 1/1 [00:00<0"
     ]
    },
    {
     "name": "stdout",
     "output_type": "stream",
     "text": [
      "                   all         22        245      0.586      0.748      0.675      0.383\n"
     ]
    },
    {
     "name": "stderr",
     "output_type": "stream",
     "text": [
      "\n"
     ]
    },
    {
     "name": "stdout",
     "output_type": "stream",
     "text": [
      "Closing dataloader mosaic\n",
      "\n",
      "      Epoch    GPU_mem   box_loss   cls_loss   dfl_loss  Instances       Size\n"
     ]
    },
    {
     "name": "stderr",
     "output_type": "stream",
     "text": [
      "      16/25     0.606G      1.597        1.3     0.9581         78        320: 100%|██████████| 13/13 [00:04<00:00,  2.\n",
      "                 Class     Images  Instances      Box(P          R      mAP50  mAP50-95): 100%|██████████| 1/1 [00:00<0"
     ]
    },
    {
     "name": "stdout",
     "output_type": "stream",
     "text": [
      "                   all         22        245       0.57      0.743      0.669      0.367\n"
     ]
    },
    {
     "name": "stderr",
     "output_type": "stream",
     "text": [
      "\n"
     ]
    },
    {
     "name": "stdout",
     "output_type": "stream",
     "text": [
      "\n",
      "      Epoch    GPU_mem   box_loss   cls_loss   dfl_loss  Instances       Size\n"
     ]
    },
    {
     "name": "stderr",
     "output_type": "stream",
     "text": [
      "      17/25     0.587G      1.552       1.28     0.9367         41        320: 100%|██████████| 13/13 [00:04<00:00,  3.\n",
      "                 Class     Images  Instances      Box(P          R      mAP50  mAP50-95): 100%|██████████| 1/1 [00:00<0"
     ]
    },
    {
     "name": "stdout",
     "output_type": "stream",
     "text": [
      "                   all         22        245      0.607      0.707      0.681      0.391\n"
     ]
    },
    {
     "name": "stderr",
     "output_type": "stream",
     "text": [
      "\n"
     ]
    },
    {
     "name": "stdout",
     "output_type": "stream",
     "text": [
      "\n",
      "      Epoch    GPU_mem   box_loss   cls_loss   dfl_loss  Instances       Size\n"
     ]
    },
    {
     "name": "stderr",
     "output_type": "stream",
     "text": [
      "      18/25     0.608G      1.589      1.254      0.935         60        320: 100%|██████████| 13/13 [00:04<00:00,  3.\n",
      "                 Class     Images  Instances      Box(P          R      mAP50  mAP50-95): 100%|██████████| 1/1 [00:00<0"
     ]
    },
    {
     "name": "stdout",
     "output_type": "stream",
     "text": [
      "                   all         22        245      0.586       0.79       0.71      0.408\n"
     ]
    },
    {
     "name": "stderr",
     "output_type": "stream",
     "text": [
      "\n"
     ]
    },
    {
     "name": "stdout",
     "output_type": "stream",
     "text": [
      "\n",
      "      Epoch    GPU_mem   box_loss   cls_loss   dfl_loss  Instances       Size\n"
     ]
    },
    {
     "name": "stderr",
     "output_type": "stream",
     "text": [
      "      19/25     0.593G      1.499      1.186     0.9345         61        320: 100%|██████████| 13/13 [00:04<00:00,  2.\n",
      "                 Class     Images  Instances      Box(P          R      mAP50  mAP50-95): 100%|██████████| 1/1 [00:00<0"
     ]
    },
    {
     "name": "stdout",
     "output_type": "stream",
     "text": [
      "                   all         22        245      0.585       0.84      0.713       0.41\n"
     ]
    },
    {
     "name": "stderr",
     "output_type": "stream",
     "text": [
      "\n"
     ]
    },
    {
     "name": "stdout",
     "output_type": "stream",
     "text": [
      "\n",
      "      Epoch    GPU_mem   box_loss   cls_loss   dfl_loss  Instances       Size\n"
     ]
    },
    {
     "name": "stderr",
     "output_type": "stream",
     "text": [
      "      20/25     0.598G      1.528      1.205     0.9231         66        320: 100%|██████████| 13/13 [00:04<00:00,  3.\n",
      "                 Class     Images  Instances      Box(P          R      mAP50  mAP50-95): 100%|██████████| 1/1 [00:00<0"
     ]
    },
    {
     "name": "stdout",
     "output_type": "stream",
     "text": [
      "                   all         22        245      0.576       0.84      0.718      0.424\n"
     ]
    },
    {
     "name": "stderr",
     "output_type": "stream",
     "text": [
      "\n"
     ]
    },
    {
     "name": "stdout",
     "output_type": "stream",
     "text": [
      "\n",
      "      Epoch    GPU_mem   box_loss   cls_loss   dfl_loss  Instances       Size\n"
     ]
    },
    {
     "name": "stderr",
     "output_type": "stream",
     "text": [
      "      21/25     0.587G      1.487      1.163     0.9287         61        320: 100%|██████████| 13/13 [00:04<00:00,  2.\n",
      "                 Class     Images  Instances      Box(P          R      mAP50  mAP50-95): 100%|██████████| 1/1 [00:00<0"
     ]
    },
    {
     "name": "stdout",
     "output_type": "stream",
     "text": [
      "                   all         22        245      0.598      0.795      0.712      0.422\n"
     ]
    },
    {
     "name": "stderr",
     "output_type": "stream",
     "text": [
      "\n"
     ]
    },
    {
     "name": "stdout",
     "output_type": "stream",
     "text": [
      "\n",
      "      Epoch    GPU_mem   box_loss   cls_loss   dfl_loss  Instances       Size\n"
     ]
    },
    {
     "name": "stderr",
     "output_type": "stream",
     "text": [
      "      22/25      0.61G      1.445      1.158     0.9245         75        320: 100%|██████████| 13/13 [00:04<00:00,  3.\n",
      "                 Class     Images  Instances      Box(P          R      mAP50  mAP50-95): 100%|██████████| 1/1 [00:00<0"
     ]
    },
    {
     "name": "stdout",
     "output_type": "stream",
     "text": [
      "                   all         22        245      0.652      0.789      0.709      0.428\n"
     ]
    },
    {
     "name": "stderr",
     "output_type": "stream",
     "text": [
      "\n"
     ]
    },
    {
     "name": "stdout",
     "output_type": "stream",
     "text": [
      "\n",
      "      Epoch    GPU_mem   box_loss   cls_loss   dfl_loss  Instances       Size\n"
     ]
    },
    {
     "name": "stderr",
     "output_type": "stream",
     "text": [
      "      23/25     0.598G      1.402      1.104     0.9196         48        320: 100%|██████████| 13/13 [00:04<00:00,  2.\n",
      "                 Class     Images  Instances      Box(P          R      mAP50  mAP50-95): 100%|██████████| 1/1 [00:00<0"
     ]
    },
    {
     "name": "stdout",
     "output_type": "stream",
     "text": [
      "                   all         22        245      0.631      0.775      0.699      0.406\n"
     ]
    },
    {
     "name": "stderr",
     "output_type": "stream",
     "text": [
      "\n"
     ]
    },
    {
     "name": "stdout",
     "output_type": "stream",
     "text": [
      "\n",
      "      Epoch    GPU_mem   box_loss   cls_loss   dfl_loss  Instances       Size\n"
     ]
    },
    {
     "name": "stderr",
     "output_type": "stream",
     "text": [
      "      24/25     0.598G      1.418      1.157     0.9066         78        320: 100%|██████████| 13/13 [00:04<00:00,  2.\n",
      "                 Class     Images  Instances      Box(P          R      mAP50  mAP50-95): 100%|██████████| 1/1 [00:00<0"
     ]
    },
    {
     "name": "stdout",
     "output_type": "stream",
     "text": [
      "                   all         22        245      0.654      0.772      0.718      0.422\n"
     ]
    },
    {
     "name": "stderr",
     "output_type": "stream",
     "text": [
      "\n"
     ]
    },
    {
     "name": "stdout",
     "output_type": "stream",
     "text": [
      "\n",
      "      Epoch    GPU_mem   box_loss   cls_loss   dfl_loss  Instances       Size\n"
     ]
    },
    {
     "name": "stderr",
     "output_type": "stream",
     "text": [
      "      25/25     0.587G       1.43      1.146     0.9199         67        320: 100%|██████████| 13/13 [00:04<00:00,  3.\n",
      "                 Class     Images  Instances      Box(P          R      mAP50  mAP50-95): 100%|██████████| 1/1 [00:00<0"
     ]
    },
    {
     "name": "stdout",
     "output_type": "stream",
     "text": [
      "                   all         22        245      0.664       0.76      0.722      0.428\n"
     ]
    },
    {
     "name": "stderr",
     "output_type": "stream",
     "text": [
      "\n"
     ]
    },
    {
     "name": "stdout",
     "output_type": "stream",
     "text": [
      "\n",
      "25 epochs completed in 0.045 hours.\n",
      "Optimizer stripped from runs\\detect\\tomatOD_run_effnet\\weights\\last.pt, 6.2MB\n",
      "Optimizer stripped from runs\\detect\\tomatOD_run_effnet\\weights\\best.pt, 6.2MB\n",
      "\n",
      "Validating runs\\detect\\tomatOD_run_effnet\\weights\\best.pt...\n",
      "Ultralytics 8.3.70  Python-3.11.11 torch-2.7.0.dev20250127+cu126 CUDA:0 (NVIDIA GeForce RTX 3050 Laptop GPU, 4096MiB)\n",
      "Model summary (fused): 168 layers, 3,006,233 parameters, 0 gradients, 8.1 GFLOPs\n"
     ]
    },
    {
     "name": "stderr",
     "output_type": "stream",
     "text": [
      "                 Class     Images  Instances      Box(P          R      mAP50  mAP50-95): 100%|██████████| 1/1 [00:00<0\n"
     ]
    },
    {
     "name": "stdout",
     "output_type": "stream",
     "text": [
      "                   all         22        245      0.671      0.754      0.722      0.428\n",
      "                unripe         22        173      0.824      0.844      0.912      0.529\n",
      "             semi-ripe         17         37      0.635      0.565      0.613      0.404\n",
      "            fully-ripe         16         35      0.555      0.854       0.64      0.352\n",
      "Speed: 0.7ms preprocess, 5.7ms inference, 0.0ms loss, 1.4ms postprocess per image\n",
      "Results saved to \u001b[1mruns\\detect\\tomatOD_run_effnet\u001b[0m\n",
      "WARNING  imgsz=[300] must be multiple of max stride 32, updating to [320]\n",
      "Ultralytics 8.3.70  Python-3.11.11 torch-2.7.0.dev20250127+cu126 CUDA:0 (NVIDIA GeForce RTX 3050 Laptop GPU, 4096MiB)\n",
      "Model summary (fused): 168 layers, 3,006,233 parameters, 0 gradients, 8.1 GFLOPs\n"
     ]
    },
    {
     "name": "stderr",
     "output_type": "stream",
     "text": [
      "\u001b[34m\u001b[1mval: \u001b[0mScanning D:\\YOLOV8-tomatod\\tomatOD_yolo\\val\\labels.cache... 22 images, 0 backgrounds, 0 corrupt: 100%|██████████| \u001b[0m"
     ]
    },
    {
     "name": "stdout",
     "output_type": "stream",
     "text": [
      "\u001b[34m\u001b[1mval: \u001b[0mWARNING  D:\\YOLOV8-tomatod\\tomatOD_yolo\\val\\images\\stereo20190405_133623_p2_snap_043.jpg: 1 duplicate labels removed\n",
      "\u001b[34m\u001b[1mval: \u001b[0mWARNING  D:\\YOLOV8-tomatod\\tomatOD_yolo\\val\\images\\stereo20190406_065607_p0_snap_080.jpg: 1 duplicate labels removed\n"
     ]
    },
    {
     "name": "stderr",
     "output_type": "stream",
     "text": [
      "\n",
      "                 Class     Images  Instances      Box(P          R      mAP50  mAP50-95): 100%|██████████| 22/22 [00:01"
     ]
    },
    {
     "name": "stdout",
     "output_type": "stream",
     "text": [
      "                   all         22        245          0          0          0          0\n"
     ]
    },
    {
     "name": "stderr",
     "output_type": "stream",
     "text": [
      "\n"
     ]
    },
    {
     "name": "stdout",
     "output_type": "stream",
     "text": [
      "Speed: 2.1ms preprocess, 18.2ms inference, 0.0ms loss, 0.5ms postprocess per image\n",
      "Results saved to \u001b[1mruns\\detect\\tomatOD_run_effnet_epoch_1_val\u001b[0m\n",
      "WARNING  imgsz=[300] must be multiple of max stride 32, updating to [320]\n",
      "Ultralytics 8.3.70  Python-3.11.11 torch-2.7.0.dev20250127+cu126 CUDA:0 (NVIDIA GeForce RTX 3050 Laptop GPU, 4096MiB)\n"
     ]
    },
    {
     "name": "stderr",
     "output_type": "stream",
     "text": [
      "\u001b[34m\u001b[1mval: \u001b[0mScanning D:\\YOLOV8-tomatod\\tomatOD_yolo\\test\\labels.cache... 55 images, 0 backgrounds, 0 corrupt: 100%|██████████|\u001b[0m\n",
      "                 Class     Images  Instances      Box(P          R      mAP50  mAP50-95): 100%|██████████| 55/55 [00:03"
     ]
    },
    {
     "name": "stdout",
     "output_type": "stream",
     "text": [
      "                   all         55        468          0          0          0          0\n"
     ]
    },
    {
     "name": "stderr",
     "output_type": "stream",
     "text": [
      "\n"
     ]
    },
    {
     "name": "stdout",
     "output_type": "stream",
     "text": [
      "Speed: 1.6ms preprocess, 16.2ms inference, 0.0ms loss, 0.6ms postprocess per image\n",
      "Results saved to \u001b[1mruns\\detect\\tomatOD_run_effnet_epoch_1_test\u001b[0m\n",
      "WARNING  imgsz=[300] must be multiple of max stride 32, updating to [320]\n",
      "Ultralytics 8.3.70  Python-3.11.11 torch-2.7.0.dev20250127+cu126 CUDA:0 (NVIDIA GeForce RTX 3050 Laptop GPU, 4096MiB)\n",
      "Model summary (fused): 168 layers, 3,006,233 parameters, 0 gradients, 8.1 GFLOPs\n"
     ]
    },
    {
     "name": "stderr",
     "output_type": "stream",
     "text": [
      "\u001b[34m\u001b[1mval: \u001b[0mScanning D:\\YOLOV8-tomatod\\tomatOD_yolo\\val\\labels.cache... 22 images, 0 backgrounds, 0 corrupt: 100%|██████████| \u001b[0m"
     ]
    },
    {
     "name": "stdout",
     "output_type": "stream",
     "text": [
      "\u001b[34m\u001b[1mval: \u001b[0mWARNING  D:\\YOLOV8-tomatod\\tomatOD_yolo\\val\\images\\stereo20190405_133623_p2_snap_043.jpg: 1 duplicate labels removed\n",
      "\u001b[34m\u001b[1mval: \u001b[0mWARNING  D:\\YOLOV8-tomatod\\tomatOD_yolo\\val\\images\\stereo20190406_065607_p0_snap_080.jpg: 1 duplicate labels removed\n"
     ]
    },
    {
     "name": "stderr",
     "output_type": "stream",
     "text": [
      "\n",
      "                 Class     Images  Instances      Box(P          R      mAP50  mAP50-95): 100%|██████████| 22/22 [00:00"
     ]
    },
    {
     "name": "stdout",
     "output_type": "stream",
     "text": [
      "                   all         22        245          0          0          0          0\n"
     ]
    },
    {
     "name": "stderr",
     "output_type": "stream",
     "text": [
      "\n"
     ]
    },
    {
     "name": "stdout",
     "output_type": "stream",
     "text": [
      "Speed: 1.6ms preprocess, 15.5ms inference, 0.0ms loss, 0.6ms postprocess per image\n",
      "Results saved to \u001b[1mruns\\detect\\tomatOD_run_effnet_epoch_2_val\u001b[0m\n",
      "WARNING  imgsz=[300] must be multiple of max stride 32, updating to [320]\n",
      "Ultralytics 8.3.70  Python-3.11.11 torch-2.7.0.dev20250127+cu126 CUDA:0 (NVIDIA GeForce RTX 3050 Laptop GPU, 4096MiB)\n"
     ]
    },
    {
     "name": "stderr",
     "output_type": "stream",
     "text": [
      "\u001b[34m\u001b[1mval: \u001b[0mScanning D:\\YOLOV8-tomatod\\tomatOD_yolo\\test\\labels.cache... 55 images, 0 backgrounds, 0 corrupt: 100%|██████████|\u001b[0m\n",
      "                 Class     Images  Instances      Box(P          R      mAP50  mAP50-95): 100%|██████████| 55/55 [00:02"
     ]
    },
    {
     "name": "stdout",
     "output_type": "stream",
     "text": [
      "                   all         55        468          0          0          0          0\n"
     ]
    },
    {
     "name": "stderr",
     "output_type": "stream",
     "text": [
      "\n"
     ]
    },
    {
     "name": "stdout",
     "output_type": "stream",
     "text": [
      "Speed: 1.6ms preprocess, 15.7ms inference, 0.0ms loss, 0.4ms postprocess per image\n",
      "Results saved to \u001b[1mruns\\detect\\tomatOD_run_effnet_epoch_2_test\u001b[0m\n",
      "WARNING  imgsz=[300] must be multiple of max stride 32, updating to [320]\n",
      "Ultralytics 8.3.70  Python-3.11.11 torch-2.7.0.dev20250127+cu126 CUDA:0 (NVIDIA GeForce RTX 3050 Laptop GPU, 4096MiB)\n",
      "Model summary (fused): 168 layers, 3,006,233 parameters, 0 gradients, 8.1 GFLOPs\n"
     ]
    },
    {
     "name": "stderr",
     "output_type": "stream",
     "text": [
      "\u001b[34m\u001b[1mval: \u001b[0mScanning D:\\YOLOV8-tomatod\\tomatOD_yolo\\val\\labels.cache... 22 images, 0 backgrounds, 0 corrupt: 100%|██████████| \u001b[0m"
     ]
    },
    {
     "name": "stdout",
     "output_type": "stream",
     "text": [
      "\u001b[34m\u001b[1mval: \u001b[0mWARNING  D:\\YOLOV8-tomatod\\tomatOD_yolo\\val\\images\\stereo20190405_133623_p2_snap_043.jpg: 1 duplicate labels removed\n",
      "\u001b[34m\u001b[1mval: \u001b[0mWARNING  D:\\YOLOV8-tomatod\\tomatOD_yolo\\val\\images\\stereo20190406_065607_p0_snap_080.jpg: 1 duplicate labels removed\n"
     ]
    },
    {
     "name": "stderr",
     "output_type": "stream",
     "text": [
      "\n",
      "                 Class     Images  Instances      Box(P          R      mAP50  mAP50-95): 100%|██████████| 22/22 [00:01"
     ]
    },
    {
     "name": "stdout",
     "output_type": "stream",
     "text": [
      "                   all         22        245          0          0          0          0\n"
     ]
    },
    {
     "name": "stderr",
     "output_type": "stream",
     "text": [
      "\n"
     ]
    },
    {
     "name": "stdout",
     "output_type": "stream",
     "text": [
      "Speed: 2.0ms preprocess, 14.0ms inference, 0.0ms loss, 0.6ms postprocess per image\n",
      "Results saved to \u001b[1mruns\\detect\\tomatOD_run_effnet_epoch_3_val\u001b[0m\n",
      "WARNING  imgsz=[300] must be multiple of max stride 32, updating to [320]\n",
      "Ultralytics 8.3.70  Python-3.11.11 torch-2.7.0.dev20250127+cu126 CUDA:0 (NVIDIA GeForce RTX 3050 Laptop GPU, 4096MiB)\n"
     ]
    },
    {
     "name": "stderr",
     "output_type": "stream",
     "text": [
      "\u001b[34m\u001b[1mval: \u001b[0mScanning D:\\YOLOV8-tomatod\\tomatOD_yolo\\test\\labels.cache... 55 images, 0 backgrounds, 0 corrupt: 100%|██████████|\u001b[0m\n",
      "                 Class     Images  Instances      Box(P          R      mAP50  mAP50-95): 100%|██████████| 55/55 [00:02\n"
     ]
    },
    {
     "name": "stdout",
     "output_type": "stream",
     "text": [
      "                   all         55        468      0.111    0.00114      0.056     0.0336\n",
      "                unripe         55        292      0.333    0.00342      0.168      0.101\n",
      "             semi-ripe         37         77          0          0          0          0\n",
      "            fully-ripe         48         99          0          0          0          0\n",
      "Speed: 1.9ms preprocess, 15.2ms inference, 0.0ms loss, 0.4ms postprocess per image\n",
      "Saving runs\\detect\\tomatOD_run_effnet_epoch_3_test\\predictions.json...\n",
      "Results saved to \u001b[1mruns\\detect\\tomatOD_run_effnet_epoch_3_test\u001b[0m\n",
      "WARNING  imgsz=[300] must be multiple of max stride 32, updating to [320]\n",
      "Ultralytics 8.3.70  Python-3.11.11 torch-2.7.0.dev20250127+cu126 CUDA:0 (NVIDIA GeForce RTX 3050 Laptop GPU, 4096MiB)\n",
      "Model summary (fused): 168 layers, 3,006,233 parameters, 0 gradients, 8.1 GFLOPs\n"
     ]
    },
    {
     "name": "stderr",
     "output_type": "stream",
     "text": [
      "\u001b[34m\u001b[1mval: \u001b[0mScanning D:\\YOLOV8-tomatod\\tomatOD_yolo\\val\\labels.cache... 22 images, 0 backgrounds, 0 corrupt: 100%|██████████| \u001b[0m"
     ]
    },
    {
     "name": "stdout",
     "output_type": "stream",
     "text": [
      "\u001b[34m\u001b[1mval: \u001b[0mWARNING  D:\\YOLOV8-tomatod\\tomatOD_yolo\\val\\images\\stereo20190405_133623_p2_snap_043.jpg: 1 duplicate labels removed\n",
      "\u001b[34m\u001b[1mval: \u001b[0mWARNING  D:\\YOLOV8-tomatod\\tomatOD_yolo\\val\\images\\stereo20190406_065607_p0_snap_080.jpg: 1 duplicate labels removed\n"
     ]
    },
    {
     "name": "stderr",
     "output_type": "stream",
     "text": [
      "\n",
      "                 Class     Images  Instances      Box(P          R      mAP50  mAP50-95): 100%|██████████| 22/22 [00:01\n"
     ]
    },
    {
     "name": "stdout",
     "output_type": "stream",
     "text": [
      "                   all         22        245      0.167     0.0116     0.0882     0.0395\n",
      "                unripe         22        173        0.5     0.0347      0.264      0.119\n",
      "             semi-ripe         17         37          0          0          0          0\n",
      "            fully-ripe         16         35          0          0          0          0\n",
      "Speed: 2.2ms preprocess, 16.9ms inference, 0.0ms loss, 1.5ms postprocess per image\n",
      "Saving runs\\detect\\tomatOD_run_effnet_epoch_4_val\\predictions.json...\n",
      "Results saved to \u001b[1mruns\\detect\\tomatOD_run_effnet_epoch_4_val\u001b[0m\n",
      "WARNING  imgsz=[300] must be multiple of max stride 32, updating to [320]\n",
      "Ultralytics 8.3.70  Python-3.11.11 torch-2.7.0.dev20250127+cu126 CUDA:0 (NVIDIA GeForce RTX 3050 Laptop GPU, 4096MiB)\n"
     ]
    },
    {
     "name": "stderr",
     "output_type": "stream",
     "text": [
      "\u001b[34m\u001b[1mval: \u001b[0mScanning D:\\YOLOV8-tomatod\\tomatOD_yolo\\test\\labels.cache... 55 images, 0 backgrounds, 0 corrupt: 100%|██████████|\u001b[0m\n",
      "                 Class     Images  Instances      Box(P          R      mAP50  mAP50-95): 100%|██████████| 55/55 [00:02\n"
     ]
    },
    {
     "name": "stdout",
     "output_type": "stream",
     "text": [
      "                   all         55        468      0.152    0.00571     0.0778     0.0328\n",
      "                unripe         55        292      0.455     0.0171      0.233     0.0983\n",
      "             semi-ripe         37         77          0          0          0          0\n",
      "            fully-ripe         48         99          0          0          0          0\n",
      "Speed: 1.9ms preprocess, 16.0ms inference, 0.0ms loss, 1.1ms postprocess per image\n",
      "Saving runs\\detect\\tomatOD_run_effnet_epoch_4_test\\predictions.json...\n",
      "Results saved to \u001b[1mruns\\detect\\tomatOD_run_effnet_epoch_4_test\u001b[0m\n",
      "WARNING  imgsz=[300] must be multiple of max stride 32, updating to [320]\n",
      "Ultralytics 8.3.70  Python-3.11.11 torch-2.7.0.dev20250127+cu126 CUDA:0 (NVIDIA GeForce RTX 3050 Laptop GPU, 4096MiB)\n",
      "Model summary (fused): 168 layers, 3,006,233 parameters, 0 gradients, 8.1 GFLOPs\n"
     ]
    },
    {
     "name": "stderr",
     "output_type": "stream",
     "text": [
      "\u001b[34m\u001b[1mval: \u001b[0mScanning D:\\YOLOV8-tomatod\\tomatOD_yolo\\val\\labels.cache... 22 images, 0 backgrounds, 0 corrupt: 100%|██████████| \u001b[0m"
     ]
    },
    {
     "name": "stdout",
     "output_type": "stream",
     "text": [
      "\u001b[34m\u001b[1mval: \u001b[0mWARNING  D:\\YOLOV8-tomatod\\tomatOD_yolo\\val\\images\\stereo20190405_133623_p2_snap_043.jpg: 1 duplicate labels removed\n",
      "\u001b[34m\u001b[1mval: \u001b[0mWARNING  D:\\YOLOV8-tomatod\\tomatOD_yolo\\val\\images\\stereo20190406_065607_p0_snap_080.jpg: 1 duplicate labels removed\n"
     ]
    },
    {
     "name": "stderr",
     "output_type": "stream",
     "text": [
      "\n",
      "                 Class     Images  Instances      Box(P          R      mAP50  mAP50-95): 100%|██████████| 22/22 [00:01\n"
     ]
    },
    {
     "name": "stdout",
     "output_type": "stream",
     "text": [
      "                   all         22        245      0.328     0.0365      0.178      0.123\n",
      "                unripe         22        173      0.483     0.0809      0.276      0.164\n",
      "             semi-ripe         17         37          0          0          0          0\n",
      "            fully-ripe         16         35        0.5     0.0286      0.257      0.206\n",
      "Speed: 1.3ms preprocess, 17.2ms inference, 0.0ms loss, 1.7ms postprocess per image\n",
      "Saving runs\\detect\\tomatOD_run_effnet_epoch_5_val\\predictions.json...\n",
      "Results saved to \u001b[1mruns\\detect\\tomatOD_run_effnet_epoch_5_val\u001b[0m\n",
      "WARNING  imgsz=[300] must be multiple of max stride 32, updating to [320]\n",
      "Ultralytics 8.3.70  Python-3.11.11 torch-2.7.0.dev20250127+cu126 CUDA:0 (NVIDIA GeForce RTX 3050 Laptop GPU, 4096MiB)\n"
     ]
    },
    {
     "name": "stderr",
     "output_type": "stream",
     "text": [
      "\u001b[34m\u001b[1mval: \u001b[0mScanning D:\\YOLOV8-tomatod\\tomatOD_yolo\\test\\labels.cache... 55 images, 0 backgrounds, 0 corrupt: 100%|██████████|\u001b[0m\n",
      "                 Class     Images  Instances      Box(P          R      mAP50  mAP50-95): 100%|██████████| 55/55 [00:02\n"
     ]
    },
    {
     "name": "stdout",
     "output_type": "stream",
     "text": [
      "                   all         55        468      0.321     0.0249      0.172     0.0806\n",
      "                unripe         55        292      0.464     0.0445      0.253      0.102\n",
      "             semi-ripe         37         77          0          0          0          0\n",
      "            fully-ripe         48         99        0.5     0.0303      0.262      0.139\n",
      "Speed: 2.0ms preprocess, 15.6ms inference, 0.0ms loss, 0.7ms postprocess per image\n",
      "Saving runs\\detect\\tomatOD_run_effnet_epoch_5_test\\predictions.json...\n",
      "Results saved to \u001b[1mruns\\detect\\tomatOD_run_effnet_epoch_5_test\u001b[0m\n",
      "WARNING  imgsz=[300] must be multiple of max stride 32, updating to [320]\n",
      "Ultralytics 8.3.70  Python-3.11.11 torch-2.7.0.dev20250127+cu126 CUDA:0 (NVIDIA GeForce RTX 3050 Laptop GPU, 4096MiB)\n",
      "Model summary (fused): 168 layers, 3,006,233 parameters, 0 gradients, 8.1 GFLOPs\n"
     ]
    },
    {
     "name": "stderr",
     "output_type": "stream",
     "text": [
      "\u001b[34m\u001b[1mval: \u001b[0mScanning D:\\YOLOV8-tomatod\\tomatOD_yolo\\val\\labels.cache... 22 images, 0 backgrounds, 0 corrupt: 100%|██████████| \u001b[0m"
     ]
    },
    {
     "name": "stdout",
     "output_type": "stream",
     "text": [
      "\u001b[34m\u001b[1mval: \u001b[0mWARNING  D:\\YOLOV8-tomatod\\tomatOD_yolo\\val\\images\\stereo20190405_133623_p2_snap_043.jpg: 1 duplicate labels removed\n",
      "\u001b[34m\u001b[1mval: \u001b[0mWARNING  D:\\YOLOV8-tomatod\\tomatOD_yolo\\val\\images\\stereo20190406_065607_p0_snap_080.jpg: 1 duplicate labels removed\n"
     ]
    },
    {
     "name": "stderr",
     "output_type": "stream",
     "text": [
      "\n",
      "                 Class     Images  Instances      Box(P          R      mAP50  mAP50-95): 100%|██████████| 22/22 [00:01\n"
     ]
    },
    {
     "name": "stdout",
     "output_type": "stream",
     "text": [
      "                   all         22        245      0.473     0.0346      0.251      0.141\n",
      "                unripe         22        173      0.419     0.0751       0.24      0.114\n",
      "             semi-ripe         17         37          0          0          0          0\n",
      "            fully-ripe         16         35          1     0.0286      0.514      0.309\n",
      "Speed: 1.8ms preprocess, 14.3ms inference, 0.1ms loss, 1.3ms postprocess per image\n",
      "Saving runs\\detect\\tomatOD_run_effnet_epoch_6_val\\predictions.json...\n",
      "Results saved to \u001b[1mruns\\detect\\tomatOD_run_effnet_epoch_6_val\u001b[0m\n",
      "WARNING  imgsz=[300] must be multiple of max stride 32, updating to [320]\n",
      "Ultralytics 8.3.70  Python-3.11.11 torch-2.7.0.dev20250127+cu126 CUDA:0 (NVIDIA GeForce RTX 3050 Laptop GPU, 4096MiB)\n"
     ]
    },
    {
     "name": "stderr",
     "output_type": "stream",
     "text": [
      "\u001b[34m\u001b[1mval: \u001b[0mScanning D:\\YOLOV8-tomatod\\tomatOD_yolo\\test\\labels.cache... 55 images, 0 backgrounds, 0 corrupt: 100%|██████████|\u001b[0m\n",
      "                 Class     Images  Instances      Box(P          R      mAP50  mAP50-95): 100%|██████████| 55/55 [00:02\n"
     ]
    },
    {
     "name": "stdout",
     "output_type": "stream",
     "text": [
      "                   all         55        468       0.33     0.0204      0.177     0.0721\n",
      "                unripe         55        292      0.324     0.0411      0.182     0.0776\n",
      "             semi-ripe         37         77          0          0          0          0\n",
      "            fully-ripe         48         99      0.667     0.0202      0.348      0.139\n",
      "Speed: 1.6ms preprocess, 16.0ms inference, 0.0ms loss, 1.4ms postprocess per image\n",
      "Saving runs\\detect\\tomatOD_run_effnet_epoch_6_test\\predictions.json...\n",
      "Results saved to \u001b[1mruns\\detect\\tomatOD_run_effnet_epoch_6_test\u001b[0m\n",
      "WARNING  imgsz=[300] must be multiple of max stride 32, updating to [320]\n",
      "Ultralytics 8.3.70  Python-3.11.11 torch-2.7.0.dev20250127+cu126 CUDA:0 (NVIDIA GeForce RTX 3050 Laptop GPU, 4096MiB)\n",
      "Model summary (fused): 168 layers, 3,006,233 parameters, 0 gradients, 8.1 GFLOPs\n"
     ]
    },
    {
     "name": "stderr",
     "output_type": "stream",
     "text": [
      "\u001b[34m\u001b[1mval: \u001b[0mScanning D:\\YOLOV8-tomatod\\tomatOD_yolo\\val\\labels.cache... 22 images, 0 backgrounds, 0 corrupt: 100%|██████████| \u001b[0m"
     ]
    },
    {
     "name": "stdout",
     "output_type": "stream",
     "text": [
      "\u001b[34m\u001b[1mval: \u001b[0mWARNING  D:\\YOLOV8-tomatod\\tomatOD_yolo\\val\\images\\stereo20190405_133623_p2_snap_043.jpg: 1 duplicate labels removed\n",
      "\u001b[34m\u001b[1mval: \u001b[0mWARNING  D:\\YOLOV8-tomatod\\tomatOD_yolo\\val\\images\\stereo20190406_065607_p0_snap_080.jpg: 1 duplicate labels removed\n"
     ]
    },
    {
     "name": "stderr",
     "output_type": "stream",
     "text": [
      "\n",
      "                 Class     Images  Instances      Box(P          R      mAP50  mAP50-95): 100%|██████████| 22/22 [00:01\n"
     ]
    },
    {
     "name": "stdout",
     "output_type": "stream",
     "text": [
      "                   all         22        245      0.598      0.186      0.379      0.196\n",
      "                unripe         22        173      0.593      0.277      0.426      0.188\n",
      "             semi-ripe         17         37        0.5     0.0811      0.291      0.204\n",
      "            fully-ripe         16         35        0.7        0.2       0.42      0.197\n",
      "Speed: 2.0ms preprocess, 16.0ms inference, 0.0ms loss, 2.0ms postprocess per image\n",
      "Saving runs\\detect\\tomatOD_run_effnet_epoch_7_val\\predictions.json...\n",
      "Results saved to \u001b[1mruns\\detect\\tomatOD_run_effnet_epoch_7_val\u001b[0m\n",
      "WARNING  imgsz=[300] must be multiple of max stride 32, updating to [320]\n",
      "Ultralytics 8.3.70  Python-3.11.11 torch-2.7.0.dev20250127+cu126 CUDA:0 (NVIDIA GeForce RTX 3050 Laptop GPU, 4096MiB)\n"
     ]
    },
    {
     "name": "stderr",
     "output_type": "stream",
     "text": [
      "\u001b[34m\u001b[1mval: \u001b[0mScanning D:\\YOLOV8-tomatod\\tomatOD_yolo\\test\\labels.cache... 55 images, 0 backgrounds, 0 corrupt: 100%|██████████|\u001b[0m\n",
      "                 Class     Images  Instances      Box(P          R      mAP50  mAP50-95): 100%|██████████| 55/55 [00:02\n"
     ]
    },
    {
     "name": "stdout",
     "output_type": "stream",
     "text": [
      "                   all         55        468      0.457      0.108      0.278      0.164\n",
      "                unripe         55        292      0.372      0.144      0.254     0.0979\n",
      "             semi-ripe         37         77        0.3      0.039      0.174      0.144\n",
      "            fully-ripe         48         99        0.7      0.141      0.407       0.25\n",
      "Speed: 2.2ms preprocess, 17.2ms inference, 0.0ms loss, 1.5ms postprocess per image\n",
      "Saving runs\\detect\\tomatOD_run_effnet_epoch_7_test\\predictions.json...\n",
      "Results saved to \u001b[1mruns\\detect\\tomatOD_run_effnet_epoch_7_test\u001b[0m\n",
      "WARNING  imgsz=[300] must be multiple of max stride 32, updating to [320]\n",
      "Ultralytics 8.3.70  Python-3.11.11 torch-2.7.0.dev20250127+cu126 CUDA:0 (NVIDIA GeForce RTX 3050 Laptop GPU, 4096MiB)\n",
      "Model summary (fused): 168 layers, 3,006,233 parameters, 0 gradients, 8.1 GFLOPs\n"
     ]
    },
    {
     "name": "stderr",
     "output_type": "stream",
     "text": [
      "\u001b[34m\u001b[1mval: \u001b[0mScanning D:\\YOLOV8-tomatod\\tomatOD_yolo\\val\\labels.cache... 22 images, 0 backgrounds, 0 corrupt: 100%|██████████| \u001b[0m"
     ]
    },
    {
     "name": "stdout",
     "output_type": "stream",
     "text": [
      "\u001b[34m\u001b[1mval: \u001b[0mWARNING  D:\\YOLOV8-tomatod\\tomatOD_yolo\\val\\images\\stereo20190405_133623_p2_snap_043.jpg: 1 duplicate labels removed\n",
      "\u001b[34m\u001b[1mval: \u001b[0mWARNING  D:\\YOLOV8-tomatod\\tomatOD_yolo\\val\\images\\stereo20190406_065607_p0_snap_080.jpg: 1 duplicate labels removed\n"
     ]
    },
    {
     "name": "stderr",
     "output_type": "stream",
     "text": [
      "\n",
      "                 Class     Images  Instances      Box(P          R      mAP50  mAP50-95): 100%|██████████| 22/22 [00:01\n"
     ]
    },
    {
     "name": "stdout",
     "output_type": "stream",
     "text": [
      "                   all         22        245      0.481      0.404      0.421      0.245\n",
      "                unripe         22        173      0.675      0.457      0.574      0.292\n",
      "             semi-ripe         17         37      0.324      0.297      0.287      0.199\n",
      "            fully-ripe         16         35      0.444      0.457      0.401      0.244\n",
      "Speed: 1.6ms preprocess, 15.7ms inference, 0.0ms loss, 3.2ms postprocess per image\n",
      "Saving runs\\detect\\tomatOD_run_effnet_epoch_8_val\\predictions.json...\n",
      "Results saved to \u001b[1mruns\\detect\\tomatOD_run_effnet_epoch_8_val\u001b[0m\n",
      "WARNING  imgsz=[300] must be multiple of max stride 32, updating to [320]\n",
      "Ultralytics 8.3.70  Python-3.11.11 torch-2.7.0.dev20250127+cu126 CUDA:0 (NVIDIA GeForce RTX 3050 Laptop GPU, 4096MiB)\n"
     ]
    },
    {
     "name": "stderr",
     "output_type": "stream",
     "text": [
      "\u001b[34m\u001b[1mval: \u001b[0mScanning D:\\YOLOV8-tomatod\\tomatOD_yolo\\test\\labels.cache... 55 images, 0 backgrounds, 0 corrupt: 100%|██████████|\u001b[0m\n",
      "                 Class     Images  Instances      Box(P          R      mAP50  mAP50-95): 100%|██████████| 55/55 [00:02\n"
     ]
    },
    {
     "name": "stdout",
     "output_type": "stream",
     "text": [
      "                   all         55        468      0.474      0.374      0.399      0.209\n",
      "                unripe         55        292      0.538      0.312      0.445      0.206\n",
      "             semi-ripe         37         77      0.293      0.286      0.221      0.136\n",
      "            fully-ripe         48         99      0.591      0.525       0.53      0.287\n",
      "Speed: 2.4ms preprocess, 15.5ms inference, 0.0ms loss, 1.8ms postprocess per image\n",
      "Saving runs\\detect\\tomatOD_run_effnet_epoch_8_test\\predictions.json...\n",
      "Results saved to \u001b[1mruns\\detect\\tomatOD_run_effnet_epoch_8_test\u001b[0m\n",
      "WARNING  imgsz=[300] must be multiple of max stride 32, updating to [320]\n",
      "Ultralytics 8.3.70  Python-3.11.11 torch-2.7.0.dev20250127+cu126 CUDA:0 (NVIDIA GeForce RTX 3050 Laptop GPU, 4096MiB)\n",
      "Model summary (fused): 168 layers, 3,006,233 parameters, 0 gradients, 8.1 GFLOPs\n"
     ]
    },
    {
     "name": "stderr",
     "output_type": "stream",
     "text": [
      "\u001b[34m\u001b[1mval: \u001b[0mScanning D:\\YOLOV8-tomatod\\tomatOD_yolo\\val\\labels.cache... 22 images, 0 backgrounds, 0 corrupt: 100%|██████████| \u001b[0m"
     ]
    },
    {
     "name": "stdout",
     "output_type": "stream",
     "text": [
      "\u001b[34m\u001b[1mval: \u001b[0mWARNING  D:\\YOLOV8-tomatod\\tomatOD_yolo\\val\\images\\stereo20190405_133623_p2_snap_043.jpg: 1 duplicate labels removed\n",
      "\u001b[34m\u001b[1mval: \u001b[0mWARNING  D:\\YOLOV8-tomatod\\tomatOD_yolo\\val\\images\\stereo20190406_065607_p0_snap_080.jpg: 1 duplicate labels removed\n"
     ]
    },
    {
     "name": "stderr",
     "output_type": "stream",
     "text": [
      "\n",
      "                 Class     Images  Instances      Box(P          R      mAP50  mAP50-95): 100%|██████████| 22/22 [00:01\n"
     ]
    },
    {
     "name": "stdout",
     "output_type": "stream",
     "text": [
      "                   all         22        245      0.558      0.561      0.531      0.234\n",
      "                unripe         22        173      0.705      0.653      0.726      0.331\n",
      "             semi-ripe         17         37      0.392      0.405      0.308      0.174\n",
      "            fully-ripe         16         35      0.578      0.625      0.558      0.197\n",
      "Speed: 2.1ms preprocess, 15.8ms inference, 0.0ms loss, 1.5ms postprocess per image\n",
      "Saving runs\\detect\\tomatOD_run_effnet_epoch_9_val\\predictions.json...\n",
      "Results saved to \u001b[1mruns\\detect\\tomatOD_run_effnet_epoch_9_val\u001b[0m\n",
      "WARNING  imgsz=[300] must be multiple of max stride 32, updating to [320]\n",
      "Ultralytics 8.3.70  Python-3.11.11 torch-2.7.0.dev20250127+cu126 CUDA:0 (NVIDIA GeForce RTX 3050 Laptop GPU, 4096MiB)\n"
     ]
    },
    {
     "name": "stderr",
     "output_type": "stream",
     "text": [
      "\u001b[34m\u001b[1mval: \u001b[0mScanning D:\\YOLOV8-tomatod\\tomatOD_yolo\\test\\labels.cache... 55 images, 0 backgrounds, 0 corrupt: 100%|██████████|\u001b[0m\n",
      "                 Class     Images  Instances      Box(P          R      mAP50  mAP50-95): 100%|██████████| 55/55 [00:02\n"
     ]
    },
    {
     "name": "stdout",
     "output_type": "stream",
     "text": [
      "                   all         55        468      0.479       0.63      0.528      0.231\n",
      "                unripe         55        292      0.569       0.63      0.635      0.268\n",
      "             semi-ripe         37         77      0.293      0.494      0.313      0.165\n",
      "            fully-ripe         48         99      0.574      0.768      0.635      0.261\n",
      "Speed: 1.8ms preprocess, 15.7ms inference, 0.0ms loss, 1.8ms postprocess per image\n",
      "Saving runs\\detect\\tomatOD_run_effnet_epoch_9_test\\predictions.json...\n",
      "Results saved to \u001b[1mruns\\detect\\tomatOD_run_effnet_epoch_9_test\u001b[0m\n",
      "WARNING  imgsz=[300] must be multiple of max stride 32, updating to [320]\n",
      "Ultralytics 8.3.70  Python-3.11.11 torch-2.7.0.dev20250127+cu126 CUDA:0 (NVIDIA GeForce RTX 3050 Laptop GPU, 4096MiB)\n",
      "Model summary (fused): 168 layers, 3,006,233 parameters, 0 gradients, 8.1 GFLOPs\n"
     ]
    },
    {
     "name": "stderr",
     "output_type": "stream",
     "text": [
      "\u001b[34m\u001b[1mval: \u001b[0mScanning D:\\YOLOV8-tomatod\\tomatOD_yolo\\val\\labels.cache... 22 images, 0 backgrounds, 0 corrupt: 100%|██████████| \u001b[0m"
     ]
    },
    {
     "name": "stdout",
     "output_type": "stream",
     "text": [
      "\u001b[34m\u001b[1mval: \u001b[0mWARNING  D:\\YOLOV8-tomatod\\tomatOD_yolo\\val\\images\\stereo20190405_133623_p2_snap_043.jpg: 1 duplicate labels removed\n",
      "\u001b[34m\u001b[1mval: \u001b[0mWARNING  D:\\YOLOV8-tomatod\\tomatOD_yolo\\val\\images\\stereo20190406_065607_p0_snap_080.jpg: 1 duplicate labels removed\n"
     ]
    },
    {
     "name": "stderr",
     "output_type": "stream",
     "text": [
      "\n",
      "                 Class     Images  Instances      Box(P          R      mAP50  mAP50-95): 100%|██████████| 22/22 [00:01\n"
     ]
    },
    {
     "name": "stdout",
     "output_type": "stream",
     "text": [
      "                   all         22        245      0.602      0.498      0.548      0.261\n",
      "                unripe         22        173      0.692      0.741      0.747      0.331\n",
      "             semi-ripe         17         37      0.473      0.291      0.327      0.174\n",
      "            fully-ripe         16         35      0.642      0.461       0.57      0.277\n",
      "Speed: 2.6ms preprocess, 14.3ms inference, 0.0ms loss, 1.8ms postprocess per image\n",
      "Saving runs\\detect\\tomatOD_run_effnet_epoch_10_val\\predictions.json...\n",
      "Results saved to \u001b[1mruns\\detect\\tomatOD_run_effnet_epoch_10_val\u001b[0m\n",
      "WARNING  imgsz=[300] must be multiple of max stride 32, updating to [320]\n",
      "Ultralytics 8.3.70  Python-3.11.11 torch-2.7.0.dev20250127+cu126 CUDA:0 (NVIDIA GeForce RTX 3050 Laptop GPU, 4096MiB)\n"
     ]
    },
    {
     "name": "stderr",
     "output_type": "stream",
     "text": [
      "\u001b[34m\u001b[1mval: \u001b[0mScanning D:\\YOLOV8-tomatod\\tomatOD_yolo\\test\\labels.cache... 55 images, 0 backgrounds, 0 corrupt: 100%|██████████|\u001b[0m\n",
      "                 Class     Images  Instances      Box(P          R      mAP50  mAP50-95): 100%|██████████| 55/55 [00:02\n"
     ]
    },
    {
     "name": "stdout",
     "output_type": "stream",
     "text": [
      "                   all         55        468      0.525      0.484        0.5      0.222\n",
      "                unripe         55        292      0.593      0.623      0.609      0.245\n",
      "             semi-ripe         37         77      0.296      0.273       0.25      0.134\n",
      "            fully-ripe         48         99      0.687      0.556      0.641      0.287\n",
      "Speed: 2.0ms preprocess, 14.8ms inference, 0.0ms loss, 2.1ms postprocess per image\n",
      "Saving runs\\detect\\tomatOD_run_effnet_epoch_10_test\\predictions.json...\n",
      "Results saved to \u001b[1mruns\\detect\\tomatOD_run_effnet_epoch_10_test\u001b[0m\n",
      "WARNING  imgsz=[300] must be multiple of max stride 32, updating to [320]\n",
      "Ultralytics 8.3.70  Python-3.11.11 torch-2.7.0.dev20250127+cu126 CUDA:0 (NVIDIA GeForce RTX 3050 Laptop GPU, 4096MiB)\n",
      "Model summary (fused): 168 layers, 3,006,233 parameters, 0 gradients, 8.1 GFLOPs\n"
     ]
    },
    {
     "name": "stderr",
     "output_type": "stream",
     "text": [
      "\u001b[34m\u001b[1mval: \u001b[0mScanning D:\\YOLOV8-tomatod\\tomatOD_yolo\\val\\labels.cache... 22 images, 0 backgrounds, 0 corrupt: 100%|██████████| \u001b[0m"
     ]
    },
    {
     "name": "stdout",
     "output_type": "stream",
     "text": [
      "\u001b[34m\u001b[1mval: \u001b[0mWARNING  D:\\YOLOV8-tomatod\\tomatOD_yolo\\val\\images\\stereo20190405_133623_p2_snap_043.jpg: 1 duplicate labels removed\n",
      "\u001b[34m\u001b[1mval: \u001b[0mWARNING  D:\\YOLOV8-tomatod\\tomatOD_yolo\\val\\images\\stereo20190406_065607_p0_snap_080.jpg: 1 duplicate labels removed\n"
     ]
    },
    {
     "name": "stderr",
     "output_type": "stream",
     "text": [
      "\n",
      "                 Class     Images  Instances      Box(P          R      mAP50  mAP50-95): 100%|██████████| 22/22 [00:01\n"
     ]
    },
    {
     "name": "stdout",
     "output_type": "stream",
     "text": [
      "                   all         22        245      0.568      0.597      0.599      0.314\n",
      "                unripe         22        173      0.669      0.815      0.802      0.397\n",
      "             semi-ripe         17         37      0.448      0.432      0.385       0.25\n",
      "            fully-ripe         16         35      0.589      0.543       0.61      0.294\n",
      "Speed: 2.0ms preprocess, 16.2ms inference, 0.0ms loss, 2.0ms postprocess per image\n",
      "Saving runs\\detect\\tomatOD_run_effnet_epoch_11_val\\predictions.json...\n",
      "Results saved to \u001b[1mruns\\detect\\tomatOD_run_effnet_epoch_11_val\u001b[0m\n",
      "WARNING  imgsz=[300] must be multiple of max stride 32, updating to [320]\n",
      "Ultralytics 8.3.70  Python-3.11.11 torch-2.7.0.dev20250127+cu126 CUDA:0 (NVIDIA GeForce RTX 3050 Laptop GPU, 4096MiB)\n"
     ]
    },
    {
     "name": "stderr",
     "output_type": "stream",
     "text": [
      "\u001b[34m\u001b[1mval: \u001b[0mScanning D:\\YOLOV8-tomatod\\tomatOD_yolo\\test\\labels.cache... 55 images, 0 backgrounds, 0 corrupt: 100%|██████████|\u001b[0m\n",
      "                 Class     Images  Instances      Box(P          R      mAP50  mAP50-95): 100%|██████████| 55/55 [00:02\n"
     ]
    },
    {
     "name": "stdout",
     "output_type": "stream",
     "text": [
      "                   all         55        468      0.549      0.586      0.579      0.283\n",
      "                unripe         55        292      0.652      0.736      0.751      0.339\n",
      "             semi-ripe         37         77      0.305      0.364      0.256      0.148\n",
      "            fully-ripe         48         99      0.689      0.657       0.73      0.362\n",
      "Speed: 1.4ms preprocess, 14.6ms inference, 0.0ms loss, 1.6ms postprocess per image\n",
      "Saving runs\\detect\\tomatOD_run_effnet_epoch_11_test\\predictions.json...\n",
      "Results saved to \u001b[1mruns\\detect\\tomatOD_run_effnet_epoch_11_test\u001b[0m\n",
      "WARNING  imgsz=[300] must be multiple of max stride 32, updating to [320]\n",
      "Ultralytics 8.3.70  Python-3.11.11 torch-2.7.0.dev20250127+cu126 CUDA:0 (NVIDIA GeForce RTX 3050 Laptop GPU, 4096MiB)\n",
      "Model summary (fused): 168 layers, 3,006,233 parameters, 0 gradients, 8.1 GFLOPs\n"
     ]
    },
    {
     "name": "stderr",
     "output_type": "stream",
     "text": [
      "\u001b[34m\u001b[1mval: \u001b[0mScanning D:\\YOLOV8-tomatod\\tomatOD_yolo\\val\\labels.cache... 22 images, 0 backgrounds, 0 corrupt: 100%|██████████| \u001b[0m"
     ]
    },
    {
     "name": "stdout",
     "output_type": "stream",
     "text": [
      "\u001b[34m\u001b[1mval: \u001b[0mWARNING  D:\\YOLOV8-tomatod\\tomatOD_yolo\\val\\images\\stereo20190405_133623_p2_snap_043.jpg: 1 duplicate labels removed\n",
      "\u001b[34m\u001b[1mval: \u001b[0mWARNING  D:\\YOLOV8-tomatod\\tomatOD_yolo\\val\\images\\stereo20190406_065607_p0_snap_080.jpg: 1 duplicate labels removed\n"
     ]
    },
    {
     "name": "stderr",
     "output_type": "stream",
     "text": [
      "\n",
      "                 Class     Images  Instances      Box(P          R      mAP50  mAP50-95): 100%|██████████| 22/22 [00:01\n"
     ]
    },
    {
     "name": "stdout",
     "output_type": "stream",
     "text": [
      "                   all         22        245      0.567       0.62      0.573      0.286\n",
      "                unripe         22        173      0.655      0.809      0.766      0.346\n",
      "             semi-ripe         17         37      0.449      0.375      0.378      0.248\n",
      "            fully-ripe         16         35      0.596      0.676      0.575      0.265\n",
      "Speed: 2.9ms preprocess, 15.8ms inference, 0.1ms loss, 1.1ms postprocess per image\n",
      "Saving runs\\detect\\tomatOD_run_effnet_epoch_12_val\\predictions.json...\n",
      "Results saved to \u001b[1mruns\\detect\\tomatOD_run_effnet_epoch_12_val\u001b[0m\n",
      "WARNING  imgsz=[300] must be multiple of max stride 32, updating to [320]\n",
      "Ultralytics 8.3.70  Python-3.11.11 torch-2.7.0.dev20250127+cu126 CUDA:0 (NVIDIA GeForce RTX 3050 Laptop GPU, 4096MiB)\n"
     ]
    },
    {
     "name": "stderr",
     "output_type": "stream",
     "text": [
      "\u001b[34m\u001b[1mval: \u001b[0mScanning D:\\YOLOV8-tomatod\\tomatOD_yolo\\test\\labels.cache... 55 images, 0 backgrounds, 0 corrupt: 100%|██████████|\u001b[0m\n",
      "                 Class     Images  Instances      Box(P          R      mAP50  mAP50-95): 100%|██████████| 55/55 [00:02\n"
     ]
    },
    {
     "name": "stdout",
     "output_type": "stream",
     "text": [
      "                   all         55        468      0.532      0.644      0.588      0.275\n",
      "                unripe         55        292      0.614      0.795      0.769      0.334\n",
      "             semi-ripe         37         77       0.31       0.39      0.258      0.131\n",
      "            fully-ripe         48         99      0.673      0.747      0.736      0.361\n",
      "Speed: 2.6ms preprocess, 16.4ms inference, 0.0ms loss, 1.8ms postprocess per image\n",
      "Saving runs\\detect\\tomatOD_run_effnet_epoch_12_test\\predictions.json...\n",
      "Results saved to \u001b[1mruns\\detect\\tomatOD_run_effnet_epoch_12_test\u001b[0m\n",
      "WARNING  imgsz=[300] must be multiple of max stride 32, updating to [320]\n",
      "Ultralytics 8.3.70  Python-3.11.11 torch-2.7.0.dev20250127+cu126 CUDA:0 (NVIDIA GeForce RTX 3050 Laptop GPU, 4096MiB)\n",
      "Model summary (fused): 168 layers, 3,006,233 parameters, 0 gradients, 8.1 GFLOPs\n"
     ]
    },
    {
     "name": "stderr",
     "output_type": "stream",
     "text": [
      "\u001b[34m\u001b[1mval: \u001b[0mScanning D:\\YOLOV8-tomatod\\tomatOD_yolo\\val\\labels.cache... 22 images, 0 backgrounds, 0 corrupt: 100%|██████████| \u001b[0m"
     ]
    },
    {
     "name": "stdout",
     "output_type": "stream",
     "text": [
      "\u001b[34m\u001b[1mval: \u001b[0mWARNING  D:\\YOLOV8-tomatod\\tomatOD_yolo\\val\\images\\stereo20190405_133623_p2_snap_043.jpg: 1 duplicate labels removed\n",
      "\u001b[34m\u001b[1mval: \u001b[0mWARNING  D:\\YOLOV8-tomatod\\tomatOD_yolo\\val\\images\\stereo20190406_065607_p0_snap_080.jpg: 1 duplicate labels removed\n"
     ]
    },
    {
     "name": "stderr",
     "output_type": "stream",
     "text": [
      "\n",
      "                 Class     Images  Instances      Box(P          R      mAP50  mAP50-95): 100%|██████████| 22/22 [00:01\n"
     ]
    },
    {
     "name": "stdout",
     "output_type": "stream",
     "text": [
      "                   all         22        245      0.556      0.644       0.64      0.339\n",
      "                unripe         22        173      0.685      0.827      0.838      0.411\n",
      "             semi-ripe         17         37      0.429      0.541      0.497       0.31\n",
      "            fully-ripe         16         35      0.553      0.565      0.586      0.294\n",
      "Speed: 3.0ms preprocess, 16.8ms inference, 0.0ms loss, 2.3ms postprocess per image\n",
      "Saving runs\\detect\\tomatOD_run_effnet_epoch_13_val\\predictions.json...\n",
      "Results saved to \u001b[1mruns\\detect\\tomatOD_run_effnet_epoch_13_val\u001b[0m\n",
      "WARNING  imgsz=[300] must be multiple of max stride 32, updating to [320]\n",
      "Ultralytics 8.3.70  Python-3.11.11 torch-2.7.0.dev20250127+cu126 CUDA:0 (NVIDIA GeForce RTX 3050 Laptop GPU, 4096MiB)\n"
     ]
    },
    {
     "name": "stderr",
     "output_type": "stream",
     "text": [
      "\u001b[34m\u001b[1mval: \u001b[0mScanning D:\\YOLOV8-tomatod\\tomatOD_yolo\\test\\labels.cache... 55 images, 0 backgrounds, 0 corrupt: 100%|██████████|\u001b[0m\n",
      "                 Class     Images  Instances      Box(P          R      mAP50  mAP50-95): 100%|██████████| 55/55 [00:02\n"
     ]
    },
    {
     "name": "stdout",
     "output_type": "stream",
     "text": [
      "                   all         55        468      0.579      0.692      0.621      0.314\n",
      "                unripe         55        292      0.734      0.805      0.826       0.38\n",
      "             semi-ripe         37         77      0.332      0.523      0.331      0.197\n",
      "            fully-ripe         48         99      0.671      0.747      0.707      0.366\n",
      "Speed: 1.7ms preprocess, 13.3ms inference, 0.0ms loss, 2.6ms postprocess per image\n",
      "Saving runs\\detect\\tomatOD_run_effnet_epoch_13_test\\predictions.json...\n",
      "Results saved to \u001b[1mruns\\detect\\tomatOD_run_effnet_epoch_13_test\u001b[0m\n",
      "WARNING  imgsz=[300] must be multiple of max stride 32, updating to [320]\n",
      "Ultralytics 8.3.70  Python-3.11.11 torch-2.7.0.dev20250127+cu126 CUDA:0 (NVIDIA GeForce RTX 3050 Laptop GPU, 4096MiB)\n",
      "Model summary (fused): 168 layers, 3,006,233 parameters, 0 gradients, 8.1 GFLOPs\n"
     ]
    },
    {
     "name": "stderr",
     "output_type": "stream",
     "text": [
      "\u001b[34m\u001b[1mval: \u001b[0mScanning D:\\YOLOV8-tomatod\\tomatOD_yolo\\val\\labels.cache... 22 images, 0 backgrounds, 0 corrupt: 100%|██████████| \u001b[0m"
     ]
    },
    {
     "name": "stdout",
     "output_type": "stream",
     "text": [
      "\u001b[34m\u001b[1mval: \u001b[0mWARNING  D:\\YOLOV8-tomatod\\tomatOD_yolo\\val\\images\\stereo20190405_133623_p2_snap_043.jpg: 1 duplicate labels removed\n",
      "\u001b[34m\u001b[1mval: \u001b[0mWARNING  D:\\YOLOV8-tomatod\\tomatOD_yolo\\val\\images\\stereo20190406_065607_p0_snap_080.jpg: 1 duplicate labels removed\n"
     ]
    },
    {
     "name": "stderr",
     "output_type": "stream",
     "text": [
      "\n",
      "                 Class     Images  Instances      Box(P          R      mAP50  mAP50-95): 100%|██████████| 22/22 [00:01\n"
     ]
    },
    {
     "name": "stdout",
     "output_type": "stream",
     "text": [
      "                   all         22        245      0.595      0.778      0.686      0.391\n",
      "                unripe         22        173      0.802      0.821      0.872      0.455\n",
      "             semi-ripe         17         37      0.444      0.582      0.554      0.352\n",
      "            fully-ripe         16         35      0.538       0.93      0.633      0.366\n",
      "Speed: 1.5ms preprocess, 16.5ms inference, 0.0ms loss, 1.5ms postprocess per image\n",
      "Saving runs\\detect\\tomatOD_run_effnet_epoch_14_val\\predictions.json...\n",
      "Results saved to \u001b[1mruns\\detect\\tomatOD_run_effnet_epoch_14_val\u001b[0m\n",
      "WARNING  imgsz=[300] must be multiple of max stride 32, updating to [320]\n",
      "Ultralytics 8.3.70  Python-3.11.11 torch-2.7.0.dev20250127+cu126 CUDA:0 (NVIDIA GeForce RTX 3050 Laptop GPU, 4096MiB)\n"
     ]
    },
    {
     "name": "stderr",
     "output_type": "stream",
     "text": [
      "\u001b[34m\u001b[1mval: \u001b[0mScanning D:\\YOLOV8-tomatod\\tomatOD_yolo\\test\\labels.cache... 55 images, 0 backgrounds, 0 corrupt: 100%|██████████|\u001b[0m\n",
      "                 Class     Images  Instances      Box(P          R      mAP50  mAP50-95): 100%|██████████| 55/55 [00:02\n"
     ]
    },
    {
     "name": "stdout",
     "output_type": "stream",
     "text": [
      "                   all         55        468      0.577      0.771      0.659       0.36\n",
      "                unripe         55        292      0.823      0.767      0.853      0.424\n",
      "             semi-ripe         37         77      0.339      0.627      0.368      0.219\n",
      "            fully-ripe         48         99      0.568      0.919      0.756      0.437\n",
      "Speed: 1.7ms preprocess, 14.9ms inference, 0.0ms loss, 2.7ms postprocess per image\n",
      "Saving runs\\detect\\tomatOD_run_effnet_epoch_14_test\\predictions.json...\n",
      "Results saved to \u001b[1mruns\\detect\\tomatOD_run_effnet_epoch_14_test\u001b[0m\n",
      "WARNING  imgsz=[300] must be multiple of max stride 32, updating to [320]\n",
      "Ultralytics 8.3.70  Python-3.11.11 torch-2.7.0.dev20250127+cu126 CUDA:0 (NVIDIA GeForce RTX 3050 Laptop GPU, 4096MiB)\n",
      "Model summary (fused): 168 layers, 3,006,233 parameters, 0 gradients, 8.1 GFLOPs\n"
     ]
    },
    {
     "name": "stderr",
     "output_type": "stream",
     "text": [
      "\u001b[34m\u001b[1mval: \u001b[0mScanning D:\\YOLOV8-tomatod\\tomatOD_yolo\\val\\labels.cache... 22 images, 0 backgrounds, 0 corrupt: 100%|██████████| \u001b[0m"
     ]
    },
    {
     "name": "stdout",
     "output_type": "stream",
     "text": [
      "\u001b[34m\u001b[1mval: \u001b[0mWARNING  D:\\YOLOV8-tomatod\\tomatOD_yolo\\val\\images\\stereo20190405_133623_p2_snap_043.jpg: 1 duplicate labels removed\n",
      "\u001b[34m\u001b[1mval: \u001b[0mWARNING  D:\\YOLOV8-tomatod\\tomatOD_yolo\\val\\images\\stereo20190406_065607_p0_snap_080.jpg: 1 duplicate labels removed\n"
     ]
    },
    {
     "name": "stderr",
     "output_type": "stream",
     "text": [
      "\n",
      "                 Class     Images  Instances      Box(P          R      mAP50  mAP50-95): 100%|██████████| 22/22 [00:01\n"
     ]
    },
    {
     "name": "stdout",
     "output_type": "stream",
     "text": [
      "                   all         22        245      0.593      0.796      0.683      0.376\n",
      "                unripe         22        173      0.808      0.821      0.869      0.438\n",
      "             semi-ripe         17         37      0.444      0.626      0.494      0.307\n",
      "            fully-ripe         16         35      0.528      0.943      0.684      0.382\n",
      "Speed: 2.6ms preprocess, 15.7ms inference, 0.0ms loss, 2.0ms postprocess per image\n",
      "Saving runs\\detect\\tomatOD_run_effnet_epoch_15_val\\predictions.json...\n",
      "Results saved to \u001b[1mruns\\detect\\tomatOD_run_effnet_epoch_15_val\u001b[0m\n",
      "WARNING  imgsz=[300] must be multiple of max stride 32, updating to [320]\n",
      "Ultralytics 8.3.70  Python-3.11.11 torch-2.7.0.dev20250127+cu126 CUDA:0 (NVIDIA GeForce RTX 3050 Laptop GPU, 4096MiB)\n"
     ]
    },
    {
     "name": "stderr",
     "output_type": "stream",
     "text": [
      "\u001b[34m\u001b[1mval: \u001b[0mScanning D:\\YOLOV8-tomatod\\tomatOD_yolo\\test\\labels.cache... 55 images, 0 backgrounds, 0 corrupt: 100%|██████████|\u001b[0m\n",
      "                 Class     Images  Instances      Box(P          R      mAP50  mAP50-95): 100%|██████████| 55/55 [00:02\n"
     ]
    },
    {
     "name": "stdout",
     "output_type": "stream",
     "text": [
      "                   all         55        468       0.56      0.762      0.654      0.349\n",
      "                unripe         55        292       0.77      0.795      0.857      0.413\n",
      "             semi-ripe         37         77       0.32      0.561      0.344        0.2\n",
      "            fully-ripe         48         99      0.589      0.929      0.762      0.434\n",
      "Speed: 2.2ms preprocess, 15.4ms inference, 0.0ms loss, 2.7ms postprocess per image\n",
      "Saving runs\\detect\\tomatOD_run_effnet_epoch_15_test\\predictions.json...\n",
      "Results saved to \u001b[1mruns\\detect\\tomatOD_run_effnet_epoch_15_test\u001b[0m\n",
      "WARNING  imgsz=[300] must be multiple of max stride 32, updating to [320]\n",
      "Ultralytics 8.3.70  Python-3.11.11 torch-2.7.0.dev20250127+cu126 CUDA:0 (NVIDIA GeForce RTX 3050 Laptop GPU, 4096MiB)\n",
      "Model summary (fused): 168 layers, 3,006,233 parameters, 0 gradients, 8.1 GFLOPs\n"
     ]
    },
    {
     "name": "stderr",
     "output_type": "stream",
     "text": [
      "\u001b[34m\u001b[1mval: \u001b[0mScanning D:\\YOLOV8-tomatod\\tomatOD_yolo\\val\\labels.cache... 22 images, 0 backgrounds, 0 corrupt: 100%|██████████| \u001b[0m"
     ]
    },
    {
     "name": "stdout",
     "output_type": "stream",
     "text": [
      "\u001b[34m\u001b[1mval: \u001b[0mWARNING  D:\\YOLOV8-tomatod\\tomatOD_yolo\\val\\images\\stereo20190405_133623_p2_snap_043.jpg: 1 duplicate labels removed\n",
      "\u001b[34m\u001b[1mval: \u001b[0mWARNING  D:\\YOLOV8-tomatod\\tomatOD_yolo\\val\\images\\stereo20190406_065607_p0_snap_080.jpg: 1 duplicate labels removed\n"
     ]
    },
    {
     "name": "stderr",
     "output_type": "stream",
     "text": [
      "\n",
      "                 Class     Images  Instances      Box(P          R      mAP50  mAP50-95): 100%|██████████| 22/22 [00:01\n"
     ]
    },
    {
     "name": "stdout",
     "output_type": "stream",
     "text": [
      "                   all         22        245      0.617       0.76      0.693      0.397\n",
      "                unripe         22        173      0.818      0.831      0.894      0.487\n",
      "             semi-ripe         17         37        0.5      0.622       0.53      0.345\n",
      "            fully-ripe         16         35      0.534      0.829      0.654      0.357\n",
      "Speed: 3.0ms preprocess, 14.5ms inference, 0.0ms loss, 2.4ms postprocess per image\n",
      "Saving runs\\detect\\tomatOD_run_effnet_epoch_16_val\\predictions.json...\n",
      "Results saved to \u001b[1mruns\\detect\\tomatOD_run_effnet_epoch_16_val\u001b[0m\n",
      "WARNING  imgsz=[300] must be multiple of max stride 32, updating to [320]\n",
      "Ultralytics 8.3.70  Python-3.11.11 torch-2.7.0.dev20250127+cu126 CUDA:0 (NVIDIA GeForce RTX 3050 Laptop GPU, 4096MiB)\n"
     ]
    },
    {
     "name": "stderr",
     "output_type": "stream",
     "text": [
      "\u001b[34m\u001b[1mval: \u001b[0mScanning D:\\YOLOV8-tomatod\\tomatOD_yolo\\test\\labels.cache... 55 images, 0 backgrounds, 0 corrupt: 100%|██████████|\u001b[0m\n",
      "                 Class     Images  Instances      Box(P          R      mAP50  mAP50-95): 100%|██████████| 55/55 [00:02\n"
     ]
    },
    {
     "name": "stdout",
     "output_type": "stream",
     "text": [
      "                   all         55        468        0.6       0.71      0.647      0.354\n",
      "                unripe         55        292      0.828      0.777      0.866      0.437\n",
      "             semi-ripe         37         77      0.329      0.494      0.329      0.205\n",
      "            fully-ripe         48         99      0.644      0.858      0.746       0.42\n",
      "Speed: 2.4ms preprocess, 12.7ms inference, 0.0ms loss, 2.7ms postprocess per image\n",
      "Saving runs\\detect\\tomatOD_run_effnet_epoch_16_test\\predictions.json...\n",
      "Results saved to \u001b[1mruns\\detect\\tomatOD_run_effnet_epoch_16_test\u001b[0m\n",
      "WARNING  imgsz=[300] must be multiple of max stride 32, updating to [320]\n",
      "Ultralytics 8.3.70  Python-3.11.11 torch-2.7.0.dev20250127+cu126 CUDA:0 (NVIDIA GeForce RTX 3050 Laptop GPU, 4096MiB)\n",
      "Model summary (fused): 168 layers, 3,006,233 parameters, 0 gradients, 8.1 GFLOPs\n"
     ]
    },
    {
     "name": "stderr",
     "output_type": "stream",
     "text": [
      "\u001b[34m\u001b[1mval: \u001b[0mScanning D:\\YOLOV8-tomatod\\tomatOD_yolo\\val\\labels.cache... 22 images, 0 backgrounds, 0 corrupt: 100%|██████████| \u001b[0m"
     ]
    },
    {
     "name": "stdout",
     "output_type": "stream",
     "text": [
      "\u001b[34m\u001b[1mval: \u001b[0mWARNING  D:\\YOLOV8-tomatod\\tomatOD_yolo\\val\\images\\stereo20190405_133623_p2_snap_043.jpg: 1 duplicate labels removed\n",
      "\u001b[34m\u001b[1mval: \u001b[0mWARNING  D:\\YOLOV8-tomatod\\tomatOD_yolo\\val\\images\\stereo20190406_065607_p0_snap_080.jpg: 1 duplicate labels removed\n"
     ]
    },
    {
     "name": "stderr",
     "output_type": "stream",
     "text": [
      "\n",
      "                 Class     Images  Instances      Box(P          R      mAP50  mAP50-95): 100%|██████████| 22/22 [00:01\n"
     ]
    },
    {
     "name": "stdout",
     "output_type": "stream",
     "text": [
      "                   all         22        245        0.6      0.806      0.716      0.414\n",
      "                unripe         22        173      0.776      0.883      0.896      0.485\n",
      "             semi-ripe         17         37      0.476      0.703      0.602      0.392\n",
      "            fully-ripe         16         35      0.549      0.833      0.651      0.363\n",
      "Speed: 2.9ms preprocess, 16.0ms inference, 0.0ms loss, 2.5ms postprocess per image\n",
      "Saving runs\\detect\\tomatOD_run_effnet_epoch_17_val\\predictions.json...\n",
      "Results saved to \u001b[1mruns\\detect\\tomatOD_run_effnet_epoch_17_val\u001b[0m\n",
      "WARNING  imgsz=[300] must be multiple of max stride 32, updating to [320]\n",
      "Ultralytics 8.3.70  Python-3.11.11 torch-2.7.0.dev20250127+cu126 CUDA:0 (NVIDIA GeForce RTX 3050 Laptop GPU, 4096MiB)\n"
     ]
    },
    {
     "name": "stderr",
     "output_type": "stream",
     "text": [
      "\u001b[34m\u001b[1mval: \u001b[0mScanning D:\\YOLOV8-tomatod\\tomatOD_yolo\\test\\labels.cache... 55 images, 0 backgrounds, 0 corrupt: 100%|██████████|\u001b[0m\n",
      "                 Class     Images  Instances      Box(P          R      mAP50  mAP50-95): 100%|██████████| 55/55 [00:02\n"
     ]
    },
    {
     "name": "stdout",
     "output_type": "stream",
     "text": [
      "                   all         55        468      0.635      0.725      0.676      0.378\n",
      "                unripe         55        292      0.851      0.803      0.883      0.453\n",
      "             semi-ripe         37         77      0.371      0.532      0.356      0.217\n",
      "            fully-ripe         48         99      0.683      0.838      0.789      0.464\n",
      "Speed: 1.9ms preprocess, 15.2ms inference, 0.0ms loss, 1.8ms postprocess per image\n",
      "Saving runs\\detect\\tomatOD_run_effnet_epoch_17_test\\predictions.json...\n",
      "Results saved to \u001b[1mruns\\detect\\tomatOD_run_effnet_epoch_17_test\u001b[0m\n",
      "WARNING  imgsz=[300] must be multiple of max stride 32, updating to [320]\n",
      "Ultralytics 8.3.70  Python-3.11.11 torch-2.7.0.dev20250127+cu126 CUDA:0 (NVIDIA GeForce RTX 3050 Laptop GPU, 4096MiB)\n",
      "Model summary (fused): 168 layers, 3,006,233 parameters, 0 gradients, 8.1 GFLOPs\n"
     ]
    },
    {
     "name": "stderr",
     "output_type": "stream",
     "text": [
      "\u001b[34m\u001b[1mval: \u001b[0mScanning D:\\YOLOV8-tomatod\\tomatOD_yolo\\val\\labels.cache... 22 images, 0 backgrounds, 0 corrupt: 100%|██████████| \u001b[0m"
     ]
    },
    {
     "name": "stdout",
     "output_type": "stream",
     "text": [
      "\u001b[34m\u001b[1mval: \u001b[0mWARNING  D:\\YOLOV8-tomatod\\tomatOD_yolo\\val\\images\\stereo20190405_133623_p2_snap_043.jpg: 1 duplicate labels removed\n",
      "\u001b[34m\u001b[1mval: \u001b[0mWARNING  D:\\YOLOV8-tomatod\\tomatOD_yolo\\val\\images\\stereo20190406_065607_p0_snap_080.jpg: 1 duplicate labels removed\n"
     ]
    },
    {
     "name": "stderr",
     "output_type": "stream",
     "text": [
      "\n",
      "                 Class     Images  Instances      Box(P          R      mAP50  mAP50-95): 100%|██████████| 22/22 [00:01\n"
     ]
    },
    {
     "name": "stdout",
     "output_type": "stream",
     "text": [
      "                   all         22        245      0.605      0.862      0.721      0.422\n",
      "                unripe         22        173      0.802      0.913      0.918      0.514\n",
      "             semi-ripe         17         37      0.464       0.73      0.634      0.396\n",
      "            fully-ripe         16         35       0.55      0.943      0.612      0.355\n",
      "Speed: 2.1ms preprocess, 17.0ms inference, 0.0ms loss, 2.4ms postprocess per image\n",
      "Saving runs\\detect\\tomatOD_run_effnet_epoch_18_val\\predictions.json...\n",
      "Results saved to \u001b[1mruns\\detect\\tomatOD_run_effnet_epoch_18_val\u001b[0m\n",
      "WARNING  imgsz=[300] must be multiple of max stride 32, updating to [320]\n",
      "Ultralytics 8.3.70  Python-3.11.11 torch-2.7.0.dev20250127+cu126 CUDA:0 (NVIDIA GeForce RTX 3050 Laptop GPU, 4096MiB)\n"
     ]
    },
    {
     "name": "stderr",
     "output_type": "stream",
     "text": [
      "\u001b[34m\u001b[1mval: \u001b[0mScanning D:\\YOLOV8-tomatod\\tomatOD_yolo\\test\\labels.cache... 55 images, 0 backgrounds, 0 corrupt: 100%|██████████|\u001b[0m\n",
      "                 Class     Images  Instances      Box(P          R      mAP50  mAP50-95): 100%|██████████| 55/55 [00:02\n"
     ]
    },
    {
     "name": "stdout",
     "output_type": "stream",
     "text": [
      "                   all         55        468       0.62      0.734      0.683      0.378\n",
      "                unripe         55        292      0.845      0.812      0.889      0.455\n",
      "             semi-ripe         37         77      0.366      0.532      0.379      0.231\n",
      "            fully-ripe         48         99       0.65      0.859      0.782      0.448\n",
      "Speed: 1.9ms preprocess, 15.3ms inference, 0.0ms loss, 1.6ms postprocess per image\n",
      "Saving runs\\detect\\tomatOD_run_effnet_epoch_18_test\\predictions.json...\n",
      "Results saved to \u001b[1mruns\\detect\\tomatOD_run_effnet_epoch_18_test\u001b[0m\n",
      "WARNING  imgsz=[300] must be multiple of max stride 32, updating to [320]\n",
      "Ultralytics 8.3.70  Python-3.11.11 torch-2.7.0.dev20250127+cu126 CUDA:0 (NVIDIA GeForce RTX 3050 Laptop GPU, 4096MiB)\n",
      "Model summary (fused): 168 layers, 3,006,233 parameters, 0 gradients, 8.1 GFLOPs\n"
     ]
    },
    {
     "name": "stderr",
     "output_type": "stream",
     "text": [
      "\u001b[34m\u001b[1mval: \u001b[0mScanning D:\\YOLOV8-tomatod\\tomatOD_yolo\\val\\labels.cache... 22 images, 0 backgrounds, 0 corrupt: 100%|██████████| \u001b[0m"
     ]
    },
    {
     "name": "stdout",
     "output_type": "stream",
     "text": [
      "\u001b[34m\u001b[1mval: \u001b[0mWARNING  D:\\YOLOV8-tomatod\\tomatOD_yolo\\val\\images\\stereo20190405_133623_p2_snap_043.jpg: 1 duplicate labels removed\n",
      "\u001b[34m\u001b[1mval: \u001b[0mWARNING  D:\\YOLOV8-tomatod\\tomatOD_yolo\\val\\images\\stereo20190406_065607_p0_snap_080.jpg: 1 duplicate labels removed\n"
     ]
    },
    {
     "name": "stderr",
     "output_type": "stream",
     "text": [
      "\n",
      "                 Class     Images  Instances      Box(P          R      mAP50  mAP50-95): 100%|██████████| 22/22 [00:01\n"
     ]
    },
    {
     "name": "stdout",
     "output_type": "stream",
     "text": [
      "                   all         22        245      0.583      0.853       0.72      0.428\n",
      "                unripe         22        173      0.762      0.925      0.915      0.499\n",
      "             semi-ripe         17         37      0.444      0.713      0.577        0.4\n",
      "            fully-ripe         16         35      0.544      0.921      0.668      0.385\n",
      "Speed: 3.0ms preprocess, 17.4ms inference, 0.0ms loss, 1.4ms postprocess per image\n",
      "Saving runs\\detect\\tomatOD_run_effnet_epoch_19_val\\predictions.json...\n",
      "Results saved to \u001b[1mruns\\detect\\tomatOD_run_effnet_epoch_19_val\u001b[0m\n",
      "WARNING  imgsz=[300] must be multiple of max stride 32, updating to [320]\n",
      "Ultralytics 8.3.70  Python-3.11.11 torch-2.7.0.dev20250127+cu126 CUDA:0 (NVIDIA GeForce RTX 3050 Laptop GPU, 4096MiB)\n"
     ]
    },
    {
     "name": "stderr",
     "output_type": "stream",
     "text": [
      "\u001b[34m\u001b[1mval: \u001b[0mScanning D:\\YOLOV8-tomatod\\tomatOD_yolo\\test\\labels.cache... 55 images, 0 backgrounds, 0 corrupt: 100%|██████████|\u001b[0m\n",
      "                 Class     Images  Instances      Box(P          R      mAP50  mAP50-95): 100%|██████████| 55/55 [00:02\n"
     ]
    },
    {
     "name": "stdout",
     "output_type": "stream",
     "text": [
      "                   all         55        468      0.607      0.758      0.694      0.391\n",
      "                unripe         55        292      0.807       0.83      0.881      0.454\n",
      "             semi-ripe         37         77      0.366      0.584      0.394      0.244\n",
      "            fully-ripe         48         99      0.648      0.859      0.806      0.476\n",
      "Speed: 2.3ms preprocess, 15.8ms inference, 0.0ms loss, 2.4ms postprocess per image\n",
      "Saving runs\\detect\\tomatOD_run_effnet_epoch_19_test\\predictions.json...\n",
      "Results saved to \u001b[1mruns\\detect\\tomatOD_run_effnet_epoch_19_test\u001b[0m\n",
      "WARNING  imgsz=[300] must be multiple of max stride 32, updating to [320]\n",
      "Ultralytics 8.3.70  Python-3.11.11 torch-2.7.0.dev20250127+cu126 CUDA:0 (NVIDIA GeForce RTX 3050 Laptop GPU, 4096MiB)\n",
      "Model summary (fused): 168 layers, 3,006,233 parameters, 0 gradients, 8.1 GFLOPs\n"
     ]
    },
    {
     "name": "stderr",
     "output_type": "stream",
     "text": [
      "\u001b[34m\u001b[1mval: \u001b[0mScanning D:\\YOLOV8-tomatod\\tomatOD_yolo\\val\\labels.cache... 22 images, 0 backgrounds, 0 corrupt: 100%|██████████| \u001b[0m"
     ]
    },
    {
     "name": "stdout",
     "output_type": "stream",
     "text": [
      "\u001b[34m\u001b[1mval: \u001b[0mWARNING  D:\\YOLOV8-tomatod\\tomatOD_yolo\\val\\images\\stereo20190405_133623_p2_snap_043.jpg: 1 duplicate labels removed\n",
      "\u001b[34m\u001b[1mval: \u001b[0mWARNING  D:\\YOLOV8-tomatod\\tomatOD_yolo\\val\\images\\stereo20190406_065607_p0_snap_080.jpg: 1 duplicate labels removed\n"
     ]
    },
    {
     "name": "stderr",
     "output_type": "stream",
     "text": [
      "\n",
      "                 Class     Images  Instances      Box(P          R      mAP50  mAP50-95): 100%|██████████| 22/22 [00:01\n"
     ]
    },
    {
     "name": "stdout",
     "output_type": "stream",
     "text": [
      "                   all         22        245      0.611      0.811      0.716      0.432\n",
      "                unripe         22        173      0.776      0.903      0.911      0.525\n",
      "             semi-ripe         17         37      0.487      0.622      0.581      0.393\n",
      "            fully-ripe         16         35      0.569      0.907      0.656      0.377\n",
      "Speed: 2.2ms preprocess, 15.9ms inference, 0.0ms loss, 3.0ms postprocess per image\n",
      "Saving runs\\detect\\tomatOD_run_effnet_epoch_20_val\\predictions.json...\n",
      "Results saved to \u001b[1mruns\\detect\\tomatOD_run_effnet_epoch_20_val\u001b[0m\n",
      "WARNING  imgsz=[300] must be multiple of max stride 32, updating to [320]\n",
      "Ultralytics 8.3.70  Python-3.11.11 torch-2.7.0.dev20250127+cu126 CUDA:0 (NVIDIA GeForce RTX 3050 Laptop GPU, 4096MiB)\n"
     ]
    },
    {
     "name": "stderr",
     "output_type": "stream",
     "text": [
      "\u001b[34m\u001b[1mval: \u001b[0mScanning D:\\YOLOV8-tomatod\\tomatOD_yolo\\test\\labels.cache... 55 images, 0 backgrounds, 0 corrupt: 100%|██████████|\u001b[0m\n",
      "                 Class     Images  Instances      Box(P          R      mAP50  mAP50-95): 100%|██████████| 55/55 [00:02\n"
     ]
    },
    {
     "name": "stdout",
     "output_type": "stream",
     "text": [
      "                   all         55        468      0.614      0.754      0.694      0.399\n",
      "                unripe         55        292      0.788      0.846      0.864      0.459\n",
      "             semi-ripe         37         77      0.403      0.558      0.411      0.259\n",
      "            fully-ripe         48         99      0.652      0.859      0.808       0.48\n",
      "Speed: 2.2ms preprocess, 14.7ms inference, 0.0ms loss, 3.1ms postprocess per image\n",
      "Saving runs\\detect\\tomatOD_run_effnet_epoch_20_test\\predictions.json...\n",
      "Results saved to \u001b[1mruns\\detect\\tomatOD_run_effnet_epoch_20_test\u001b[0m\n",
      "WARNING  imgsz=[300] must be multiple of max stride 32, updating to [320]\n",
      "Ultralytics 8.3.70  Python-3.11.11 torch-2.7.0.dev20250127+cu126 CUDA:0 (NVIDIA GeForce RTX 3050 Laptop GPU, 4096MiB)\n",
      "Model summary (fused): 168 layers, 3,006,233 parameters, 0 gradients, 8.1 GFLOPs\n"
     ]
    },
    {
     "name": "stderr",
     "output_type": "stream",
     "text": [
      "\u001b[34m\u001b[1mval: \u001b[0mScanning D:\\YOLOV8-tomatod\\tomatOD_yolo\\val\\labels.cache... 22 images, 0 backgrounds, 0 corrupt: 100%|██████████| \u001b[0m"
     ]
    },
    {
     "name": "stdout",
     "output_type": "stream",
     "text": [
      "\u001b[34m\u001b[1mval: \u001b[0mWARNING  D:\\YOLOV8-tomatod\\tomatOD_yolo\\val\\images\\stereo20190405_133623_p2_snap_043.jpg: 1 duplicate labels removed\n",
      "\u001b[34m\u001b[1mval: \u001b[0mWARNING  D:\\YOLOV8-tomatod\\tomatOD_yolo\\val\\images\\stereo20190406_065607_p0_snap_080.jpg: 1 duplicate labels removed\n"
     ]
    },
    {
     "name": "stderr",
     "output_type": "stream",
     "text": [
      "\n",
      "                 Class     Images  Instances      Box(P          R      mAP50  mAP50-95): 100%|██████████| 22/22 [00:01\n"
     ]
    },
    {
     "name": "stdout",
     "output_type": "stream",
     "text": [
      "                   all         22        245      0.658      0.805      0.717       0.44\n",
      "                unripe         22        173      0.837      0.879      0.923      0.532\n",
      "             semi-ripe         17         37      0.594      0.622      0.653      0.446\n",
      "            fully-ripe         16         35      0.542      0.915      0.574      0.342\n",
      "Speed: 1.8ms preprocess, 15.7ms inference, 0.0ms loss, 2.8ms postprocess per image\n",
      "Saving runs\\detect\\tomatOD_run_effnet_epoch_21_val\\predictions.json...\n",
      "Results saved to \u001b[1mruns\\detect\\tomatOD_run_effnet_epoch_21_val\u001b[0m\n",
      "WARNING  imgsz=[300] must be multiple of max stride 32, updating to [320]\n",
      "Ultralytics 8.3.70  Python-3.11.11 torch-2.7.0.dev20250127+cu126 CUDA:0 (NVIDIA GeForce RTX 3050 Laptop GPU, 4096MiB)\n"
     ]
    },
    {
     "name": "stderr",
     "output_type": "stream",
     "text": [
      "\u001b[34m\u001b[1mval: \u001b[0mScanning D:\\YOLOV8-tomatod\\tomatOD_yolo\\test\\labels.cache... 55 images, 0 backgrounds, 0 corrupt: 100%|██████████|\u001b[0m\n",
      "                 Class     Images  Instances      Box(P          R      mAP50  mAP50-95): 100%|██████████| 55/55 [00:02\n"
     ]
    },
    {
     "name": "stdout",
     "output_type": "stream",
     "text": [
      "                   all         55        468      0.582      0.785      0.697      0.406\n",
      "                unripe         55        292      0.774      0.836      0.872      0.468\n",
      "             semi-ripe         37         77      0.361       0.61       0.44      0.286\n",
      "            fully-ripe         48         99      0.611      0.909      0.779      0.463\n",
      "Speed: 2.1ms preprocess, 15.0ms inference, 0.0ms loss, 3.2ms postprocess per image\n",
      "Saving runs\\detect\\tomatOD_run_effnet_epoch_21_test\\predictions.json...\n",
      "Results saved to \u001b[1mruns\\detect\\tomatOD_run_effnet_epoch_21_test\u001b[0m\n",
      "WARNING  imgsz=[300] must be multiple of max stride 32, updating to [320]\n",
      "Ultralytics 8.3.70  Python-3.11.11 torch-2.7.0.dev20250127+cu126 CUDA:0 (NVIDIA GeForce RTX 3050 Laptop GPU, 4096MiB)\n",
      "Model summary (fused): 168 layers, 3,006,233 parameters, 0 gradients, 8.1 GFLOPs\n"
     ]
    },
    {
     "name": "stderr",
     "output_type": "stream",
     "text": [
      "\u001b[34m\u001b[1mval: \u001b[0mScanning D:\\YOLOV8-tomatod\\tomatOD_yolo\\val\\labels.cache... 22 images, 0 backgrounds, 0 corrupt: 100%|██████████| \u001b[0m"
     ]
    },
    {
     "name": "stdout",
     "output_type": "stream",
     "text": [
      "\u001b[34m\u001b[1mval: \u001b[0mWARNING  D:\\YOLOV8-tomatod\\tomatOD_yolo\\val\\images\\stereo20190405_133623_p2_snap_043.jpg: 1 duplicate labels removed\n",
      "\u001b[34m\u001b[1mval: \u001b[0mWARNING  D:\\YOLOV8-tomatod\\tomatOD_yolo\\val\\images\\stereo20190406_065607_p0_snap_080.jpg: 1 duplicate labels removed\n"
     ]
    },
    {
     "name": "stderr",
     "output_type": "stream",
     "text": [
      "\n",
      "                 Class     Images  Instances      Box(P          R      mAP50  mAP50-95): 100%|██████████| 22/22 [00:01\n"
     ]
    },
    {
     "name": "stdout",
     "output_type": "stream",
     "text": [
      "                   all         22        245      0.646      0.775      0.706      0.417\n",
      "                unripe         22        173      0.848      0.873      0.922      0.523\n",
      "             semi-ripe         17         37      0.549      0.595      0.615      0.398\n",
      "            fully-ripe         16         35      0.539      0.857      0.582       0.33\n",
      "Speed: 2.6ms preprocess, 16.3ms inference, 0.0ms loss, 1.4ms postprocess per image\n",
      "Saving runs\\detect\\tomatOD_run_effnet_epoch_22_val\\predictions.json...\n",
      "Results saved to \u001b[1mruns\\detect\\tomatOD_run_effnet_epoch_22_val\u001b[0m\n",
      "WARNING  imgsz=[300] must be multiple of max stride 32, updating to [320]\n",
      "Ultralytics 8.3.70  Python-3.11.11 torch-2.7.0.dev20250127+cu126 CUDA:0 (NVIDIA GeForce RTX 3050 Laptop GPU, 4096MiB)\n"
     ]
    },
    {
     "name": "stderr",
     "output_type": "stream",
     "text": [
      "\u001b[34m\u001b[1mval: \u001b[0mScanning D:\\YOLOV8-tomatod\\tomatOD_yolo\\test\\labels.cache... 55 images, 0 backgrounds, 0 corrupt: 100%|██████████|\u001b[0m\n",
      "                 Class     Images  Instances      Box(P          R      mAP50  mAP50-95): 100%|██████████| 55/55 [00:03\n"
     ]
    },
    {
     "name": "stdout",
     "output_type": "stream",
     "text": [
      "                   all         55        468       0.62      0.724        0.7      0.404\n",
      "                unripe         55        292      0.844      0.795      0.874      0.466\n",
      "             semi-ripe         37         77       0.38      0.519      0.435      0.277\n",
      "            fully-ripe         48         99      0.637      0.859      0.791      0.471\n",
      "Speed: 1.5ms preprocess, 17.9ms inference, 0.0ms loss, 2.2ms postprocess per image\n",
      "Saving runs\\detect\\tomatOD_run_effnet_epoch_22_test\\predictions.json...\n",
      "Results saved to \u001b[1mruns\\detect\\tomatOD_run_effnet_epoch_22_test\u001b[0m\n",
      "WARNING  imgsz=[300] must be multiple of max stride 32, updating to [320]\n",
      "Ultralytics 8.3.70  Python-3.11.11 torch-2.7.0.dev20250127+cu126 CUDA:0 (NVIDIA GeForce RTX 3050 Laptop GPU, 4096MiB)\n",
      "Model summary (fused): 168 layers, 3,006,233 parameters, 0 gradients, 8.1 GFLOPs\n"
     ]
    },
    {
     "name": "stderr",
     "output_type": "stream",
     "text": [
      "\u001b[34m\u001b[1mval: \u001b[0mScanning D:\\YOLOV8-tomatod\\tomatOD_yolo\\val\\labels.cache... 22 images, 0 backgrounds, 0 corrupt: 100%|██████████| \u001b[0m"
     ]
    },
    {
     "name": "stdout",
     "output_type": "stream",
     "text": [
      "\u001b[34m\u001b[1mval: \u001b[0mWARNING  D:\\YOLOV8-tomatod\\tomatOD_yolo\\val\\images\\stereo20190405_133623_p2_snap_043.jpg: 1 duplicate labels removed\n",
      "\u001b[34m\u001b[1mval: \u001b[0mWARNING  D:\\YOLOV8-tomatod\\tomatOD_yolo\\val\\images\\stereo20190406_065607_p0_snap_080.jpg: 1 duplicate labels removed\n"
     ]
    },
    {
     "name": "stderr",
     "output_type": "stream",
     "text": [
      "\n",
      "                 Class     Images  Instances      Box(P          R      mAP50  mAP50-95): 100%|██████████| 22/22 [00:01\n"
     ]
    },
    {
     "name": "stdout",
     "output_type": "stream",
     "text": [
      "                   all         22        245      0.639      0.779      0.723      0.434\n",
      "                unripe         22        173      0.827      0.879      0.921      0.525\n",
      "             semi-ripe         17         37      0.553      0.595      0.611      0.416\n",
      "            fully-ripe         16         35      0.538      0.864      0.638       0.36\n",
      "Speed: 2.2ms preprocess, 16.6ms inference, 0.0ms loss, 1.6ms postprocess per image\n",
      "Saving runs\\detect\\tomatOD_run_effnet_epoch_23_val\\predictions.json...\n",
      "Results saved to \u001b[1mruns\\detect\\tomatOD_run_effnet_epoch_23_val\u001b[0m\n",
      "WARNING  imgsz=[300] must be multiple of max stride 32, updating to [320]\n",
      "Ultralytics 8.3.70  Python-3.11.11 torch-2.7.0.dev20250127+cu126 CUDA:0 (NVIDIA GeForce RTX 3050 Laptop GPU, 4096MiB)\n"
     ]
    },
    {
     "name": "stderr",
     "output_type": "stream",
     "text": [
      "\u001b[34m\u001b[1mval: \u001b[0mScanning D:\\YOLOV8-tomatod\\tomatOD_yolo\\test\\labels.cache... 55 images, 0 backgrounds, 0 corrupt: 100%|██████████|\u001b[0m\n",
      "                 Class     Images  Instances      Box(P          R      mAP50  mAP50-95): 100%|██████████| 55/55 [00:02\n"
     ]
    },
    {
     "name": "stdout",
     "output_type": "stream",
     "text": [
      "                   all         55        468      0.581      0.789      0.712      0.415\n",
      "                unripe         55        292      0.757      0.846      0.881      0.466\n",
      "             semi-ripe         37         77       0.37       0.61      0.438      0.281\n",
      "            fully-ripe         48         99      0.617      0.911      0.817      0.499\n",
      "Speed: 2.1ms preprocess, 14.8ms inference, 0.1ms loss, 1.9ms postprocess per image\n",
      "Saving runs\\detect\\tomatOD_run_effnet_epoch_23_test\\predictions.json...\n",
      "Results saved to \u001b[1mruns\\detect\\tomatOD_run_effnet_epoch_23_test\u001b[0m\n",
      "WARNING  imgsz=[300] must be multiple of max stride 32, updating to [320]\n",
      "Ultralytics 8.3.70  Python-3.11.11 torch-2.7.0.dev20250127+cu126 CUDA:0 (NVIDIA GeForce RTX 3050 Laptop GPU, 4096MiB)\n",
      "Model summary (fused): 168 layers, 3,006,233 parameters, 0 gradients, 8.1 GFLOPs\n"
     ]
    },
    {
     "name": "stderr",
     "output_type": "stream",
     "text": [
      "\u001b[34m\u001b[1mval: \u001b[0mScanning D:\\YOLOV8-tomatod\\tomatOD_yolo\\val\\labels.cache... 22 images, 0 backgrounds, 0 corrupt: 100%|██████████| \u001b[0m"
     ]
    },
    {
     "name": "stdout",
     "output_type": "stream",
     "text": [
      "\u001b[34m\u001b[1mval: \u001b[0mWARNING  D:\\YOLOV8-tomatod\\tomatOD_yolo\\val\\images\\stereo20190405_133623_p2_snap_043.jpg: 1 duplicate labels removed\n",
      "\u001b[34m\u001b[1mval: \u001b[0mWARNING  D:\\YOLOV8-tomatod\\tomatOD_yolo\\val\\images\\stereo20190406_065607_p0_snap_080.jpg: 1 duplicate labels removed\n"
     ]
    },
    {
     "name": "stderr",
     "output_type": "stream",
     "text": [
      "\n",
      "                 Class     Images  Instances      Box(P          R      mAP50  mAP50-95): 100%|██████████| 22/22 [00:01\n"
     ]
    },
    {
     "name": "stdout",
     "output_type": "stream",
     "text": [
      "                   all         22        245      0.665      0.766      0.729      0.435\n",
      "                unripe         22        173      0.839      0.845      0.925      0.539\n",
      "             semi-ripe         17         37      0.605      0.595       0.62       0.41\n",
      "            fully-ripe         16         35       0.55      0.857      0.642      0.356\n",
      "Speed: 2.9ms preprocess, 14.8ms inference, 0.0ms loss, 1.7ms postprocess per image\n",
      "Saving runs\\detect\\tomatOD_run_effnet_epoch_24_val\\predictions.json...\n",
      "Results saved to \u001b[1mruns\\detect\\tomatOD_run_effnet_epoch_24_val\u001b[0m\n",
      "WARNING  imgsz=[300] must be multiple of max stride 32, updating to [320]\n",
      "Ultralytics 8.3.70  Python-3.11.11 torch-2.7.0.dev20250127+cu126 CUDA:0 (NVIDIA GeForce RTX 3050 Laptop GPU, 4096MiB)\n"
     ]
    },
    {
     "name": "stderr",
     "output_type": "stream",
     "text": [
      "\u001b[34m\u001b[1mval: \u001b[0mScanning D:\\YOLOV8-tomatod\\tomatOD_yolo\\test\\labels.cache... 55 images, 0 backgrounds, 0 corrupt: 100%|██████████|\u001b[0m\n",
      "                 Class     Images  Instances      Box(P          R      mAP50  mAP50-95): 100%|██████████| 55/55 [00:02\n"
     ]
    },
    {
     "name": "stdout",
     "output_type": "stream",
     "text": [
      "                   all         55        468      0.595       0.79      0.709      0.414\n",
      "                unripe         55        292      0.794      0.833       0.88      0.474\n",
      "             semi-ripe         37         77      0.374      0.629      0.436      0.283\n",
      "            fully-ripe         48         99      0.616      0.909      0.812      0.485\n",
      "Speed: 2.0ms preprocess, 16.1ms inference, 0.0ms loss, 2.4ms postprocess per image\n",
      "Saving runs\\detect\\tomatOD_run_effnet_epoch_24_test\\predictions.json...\n",
      "Results saved to \u001b[1mruns\\detect\\tomatOD_run_effnet_epoch_24_test\u001b[0m\n",
      "WARNING  imgsz=[300] must be multiple of max stride 32, updating to [320]\n",
      "Ultralytics 8.3.70  Python-3.11.11 torch-2.7.0.dev20250127+cu126 CUDA:0 (NVIDIA GeForce RTX 3050 Laptop GPU, 4096MiB)\n",
      "Model summary (fused): 168 layers, 3,006,233 parameters, 0 gradients, 8.1 GFLOPs\n"
     ]
    },
    {
     "name": "stderr",
     "output_type": "stream",
     "text": [
      "\u001b[34m\u001b[1mval: \u001b[0mScanning D:\\YOLOV8-tomatod\\tomatOD_yolo\\val\\labels.cache... 22 images, 0 backgrounds, 0 corrupt: 100%|██████████| \u001b[0m"
     ]
    },
    {
     "name": "stdout",
     "output_type": "stream",
     "text": [
      "\u001b[34m\u001b[1mval: \u001b[0mWARNING  D:\\YOLOV8-tomatod\\tomatOD_yolo\\val\\images\\stereo20190405_133623_p2_snap_043.jpg: 1 duplicate labels removed\n",
      "\u001b[34m\u001b[1mval: \u001b[0mWARNING  D:\\YOLOV8-tomatod\\tomatOD_yolo\\val\\images\\stereo20190406_065607_p0_snap_080.jpg: 1 duplicate labels removed\n"
     ]
    },
    {
     "name": "stderr",
     "output_type": "stream",
     "text": [
      "\n",
      "                 Class     Images  Instances      Box(P          R      mAP50  mAP50-95): 100%|██████████| 22/22 [00:01\n"
     ]
    },
    {
     "name": "stdout",
     "output_type": "stream",
     "text": [
      "                   all         22        245      0.665      0.766      0.729      0.435\n",
      "                unripe         22        173      0.839      0.845      0.925      0.539\n",
      "             semi-ripe         17         37      0.605      0.595       0.62       0.41\n",
      "            fully-ripe         16         35       0.55      0.857      0.642      0.356\n",
      "Speed: 4.2ms preprocess, 15.5ms inference, 0.0ms loss, 1.7ms postprocess per image\n",
      "Saving runs\\detect\\tomatOD_run_effnet_epoch_25_val\\predictions.json...\n",
      "Results saved to \u001b[1mruns\\detect\\tomatOD_run_effnet_epoch_25_val\u001b[0m\n",
      "WARNING  imgsz=[300] must be multiple of max stride 32, updating to [320]\n",
      "Ultralytics 8.3.70  Python-3.11.11 torch-2.7.0.dev20250127+cu126 CUDA:0 (NVIDIA GeForce RTX 3050 Laptop GPU, 4096MiB)\n"
     ]
    },
    {
     "name": "stderr",
     "output_type": "stream",
     "text": [
      "\u001b[34m\u001b[1mval: \u001b[0mScanning D:\\YOLOV8-tomatod\\tomatOD_yolo\\test\\labels.cache... 55 images, 0 backgrounds, 0 corrupt: 100%|██████████|\u001b[0m\n",
      "                 Class     Images  Instances      Box(P          R      mAP50  mAP50-95): 100%|██████████| 55/55 [00:02\n"
     ]
    },
    {
     "name": "stdout",
     "output_type": "stream",
     "text": [
      "                   all         55        468      0.595       0.79      0.709      0.414\n",
      "                unripe         55        292      0.794      0.833       0.88      0.474\n",
      "             semi-ripe         37         77      0.374      0.629      0.436      0.283\n",
      "            fully-ripe         48         99      0.616      0.909      0.812      0.485\n",
      "Speed: 1.7ms preprocess, 15.7ms inference, 0.0ms loss, 1.6ms postprocess per image\n",
      "Saving runs\\detect\\tomatOD_run_effnet_epoch_25_test\\predictions.json...\n",
      "Results saved to \u001b[1mruns\\detect\\tomatOD_run_effnet_epoch_25_test\u001b[0m\n",
      "✅ Modified YOLO Model Structure:\n",
      " DetectionModel(\n",
      "  (model): Sequential(\n",
      "    (0): CustomBackbone(\n",
      "      (backbone): EfficientNet(\n",
      "        (features): Sequential(\n",
      "          (0): Conv2dNormActivation(\n",
      "            (0): Conv2d(3, 32, kernel_size=(3, 3), stride=(2, 2), padding=(1, 1), bias=False)\n",
      "            (1): BatchNorm2d(32, eps=1e-05, momentum=0.1, affine=True, track_running_stats=True)\n",
      "            (2): SiLU(inplace=True)\n",
      "          )\n",
      "          (1): Sequential(\n",
      "            (0): MBConv(\n",
      "              (block): Sequential(\n",
      "                (0): Conv2dNormActivation(\n",
      "                  (0): Conv2d(32, 32, kernel_size=(3, 3), stride=(1, 1), padding=(1, 1), groups=32, bias=False)\n",
      "                  (1): BatchNorm2d(32, eps=1e-05, momentum=0.1, affine=True, track_running_stats=True)\n",
      "                  (2): SiLU(inplace=True)\n",
      "                )\n",
      "                (1): SqueezeExcitation(\n",
      "                  (avgpool): AdaptiveAvgPool2d(output_size=1)\n",
      "                  (fc1): Conv2d(32, 8, kernel_size=(1, 1), stride=(1, 1))\n",
      "                  (fc2): Conv2d(8, 32, kernel_size=(1, 1), stride=(1, 1))\n",
      "                  (activation): SiLU(inplace=True)\n",
      "                  (scale_activation): Sigmoid()\n",
      "                )\n",
      "                (2): Conv2dNormActivation(\n",
      "                  (0): Conv2d(32, 16, kernel_size=(1, 1), stride=(1, 1), bias=False)\n",
      "                  (1): BatchNorm2d(16, eps=1e-05, momentum=0.1, affine=True, track_running_stats=True)\n",
      "                )\n",
      "              )\n",
      "              (stochastic_depth): StochasticDepth(p=0.0, mode=row)\n",
      "            )\n",
      "          )\n",
      "          (2): Sequential(\n",
      "            (0): MBConv(\n",
      "              (block): Sequential(\n",
      "                (0): Conv2dNormActivation(\n",
      "                  (0): Conv2d(16, 96, kernel_size=(1, 1), stride=(1, 1), bias=False)\n",
      "                  (1): BatchNorm2d(96, eps=1e-05, momentum=0.1, affine=True, track_running_stats=True)\n",
      "                  (2): SiLU(inplace=True)\n",
      "                )\n",
      "                (1): Conv2dNormActivation(\n",
      "                  (0): Conv2d(96, 96, kernel_size=(3, 3), stride=(2, 2), padding=(1, 1), groups=96, bias=False)\n",
      "                  (1): BatchNorm2d(96, eps=1e-05, momentum=0.1, affine=True, track_running_stats=True)\n",
      "                  (2): SiLU(inplace=True)\n",
      "                )\n",
      "                (2): SqueezeExcitation(\n",
      "                  (avgpool): AdaptiveAvgPool2d(output_size=1)\n",
      "                  (fc1): Conv2d(96, 4, kernel_size=(1, 1), stride=(1, 1))\n",
      "                  (fc2): Conv2d(4, 96, kernel_size=(1, 1), stride=(1, 1))\n",
      "                  (activation): SiLU(inplace=True)\n",
      "                  (scale_activation): Sigmoid()\n",
      "                )\n",
      "                (3): Conv2dNormActivation(\n",
      "                  (0): Conv2d(96, 24, kernel_size=(1, 1), stride=(1, 1), bias=False)\n",
      "                  (1): BatchNorm2d(24, eps=1e-05, momentum=0.1, affine=True, track_running_stats=True)\n",
      "                )\n",
      "              )\n",
      "              (stochastic_depth): StochasticDepth(p=0.0125, mode=row)\n",
      "            )\n",
      "            (1): MBConv(\n",
      "              (block): Sequential(\n",
      "                (0): Conv2dNormActivation(\n",
      "                  (0): Conv2d(24, 144, kernel_size=(1, 1), stride=(1, 1), bias=False)\n",
      "                  (1): BatchNorm2d(144, eps=1e-05, momentum=0.1, affine=True, track_running_stats=True)\n",
      "                  (2): SiLU(inplace=True)\n",
      "                )\n",
      "                (1): Conv2dNormActivation(\n",
      "                  (0): Conv2d(144, 144, kernel_size=(3, 3), stride=(1, 1), padding=(1, 1), groups=144, bias=False)\n",
      "                  (1): BatchNorm2d(144, eps=1e-05, momentum=0.1, affine=True, track_running_stats=True)\n",
      "                  (2): SiLU(inplace=True)\n",
      "                )\n",
      "                (2): SqueezeExcitation(\n",
      "                  (avgpool): AdaptiveAvgPool2d(output_size=1)\n",
      "                  (fc1): Conv2d(144, 6, kernel_size=(1, 1), stride=(1, 1))\n",
      "                  (fc2): Conv2d(6, 144, kernel_size=(1, 1), stride=(1, 1))\n",
      "                  (activation): SiLU(inplace=True)\n",
      "                  (scale_activation): Sigmoid()\n",
      "                )\n",
      "                (3): Conv2dNormActivation(\n",
      "                  (0): Conv2d(144, 24, kernel_size=(1, 1), stride=(1, 1), bias=False)\n",
      "                  (1): BatchNorm2d(24, eps=1e-05, momentum=0.1, affine=True, track_running_stats=True)\n",
      "                )\n",
      "              )\n",
      "              (stochastic_depth): StochasticDepth(p=0.025, mode=row)\n",
      "            )\n",
      "          )\n",
      "          (3): Sequential(\n",
      "            (0): MBConv(\n",
      "              (block): Sequential(\n",
      "                (0): Conv2dNormActivation(\n",
      "                  (0): Conv2d(24, 144, kernel_size=(1, 1), stride=(1, 1), bias=False)\n",
      "                  (1): BatchNorm2d(144, eps=1e-05, momentum=0.1, affine=True, track_running_stats=True)\n",
      "                  (2): SiLU(inplace=True)\n",
      "                )\n",
      "                (1): Conv2dNormActivation(\n",
      "                  (0): Conv2d(144, 144, kernel_size=(5, 5), stride=(2, 2), padding=(2, 2), groups=144, bias=False)\n",
      "                  (1): BatchNorm2d(144, eps=1e-05, momentum=0.1, affine=True, track_running_stats=True)\n",
      "                  (2): SiLU(inplace=True)\n",
      "                )\n",
      "                (2): SqueezeExcitation(\n",
      "                  (avgpool): AdaptiveAvgPool2d(output_size=1)\n",
      "                  (fc1): Conv2d(144, 6, kernel_size=(1, 1), stride=(1, 1))\n",
      "                  (fc2): Conv2d(6, 144, kernel_size=(1, 1), stride=(1, 1))\n",
      "                  (activation): SiLU(inplace=True)\n",
      "                  (scale_activation): Sigmoid()\n",
      "                )\n",
      "                (3): Conv2dNormActivation(\n",
      "                  (0): Conv2d(144, 40, kernel_size=(1, 1), stride=(1, 1), bias=False)\n",
      "                  (1): BatchNorm2d(40, eps=1e-05, momentum=0.1, affine=True, track_running_stats=True)\n",
      "                )\n",
      "              )\n",
      "              (stochastic_depth): StochasticDepth(p=0.037500000000000006, mode=row)\n",
      "            )\n",
      "            (1): MBConv(\n",
      "              (block): Sequential(\n",
      "                (0): Conv2dNormActivation(\n",
      "                  (0): Conv2d(40, 240, kernel_size=(1, 1), stride=(1, 1), bias=False)\n",
      "                  (1): BatchNorm2d(240, eps=1e-05, momentum=0.1, affine=True, track_running_stats=True)\n",
      "                  (2): SiLU(inplace=True)\n",
      "                )\n",
      "                (1): Conv2dNormActivation(\n",
      "                  (0): Conv2d(240, 240, kernel_size=(5, 5), stride=(1, 1), padding=(2, 2), groups=240, bias=False)\n",
      "                  (1): BatchNorm2d(240, eps=1e-05, momentum=0.1, affine=True, track_running_stats=True)\n",
      "                  (2): SiLU(inplace=True)\n",
      "                )\n",
      "                (2): SqueezeExcitation(\n",
      "                  (avgpool): AdaptiveAvgPool2d(output_size=1)\n",
      "                  (fc1): Conv2d(240, 10, kernel_size=(1, 1), stride=(1, 1))\n",
      "                  (fc2): Conv2d(10, 240, kernel_size=(1, 1), stride=(1, 1))\n",
      "                  (activation): SiLU(inplace=True)\n",
      "                  (scale_activation): Sigmoid()\n",
      "                )\n",
      "                (3): Conv2dNormActivation(\n",
      "                  (0): Conv2d(240, 40, kernel_size=(1, 1), stride=(1, 1), bias=False)\n",
      "                  (1): BatchNorm2d(40, eps=1e-05, momentum=0.1, affine=True, track_running_stats=True)\n",
      "                )\n",
      "              )\n",
      "              (stochastic_depth): StochasticDepth(p=0.05, mode=row)\n",
      "            )\n",
      "          )\n",
      "          (4): Sequential(\n",
      "            (0): MBConv(\n",
      "              (block): Sequential(\n",
      "                (0): Conv2dNormActivation(\n",
      "                  (0): Conv2d(40, 240, kernel_size=(1, 1), stride=(1, 1), bias=False)\n",
      "                  (1): BatchNorm2d(240, eps=1e-05, momentum=0.1, affine=True, track_running_stats=True)\n",
      "                  (2): SiLU(inplace=True)\n",
      "                )\n",
      "                (1): Conv2dNormActivation(\n",
      "                  (0): Conv2d(240, 240, kernel_size=(3, 3), stride=(2, 2), padding=(1, 1), groups=240, bias=False)\n",
      "                  (1): BatchNorm2d(240, eps=1e-05, momentum=0.1, affine=True, track_running_stats=True)\n",
      "                  (2): SiLU(inplace=True)\n",
      "                )\n",
      "                (2): SqueezeExcitation(\n",
      "                  (avgpool): AdaptiveAvgPool2d(output_size=1)\n",
      "                  (fc1): Conv2d(240, 10, kernel_size=(1, 1), stride=(1, 1))\n",
      "                  (fc2): Conv2d(10, 240, kernel_size=(1, 1), stride=(1, 1))\n",
      "                  (activation): SiLU(inplace=True)\n",
      "                  (scale_activation): Sigmoid()\n",
      "                )\n",
      "                (3): Conv2dNormActivation(\n",
      "                  (0): Conv2d(240, 80, kernel_size=(1, 1), stride=(1, 1), bias=False)\n",
      "                  (1): BatchNorm2d(80, eps=1e-05, momentum=0.1, affine=True, track_running_stats=True)\n",
      "                )\n",
      "              )\n",
      "              (stochastic_depth): StochasticDepth(p=0.0625, mode=row)\n",
      "            )\n",
      "            (1): MBConv(\n",
      "              (block): Sequential(\n",
      "                (0): Conv2dNormActivation(\n",
      "                  (0): Conv2d(80, 480, kernel_size=(1, 1), stride=(1, 1), bias=False)\n",
      "                  (1): BatchNorm2d(480, eps=1e-05, momentum=0.1, affine=True, track_running_stats=True)\n",
      "                  (2): SiLU(inplace=True)\n",
      "                )\n",
      "                (1): Conv2dNormActivation(\n",
      "                  (0): Conv2d(480, 480, kernel_size=(3, 3), stride=(1, 1), padding=(1, 1), groups=480, bias=False)\n",
      "                  (1): BatchNorm2d(480, eps=1e-05, momentum=0.1, affine=True, track_running_stats=True)\n",
      "                  (2): SiLU(inplace=True)\n",
      "                )\n",
      "                (2): SqueezeExcitation(\n",
      "                  (avgpool): AdaptiveAvgPool2d(output_size=1)\n",
      "                  (fc1): Conv2d(480, 20, kernel_size=(1, 1), stride=(1, 1))\n",
      "                  (fc2): Conv2d(20, 480, kernel_size=(1, 1), stride=(1, 1))\n",
      "                  (activation): SiLU(inplace=True)\n",
      "                  (scale_activation): Sigmoid()\n",
      "                )\n",
      "                (3): Conv2dNormActivation(\n",
      "                  (0): Conv2d(480, 80, kernel_size=(1, 1), stride=(1, 1), bias=False)\n",
      "                  (1): BatchNorm2d(80, eps=1e-05, momentum=0.1, affine=True, track_running_stats=True)\n",
      "                )\n",
      "              )\n",
      "              (stochastic_depth): StochasticDepth(p=0.07500000000000001, mode=row)\n",
      "            )\n",
      "            (2): MBConv(\n",
      "              (block): Sequential(\n",
      "                (0): Conv2dNormActivation(\n",
      "                  (0): Conv2d(80, 480, kernel_size=(1, 1), stride=(1, 1), bias=False)\n",
      "                  (1): BatchNorm2d(480, eps=1e-05, momentum=0.1, affine=True, track_running_stats=True)\n",
      "                  (2): SiLU(inplace=True)\n",
      "                )\n",
      "                (1): Conv2dNormActivation(\n",
      "                  (0): Conv2d(480, 480, kernel_size=(3, 3), stride=(1, 1), padding=(1, 1), groups=480, bias=False)\n",
      "                  (1): BatchNorm2d(480, eps=1e-05, momentum=0.1, affine=True, track_running_stats=True)\n",
      "                  (2): SiLU(inplace=True)\n",
      "                )\n",
      "                (2): SqueezeExcitation(\n",
      "                  (avgpool): AdaptiveAvgPool2d(output_size=1)\n",
      "                  (fc1): Conv2d(480, 20, kernel_size=(1, 1), stride=(1, 1))\n",
      "                  (fc2): Conv2d(20, 480, kernel_size=(1, 1), stride=(1, 1))\n",
      "                  (activation): SiLU(inplace=True)\n",
      "                  (scale_activation): Sigmoid()\n",
      "                )\n",
      "                (3): Conv2dNormActivation(\n",
      "                  (0): Conv2d(480, 80, kernel_size=(1, 1), stride=(1, 1), bias=False)\n",
      "                  (1): BatchNorm2d(80, eps=1e-05, momentum=0.1, affine=True, track_running_stats=True)\n",
      "                )\n",
      "              )\n",
      "              (stochastic_depth): StochasticDepth(p=0.08750000000000001, mode=row)\n",
      "            )\n",
      "          )\n",
      "          (5): Sequential(\n",
      "            (0): MBConv(\n",
      "              (block): Sequential(\n",
      "                (0): Conv2dNormActivation(\n",
      "                  (0): Conv2d(80, 480, kernel_size=(1, 1), stride=(1, 1), bias=False)\n",
      "                  (1): BatchNorm2d(480, eps=1e-05, momentum=0.1, affine=True, track_running_stats=True)\n",
      "                  (2): SiLU(inplace=True)\n",
      "                )\n",
      "                (1): Conv2dNormActivation(\n",
      "                  (0): Conv2d(480, 480, kernel_size=(5, 5), stride=(1, 1), padding=(2, 2), groups=480, bias=False)\n",
      "                  (1): BatchNorm2d(480, eps=1e-05, momentum=0.1, affine=True, track_running_stats=True)\n",
      "                  (2): SiLU(inplace=True)\n",
      "                )\n",
      "                (2): SqueezeExcitation(\n",
      "                  (avgpool): AdaptiveAvgPool2d(output_size=1)\n",
      "                  (fc1): Conv2d(480, 20, kernel_size=(1, 1), stride=(1, 1))\n",
      "                  (fc2): Conv2d(20, 480, kernel_size=(1, 1), stride=(1, 1))\n",
      "                  (activation): SiLU(inplace=True)\n",
      "                  (scale_activation): Sigmoid()\n",
      "                )\n",
      "                (3): Conv2dNormActivation(\n",
      "                  (0): Conv2d(480, 112, kernel_size=(1, 1), stride=(1, 1), bias=False)\n",
      "                  (1): BatchNorm2d(112, eps=1e-05, momentum=0.1, affine=True, track_running_stats=True)\n",
      "                )\n",
      "              )\n",
      "              (stochastic_depth): StochasticDepth(p=0.1, mode=row)\n",
      "            )\n",
      "            (1): MBConv(\n",
      "              (block): Sequential(\n",
      "                (0): Conv2dNormActivation(\n",
      "                  (0): Conv2d(112, 672, kernel_size=(1, 1), stride=(1, 1), bias=False)\n",
      "                  (1): BatchNorm2d(672, eps=1e-05, momentum=0.1, affine=True, track_running_stats=True)\n",
      "                  (2): SiLU(inplace=True)\n",
      "                )\n",
      "                (1): Conv2dNormActivation(\n",
      "                  (0): Conv2d(672, 672, kernel_size=(5, 5), stride=(1, 1), padding=(2, 2), groups=672, bias=False)\n",
      "                  (1): BatchNorm2d(672, eps=1e-05, momentum=0.1, affine=True, track_running_stats=True)\n",
      "                  (2): SiLU(inplace=True)\n",
      "                )\n",
      "                (2): SqueezeExcitation(\n",
      "                  (avgpool): AdaptiveAvgPool2d(output_size=1)\n",
      "                  (fc1): Conv2d(672, 28, kernel_size=(1, 1), stride=(1, 1))\n",
      "                  (fc2): Conv2d(28, 672, kernel_size=(1, 1), stride=(1, 1))\n",
      "                  (activation): SiLU(inplace=True)\n",
      "                  (scale_activation): Sigmoid()\n",
      "                )\n",
      "                (3): Conv2dNormActivation(\n",
      "                  (0): Conv2d(672, 112, kernel_size=(1, 1), stride=(1, 1), bias=False)\n",
      "                  (1): BatchNorm2d(112, eps=1e-05, momentum=0.1, affine=True, track_running_stats=True)\n",
      "                )\n",
      "              )\n",
      "              (stochastic_depth): StochasticDepth(p=0.1125, mode=row)\n",
      "            )\n",
      "            (2): MBConv(\n",
      "              (block): Sequential(\n",
      "                (0): Conv2dNormActivation(\n",
      "                  (0): Conv2d(112, 672, kernel_size=(1, 1), stride=(1, 1), bias=False)\n",
      "                  (1): BatchNorm2d(672, eps=1e-05, momentum=0.1, affine=True, track_running_stats=True)\n",
      "                  (2): SiLU(inplace=True)\n",
      "                )\n",
      "                (1): Conv2dNormActivation(\n",
      "                  (0): Conv2d(672, 672, kernel_size=(5, 5), stride=(1, 1), padding=(2, 2), groups=672, bias=False)\n",
      "                  (1): BatchNorm2d(672, eps=1e-05, momentum=0.1, affine=True, track_running_stats=True)\n",
      "                  (2): SiLU(inplace=True)\n",
      "                )\n",
      "                (2): SqueezeExcitation(\n",
      "                  (avgpool): AdaptiveAvgPool2d(output_size=1)\n",
      "                  (fc1): Conv2d(672, 28, kernel_size=(1, 1), stride=(1, 1))\n",
      "                  (fc2): Conv2d(28, 672, kernel_size=(1, 1), stride=(1, 1))\n",
      "                  (activation): SiLU(inplace=True)\n",
      "                  (scale_activation): Sigmoid()\n",
      "                )\n",
      "                (3): Conv2dNormActivation(\n",
      "                  (0): Conv2d(672, 112, kernel_size=(1, 1), stride=(1, 1), bias=False)\n",
      "                  (1): BatchNorm2d(112, eps=1e-05, momentum=0.1, affine=True, track_running_stats=True)\n",
      "                )\n",
      "              )\n",
      "              (stochastic_depth): StochasticDepth(p=0.125, mode=row)\n",
      "            )\n",
      "          )\n",
      "          (6): Sequential(\n",
      "            (0): MBConv(\n",
      "              (block): Sequential(\n",
      "                (0): Conv2dNormActivation(\n",
      "                  (0): Conv2d(112, 672, kernel_size=(1, 1), stride=(1, 1), bias=False)\n",
      "                  (1): BatchNorm2d(672, eps=1e-05, momentum=0.1, affine=True, track_running_stats=True)\n",
      "                  (2): SiLU(inplace=True)\n",
      "                )\n",
      "                (1): Conv2dNormActivation(\n",
      "                  (0): Conv2d(672, 672, kernel_size=(5, 5), stride=(2, 2), padding=(2, 2), groups=672, bias=False)\n",
      "                  (1): BatchNorm2d(672, eps=1e-05, momentum=0.1, affine=True, track_running_stats=True)\n",
      "                  (2): SiLU(inplace=True)\n",
      "                )\n",
      "                (2): SqueezeExcitation(\n",
      "                  (avgpool): AdaptiveAvgPool2d(output_size=1)\n",
      "                  (fc1): Conv2d(672, 28, kernel_size=(1, 1), stride=(1, 1))\n",
      "                  (fc2): Conv2d(28, 672, kernel_size=(1, 1), stride=(1, 1))\n",
      "                  (activation): SiLU(inplace=True)\n",
      "                  (scale_activation): Sigmoid()\n",
      "                )\n",
      "                (3): Conv2dNormActivation(\n",
      "                  (0): Conv2d(672, 192, kernel_size=(1, 1), stride=(1, 1), bias=False)\n",
      "                  (1): BatchNorm2d(192, eps=1e-05, momentum=0.1, affine=True, track_running_stats=True)\n",
      "                )\n",
      "              )\n",
      "              (stochastic_depth): StochasticDepth(p=0.1375, mode=row)\n",
      "            )\n",
      "            (1): MBConv(\n",
      "              (block): Sequential(\n",
      "                (0): Conv2dNormActivation(\n",
      "                  (0): Conv2d(192, 1152, kernel_size=(1, 1), stride=(1, 1), bias=False)\n",
      "                  (1): BatchNorm2d(1152, eps=1e-05, momentum=0.1, affine=True, track_running_stats=True)\n",
      "                  (2): SiLU(inplace=True)\n",
      "                )\n",
      "                (1): Conv2dNormActivation(\n",
      "                  (0): Conv2d(1152, 1152, kernel_size=(5, 5), stride=(1, 1), padding=(2, 2), groups=1152, bias=False)\n",
      "                  (1): BatchNorm2d(1152, eps=1e-05, momentum=0.1, affine=True, track_running_stats=True)\n",
      "                  (2): SiLU(inplace=True)\n",
      "                )\n",
      "                (2): SqueezeExcitation(\n",
      "                  (avgpool): AdaptiveAvgPool2d(output_size=1)\n",
      "                  (fc1): Conv2d(1152, 48, kernel_size=(1, 1), stride=(1, 1))\n",
      "                  (fc2): Conv2d(48, 1152, kernel_size=(1, 1), stride=(1, 1))\n",
      "                  (activation): SiLU(inplace=True)\n",
      "                  (scale_activation): Sigmoid()\n",
      "                )\n",
      "                (3): Conv2dNormActivation(\n",
      "                  (0): Conv2d(1152, 192, kernel_size=(1, 1), stride=(1, 1), bias=False)\n",
      "                  (1): BatchNorm2d(192, eps=1e-05, momentum=0.1, affine=True, track_running_stats=True)\n",
      "                )\n",
      "              )\n",
      "              (stochastic_depth): StochasticDepth(p=0.15000000000000002, mode=row)\n",
      "            )\n",
      "            (2): MBConv(\n",
      "              (block): Sequential(\n",
      "                (0): Conv2dNormActivation(\n",
      "                  (0): Conv2d(192, 1152, kernel_size=(1, 1), stride=(1, 1), bias=False)\n",
      "                  (1): BatchNorm2d(1152, eps=1e-05, momentum=0.1, affine=True, track_running_stats=True)\n",
      "                  (2): SiLU(inplace=True)\n",
      "                )\n",
      "                (1): Conv2dNormActivation(\n",
      "                  (0): Conv2d(1152, 1152, kernel_size=(5, 5), stride=(1, 1), padding=(2, 2), groups=1152, bias=False)\n",
      "                  (1): BatchNorm2d(1152, eps=1e-05, momentum=0.1, affine=True, track_running_stats=True)\n",
      "                  (2): SiLU(inplace=True)\n",
      "                )\n",
      "                (2): SqueezeExcitation(\n",
      "                  (avgpool): AdaptiveAvgPool2d(output_size=1)\n",
      "                  (fc1): Conv2d(1152, 48, kernel_size=(1, 1), stride=(1, 1))\n",
      "                  (fc2): Conv2d(48, 1152, kernel_size=(1, 1), stride=(1, 1))\n",
      "                  (activation): SiLU(inplace=True)\n",
      "                  (scale_activation): Sigmoid()\n",
      "                )\n",
      "                (3): Conv2dNormActivation(\n",
      "                  (0): Conv2d(1152, 192, kernel_size=(1, 1), stride=(1, 1), bias=False)\n",
      "                  (1): BatchNorm2d(192, eps=1e-05, momentum=0.1, affine=True, track_running_stats=True)\n",
      "                )\n",
      "              )\n",
      "              (stochastic_depth): StochasticDepth(p=0.1625, mode=row)\n",
      "            )\n",
      "            (3): MBConv(\n",
      "              (block): Sequential(\n",
      "                (0): Conv2dNormActivation(\n",
      "                  (0): Conv2d(192, 1152, kernel_size=(1, 1), stride=(1, 1), bias=False)\n",
      "                  (1): BatchNorm2d(1152, eps=1e-05, momentum=0.1, affine=True, track_running_stats=True)\n",
      "                  (2): SiLU(inplace=True)\n",
      "                )\n",
      "                (1): Conv2dNormActivation(\n",
      "                  (0): Conv2d(1152, 1152, kernel_size=(5, 5), stride=(1, 1), padding=(2, 2), groups=1152, bias=False)\n",
      "                  (1): BatchNorm2d(1152, eps=1e-05, momentum=0.1, affine=True, track_running_stats=True)\n",
      "                  (2): SiLU(inplace=True)\n",
      "                )\n",
      "                (2): SqueezeExcitation(\n",
      "                  (avgpool): AdaptiveAvgPool2d(output_size=1)\n",
      "                  (fc1): Conv2d(1152, 48, kernel_size=(1, 1), stride=(1, 1))\n",
      "                  (fc2): Conv2d(48, 1152, kernel_size=(1, 1), stride=(1, 1))\n",
      "                  (activation): SiLU(inplace=True)\n",
      "                  (scale_activation): Sigmoid()\n",
      "                )\n",
      "                (3): Conv2dNormActivation(\n",
      "                  (0): Conv2d(1152, 192, kernel_size=(1, 1), stride=(1, 1), bias=False)\n",
      "                  (1): BatchNorm2d(192, eps=1e-05, momentum=0.1, affine=True, track_running_stats=True)\n",
      "                )\n",
      "              )\n",
      "              (stochastic_depth): StochasticDepth(p=0.17500000000000002, mode=row)\n",
      "            )\n",
      "          )\n",
      "          (7): Sequential(\n",
      "            (0): MBConv(\n",
      "              (block): Sequential(\n",
      "                (0): Conv2dNormActivation(\n",
      "                  (0): Conv2d(192, 1152, kernel_size=(1, 1), stride=(1, 1), bias=False)\n",
      "                  (1): BatchNorm2d(1152, eps=1e-05, momentum=0.1, affine=True, track_running_stats=True)\n",
      "                  (2): SiLU(inplace=True)\n",
      "                )\n",
      "                (1): Conv2dNormActivation(\n",
      "                  (0): Conv2d(1152, 1152, kernel_size=(3, 3), stride=(1, 1), padding=(1, 1), groups=1152, bias=False)\n",
      "                  (1): BatchNorm2d(1152, eps=1e-05, momentum=0.1, affine=True, track_running_stats=True)\n",
      "                  (2): SiLU(inplace=True)\n",
      "                )\n",
      "                (2): SqueezeExcitation(\n",
      "                  (avgpool): AdaptiveAvgPool2d(output_size=1)\n",
      "                  (fc1): Conv2d(1152, 48, kernel_size=(1, 1), stride=(1, 1))\n",
      "                  (fc2): Conv2d(48, 1152, kernel_size=(1, 1), stride=(1, 1))\n",
      "                  (activation): SiLU(inplace=True)\n",
      "                  (scale_activation): Sigmoid()\n",
      "                )\n",
      "                (3): Conv2dNormActivation(\n",
      "                  (0): Conv2d(1152, 320, kernel_size=(1, 1), stride=(1, 1), bias=False)\n",
      "                  (1): BatchNorm2d(320, eps=1e-05, momentum=0.1, affine=True, track_running_stats=True)\n",
      "                )\n",
      "              )\n",
      "              (stochastic_depth): StochasticDepth(p=0.1875, mode=row)\n",
      "            )\n",
      "          )\n",
      "          (8): Conv2dNormActivation(\n",
      "            (0): Conv2d(320, 1280, kernel_size=(1, 1), stride=(1, 1), bias=False)\n",
      "            (1): BatchNorm2d(1280, eps=1e-05, momentum=0.1, affine=True, track_running_stats=True)\n",
      "            (2): SiLU(inplace=True)\n",
      "          )\n",
      "        )\n",
      "        (avgpool): AdaptiveAvgPool2d(output_size=1)\n",
      "        (classifier): Sequential(\n",
      "          (0): Dropout(p=0.2, inplace=True)\n",
      "          (1): Linear(in_features=1280, out_features=1000, bias=True)\n",
      "        )\n",
      "      )\n",
      "      (feature_layers): ModuleDict(\n",
      "        (P3): Sequential(\n",
      "          (0): Sequential(\n",
      "            (0): Conv2dNormActivation(\n",
      "              (0): Conv2d(3, 32, kernel_size=(3, 3), stride=(2, 2), padding=(1, 1), bias=False)\n",
      "              (1): BatchNorm2d(32, eps=1e-05, momentum=0.1, affine=True, track_running_stats=True)\n",
      "              (2): SiLU(inplace=True)\n",
      "            )\n",
      "            (1): Sequential(\n",
      "              (0): MBConv(\n",
      "                (block): Sequential(\n",
      "                  (0): Conv2dNormActivation(\n",
      "                    (0): Conv2d(32, 32, kernel_size=(3, 3), stride=(1, 1), padding=(1, 1), groups=32, bias=False)\n",
      "                    (1): BatchNorm2d(32, eps=1e-05, momentum=0.1, affine=True, track_running_stats=True)\n",
      "                    (2): SiLU(inplace=True)\n",
      "                  )\n",
      "                  (1): SqueezeExcitation(\n",
      "                    (avgpool): AdaptiveAvgPool2d(output_size=1)\n",
      "                    (fc1): Conv2d(32, 8, kernel_size=(1, 1), stride=(1, 1))\n",
      "                    (fc2): Conv2d(8, 32, kernel_size=(1, 1), stride=(1, 1))\n",
      "                    (activation): SiLU(inplace=True)\n",
      "                    (scale_activation): Sigmoid()\n",
      "                  )\n",
      "                  (2): Conv2dNormActivation(\n",
      "                    (0): Conv2d(32, 16, kernel_size=(1, 1), stride=(1, 1), bias=False)\n",
      "                    (1): BatchNorm2d(16, eps=1e-05, momentum=0.1, affine=True, track_running_stats=True)\n",
      "                  )\n",
      "                )\n",
      "                (stochastic_depth): StochasticDepth(p=0.0, mode=row)\n",
      "              )\n",
      "            )\n",
      "            (2): Sequential(\n",
      "              (0): MBConv(\n",
      "                (block): Sequential(\n",
      "                  (0): Conv2dNormActivation(\n",
      "                    (0): Conv2d(16, 96, kernel_size=(1, 1), stride=(1, 1), bias=False)\n",
      "                    (1): BatchNorm2d(96, eps=1e-05, momentum=0.1, affine=True, track_running_stats=True)\n",
      "                    (2): SiLU(inplace=True)\n",
      "                  )\n",
      "                  (1): Conv2dNormActivation(\n",
      "                    (0): Conv2d(96, 96, kernel_size=(3, 3), stride=(2, 2), padding=(1, 1), groups=96, bias=False)\n",
      "                    (1): BatchNorm2d(96, eps=1e-05, momentum=0.1, affine=True, track_running_stats=True)\n",
      "                    (2): SiLU(inplace=True)\n",
      "                  )\n",
      "                  (2): SqueezeExcitation(\n",
      "                    (avgpool): AdaptiveAvgPool2d(output_size=1)\n",
      "                    (fc1): Conv2d(96, 4, kernel_size=(1, 1), stride=(1, 1))\n",
      "                    (fc2): Conv2d(4, 96, kernel_size=(1, 1), stride=(1, 1))\n",
      "                    (activation): SiLU(inplace=True)\n",
      "                    (scale_activation): Sigmoid()\n",
      "                  )\n",
      "                  (3): Conv2dNormActivation(\n",
      "                    (0): Conv2d(96, 24, kernel_size=(1, 1), stride=(1, 1), bias=False)\n",
      "                    (1): BatchNorm2d(24, eps=1e-05, momentum=0.1, affine=True, track_running_stats=True)\n",
      "                  )\n",
      "                )\n",
      "                (stochastic_depth): StochasticDepth(p=0.0125, mode=row)\n",
      "              )\n",
      "              (1): MBConv(\n",
      "                (block): Sequential(\n",
      "                  (0): Conv2dNormActivation(\n",
      "                    (0): Conv2d(24, 144, kernel_size=(1, 1), stride=(1, 1), bias=False)\n",
      "                    (1): BatchNorm2d(144, eps=1e-05, momentum=0.1, affine=True, track_running_stats=True)\n",
      "                    (2): SiLU(inplace=True)\n",
      "                  )\n",
      "                  (1): Conv2dNormActivation(\n",
      "                    (0): Conv2d(144, 144, kernel_size=(3, 3), stride=(1, 1), padding=(1, 1), groups=144, bias=False)\n",
      "                    (1): BatchNorm2d(144, eps=1e-05, momentum=0.1, affine=True, track_running_stats=True)\n",
      "                    (2): SiLU(inplace=True)\n",
      "                  )\n",
      "                  (2): SqueezeExcitation(\n",
      "                    (avgpool): AdaptiveAvgPool2d(output_size=1)\n",
      "                    (fc1): Conv2d(144, 6, kernel_size=(1, 1), stride=(1, 1))\n",
      "                    (fc2): Conv2d(6, 144, kernel_size=(1, 1), stride=(1, 1))\n",
      "                    (activation): SiLU(inplace=True)\n",
      "                    (scale_activation): Sigmoid()\n",
      "                  )\n",
      "                  (3): Conv2dNormActivation(\n",
      "                    (0): Conv2d(144, 24, kernel_size=(1, 1), stride=(1, 1), bias=False)\n",
      "                    (1): BatchNorm2d(24, eps=1e-05, momentum=0.1, affine=True, track_running_stats=True)\n",
      "                  )\n",
      "                )\n",
      "                (stochastic_depth): StochasticDepth(p=0.025, mode=row)\n",
      "              )\n",
      "            )\n",
      "          )\n",
      "        )\n",
      "        (P4): Sequential(\n",
      "          (0): Sequential(\n",
      "            (3): Sequential(\n",
      "              (0): MBConv(\n",
      "                (block): Sequential(\n",
      "                  (0): Conv2dNormActivation(\n",
      "                    (0): Conv2d(24, 144, kernel_size=(1, 1), stride=(1, 1), bias=False)\n",
      "                    (1): BatchNorm2d(144, eps=1e-05, momentum=0.1, affine=True, track_running_stats=True)\n",
      "                    (2): SiLU(inplace=True)\n",
      "                  )\n",
      "                  (1): Conv2dNormActivation(\n",
      "                    (0): Conv2d(144, 144, kernel_size=(5, 5), stride=(2, 2), padding=(2, 2), groups=144, bias=False)\n",
      "                    (1): BatchNorm2d(144, eps=1e-05, momentum=0.1, affine=True, track_running_stats=True)\n",
      "                    (2): SiLU(inplace=True)\n",
      "                  )\n",
      "                  (2): SqueezeExcitation(\n",
      "                    (avgpool): AdaptiveAvgPool2d(output_size=1)\n",
      "                    (fc1): Conv2d(144, 6, kernel_size=(1, 1), stride=(1, 1))\n",
      "                    (fc2): Conv2d(6, 144, kernel_size=(1, 1), stride=(1, 1))\n",
      "                    (activation): SiLU(inplace=True)\n",
      "                    (scale_activation): Sigmoid()\n",
      "                  )\n",
      "                  (3): Conv2dNormActivation(\n",
      "                    (0): Conv2d(144, 40, kernel_size=(1, 1), stride=(1, 1), bias=False)\n",
      "                    (1): BatchNorm2d(40, eps=1e-05, momentum=0.1, affine=True, track_running_stats=True)\n",
      "                  )\n",
      "                )\n",
      "                (stochastic_depth): StochasticDepth(p=0.037500000000000006, mode=row)\n",
      "              )\n",
      "              (1): MBConv(\n",
      "                (block): Sequential(\n",
      "                  (0): Conv2dNormActivation(\n",
      "                    (0): Conv2d(40, 240, kernel_size=(1, 1), stride=(1, 1), bias=False)\n",
      "                    (1): BatchNorm2d(240, eps=1e-05, momentum=0.1, affine=True, track_running_stats=True)\n",
      "                    (2): SiLU(inplace=True)\n",
      "                  )\n",
      "                  (1): Conv2dNormActivation(\n",
      "                    (0): Conv2d(240, 240, kernel_size=(5, 5), stride=(1, 1), padding=(2, 2), groups=240, bias=False)\n",
      "                    (1): BatchNorm2d(240, eps=1e-05, momentum=0.1, affine=True, track_running_stats=True)\n",
      "                    (2): SiLU(inplace=True)\n",
      "                  )\n",
      "                  (2): SqueezeExcitation(\n",
      "                    (avgpool): AdaptiveAvgPool2d(output_size=1)\n",
      "                    (fc1): Conv2d(240, 10, kernel_size=(1, 1), stride=(1, 1))\n",
      "                    (fc2): Conv2d(10, 240, kernel_size=(1, 1), stride=(1, 1))\n",
      "                    (activation): SiLU(inplace=True)\n",
      "                    (scale_activation): Sigmoid()\n",
      "                  )\n",
      "                  (3): Conv2dNormActivation(\n",
      "                    (0): Conv2d(240, 40, kernel_size=(1, 1), stride=(1, 1), bias=False)\n",
      "                    (1): BatchNorm2d(40, eps=1e-05, momentum=0.1, affine=True, track_running_stats=True)\n",
      "                  )\n",
      "                )\n",
      "                (stochastic_depth): StochasticDepth(p=0.05, mode=row)\n",
      "              )\n",
      "            )\n",
      "            (4): Sequential(\n",
      "              (0): MBConv(\n",
      "                (block): Sequential(\n",
      "                  (0): Conv2dNormActivation(\n",
      "                    (0): Conv2d(40, 240, kernel_size=(1, 1), stride=(1, 1), bias=False)\n",
      "                    (1): BatchNorm2d(240, eps=1e-05, momentum=0.1, affine=True, track_running_stats=True)\n",
      "                    (2): SiLU(inplace=True)\n",
      "                  )\n",
      "                  (1): Conv2dNormActivation(\n",
      "                    (0): Conv2d(240, 240, kernel_size=(3, 3), stride=(2, 2), padding=(1, 1), groups=240, bias=False)\n",
      "                    (1): BatchNorm2d(240, eps=1e-05, momentum=0.1, affine=True, track_running_stats=True)\n",
      "                    (2): SiLU(inplace=True)\n",
      "                  )\n",
      "                  (2): SqueezeExcitation(\n",
      "                    (avgpool): AdaptiveAvgPool2d(output_size=1)\n",
      "                    (fc1): Conv2d(240, 10, kernel_size=(1, 1), stride=(1, 1))\n",
      "                    (fc2): Conv2d(10, 240, kernel_size=(1, 1), stride=(1, 1))\n",
      "                    (activation): SiLU(inplace=True)\n",
      "                    (scale_activation): Sigmoid()\n",
      "                  )\n",
      "                  (3): Conv2dNormActivation(\n",
      "                    (0): Conv2d(240, 80, kernel_size=(1, 1), stride=(1, 1), bias=False)\n",
      "                    (1): BatchNorm2d(80, eps=1e-05, momentum=0.1, affine=True, track_running_stats=True)\n",
      "                  )\n",
      "                )\n",
      "                (stochastic_depth): StochasticDepth(p=0.0625, mode=row)\n",
      "              )\n",
      "              (1): MBConv(\n",
      "                (block): Sequential(\n",
      "                  (0): Conv2dNormActivation(\n",
      "                    (0): Conv2d(80, 480, kernel_size=(1, 1), stride=(1, 1), bias=False)\n",
      "                    (1): BatchNorm2d(480, eps=1e-05, momentum=0.1, affine=True, track_running_stats=True)\n",
      "                    (2): SiLU(inplace=True)\n",
      "                  )\n",
      "                  (1): Conv2dNormActivation(\n",
      "                    (0): Conv2d(480, 480, kernel_size=(3, 3), stride=(1, 1), padding=(1, 1), groups=480, bias=False)\n",
      "                    (1): BatchNorm2d(480, eps=1e-05, momentum=0.1, affine=True, track_running_stats=True)\n",
      "                    (2): SiLU(inplace=True)\n",
      "                  )\n",
      "                  (2): SqueezeExcitation(\n",
      "                    (avgpool): AdaptiveAvgPool2d(output_size=1)\n",
      "                    (fc1): Conv2d(480, 20, kernel_size=(1, 1), stride=(1, 1))\n",
      "                    (fc2): Conv2d(20, 480, kernel_size=(1, 1), stride=(1, 1))\n",
      "                    (activation): SiLU(inplace=True)\n",
      "                    (scale_activation): Sigmoid()\n",
      "                  )\n",
      "                  (3): Conv2dNormActivation(\n",
      "                    (0): Conv2d(480, 80, kernel_size=(1, 1), stride=(1, 1), bias=False)\n",
      "                    (1): BatchNorm2d(80, eps=1e-05, momentum=0.1, affine=True, track_running_stats=True)\n",
      "                  )\n",
      "                )\n",
      "                (stochastic_depth): StochasticDepth(p=0.07500000000000001, mode=row)\n",
      "              )\n",
      "              (2): MBConv(\n",
      "                (block): Sequential(\n",
      "                  (0): Conv2dNormActivation(\n",
      "                    (0): Conv2d(80, 480, kernel_size=(1, 1), stride=(1, 1), bias=False)\n",
      "                    (1): BatchNorm2d(480, eps=1e-05, momentum=0.1, affine=True, track_running_stats=True)\n",
      "                    (2): SiLU(inplace=True)\n",
      "                  )\n",
      "                  (1): Conv2dNormActivation(\n",
      "                    (0): Conv2d(480, 480, kernel_size=(3, 3), stride=(1, 1), padding=(1, 1), groups=480, bias=False)\n",
      "                    (1): BatchNorm2d(480, eps=1e-05, momentum=0.1, affine=True, track_running_stats=True)\n",
      "                    (2): SiLU(inplace=True)\n",
      "                  )\n",
      "                  (2): SqueezeExcitation(\n",
      "                    (avgpool): AdaptiveAvgPool2d(output_size=1)\n",
      "                    (fc1): Conv2d(480, 20, kernel_size=(1, 1), stride=(1, 1))\n",
      "                    (fc2): Conv2d(20, 480, kernel_size=(1, 1), stride=(1, 1))\n",
      "                    (activation): SiLU(inplace=True)\n",
      "                    (scale_activation): Sigmoid()\n",
      "                  )\n",
      "                  (3): Conv2dNormActivation(\n",
      "                    (0): Conv2d(480, 80, kernel_size=(1, 1), stride=(1, 1), bias=False)\n",
      "                    (1): BatchNorm2d(80, eps=1e-05, momentum=0.1, affine=True, track_running_stats=True)\n",
      "                  )\n",
      "                )\n",
      "                (stochastic_depth): StochasticDepth(p=0.08750000000000001, mode=row)\n",
      "              )\n",
      "            )\n",
      "          )\n",
      "        )\n",
      "        (P5): Sequential(\n",
      "          (0): Sequential(\n",
      "            (5): Sequential(\n",
      "              (0): MBConv(\n",
      "                (block): Sequential(\n",
      "                  (0): Conv2dNormActivation(\n",
      "                    (0): Conv2d(80, 480, kernel_size=(1, 1), stride=(1, 1), bias=False)\n",
      "                    (1): BatchNorm2d(480, eps=1e-05, momentum=0.1, affine=True, track_running_stats=True)\n",
      "                    (2): SiLU(inplace=True)\n",
      "                  )\n",
      "                  (1): Conv2dNormActivation(\n",
      "                    (0): Conv2d(480, 480, kernel_size=(5, 5), stride=(1, 1), padding=(2, 2), groups=480, bias=False)\n",
      "                    (1): BatchNorm2d(480, eps=1e-05, momentum=0.1, affine=True, track_running_stats=True)\n",
      "                    (2): SiLU(inplace=True)\n",
      "                  )\n",
      "                  (2): SqueezeExcitation(\n",
      "                    (avgpool): AdaptiveAvgPool2d(output_size=1)\n",
      "                    (fc1): Conv2d(480, 20, kernel_size=(1, 1), stride=(1, 1))\n",
      "                    (fc2): Conv2d(20, 480, kernel_size=(1, 1), stride=(1, 1))\n",
      "                    (activation): SiLU(inplace=True)\n",
      "                    (scale_activation): Sigmoid()\n",
      "                  )\n",
      "                  (3): Conv2dNormActivation(\n",
      "                    (0): Conv2d(480, 112, kernel_size=(1, 1), stride=(1, 1), bias=False)\n",
      "                    (1): BatchNorm2d(112, eps=1e-05, momentum=0.1, affine=True, track_running_stats=True)\n",
      "                  )\n",
      "                )\n",
      "                (stochastic_depth): StochasticDepth(p=0.1, mode=row)\n",
      "              )\n",
      "              (1): MBConv(\n",
      "                (block): Sequential(\n",
      "                  (0): Conv2dNormActivation(\n",
      "                    (0): Conv2d(112, 672, kernel_size=(1, 1), stride=(1, 1), bias=False)\n",
      "                    (1): BatchNorm2d(672, eps=1e-05, momentum=0.1, affine=True, track_running_stats=True)\n",
      "                    (2): SiLU(inplace=True)\n",
      "                  )\n",
      "                  (1): Conv2dNormActivation(\n",
      "                    (0): Conv2d(672, 672, kernel_size=(5, 5), stride=(1, 1), padding=(2, 2), groups=672, bias=False)\n",
      "                    (1): BatchNorm2d(672, eps=1e-05, momentum=0.1, affine=True, track_running_stats=True)\n",
      "                    (2): SiLU(inplace=True)\n",
      "                  )\n",
      "                  (2): SqueezeExcitation(\n",
      "                    (avgpool): AdaptiveAvgPool2d(output_size=1)\n",
      "                    (fc1): Conv2d(672, 28, kernel_size=(1, 1), stride=(1, 1))\n",
      "                    (fc2): Conv2d(28, 672, kernel_size=(1, 1), stride=(1, 1))\n",
      "                    (activation): SiLU(inplace=True)\n",
      "                    (scale_activation): Sigmoid()\n",
      "                  )\n",
      "                  (3): Conv2dNormActivation(\n",
      "                    (0): Conv2d(672, 112, kernel_size=(1, 1), stride=(1, 1), bias=False)\n",
      "                    (1): BatchNorm2d(112, eps=1e-05, momentum=0.1, affine=True, track_running_stats=True)\n",
      "                  )\n",
      "                )\n",
      "                (stochastic_depth): StochasticDepth(p=0.1125, mode=row)\n",
      "              )\n",
      "              (2): MBConv(\n",
      "                (block): Sequential(\n",
      "                  (0): Conv2dNormActivation(\n",
      "                    (0): Conv2d(112, 672, kernel_size=(1, 1), stride=(1, 1), bias=False)\n",
      "                    (1): BatchNorm2d(672, eps=1e-05, momentum=0.1, affine=True, track_running_stats=True)\n",
      "                    (2): SiLU(inplace=True)\n",
      "                  )\n",
      "                  (1): Conv2dNormActivation(\n",
      "                    (0): Conv2d(672, 672, kernel_size=(5, 5), stride=(1, 1), padding=(2, 2), groups=672, bias=False)\n",
      "                    (1): BatchNorm2d(672, eps=1e-05, momentum=0.1, affine=True, track_running_stats=True)\n",
      "                    (2): SiLU(inplace=True)\n",
      "                  )\n",
      "                  (2): SqueezeExcitation(\n",
      "                    (avgpool): AdaptiveAvgPool2d(output_size=1)\n",
      "                    (fc1): Conv2d(672, 28, kernel_size=(1, 1), stride=(1, 1))\n",
      "                    (fc2): Conv2d(28, 672, kernel_size=(1, 1), stride=(1, 1))\n",
      "                    (activation): SiLU(inplace=True)\n",
      "                    (scale_activation): Sigmoid()\n",
      "                  )\n",
      "                  (3): Conv2dNormActivation(\n",
      "                    (0): Conv2d(672, 112, kernel_size=(1, 1), stride=(1, 1), bias=False)\n",
      "                    (1): BatchNorm2d(112, eps=1e-05, momentum=0.1, affine=True, track_running_stats=True)\n",
      "                  )\n",
      "                )\n",
      "                (stochastic_depth): StochasticDepth(p=0.125, mode=row)\n",
      "              )\n",
      "            )\n",
      "            (6): Sequential(\n",
      "              (0): MBConv(\n",
      "                (block): Sequential(\n",
      "                  (0): Conv2dNormActivation(\n",
      "                    (0): Conv2d(112, 672, kernel_size=(1, 1), stride=(1, 1), bias=False)\n",
      "                    (1): BatchNorm2d(672, eps=1e-05, momentum=0.1, affine=True, track_running_stats=True)\n",
      "                    (2): SiLU(inplace=True)\n",
      "                  )\n",
      "                  (1): Conv2dNormActivation(\n",
      "                    (0): Conv2d(672, 672, kernel_size=(5, 5), stride=(2, 2), padding=(2, 2), groups=672, bias=False)\n",
      "                    (1): BatchNorm2d(672, eps=1e-05, momentum=0.1, affine=True, track_running_stats=True)\n",
      "                    (2): SiLU(inplace=True)\n",
      "                  )\n",
      "                  (2): SqueezeExcitation(\n",
      "                    (avgpool): AdaptiveAvgPool2d(output_size=1)\n",
      "                    (fc1): Conv2d(672, 28, kernel_size=(1, 1), stride=(1, 1))\n",
      "                    (fc2): Conv2d(28, 672, kernel_size=(1, 1), stride=(1, 1))\n",
      "                    (activation): SiLU(inplace=True)\n",
      "                    (scale_activation): Sigmoid()\n",
      "                  )\n",
      "                  (3): Conv2dNormActivation(\n",
      "                    (0): Conv2d(672, 192, kernel_size=(1, 1), stride=(1, 1), bias=False)\n",
      "                    (1): BatchNorm2d(192, eps=1e-05, momentum=0.1, affine=True, track_running_stats=True)\n",
      "                  )\n",
      "                )\n",
      "                (stochastic_depth): StochasticDepth(p=0.1375, mode=row)\n",
      "              )\n",
      "              (1): MBConv(\n",
      "                (block): Sequential(\n",
      "                  (0): Conv2dNormActivation(\n",
      "                    (0): Conv2d(192, 1152, kernel_size=(1, 1), stride=(1, 1), bias=False)\n",
      "                    (1): BatchNorm2d(1152, eps=1e-05, momentum=0.1, affine=True, track_running_stats=True)\n",
      "                    (2): SiLU(inplace=True)\n",
      "                  )\n",
      "                  (1): Conv2dNormActivation(\n",
      "                    (0): Conv2d(1152, 1152, kernel_size=(5, 5), stride=(1, 1), padding=(2, 2), groups=1152, bias=False)\n",
      "                    (1): BatchNorm2d(1152, eps=1e-05, momentum=0.1, affine=True, track_running_stats=True)\n",
      "                    (2): SiLU(inplace=True)\n",
      "                  )\n",
      "                  (2): SqueezeExcitation(\n",
      "                    (avgpool): AdaptiveAvgPool2d(output_size=1)\n",
      "                    (fc1): Conv2d(1152, 48, kernel_size=(1, 1), stride=(1, 1))\n",
      "                    (fc2): Conv2d(48, 1152, kernel_size=(1, 1), stride=(1, 1))\n",
      "                    (activation): SiLU(inplace=True)\n",
      "                    (scale_activation): Sigmoid()\n",
      "                  )\n",
      "                  (3): Conv2dNormActivation(\n",
      "                    (0): Conv2d(1152, 192, kernel_size=(1, 1), stride=(1, 1), bias=False)\n",
      "                    (1): BatchNorm2d(192, eps=1e-05, momentum=0.1, affine=True, track_running_stats=True)\n",
      "                  )\n",
      "                )\n",
      "                (stochastic_depth): StochasticDepth(p=0.15000000000000002, mode=row)\n",
      "              )\n",
      "              (2): MBConv(\n",
      "                (block): Sequential(\n",
      "                  (0): Conv2dNormActivation(\n",
      "                    (0): Conv2d(192, 1152, kernel_size=(1, 1), stride=(1, 1), bias=False)\n",
      "                    (1): BatchNorm2d(1152, eps=1e-05, momentum=0.1, affine=True, track_running_stats=True)\n",
      "                    (2): SiLU(inplace=True)\n",
      "                  )\n",
      "                  (1): Conv2dNormActivation(\n",
      "                    (0): Conv2d(1152, 1152, kernel_size=(5, 5), stride=(1, 1), padding=(2, 2), groups=1152, bias=False)\n",
      "                    (1): BatchNorm2d(1152, eps=1e-05, momentum=0.1, affine=True, track_running_stats=True)\n",
      "                    (2): SiLU(inplace=True)\n",
      "                  )\n",
      "                  (2): SqueezeExcitation(\n",
      "                    (avgpool): AdaptiveAvgPool2d(output_size=1)\n",
      "                    (fc1): Conv2d(1152, 48, kernel_size=(1, 1), stride=(1, 1))\n",
      "                    (fc2): Conv2d(48, 1152, kernel_size=(1, 1), stride=(1, 1))\n",
      "                    (activation): SiLU(inplace=True)\n",
      "                    (scale_activation): Sigmoid()\n",
      "                  )\n",
      "                  (3): Conv2dNormActivation(\n",
      "                    (0): Conv2d(1152, 192, kernel_size=(1, 1), stride=(1, 1), bias=False)\n",
      "                    (1): BatchNorm2d(192, eps=1e-05, momentum=0.1, affine=True, track_running_stats=True)\n",
      "                  )\n",
      "                )\n",
      "                (stochastic_depth): StochasticDepth(p=0.1625, mode=row)\n",
      "              )\n",
      "              (3): MBConv(\n",
      "                (block): Sequential(\n",
      "                  (0): Conv2dNormActivation(\n",
      "                    (0): Conv2d(192, 1152, kernel_size=(1, 1), stride=(1, 1), bias=False)\n",
      "                    (1): BatchNorm2d(1152, eps=1e-05, momentum=0.1, affine=True, track_running_stats=True)\n",
      "                    (2): SiLU(inplace=True)\n",
      "                  )\n",
      "                  (1): Conv2dNormActivation(\n",
      "                    (0): Conv2d(1152, 1152, kernel_size=(5, 5), stride=(1, 1), padding=(2, 2), groups=1152, bias=False)\n",
      "                    (1): BatchNorm2d(1152, eps=1e-05, momentum=0.1, affine=True, track_running_stats=True)\n",
      "                    (2): SiLU(inplace=True)\n",
      "                  )\n",
      "                  (2): SqueezeExcitation(\n",
      "                    (avgpool): AdaptiveAvgPool2d(output_size=1)\n",
      "                    (fc1): Conv2d(1152, 48, kernel_size=(1, 1), stride=(1, 1))\n",
      "                    (fc2): Conv2d(48, 1152, kernel_size=(1, 1), stride=(1, 1))\n",
      "                    (activation): SiLU(inplace=True)\n",
      "                    (scale_activation): Sigmoid()\n",
      "                  )\n",
      "                  (3): Conv2dNormActivation(\n",
      "                    (0): Conv2d(1152, 192, kernel_size=(1, 1), stride=(1, 1), bias=False)\n",
      "                    (1): BatchNorm2d(192, eps=1e-05, momentum=0.1, affine=True, track_running_stats=True)\n",
      "                  )\n",
      "                )\n",
      "                (stochastic_depth): StochasticDepth(p=0.17500000000000002, mode=row)\n",
      "              )\n",
      "            )\n",
      "            (7): Sequential(\n",
      "              (0): MBConv(\n",
      "                (block): Sequential(\n",
      "                  (0): Conv2dNormActivation(\n",
      "                    (0): Conv2d(192, 1152, kernel_size=(1, 1), stride=(1, 1), bias=False)\n",
      "                    (1): BatchNorm2d(1152, eps=1e-05, momentum=0.1, affine=True, track_running_stats=True)\n",
      "                    (2): SiLU(inplace=True)\n",
      "                  )\n",
      "                  (1): Conv2dNormActivation(\n",
      "                    (0): Conv2d(1152, 1152, kernel_size=(3, 3), stride=(1, 1), padding=(1, 1), groups=1152, bias=False)\n",
      "                    (1): BatchNorm2d(1152, eps=1e-05, momentum=0.1, affine=True, track_running_stats=True)\n",
      "                    (2): SiLU(inplace=True)\n",
      "                  )\n",
      "                  (2): SqueezeExcitation(\n",
      "                    (avgpool): AdaptiveAvgPool2d(output_size=1)\n",
      "                    (fc1): Conv2d(1152, 48, kernel_size=(1, 1), stride=(1, 1))\n",
      "                    (fc2): Conv2d(48, 1152, kernel_size=(1, 1), stride=(1, 1))\n",
      "                    (activation): SiLU(inplace=True)\n",
      "                    (scale_activation): Sigmoid()\n",
      "                  )\n",
      "                  (3): Conv2dNormActivation(\n",
      "                    (0): Conv2d(1152, 320, kernel_size=(1, 1), stride=(1, 1), bias=False)\n",
      "                    (1): BatchNorm2d(320, eps=1e-05, momentum=0.1, affine=True, track_running_stats=True)\n",
      "                  )\n",
      "                )\n",
      "                (stochastic_depth): StochasticDepth(p=0.1875, mode=row)\n",
      "              )\n",
      "            )\n",
      "            (8): Conv2dNormActivation(\n",
      "              (0): Conv2d(320, 1280, kernel_size=(1, 1), stride=(1, 1), bias=False)\n",
      "              (1): BatchNorm2d(1280, eps=1e-05, momentum=0.1, affine=True, track_running_stats=True)\n",
      "              (2): SiLU(inplace=True)\n",
      "            )\n",
      "          )\n",
      "        )\n",
      "      )\n",
      "      (channel_adapter): ModuleList(\n",
      "        (0): Conv2d(24, 256, kernel_size=(1, 1), stride=(1, 1))\n",
      "        (1): Conv2d(40, 512, kernel_size=(1, 1), stride=(1, 1))\n",
      "        (2): Conv2d(112, 1024, kernel_size=(1, 1), stride=(1, 1))\n",
      "      )\n",
      "    )\n",
      "    (1): Conv(\n",
      "      (conv): Conv2d(16, 32, kernel_size=(3, 3), stride=(2, 2), padding=(1, 1), bias=False)\n",
      "      (bn): BatchNorm2d(32, eps=0.001, momentum=0.03, affine=True, track_running_stats=True)\n",
      "      (act): SiLU(inplace=True)\n",
      "    )\n",
      "    (2): C2f(\n",
      "      (cv1): Conv(\n",
      "        (conv): Conv2d(32, 32, kernel_size=(1, 1), stride=(1, 1), bias=False)\n",
      "        (bn): BatchNorm2d(32, eps=0.001, momentum=0.03, affine=True, track_running_stats=True)\n",
      "        (act): SiLU(inplace=True)\n",
      "      )\n",
      "      (cv2): Conv(\n",
      "        (conv): Conv2d(48, 32, kernel_size=(1, 1), stride=(1, 1), bias=False)\n",
      "        (bn): BatchNorm2d(32, eps=0.001, momentum=0.03, affine=True, track_running_stats=True)\n",
      "        (act): SiLU(inplace=True)\n",
      "      )\n",
      "      (m): ModuleList(\n",
      "        (0): Bottleneck(\n",
      "          (cv1): Conv(\n",
      "            (conv): Conv2d(16, 16, kernel_size=(3, 3), stride=(1, 1), padding=(1, 1), bias=False)\n",
      "            (bn): BatchNorm2d(16, eps=0.001, momentum=0.03, affine=True, track_running_stats=True)\n",
      "            (act): SiLU(inplace=True)\n",
      "          )\n",
      "          (cv2): Conv(\n",
      "            (conv): Conv2d(16, 16, kernel_size=(3, 3), stride=(1, 1), padding=(1, 1), bias=False)\n",
      "            (bn): BatchNorm2d(16, eps=0.001, momentum=0.03, affine=True, track_running_stats=True)\n",
      "            (act): SiLU(inplace=True)\n",
      "          )\n",
      "        )\n",
      "      )\n",
      "    )\n",
      "    (3): Conv(\n",
      "      (conv): Conv2d(32, 64, kernel_size=(3, 3), stride=(2, 2), padding=(1, 1), bias=False)\n",
      "      (bn): BatchNorm2d(64, eps=0.001, momentum=0.03, affine=True, track_running_stats=True)\n",
      "      (act): SiLU(inplace=True)\n",
      "    )\n",
      "    (4): C2f(\n",
      "      (cv1): Conv(\n",
      "        (conv): Conv2d(64, 64, kernel_size=(1, 1), stride=(1, 1), bias=False)\n",
      "        (bn): BatchNorm2d(64, eps=0.001, momentum=0.03, affine=True, track_running_stats=True)\n",
      "        (act): SiLU(inplace=True)\n",
      "      )\n",
      "      (cv2): Conv(\n",
      "        (conv): Conv2d(128, 64, kernel_size=(1, 1), stride=(1, 1), bias=False)\n",
      "        (bn): BatchNorm2d(64, eps=0.001, momentum=0.03, affine=True, track_running_stats=True)\n",
      "        (act): SiLU(inplace=True)\n",
      "      )\n",
      "      (m): ModuleList(\n",
      "        (0-1): 2 x Bottleneck(\n",
      "          (cv1): Conv(\n",
      "            (conv): Conv2d(32, 32, kernel_size=(3, 3), stride=(1, 1), padding=(1, 1), bias=False)\n",
      "            (bn): BatchNorm2d(32, eps=0.001, momentum=0.03, affine=True, track_running_stats=True)\n",
      "            (act): SiLU(inplace=True)\n",
      "          )\n",
      "          (cv2): Conv(\n",
      "            (conv): Conv2d(32, 32, kernel_size=(3, 3), stride=(1, 1), padding=(1, 1), bias=False)\n",
      "            (bn): BatchNorm2d(32, eps=0.001, momentum=0.03, affine=True, track_running_stats=True)\n",
      "            (act): SiLU(inplace=True)\n",
      "          )\n",
      "        )\n",
      "      )\n",
      "    )\n",
      "    (5): Conv(\n",
      "      (conv): Conv2d(64, 128, kernel_size=(3, 3), stride=(2, 2), padding=(1, 1), bias=False)\n",
      "      (bn): BatchNorm2d(128, eps=0.001, momentum=0.03, affine=True, track_running_stats=True)\n",
      "      (act): SiLU(inplace=True)\n",
      "    )\n",
      "    (6): C2f(\n",
      "      (cv1): Conv(\n",
      "        (conv): Conv2d(128, 128, kernel_size=(1, 1), stride=(1, 1), bias=False)\n",
      "        (bn): BatchNorm2d(128, eps=0.001, momentum=0.03, affine=True, track_running_stats=True)\n",
      "        (act): SiLU(inplace=True)\n",
      "      )\n",
      "      (cv2): Conv(\n",
      "        (conv): Conv2d(256, 128, kernel_size=(1, 1), stride=(1, 1), bias=False)\n",
      "        (bn): BatchNorm2d(128, eps=0.001, momentum=0.03, affine=True, track_running_stats=True)\n",
      "        (act): SiLU(inplace=True)\n",
      "      )\n",
      "      (m): ModuleList(\n",
      "        (0-1): 2 x Bottleneck(\n",
      "          (cv1): Conv(\n",
      "            (conv): Conv2d(64, 64, kernel_size=(3, 3), stride=(1, 1), padding=(1, 1), bias=False)\n",
      "            (bn): BatchNorm2d(64, eps=0.001, momentum=0.03, affine=True, track_running_stats=True)\n",
      "            (act): SiLU(inplace=True)\n",
      "          )\n",
      "          (cv2): Conv(\n",
      "            (conv): Conv2d(64, 64, kernel_size=(3, 3), stride=(1, 1), padding=(1, 1), bias=False)\n",
      "            (bn): BatchNorm2d(64, eps=0.001, momentum=0.03, affine=True, track_running_stats=True)\n",
      "            (act): SiLU(inplace=True)\n",
      "          )\n",
      "        )\n",
      "      )\n",
      "    )\n",
      "    (7): Conv(\n",
      "      (conv): Conv2d(128, 256, kernel_size=(3, 3), stride=(2, 2), padding=(1, 1), bias=False)\n",
      "      (bn): BatchNorm2d(256, eps=0.001, momentum=0.03, affine=True, track_running_stats=True)\n",
      "      (act): SiLU(inplace=True)\n",
      "    )\n",
      "    (8): C2f(\n",
      "      (cv1): Conv(\n",
      "        (conv): Conv2d(256, 256, kernel_size=(1, 1), stride=(1, 1), bias=False)\n",
      "        (bn): BatchNorm2d(256, eps=0.001, momentum=0.03, affine=True, track_running_stats=True)\n",
      "        (act): SiLU(inplace=True)\n",
      "      )\n",
      "      (cv2): Conv(\n",
      "        (conv): Conv2d(384, 256, kernel_size=(1, 1), stride=(1, 1), bias=False)\n",
      "        (bn): BatchNorm2d(256, eps=0.001, momentum=0.03, affine=True, track_running_stats=True)\n",
      "        (act): SiLU(inplace=True)\n",
      "      )\n",
      "      (m): ModuleList(\n",
      "        (0): Bottleneck(\n",
      "          (cv1): Conv(\n",
      "            (conv): Conv2d(128, 128, kernel_size=(3, 3), stride=(1, 1), padding=(1, 1), bias=False)\n",
      "            (bn): BatchNorm2d(128, eps=0.001, momentum=0.03, affine=True, track_running_stats=True)\n",
      "            (act): SiLU(inplace=True)\n",
      "          )\n",
      "          (cv2): Conv(\n",
      "            (conv): Conv2d(128, 128, kernel_size=(3, 3), stride=(1, 1), padding=(1, 1), bias=False)\n",
      "            (bn): BatchNorm2d(128, eps=0.001, momentum=0.03, affine=True, track_running_stats=True)\n",
      "            (act): SiLU(inplace=True)\n",
      "          )\n",
      "        )\n",
      "      )\n",
      "    )\n",
      "    (9): SPPF(\n",
      "      (cv1): Conv(\n",
      "        (conv): Conv2d(256, 128, kernel_size=(1, 1), stride=(1, 1), bias=False)\n",
      "        (bn): BatchNorm2d(128, eps=0.001, momentum=0.03, affine=True, track_running_stats=True)\n",
      "        (act): SiLU(inplace=True)\n",
      "      )\n",
      "      (cv2): Conv(\n",
      "        (conv): Conv2d(512, 256, kernel_size=(1, 1), stride=(1, 1), bias=False)\n",
      "        (bn): BatchNorm2d(256, eps=0.001, momentum=0.03, affine=True, track_running_stats=True)\n",
      "        (act): SiLU(inplace=True)\n",
      "      )\n",
      "      (m): MaxPool2d(kernel_size=5, stride=1, padding=2, dilation=1, ceil_mode=False)\n",
      "    )\n",
      "    (10): Upsample(scale_factor=2.0, mode='nearest')\n",
      "    (11): Concat()\n",
      "    (12): C2f(\n",
      "      (cv1): Conv(\n",
      "        (conv): Conv2d(384, 128, kernel_size=(1, 1), stride=(1, 1), bias=False)\n",
      "        (bn): BatchNorm2d(128, eps=0.001, momentum=0.03, affine=True, track_running_stats=True)\n",
      "        (act): SiLU(inplace=True)\n",
      "      )\n",
      "      (cv2): Conv(\n",
      "        (conv): Conv2d(192, 128, kernel_size=(1, 1), stride=(1, 1), bias=False)\n",
      "        (bn): BatchNorm2d(128, eps=0.001, momentum=0.03, affine=True, track_running_stats=True)\n",
      "        (act): SiLU(inplace=True)\n",
      "      )\n",
      "      (m): ModuleList(\n",
      "        (0): Bottleneck(\n",
      "          (cv1): Conv(\n",
      "            (conv): Conv2d(64, 64, kernel_size=(3, 3), stride=(1, 1), padding=(1, 1), bias=False)\n",
      "            (bn): BatchNorm2d(64, eps=0.001, momentum=0.03, affine=True, track_running_stats=True)\n",
      "            (act): SiLU(inplace=True)\n",
      "          )\n",
      "          (cv2): Conv(\n",
      "            (conv): Conv2d(64, 64, kernel_size=(3, 3), stride=(1, 1), padding=(1, 1), bias=False)\n",
      "            (bn): BatchNorm2d(64, eps=0.001, momentum=0.03, affine=True, track_running_stats=True)\n",
      "            (act): SiLU(inplace=True)\n",
      "          )\n",
      "        )\n",
      "      )\n",
      "    )\n",
      "    (13): Upsample(scale_factor=2.0, mode='nearest')\n",
      "    (14): Concat()\n",
      "    (15): C2f(\n",
      "      (cv1): Conv(\n",
      "        (conv): Conv2d(192, 64, kernel_size=(1, 1), stride=(1, 1), bias=False)\n",
      "        (bn): BatchNorm2d(64, eps=0.001, momentum=0.03, affine=True, track_running_stats=True)\n",
      "        (act): SiLU(inplace=True)\n",
      "      )\n",
      "      (cv2): Conv(\n",
      "        (conv): Conv2d(96, 64, kernel_size=(1, 1), stride=(1, 1), bias=False)\n",
      "        (bn): BatchNorm2d(64, eps=0.001, momentum=0.03, affine=True, track_running_stats=True)\n",
      "        (act): SiLU(inplace=True)\n",
      "      )\n",
      "      (m): ModuleList(\n",
      "        (0): Bottleneck(\n",
      "          (cv1): Conv(\n",
      "            (conv): Conv2d(32, 32, kernel_size=(3, 3), stride=(1, 1), padding=(1, 1), bias=False)\n",
      "            (bn): BatchNorm2d(32, eps=0.001, momentum=0.03, affine=True, track_running_stats=True)\n",
      "            (act): SiLU(inplace=True)\n",
      "          )\n",
      "          (cv2): Conv(\n",
      "            (conv): Conv2d(32, 32, kernel_size=(3, 3), stride=(1, 1), padding=(1, 1), bias=False)\n",
      "            (bn): BatchNorm2d(32, eps=0.001, momentum=0.03, affine=True, track_running_stats=True)\n",
      "            (act): SiLU(inplace=True)\n",
      "          )\n",
      "        )\n",
      "      )\n",
      "    )\n",
      "    (16): Conv(\n",
      "      (conv): Conv2d(64, 64, kernel_size=(3, 3), stride=(2, 2), padding=(1, 1), bias=False)\n",
      "      (bn): BatchNorm2d(64, eps=0.001, momentum=0.03, affine=True, track_running_stats=True)\n",
      "      (act): SiLU(inplace=True)\n",
      "    )\n",
      "    (17): Concat()\n",
      "    (18): C2f(\n",
      "      (cv1): Conv(\n",
      "        (conv): Conv2d(192, 128, kernel_size=(1, 1), stride=(1, 1), bias=False)\n",
      "        (bn): BatchNorm2d(128, eps=0.001, momentum=0.03, affine=True, track_running_stats=True)\n",
      "        (act): SiLU(inplace=True)\n",
      "      )\n",
      "      (cv2): Conv(\n",
      "        (conv): Conv2d(192, 128, kernel_size=(1, 1), stride=(1, 1), bias=False)\n",
      "        (bn): BatchNorm2d(128, eps=0.001, momentum=0.03, affine=True, track_running_stats=True)\n",
      "        (act): SiLU(inplace=True)\n",
      "      )\n",
      "      (m): ModuleList(\n",
      "        (0): Bottleneck(\n",
      "          (cv1): Conv(\n",
      "            (conv): Conv2d(64, 64, kernel_size=(3, 3), stride=(1, 1), padding=(1, 1), bias=False)\n",
      "            (bn): BatchNorm2d(64, eps=0.001, momentum=0.03, affine=True, track_running_stats=True)\n",
      "            (act): SiLU(inplace=True)\n",
      "          )\n",
      "          (cv2): Conv(\n",
      "            (conv): Conv2d(64, 64, kernel_size=(3, 3), stride=(1, 1), padding=(1, 1), bias=False)\n",
      "            (bn): BatchNorm2d(64, eps=0.001, momentum=0.03, affine=True, track_running_stats=True)\n",
      "            (act): SiLU(inplace=True)\n",
      "          )\n",
      "        )\n",
      "      )\n",
      "    )\n",
      "    (19): Conv(\n",
      "      (conv): Conv2d(128, 128, kernel_size=(3, 3), stride=(2, 2), padding=(1, 1), bias=False)\n",
      "      (bn): BatchNorm2d(128, eps=0.001, momentum=0.03, affine=True, track_running_stats=True)\n",
      "      (act): SiLU(inplace=True)\n",
      "    )\n",
      "    (20): Concat()\n",
      "    (21): C2f(\n",
      "      (cv1): Conv(\n",
      "        (conv): Conv2d(384, 256, kernel_size=(1, 1), stride=(1, 1), bias=False)\n",
      "        (bn): BatchNorm2d(256, eps=0.001, momentum=0.03, affine=True, track_running_stats=True)\n",
      "        (act): SiLU(inplace=True)\n",
      "      )\n",
      "      (cv2): Conv(\n",
      "        (conv): Conv2d(384, 256, kernel_size=(1, 1), stride=(1, 1), bias=False)\n",
      "        (bn): BatchNorm2d(256, eps=0.001, momentum=0.03, affine=True, track_running_stats=True)\n",
      "        (act): SiLU(inplace=True)\n",
      "      )\n",
      "      (m): ModuleList(\n",
      "        (0): Bottleneck(\n",
      "          (cv1): Conv(\n",
      "            (conv): Conv2d(128, 128, kernel_size=(3, 3), stride=(1, 1), padding=(1, 1), bias=False)\n",
      "            (bn): BatchNorm2d(128, eps=0.001, momentum=0.03, affine=True, track_running_stats=True)\n",
      "            (act): SiLU(inplace=True)\n",
      "          )\n",
      "          (cv2): Conv(\n",
      "            (conv): Conv2d(128, 128, kernel_size=(3, 3), stride=(1, 1), padding=(1, 1), bias=False)\n",
      "            (bn): BatchNorm2d(128, eps=0.001, momentum=0.03, affine=True, track_running_stats=True)\n",
      "            (act): SiLU(inplace=True)\n",
      "          )\n",
      "        )\n",
      "      )\n",
      "    )\n",
      "    (22): Detect(\n",
      "      (cv2): ModuleList(\n",
      "        (0): Sequential(\n",
      "          (0): Conv(\n",
      "            (conv): Conv2d(64, 64, kernel_size=(3, 3), stride=(1, 1), padding=(1, 1), bias=False)\n",
      "            (bn): BatchNorm2d(64, eps=0.001, momentum=0.03, affine=True, track_running_stats=True)\n",
      "            (act): SiLU(inplace=True)\n",
      "          )\n",
      "          (1): Conv(\n",
      "            (conv): Conv2d(64, 64, kernel_size=(3, 3), stride=(1, 1), padding=(1, 1), bias=False)\n",
      "            (bn): BatchNorm2d(64, eps=0.001, momentum=0.03, affine=True, track_running_stats=True)\n",
      "            (act): SiLU(inplace=True)\n",
      "          )\n",
      "          (2): Conv2d(64, 64, kernel_size=(1, 1), stride=(1, 1))\n",
      "        )\n",
      "        (1): Sequential(\n",
      "          (0): Conv(\n",
      "            (conv): Conv2d(128, 64, kernel_size=(3, 3), stride=(1, 1), padding=(1, 1), bias=False)\n",
      "            (bn): BatchNorm2d(64, eps=0.001, momentum=0.03, affine=True, track_running_stats=True)\n",
      "            (act): SiLU(inplace=True)\n",
      "          )\n",
      "          (1): Conv(\n",
      "            (conv): Conv2d(64, 64, kernel_size=(3, 3), stride=(1, 1), padding=(1, 1), bias=False)\n",
      "            (bn): BatchNorm2d(64, eps=0.001, momentum=0.03, affine=True, track_running_stats=True)\n",
      "            (act): SiLU(inplace=True)\n",
      "          )\n",
      "          (2): Conv2d(64, 64, kernel_size=(1, 1), stride=(1, 1))\n",
      "        )\n",
      "        (2): Sequential(\n",
      "          (0): Conv(\n",
      "            (conv): Conv2d(256, 64, kernel_size=(3, 3), stride=(1, 1), padding=(1, 1), bias=False)\n",
      "            (bn): BatchNorm2d(64, eps=0.001, momentum=0.03, affine=True, track_running_stats=True)\n",
      "            (act): SiLU(inplace=True)\n",
      "          )\n",
      "          (1): Conv(\n",
      "            (conv): Conv2d(64, 64, kernel_size=(3, 3), stride=(1, 1), padding=(1, 1), bias=False)\n",
      "            (bn): BatchNorm2d(64, eps=0.001, momentum=0.03, affine=True, track_running_stats=True)\n",
      "            (act): SiLU(inplace=True)\n",
      "          )\n",
      "          (2): Conv2d(64, 64, kernel_size=(1, 1), stride=(1, 1))\n",
      "        )\n",
      "      )\n",
      "      (cv3): ModuleList(\n",
      "        (0): Sequential(\n",
      "          (0): Conv(\n",
      "            (conv): Conv2d(64, 80, kernel_size=(3, 3), stride=(1, 1), padding=(1, 1), bias=False)\n",
      "            (bn): BatchNorm2d(80, eps=0.001, momentum=0.03, affine=True, track_running_stats=True)\n",
      "            (act): SiLU(inplace=True)\n",
      "          )\n",
      "          (1): Conv(\n",
      "            (conv): Conv2d(80, 80, kernel_size=(3, 3), stride=(1, 1), padding=(1, 1), bias=False)\n",
      "            (bn): BatchNorm2d(80, eps=0.001, momentum=0.03, affine=True, track_running_stats=True)\n",
      "            (act): SiLU(inplace=True)\n",
      "          )\n",
      "          (2): Conv2d(80, 80, kernel_size=(1, 1), stride=(1, 1))\n",
      "        )\n",
      "        (1): Sequential(\n",
      "          (0): Conv(\n",
      "            (conv): Conv2d(128, 80, kernel_size=(3, 3), stride=(1, 1), padding=(1, 1), bias=False)\n",
      "            (bn): BatchNorm2d(80, eps=0.001, momentum=0.03, affine=True, track_running_stats=True)\n",
      "            (act): SiLU(inplace=True)\n",
      "          )\n",
      "          (1): Conv(\n",
      "            (conv): Conv2d(80, 80, kernel_size=(3, 3), stride=(1, 1), padding=(1, 1), bias=False)\n",
      "            (bn): BatchNorm2d(80, eps=0.001, momentum=0.03, affine=True, track_running_stats=True)\n",
      "            (act): SiLU(inplace=True)\n",
      "          )\n",
      "          (2): Conv2d(80, 80, kernel_size=(1, 1), stride=(1, 1))\n",
      "        )\n",
      "        (2): Sequential(\n",
      "          (0): Conv(\n",
      "            (conv): Conv2d(256, 80, kernel_size=(3, 3), stride=(1, 1), padding=(1, 1), bias=False)\n",
      "            (bn): BatchNorm2d(80, eps=0.001, momentum=0.03, affine=True, track_running_stats=True)\n",
      "            (act): SiLU(inplace=True)\n",
      "          )\n",
      "          (1): Conv(\n",
      "            (conv): Conv2d(80, 80, kernel_size=(3, 3), stride=(1, 1), padding=(1, 1), bias=False)\n",
      "            (bn): BatchNorm2d(80, eps=0.001, momentum=0.03, affine=True, track_running_stats=True)\n",
      "            (act): SiLU(inplace=True)\n",
      "          )\n",
      "          (2): Conv2d(80, 80, kernel_size=(1, 1), stride=(1, 1))\n",
      "        )\n",
      "      )\n",
      "      (dfl): DFL(\n",
      "        (conv): Conv2d(16, 1, kernel_size=(1, 1), stride=(1, 1), bias=False)\n",
      "      )\n",
      "    )\n",
      "  )\n",
      ")\n",
      "🔍 Model after modification:\n",
      " DetectionModel(\n",
      "  (model): Sequential(\n",
      "    (0): CustomBackbone(\n",
      "      (backbone): EfficientNet(\n",
      "        (features): Sequential(\n",
      "          (0): Conv2dNormActivation(\n",
      "            (0): Conv2d(3, 32, kernel_size=(3, 3), stride=(2, 2), padding=(1, 1), bias=False)\n",
      "            (1): BatchNorm2d(32, eps=1e-05, momentum=0.1, affine=True, track_running_stats=True)\n",
      "            (2): SiLU(inplace=True)\n",
      "          )\n",
      "          (1): Sequential(\n",
      "            (0): MBConv(\n",
      "              (block): Sequential(\n",
      "                (0): Conv2dNormActivation(\n",
      "                  (0): Conv2d(32, 32, kernel_size=(3, 3), stride=(1, 1), padding=(1, 1), groups=32, bias=False)\n",
      "                  (1): BatchNorm2d(32, eps=1e-05, momentum=0.1, affine=True, track_running_stats=True)\n",
      "                  (2): SiLU(inplace=True)\n",
      "                )\n",
      "                (1): SqueezeExcitation(\n",
      "                  (avgpool): AdaptiveAvgPool2d(output_size=1)\n",
      "                  (fc1): Conv2d(32, 8, kernel_size=(1, 1), stride=(1, 1))\n",
      "                  (fc2): Conv2d(8, 32, kernel_size=(1, 1), stride=(1, 1))\n",
      "                  (activation): SiLU(inplace=True)\n",
      "                  (scale_activation): Sigmoid()\n",
      "                )\n",
      "                (2): Conv2dNormActivation(\n",
      "                  (0): Conv2d(32, 16, kernel_size=(1, 1), stride=(1, 1), bias=False)\n",
      "                  (1): BatchNorm2d(16, eps=1e-05, momentum=0.1, affine=True, track_running_stats=True)\n",
      "                )\n",
      "              )\n",
      "              (stochastic_depth): StochasticDepth(p=0.0, mode=row)\n",
      "            )\n",
      "          )\n",
      "          (2): Sequential(\n",
      "            (0): MBConv(\n",
      "              (block): Sequential(\n",
      "                (0): Conv2dNormActivation(\n",
      "                  (0): Conv2d(16, 96, kernel_size=(1, 1), stride=(1, 1), bias=False)\n",
      "                  (1): BatchNorm2d(96, eps=1e-05, momentum=0.1, affine=True, track_running_stats=True)\n",
      "                  (2): SiLU(inplace=True)\n",
      "                )\n",
      "                (1): Conv2dNormActivation(\n",
      "                  (0): Conv2d(96, 96, kernel_size=(3, 3), stride=(2, 2), padding=(1, 1), groups=96, bias=False)\n",
      "                  (1): BatchNorm2d(96, eps=1e-05, momentum=0.1, affine=True, track_running_stats=True)\n",
      "                  (2): SiLU(inplace=True)\n",
      "                )\n",
      "                (2): SqueezeExcitation(\n",
      "                  (avgpool): AdaptiveAvgPool2d(output_size=1)\n",
      "                  (fc1): Conv2d(96, 4, kernel_size=(1, 1), stride=(1, 1))\n",
      "                  (fc2): Conv2d(4, 96, kernel_size=(1, 1), stride=(1, 1))\n",
      "                  (activation): SiLU(inplace=True)\n",
      "                  (scale_activation): Sigmoid()\n",
      "                )\n",
      "                (3): Conv2dNormActivation(\n",
      "                  (0): Conv2d(96, 24, kernel_size=(1, 1), stride=(1, 1), bias=False)\n",
      "                  (1): BatchNorm2d(24, eps=1e-05, momentum=0.1, affine=True, track_running_stats=True)\n",
      "                )\n",
      "              )\n",
      "              (stochastic_depth): StochasticDepth(p=0.0125, mode=row)\n",
      "            )\n",
      "            (1): MBConv(\n",
      "              (block): Sequential(\n",
      "                (0): Conv2dNormActivation(\n",
      "                  (0): Conv2d(24, 144, kernel_size=(1, 1), stride=(1, 1), bias=False)\n",
      "                  (1): BatchNorm2d(144, eps=1e-05, momentum=0.1, affine=True, track_running_stats=True)\n",
      "                  (2): SiLU(inplace=True)\n",
      "                )\n",
      "                (1): Conv2dNormActivation(\n",
      "                  (0): Conv2d(144, 144, kernel_size=(3, 3), stride=(1, 1), padding=(1, 1), groups=144, bias=False)\n",
      "                  (1): BatchNorm2d(144, eps=1e-05, momentum=0.1, affine=True, track_running_stats=True)\n",
      "                  (2): SiLU(inplace=True)\n",
      "                )\n",
      "                (2): SqueezeExcitation(\n",
      "                  (avgpool): AdaptiveAvgPool2d(output_size=1)\n",
      "                  (fc1): Conv2d(144, 6, kernel_size=(1, 1), stride=(1, 1))\n",
      "                  (fc2): Conv2d(6, 144, kernel_size=(1, 1), stride=(1, 1))\n",
      "                  (activation): SiLU(inplace=True)\n",
      "                  (scale_activation): Sigmoid()\n",
      "                )\n",
      "                (3): Conv2dNormActivation(\n",
      "                  (0): Conv2d(144, 24, kernel_size=(1, 1), stride=(1, 1), bias=False)\n",
      "                  (1): BatchNorm2d(24, eps=1e-05, momentum=0.1, affine=True, track_running_stats=True)\n",
      "                )\n",
      "              )\n",
      "              (stochastic_depth): StochasticDepth(p=0.025, mode=row)\n",
      "            )\n",
      "          )\n",
      "          (3): Sequential(\n",
      "            (0): MBConv(\n",
      "              (block): Sequential(\n",
      "                (0): Conv2dNormActivation(\n",
      "                  (0): Conv2d(24, 144, kernel_size=(1, 1), stride=(1, 1), bias=False)\n",
      "                  (1): BatchNorm2d(144, eps=1e-05, momentum=0.1, affine=True, track_running_stats=True)\n",
      "                  (2): SiLU(inplace=True)\n",
      "                )\n",
      "                (1): Conv2dNormActivation(\n",
      "                  (0): Conv2d(144, 144, kernel_size=(5, 5), stride=(2, 2), padding=(2, 2), groups=144, bias=False)\n",
      "                  (1): BatchNorm2d(144, eps=1e-05, momentum=0.1, affine=True, track_running_stats=True)\n",
      "                  (2): SiLU(inplace=True)\n",
      "                )\n",
      "                (2): SqueezeExcitation(\n",
      "                  (avgpool): AdaptiveAvgPool2d(output_size=1)\n",
      "                  (fc1): Conv2d(144, 6, kernel_size=(1, 1), stride=(1, 1))\n",
      "                  (fc2): Conv2d(6, 144, kernel_size=(1, 1), stride=(1, 1))\n",
      "                  (activation): SiLU(inplace=True)\n",
      "                  (scale_activation): Sigmoid()\n",
      "                )\n",
      "                (3): Conv2dNormActivation(\n",
      "                  (0): Conv2d(144, 40, kernel_size=(1, 1), stride=(1, 1), bias=False)\n",
      "                  (1): BatchNorm2d(40, eps=1e-05, momentum=0.1, affine=True, track_running_stats=True)\n",
      "                )\n",
      "              )\n",
      "              (stochastic_depth): StochasticDepth(p=0.037500000000000006, mode=row)\n",
      "            )\n",
      "            (1): MBConv(\n",
      "              (block): Sequential(\n",
      "                (0): Conv2dNormActivation(\n",
      "                  (0): Conv2d(40, 240, kernel_size=(1, 1), stride=(1, 1), bias=False)\n",
      "                  (1): BatchNorm2d(240, eps=1e-05, momentum=0.1, affine=True, track_running_stats=True)\n",
      "                  (2): SiLU(inplace=True)\n",
      "                )\n",
      "                (1): Conv2dNormActivation(\n",
      "                  (0): Conv2d(240, 240, kernel_size=(5, 5), stride=(1, 1), padding=(2, 2), groups=240, bias=False)\n",
      "                  (1): BatchNorm2d(240, eps=1e-05, momentum=0.1, affine=True, track_running_stats=True)\n",
      "                  (2): SiLU(inplace=True)\n",
      "                )\n",
      "                (2): SqueezeExcitation(\n",
      "                  (avgpool): AdaptiveAvgPool2d(output_size=1)\n",
      "                  (fc1): Conv2d(240, 10, kernel_size=(1, 1), stride=(1, 1))\n",
      "                  (fc2): Conv2d(10, 240, kernel_size=(1, 1), stride=(1, 1))\n",
      "                  (activation): SiLU(inplace=True)\n",
      "                  (scale_activation): Sigmoid()\n",
      "                )\n",
      "                (3): Conv2dNormActivation(\n",
      "                  (0): Conv2d(240, 40, kernel_size=(1, 1), stride=(1, 1), bias=False)\n",
      "                  (1): BatchNorm2d(40, eps=1e-05, momentum=0.1, affine=True, track_running_stats=True)\n",
      "                )\n",
      "              )\n",
      "              (stochastic_depth): StochasticDepth(p=0.05, mode=row)\n",
      "            )\n",
      "          )\n",
      "          (4): Sequential(\n",
      "            (0): MBConv(\n",
      "              (block): Sequential(\n",
      "                (0): Conv2dNormActivation(\n",
      "                  (0): Conv2d(40, 240, kernel_size=(1, 1), stride=(1, 1), bias=False)\n",
      "                  (1): BatchNorm2d(240, eps=1e-05, momentum=0.1, affine=True, track_running_stats=True)\n",
      "                  (2): SiLU(inplace=True)\n",
      "                )\n",
      "                (1): Conv2dNormActivation(\n",
      "                  (0): Conv2d(240, 240, kernel_size=(3, 3), stride=(2, 2), padding=(1, 1), groups=240, bias=False)\n",
      "                  (1): BatchNorm2d(240, eps=1e-05, momentum=0.1, affine=True, track_running_stats=True)\n",
      "                  (2): SiLU(inplace=True)\n",
      "                )\n",
      "                (2): SqueezeExcitation(\n",
      "                  (avgpool): AdaptiveAvgPool2d(output_size=1)\n",
      "                  (fc1): Conv2d(240, 10, kernel_size=(1, 1), stride=(1, 1))\n",
      "                  (fc2): Conv2d(10, 240, kernel_size=(1, 1), stride=(1, 1))\n",
      "                  (activation): SiLU(inplace=True)\n",
      "                  (scale_activation): Sigmoid()\n",
      "                )\n",
      "                (3): Conv2dNormActivation(\n",
      "                  (0): Conv2d(240, 80, kernel_size=(1, 1), stride=(1, 1), bias=False)\n",
      "                  (1): BatchNorm2d(80, eps=1e-05, momentum=0.1, affine=True, track_running_stats=True)\n",
      "                )\n",
      "              )\n",
      "              (stochastic_depth): StochasticDepth(p=0.0625, mode=row)\n",
      "            )\n",
      "            (1): MBConv(\n",
      "              (block): Sequential(\n",
      "                (0): Conv2dNormActivation(\n",
      "                  (0): Conv2d(80, 480, kernel_size=(1, 1), stride=(1, 1), bias=False)\n",
      "                  (1): BatchNorm2d(480, eps=1e-05, momentum=0.1, affine=True, track_running_stats=True)\n",
      "                  (2): SiLU(inplace=True)\n",
      "                )\n",
      "                (1): Conv2dNormActivation(\n",
      "                  (0): Conv2d(480, 480, kernel_size=(3, 3), stride=(1, 1), padding=(1, 1), groups=480, bias=False)\n",
      "                  (1): BatchNorm2d(480, eps=1e-05, momentum=0.1, affine=True, track_running_stats=True)\n",
      "                  (2): SiLU(inplace=True)\n",
      "                )\n",
      "                (2): SqueezeExcitation(\n",
      "                  (avgpool): AdaptiveAvgPool2d(output_size=1)\n",
      "                  (fc1): Conv2d(480, 20, kernel_size=(1, 1), stride=(1, 1))\n",
      "                  (fc2): Conv2d(20, 480, kernel_size=(1, 1), stride=(1, 1))\n",
      "                  (activation): SiLU(inplace=True)\n",
      "                  (scale_activation): Sigmoid()\n",
      "                )\n",
      "                (3): Conv2dNormActivation(\n",
      "                  (0): Conv2d(480, 80, kernel_size=(1, 1), stride=(1, 1), bias=False)\n",
      "                  (1): BatchNorm2d(80, eps=1e-05, momentum=0.1, affine=True, track_running_stats=True)\n",
      "                )\n",
      "              )\n",
      "              (stochastic_depth): StochasticDepth(p=0.07500000000000001, mode=row)\n",
      "            )\n",
      "            (2): MBConv(\n",
      "              (block): Sequential(\n",
      "                (0): Conv2dNormActivation(\n",
      "                  (0): Conv2d(80, 480, kernel_size=(1, 1), stride=(1, 1), bias=False)\n",
      "                  (1): BatchNorm2d(480, eps=1e-05, momentum=0.1, affine=True, track_running_stats=True)\n",
      "                  (2): SiLU(inplace=True)\n",
      "                )\n",
      "                (1): Conv2dNormActivation(\n",
      "                  (0): Conv2d(480, 480, kernel_size=(3, 3), stride=(1, 1), padding=(1, 1), groups=480, bias=False)\n",
      "                  (1): BatchNorm2d(480, eps=1e-05, momentum=0.1, affine=True, track_running_stats=True)\n",
      "                  (2): SiLU(inplace=True)\n",
      "                )\n",
      "                (2): SqueezeExcitation(\n",
      "                  (avgpool): AdaptiveAvgPool2d(output_size=1)\n",
      "                  (fc1): Conv2d(480, 20, kernel_size=(1, 1), stride=(1, 1))\n",
      "                  (fc2): Conv2d(20, 480, kernel_size=(1, 1), stride=(1, 1))\n",
      "                  (activation): SiLU(inplace=True)\n",
      "                  (scale_activation): Sigmoid()\n",
      "                )\n",
      "                (3): Conv2dNormActivation(\n",
      "                  (0): Conv2d(480, 80, kernel_size=(1, 1), stride=(1, 1), bias=False)\n",
      "                  (1): BatchNorm2d(80, eps=1e-05, momentum=0.1, affine=True, track_running_stats=True)\n",
      "                )\n",
      "              )\n",
      "              (stochastic_depth): StochasticDepth(p=0.08750000000000001, mode=row)\n",
      "            )\n",
      "          )\n",
      "          (5): Sequential(\n",
      "            (0): MBConv(\n",
      "              (block): Sequential(\n",
      "                (0): Conv2dNormActivation(\n",
      "                  (0): Conv2d(80, 480, kernel_size=(1, 1), stride=(1, 1), bias=False)\n",
      "                  (1): BatchNorm2d(480, eps=1e-05, momentum=0.1, affine=True, track_running_stats=True)\n",
      "                  (2): SiLU(inplace=True)\n",
      "                )\n",
      "                (1): Conv2dNormActivation(\n",
      "                  (0): Conv2d(480, 480, kernel_size=(5, 5), stride=(1, 1), padding=(2, 2), groups=480, bias=False)\n",
      "                  (1): BatchNorm2d(480, eps=1e-05, momentum=0.1, affine=True, track_running_stats=True)\n",
      "                  (2): SiLU(inplace=True)\n",
      "                )\n",
      "                (2): SqueezeExcitation(\n",
      "                  (avgpool): AdaptiveAvgPool2d(output_size=1)\n",
      "                  (fc1): Conv2d(480, 20, kernel_size=(1, 1), stride=(1, 1))\n",
      "                  (fc2): Conv2d(20, 480, kernel_size=(1, 1), stride=(1, 1))\n",
      "                  (activation): SiLU(inplace=True)\n",
      "                  (scale_activation): Sigmoid()\n",
      "                )\n",
      "                (3): Conv2dNormActivation(\n",
      "                  (0): Conv2d(480, 112, kernel_size=(1, 1), stride=(1, 1), bias=False)\n",
      "                  (1): BatchNorm2d(112, eps=1e-05, momentum=0.1, affine=True, track_running_stats=True)\n",
      "                )\n",
      "              )\n",
      "              (stochastic_depth): StochasticDepth(p=0.1, mode=row)\n",
      "            )\n",
      "            (1): MBConv(\n",
      "              (block): Sequential(\n",
      "                (0): Conv2dNormActivation(\n",
      "                  (0): Conv2d(112, 672, kernel_size=(1, 1), stride=(1, 1), bias=False)\n",
      "                  (1): BatchNorm2d(672, eps=1e-05, momentum=0.1, affine=True, track_running_stats=True)\n",
      "                  (2): SiLU(inplace=True)\n",
      "                )\n",
      "                (1): Conv2dNormActivation(\n",
      "                  (0): Conv2d(672, 672, kernel_size=(5, 5), stride=(1, 1), padding=(2, 2), groups=672, bias=False)\n",
      "                  (1): BatchNorm2d(672, eps=1e-05, momentum=0.1, affine=True, track_running_stats=True)\n",
      "                  (2): SiLU(inplace=True)\n",
      "                )\n",
      "                (2): SqueezeExcitation(\n",
      "                  (avgpool): AdaptiveAvgPool2d(output_size=1)\n",
      "                  (fc1): Conv2d(672, 28, kernel_size=(1, 1), stride=(1, 1))\n",
      "                  (fc2): Conv2d(28, 672, kernel_size=(1, 1), stride=(1, 1))\n",
      "                  (activation): SiLU(inplace=True)\n",
      "                  (scale_activation): Sigmoid()\n",
      "                )\n",
      "                (3): Conv2dNormActivation(\n",
      "                  (0): Conv2d(672, 112, kernel_size=(1, 1), stride=(1, 1), bias=False)\n",
      "                  (1): BatchNorm2d(112, eps=1e-05, momentum=0.1, affine=True, track_running_stats=True)\n",
      "                )\n",
      "              )\n",
      "              (stochastic_depth): StochasticDepth(p=0.1125, mode=row)\n",
      "            )\n",
      "            (2): MBConv(\n",
      "              (block): Sequential(\n",
      "                (0): Conv2dNormActivation(\n",
      "                  (0): Conv2d(112, 672, kernel_size=(1, 1), stride=(1, 1), bias=False)\n",
      "                  (1): BatchNorm2d(672, eps=1e-05, momentum=0.1, affine=True, track_running_stats=True)\n",
      "                  (2): SiLU(inplace=True)\n",
      "                )\n",
      "                (1): Conv2dNormActivation(\n",
      "                  (0): Conv2d(672, 672, kernel_size=(5, 5), stride=(1, 1), padding=(2, 2), groups=672, bias=False)\n",
      "                  (1): BatchNorm2d(672, eps=1e-05, momentum=0.1, affine=True, track_running_stats=True)\n",
      "                  (2): SiLU(inplace=True)\n",
      "                )\n",
      "                (2): SqueezeExcitation(\n",
      "                  (avgpool): AdaptiveAvgPool2d(output_size=1)\n",
      "                  (fc1): Conv2d(672, 28, kernel_size=(1, 1), stride=(1, 1))\n",
      "                  (fc2): Conv2d(28, 672, kernel_size=(1, 1), stride=(1, 1))\n",
      "                  (activation): SiLU(inplace=True)\n",
      "                  (scale_activation): Sigmoid()\n",
      "                )\n",
      "                (3): Conv2dNormActivation(\n",
      "                  (0): Conv2d(672, 112, kernel_size=(1, 1), stride=(1, 1), bias=False)\n",
      "                  (1): BatchNorm2d(112, eps=1e-05, momentum=0.1, affine=True, track_running_stats=True)\n",
      "                )\n",
      "              )\n",
      "              (stochastic_depth): StochasticDepth(p=0.125, mode=row)\n",
      "            )\n",
      "          )\n",
      "          (6): Sequential(\n",
      "            (0): MBConv(\n",
      "              (block): Sequential(\n",
      "                (0): Conv2dNormActivation(\n",
      "                  (0): Conv2d(112, 672, kernel_size=(1, 1), stride=(1, 1), bias=False)\n",
      "                  (1): BatchNorm2d(672, eps=1e-05, momentum=0.1, affine=True, track_running_stats=True)\n",
      "                  (2): SiLU(inplace=True)\n",
      "                )\n",
      "                (1): Conv2dNormActivation(\n",
      "                  (0): Conv2d(672, 672, kernel_size=(5, 5), stride=(2, 2), padding=(2, 2), groups=672, bias=False)\n",
      "                  (1): BatchNorm2d(672, eps=1e-05, momentum=0.1, affine=True, track_running_stats=True)\n",
      "                  (2): SiLU(inplace=True)\n",
      "                )\n",
      "                (2): SqueezeExcitation(\n",
      "                  (avgpool): AdaptiveAvgPool2d(output_size=1)\n",
      "                  (fc1): Conv2d(672, 28, kernel_size=(1, 1), stride=(1, 1))\n",
      "                  (fc2): Conv2d(28, 672, kernel_size=(1, 1), stride=(1, 1))\n",
      "                  (activation): SiLU(inplace=True)\n",
      "                  (scale_activation): Sigmoid()\n",
      "                )\n",
      "                (3): Conv2dNormActivation(\n",
      "                  (0): Conv2d(672, 192, kernel_size=(1, 1), stride=(1, 1), bias=False)\n",
      "                  (1): BatchNorm2d(192, eps=1e-05, momentum=0.1, affine=True, track_running_stats=True)\n",
      "                )\n",
      "              )\n",
      "              (stochastic_depth): StochasticDepth(p=0.1375, mode=row)\n",
      "            )\n",
      "            (1): MBConv(\n",
      "              (block): Sequential(\n",
      "                (0): Conv2dNormActivation(\n",
      "                  (0): Conv2d(192, 1152, kernel_size=(1, 1), stride=(1, 1), bias=False)\n",
      "                  (1): BatchNorm2d(1152, eps=1e-05, momentum=0.1, affine=True, track_running_stats=True)\n",
      "                  (2): SiLU(inplace=True)\n",
      "                )\n",
      "                (1): Conv2dNormActivation(\n",
      "                  (0): Conv2d(1152, 1152, kernel_size=(5, 5), stride=(1, 1), padding=(2, 2), groups=1152, bias=False)\n",
      "                  (1): BatchNorm2d(1152, eps=1e-05, momentum=0.1, affine=True, track_running_stats=True)\n",
      "                  (2): SiLU(inplace=True)\n",
      "                )\n",
      "                (2): SqueezeExcitation(\n",
      "                  (avgpool): AdaptiveAvgPool2d(output_size=1)\n",
      "                  (fc1): Conv2d(1152, 48, kernel_size=(1, 1), stride=(1, 1))\n",
      "                  (fc2): Conv2d(48, 1152, kernel_size=(1, 1), stride=(1, 1))\n",
      "                  (activation): SiLU(inplace=True)\n",
      "                  (scale_activation): Sigmoid()\n",
      "                )\n",
      "                (3): Conv2dNormActivation(\n",
      "                  (0): Conv2d(1152, 192, kernel_size=(1, 1), stride=(1, 1), bias=False)\n",
      "                  (1): BatchNorm2d(192, eps=1e-05, momentum=0.1, affine=True, track_running_stats=True)\n",
      "                )\n",
      "              )\n",
      "              (stochastic_depth): StochasticDepth(p=0.15000000000000002, mode=row)\n",
      "            )\n",
      "            (2): MBConv(\n",
      "              (block): Sequential(\n",
      "                (0): Conv2dNormActivation(\n",
      "                  (0): Conv2d(192, 1152, kernel_size=(1, 1), stride=(1, 1), bias=False)\n",
      "                  (1): BatchNorm2d(1152, eps=1e-05, momentum=0.1, affine=True, track_running_stats=True)\n",
      "                  (2): SiLU(inplace=True)\n",
      "                )\n",
      "                (1): Conv2dNormActivation(\n",
      "                  (0): Conv2d(1152, 1152, kernel_size=(5, 5), stride=(1, 1), padding=(2, 2), groups=1152, bias=False)\n",
      "                  (1): BatchNorm2d(1152, eps=1e-05, momentum=0.1, affine=True, track_running_stats=True)\n",
      "                  (2): SiLU(inplace=True)\n",
      "                )\n",
      "                (2): SqueezeExcitation(\n",
      "                  (avgpool): AdaptiveAvgPool2d(output_size=1)\n",
      "                  (fc1): Conv2d(1152, 48, kernel_size=(1, 1), stride=(1, 1))\n",
      "                  (fc2): Conv2d(48, 1152, kernel_size=(1, 1), stride=(1, 1))\n",
      "                  (activation): SiLU(inplace=True)\n",
      "                  (scale_activation): Sigmoid()\n",
      "                )\n",
      "                (3): Conv2dNormActivation(\n",
      "                  (0): Conv2d(1152, 192, kernel_size=(1, 1), stride=(1, 1), bias=False)\n",
      "                  (1): BatchNorm2d(192, eps=1e-05, momentum=0.1, affine=True, track_running_stats=True)\n",
      "                )\n",
      "              )\n",
      "              (stochastic_depth): StochasticDepth(p=0.1625, mode=row)\n",
      "            )\n",
      "            (3): MBConv(\n",
      "              (block): Sequential(\n",
      "                (0): Conv2dNormActivation(\n",
      "                  (0): Conv2d(192, 1152, kernel_size=(1, 1), stride=(1, 1), bias=False)\n",
      "                  (1): BatchNorm2d(1152, eps=1e-05, momentum=0.1, affine=True, track_running_stats=True)\n",
      "                  (2): SiLU(inplace=True)\n",
      "                )\n",
      "                (1): Conv2dNormActivation(\n",
      "                  (0): Conv2d(1152, 1152, kernel_size=(5, 5), stride=(1, 1), padding=(2, 2), groups=1152, bias=False)\n",
      "                  (1): BatchNorm2d(1152, eps=1e-05, momentum=0.1, affine=True, track_running_stats=True)\n",
      "                  (2): SiLU(inplace=True)\n",
      "                )\n",
      "                (2): SqueezeExcitation(\n",
      "                  (avgpool): AdaptiveAvgPool2d(output_size=1)\n",
      "                  (fc1): Conv2d(1152, 48, kernel_size=(1, 1), stride=(1, 1))\n",
      "                  (fc2): Conv2d(48, 1152, kernel_size=(1, 1), stride=(1, 1))\n",
      "                  (activation): SiLU(inplace=True)\n",
      "                  (scale_activation): Sigmoid()\n",
      "                )\n",
      "                (3): Conv2dNormActivation(\n",
      "                  (0): Conv2d(1152, 192, kernel_size=(1, 1), stride=(1, 1), bias=False)\n",
      "                  (1): BatchNorm2d(192, eps=1e-05, momentum=0.1, affine=True, track_running_stats=True)\n",
      "                )\n",
      "              )\n",
      "              (stochastic_depth): StochasticDepth(p=0.17500000000000002, mode=row)\n",
      "            )\n",
      "          )\n",
      "          (7): Sequential(\n",
      "            (0): MBConv(\n",
      "              (block): Sequential(\n",
      "                (0): Conv2dNormActivation(\n",
      "                  (0): Conv2d(192, 1152, kernel_size=(1, 1), stride=(1, 1), bias=False)\n",
      "                  (1): BatchNorm2d(1152, eps=1e-05, momentum=0.1, affine=True, track_running_stats=True)\n",
      "                  (2): SiLU(inplace=True)\n",
      "                )\n",
      "                (1): Conv2dNormActivation(\n",
      "                  (0): Conv2d(1152, 1152, kernel_size=(3, 3), stride=(1, 1), padding=(1, 1), groups=1152, bias=False)\n",
      "                  (1): BatchNorm2d(1152, eps=1e-05, momentum=0.1, affine=True, track_running_stats=True)\n",
      "                  (2): SiLU(inplace=True)\n",
      "                )\n",
      "                (2): SqueezeExcitation(\n",
      "                  (avgpool): AdaptiveAvgPool2d(output_size=1)\n",
      "                  (fc1): Conv2d(1152, 48, kernel_size=(1, 1), stride=(1, 1))\n",
      "                  (fc2): Conv2d(48, 1152, kernel_size=(1, 1), stride=(1, 1))\n",
      "                  (activation): SiLU(inplace=True)\n",
      "                  (scale_activation): Sigmoid()\n",
      "                )\n",
      "                (3): Conv2dNormActivation(\n",
      "                  (0): Conv2d(1152, 320, kernel_size=(1, 1), stride=(1, 1), bias=False)\n",
      "                  (1): BatchNorm2d(320, eps=1e-05, momentum=0.1, affine=True, track_running_stats=True)\n",
      "                )\n",
      "              )\n",
      "              (stochastic_depth): StochasticDepth(p=0.1875, mode=row)\n",
      "            )\n",
      "          )\n",
      "          (8): Conv2dNormActivation(\n",
      "            (0): Conv2d(320, 1280, kernel_size=(1, 1), stride=(1, 1), bias=False)\n",
      "            (1): BatchNorm2d(1280, eps=1e-05, momentum=0.1, affine=True, track_running_stats=True)\n",
      "            (2): SiLU(inplace=True)\n",
      "          )\n",
      "        )\n",
      "        (avgpool): AdaptiveAvgPool2d(output_size=1)\n",
      "        (classifier): Sequential(\n",
      "          (0): Dropout(p=0.2, inplace=True)\n",
      "          (1): Linear(in_features=1280, out_features=1000, bias=True)\n",
      "        )\n",
      "      )\n",
      "      (feature_layers): ModuleDict(\n",
      "        (P3): Sequential(\n",
      "          (0): Sequential(\n",
      "            (0): Conv2dNormActivation(\n",
      "              (0): Conv2d(3, 32, kernel_size=(3, 3), stride=(2, 2), padding=(1, 1), bias=False)\n",
      "              (1): BatchNorm2d(32, eps=1e-05, momentum=0.1, affine=True, track_running_stats=True)\n",
      "              (2): SiLU(inplace=True)\n",
      "            )\n",
      "            (1): Sequential(\n",
      "              (0): MBConv(\n",
      "                (block): Sequential(\n",
      "                  (0): Conv2dNormActivation(\n",
      "                    (0): Conv2d(32, 32, kernel_size=(3, 3), stride=(1, 1), padding=(1, 1), groups=32, bias=False)\n",
      "                    (1): BatchNorm2d(32, eps=1e-05, momentum=0.1, affine=True, track_running_stats=True)\n",
      "                    (2): SiLU(inplace=True)\n",
      "                  )\n",
      "                  (1): SqueezeExcitation(\n",
      "                    (avgpool): AdaptiveAvgPool2d(output_size=1)\n",
      "                    (fc1): Conv2d(32, 8, kernel_size=(1, 1), stride=(1, 1))\n",
      "                    (fc2): Conv2d(8, 32, kernel_size=(1, 1), stride=(1, 1))\n",
      "                    (activation): SiLU(inplace=True)\n",
      "                    (scale_activation): Sigmoid()\n",
      "                  )\n",
      "                  (2): Conv2dNormActivation(\n",
      "                    (0): Conv2d(32, 16, kernel_size=(1, 1), stride=(1, 1), bias=False)\n",
      "                    (1): BatchNorm2d(16, eps=1e-05, momentum=0.1, affine=True, track_running_stats=True)\n",
      "                  )\n",
      "                )\n",
      "                (stochastic_depth): StochasticDepth(p=0.0, mode=row)\n",
      "              )\n",
      "            )\n",
      "            (2): Sequential(\n",
      "              (0): MBConv(\n",
      "                (block): Sequential(\n",
      "                  (0): Conv2dNormActivation(\n",
      "                    (0): Conv2d(16, 96, kernel_size=(1, 1), stride=(1, 1), bias=False)\n",
      "                    (1): BatchNorm2d(96, eps=1e-05, momentum=0.1, affine=True, track_running_stats=True)\n",
      "                    (2): SiLU(inplace=True)\n",
      "                  )\n",
      "                  (1): Conv2dNormActivation(\n",
      "                    (0): Conv2d(96, 96, kernel_size=(3, 3), stride=(2, 2), padding=(1, 1), groups=96, bias=False)\n",
      "                    (1): BatchNorm2d(96, eps=1e-05, momentum=0.1, affine=True, track_running_stats=True)\n",
      "                    (2): SiLU(inplace=True)\n",
      "                  )\n",
      "                  (2): SqueezeExcitation(\n",
      "                    (avgpool): AdaptiveAvgPool2d(output_size=1)\n",
      "                    (fc1): Conv2d(96, 4, kernel_size=(1, 1), stride=(1, 1))\n",
      "                    (fc2): Conv2d(4, 96, kernel_size=(1, 1), stride=(1, 1))\n",
      "                    (activation): SiLU(inplace=True)\n",
      "                    (scale_activation): Sigmoid()\n",
      "                  )\n",
      "                  (3): Conv2dNormActivation(\n",
      "                    (0): Conv2d(96, 24, kernel_size=(1, 1), stride=(1, 1), bias=False)\n",
      "                    (1): BatchNorm2d(24, eps=1e-05, momentum=0.1, affine=True, track_running_stats=True)\n",
      "                  )\n",
      "                )\n",
      "                (stochastic_depth): StochasticDepth(p=0.0125, mode=row)\n",
      "              )\n",
      "              (1): MBConv(\n",
      "                (block): Sequential(\n",
      "                  (0): Conv2dNormActivation(\n",
      "                    (0): Conv2d(24, 144, kernel_size=(1, 1), stride=(1, 1), bias=False)\n",
      "                    (1): BatchNorm2d(144, eps=1e-05, momentum=0.1, affine=True, track_running_stats=True)\n",
      "                    (2): SiLU(inplace=True)\n",
      "                  )\n",
      "                  (1): Conv2dNormActivation(\n",
      "                    (0): Conv2d(144, 144, kernel_size=(3, 3), stride=(1, 1), padding=(1, 1), groups=144, bias=False)\n",
      "                    (1): BatchNorm2d(144, eps=1e-05, momentum=0.1, affine=True, track_running_stats=True)\n",
      "                    (2): SiLU(inplace=True)\n",
      "                  )\n",
      "                  (2): SqueezeExcitation(\n",
      "                    (avgpool): AdaptiveAvgPool2d(output_size=1)\n",
      "                    (fc1): Conv2d(144, 6, kernel_size=(1, 1), stride=(1, 1))\n",
      "                    (fc2): Conv2d(6, 144, kernel_size=(1, 1), stride=(1, 1))\n",
      "                    (activation): SiLU(inplace=True)\n",
      "                    (scale_activation): Sigmoid()\n",
      "                  )\n",
      "                  (3): Conv2dNormActivation(\n",
      "                    (0): Conv2d(144, 24, kernel_size=(1, 1), stride=(1, 1), bias=False)\n",
      "                    (1): BatchNorm2d(24, eps=1e-05, momentum=0.1, affine=True, track_running_stats=True)\n",
      "                  )\n",
      "                )\n",
      "                (stochastic_depth): StochasticDepth(p=0.025, mode=row)\n",
      "              )\n",
      "            )\n",
      "          )\n",
      "        )\n",
      "        (P4): Sequential(\n",
      "          (0): Sequential(\n",
      "            (3): Sequential(\n",
      "              (0): MBConv(\n",
      "                (block): Sequential(\n",
      "                  (0): Conv2dNormActivation(\n",
      "                    (0): Conv2d(24, 144, kernel_size=(1, 1), stride=(1, 1), bias=False)\n",
      "                    (1): BatchNorm2d(144, eps=1e-05, momentum=0.1, affine=True, track_running_stats=True)\n",
      "                    (2): SiLU(inplace=True)\n",
      "                  )\n",
      "                  (1): Conv2dNormActivation(\n",
      "                    (0): Conv2d(144, 144, kernel_size=(5, 5), stride=(2, 2), padding=(2, 2), groups=144, bias=False)\n",
      "                    (1): BatchNorm2d(144, eps=1e-05, momentum=0.1, affine=True, track_running_stats=True)\n",
      "                    (2): SiLU(inplace=True)\n",
      "                  )\n",
      "                  (2): SqueezeExcitation(\n",
      "                    (avgpool): AdaptiveAvgPool2d(output_size=1)\n",
      "                    (fc1): Conv2d(144, 6, kernel_size=(1, 1), stride=(1, 1))\n",
      "                    (fc2): Conv2d(6, 144, kernel_size=(1, 1), stride=(1, 1))\n",
      "                    (activation): SiLU(inplace=True)\n",
      "                    (scale_activation): Sigmoid()\n",
      "                  )\n",
      "                  (3): Conv2dNormActivation(\n",
      "                    (0): Conv2d(144, 40, kernel_size=(1, 1), stride=(1, 1), bias=False)\n",
      "                    (1): BatchNorm2d(40, eps=1e-05, momentum=0.1, affine=True, track_running_stats=True)\n",
      "                  )\n",
      "                )\n",
      "                (stochastic_depth): StochasticDepth(p=0.037500000000000006, mode=row)\n",
      "              )\n",
      "              (1): MBConv(\n",
      "                (block): Sequential(\n",
      "                  (0): Conv2dNormActivation(\n",
      "                    (0): Conv2d(40, 240, kernel_size=(1, 1), stride=(1, 1), bias=False)\n",
      "                    (1): BatchNorm2d(240, eps=1e-05, momentum=0.1, affine=True, track_running_stats=True)\n",
      "                    (2): SiLU(inplace=True)\n",
      "                  )\n",
      "                  (1): Conv2dNormActivation(\n",
      "                    (0): Conv2d(240, 240, kernel_size=(5, 5), stride=(1, 1), padding=(2, 2), groups=240, bias=False)\n",
      "                    (1): BatchNorm2d(240, eps=1e-05, momentum=0.1, affine=True, track_running_stats=True)\n",
      "                    (2): SiLU(inplace=True)\n",
      "                  )\n",
      "                  (2): SqueezeExcitation(\n",
      "                    (avgpool): AdaptiveAvgPool2d(output_size=1)\n",
      "                    (fc1): Conv2d(240, 10, kernel_size=(1, 1), stride=(1, 1))\n",
      "                    (fc2): Conv2d(10, 240, kernel_size=(1, 1), stride=(1, 1))\n",
      "                    (activation): SiLU(inplace=True)\n",
      "                    (scale_activation): Sigmoid()\n",
      "                  )\n",
      "                  (3): Conv2dNormActivation(\n",
      "                    (0): Conv2d(240, 40, kernel_size=(1, 1), stride=(1, 1), bias=False)\n",
      "                    (1): BatchNorm2d(40, eps=1e-05, momentum=0.1, affine=True, track_running_stats=True)\n",
      "                  )\n",
      "                )\n",
      "                (stochastic_depth): StochasticDepth(p=0.05, mode=row)\n",
      "              )\n",
      "            )\n",
      "            (4): Sequential(\n",
      "              (0): MBConv(\n",
      "                (block): Sequential(\n",
      "                  (0): Conv2dNormActivation(\n",
      "                    (0): Conv2d(40, 240, kernel_size=(1, 1), stride=(1, 1), bias=False)\n",
      "                    (1): BatchNorm2d(240, eps=1e-05, momentum=0.1, affine=True, track_running_stats=True)\n",
      "                    (2): SiLU(inplace=True)\n",
      "                  )\n",
      "                  (1): Conv2dNormActivation(\n",
      "                    (0): Conv2d(240, 240, kernel_size=(3, 3), stride=(2, 2), padding=(1, 1), groups=240, bias=False)\n",
      "                    (1): BatchNorm2d(240, eps=1e-05, momentum=0.1, affine=True, track_running_stats=True)\n",
      "                    (2): SiLU(inplace=True)\n",
      "                  )\n",
      "                  (2): SqueezeExcitation(\n",
      "                    (avgpool): AdaptiveAvgPool2d(output_size=1)\n",
      "                    (fc1): Conv2d(240, 10, kernel_size=(1, 1), stride=(1, 1))\n",
      "                    (fc2): Conv2d(10, 240, kernel_size=(1, 1), stride=(1, 1))\n",
      "                    (activation): SiLU(inplace=True)\n",
      "                    (scale_activation): Sigmoid()\n",
      "                  )\n",
      "                  (3): Conv2dNormActivation(\n",
      "                    (0): Conv2d(240, 80, kernel_size=(1, 1), stride=(1, 1), bias=False)\n",
      "                    (1): BatchNorm2d(80, eps=1e-05, momentum=0.1, affine=True, track_running_stats=True)\n",
      "                  )\n",
      "                )\n",
      "                (stochastic_depth): StochasticDepth(p=0.0625, mode=row)\n",
      "              )\n",
      "              (1): MBConv(\n",
      "                (block): Sequential(\n",
      "                  (0): Conv2dNormActivation(\n",
      "                    (0): Conv2d(80, 480, kernel_size=(1, 1), stride=(1, 1), bias=False)\n",
      "                    (1): BatchNorm2d(480, eps=1e-05, momentum=0.1, affine=True, track_running_stats=True)\n",
      "                    (2): SiLU(inplace=True)\n",
      "                  )\n",
      "                  (1): Conv2dNormActivation(\n",
      "                    (0): Conv2d(480, 480, kernel_size=(3, 3), stride=(1, 1), padding=(1, 1), groups=480, bias=False)\n",
      "                    (1): BatchNorm2d(480, eps=1e-05, momentum=0.1, affine=True, track_running_stats=True)\n",
      "                    (2): SiLU(inplace=True)\n",
      "                  )\n",
      "                  (2): SqueezeExcitation(\n",
      "                    (avgpool): AdaptiveAvgPool2d(output_size=1)\n",
      "                    (fc1): Conv2d(480, 20, kernel_size=(1, 1), stride=(1, 1))\n",
      "                    (fc2): Conv2d(20, 480, kernel_size=(1, 1), stride=(1, 1))\n",
      "                    (activation): SiLU(inplace=True)\n",
      "                    (scale_activation): Sigmoid()\n",
      "                  )\n",
      "                  (3): Conv2dNormActivation(\n",
      "                    (0): Conv2d(480, 80, kernel_size=(1, 1), stride=(1, 1), bias=False)\n",
      "                    (1): BatchNorm2d(80, eps=1e-05, momentum=0.1, affine=True, track_running_stats=True)\n",
      "                  )\n",
      "                )\n",
      "                (stochastic_depth): StochasticDepth(p=0.07500000000000001, mode=row)\n",
      "              )\n",
      "              (2): MBConv(\n",
      "                (block): Sequential(\n",
      "                  (0): Conv2dNormActivation(\n",
      "                    (0): Conv2d(80, 480, kernel_size=(1, 1), stride=(1, 1), bias=False)\n",
      "                    (1): BatchNorm2d(480, eps=1e-05, momentum=0.1, affine=True, track_running_stats=True)\n",
      "                    (2): SiLU(inplace=True)\n",
      "                  )\n",
      "                  (1): Conv2dNormActivation(\n",
      "                    (0): Conv2d(480, 480, kernel_size=(3, 3), stride=(1, 1), padding=(1, 1), groups=480, bias=False)\n",
      "                    (1): BatchNorm2d(480, eps=1e-05, momentum=0.1, affine=True, track_running_stats=True)\n",
      "                    (2): SiLU(inplace=True)\n",
      "                  )\n",
      "                  (2): SqueezeExcitation(\n",
      "                    (avgpool): AdaptiveAvgPool2d(output_size=1)\n",
      "                    (fc1): Conv2d(480, 20, kernel_size=(1, 1), stride=(1, 1))\n",
      "                    (fc2): Conv2d(20, 480, kernel_size=(1, 1), stride=(1, 1))\n",
      "                    (activation): SiLU(inplace=True)\n",
      "                    (scale_activation): Sigmoid()\n",
      "                  )\n",
      "                  (3): Conv2dNormActivation(\n",
      "                    (0): Conv2d(480, 80, kernel_size=(1, 1), stride=(1, 1), bias=False)\n",
      "                    (1): BatchNorm2d(80, eps=1e-05, momentum=0.1, affine=True, track_running_stats=True)\n",
      "                  )\n",
      "                )\n",
      "                (stochastic_depth): StochasticDepth(p=0.08750000000000001, mode=row)\n",
      "              )\n",
      "            )\n",
      "          )\n",
      "        )\n",
      "        (P5): Sequential(\n",
      "          (0): Sequential(\n",
      "            (5): Sequential(\n",
      "              (0): MBConv(\n",
      "                (block): Sequential(\n",
      "                  (0): Conv2dNormActivation(\n",
      "                    (0): Conv2d(80, 480, kernel_size=(1, 1), stride=(1, 1), bias=False)\n",
      "                    (1): BatchNorm2d(480, eps=1e-05, momentum=0.1, affine=True, track_running_stats=True)\n",
      "                    (2): SiLU(inplace=True)\n",
      "                  )\n",
      "                  (1): Conv2dNormActivation(\n",
      "                    (0): Conv2d(480, 480, kernel_size=(5, 5), stride=(1, 1), padding=(2, 2), groups=480, bias=False)\n",
      "                    (1): BatchNorm2d(480, eps=1e-05, momentum=0.1, affine=True, track_running_stats=True)\n",
      "                    (2): SiLU(inplace=True)\n",
      "                  )\n",
      "                  (2): SqueezeExcitation(\n",
      "                    (avgpool): AdaptiveAvgPool2d(output_size=1)\n",
      "                    (fc1): Conv2d(480, 20, kernel_size=(1, 1), stride=(1, 1))\n",
      "                    (fc2): Conv2d(20, 480, kernel_size=(1, 1), stride=(1, 1))\n",
      "                    (activation): SiLU(inplace=True)\n",
      "                    (scale_activation): Sigmoid()\n",
      "                  )\n",
      "                  (3): Conv2dNormActivation(\n",
      "                    (0): Conv2d(480, 112, kernel_size=(1, 1), stride=(1, 1), bias=False)\n",
      "                    (1): BatchNorm2d(112, eps=1e-05, momentum=0.1, affine=True, track_running_stats=True)\n",
      "                  )\n",
      "                )\n",
      "                (stochastic_depth): StochasticDepth(p=0.1, mode=row)\n",
      "              )\n",
      "              (1): MBConv(\n",
      "                (block): Sequential(\n",
      "                  (0): Conv2dNormActivation(\n",
      "                    (0): Conv2d(112, 672, kernel_size=(1, 1), stride=(1, 1), bias=False)\n",
      "                    (1): BatchNorm2d(672, eps=1e-05, momentum=0.1, affine=True, track_running_stats=True)\n",
      "                    (2): SiLU(inplace=True)\n",
      "                  )\n",
      "                  (1): Conv2dNormActivation(\n",
      "                    (0): Conv2d(672, 672, kernel_size=(5, 5), stride=(1, 1), padding=(2, 2), groups=672, bias=False)\n",
      "                    (1): BatchNorm2d(672, eps=1e-05, momentum=0.1, affine=True, track_running_stats=True)\n",
      "                    (2): SiLU(inplace=True)\n",
      "                  )\n",
      "                  (2): SqueezeExcitation(\n",
      "                    (avgpool): AdaptiveAvgPool2d(output_size=1)\n",
      "                    (fc1): Conv2d(672, 28, kernel_size=(1, 1), stride=(1, 1))\n",
      "                    (fc2): Conv2d(28, 672, kernel_size=(1, 1), stride=(1, 1))\n",
      "                    (activation): SiLU(inplace=True)\n",
      "                    (scale_activation): Sigmoid()\n",
      "                  )\n",
      "                  (3): Conv2dNormActivation(\n",
      "                    (0): Conv2d(672, 112, kernel_size=(1, 1), stride=(1, 1), bias=False)\n",
      "                    (1): BatchNorm2d(112, eps=1e-05, momentum=0.1, affine=True, track_running_stats=True)\n",
      "                  )\n",
      "                )\n",
      "                (stochastic_depth): StochasticDepth(p=0.1125, mode=row)\n",
      "              )\n",
      "              (2): MBConv(\n",
      "                (block): Sequential(\n",
      "                  (0): Conv2dNormActivation(\n",
      "                    (0): Conv2d(112, 672, kernel_size=(1, 1), stride=(1, 1), bias=False)\n",
      "                    (1): BatchNorm2d(672, eps=1e-05, momentum=0.1, affine=True, track_running_stats=True)\n",
      "                    (2): SiLU(inplace=True)\n",
      "                  )\n",
      "                  (1): Conv2dNormActivation(\n",
      "                    (0): Conv2d(672, 672, kernel_size=(5, 5), stride=(1, 1), padding=(2, 2), groups=672, bias=False)\n",
      "                    (1): BatchNorm2d(672, eps=1e-05, momentum=0.1, affine=True, track_running_stats=True)\n",
      "                    (2): SiLU(inplace=True)\n",
      "                  )\n",
      "                  (2): SqueezeExcitation(\n",
      "                    (avgpool): AdaptiveAvgPool2d(output_size=1)\n",
      "                    (fc1): Conv2d(672, 28, kernel_size=(1, 1), stride=(1, 1))\n",
      "                    (fc2): Conv2d(28, 672, kernel_size=(1, 1), stride=(1, 1))\n",
      "                    (activation): SiLU(inplace=True)\n",
      "                    (scale_activation): Sigmoid()\n",
      "                  )\n",
      "                  (3): Conv2dNormActivation(\n",
      "                    (0): Conv2d(672, 112, kernel_size=(1, 1), stride=(1, 1), bias=False)\n",
      "                    (1): BatchNorm2d(112, eps=1e-05, momentum=0.1, affine=True, track_running_stats=True)\n",
      "                  )\n",
      "                )\n",
      "                (stochastic_depth): StochasticDepth(p=0.125, mode=row)\n",
      "              )\n",
      "            )\n",
      "            (6): Sequential(\n",
      "              (0): MBConv(\n",
      "                (block): Sequential(\n",
      "                  (0): Conv2dNormActivation(\n",
      "                    (0): Conv2d(112, 672, kernel_size=(1, 1), stride=(1, 1), bias=False)\n",
      "                    (1): BatchNorm2d(672, eps=1e-05, momentum=0.1, affine=True, track_running_stats=True)\n",
      "                    (2): SiLU(inplace=True)\n",
      "                  )\n",
      "                  (1): Conv2dNormActivation(\n",
      "                    (0): Conv2d(672, 672, kernel_size=(5, 5), stride=(2, 2), padding=(2, 2), groups=672, bias=False)\n",
      "                    (1): BatchNorm2d(672, eps=1e-05, momentum=0.1, affine=True, track_running_stats=True)\n",
      "                    (2): SiLU(inplace=True)\n",
      "                  )\n",
      "                  (2): SqueezeExcitation(\n",
      "                    (avgpool): AdaptiveAvgPool2d(output_size=1)\n",
      "                    (fc1): Conv2d(672, 28, kernel_size=(1, 1), stride=(1, 1))\n",
      "                    (fc2): Conv2d(28, 672, kernel_size=(1, 1), stride=(1, 1))\n",
      "                    (activation): SiLU(inplace=True)\n",
      "                    (scale_activation): Sigmoid()\n",
      "                  )\n",
      "                  (3): Conv2dNormActivation(\n",
      "                    (0): Conv2d(672, 192, kernel_size=(1, 1), stride=(1, 1), bias=False)\n",
      "                    (1): BatchNorm2d(192, eps=1e-05, momentum=0.1, affine=True, track_running_stats=True)\n",
      "                  )\n",
      "                )\n",
      "                (stochastic_depth): StochasticDepth(p=0.1375, mode=row)\n",
      "              )\n",
      "              (1): MBConv(\n",
      "                (block): Sequential(\n",
      "                  (0): Conv2dNormActivation(\n",
      "                    (0): Conv2d(192, 1152, kernel_size=(1, 1), stride=(1, 1), bias=False)\n",
      "                    (1): BatchNorm2d(1152, eps=1e-05, momentum=0.1, affine=True, track_running_stats=True)\n",
      "                    (2): SiLU(inplace=True)\n",
      "                  )\n",
      "                  (1): Conv2dNormActivation(\n",
      "                    (0): Conv2d(1152, 1152, kernel_size=(5, 5), stride=(1, 1), padding=(2, 2), groups=1152, bias=False)\n",
      "                    (1): BatchNorm2d(1152, eps=1e-05, momentum=0.1, affine=True, track_running_stats=True)\n",
      "                    (2): SiLU(inplace=True)\n",
      "                  )\n",
      "                  (2): SqueezeExcitation(\n",
      "                    (avgpool): AdaptiveAvgPool2d(output_size=1)\n",
      "                    (fc1): Conv2d(1152, 48, kernel_size=(1, 1), stride=(1, 1))\n",
      "                    (fc2): Conv2d(48, 1152, kernel_size=(1, 1), stride=(1, 1))\n",
      "                    (activation): SiLU(inplace=True)\n",
      "                    (scale_activation): Sigmoid()\n",
      "                  )\n",
      "                  (3): Conv2dNormActivation(\n",
      "                    (0): Conv2d(1152, 192, kernel_size=(1, 1), stride=(1, 1), bias=False)\n",
      "                    (1): BatchNorm2d(192, eps=1e-05, momentum=0.1, affine=True, track_running_stats=True)\n",
      "                  )\n",
      "                )\n",
      "                (stochastic_depth): StochasticDepth(p=0.15000000000000002, mode=row)\n",
      "              )\n",
      "              (2): MBConv(\n",
      "                (block): Sequential(\n",
      "                  (0): Conv2dNormActivation(\n",
      "                    (0): Conv2d(192, 1152, kernel_size=(1, 1), stride=(1, 1), bias=False)\n",
      "                    (1): BatchNorm2d(1152, eps=1e-05, momentum=0.1, affine=True, track_running_stats=True)\n",
      "                    (2): SiLU(inplace=True)\n",
      "                  )\n",
      "                  (1): Conv2dNormActivation(\n",
      "                    (0): Conv2d(1152, 1152, kernel_size=(5, 5), stride=(1, 1), padding=(2, 2), groups=1152, bias=False)\n",
      "                    (1): BatchNorm2d(1152, eps=1e-05, momentum=0.1, affine=True, track_running_stats=True)\n",
      "                    (2): SiLU(inplace=True)\n",
      "                  )\n",
      "                  (2): SqueezeExcitation(\n",
      "                    (avgpool): AdaptiveAvgPool2d(output_size=1)\n",
      "                    (fc1): Conv2d(1152, 48, kernel_size=(1, 1), stride=(1, 1))\n",
      "                    (fc2): Conv2d(48, 1152, kernel_size=(1, 1), stride=(1, 1))\n",
      "                    (activation): SiLU(inplace=True)\n",
      "                    (scale_activation): Sigmoid()\n",
      "                  )\n",
      "                  (3): Conv2dNormActivation(\n",
      "                    (0): Conv2d(1152, 192, kernel_size=(1, 1), stride=(1, 1), bias=False)\n",
      "                    (1): BatchNorm2d(192, eps=1e-05, momentum=0.1, affine=True, track_running_stats=True)\n",
      "                  )\n",
      "                )\n",
      "                (stochastic_depth): StochasticDepth(p=0.1625, mode=row)\n",
      "              )\n",
      "              (3): MBConv(\n",
      "                (block): Sequential(\n",
      "                  (0): Conv2dNormActivation(\n",
      "                    (0): Conv2d(192, 1152, kernel_size=(1, 1), stride=(1, 1), bias=False)\n",
      "                    (1): BatchNorm2d(1152, eps=1e-05, momentum=0.1, affine=True, track_running_stats=True)\n",
      "                    (2): SiLU(inplace=True)\n",
      "                  )\n",
      "                  (1): Conv2dNormActivation(\n",
      "                    (0): Conv2d(1152, 1152, kernel_size=(5, 5), stride=(1, 1), padding=(2, 2), groups=1152, bias=False)\n",
      "                    (1): BatchNorm2d(1152, eps=1e-05, momentum=0.1, affine=True, track_running_stats=True)\n",
      "                    (2): SiLU(inplace=True)\n",
      "                  )\n",
      "                  (2): SqueezeExcitation(\n",
      "                    (avgpool): AdaptiveAvgPool2d(output_size=1)\n",
      "                    (fc1): Conv2d(1152, 48, kernel_size=(1, 1), stride=(1, 1))\n",
      "                    (fc2): Conv2d(48, 1152, kernel_size=(1, 1), stride=(1, 1))\n",
      "                    (activation): SiLU(inplace=True)\n",
      "                    (scale_activation): Sigmoid()\n",
      "                  )\n",
      "                  (3): Conv2dNormActivation(\n",
      "                    (0): Conv2d(1152, 192, kernel_size=(1, 1), stride=(1, 1), bias=False)\n",
      "                    (1): BatchNorm2d(192, eps=1e-05, momentum=0.1, affine=True, track_running_stats=True)\n",
      "                  )\n",
      "                )\n",
      "                (stochastic_depth): StochasticDepth(p=0.17500000000000002, mode=row)\n",
      "              )\n",
      "            )\n",
      "            (7): Sequential(\n",
      "              (0): MBConv(\n",
      "                (block): Sequential(\n",
      "                  (0): Conv2dNormActivation(\n",
      "                    (0): Conv2d(192, 1152, kernel_size=(1, 1), stride=(1, 1), bias=False)\n",
      "                    (1): BatchNorm2d(1152, eps=1e-05, momentum=0.1, affine=True, track_running_stats=True)\n",
      "                    (2): SiLU(inplace=True)\n",
      "                  )\n",
      "                  (1): Conv2dNormActivation(\n",
      "                    (0): Conv2d(1152, 1152, kernel_size=(3, 3), stride=(1, 1), padding=(1, 1), groups=1152, bias=False)\n",
      "                    (1): BatchNorm2d(1152, eps=1e-05, momentum=0.1, affine=True, track_running_stats=True)\n",
      "                    (2): SiLU(inplace=True)\n",
      "                  )\n",
      "                  (2): SqueezeExcitation(\n",
      "                    (avgpool): AdaptiveAvgPool2d(output_size=1)\n",
      "                    (fc1): Conv2d(1152, 48, kernel_size=(1, 1), stride=(1, 1))\n",
      "                    (fc2): Conv2d(48, 1152, kernel_size=(1, 1), stride=(1, 1))\n",
      "                    (activation): SiLU(inplace=True)\n",
      "                    (scale_activation): Sigmoid()\n",
      "                  )\n",
      "                  (3): Conv2dNormActivation(\n",
      "                    (0): Conv2d(1152, 320, kernel_size=(1, 1), stride=(1, 1), bias=False)\n",
      "                    (1): BatchNorm2d(320, eps=1e-05, momentum=0.1, affine=True, track_running_stats=True)\n",
      "                  )\n",
      "                )\n",
      "                (stochastic_depth): StochasticDepth(p=0.1875, mode=row)\n",
      "              )\n",
      "            )\n",
      "            (8): Conv2dNormActivation(\n",
      "              (0): Conv2d(320, 1280, kernel_size=(1, 1), stride=(1, 1), bias=False)\n",
      "              (1): BatchNorm2d(1280, eps=1e-05, momentum=0.1, affine=True, track_running_stats=True)\n",
      "              (2): SiLU(inplace=True)\n",
      "            )\n",
      "          )\n",
      "        )\n",
      "      )\n",
      "      (channel_adapter): ModuleList(\n",
      "        (0): Conv2d(24, 256, kernel_size=(1, 1), stride=(1, 1))\n",
      "        (1): Conv2d(40, 512, kernel_size=(1, 1), stride=(1, 1))\n",
      "        (2): Conv2d(112, 1024, kernel_size=(1, 1), stride=(1, 1))\n",
      "      )\n",
      "    )\n",
      "    (1): Conv(\n",
      "      (conv): Conv2d(16, 32, kernel_size=(3, 3), stride=(2, 2), padding=(1, 1), bias=False)\n",
      "      (bn): BatchNorm2d(32, eps=0.001, momentum=0.03, affine=True, track_running_stats=True)\n",
      "      (act): SiLU(inplace=True)\n",
      "    )\n",
      "    (2): C2f(\n",
      "      (cv1): Conv(\n",
      "        (conv): Conv2d(32, 32, kernel_size=(1, 1), stride=(1, 1), bias=False)\n",
      "        (bn): BatchNorm2d(32, eps=0.001, momentum=0.03, affine=True, track_running_stats=True)\n",
      "        (act): SiLU(inplace=True)\n",
      "      )\n",
      "      (cv2): Conv(\n",
      "        (conv): Conv2d(48, 32, kernel_size=(1, 1), stride=(1, 1), bias=False)\n",
      "        (bn): BatchNorm2d(32, eps=0.001, momentum=0.03, affine=True, track_running_stats=True)\n",
      "        (act): SiLU(inplace=True)\n",
      "      )\n",
      "      (m): ModuleList(\n",
      "        (0): Bottleneck(\n",
      "          (cv1): Conv(\n",
      "            (conv): Conv2d(16, 16, kernel_size=(3, 3), stride=(1, 1), padding=(1, 1), bias=False)\n",
      "            (bn): BatchNorm2d(16, eps=0.001, momentum=0.03, affine=True, track_running_stats=True)\n",
      "            (act): SiLU(inplace=True)\n",
      "          )\n",
      "          (cv2): Conv(\n",
      "            (conv): Conv2d(16, 16, kernel_size=(3, 3), stride=(1, 1), padding=(1, 1), bias=False)\n",
      "            (bn): BatchNorm2d(16, eps=0.001, momentum=0.03, affine=True, track_running_stats=True)\n",
      "            (act): SiLU(inplace=True)\n",
      "          )\n",
      "        )\n",
      "      )\n",
      "    )\n",
      "    (3): Conv(\n",
      "      (conv): Conv2d(32, 64, kernel_size=(3, 3), stride=(2, 2), padding=(1, 1), bias=False)\n",
      "      (bn): BatchNorm2d(64, eps=0.001, momentum=0.03, affine=True, track_running_stats=True)\n",
      "      (act): SiLU(inplace=True)\n",
      "    )\n",
      "    (4): C2f(\n",
      "      (cv1): Conv(\n",
      "        (conv): Conv2d(64, 64, kernel_size=(1, 1), stride=(1, 1), bias=False)\n",
      "        (bn): BatchNorm2d(64, eps=0.001, momentum=0.03, affine=True, track_running_stats=True)\n",
      "        (act): SiLU(inplace=True)\n",
      "      )\n",
      "      (cv2): Conv(\n",
      "        (conv): Conv2d(128, 64, kernel_size=(1, 1), stride=(1, 1), bias=False)\n",
      "        (bn): BatchNorm2d(64, eps=0.001, momentum=0.03, affine=True, track_running_stats=True)\n",
      "        (act): SiLU(inplace=True)\n",
      "      )\n",
      "      (m): ModuleList(\n",
      "        (0-1): 2 x Bottleneck(\n",
      "          (cv1): Conv(\n",
      "            (conv): Conv2d(32, 32, kernel_size=(3, 3), stride=(1, 1), padding=(1, 1), bias=False)\n",
      "            (bn): BatchNorm2d(32, eps=0.001, momentum=0.03, affine=True, track_running_stats=True)\n",
      "            (act): SiLU(inplace=True)\n",
      "          )\n",
      "          (cv2): Conv(\n",
      "            (conv): Conv2d(32, 32, kernel_size=(3, 3), stride=(1, 1), padding=(1, 1), bias=False)\n",
      "            (bn): BatchNorm2d(32, eps=0.001, momentum=0.03, affine=True, track_running_stats=True)\n",
      "            (act): SiLU(inplace=True)\n",
      "          )\n",
      "        )\n",
      "      )\n",
      "    )\n",
      "    (5): Conv(\n",
      "      (conv): Conv2d(64, 128, kernel_size=(3, 3), stride=(2, 2), padding=(1, 1), bias=False)\n",
      "      (bn): BatchNorm2d(128, eps=0.001, momentum=0.03, affine=True, track_running_stats=True)\n",
      "      (act): SiLU(inplace=True)\n",
      "    )\n",
      "    (6): C2f(\n",
      "      (cv1): Conv(\n",
      "        (conv): Conv2d(128, 128, kernel_size=(1, 1), stride=(1, 1), bias=False)\n",
      "        (bn): BatchNorm2d(128, eps=0.001, momentum=0.03, affine=True, track_running_stats=True)\n",
      "        (act): SiLU(inplace=True)\n",
      "      )\n",
      "      (cv2): Conv(\n",
      "        (conv): Conv2d(256, 128, kernel_size=(1, 1), stride=(1, 1), bias=False)\n",
      "        (bn): BatchNorm2d(128, eps=0.001, momentum=0.03, affine=True, track_running_stats=True)\n",
      "        (act): SiLU(inplace=True)\n",
      "      )\n",
      "      (m): ModuleList(\n",
      "        (0-1): 2 x Bottleneck(\n",
      "          (cv1): Conv(\n",
      "            (conv): Conv2d(64, 64, kernel_size=(3, 3), stride=(1, 1), padding=(1, 1), bias=False)\n",
      "            (bn): BatchNorm2d(64, eps=0.001, momentum=0.03, affine=True, track_running_stats=True)\n",
      "            (act): SiLU(inplace=True)\n",
      "          )\n",
      "          (cv2): Conv(\n",
      "            (conv): Conv2d(64, 64, kernel_size=(3, 3), stride=(1, 1), padding=(1, 1), bias=False)\n",
      "            (bn): BatchNorm2d(64, eps=0.001, momentum=0.03, affine=True, track_running_stats=True)\n",
      "            (act): SiLU(inplace=True)\n",
      "          )\n",
      "        )\n",
      "      )\n",
      "    )\n",
      "    (7): Conv(\n",
      "      (conv): Conv2d(128, 256, kernel_size=(3, 3), stride=(2, 2), padding=(1, 1), bias=False)\n",
      "      (bn): BatchNorm2d(256, eps=0.001, momentum=0.03, affine=True, track_running_stats=True)\n",
      "      (act): SiLU(inplace=True)\n",
      "    )\n",
      "    (8): C2f(\n",
      "      (cv1): Conv(\n",
      "        (conv): Conv2d(256, 256, kernel_size=(1, 1), stride=(1, 1), bias=False)\n",
      "        (bn): BatchNorm2d(256, eps=0.001, momentum=0.03, affine=True, track_running_stats=True)\n",
      "        (act): SiLU(inplace=True)\n",
      "      )\n",
      "      (cv2): Conv(\n",
      "        (conv): Conv2d(384, 256, kernel_size=(1, 1), stride=(1, 1), bias=False)\n",
      "        (bn): BatchNorm2d(256, eps=0.001, momentum=0.03, affine=True, track_running_stats=True)\n",
      "        (act): SiLU(inplace=True)\n",
      "      )\n",
      "      (m): ModuleList(\n",
      "        (0): Bottleneck(\n",
      "          (cv1): Conv(\n",
      "            (conv): Conv2d(128, 128, kernel_size=(3, 3), stride=(1, 1), padding=(1, 1), bias=False)\n",
      "            (bn): BatchNorm2d(128, eps=0.001, momentum=0.03, affine=True, track_running_stats=True)\n",
      "            (act): SiLU(inplace=True)\n",
      "          )\n",
      "          (cv2): Conv(\n",
      "            (conv): Conv2d(128, 128, kernel_size=(3, 3), stride=(1, 1), padding=(1, 1), bias=False)\n",
      "            (bn): BatchNorm2d(128, eps=0.001, momentum=0.03, affine=True, track_running_stats=True)\n",
      "            (act): SiLU(inplace=True)\n",
      "          )\n",
      "        )\n",
      "      )\n",
      "    )\n",
      "    (9): SPPF(\n",
      "      (cv1): Conv(\n",
      "        (conv): Conv2d(256, 128, kernel_size=(1, 1), stride=(1, 1), bias=False)\n",
      "        (bn): BatchNorm2d(128, eps=0.001, momentum=0.03, affine=True, track_running_stats=True)\n",
      "        (act): SiLU(inplace=True)\n",
      "      )\n",
      "      (cv2): Conv(\n",
      "        (conv): Conv2d(512, 256, kernel_size=(1, 1), stride=(1, 1), bias=False)\n",
      "        (bn): BatchNorm2d(256, eps=0.001, momentum=0.03, affine=True, track_running_stats=True)\n",
      "        (act): SiLU(inplace=True)\n",
      "      )\n",
      "      (m): MaxPool2d(kernel_size=5, stride=1, padding=2, dilation=1, ceil_mode=False)\n",
      "    )\n",
      "    (10): Upsample(scale_factor=2.0, mode='nearest')\n",
      "    (11): Concat()\n",
      "    (12): C2f(\n",
      "      (cv1): Conv(\n",
      "        (conv): Conv2d(384, 128, kernel_size=(1, 1), stride=(1, 1), bias=False)\n",
      "        (bn): BatchNorm2d(128, eps=0.001, momentum=0.03, affine=True, track_running_stats=True)\n",
      "        (act): SiLU(inplace=True)\n",
      "      )\n",
      "      (cv2): Conv(\n",
      "        (conv): Conv2d(192, 128, kernel_size=(1, 1), stride=(1, 1), bias=False)\n",
      "        (bn): BatchNorm2d(128, eps=0.001, momentum=0.03, affine=True, track_running_stats=True)\n",
      "        (act): SiLU(inplace=True)\n",
      "      )\n",
      "      (m): ModuleList(\n",
      "        (0): Bottleneck(\n",
      "          (cv1): Conv(\n",
      "            (conv): Conv2d(64, 64, kernel_size=(3, 3), stride=(1, 1), padding=(1, 1), bias=False)\n",
      "            (bn): BatchNorm2d(64, eps=0.001, momentum=0.03, affine=True, track_running_stats=True)\n",
      "            (act): SiLU(inplace=True)\n",
      "          )\n",
      "          (cv2): Conv(\n",
      "            (conv): Conv2d(64, 64, kernel_size=(3, 3), stride=(1, 1), padding=(1, 1), bias=False)\n",
      "            (bn): BatchNorm2d(64, eps=0.001, momentum=0.03, affine=True, track_running_stats=True)\n",
      "            (act): SiLU(inplace=True)\n",
      "          )\n",
      "        )\n",
      "      )\n",
      "    )\n",
      "    (13): Upsample(scale_factor=2.0, mode='nearest')\n",
      "    (14): Concat()\n",
      "    (15): C2f(\n",
      "      (cv1): Conv(\n",
      "        (conv): Conv2d(192, 64, kernel_size=(1, 1), stride=(1, 1), bias=False)\n",
      "        (bn): BatchNorm2d(64, eps=0.001, momentum=0.03, affine=True, track_running_stats=True)\n",
      "        (act): SiLU(inplace=True)\n",
      "      )\n",
      "      (cv2): Conv(\n",
      "        (conv): Conv2d(96, 64, kernel_size=(1, 1), stride=(1, 1), bias=False)\n",
      "        (bn): BatchNorm2d(64, eps=0.001, momentum=0.03, affine=True, track_running_stats=True)\n",
      "        (act): SiLU(inplace=True)\n",
      "      )\n",
      "      (m): ModuleList(\n",
      "        (0): Bottleneck(\n",
      "          (cv1): Conv(\n",
      "            (conv): Conv2d(32, 32, kernel_size=(3, 3), stride=(1, 1), padding=(1, 1), bias=False)\n",
      "            (bn): BatchNorm2d(32, eps=0.001, momentum=0.03, affine=True, track_running_stats=True)\n",
      "            (act): SiLU(inplace=True)\n",
      "          )\n",
      "          (cv2): Conv(\n",
      "            (conv): Conv2d(32, 32, kernel_size=(3, 3), stride=(1, 1), padding=(1, 1), bias=False)\n",
      "            (bn): BatchNorm2d(32, eps=0.001, momentum=0.03, affine=True, track_running_stats=True)\n",
      "            (act): SiLU(inplace=True)\n",
      "          )\n",
      "        )\n",
      "      )\n",
      "    )\n",
      "    (16): Conv(\n",
      "      (conv): Conv2d(64, 64, kernel_size=(3, 3), stride=(2, 2), padding=(1, 1), bias=False)\n",
      "      (bn): BatchNorm2d(64, eps=0.001, momentum=0.03, affine=True, track_running_stats=True)\n",
      "      (act): SiLU(inplace=True)\n",
      "    )\n",
      "    (17): Concat()\n",
      "    (18): C2f(\n",
      "      (cv1): Conv(\n",
      "        (conv): Conv2d(192, 128, kernel_size=(1, 1), stride=(1, 1), bias=False)\n",
      "        (bn): BatchNorm2d(128, eps=0.001, momentum=0.03, affine=True, track_running_stats=True)\n",
      "        (act): SiLU(inplace=True)\n",
      "      )\n",
      "      (cv2): Conv(\n",
      "        (conv): Conv2d(192, 128, kernel_size=(1, 1), stride=(1, 1), bias=False)\n",
      "        (bn): BatchNorm2d(128, eps=0.001, momentum=0.03, affine=True, track_running_stats=True)\n",
      "        (act): SiLU(inplace=True)\n",
      "      )\n",
      "      (m): ModuleList(\n",
      "        (0): Bottleneck(\n",
      "          (cv1): Conv(\n",
      "            (conv): Conv2d(64, 64, kernel_size=(3, 3), stride=(1, 1), padding=(1, 1), bias=False)\n",
      "            (bn): BatchNorm2d(64, eps=0.001, momentum=0.03, affine=True, track_running_stats=True)\n",
      "            (act): SiLU(inplace=True)\n",
      "          )\n",
      "          (cv2): Conv(\n",
      "            (conv): Conv2d(64, 64, kernel_size=(3, 3), stride=(1, 1), padding=(1, 1), bias=False)\n",
      "            (bn): BatchNorm2d(64, eps=0.001, momentum=0.03, affine=True, track_running_stats=True)\n",
      "            (act): SiLU(inplace=True)\n",
      "          )\n",
      "        )\n",
      "      )\n",
      "    )\n",
      "    (19): Conv(\n",
      "      (conv): Conv2d(128, 128, kernel_size=(3, 3), stride=(2, 2), padding=(1, 1), bias=False)\n",
      "      (bn): BatchNorm2d(128, eps=0.001, momentum=0.03, affine=True, track_running_stats=True)\n",
      "      (act): SiLU(inplace=True)\n",
      "    )\n",
      "    (20): Concat()\n",
      "    (21): C2f(\n",
      "      (cv1): Conv(\n",
      "        (conv): Conv2d(384, 256, kernel_size=(1, 1), stride=(1, 1), bias=False)\n",
      "        (bn): BatchNorm2d(256, eps=0.001, momentum=0.03, affine=True, track_running_stats=True)\n",
      "        (act): SiLU(inplace=True)\n",
      "      )\n",
      "      (cv2): Conv(\n",
      "        (conv): Conv2d(384, 256, kernel_size=(1, 1), stride=(1, 1), bias=False)\n",
      "        (bn): BatchNorm2d(256, eps=0.001, momentum=0.03, affine=True, track_running_stats=True)\n",
      "        (act): SiLU(inplace=True)\n",
      "      )\n",
      "      (m): ModuleList(\n",
      "        (0): Bottleneck(\n",
      "          (cv1): Conv(\n",
      "            (conv): Conv2d(128, 128, kernel_size=(3, 3), stride=(1, 1), padding=(1, 1), bias=False)\n",
      "            (bn): BatchNorm2d(128, eps=0.001, momentum=0.03, affine=True, track_running_stats=True)\n",
      "            (act): SiLU(inplace=True)\n",
      "          )\n",
      "          (cv2): Conv(\n",
      "            (conv): Conv2d(128, 128, kernel_size=(3, 3), stride=(1, 1), padding=(1, 1), bias=False)\n",
      "            (bn): BatchNorm2d(128, eps=0.001, momentum=0.03, affine=True, track_running_stats=True)\n",
      "            (act): SiLU(inplace=True)\n",
      "          )\n",
      "        )\n",
      "      )\n",
      "    )\n",
      "    (22): Detect(\n",
      "      (cv2): ModuleList(\n",
      "        (0): Sequential(\n",
      "          (0): Conv(\n",
      "            (conv): Conv2d(64, 64, kernel_size=(3, 3), stride=(1, 1), padding=(1, 1), bias=False)\n",
      "            (bn): BatchNorm2d(64, eps=0.001, momentum=0.03, affine=True, track_running_stats=True)\n",
      "            (act): SiLU(inplace=True)\n",
      "          )\n",
      "          (1): Conv(\n",
      "            (conv): Conv2d(64, 64, kernel_size=(3, 3), stride=(1, 1), padding=(1, 1), bias=False)\n",
      "            (bn): BatchNorm2d(64, eps=0.001, momentum=0.03, affine=True, track_running_stats=True)\n",
      "            (act): SiLU(inplace=True)\n",
      "          )\n",
      "          (2): Conv2d(64, 64, kernel_size=(1, 1), stride=(1, 1))\n",
      "        )\n",
      "        (1): Sequential(\n",
      "          (0): Conv(\n",
      "            (conv): Conv2d(128, 64, kernel_size=(3, 3), stride=(1, 1), padding=(1, 1), bias=False)\n",
      "            (bn): BatchNorm2d(64, eps=0.001, momentum=0.03, affine=True, track_running_stats=True)\n",
      "            (act): SiLU(inplace=True)\n",
      "          )\n",
      "          (1): Conv(\n",
      "            (conv): Conv2d(64, 64, kernel_size=(3, 3), stride=(1, 1), padding=(1, 1), bias=False)\n",
      "            (bn): BatchNorm2d(64, eps=0.001, momentum=0.03, affine=True, track_running_stats=True)\n",
      "            (act): SiLU(inplace=True)\n",
      "          )\n",
      "          (2): Conv2d(64, 64, kernel_size=(1, 1), stride=(1, 1))\n",
      "        )\n",
      "        (2): Sequential(\n",
      "          (0): Conv(\n",
      "            (conv): Conv2d(256, 64, kernel_size=(3, 3), stride=(1, 1), padding=(1, 1), bias=False)\n",
      "            (bn): BatchNorm2d(64, eps=0.001, momentum=0.03, affine=True, track_running_stats=True)\n",
      "            (act): SiLU(inplace=True)\n",
      "          )\n",
      "          (1): Conv(\n",
      "            (conv): Conv2d(64, 64, kernel_size=(3, 3), stride=(1, 1), padding=(1, 1), bias=False)\n",
      "            (bn): BatchNorm2d(64, eps=0.001, momentum=0.03, affine=True, track_running_stats=True)\n",
      "            (act): SiLU(inplace=True)\n",
      "          )\n",
      "          (2): Conv2d(64, 64, kernel_size=(1, 1), stride=(1, 1))\n",
      "        )\n",
      "      )\n",
      "      (cv3): ModuleList(\n",
      "        (0): Sequential(\n",
      "          (0): Conv(\n",
      "            (conv): Conv2d(64, 80, kernel_size=(3, 3), stride=(1, 1), padding=(1, 1), bias=False)\n",
      "            (bn): BatchNorm2d(80, eps=0.001, momentum=0.03, affine=True, track_running_stats=True)\n",
      "            (act): SiLU(inplace=True)\n",
      "          )\n",
      "          (1): Conv(\n",
      "            (conv): Conv2d(80, 80, kernel_size=(3, 3), stride=(1, 1), padding=(1, 1), bias=False)\n",
      "            (bn): BatchNorm2d(80, eps=0.001, momentum=0.03, affine=True, track_running_stats=True)\n",
      "            (act): SiLU(inplace=True)\n",
      "          )\n",
      "          (2): Conv2d(80, 80, kernel_size=(1, 1), stride=(1, 1))\n",
      "        )\n",
      "        (1): Sequential(\n",
      "          (0): Conv(\n",
      "            (conv): Conv2d(128, 80, kernel_size=(3, 3), stride=(1, 1), padding=(1, 1), bias=False)\n",
      "            (bn): BatchNorm2d(80, eps=0.001, momentum=0.03, affine=True, track_running_stats=True)\n",
      "            (act): SiLU(inplace=True)\n",
      "          )\n",
      "          (1): Conv(\n",
      "            (conv): Conv2d(80, 80, kernel_size=(3, 3), stride=(1, 1), padding=(1, 1), bias=False)\n",
      "            (bn): BatchNorm2d(80, eps=0.001, momentum=0.03, affine=True, track_running_stats=True)\n",
      "            (act): SiLU(inplace=True)\n",
      "          )\n",
      "          (2): Conv2d(80, 80, kernel_size=(1, 1), stride=(1, 1))\n",
      "        )\n",
      "        (2): Sequential(\n",
      "          (0): Conv(\n",
      "            (conv): Conv2d(256, 80, kernel_size=(3, 3), stride=(1, 1), padding=(1, 1), bias=False)\n",
      "            (bn): BatchNorm2d(80, eps=0.001, momentum=0.03, affine=True, track_running_stats=True)\n",
      "            (act): SiLU(inplace=True)\n",
      "          )\n",
      "          (1): Conv(\n",
      "            (conv): Conv2d(80, 80, kernel_size=(3, 3), stride=(1, 1), padding=(1, 1), bias=False)\n",
      "            (bn): BatchNorm2d(80, eps=0.001, momentum=0.03, affine=True, track_running_stats=True)\n",
      "            (act): SiLU(inplace=True)\n",
      "          )\n",
      "          (2): Conv2d(80, 80, kernel_size=(1, 1), stride=(1, 1))\n",
      "        )\n",
      "      )\n",
      "      (dfl): DFL(\n",
      "        (conv): Conv2d(16, 1, kernel_size=(1, 1), stride=(1, 1), bias=False)\n",
      "      )\n",
      "    )\n",
      "  )\n",
      ")\n",
      "New https://pypi.org/project/ultralytics/8.3.86 available  Update with 'pip install -U ultralytics'\n",
      "Ultralytics 8.3.70  Python-3.11.11 torch-2.7.0.dev20250127+cu126 CUDA:0 (NVIDIA GeForce RTX 3050 Laptop GPU, 4096MiB)\n",
      "\u001b[34m\u001b[1mengine\\trainer: \u001b[0mtask=detect, mode=train, model=YOLOv8n.pt, data=tomatOD_yolo/data.yaml, epochs=25, time=None, patience=100, batch=16, imgsz=300, save=True, save_period=1, cache=False, device=0, workers=0, project=runs/detect, name=tomatOD_run_effnet2, exist_ok=False, pretrained=True, optimizer=SGD, verbose=True, seed=0, deterministic=True, single_cls=False, rect=False, cos_lr=False, close_mosaic=10, resume=False, amp=True, fraction=1.0, profile=False, freeze=None, multi_scale=False, overlap_mask=True, mask_ratio=4, dropout=0.0, val=True, split=val, save_json=False, save_hybrid=False, conf=None, iou=0.7, max_det=300, half=False, dnn=False, plots=True, source=None, vid_stride=1, stream_buffer=False, visualize=False, augment=False, agnostic_nms=False, classes=None, retina_masks=False, embed=None, show=False, save_frames=False, save_txt=False, save_conf=False, save_crop=False, show_labels=True, show_conf=True, show_boxes=True, line_width=None, format=torchscript, keras=False, optimize=False, int8=False, dynamic=False, simplify=True, opset=None, workspace=None, nms=False, lr0=0.01, lrf=0.0001, momentum=0.9, weight_decay=0.0005, warmup_epochs=3.0, warmup_momentum=0.8, warmup_bias_lr=0.1, box=7.5, cls=0.5, dfl=1.5, pose=12.0, kobj=1.0, nbs=64, hsv_h=0.015, hsv_s=0.7, hsv_v=0.4, degrees=0.0, translate=0.1, scale=0.5, shear=0.0, perspective=0.0, flipud=0.0, fliplr=0.5, bgr=0.0, mosaic=1.0, mixup=0.0, copy_paste=0.0, copy_paste_mode=flip, auto_augment=randaugment, erasing=0.4, crop_fraction=1.0, cfg=None, tracker=botsort.yaml, save_dir=runs\\detect\\tomatOD_run_effnet2\n",
      "Overriding model.yaml nc=80 with nc=3\n",
      "\n",
      "                   from  n    params  module                                       arguments                     \n",
      "  0                  -1  1       464  ultralytics.nn.modules.conv.Conv             [3, 16, 3, 2]                 \n",
      "  1                  -1  1      4672  ultralytics.nn.modules.conv.Conv             [16, 32, 3, 2]                \n",
      "  2                  -1  1      7360  ultralytics.nn.modules.block.C2f             [32, 32, 1, True]             \n",
      "  3                  -1  1     18560  ultralytics.nn.modules.conv.Conv             [32, 64, 3, 2]                \n",
      "  4                  -1  2     49664  ultralytics.nn.modules.block.C2f             [64, 64, 2, True]             \n",
      "  5                  -1  1     73984  ultralytics.nn.modules.conv.Conv             [64, 128, 3, 2]               \n",
      "  6                  -1  2    197632  ultralytics.nn.modules.block.C2f             [128, 128, 2, True]           \n",
      "  7                  -1  1    295424  ultralytics.nn.modules.conv.Conv             [128, 256, 3, 2]              \n",
      "  8                  -1  1    460288  ultralytics.nn.modules.block.C2f             [256, 256, 1, True]           \n",
      "  9                  -1  1    164608  ultralytics.nn.modules.block.SPPF            [256, 256, 5]                 \n",
      " 10                  -1  1         0  torch.nn.modules.upsampling.Upsample         [None, 2, 'nearest']          \n",
      " 11             [-1, 6]  1         0  ultralytics.nn.modules.conv.Concat           [1]                           \n",
      " 12                  -1  1    148224  ultralytics.nn.modules.block.C2f             [384, 128, 1]                 \n",
      " 13                  -1  1         0  torch.nn.modules.upsampling.Upsample         [None, 2, 'nearest']          \n",
      " 14             [-1, 4]  1         0  ultralytics.nn.modules.conv.Concat           [1]                           \n",
      " 15                  -1  1     37248  ultralytics.nn.modules.block.C2f             [192, 64, 1]                  \n",
      " 16                  -1  1     36992  ultralytics.nn.modules.conv.Conv             [64, 64, 3, 2]                \n",
      " 17            [-1, 12]  1         0  ultralytics.nn.modules.conv.Concat           [1]                           \n",
      " 18                  -1  1    123648  ultralytics.nn.modules.block.C2f             [192, 128, 1]                 \n",
      " 19                  -1  1    147712  ultralytics.nn.modules.conv.Conv             [128, 128, 3, 2]              \n",
      " 20             [-1, 9]  1         0  ultralytics.nn.modules.conv.Concat           [1]                           \n",
      " 21                  -1  1    493056  ultralytics.nn.modules.block.C2f             [384, 256, 1]                 \n",
      " 22        [15, 18, 21]  1    751897  ultralytics.nn.modules.head.Detect           [3, [64, 128, 256]]           \n",
      "Model summary: 225 layers, 3,011,433 parameters, 3,011,417 gradients, 8.2 GFLOPs\n",
      "\n",
      "Transferred 313/355 items from pretrained weights\n",
      "Freezing layer 'model.22.dfl.conv.weight'\n",
      "\u001b[34m\u001b[1mAMP: \u001b[0mrunning Automatic Mixed Precision (AMP) checks...\n",
      "\u001b[34m\u001b[1mAMP: \u001b[0mchecks passed \n",
      "WARNING  imgsz=[300] must be multiple of max stride 32, updating to [320]\n"
     ]
    },
    {
     "name": "stderr",
     "output_type": "stream",
     "text": [
      "\u001b[34m\u001b[1mtrain: \u001b[0mScanning D:\\YOLOV8-tomatod\\tomatOD_yolo\\train\\labels.cache... 200 images, 0 backgrounds, 0 corrupt: 100%|███████\u001b[0m"
     ]
    },
    {
     "name": "stdout",
     "output_type": "stream",
     "text": [
      "\u001b[34m\u001b[1mtrain: \u001b[0mWARNING  D:\\YOLOV8-tomatod\\tomatOD_yolo\\train\\images\\stereo20190405_133623_p1_snap_036.jpg: 1 duplicate labels removed\n",
      "\u001b[34m\u001b[1mtrain: \u001b[0mWARNING  D:\\YOLOV8-tomatod\\tomatOD_yolo\\train\\images\\stereo20190405_133623_p2_snap_087.jpg: 2 duplicate labels removed\n",
      "\u001b[34m\u001b[1mtrain: \u001b[0mWARNING  D:\\YOLOV8-tomatod\\tomatOD_yolo\\train\\images\\stereo20190406_054921_p0_snap_414.jpg: 1 duplicate labels removed\n",
      "\u001b[34m\u001b[1mtrain: \u001b[0mWARNING  D:\\YOLOV8-tomatod\\tomatOD_yolo\\train\\images\\stereo20190406_054921_p0_snap_544.jpg: 1 duplicate labels removed\n",
      "\u001b[34m\u001b[1mtrain: \u001b[0mWARNING  D:\\YOLOV8-tomatod\\tomatOD_yolo\\train\\images\\stereo20190406_054921_p0_snap_822.jpg: 1 duplicate labels removed\n"
     ]
    },
    {
     "name": "stderr",
     "output_type": "stream",
     "text": [
      "\n",
      "\u001b[34m\u001b[1mval: \u001b[0mScanning D:\\YOLOV8-tomatod\\tomatOD_yolo\\val\\labels.cache... 22 images, 0 backgrounds, 0 corrupt: 100%|██████████| \u001b[0m"
     ]
    },
    {
     "name": "stdout",
     "output_type": "stream",
     "text": [
      "\u001b[34m\u001b[1mval: \u001b[0mWARNING  D:\\YOLOV8-tomatod\\tomatOD_yolo\\val\\images\\stereo20190405_133623_p2_snap_043.jpg: 1 duplicate labels removed\n",
      "\u001b[34m\u001b[1mval: \u001b[0mWARNING  D:\\YOLOV8-tomatod\\tomatOD_yolo\\val\\images\\stereo20190406_065607_p0_snap_080.jpg: 1 duplicate labels removed\n",
      "Plotting labels to runs\\detect\\tomatOD_run_effnet2\\labels.jpg... \n"
     ]
    },
    {
     "name": "stderr",
     "output_type": "stream",
     "text": [
      "\n"
     ]
    },
    {
     "name": "stdout",
     "output_type": "stream",
     "text": [
      "\u001b[34m\u001b[1moptimizer:\u001b[0m SGD(lr=0.01, momentum=0.9) with parameter groups 57 weight(decay=0.0), 64 weight(decay=0.0005), 63 bias(decay=0.0)\n",
      "Image sizes 320 train, 320 val\n",
      "Using 0 dataloader workers\n",
      "Logging results to \u001b[1mruns\\detect\\tomatOD_run_effnet2\u001b[0m\n",
      "Starting training for 25 epochs...\n",
      "\n",
      "      Epoch    GPU_mem   box_loss   cls_loss   dfl_loss  Instances       Size\n"
     ]
    },
    {
     "name": "stderr",
     "output_type": "stream",
     "text": [
      "       1/25      0.65G       3.02      4.456      1.518         85        320: 100%|██████████| 13/13 [00:06<00:00,  2.\n",
      "                 Class     Images  Instances      Box(P          R      mAP50  mAP50-95): 100%|██████████| 1/1 [00:00<0"
     ]
    },
    {
     "name": "stdout",
     "output_type": "stream",
     "text": [
      "                   all         22        245          0          0          0          0\n"
     ]
    },
    {
     "name": "stderr",
     "output_type": "stream",
     "text": [
      "\n"
     ]
    },
    {
     "name": "stdout",
     "output_type": "stream",
     "text": [
      "\n",
      "      Epoch    GPU_mem   box_loss   cls_loss   dfl_loss  Instances       Size\n"
     ]
    },
    {
     "name": "stderr",
     "output_type": "stream",
     "text": [
      "       2/25     0.619G      2.283      4.139      1.161         90        320: 100%|██████████| 13/13 [00:04<00:00,  2.\n",
      "                 Class     Images  Instances      Box(P          R      mAP50  mAP50-95): 100%|██████████| 1/1 [00:00<0"
     ]
    },
    {
     "name": "stdout",
     "output_type": "stream",
     "text": [
      "                   all         22        245          0          0          0          0\n"
     ]
    },
    {
     "name": "stderr",
     "output_type": "stream",
     "text": [
      "\n"
     ]
    },
    {
     "name": "stdout",
     "output_type": "stream",
     "text": [
      "\n",
      "      Epoch    GPU_mem   box_loss   cls_loss   dfl_loss  Instances       Size\n"
     ]
    },
    {
     "name": "stderr",
     "output_type": "stream",
     "text": [
      "       3/25     0.623G      2.079      3.346      1.048         74        320: 100%|██████████| 13/13 [00:04<00:00,  2.\n",
      "                 Class     Images  Instances      Box(P          R      mAP50  mAP50-95): 100%|██████████| 1/1 [00:00<0"
     ]
    },
    {
     "name": "stdout",
     "output_type": "stream",
     "text": [
      "                   all         22        245   0.000508     0.0115   0.000266    6.8e-05\n"
     ]
    },
    {
     "name": "stderr",
     "output_type": "stream",
     "text": [
      "\n"
     ]
    },
    {
     "name": "stdout",
     "output_type": "stream",
     "text": [
      "\n",
      "      Epoch    GPU_mem   box_loss   cls_loss   dfl_loss  Instances       Size\n"
     ]
    },
    {
     "name": "stderr",
     "output_type": "stream",
     "text": [
      "       4/25     0.619G      1.995      2.426      1.038         93        320: 100%|██████████| 13/13 [00:04<00:00,  3.\n",
      "                 Class     Images  Instances      Box(P          R      mAP50  mAP50-95): 100%|██████████| 1/1 [00:00<0"
     ]
    },
    {
     "name": "stdout",
     "output_type": "stream",
     "text": [
      "                   all         22        245    0.00362     0.0307    0.00242   0.000767\n"
     ]
    },
    {
     "name": "stderr",
     "output_type": "stream",
     "text": [
      "\n"
     ]
    },
    {
     "name": "stdout",
     "output_type": "stream",
     "text": [
      "\n",
      "      Epoch    GPU_mem   box_loss   cls_loss   dfl_loss  Instances       Size\n"
     ]
    },
    {
     "name": "stderr",
     "output_type": "stream",
     "text": [
      "       5/25     0.621G      2.055      2.076      1.027         51        320: 100%|██████████| 13/13 [00:04<00:00,  3.\n",
      "                 Class     Images  Instances      Box(P          R      mAP50  mAP50-95): 100%|██████████| 1/1 [00:00<0"
     ]
    },
    {
     "name": "stdout",
     "output_type": "stream",
     "text": [
      "                   all         22        245    0.00557     0.0729     0.0149    0.00563\n"
     ]
    },
    {
     "name": "stderr",
     "output_type": "stream",
     "text": [
      "\n"
     ]
    },
    {
     "name": "stdout",
     "output_type": "stream",
     "text": [
      "\n",
      "      Epoch    GPU_mem   box_loss   cls_loss   dfl_loss  Instances       Size\n"
     ]
    },
    {
     "name": "stderr",
     "output_type": "stream",
     "text": [
      "       6/25      0.61G      2.021      1.859      1.021        124        320: 100%|██████████| 13/13 [00:04<00:00,  3.\n",
      "                 Class     Images  Instances      Box(P          R      mAP50  mAP50-95): 100%|██████████| 1/1 [00:00<0"
     ]
    },
    {
     "name": "stdout",
     "output_type": "stream",
     "text": [
      "                   all         22        245     0.0103      0.222     0.0412     0.0232\n"
     ]
    },
    {
     "name": "stderr",
     "output_type": "stream",
     "text": [
      "\n"
     ]
    },
    {
     "name": "stdout",
     "output_type": "stream",
     "text": [
      "\n",
      "      Epoch    GPU_mem   box_loss   cls_loss   dfl_loss  Instances       Size\n"
     ]
    },
    {
     "name": "stderr",
     "output_type": "stream",
     "text": [
      "       7/25     0.621G      1.973      1.789      1.016         76        320: 100%|██████████| 13/13 [00:04<00:00,  3.\n",
      "                 Class     Images  Instances      Box(P          R      mAP50  mAP50-95): 100%|██████████| 1/1 [00:00<0"
     ]
    },
    {
     "name": "stdout",
     "output_type": "stream",
     "text": [
      "                   all         22        245    0.00954      0.225     0.0372     0.0167\n"
     ]
    },
    {
     "name": "stderr",
     "output_type": "stream",
     "text": [
      "\n"
     ]
    },
    {
     "name": "stdout",
     "output_type": "stream",
     "text": [
      "\n",
      "      Epoch    GPU_mem   box_loss   cls_loss   dfl_loss  Instances       Size\n"
     ]
    },
    {
     "name": "stderr",
     "output_type": "stream",
     "text": [
      "       8/25     0.623G      1.974      1.636      1.019         99        320: 100%|██████████| 13/13 [00:04<00:00,  2.\n",
      "                 Class     Images  Instances      Box(P          R      mAP50  mAP50-95): 100%|██████████| 1/1 [00:00<0"
     ]
    },
    {
     "name": "stdout",
     "output_type": "stream",
     "text": [
      "                   all         22        245      0.919     0.0298      0.165     0.0742\n"
     ]
    },
    {
     "name": "stderr",
     "output_type": "stream",
     "text": [
      "\n"
     ]
    },
    {
     "name": "stdout",
     "output_type": "stream",
     "text": [
      "\n",
      "      Epoch    GPU_mem   box_loss   cls_loss   dfl_loss  Instances       Size\n"
     ]
    },
    {
     "name": "stderr",
     "output_type": "stream",
     "text": [
      "       9/25     0.619G      1.883      1.674      1.006         37        320: 100%|██████████| 13/13 [00:04<00:00,  3.\n",
      "                 Class     Images  Instances      Box(P          R      mAP50  mAP50-95): 100%|██████████| 1/1 [00:00<0"
     ]
    },
    {
     "name": "stdout",
     "output_type": "stream",
     "text": [
      "                   all         22        245       0.68      0.145      0.316      0.167\n"
     ]
    },
    {
     "name": "stderr",
     "output_type": "stream",
     "text": [
      "\n"
     ]
    },
    {
     "name": "stdout",
     "output_type": "stream",
     "text": [
      "\n",
      "      Epoch    GPU_mem   box_loss   cls_loss   dfl_loss  Instances       Size\n"
     ]
    },
    {
     "name": "stderr",
     "output_type": "stream",
     "text": [
      "      10/25      0.65G      1.853      1.506     0.9905        106        320: 100%|██████████| 13/13 [00:04<00:00,  3.\n",
      "                 Class     Images  Instances      Box(P          R      mAP50  mAP50-95): 100%|██████████| 1/1 [00:00<0"
     ]
    },
    {
     "name": "stdout",
     "output_type": "stream",
     "text": [
      "                   all         22        245      0.635       0.45      0.499      0.209\n"
     ]
    },
    {
     "name": "stderr",
     "output_type": "stream",
     "text": [
      "\n"
     ]
    },
    {
     "name": "stdout",
     "output_type": "stream",
     "text": [
      "\n",
      "      Epoch    GPU_mem   box_loss   cls_loss   dfl_loss  Instances       Size\n"
     ]
    },
    {
     "name": "stderr",
     "output_type": "stream",
     "text": [
      "      11/25     0.617G      1.865      1.482     0.9868         65        320: 100%|██████████| 13/13 [00:04<00:00,  3.\n",
      "                 Class     Images  Instances      Box(P          R      mAP50  mAP50-95): 100%|██████████| 1/1 [00:00<0"
     ]
    },
    {
     "name": "stdout",
     "output_type": "stream",
     "text": [
      "                   all         22        245      0.569      0.486      0.533      0.242\n"
     ]
    },
    {
     "name": "stderr",
     "output_type": "stream",
     "text": [
      "\n"
     ]
    },
    {
     "name": "stdout",
     "output_type": "stream",
     "text": [
      "\n",
      "      Epoch    GPU_mem   box_loss   cls_loss   dfl_loss  Instances       Size\n"
     ]
    },
    {
     "name": "stderr",
     "output_type": "stream",
     "text": [
      "      12/25      0.61G      1.876      1.447     0.9728         83        320: 100%|██████████| 13/13 [00:04<00:00,  3.\n",
      "                 Class     Images  Instances      Box(P          R      mAP50  mAP50-95): 100%|██████████| 1/1 [00:00<0"
     ]
    },
    {
     "name": "stdout",
     "output_type": "stream",
     "text": [
      "                   all         22        245      0.555      0.599      0.593      0.302\n"
     ]
    },
    {
     "name": "stderr",
     "output_type": "stream",
     "text": [
      "\n"
     ]
    },
    {
     "name": "stdout",
     "output_type": "stream",
     "text": [
      "\n",
      "      Epoch    GPU_mem   box_loss   cls_loss   dfl_loss  Instances       Size\n"
     ]
    },
    {
     "name": "stderr",
     "output_type": "stream",
     "text": [
      "      13/25     0.617G      1.791      1.369     0.9642         95        320: 100%|██████████| 13/13 [00:04<00:00,  3.\n",
      "                 Class     Images  Instances      Box(P          R      mAP50  mAP50-95): 100%|██████████| 1/1 [00:00<0"
     ]
    },
    {
     "name": "stdout",
     "output_type": "stream",
     "text": [
      "                   all         22        245      0.534      0.596      0.572      0.284\n"
     ]
    },
    {
     "name": "stderr",
     "output_type": "stream",
     "text": [
      "\n"
     ]
    },
    {
     "name": "stdout",
     "output_type": "stream",
     "text": [
      "\n",
      "      Epoch    GPU_mem   box_loss   cls_loss   dfl_loss  Instances       Size\n"
     ]
    },
    {
     "name": "stderr",
     "output_type": "stream",
     "text": [
      "      14/25     0.648G      1.666      1.344     0.9686         84        320: 100%|██████████| 13/13 [00:04<00:00,  3.\n",
      "                 Class     Images  Instances      Box(P          R      mAP50  mAP50-95): 100%|██████████| 1/1 [00:00<0"
     ]
    },
    {
     "name": "stdout",
     "output_type": "stream",
     "text": [
      "                   all         22        245      0.539      0.644      0.632      0.329\n"
     ]
    },
    {
     "name": "stderr",
     "output_type": "stream",
     "text": [
      "\n"
     ]
    },
    {
     "name": "stdout",
     "output_type": "stream",
     "text": [
      "\n",
      "      Epoch    GPU_mem   box_loss   cls_loss   dfl_loss  Instances       Size\n"
     ]
    },
    {
     "name": "stderr",
     "output_type": "stream",
     "text": [
      "      15/25     0.623G       1.68      1.319     0.9486        106        320: 100%|██████████| 13/13 [00:04<00:00,  3.\n",
      "                 Class     Images  Instances      Box(P          R      mAP50  mAP50-95): 100%|██████████| 1/1 [00:00<0"
     ]
    },
    {
     "name": "stdout",
     "output_type": "stream",
     "text": [
      "                   all         22        245      0.586      0.748      0.675      0.383\n"
     ]
    },
    {
     "name": "stderr",
     "output_type": "stream",
     "text": [
      "\n"
     ]
    },
    {
     "name": "stdout",
     "output_type": "stream",
     "text": [
      "Closing dataloader mosaic\n",
      "\n",
      "      Epoch    GPU_mem   box_loss   cls_loss   dfl_loss  Instances       Size\n"
     ]
    },
    {
     "name": "stderr",
     "output_type": "stream",
     "text": [
      "      16/25     0.606G      1.597        1.3     0.9581         78        320: 100%|██████████| 13/13 [00:04<00:00,  3.\n",
      "                 Class     Images  Instances      Box(P          R      mAP50  mAP50-95): 100%|██████████| 1/1 [00:00<0"
     ]
    },
    {
     "name": "stdout",
     "output_type": "stream",
     "text": [
      "                   all         22        245       0.57      0.743      0.669      0.367\n"
     ]
    },
    {
     "name": "stderr",
     "output_type": "stream",
     "text": [
      "\n"
     ]
    },
    {
     "name": "stdout",
     "output_type": "stream",
     "text": [
      "\n",
      "      Epoch    GPU_mem   box_loss   cls_loss   dfl_loss  Instances       Size\n"
     ]
    },
    {
     "name": "stderr",
     "output_type": "stream",
     "text": [
      "      17/25     0.587G      1.552       1.28     0.9367         41        320: 100%|██████████| 13/13 [00:04<00:00,  3.\n",
      "                 Class     Images  Instances      Box(P          R      mAP50  mAP50-95): 100%|██████████| 1/1 [00:00<0"
     ]
    },
    {
     "name": "stdout",
     "output_type": "stream",
     "text": [
      "                   all         22        245      0.607      0.707      0.681      0.391\n"
     ]
    },
    {
     "name": "stderr",
     "output_type": "stream",
     "text": [
      "\n"
     ]
    },
    {
     "name": "stdout",
     "output_type": "stream",
     "text": [
      "\n",
      "      Epoch    GPU_mem   box_loss   cls_loss   dfl_loss  Instances       Size\n"
     ]
    },
    {
     "name": "stderr",
     "output_type": "stream",
     "text": [
      "      18/25     0.608G      1.589      1.254      0.935         60        320: 100%|██████████| 13/13 [00:04<00:00,  3.\n",
      "                 Class     Images  Instances      Box(P          R      mAP50  mAP50-95): 100%|██████████| 1/1 [00:00<0"
     ]
    },
    {
     "name": "stdout",
     "output_type": "stream",
     "text": [
      "                   all         22        245      0.586       0.79       0.71      0.408\n"
     ]
    },
    {
     "name": "stderr",
     "output_type": "stream",
     "text": [
      "\n"
     ]
    },
    {
     "name": "stdout",
     "output_type": "stream",
     "text": [
      "\n",
      "      Epoch    GPU_mem   box_loss   cls_loss   dfl_loss  Instances       Size\n"
     ]
    },
    {
     "name": "stderr",
     "output_type": "stream",
     "text": [
      "      19/25     0.593G      1.499      1.186     0.9345         61        320: 100%|██████████| 13/13 [00:04<00:00,  3.\n",
      "                 Class     Images  Instances      Box(P          R      mAP50  mAP50-95): 100%|██████████| 1/1 [00:00<0"
     ]
    },
    {
     "name": "stdout",
     "output_type": "stream",
     "text": [
      "                   all         22        245      0.585       0.84      0.713       0.41\n"
     ]
    },
    {
     "name": "stderr",
     "output_type": "stream",
     "text": [
      "\n"
     ]
    },
    {
     "name": "stdout",
     "output_type": "stream",
     "text": [
      "\n",
      "      Epoch    GPU_mem   box_loss   cls_loss   dfl_loss  Instances       Size\n"
     ]
    },
    {
     "name": "stderr",
     "output_type": "stream",
     "text": [
      "      20/25     0.598G      1.528      1.205     0.9231         66        320: 100%|██████████| 13/13 [00:03<00:00,  3.\n",
      "                 Class     Images  Instances      Box(P          R      mAP50  mAP50-95): 100%|██████████| 1/1 [00:00<0"
     ]
    },
    {
     "name": "stdout",
     "output_type": "stream",
     "text": [
      "                   all         22        245      0.576       0.84      0.718      0.424\n"
     ]
    },
    {
     "name": "stderr",
     "output_type": "stream",
     "text": [
      "\n"
     ]
    },
    {
     "name": "stdout",
     "output_type": "stream",
     "text": [
      "\n",
      "      Epoch    GPU_mem   box_loss   cls_loss   dfl_loss  Instances       Size\n"
     ]
    },
    {
     "name": "stderr",
     "output_type": "stream",
     "text": [
      "      21/25     0.587G      1.487      1.163     0.9287         61        320: 100%|██████████| 13/13 [00:04<00:00,  3.\n",
      "                 Class     Images  Instances      Box(P          R      mAP50  mAP50-95): 100%|██████████| 1/1 [00:00<0"
     ]
    },
    {
     "name": "stdout",
     "output_type": "stream",
     "text": [
      "                   all         22        245      0.598      0.795      0.712      0.422\n"
     ]
    },
    {
     "name": "stderr",
     "output_type": "stream",
     "text": [
      "\n"
     ]
    },
    {
     "name": "stdout",
     "output_type": "stream",
     "text": [
      "\n",
      "      Epoch    GPU_mem   box_loss   cls_loss   dfl_loss  Instances       Size\n"
     ]
    },
    {
     "name": "stderr",
     "output_type": "stream",
     "text": [
      "      22/25      0.61G      1.445      1.158     0.9245         75        320: 100%|██████████| 13/13 [00:03<00:00,  3.\n",
      "                 Class     Images  Instances      Box(P          R      mAP50  mAP50-95): 100%|██████████| 1/1 [00:00<0"
     ]
    },
    {
     "name": "stdout",
     "output_type": "stream",
     "text": [
      "                   all         22        245      0.652      0.789      0.709      0.428\n"
     ]
    },
    {
     "name": "stderr",
     "output_type": "stream",
     "text": [
      "\n"
     ]
    },
    {
     "name": "stdout",
     "output_type": "stream",
     "text": [
      "\n",
      "      Epoch    GPU_mem   box_loss   cls_loss   dfl_loss  Instances       Size\n"
     ]
    },
    {
     "name": "stderr",
     "output_type": "stream",
     "text": [
      "      23/25     0.598G      1.402      1.104     0.9196         48        320: 100%|██████████| 13/13 [00:04<00:00,  3.\n",
      "                 Class     Images  Instances      Box(P          R      mAP50  mAP50-95): 100%|██████████| 1/1 [00:00<0"
     ]
    },
    {
     "name": "stdout",
     "output_type": "stream",
     "text": [
      "                   all         22        245      0.631      0.775      0.699      0.406\n"
     ]
    },
    {
     "name": "stderr",
     "output_type": "stream",
     "text": [
      "\n"
     ]
    },
    {
     "name": "stdout",
     "output_type": "stream",
     "text": [
      "\n",
      "      Epoch    GPU_mem   box_loss   cls_loss   dfl_loss  Instances       Size\n"
     ]
    },
    {
     "name": "stderr",
     "output_type": "stream",
     "text": [
      "      24/25     0.598G      1.418      1.157     0.9066         78        320: 100%|██████████| 13/13 [00:04<00:00,  2.\n",
      "                 Class     Images  Instances      Box(P          R      mAP50  mAP50-95): 100%|██████████| 1/1 [00:00<0"
     ]
    },
    {
     "name": "stdout",
     "output_type": "stream",
     "text": [
      "                   all         22        245      0.654      0.772      0.718      0.422\n"
     ]
    },
    {
     "name": "stderr",
     "output_type": "stream",
     "text": [
      "\n"
     ]
    },
    {
     "name": "stdout",
     "output_type": "stream",
     "text": [
      "\n",
      "      Epoch    GPU_mem   box_loss   cls_loss   dfl_loss  Instances       Size\n"
     ]
    },
    {
     "name": "stderr",
     "output_type": "stream",
     "text": [
      "      25/25     0.587G       1.43      1.146     0.9199         67        320: 100%|██████████| 13/13 [00:04<00:00,  3.\n",
      "                 Class     Images  Instances      Box(P          R      mAP50  mAP50-95): 100%|██████████| 1/1 [00:00<0"
     ]
    },
    {
     "name": "stdout",
     "output_type": "stream",
     "text": [
      "                   all         22        245      0.664       0.76      0.722      0.428\n"
     ]
    },
    {
     "name": "stderr",
     "output_type": "stream",
     "text": [
      "\n"
     ]
    },
    {
     "name": "stdout",
     "output_type": "stream",
     "text": [
      "\n",
      "25 epochs completed in 0.041 hours.\n",
      "Optimizer stripped from runs\\detect\\tomatOD_run_effnet2\\weights\\last.pt, 6.2MB\n",
      "Optimizer stripped from runs\\detect\\tomatOD_run_effnet2\\weights\\best.pt, 6.2MB\n",
      "\n",
      "Validating runs\\detect\\tomatOD_run_effnet2\\weights\\best.pt...\n",
      "Ultralytics 8.3.70  Python-3.11.11 torch-2.7.0.dev20250127+cu126 CUDA:0 (NVIDIA GeForce RTX 3050 Laptop GPU, 4096MiB)\n",
      "Model summary (fused): 168 layers, 3,006,233 parameters, 0 gradients, 8.1 GFLOPs\n"
     ]
    },
    {
     "name": "stderr",
     "output_type": "stream",
     "text": [
      "                 Class     Images  Instances      Box(P          R      mAP50  mAP50-95): 100%|██████████| 1/1 [00:00<0\n"
     ]
    },
    {
     "name": "stdout",
     "output_type": "stream",
     "text": [
      "                   all         22        245      0.671      0.754      0.722      0.428\n",
      "                unripe         22        173      0.824      0.844      0.912      0.529\n",
      "             semi-ripe         17         37      0.635      0.565      0.613      0.404\n",
      "            fully-ripe         16         35      0.555      0.854       0.64      0.352\n",
      "Speed: 0.0ms preprocess, 5.6ms inference, 0.0ms loss, 1.9ms postprocess per image\n",
      "Results saved to \u001b[1mruns\\detect\\tomatOD_run_effnet2\u001b[0m\n",
      "WARNING  imgsz=[300] must be multiple of max stride 32, updating to [320]\n",
      "Ultralytics 8.3.70  Python-3.11.11 torch-2.7.0.dev20250127+cu126 CUDA:0 (NVIDIA GeForce RTX 3050 Laptop GPU, 4096MiB)\n",
      "Model summary (fused): 168 layers, 3,006,233 parameters, 0 gradients, 8.1 GFLOPs\n"
     ]
    },
    {
     "name": "stderr",
     "output_type": "stream",
     "text": [
      "\u001b[34m\u001b[1mval: \u001b[0mScanning D:\\YOLOV8-tomatod\\tomatOD_yolo\\val\\labels.cache... 22 images, 0 backgrounds, 0 corrupt: 100%|██████████| \u001b[0m"
     ]
    },
    {
     "name": "stdout",
     "output_type": "stream",
     "text": [
      "\u001b[34m\u001b[1mval: \u001b[0mWARNING  D:\\YOLOV8-tomatod\\tomatOD_yolo\\val\\images\\stereo20190405_133623_p2_snap_043.jpg: 1 duplicate labels removed\n",
      "\u001b[34m\u001b[1mval: \u001b[0mWARNING  D:\\YOLOV8-tomatod\\tomatOD_yolo\\val\\images\\stereo20190406_065607_p0_snap_080.jpg: 1 duplicate labels removed\n"
     ]
    },
    {
     "name": "stderr",
     "output_type": "stream",
     "text": [
      "\n",
      "                 Class     Images  Instances      Box(P          R      mAP50  mAP50-95): 100%|██████████| 22/22 [00:00"
     ]
    },
    {
     "name": "stdout",
     "output_type": "stream",
     "text": [
      "                   all         22        245          0          0          0          0\n"
     ]
    },
    {
     "name": "stderr",
     "output_type": "stream",
     "text": [
      "\n"
     ]
    },
    {
     "name": "stdout",
     "output_type": "stream",
     "text": [
      "Speed: 2.8ms preprocess, 15.2ms inference, 0.0ms loss, 0.6ms postprocess per image\n",
      "Results saved to \u001b[1mruns\\detect\\tomatOD_run_effnet_epoch_1_val2\u001b[0m\n",
      "WARNING  imgsz=[300] must be multiple of max stride 32, updating to [320]\n",
      "Ultralytics 8.3.70  Python-3.11.11 torch-2.7.0.dev20250127+cu126 CUDA:0 (NVIDIA GeForce RTX 3050 Laptop GPU, 4096MiB)\n"
     ]
    },
    {
     "name": "stderr",
     "output_type": "stream",
     "text": [
      "\u001b[34m\u001b[1mval: \u001b[0mScanning D:\\YOLOV8-tomatod\\tomatOD_yolo\\test\\labels.cache... 55 images, 0 backgrounds, 0 corrupt: 100%|██████████|\u001b[0m\n",
      "                 Class     Images  Instances      Box(P          R      mAP50  mAP50-95): 100%|██████████| 55/55 [00:02"
     ]
    },
    {
     "name": "stdout",
     "output_type": "stream",
     "text": [
      "                   all         55        468          0          0          0          0\n"
     ]
    },
    {
     "name": "stderr",
     "output_type": "stream",
     "text": [
      "\n"
     ]
    },
    {
     "name": "stdout",
     "output_type": "stream",
     "text": [
      "Speed: 2.0ms preprocess, 15.1ms inference, 0.0ms loss, 0.5ms postprocess per image\n",
      "Results saved to \u001b[1mruns\\detect\\tomatOD_run_effnet_epoch_1_test2\u001b[0m\n",
      "WARNING  imgsz=[300] must be multiple of max stride 32, updating to [320]\n",
      "Ultralytics 8.3.70  Python-3.11.11 torch-2.7.0.dev20250127+cu126 CUDA:0 (NVIDIA GeForce RTX 3050 Laptop GPU, 4096MiB)\n",
      "Model summary (fused): 168 layers, 3,006,233 parameters, 0 gradients, 8.1 GFLOPs\n"
     ]
    },
    {
     "name": "stderr",
     "output_type": "stream",
     "text": [
      "\u001b[34m\u001b[1mval: \u001b[0mScanning D:\\YOLOV8-tomatod\\tomatOD_yolo\\val\\labels.cache... 22 images, 0 backgrounds, 0 corrupt: 100%|██████████| \u001b[0m"
     ]
    },
    {
     "name": "stdout",
     "output_type": "stream",
     "text": [
      "\u001b[34m\u001b[1mval: \u001b[0mWARNING  D:\\YOLOV8-tomatod\\tomatOD_yolo\\val\\images\\stereo20190405_133623_p2_snap_043.jpg: 1 duplicate labels removed\n",
      "\u001b[34m\u001b[1mval: \u001b[0mWARNING  D:\\YOLOV8-tomatod\\tomatOD_yolo\\val\\images\\stereo20190406_065607_p0_snap_080.jpg: 1 duplicate labels removed\n"
     ]
    },
    {
     "name": "stderr",
     "output_type": "stream",
     "text": [
      "\n",
      "                 Class     Images  Instances      Box(P          R      mAP50  mAP50-95): 100%|██████████| 22/22 [00:00"
     ]
    },
    {
     "name": "stdout",
     "output_type": "stream",
     "text": [
      "                   all         22        245          0          0          0          0\n"
     ]
    },
    {
     "name": "stderr",
     "output_type": "stream",
     "text": [
      "\n"
     ]
    },
    {
     "name": "stdout",
     "output_type": "stream",
     "text": [
      "Speed: 2.2ms preprocess, 14.9ms inference, 0.0ms loss, 0.9ms postprocess per image\n",
      "Results saved to \u001b[1mruns\\detect\\tomatOD_run_effnet_epoch_2_val2\u001b[0m\n",
      "WARNING  imgsz=[300] must be multiple of max stride 32, updating to [320]\n",
      "Ultralytics 8.3.70  Python-3.11.11 torch-2.7.0.dev20250127+cu126 CUDA:0 (NVIDIA GeForce RTX 3050 Laptop GPU, 4096MiB)\n"
     ]
    },
    {
     "name": "stderr",
     "output_type": "stream",
     "text": [
      "\u001b[34m\u001b[1mval: \u001b[0mScanning D:\\YOLOV8-tomatod\\tomatOD_yolo\\test\\labels.cache... 55 images, 0 backgrounds, 0 corrupt: 100%|██████████|\u001b[0m\n",
      "                 Class     Images  Instances      Box(P          R      mAP50  mAP50-95): 100%|██████████| 55/55 [00:02"
     ]
    },
    {
     "name": "stdout",
     "output_type": "stream",
     "text": [
      "                   all         55        468          0          0          0          0\n"
     ]
    },
    {
     "name": "stderr",
     "output_type": "stream",
     "text": [
      "\n"
     ]
    },
    {
     "name": "stdout",
     "output_type": "stream",
     "text": [
      "Speed: 2.2ms preprocess, 14.6ms inference, 0.0ms loss, 1.0ms postprocess per image\n",
      "Results saved to \u001b[1mruns\\detect\\tomatOD_run_effnet_epoch_2_test2\u001b[0m\n",
      "WARNING  imgsz=[300] must be multiple of max stride 32, updating to [320]\n",
      "Ultralytics 8.3.70  Python-3.11.11 torch-2.7.0.dev20250127+cu126 CUDA:0 (NVIDIA GeForce RTX 3050 Laptop GPU, 4096MiB)\n",
      "Model summary (fused): 168 layers, 3,006,233 parameters, 0 gradients, 8.1 GFLOPs\n"
     ]
    },
    {
     "name": "stderr",
     "output_type": "stream",
     "text": [
      "\u001b[34m\u001b[1mval: \u001b[0mScanning D:\\YOLOV8-tomatod\\tomatOD_yolo\\val\\labels.cache... 22 images, 0 backgrounds, 0 corrupt: 100%|██████████| \u001b[0m"
     ]
    },
    {
     "name": "stdout",
     "output_type": "stream",
     "text": [
      "\u001b[34m\u001b[1mval: \u001b[0mWARNING  D:\\YOLOV8-tomatod\\tomatOD_yolo\\val\\images\\stereo20190405_133623_p2_snap_043.jpg: 1 duplicate labels removed\n",
      "\u001b[34m\u001b[1mval: \u001b[0mWARNING  D:\\YOLOV8-tomatod\\tomatOD_yolo\\val\\images\\stereo20190406_065607_p0_snap_080.jpg: 1 duplicate labels removed\n"
     ]
    },
    {
     "name": "stderr",
     "output_type": "stream",
     "text": [
      "\n",
      "                 Class     Images  Instances      Box(P          R      mAP50  mAP50-95): 100%|██████████| 22/22 [00:00"
     ]
    },
    {
     "name": "stdout",
     "output_type": "stream",
     "text": [
      "                   all         22        245          0          0          0          0\n"
     ]
    },
    {
     "name": "stderr",
     "output_type": "stream",
     "text": [
      "\n"
     ]
    },
    {
     "name": "stdout",
     "output_type": "stream",
     "text": [
      "Speed: 2.1ms preprocess, 15.1ms inference, 0.0ms loss, 0.9ms postprocess per image\n",
      "Results saved to \u001b[1mruns\\detect\\tomatOD_run_effnet_epoch_3_val2\u001b[0m\n",
      "WARNING  imgsz=[300] must be multiple of max stride 32, updating to [320]\n",
      "Ultralytics 8.3.70  Python-3.11.11 torch-2.7.0.dev20250127+cu126 CUDA:0 (NVIDIA GeForce RTX 3050 Laptop GPU, 4096MiB)\n"
     ]
    },
    {
     "name": "stderr",
     "output_type": "stream",
     "text": [
      "\u001b[34m\u001b[1mval: \u001b[0mScanning D:\\YOLOV8-tomatod\\tomatOD_yolo\\test\\labels.cache... 55 images, 0 backgrounds, 0 corrupt: 100%|██████████|\u001b[0m\n",
      "                 Class     Images  Instances      Box(P          R      mAP50  mAP50-95): 100%|██████████| 55/55 [00:02\n"
     ]
    },
    {
     "name": "stdout",
     "output_type": "stream",
     "text": [
      "                   all         55        468      0.111    0.00114      0.056     0.0336\n",
      "                unripe         55        292      0.333    0.00342      0.168      0.101\n",
      "             semi-ripe         37         77          0          0          0          0\n",
      "            fully-ripe         48         99          0          0          0          0\n",
      "Speed: 2.2ms preprocess, 14.8ms inference, 0.0ms loss, 1.1ms postprocess per image\n",
      "Saving runs\\detect\\tomatOD_run_effnet_epoch_3_test2\\predictions.json...\n",
      "Results saved to \u001b[1mruns\\detect\\tomatOD_run_effnet_epoch_3_test2\u001b[0m\n",
      "WARNING  imgsz=[300] must be multiple of max stride 32, updating to [320]\n",
      "Ultralytics 8.3.70  Python-3.11.11 torch-2.7.0.dev20250127+cu126 CUDA:0 (NVIDIA GeForce RTX 3050 Laptop GPU, 4096MiB)\n",
      "Model summary (fused): 168 layers, 3,006,233 parameters, 0 gradients, 8.1 GFLOPs\n"
     ]
    },
    {
     "name": "stderr",
     "output_type": "stream",
     "text": [
      "\u001b[34m\u001b[1mval: \u001b[0mScanning D:\\YOLOV8-tomatod\\tomatOD_yolo\\val\\labels.cache... 22 images, 0 backgrounds, 0 corrupt: 100%|██████████| \u001b[0m"
     ]
    },
    {
     "name": "stdout",
     "output_type": "stream",
     "text": [
      "\u001b[34m\u001b[1mval: \u001b[0mWARNING  D:\\YOLOV8-tomatod\\tomatOD_yolo\\val\\images\\stereo20190405_133623_p2_snap_043.jpg: 1 duplicate labels removed\n",
      "\u001b[34m\u001b[1mval: \u001b[0mWARNING  D:\\YOLOV8-tomatod\\tomatOD_yolo\\val\\images\\stereo20190406_065607_p0_snap_080.jpg: 1 duplicate labels removed\n"
     ]
    },
    {
     "name": "stderr",
     "output_type": "stream",
     "text": [
      "\n",
      "                 Class     Images  Instances      Box(P          R      mAP50  mAP50-95): 100%|██████████| 22/22 [00:01\n"
     ]
    },
    {
     "name": "stdout",
     "output_type": "stream",
     "text": [
      "                   all         22        245      0.167     0.0116     0.0882     0.0395\n",
      "                unripe         22        173        0.5     0.0347      0.264      0.119\n",
      "             semi-ripe         17         37          0          0          0          0\n",
      "            fully-ripe         16         35          0          0          0          0\n",
      "Speed: 2.0ms preprocess, 15.9ms inference, 0.0ms loss, 1.2ms postprocess per image\n",
      "Saving runs\\detect\\tomatOD_run_effnet_epoch_4_val2\\predictions.json...\n",
      "Results saved to \u001b[1mruns\\detect\\tomatOD_run_effnet_epoch_4_val2\u001b[0m\n",
      "WARNING  imgsz=[300] must be multiple of max stride 32, updating to [320]\n",
      "Ultralytics 8.3.70  Python-3.11.11 torch-2.7.0.dev20250127+cu126 CUDA:0 (NVIDIA GeForce RTX 3050 Laptop GPU, 4096MiB)\n"
     ]
    },
    {
     "name": "stderr",
     "output_type": "stream",
     "text": [
      "\u001b[34m\u001b[1mval: \u001b[0mScanning D:\\YOLOV8-tomatod\\tomatOD_yolo\\test\\labels.cache... 55 images, 0 backgrounds, 0 corrupt: 100%|██████████|\u001b[0m\n",
      "                 Class     Images  Instances      Box(P          R      mAP50  mAP50-95): 100%|██████████| 55/55 [00:02\n"
     ]
    },
    {
     "name": "stdout",
     "output_type": "stream",
     "text": [
      "                   all         55        468      0.152    0.00571     0.0778     0.0328\n",
      "                unripe         55        292      0.455     0.0171      0.233     0.0983\n",
      "             semi-ripe         37         77          0          0          0          0\n",
      "            fully-ripe         48         99          0          0          0          0\n",
      "Speed: 2.3ms preprocess, 16.3ms inference, 0.0ms loss, 0.6ms postprocess per image\n",
      "Saving runs\\detect\\tomatOD_run_effnet_epoch_4_test2\\predictions.json...\n",
      "Results saved to \u001b[1mruns\\detect\\tomatOD_run_effnet_epoch_4_test2\u001b[0m\n",
      "WARNING  imgsz=[300] must be multiple of max stride 32, updating to [320]\n",
      "Ultralytics 8.3.70  Python-3.11.11 torch-2.7.0.dev20250127+cu126 CUDA:0 (NVIDIA GeForce RTX 3050 Laptop GPU, 4096MiB)\n",
      "Model summary (fused): 168 layers, 3,006,233 parameters, 0 gradients, 8.1 GFLOPs\n"
     ]
    },
    {
     "name": "stderr",
     "output_type": "stream",
     "text": [
      "\u001b[34m\u001b[1mval: \u001b[0mScanning D:\\YOLOV8-tomatod\\tomatOD_yolo\\val\\labels.cache... 22 images, 0 backgrounds, 0 corrupt: 100%|██████████| \u001b[0m"
     ]
    },
    {
     "name": "stdout",
     "output_type": "stream",
     "text": [
      "\u001b[34m\u001b[1mval: \u001b[0mWARNING  D:\\YOLOV8-tomatod\\tomatOD_yolo\\val\\images\\stereo20190405_133623_p2_snap_043.jpg: 1 duplicate labels removed\n",
      "\u001b[34m\u001b[1mval: \u001b[0mWARNING  D:\\YOLOV8-tomatod\\tomatOD_yolo\\val\\images\\stereo20190406_065607_p0_snap_080.jpg: 1 duplicate labels removed\n"
     ]
    },
    {
     "name": "stderr",
     "output_type": "stream",
     "text": [
      "\n",
      "                 Class     Images  Instances      Box(P          R      mAP50  mAP50-95): 100%|██████████| 22/22 [00:01\n"
     ]
    },
    {
     "name": "stdout",
     "output_type": "stream",
     "text": [
      "                   all         22        245      0.328     0.0365      0.178      0.123\n",
      "                unripe         22        173      0.483     0.0809      0.276      0.164\n",
      "             semi-ripe         17         37          0          0          0          0\n",
      "            fully-ripe         16         35        0.5     0.0286      0.257      0.206\n",
      "Speed: 2.4ms preprocess, 16.7ms inference, 0.0ms loss, 1.3ms postprocess per image\n",
      "Saving runs\\detect\\tomatOD_run_effnet_epoch_5_val2\\predictions.json...\n",
      "Results saved to \u001b[1mruns\\detect\\tomatOD_run_effnet_epoch_5_val2\u001b[0m\n",
      "WARNING  imgsz=[300] must be multiple of max stride 32, updating to [320]\n",
      "Ultralytics 8.3.70  Python-3.11.11 torch-2.7.0.dev20250127+cu126 CUDA:0 (NVIDIA GeForce RTX 3050 Laptop GPU, 4096MiB)\n"
     ]
    },
    {
     "name": "stderr",
     "output_type": "stream",
     "text": [
      "\u001b[34m\u001b[1mval: \u001b[0mScanning D:\\YOLOV8-tomatod\\tomatOD_yolo\\test\\labels.cache... 55 images, 0 backgrounds, 0 corrupt: 100%|██████████|\u001b[0m\n",
      "                 Class     Images  Instances      Box(P          R      mAP50  mAP50-95): 100%|██████████| 55/55 [00:02\n"
     ]
    },
    {
     "name": "stdout",
     "output_type": "stream",
     "text": [
      "                   all         55        468      0.321     0.0249      0.172     0.0806\n",
      "                unripe         55        292      0.464     0.0445      0.253      0.102\n",
      "             semi-ripe         37         77          0          0          0          0\n",
      "            fully-ripe         48         99        0.5     0.0303      0.262      0.139\n",
      "Speed: 1.7ms preprocess, 14.7ms inference, 0.0ms loss, 0.8ms postprocess per image\n",
      "Saving runs\\detect\\tomatOD_run_effnet_epoch_5_test2\\predictions.json...\n",
      "Results saved to \u001b[1mruns\\detect\\tomatOD_run_effnet_epoch_5_test2\u001b[0m\n",
      "WARNING  imgsz=[300] must be multiple of max stride 32, updating to [320]\n",
      "Ultralytics 8.3.70  Python-3.11.11 torch-2.7.0.dev20250127+cu126 CUDA:0 (NVIDIA GeForce RTX 3050 Laptop GPU, 4096MiB)\n",
      "Model summary (fused): 168 layers, 3,006,233 parameters, 0 gradients, 8.1 GFLOPs\n"
     ]
    },
    {
     "name": "stderr",
     "output_type": "stream",
     "text": [
      "\u001b[34m\u001b[1mval: \u001b[0mScanning D:\\YOLOV8-tomatod\\tomatOD_yolo\\val\\labels.cache... 22 images, 0 backgrounds, 0 corrupt: 100%|██████████| \u001b[0m"
     ]
    },
    {
     "name": "stdout",
     "output_type": "stream",
     "text": [
      "\u001b[34m\u001b[1mval: \u001b[0mWARNING  D:\\YOLOV8-tomatod\\tomatOD_yolo\\val\\images\\stereo20190405_133623_p2_snap_043.jpg: 1 duplicate labels removed\n",
      "\u001b[34m\u001b[1mval: \u001b[0mWARNING  D:\\YOLOV8-tomatod\\tomatOD_yolo\\val\\images\\stereo20190406_065607_p0_snap_080.jpg: 1 duplicate labels removed\n"
     ]
    },
    {
     "name": "stderr",
     "output_type": "stream",
     "text": [
      "\n",
      "                 Class     Images  Instances      Box(P          R      mAP50  mAP50-95): 100%|██████████| 22/22 [00:01\n"
     ]
    },
    {
     "name": "stdout",
     "output_type": "stream",
     "text": [
      "                   all         22        245      0.473     0.0346      0.251      0.141\n",
      "                unripe         22        173      0.419     0.0751       0.24      0.114\n",
      "             semi-ripe         17         37          0          0          0          0\n",
      "            fully-ripe         16         35          1     0.0286      0.514      0.309\n",
      "Speed: 3.4ms preprocess, 16.9ms inference, 0.0ms loss, 1.4ms postprocess per image\n",
      "Saving runs\\detect\\tomatOD_run_effnet_epoch_6_val2\\predictions.json...\n",
      "Results saved to \u001b[1mruns\\detect\\tomatOD_run_effnet_epoch_6_val2\u001b[0m\n",
      "WARNING  imgsz=[300] must be multiple of max stride 32, updating to [320]\n",
      "Ultralytics 8.3.70  Python-3.11.11 torch-2.7.0.dev20250127+cu126 CUDA:0 (NVIDIA GeForce RTX 3050 Laptop GPU, 4096MiB)\n"
     ]
    },
    {
     "name": "stderr",
     "output_type": "stream",
     "text": [
      "\u001b[34m\u001b[1mval: \u001b[0mScanning D:\\YOLOV8-tomatod\\tomatOD_yolo\\test\\labels.cache... 55 images, 0 backgrounds, 0 corrupt: 100%|██████████|\u001b[0m\n",
      "                 Class     Images  Instances      Box(P          R      mAP50  mAP50-95): 100%|██████████| 55/55 [00:02\n"
     ]
    },
    {
     "name": "stdout",
     "output_type": "stream",
     "text": [
      "                   all         55        468       0.33     0.0204      0.177     0.0721\n",
      "                unripe         55        292      0.324     0.0411      0.182     0.0776\n",
      "             semi-ripe         37         77          0          0          0          0\n",
      "            fully-ripe         48         99      0.667     0.0202      0.348      0.139\n",
      "Speed: 1.8ms preprocess, 15.0ms inference, 0.0ms loss, 0.9ms postprocess per image\n",
      "Saving runs\\detect\\tomatOD_run_effnet_epoch_6_test2\\predictions.json...\n",
      "Results saved to \u001b[1mruns\\detect\\tomatOD_run_effnet_epoch_6_test2\u001b[0m\n",
      "WARNING  imgsz=[300] must be multiple of max stride 32, updating to [320]\n",
      "Ultralytics 8.3.70  Python-3.11.11 torch-2.7.0.dev20250127+cu126 CUDA:0 (NVIDIA GeForce RTX 3050 Laptop GPU, 4096MiB)\n",
      "Model summary (fused): 168 layers, 3,006,233 parameters, 0 gradients, 8.1 GFLOPs\n"
     ]
    },
    {
     "name": "stderr",
     "output_type": "stream",
     "text": [
      "\u001b[34m\u001b[1mval: \u001b[0mScanning D:\\YOLOV8-tomatod\\tomatOD_yolo\\val\\labels.cache... 22 images, 0 backgrounds, 0 corrupt: 100%|██████████| \u001b[0m"
     ]
    },
    {
     "name": "stdout",
     "output_type": "stream",
     "text": [
      "\u001b[34m\u001b[1mval: \u001b[0mWARNING  D:\\YOLOV8-tomatod\\tomatOD_yolo\\val\\images\\stereo20190405_133623_p2_snap_043.jpg: 1 duplicate labels removed\n",
      "\u001b[34m\u001b[1mval: \u001b[0mWARNING  D:\\YOLOV8-tomatod\\tomatOD_yolo\\val\\images\\stereo20190406_065607_p0_snap_080.jpg: 1 duplicate labels removed\n"
     ]
    },
    {
     "name": "stderr",
     "output_type": "stream",
     "text": [
      "\n",
      "                 Class     Images  Instances      Box(P          R      mAP50  mAP50-95): 100%|██████████| 22/22 [00:01\n"
     ]
    },
    {
     "name": "stdout",
     "output_type": "stream",
     "text": [
      "                   all         22        245      0.598      0.186      0.379      0.196\n",
      "                unripe         22        173      0.593      0.277      0.426      0.188\n",
      "             semi-ripe         17         37        0.5     0.0811      0.291      0.204\n",
      "            fully-ripe         16         35        0.7        0.2       0.42      0.197\n",
      "Speed: 1.8ms preprocess, 15.5ms inference, 0.0ms loss, 1.4ms postprocess per image\n",
      "Saving runs\\detect\\tomatOD_run_effnet_epoch_7_val2\\predictions.json...\n",
      "Results saved to \u001b[1mruns\\detect\\tomatOD_run_effnet_epoch_7_val2\u001b[0m\n",
      "WARNING  imgsz=[300] must be multiple of max stride 32, updating to [320]\n",
      "Ultralytics 8.3.70  Python-3.11.11 torch-2.7.0.dev20250127+cu126 CUDA:0 (NVIDIA GeForce RTX 3050 Laptop GPU, 4096MiB)\n"
     ]
    },
    {
     "name": "stderr",
     "output_type": "stream",
     "text": [
      "\u001b[34m\u001b[1mval: \u001b[0mScanning D:\\YOLOV8-tomatod\\tomatOD_yolo\\test\\labels.cache... 55 images, 0 backgrounds, 0 corrupt: 100%|██████████|\u001b[0m\n",
      "                 Class     Images  Instances      Box(P          R      mAP50  mAP50-95): 100%|██████████| 55/55 [00:02\n"
     ]
    },
    {
     "name": "stdout",
     "output_type": "stream",
     "text": [
      "                   all         55        468      0.457      0.108      0.278      0.164\n",
      "                unripe         55        292      0.372      0.144      0.254     0.0979\n",
      "             semi-ripe         37         77        0.3      0.039      0.174      0.144\n",
      "            fully-ripe         48         99        0.7      0.141      0.407       0.25\n",
      "Speed: 1.8ms preprocess, 16.8ms inference, 0.0ms loss, 1.1ms postprocess per image\n",
      "Saving runs\\detect\\tomatOD_run_effnet_epoch_7_test2\\predictions.json...\n",
      "Results saved to \u001b[1mruns\\detect\\tomatOD_run_effnet_epoch_7_test2\u001b[0m\n",
      "WARNING  imgsz=[300] must be multiple of max stride 32, updating to [320]\n",
      "Ultralytics 8.3.70  Python-3.11.11 torch-2.7.0.dev20250127+cu126 CUDA:0 (NVIDIA GeForce RTX 3050 Laptop GPU, 4096MiB)\n",
      "Model summary (fused): 168 layers, 3,006,233 parameters, 0 gradients, 8.1 GFLOPs\n"
     ]
    },
    {
     "name": "stderr",
     "output_type": "stream",
     "text": [
      "\u001b[34m\u001b[1mval: \u001b[0mScanning D:\\YOLOV8-tomatod\\tomatOD_yolo\\val\\labels.cache... 22 images, 0 backgrounds, 0 corrupt: 100%|██████████| \u001b[0m"
     ]
    },
    {
     "name": "stdout",
     "output_type": "stream",
     "text": [
      "\u001b[34m\u001b[1mval: \u001b[0mWARNING  D:\\YOLOV8-tomatod\\tomatOD_yolo\\val\\images\\stereo20190405_133623_p2_snap_043.jpg: 1 duplicate labels removed\n",
      "\u001b[34m\u001b[1mval: \u001b[0mWARNING  D:\\YOLOV8-tomatod\\tomatOD_yolo\\val\\images\\stereo20190406_065607_p0_snap_080.jpg: 1 duplicate labels removed\n"
     ]
    },
    {
     "name": "stderr",
     "output_type": "stream",
     "text": [
      "\n",
      "                 Class     Images  Instances      Box(P          R      mAP50  mAP50-95): 100%|██████████| 22/22 [00:01\n"
     ]
    },
    {
     "name": "stdout",
     "output_type": "stream",
     "text": [
      "                   all         22        245      0.481      0.404      0.421      0.245\n",
      "                unripe         22        173      0.675      0.457      0.574      0.292\n",
      "             semi-ripe         17         37      0.324      0.297      0.287      0.199\n",
      "            fully-ripe         16         35      0.444      0.457      0.401      0.244\n",
      "Speed: 1.4ms preprocess, 18.0ms inference, 0.0ms loss, 1.6ms postprocess per image\n",
      "Saving runs\\detect\\tomatOD_run_effnet_epoch_8_val2\\predictions.json...\n",
      "Results saved to \u001b[1mruns\\detect\\tomatOD_run_effnet_epoch_8_val2\u001b[0m\n",
      "WARNING  imgsz=[300] must be multiple of max stride 32, updating to [320]\n",
      "Ultralytics 8.3.70  Python-3.11.11 torch-2.7.0.dev20250127+cu126 CUDA:0 (NVIDIA GeForce RTX 3050 Laptop GPU, 4096MiB)\n"
     ]
    },
    {
     "name": "stderr",
     "output_type": "stream",
     "text": [
      "\u001b[34m\u001b[1mval: \u001b[0mScanning D:\\YOLOV8-tomatod\\tomatOD_yolo\\test\\labels.cache... 55 images, 0 backgrounds, 0 corrupt: 100%|██████████|\u001b[0m\n",
      "                 Class     Images  Instances      Box(P          R      mAP50  mAP50-95): 100%|██████████| 55/55 [00:02\n"
     ]
    },
    {
     "name": "stdout",
     "output_type": "stream",
     "text": [
      "                   all         55        468      0.474      0.374      0.399      0.209\n",
      "                unripe         55        292      0.538      0.312      0.445      0.206\n",
      "             semi-ripe         37         77      0.293      0.286      0.221      0.136\n",
      "            fully-ripe         48         99      0.591      0.525       0.53      0.287\n",
      "Speed: 2.1ms preprocess, 14.8ms inference, 0.0ms loss, 2.0ms postprocess per image\n",
      "Saving runs\\detect\\tomatOD_run_effnet_epoch_8_test2\\predictions.json...\n",
      "Results saved to \u001b[1mruns\\detect\\tomatOD_run_effnet_epoch_8_test2\u001b[0m\n",
      "WARNING  imgsz=[300] must be multiple of max stride 32, updating to [320]\n",
      "Ultralytics 8.3.70  Python-3.11.11 torch-2.7.0.dev20250127+cu126 CUDA:0 (NVIDIA GeForce RTX 3050 Laptop GPU, 4096MiB)\n",
      "Model summary (fused): 168 layers, 3,006,233 parameters, 0 gradients, 8.1 GFLOPs\n"
     ]
    },
    {
     "name": "stderr",
     "output_type": "stream",
     "text": [
      "\u001b[34m\u001b[1mval: \u001b[0mScanning D:\\YOLOV8-tomatod\\tomatOD_yolo\\val\\labels.cache... 22 images, 0 backgrounds, 0 corrupt: 100%|██████████| \u001b[0m"
     ]
    },
    {
     "name": "stdout",
     "output_type": "stream",
     "text": [
      "\u001b[34m\u001b[1mval: \u001b[0mWARNING  D:\\YOLOV8-tomatod\\tomatOD_yolo\\val\\images\\stereo20190405_133623_p2_snap_043.jpg: 1 duplicate labels removed\n",
      "\u001b[34m\u001b[1mval: \u001b[0mWARNING  D:\\YOLOV8-tomatod\\tomatOD_yolo\\val\\images\\stereo20190406_065607_p0_snap_080.jpg: 1 duplicate labels removed\n"
     ]
    },
    {
     "name": "stderr",
     "output_type": "stream",
     "text": [
      "\n",
      "                 Class     Images  Instances      Box(P          R      mAP50  mAP50-95): 100%|██████████| 22/22 [00:01\n"
     ]
    },
    {
     "name": "stdout",
     "output_type": "stream",
     "text": [
      "                   all         22        245      0.558      0.561      0.531      0.234\n",
      "                unripe         22        173      0.705      0.653      0.726      0.331\n",
      "             semi-ripe         17         37      0.392      0.405      0.308      0.174\n",
      "            fully-ripe         16         35      0.578      0.625      0.558      0.197\n",
      "Speed: 2.5ms preprocess, 17.8ms inference, 0.0ms loss, 1.3ms postprocess per image\n",
      "Saving runs\\detect\\tomatOD_run_effnet_epoch_9_val2\\predictions.json...\n",
      "Results saved to \u001b[1mruns\\detect\\tomatOD_run_effnet_epoch_9_val2\u001b[0m\n",
      "WARNING  imgsz=[300] must be multiple of max stride 32, updating to [320]\n",
      "Ultralytics 8.3.70  Python-3.11.11 torch-2.7.0.dev20250127+cu126 CUDA:0 (NVIDIA GeForce RTX 3050 Laptop GPU, 4096MiB)\n"
     ]
    },
    {
     "name": "stderr",
     "output_type": "stream",
     "text": [
      "\u001b[34m\u001b[1mval: \u001b[0mScanning D:\\YOLOV8-tomatod\\tomatOD_yolo\\test\\labels.cache... 55 images, 0 backgrounds, 0 corrupt: 100%|██████████|\u001b[0m\n",
      "                 Class     Images  Instances      Box(P          R      mAP50  mAP50-95): 100%|██████████| 55/55 [00:02\n"
     ]
    },
    {
     "name": "stdout",
     "output_type": "stream",
     "text": [
      "                   all         55        468      0.479       0.63      0.528      0.231\n",
      "                unripe         55        292      0.569       0.63      0.635      0.268\n",
      "             semi-ripe         37         77      0.293      0.494      0.313      0.165\n",
      "            fully-ripe         48         99      0.574      0.768      0.635      0.261\n",
      "Speed: 2.0ms preprocess, 15.1ms inference, 0.0ms loss, 2.1ms postprocess per image\n",
      "Saving runs\\detect\\tomatOD_run_effnet_epoch_9_test2\\predictions.json...\n",
      "Results saved to \u001b[1mruns\\detect\\tomatOD_run_effnet_epoch_9_test2\u001b[0m\n",
      "WARNING  imgsz=[300] must be multiple of max stride 32, updating to [320]\n",
      "Ultralytics 8.3.70  Python-3.11.11 torch-2.7.0.dev20250127+cu126 CUDA:0 (NVIDIA GeForce RTX 3050 Laptop GPU, 4096MiB)\n",
      "Model summary (fused): 168 layers, 3,006,233 parameters, 0 gradients, 8.1 GFLOPs\n"
     ]
    },
    {
     "name": "stderr",
     "output_type": "stream",
     "text": [
      "\u001b[34m\u001b[1mval: \u001b[0mScanning D:\\YOLOV8-tomatod\\tomatOD_yolo\\val\\labels.cache... 22 images, 0 backgrounds, 0 corrupt: 100%|██████████| \u001b[0m"
     ]
    },
    {
     "name": "stdout",
     "output_type": "stream",
     "text": [
      "\u001b[34m\u001b[1mval: \u001b[0mWARNING  D:\\YOLOV8-tomatod\\tomatOD_yolo\\val\\images\\stereo20190405_133623_p2_snap_043.jpg: 1 duplicate labels removed\n",
      "\u001b[34m\u001b[1mval: \u001b[0mWARNING  D:\\YOLOV8-tomatod\\tomatOD_yolo\\val\\images\\stereo20190406_065607_p0_snap_080.jpg: 1 duplicate labels removed\n"
     ]
    },
    {
     "name": "stderr",
     "output_type": "stream",
     "text": [
      "\n",
      "                 Class     Images  Instances      Box(P          R      mAP50  mAP50-95): 100%|██████████| 22/22 [00:01\n"
     ]
    },
    {
     "name": "stdout",
     "output_type": "stream",
     "text": [
      "                   all         22        245      0.602      0.498      0.548      0.261\n",
      "                unripe         22        173      0.692      0.741      0.747      0.331\n",
      "             semi-ripe         17         37      0.473      0.291      0.327      0.174\n",
      "            fully-ripe         16         35      0.642      0.461       0.57      0.277\n",
      "Speed: 1.5ms preprocess, 16.1ms inference, 0.1ms loss, 2.7ms postprocess per image\n",
      "Saving runs\\detect\\tomatOD_run_effnet_epoch_10_val2\\predictions.json...\n",
      "Results saved to \u001b[1mruns\\detect\\tomatOD_run_effnet_epoch_10_val2\u001b[0m\n",
      "WARNING  imgsz=[300] must be multiple of max stride 32, updating to [320]\n",
      "Ultralytics 8.3.70  Python-3.11.11 torch-2.7.0.dev20250127+cu126 CUDA:0 (NVIDIA GeForce RTX 3050 Laptop GPU, 4096MiB)\n"
     ]
    },
    {
     "name": "stderr",
     "output_type": "stream",
     "text": [
      "\u001b[34m\u001b[1mval: \u001b[0mScanning D:\\YOLOV8-tomatod\\tomatOD_yolo\\test\\labels.cache... 55 images, 0 backgrounds, 0 corrupt: 100%|██████████|\u001b[0m\n",
      "                 Class     Images  Instances      Box(P          R      mAP50  mAP50-95): 100%|██████████| 55/55 [00:02\n"
     ]
    },
    {
     "name": "stdout",
     "output_type": "stream",
     "text": [
      "                   all         55        468      0.525      0.484        0.5      0.222\n",
      "                unripe         55        292      0.593      0.623      0.609      0.245\n",
      "             semi-ripe         37         77      0.296      0.273       0.25      0.134\n",
      "            fully-ripe         48         99      0.687      0.556      0.641      0.287\n",
      "Speed: 2.5ms preprocess, 15.5ms inference, 0.0ms loss, 1.5ms postprocess per image\n",
      "Saving runs\\detect\\tomatOD_run_effnet_epoch_10_test2\\predictions.json...\n",
      "Results saved to \u001b[1mruns\\detect\\tomatOD_run_effnet_epoch_10_test2\u001b[0m\n",
      "WARNING  imgsz=[300] must be multiple of max stride 32, updating to [320]\n",
      "Ultralytics 8.3.70  Python-3.11.11 torch-2.7.0.dev20250127+cu126 CUDA:0 (NVIDIA GeForce RTX 3050 Laptop GPU, 4096MiB)\n",
      "Model summary (fused): 168 layers, 3,006,233 parameters, 0 gradients, 8.1 GFLOPs\n"
     ]
    },
    {
     "name": "stderr",
     "output_type": "stream",
     "text": [
      "\u001b[34m\u001b[1mval: \u001b[0mScanning D:\\YOLOV8-tomatod\\tomatOD_yolo\\val\\labels.cache... 22 images, 0 backgrounds, 0 corrupt: 100%|██████████| \u001b[0m"
     ]
    },
    {
     "name": "stdout",
     "output_type": "stream",
     "text": [
      "\u001b[34m\u001b[1mval: \u001b[0mWARNING  D:\\YOLOV8-tomatod\\tomatOD_yolo\\val\\images\\stereo20190405_133623_p2_snap_043.jpg: 1 duplicate labels removed\n",
      "\u001b[34m\u001b[1mval: \u001b[0mWARNING  D:\\YOLOV8-tomatod\\tomatOD_yolo\\val\\images\\stereo20190406_065607_p0_snap_080.jpg: 1 duplicate labels removed\n"
     ]
    },
    {
     "name": "stderr",
     "output_type": "stream",
     "text": [
      "\n",
      "                 Class     Images  Instances      Box(P          R      mAP50  mAP50-95): 100%|██████████| 22/22 [00:01\n"
     ]
    },
    {
     "name": "stdout",
     "output_type": "stream",
     "text": [
      "                   all         22        245      0.568      0.597      0.599      0.314\n",
      "                unripe         22        173      0.669      0.815      0.802      0.397\n",
      "             semi-ripe         17         37      0.448      0.432      0.385       0.25\n",
      "            fully-ripe         16         35      0.589      0.543       0.61      0.294\n",
      "Speed: 1.6ms preprocess, 15.5ms inference, 0.0ms loss, 3.4ms postprocess per image\n",
      "Saving runs\\detect\\tomatOD_run_effnet_epoch_11_val2\\predictions.json...\n",
      "Results saved to \u001b[1mruns\\detect\\tomatOD_run_effnet_epoch_11_val2\u001b[0m\n",
      "WARNING  imgsz=[300] must be multiple of max stride 32, updating to [320]\n",
      "Ultralytics 8.3.70  Python-3.11.11 torch-2.7.0.dev20250127+cu126 CUDA:0 (NVIDIA GeForce RTX 3050 Laptop GPU, 4096MiB)\n"
     ]
    },
    {
     "name": "stderr",
     "output_type": "stream",
     "text": [
      "\u001b[34m\u001b[1mval: \u001b[0mScanning D:\\YOLOV8-tomatod\\tomatOD_yolo\\test\\labels.cache... 55 images, 0 backgrounds, 0 corrupt: 100%|██████████|\u001b[0m\n",
      "                 Class     Images  Instances      Box(P          R      mAP50  mAP50-95): 100%|██████████| 55/55 [00:02\n"
     ]
    },
    {
     "name": "stdout",
     "output_type": "stream",
     "text": [
      "                   all         55        468      0.549      0.586      0.579      0.283\n",
      "                unripe         55        292      0.652      0.736      0.751      0.339\n",
      "             semi-ripe         37         77      0.305      0.364      0.256      0.148\n",
      "            fully-ripe         48         99      0.689      0.657       0.73      0.362\n",
      "Speed: 2.3ms preprocess, 16.9ms inference, 0.0ms loss, 2.6ms postprocess per image\n",
      "Saving runs\\detect\\tomatOD_run_effnet_epoch_11_test2\\predictions.json...\n",
      "Results saved to \u001b[1mruns\\detect\\tomatOD_run_effnet_epoch_11_test2\u001b[0m\n",
      "WARNING  imgsz=[300] must be multiple of max stride 32, updating to [320]\n",
      "Ultralytics 8.3.70  Python-3.11.11 torch-2.7.0.dev20250127+cu126 CUDA:0 (NVIDIA GeForce RTX 3050 Laptop GPU, 4096MiB)\n",
      "Model summary (fused): 168 layers, 3,006,233 parameters, 0 gradients, 8.1 GFLOPs\n"
     ]
    },
    {
     "name": "stderr",
     "output_type": "stream",
     "text": [
      "\u001b[34m\u001b[1mval: \u001b[0mScanning D:\\YOLOV8-tomatod\\tomatOD_yolo\\val\\labels.cache... 22 images, 0 backgrounds, 0 corrupt: 100%|██████████| \u001b[0m"
     ]
    },
    {
     "name": "stdout",
     "output_type": "stream",
     "text": [
      "\u001b[34m\u001b[1mval: \u001b[0mWARNING  D:\\YOLOV8-tomatod\\tomatOD_yolo\\val\\images\\stereo20190405_133623_p2_snap_043.jpg: 1 duplicate labels removed\n",
      "\u001b[34m\u001b[1mval: \u001b[0mWARNING  D:\\YOLOV8-tomatod\\tomatOD_yolo\\val\\images\\stereo20190406_065607_p0_snap_080.jpg: 1 duplicate labels removed\n"
     ]
    },
    {
     "name": "stderr",
     "output_type": "stream",
     "text": [
      "\n",
      "                 Class     Images  Instances      Box(P          R      mAP50  mAP50-95): 100%|██████████| 22/22 [00:01\n"
     ]
    },
    {
     "name": "stdout",
     "output_type": "stream",
     "text": [
      "                   all         22        245      0.567       0.62      0.573      0.286\n",
      "                unripe         22        173      0.655      0.809      0.766      0.346\n",
      "             semi-ripe         17         37      0.449      0.375      0.378      0.248\n",
      "            fully-ripe         16         35      0.596      0.676      0.575      0.265\n",
      "Speed: 1.7ms preprocess, 17.0ms inference, 0.0ms loss, 2.4ms postprocess per image\n",
      "Saving runs\\detect\\tomatOD_run_effnet_epoch_12_val2\\predictions.json...\n",
      "Results saved to \u001b[1mruns\\detect\\tomatOD_run_effnet_epoch_12_val2\u001b[0m\n",
      "WARNING  imgsz=[300] must be multiple of max stride 32, updating to [320]\n",
      "Ultralytics 8.3.70  Python-3.11.11 torch-2.7.0.dev20250127+cu126 CUDA:0 (NVIDIA GeForce RTX 3050 Laptop GPU, 4096MiB)\n"
     ]
    },
    {
     "name": "stderr",
     "output_type": "stream",
     "text": [
      "\u001b[34m\u001b[1mval: \u001b[0mScanning D:\\YOLOV8-tomatod\\tomatOD_yolo\\test\\labels.cache... 55 images, 0 backgrounds, 0 corrupt: 100%|██████████|\u001b[0m\n",
      "                 Class     Images  Instances      Box(P          R      mAP50  mAP50-95): 100%|██████████| 55/55 [00:02\n"
     ]
    },
    {
     "name": "stdout",
     "output_type": "stream",
     "text": [
      "                   all         55        468      0.532      0.644      0.588      0.275\n",
      "                unripe         55        292      0.614      0.795      0.769      0.334\n",
      "             semi-ripe         37         77       0.31       0.39      0.258      0.131\n",
      "            fully-ripe         48         99      0.673      0.747      0.736      0.361\n",
      "Speed: 2.4ms preprocess, 15.6ms inference, 0.0ms loss, 1.9ms postprocess per image\n",
      "Saving runs\\detect\\tomatOD_run_effnet_epoch_12_test2\\predictions.json...\n",
      "Results saved to \u001b[1mruns\\detect\\tomatOD_run_effnet_epoch_12_test2\u001b[0m\n",
      "WARNING  imgsz=[300] must be multiple of max stride 32, updating to [320]\n",
      "Ultralytics 8.3.70  Python-3.11.11 torch-2.7.0.dev20250127+cu126 CUDA:0 (NVIDIA GeForce RTX 3050 Laptop GPU, 4096MiB)\n",
      "Model summary (fused): 168 layers, 3,006,233 parameters, 0 gradients, 8.1 GFLOPs\n"
     ]
    },
    {
     "name": "stderr",
     "output_type": "stream",
     "text": [
      "\u001b[34m\u001b[1mval: \u001b[0mScanning D:\\YOLOV8-tomatod\\tomatOD_yolo\\val\\labels.cache... 22 images, 0 backgrounds, 0 corrupt: 100%|██████████| \u001b[0m"
     ]
    },
    {
     "name": "stdout",
     "output_type": "stream",
     "text": [
      "\u001b[34m\u001b[1mval: \u001b[0mWARNING  D:\\YOLOV8-tomatod\\tomatOD_yolo\\val\\images\\stereo20190405_133623_p2_snap_043.jpg: 1 duplicate labels removed\n",
      "\u001b[34m\u001b[1mval: \u001b[0mWARNING  D:\\YOLOV8-tomatod\\tomatOD_yolo\\val\\images\\stereo20190406_065607_p0_snap_080.jpg: 1 duplicate labels removed\n"
     ]
    },
    {
     "name": "stderr",
     "output_type": "stream",
     "text": [
      "\n",
      "                 Class     Images  Instances      Box(P          R      mAP50  mAP50-95): 100%|██████████| 22/22 [00:01\n"
     ]
    },
    {
     "name": "stdout",
     "output_type": "stream",
     "text": [
      "                   all         22        245      0.556      0.644       0.64      0.339\n",
      "                unripe         22        173      0.685      0.827      0.838      0.411\n",
      "             semi-ripe         17         37      0.429      0.541      0.497       0.31\n",
      "            fully-ripe         16         35      0.553      0.565      0.586      0.294\n",
      "Speed: 3.7ms preprocess, 16.8ms inference, 0.0ms loss, 2.4ms postprocess per image\n",
      "Saving runs\\detect\\tomatOD_run_effnet_epoch_13_val2\\predictions.json...\n",
      "Results saved to \u001b[1mruns\\detect\\tomatOD_run_effnet_epoch_13_val2\u001b[0m\n",
      "WARNING  imgsz=[300] must be multiple of max stride 32, updating to [320]\n",
      "Ultralytics 8.3.70  Python-3.11.11 torch-2.7.0.dev20250127+cu126 CUDA:0 (NVIDIA GeForce RTX 3050 Laptop GPU, 4096MiB)\n"
     ]
    },
    {
     "name": "stderr",
     "output_type": "stream",
     "text": [
      "\u001b[34m\u001b[1mval: \u001b[0mScanning D:\\YOLOV8-tomatod\\tomatOD_yolo\\test\\labels.cache... 55 images, 0 backgrounds, 0 corrupt: 100%|██████████|\u001b[0m\n",
      "                 Class     Images  Instances      Box(P          R      mAP50  mAP50-95): 100%|██████████| 55/55 [00:02\n"
     ]
    },
    {
     "name": "stdout",
     "output_type": "stream",
     "text": [
      "                   all         55        468      0.579      0.692      0.621      0.314\n",
      "                unripe         55        292      0.734      0.805      0.826       0.38\n",
      "             semi-ripe         37         77      0.332      0.523      0.331      0.197\n",
      "            fully-ripe         48         99      0.671      0.747      0.707      0.366\n",
      "Speed: 2.1ms preprocess, 16.6ms inference, 0.0ms loss, 1.9ms postprocess per image\n",
      "Saving runs\\detect\\tomatOD_run_effnet_epoch_13_test2\\predictions.json...\n",
      "Results saved to \u001b[1mruns\\detect\\tomatOD_run_effnet_epoch_13_test2\u001b[0m\n",
      "WARNING  imgsz=[300] must be multiple of max stride 32, updating to [320]\n",
      "Ultralytics 8.3.70  Python-3.11.11 torch-2.7.0.dev20250127+cu126 CUDA:0 (NVIDIA GeForce RTX 3050 Laptop GPU, 4096MiB)\n",
      "Model summary (fused): 168 layers, 3,006,233 parameters, 0 gradients, 8.1 GFLOPs\n"
     ]
    },
    {
     "name": "stderr",
     "output_type": "stream",
     "text": [
      "\u001b[34m\u001b[1mval: \u001b[0mScanning D:\\YOLOV8-tomatod\\tomatOD_yolo\\val\\labels.cache... 22 images, 0 backgrounds, 0 corrupt: 100%|██████████| \u001b[0m"
     ]
    },
    {
     "name": "stdout",
     "output_type": "stream",
     "text": [
      "\u001b[34m\u001b[1mval: \u001b[0mWARNING  D:\\YOLOV8-tomatod\\tomatOD_yolo\\val\\images\\stereo20190405_133623_p2_snap_043.jpg: 1 duplicate labels removed\n",
      "\u001b[34m\u001b[1mval: \u001b[0mWARNING  D:\\YOLOV8-tomatod\\tomatOD_yolo\\val\\images\\stereo20190406_065607_p0_snap_080.jpg: 1 duplicate labels removed\n"
     ]
    },
    {
     "name": "stderr",
     "output_type": "stream",
     "text": [
      "\n",
      "                 Class     Images  Instances      Box(P          R      mAP50  mAP50-95): 100%|██████████| 22/22 [00:01\n"
     ]
    },
    {
     "name": "stdout",
     "output_type": "stream",
     "text": [
      "                   all         22        245      0.595      0.778      0.686      0.391\n",
      "                unripe         22        173      0.802      0.821      0.872      0.455\n",
      "             semi-ripe         17         37      0.444      0.582      0.554      0.352\n",
      "            fully-ripe         16         35      0.538       0.93      0.633      0.366\n",
      "Speed: 2.2ms preprocess, 17.3ms inference, 0.0ms loss, 2.3ms postprocess per image\n",
      "Saving runs\\detect\\tomatOD_run_effnet_epoch_14_val2\\predictions.json...\n",
      "Results saved to \u001b[1mruns\\detect\\tomatOD_run_effnet_epoch_14_val2\u001b[0m\n",
      "WARNING  imgsz=[300] must be multiple of max stride 32, updating to [320]\n",
      "Ultralytics 8.3.70  Python-3.11.11 torch-2.7.0.dev20250127+cu126 CUDA:0 (NVIDIA GeForce RTX 3050 Laptop GPU, 4096MiB)\n"
     ]
    },
    {
     "name": "stderr",
     "output_type": "stream",
     "text": [
      "\u001b[34m\u001b[1mval: \u001b[0mScanning D:\\YOLOV8-tomatod\\tomatOD_yolo\\test\\labels.cache... 55 images, 0 backgrounds, 0 corrupt: 100%|██████████|\u001b[0m\n",
      "                 Class     Images  Instances      Box(P          R      mAP50  mAP50-95): 100%|██████████| 55/55 [00:02\n"
     ]
    },
    {
     "name": "stdout",
     "output_type": "stream",
     "text": [
      "                   all         55        468      0.577      0.771      0.659       0.36\n",
      "                unripe         55        292      0.823      0.767      0.853      0.424\n",
      "             semi-ripe         37         77      0.339      0.627      0.368      0.219\n",
      "            fully-ripe         48         99      0.568      0.919      0.756      0.437\n",
      "Speed: 2.7ms preprocess, 15.6ms inference, 0.0ms loss, 2.6ms postprocess per image\n",
      "Saving runs\\detect\\tomatOD_run_effnet_epoch_14_test2\\predictions.json...\n",
      "Results saved to \u001b[1mruns\\detect\\tomatOD_run_effnet_epoch_14_test2\u001b[0m\n",
      "WARNING  imgsz=[300] must be multiple of max stride 32, updating to [320]\n",
      "Ultralytics 8.3.70  Python-3.11.11 torch-2.7.0.dev20250127+cu126 CUDA:0 (NVIDIA GeForce RTX 3050 Laptop GPU, 4096MiB)\n",
      "Model summary (fused): 168 layers, 3,006,233 parameters, 0 gradients, 8.1 GFLOPs\n"
     ]
    },
    {
     "name": "stderr",
     "output_type": "stream",
     "text": [
      "\u001b[34m\u001b[1mval: \u001b[0mScanning D:\\YOLOV8-tomatod\\tomatOD_yolo\\val\\labels.cache... 22 images, 0 backgrounds, 0 corrupt: 100%|██████████| \u001b[0m"
     ]
    },
    {
     "name": "stdout",
     "output_type": "stream",
     "text": [
      "\u001b[34m\u001b[1mval: \u001b[0mWARNING  D:\\YOLOV8-tomatod\\tomatOD_yolo\\val\\images\\stereo20190405_133623_p2_snap_043.jpg: 1 duplicate labels removed\n",
      "\u001b[34m\u001b[1mval: \u001b[0mWARNING  D:\\YOLOV8-tomatod\\tomatOD_yolo\\val\\images\\stereo20190406_065607_p0_snap_080.jpg: 1 duplicate labels removed\n"
     ]
    },
    {
     "name": "stderr",
     "output_type": "stream",
     "text": [
      "\n",
      "                 Class     Images  Instances      Box(P          R      mAP50  mAP50-95): 100%|██████████| 22/22 [00:01\n"
     ]
    },
    {
     "name": "stdout",
     "output_type": "stream",
     "text": [
      "                   all         22        245      0.593      0.796      0.683      0.376\n",
      "                unripe         22        173      0.808      0.821      0.869      0.438\n",
      "             semi-ripe         17         37      0.444      0.626      0.494      0.307\n",
      "            fully-ripe         16         35      0.528      0.943      0.684      0.382\n",
      "Speed: 1.5ms preprocess, 15.6ms inference, 0.0ms loss, 1.9ms postprocess per image\n",
      "Saving runs\\detect\\tomatOD_run_effnet_epoch_15_val2\\predictions.json...\n",
      "Results saved to \u001b[1mruns\\detect\\tomatOD_run_effnet_epoch_15_val2\u001b[0m\n",
      "WARNING  imgsz=[300] must be multiple of max stride 32, updating to [320]\n",
      "Ultralytics 8.3.70  Python-3.11.11 torch-2.7.0.dev20250127+cu126 CUDA:0 (NVIDIA GeForce RTX 3050 Laptop GPU, 4096MiB)\n"
     ]
    },
    {
     "name": "stderr",
     "output_type": "stream",
     "text": [
      "\u001b[34m\u001b[1mval: \u001b[0mScanning D:\\YOLOV8-tomatod\\tomatOD_yolo\\test\\labels.cache... 55 images, 0 backgrounds, 0 corrupt: 100%|██████████|\u001b[0m\n",
      "                 Class     Images  Instances      Box(P          R      mAP50  mAP50-95): 100%|██████████| 55/55 [00:02\n"
     ]
    },
    {
     "name": "stdout",
     "output_type": "stream",
     "text": [
      "                   all         55        468       0.56      0.762      0.654      0.349\n",
      "                unripe         55        292       0.77      0.795      0.857      0.413\n",
      "             semi-ripe         37         77       0.32      0.561      0.344        0.2\n",
      "            fully-ripe         48         99      0.589      0.929      0.762      0.434\n",
      "Speed: 2.3ms preprocess, 16.1ms inference, 0.0ms loss, 2.1ms postprocess per image\n",
      "Saving runs\\detect\\tomatOD_run_effnet_epoch_15_test2\\predictions.json...\n",
      "Results saved to \u001b[1mruns\\detect\\tomatOD_run_effnet_epoch_15_test2\u001b[0m\n",
      "WARNING  imgsz=[300] must be multiple of max stride 32, updating to [320]\n",
      "Ultralytics 8.3.70  Python-3.11.11 torch-2.7.0.dev20250127+cu126 CUDA:0 (NVIDIA GeForce RTX 3050 Laptop GPU, 4096MiB)\n",
      "Model summary (fused): 168 layers, 3,006,233 parameters, 0 gradients, 8.1 GFLOPs\n"
     ]
    },
    {
     "name": "stderr",
     "output_type": "stream",
     "text": [
      "\u001b[34m\u001b[1mval: \u001b[0mScanning D:\\YOLOV8-tomatod\\tomatOD_yolo\\val\\labels.cache... 22 images, 0 backgrounds, 0 corrupt: 100%|██████████| \u001b[0m"
     ]
    },
    {
     "name": "stdout",
     "output_type": "stream",
     "text": [
      "\u001b[34m\u001b[1mval: \u001b[0mWARNING  D:\\YOLOV8-tomatod\\tomatOD_yolo\\val\\images\\stereo20190405_133623_p2_snap_043.jpg: 1 duplicate labels removed\n",
      "\u001b[34m\u001b[1mval: \u001b[0mWARNING  D:\\YOLOV8-tomatod\\tomatOD_yolo\\val\\images\\stereo20190406_065607_p0_snap_080.jpg: 1 duplicate labels removed\n"
     ]
    },
    {
     "name": "stderr",
     "output_type": "stream",
     "text": [
      "\n",
      "                 Class     Images  Instances      Box(P          R      mAP50  mAP50-95): 100%|██████████| 22/22 [00:01\n"
     ]
    },
    {
     "name": "stdout",
     "output_type": "stream",
     "text": [
      "                   all         22        245      0.617       0.76      0.693      0.397\n",
      "                unripe         22        173      0.818      0.831      0.894      0.487\n",
      "             semi-ripe         17         37        0.5      0.622       0.53      0.345\n",
      "            fully-ripe         16         35      0.534      0.829      0.654      0.357\n",
      "Speed: 2.1ms preprocess, 17.2ms inference, 0.0ms loss, 1.3ms postprocess per image\n",
      "Saving runs\\detect\\tomatOD_run_effnet_epoch_16_val2\\predictions.json...\n",
      "Results saved to \u001b[1mruns\\detect\\tomatOD_run_effnet_epoch_16_val2\u001b[0m\n",
      "WARNING  imgsz=[300] must be multiple of max stride 32, updating to [320]\n",
      "Ultralytics 8.3.70  Python-3.11.11 torch-2.7.0.dev20250127+cu126 CUDA:0 (NVIDIA GeForce RTX 3050 Laptop GPU, 4096MiB)\n"
     ]
    },
    {
     "name": "stderr",
     "output_type": "stream",
     "text": [
      "\u001b[34m\u001b[1mval: \u001b[0mScanning D:\\YOLOV8-tomatod\\tomatOD_yolo\\test\\labels.cache... 55 images, 0 backgrounds, 0 corrupt: 100%|██████████|\u001b[0m\n",
      "                 Class     Images  Instances      Box(P          R      mAP50  mAP50-95): 100%|██████████| 55/55 [00:02\n"
     ]
    },
    {
     "name": "stdout",
     "output_type": "stream",
     "text": [
      "                   all         55        468        0.6       0.71      0.647      0.354\n",
      "                unripe         55        292      0.828      0.777      0.866      0.437\n",
      "             semi-ripe         37         77      0.329      0.494      0.329      0.205\n",
      "            fully-ripe         48         99      0.644      0.858      0.746       0.42\n",
      "Speed: 1.8ms preprocess, 15.2ms inference, 0.0ms loss, 1.9ms postprocess per image\n",
      "Saving runs\\detect\\tomatOD_run_effnet_epoch_16_test2\\predictions.json...\n",
      "Results saved to \u001b[1mruns\\detect\\tomatOD_run_effnet_epoch_16_test2\u001b[0m\n",
      "WARNING  imgsz=[300] must be multiple of max stride 32, updating to [320]\n",
      "Ultralytics 8.3.70  Python-3.11.11 torch-2.7.0.dev20250127+cu126 CUDA:0 (NVIDIA GeForce RTX 3050 Laptop GPU, 4096MiB)\n",
      "Model summary (fused): 168 layers, 3,006,233 parameters, 0 gradients, 8.1 GFLOPs\n"
     ]
    },
    {
     "name": "stderr",
     "output_type": "stream",
     "text": [
      "\u001b[34m\u001b[1mval: \u001b[0mScanning D:\\YOLOV8-tomatod\\tomatOD_yolo\\val\\labels.cache... 22 images, 0 backgrounds, 0 corrupt: 100%|██████████| \u001b[0m"
     ]
    },
    {
     "name": "stdout",
     "output_type": "stream",
     "text": [
      "\u001b[34m\u001b[1mval: \u001b[0mWARNING  D:\\YOLOV8-tomatod\\tomatOD_yolo\\val\\images\\stereo20190405_133623_p2_snap_043.jpg: 1 duplicate labels removed\n",
      "\u001b[34m\u001b[1mval: \u001b[0mWARNING  D:\\YOLOV8-tomatod\\tomatOD_yolo\\val\\images\\stereo20190406_065607_p0_snap_080.jpg: 1 duplicate labels removed\n"
     ]
    },
    {
     "name": "stderr",
     "output_type": "stream",
     "text": [
      "\n",
      "                 Class     Images  Instances      Box(P          R      mAP50  mAP50-95): 100%|██████████| 22/22 [00:01\n"
     ]
    },
    {
     "name": "stdout",
     "output_type": "stream",
     "text": [
      "                   all         22        245        0.6      0.806      0.716      0.414\n",
      "                unripe         22        173      0.776      0.883      0.896      0.485\n",
      "             semi-ripe         17         37      0.476      0.703      0.602      0.392\n",
      "            fully-ripe         16         35      0.549      0.833      0.651      0.363\n",
      "Speed: 2.2ms preprocess, 17.2ms inference, 0.0ms loss, 2.1ms postprocess per image\n",
      "Saving runs\\detect\\tomatOD_run_effnet_epoch_17_val2\\predictions.json...\n",
      "Results saved to \u001b[1mruns\\detect\\tomatOD_run_effnet_epoch_17_val2\u001b[0m\n",
      "WARNING  imgsz=[300] must be multiple of max stride 32, updating to [320]\n",
      "Ultralytics 8.3.70  Python-3.11.11 torch-2.7.0.dev20250127+cu126 CUDA:0 (NVIDIA GeForce RTX 3050 Laptop GPU, 4096MiB)\n"
     ]
    },
    {
     "name": "stderr",
     "output_type": "stream",
     "text": [
      "\u001b[34m\u001b[1mval: \u001b[0mScanning D:\\YOLOV8-tomatod\\tomatOD_yolo\\test\\labels.cache... 55 images, 0 backgrounds, 0 corrupt: 100%|██████████|\u001b[0m\n",
      "                 Class     Images  Instances      Box(P          R      mAP50  mAP50-95): 100%|██████████| 55/55 [00:03\n"
     ]
    },
    {
     "name": "stdout",
     "output_type": "stream",
     "text": [
      "                   all         55        468      0.635      0.725      0.676      0.378\n",
      "                unripe         55        292      0.851      0.803      0.883      0.453\n",
      "             semi-ripe         37         77      0.371      0.532      0.356      0.217\n",
      "            fully-ripe         48         99      0.683      0.838      0.789      0.464\n",
      "Speed: 1.7ms preprocess, 16.9ms inference, 0.0ms loss, 2.3ms postprocess per image\n",
      "Saving runs\\detect\\tomatOD_run_effnet_epoch_17_test2\\predictions.json...\n",
      "Results saved to \u001b[1mruns\\detect\\tomatOD_run_effnet_epoch_17_test2\u001b[0m\n",
      "WARNING  imgsz=[300] must be multiple of max stride 32, updating to [320]\n",
      "Ultralytics 8.3.70  Python-3.11.11 torch-2.7.0.dev20250127+cu126 CUDA:0 (NVIDIA GeForce RTX 3050 Laptop GPU, 4096MiB)\n",
      "Model summary (fused): 168 layers, 3,006,233 parameters, 0 gradients, 8.1 GFLOPs\n"
     ]
    },
    {
     "name": "stderr",
     "output_type": "stream",
     "text": [
      "\u001b[34m\u001b[1mval: \u001b[0mScanning D:\\YOLOV8-tomatod\\tomatOD_yolo\\val\\labels.cache... 22 images, 0 backgrounds, 0 corrupt: 100%|██████████| \u001b[0m"
     ]
    },
    {
     "name": "stdout",
     "output_type": "stream",
     "text": [
      "\u001b[34m\u001b[1mval: \u001b[0mWARNING  D:\\YOLOV8-tomatod\\tomatOD_yolo\\val\\images\\stereo20190405_133623_p2_snap_043.jpg: 1 duplicate labels removed\n",
      "\u001b[34m\u001b[1mval: \u001b[0mWARNING  D:\\YOLOV8-tomatod\\tomatOD_yolo\\val\\images\\stereo20190406_065607_p0_snap_080.jpg: 1 duplicate labels removed\n"
     ]
    },
    {
     "name": "stderr",
     "output_type": "stream",
     "text": [
      "\n",
      "                 Class     Images  Instances      Box(P          R      mAP50  mAP50-95): 100%|██████████| 22/22 [00:01\n"
     ]
    },
    {
     "name": "stdout",
     "output_type": "stream",
     "text": [
      "                   all         22        245      0.605      0.862      0.721      0.422\n",
      "                unripe         22        173      0.802      0.913      0.918      0.514\n",
      "             semi-ripe         17         37      0.464       0.73      0.634      0.396\n",
      "            fully-ripe         16         35       0.55      0.943      0.612      0.355\n",
      "Speed: 2.4ms preprocess, 15.0ms inference, 0.0ms loss, 2.8ms postprocess per image\n",
      "Saving runs\\detect\\tomatOD_run_effnet_epoch_18_val2\\predictions.json...\n",
      "Results saved to \u001b[1mruns\\detect\\tomatOD_run_effnet_epoch_18_val2\u001b[0m\n",
      "WARNING  imgsz=[300] must be multiple of max stride 32, updating to [320]\n",
      "Ultralytics 8.3.70  Python-3.11.11 torch-2.7.0.dev20250127+cu126 CUDA:0 (NVIDIA GeForce RTX 3050 Laptop GPU, 4096MiB)\n"
     ]
    },
    {
     "name": "stderr",
     "output_type": "stream",
     "text": [
      "\u001b[34m\u001b[1mval: \u001b[0mScanning D:\\YOLOV8-tomatod\\tomatOD_yolo\\test\\labels.cache... 55 images, 0 backgrounds, 0 corrupt: 100%|██████████|\u001b[0m\n",
      "                 Class     Images  Instances      Box(P          R      mAP50  mAP50-95): 100%|██████████| 55/55 [00:02\n"
     ]
    },
    {
     "name": "stdout",
     "output_type": "stream",
     "text": [
      "                   all         55        468       0.62      0.734      0.683      0.378\n",
      "                unripe         55        292      0.845      0.812      0.889      0.455\n",
      "             semi-ripe         37         77      0.366      0.532      0.379      0.231\n",
      "            fully-ripe         48         99       0.65      0.859      0.782      0.448\n",
      "Speed: 2.3ms preprocess, 16.6ms inference, 0.0ms loss, 2.2ms postprocess per image\n",
      "Saving runs\\detect\\tomatOD_run_effnet_epoch_18_test2\\predictions.json...\n",
      "Results saved to \u001b[1mruns\\detect\\tomatOD_run_effnet_epoch_18_test2\u001b[0m\n",
      "WARNING  imgsz=[300] must be multiple of max stride 32, updating to [320]\n",
      "Ultralytics 8.3.70  Python-3.11.11 torch-2.7.0.dev20250127+cu126 CUDA:0 (NVIDIA GeForce RTX 3050 Laptop GPU, 4096MiB)\n",
      "Model summary (fused): 168 layers, 3,006,233 parameters, 0 gradients, 8.1 GFLOPs\n"
     ]
    },
    {
     "name": "stderr",
     "output_type": "stream",
     "text": [
      "\u001b[34m\u001b[1mval: \u001b[0mScanning D:\\YOLOV8-tomatod\\tomatOD_yolo\\val\\labels.cache... 22 images, 0 backgrounds, 0 corrupt: 100%|██████████| \u001b[0m"
     ]
    },
    {
     "name": "stdout",
     "output_type": "stream",
     "text": [
      "\u001b[34m\u001b[1mval: \u001b[0mWARNING  D:\\YOLOV8-tomatod\\tomatOD_yolo\\val\\images\\stereo20190405_133623_p2_snap_043.jpg: 1 duplicate labels removed\n",
      "\u001b[34m\u001b[1mval: \u001b[0mWARNING  D:\\YOLOV8-tomatod\\tomatOD_yolo\\val\\images\\stereo20190406_065607_p0_snap_080.jpg: 1 duplicate labels removed\n"
     ]
    },
    {
     "name": "stderr",
     "output_type": "stream",
     "text": [
      "\n",
      "                 Class     Images  Instances      Box(P          R      mAP50  mAP50-95): 100%|██████████| 22/22 [00:01\n"
     ]
    },
    {
     "name": "stdout",
     "output_type": "stream",
     "text": [
      "                   all         22        245      0.583      0.853       0.72      0.428\n",
      "                unripe         22        173      0.762      0.925      0.915      0.499\n",
      "             semi-ripe         17         37      0.444      0.713      0.577        0.4\n",
      "            fully-ripe         16         35      0.544      0.921      0.668      0.385\n",
      "Speed: 1.9ms preprocess, 16.1ms inference, 0.0ms loss, 1.4ms postprocess per image\n",
      "Saving runs\\detect\\tomatOD_run_effnet_epoch_19_val2\\predictions.json...\n",
      "Results saved to \u001b[1mruns\\detect\\tomatOD_run_effnet_epoch_19_val2\u001b[0m\n",
      "WARNING  imgsz=[300] must be multiple of max stride 32, updating to [320]\n",
      "Ultralytics 8.3.70  Python-3.11.11 torch-2.7.0.dev20250127+cu126 CUDA:0 (NVIDIA GeForce RTX 3050 Laptop GPU, 4096MiB)\n"
     ]
    },
    {
     "name": "stderr",
     "output_type": "stream",
     "text": [
      "\u001b[34m\u001b[1mval: \u001b[0mScanning D:\\YOLOV8-tomatod\\tomatOD_yolo\\test\\labels.cache... 55 images, 0 backgrounds, 0 corrupt: 100%|██████████|\u001b[0m\n",
      "                 Class     Images  Instances      Box(P          R      mAP50  mAP50-95): 100%|██████████| 55/55 [00:02\n"
     ]
    },
    {
     "name": "stdout",
     "output_type": "stream",
     "text": [
      "                   all         55        468      0.607      0.758      0.694      0.391\n",
      "                unripe         55        292      0.807       0.83      0.881      0.454\n",
      "             semi-ripe         37         77      0.366      0.584      0.394      0.244\n",
      "            fully-ripe         48         99      0.648      0.859      0.806      0.476\n",
      "Speed: 2.6ms preprocess, 15.5ms inference, 0.0ms loss, 1.6ms postprocess per image\n",
      "Saving runs\\detect\\tomatOD_run_effnet_epoch_19_test2\\predictions.json...\n",
      "Results saved to \u001b[1mruns\\detect\\tomatOD_run_effnet_epoch_19_test2\u001b[0m\n",
      "WARNING  imgsz=[300] must be multiple of max stride 32, updating to [320]\n",
      "Ultralytics 8.3.70  Python-3.11.11 torch-2.7.0.dev20250127+cu126 CUDA:0 (NVIDIA GeForce RTX 3050 Laptop GPU, 4096MiB)\n",
      "Model summary (fused): 168 layers, 3,006,233 parameters, 0 gradients, 8.1 GFLOPs\n"
     ]
    },
    {
     "name": "stderr",
     "output_type": "stream",
     "text": [
      "\u001b[34m\u001b[1mval: \u001b[0mScanning D:\\YOLOV8-tomatod\\tomatOD_yolo\\val\\labels.cache... 22 images, 0 backgrounds, 0 corrupt: 100%|██████████| \u001b[0m"
     ]
    },
    {
     "name": "stdout",
     "output_type": "stream",
     "text": [
      "\u001b[34m\u001b[1mval: \u001b[0mWARNING  D:\\YOLOV8-tomatod\\tomatOD_yolo\\val\\images\\stereo20190405_133623_p2_snap_043.jpg: 1 duplicate labels removed\n",
      "\u001b[34m\u001b[1mval: \u001b[0mWARNING  D:\\YOLOV8-tomatod\\tomatOD_yolo\\val\\images\\stereo20190406_065607_p0_snap_080.jpg: 1 duplicate labels removed\n"
     ]
    },
    {
     "name": "stderr",
     "output_type": "stream",
     "text": [
      "\n",
      "                 Class     Images  Instances      Box(P          R      mAP50  mAP50-95): 100%|██████████| 22/22 [00:01\n"
     ]
    },
    {
     "name": "stdout",
     "output_type": "stream",
     "text": [
      "                   all         22        245      0.611      0.811      0.716      0.432\n",
      "                unripe         22        173      0.776      0.903      0.911      0.525\n",
      "             semi-ripe         17         37      0.487      0.622      0.581      0.393\n",
      "            fully-ripe         16         35      0.569      0.907      0.656      0.377\n",
      "Speed: 2.2ms preprocess, 16.8ms inference, 0.0ms loss, 2.6ms postprocess per image\n",
      "Saving runs\\detect\\tomatOD_run_effnet_epoch_20_val2\\predictions.json...\n",
      "Results saved to \u001b[1mruns\\detect\\tomatOD_run_effnet_epoch_20_val2\u001b[0m\n",
      "WARNING  imgsz=[300] must be multiple of max stride 32, updating to [320]\n",
      "Ultralytics 8.3.70  Python-3.11.11 torch-2.7.0.dev20250127+cu126 CUDA:0 (NVIDIA GeForce RTX 3050 Laptop GPU, 4096MiB)\n"
     ]
    },
    {
     "name": "stderr",
     "output_type": "stream",
     "text": [
      "\u001b[34m\u001b[1mval: \u001b[0mScanning D:\\YOLOV8-tomatod\\tomatOD_yolo\\test\\labels.cache... 55 images, 0 backgrounds, 0 corrupt: 100%|██████████|\u001b[0m\n",
      "                 Class     Images  Instances      Box(P          R      mAP50  mAP50-95): 100%|██████████| 55/55 [00:02\n"
     ]
    },
    {
     "name": "stdout",
     "output_type": "stream",
     "text": [
      "                   all         55        468      0.614      0.754      0.694      0.399\n",
      "                unripe         55        292      0.788      0.846      0.864      0.459\n",
      "             semi-ripe         37         77      0.403      0.558      0.411      0.259\n",
      "            fully-ripe         48         99      0.652      0.859      0.808       0.48\n",
      "Speed: 1.8ms preprocess, 16.0ms inference, 0.0ms loss, 2.3ms postprocess per image\n",
      "Saving runs\\detect\\tomatOD_run_effnet_epoch_20_test2\\predictions.json...\n",
      "Results saved to \u001b[1mruns\\detect\\tomatOD_run_effnet_epoch_20_test2\u001b[0m\n",
      "WARNING  imgsz=[300] must be multiple of max stride 32, updating to [320]\n",
      "Ultralytics 8.3.70  Python-3.11.11 torch-2.7.0.dev20250127+cu126 CUDA:0 (NVIDIA GeForce RTX 3050 Laptop GPU, 4096MiB)\n",
      "Model summary (fused): 168 layers, 3,006,233 parameters, 0 gradients, 8.1 GFLOPs\n"
     ]
    },
    {
     "name": "stderr",
     "output_type": "stream",
     "text": [
      "\u001b[34m\u001b[1mval: \u001b[0mScanning D:\\YOLOV8-tomatod\\tomatOD_yolo\\val\\labels.cache... 22 images, 0 backgrounds, 0 corrupt: 100%|██████████| \u001b[0m"
     ]
    },
    {
     "name": "stdout",
     "output_type": "stream",
     "text": [
      "\u001b[34m\u001b[1mval: \u001b[0mWARNING  D:\\YOLOV8-tomatod\\tomatOD_yolo\\val\\images\\stereo20190405_133623_p2_snap_043.jpg: 1 duplicate labels removed\n",
      "\u001b[34m\u001b[1mval: \u001b[0mWARNING  D:\\YOLOV8-tomatod\\tomatOD_yolo\\val\\images\\stereo20190406_065607_p0_snap_080.jpg: 1 duplicate labels removed\n"
     ]
    },
    {
     "name": "stderr",
     "output_type": "stream",
     "text": [
      "\n",
      "                 Class     Images  Instances      Box(P          R      mAP50  mAP50-95): 100%|██████████| 22/22 [00:01\n"
     ]
    },
    {
     "name": "stdout",
     "output_type": "stream",
     "text": [
      "                   all         22        245      0.658      0.805      0.717       0.44\n",
      "                unripe         22        173      0.837      0.879      0.923      0.532\n",
      "             semi-ripe         17         37      0.594      0.622      0.653      0.446\n",
      "            fully-ripe         16         35      0.542      0.915      0.574      0.342\n",
      "Speed: 2.0ms preprocess, 16.5ms inference, 0.0ms loss, 1.5ms postprocess per image\n",
      "Saving runs\\detect\\tomatOD_run_effnet_epoch_21_val2\\predictions.json...\n",
      "Results saved to \u001b[1mruns\\detect\\tomatOD_run_effnet_epoch_21_val2\u001b[0m\n",
      "WARNING  imgsz=[300] must be multiple of max stride 32, updating to [320]\n",
      "Ultralytics 8.3.70  Python-3.11.11 torch-2.7.0.dev20250127+cu126 CUDA:0 (NVIDIA GeForce RTX 3050 Laptop GPU, 4096MiB)\n"
     ]
    },
    {
     "name": "stderr",
     "output_type": "stream",
     "text": [
      "\u001b[34m\u001b[1mval: \u001b[0mScanning D:\\YOLOV8-tomatod\\tomatOD_yolo\\test\\labels.cache... 55 images, 0 backgrounds, 0 corrupt: 100%|██████████|\u001b[0m\n",
      "                 Class     Images  Instances      Box(P          R      mAP50  mAP50-95): 100%|██████████| 55/55 [00:02\n"
     ]
    },
    {
     "name": "stdout",
     "output_type": "stream",
     "text": [
      "                   all         55        468      0.582      0.785      0.697      0.406\n",
      "                unripe         55        292      0.774      0.836      0.872      0.468\n",
      "             semi-ripe         37         77      0.361       0.61       0.44      0.286\n",
      "            fully-ripe         48         99      0.611      0.909      0.779      0.463\n",
      "Speed: 2.2ms preprocess, 16.4ms inference, 0.0ms loss, 2.2ms postprocess per image\n",
      "Saving runs\\detect\\tomatOD_run_effnet_epoch_21_test2\\predictions.json...\n",
      "Results saved to \u001b[1mruns\\detect\\tomatOD_run_effnet_epoch_21_test2\u001b[0m\n",
      "WARNING  imgsz=[300] must be multiple of max stride 32, updating to [320]\n",
      "Ultralytics 8.3.70  Python-3.11.11 torch-2.7.0.dev20250127+cu126 CUDA:0 (NVIDIA GeForce RTX 3050 Laptop GPU, 4096MiB)\n",
      "Model summary (fused): 168 layers, 3,006,233 parameters, 0 gradients, 8.1 GFLOPs\n"
     ]
    },
    {
     "name": "stderr",
     "output_type": "stream",
     "text": [
      "\u001b[34m\u001b[1mval: \u001b[0mScanning D:\\YOLOV8-tomatod\\tomatOD_yolo\\val\\labels.cache... 22 images, 0 backgrounds, 0 corrupt: 100%|██████████| \u001b[0m"
     ]
    },
    {
     "name": "stdout",
     "output_type": "stream",
     "text": [
      "\u001b[34m\u001b[1mval: \u001b[0mWARNING  D:\\YOLOV8-tomatod\\tomatOD_yolo\\val\\images\\stereo20190405_133623_p2_snap_043.jpg: 1 duplicate labels removed\n",
      "\u001b[34m\u001b[1mval: \u001b[0mWARNING  D:\\YOLOV8-tomatod\\tomatOD_yolo\\val\\images\\stereo20190406_065607_p0_snap_080.jpg: 1 duplicate labels removed\n"
     ]
    },
    {
     "name": "stderr",
     "output_type": "stream",
     "text": [
      "\n",
      "                 Class     Images  Instances      Box(P          R      mAP50  mAP50-95): 100%|██████████| 22/22 [00:01\n"
     ]
    },
    {
     "name": "stdout",
     "output_type": "stream",
     "text": [
      "                   all         22        245      0.646      0.775      0.706      0.417\n",
      "                unripe         22        173      0.848      0.873      0.922      0.523\n",
      "             semi-ripe         17         37      0.549      0.595      0.615      0.398\n",
      "            fully-ripe         16         35      0.539      0.857      0.582       0.33\n",
      "Speed: 2.4ms preprocess, 15.2ms inference, 0.0ms loss, 2.9ms postprocess per image\n",
      "Saving runs\\detect\\tomatOD_run_effnet_epoch_22_val2\\predictions.json...\n",
      "Results saved to \u001b[1mruns\\detect\\tomatOD_run_effnet_epoch_22_val2\u001b[0m\n",
      "WARNING  imgsz=[300] must be multiple of max stride 32, updating to [320]\n",
      "Ultralytics 8.3.70  Python-3.11.11 torch-2.7.0.dev20250127+cu126 CUDA:0 (NVIDIA GeForce RTX 3050 Laptop GPU, 4096MiB)\n"
     ]
    },
    {
     "name": "stderr",
     "output_type": "stream",
     "text": [
      "\u001b[34m\u001b[1mval: \u001b[0mScanning D:\\YOLOV8-tomatod\\tomatOD_yolo\\test\\labels.cache... 55 images, 0 backgrounds, 0 corrupt: 100%|██████████|\u001b[0m\n",
      "                 Class     Images  Instances      Box(P          R      mAP50  mAP50-95): 100%|██████████| 55/55 [00:03\n"
     ]
    },
    {
     "name": "stdout",
     "output_type": "stream",
     "text": [
      "                   all         55        468       0.62      0.724        0.7      0.404\n",
      "                unripe         55        292      0.844      0.795      0.874      0.466\n",
      "             semi-ripe         37         77       0.38      0.519      0.435      0.277\n",
      "            fully-ripe         48         99      0.637      0.859      0.791      0.471\n",
      "Speed: 2.1ms preprocess, 15.8ms inference, 0.0ms loss, 1.9ms postprocess per image\n",
      "Saving runs\\detect\\tomatOD_run_effnet_epoch_22_test2\\predictions.json...\n",
      "Results saved to \u001b[1mruns\\detect\\tomatOD_run_effnet_epoch_22_test2\u001b[0m\n",
      "WARNING  imgsz=[300] must be multiple of max stride 32, updating to [320]\n",
      "Ultralytics 8.3.70  Python-3.11.11 torch-2.7.0.dev20250127+cu126 CUDA:0 (NVIDIA GeForce RTX 3050 Laptop GPU, 4096MiB)\n",
      "Model summary (fused): 168 layers, 3,006,233 parameters, 0 gradients, 8.1 GFLOPs\n"
     ]
    },
    {
     "name": "stderr",
     "output_type": "stream",
     "text": [
      "\u001b[34m\u001b[1mval: \u001b[0mScanning D:\\YOLOV8-tomatod\\tomatOD_yolo\\val\\labels.cache... 22 images, 0 backgrounds, 0 corrupt: 100%|██████████| \u001b[0m"
     ]
    },
    {
     "name": "stdout",
     "output_type": "stream",
     "text": [
      "\u001b[34m\u001b[1mval: \u001b[0mWARNING  D:\\YOLOV8-tomatod\\tomatOD_yolo\\val\\images\\stereo20190405_133623_p2_snap_043.jpg: 1 duplicate labels removed\n",
      "\u001b[34m\u001b[1mval: \u001b[0mWARNING  D:\\YOLOV8-tomatod\\tomatOD_yolo\\val\\images\\stereo20190406_065607_p0_snap_080.jpg: 1 duplicate labels removed\n"
     ]
    },
    {
     "name": "stderr",
     "output_type": "stream",
     "text": [
      "\n",
      "                 Class     Images  Instances      Box(P          R      mAP50  mAP50-95): 100%|██████████| 22/22 [00:01\n"
     ]
    },
    {
     "name": "stdout",
     "output_type": "stream",
     "text": [
      "                   all         22        245      0.639      0.779      0.723      0.434\n",
      "                unripe         22        173      0.827      0.879      0.921      0.525\n",
      "             semi-ripe         17         37      0.553      0.595      0.611      0.416\n",
      "            fully-ripe         16         35      0.538      0.864      0.638       0.36\n",
      "Speed: 2.6ms preprocess, 17.2ms inference, 0.0ms loss, 2.0ms postprocess per image\n",
      "Saving runs\\detect\\tomatOD_run_effnet_epoch_23_val2\\predictions.json...\n",
      "Results saved to \u001b[1mruns\\detect\\tomatOD_run_effnet_epoch_23_val2\u001b[0m\n",
      "WARNING  imgsz=[300] must be multiple of max stride 32, updating to [320]\n",
      "Ultralytics 8.3.70  Python-3.11.11 torch-2.7.0.dev20250127+cu126 CUDA:0 (NVIDIA GeForce RTX 3050 Laptop GPU, 4096MiB)\n"
     ]
    },
    {
     "name": "stderr",
     "output_type": "stream",
     "text": [
      "\u001b[34m\u001b[1mval: \u001b[0mScanning D:\\YOLOV8-tomatod\\tomatOD_yolo\\test\\labels.cache... 55 images, 0 backgrounds, 0 corrupt: 100%|██████████|\u001b[0m\n",
      "                 Class     Images  Instances      Box(P          R      mAP50  mAP50-95): 100%|██████████| 55/55 [00:02\n"
     ]
    },
    {
     "name": "stdout",
     "output_type": "stream",
     "text": [
      "                   all         55        468      0.581      0.789      0.712      0.415\n",
      "                unripe         55        292      0.757      0.846      0.881      0.466\n",
      "             semi-ripe         37         77       0.37       0.61      0.438      0.281\n",
      "            fully-ripe         48         99      0.617      0.911      0.817      0.499\n",
      "Speed: 2.1ms preprocess, 14.9ms inference, 0.0ms loss, 2.8ms postprocess per image\n",
      "Saving runs\\detect\\tomatOD_run_effnet_epoch_23_test2\\predictions.json...\n",
      "Results saved to \u001b[1mruns\\detect\\tomatOD_run_effnet_epoch_23_test2\u001b[0m\n",
      "WARNING  imgsz=[300] must be multiple of max stride 32, updating to [320]\n",
      "Ultralytics 8.3.70  Python-3.11.11 torch-2.7.0.dev20250127+cu126 CUDA:0 (NVIDIA GeForce RTX 3050 Laptop GPU, 4096MiB)\n",
      "Model summary (fused): 168 layers, 3,006,233 parameters, 0 gradients, 8.1 GFLOPs\n"
     ]
    },
    {
     "name": "stderr",
     "output_type": "stream",
     "text": [
      "\u001b[34m\u001b[1mval: \u001b[0mScanning D:\\YOLOV8-tomatod\\tomatOD_yolo\\val\\labels.cache... 22 images, 0 backgrounds, 0 corrupt: 100%|██████████| \u001b[0m"
     ]
    },
    {
     "name": "stdout",
     "output_type": "stream",
     "text": [
      "\u001b[34m\u001b[1mval: \u001b[0mWARNING  D:\\YOLOV8-tomatod\\tomatOD_yolo\\val\\images\\stereo20190405_133623_p2_snap_043.jpg: 1 duplicate labels removed\n",
      "\u001b[34m\u001b[1mval: \u001b[0mWARNING  D:\\YOLOV8-tomatod\\tomatOD_yolo\\val\\images\\stereo20190406_065607_p0_snap_080.jpg: 1 duplicate labels removed\n"
     ]
    },
    {
     "name": "stderr",
     "output_type": "stream",
     "text": [
      "\n",
      "                 Class     Images  Instances      Box(P          R      mAP50  mAP50-95): 100%|██████████| 22/22 [00:01\n"
     ]
    },
    {
     "name": "stdout",
     "output_type": "stream",
     "text": [
      "                   all         22        245      0.665      0.766      0.729      0.435\n",
      "                unripe         22        173      0.839      0.845      0.925      0.539\n",
      "             semi-ripe         17         37      0.605      0.595       0.62       0.41\n",
      "            fully-ripe         16         35       0.55      0.857      0.642      0.356\n",
      "Speed: 1.6ms preprocess, 15.8ms inference, 0.0ms loss, 2.6ms postprocess per image\n",
      "Saving runs\\detect\\tomatOD_run_effnet_epoch_24_val2\\predictions.json...\n",
      "Results saved to \u001b[1mruns\\detect\\tomatOD_run_effnet_epoch_24_val2\u001b[0m\n",
      "WARNING  imgsz=[300] must be multiple of max stride 32, updating to [320]\n",
      "Ultralytics 8.3.70  Python-3.11.11 torch-2.7.0.dev20250127+cu126 CUDA:0 (NVIDIA GeForce RTX 3050 Laptop GPU, 4096MiB)\n"
     ]
    },
    {
     "name": "stderr",
     "output_type": "stream",
     "text": [
      "\u001b[34m\u001b[1mval: \u001b[0mScanning D:\\YOLOV8-tomatod\\tomatOD_yolo\\test\\labels.cache... 55 images, 0 backgrounds, 0 corrupt: 100%|██████████|\u001b[0m\n",
      "                 Class     Images  Instances      Box(P          R      mAP50  mAP50-95): 100%|██████████| 55/55 [00:02\n"
     ]
    },
    {
     "name": "stdout",
     "output_type": "stream",
     "text": [
      "                   all         55        468      0.595       0.79      0.709      0.414\n",
      "                unripe         55        292      0.794      0.833       0.88      0.474\n",
      "             semi-ripe         37         77      0.374      0.629      0.436      0.283\n",
      "            fully-ripe         48         99      0.616      0.909      0.812      0.485\n",
      "Speed: 2.3ms preprocess, 15.6ms inference, 0.0ms loss, 2.2ms postprocess per image\n",
      "Saving runs\\detect\\tomatOD_run_effnet_epoch_24_test2\\predictions.json...\n",
      "Results saved to \u001b[1mruns\\detect\\tomatOD_run_effnet_epoch_24_test2\u001b[0m\n",
      "WARNING  imgsz=[300] must be multiple of max stride 32, updating to [320]\n",
      "Ultralytics 8.3.70  Python-3.11.11 torch-2.7.0.dev20250127+cu126 CUDA:0 (NVIDIA GeForce RTX 3050 Laptop GPU, 4096MiB)\n",
      "Model summary (fused): 168 layers, 3,006,233 parameters, 0 gradients, 8.1 GFLOPs\n"
     ]
    },
    {
     "name": "stderr",
     "output_type": "stream",
     "text": [
      "\u001b[34m\u001b[1mval: \u001b[0mScanning D:\\YOLOV8-tomatod\\tomatOD_yolo\\val\\labels.cache... 22 images, 0 backgrounds, 0 corrupt: 100%|██████████| \u001b[0m"
     ]
    },
    {
     "name": "stdout",
     "output_type": "stream",
     "text": [
      "\u001b[34m\u001b[1mval: \u001b[0mWARNING  D:\\YOLOV8-tomatod\\tomatOD_yolo\\val\\images\\stereo20190405_133623_p2_snap_043.jpg: 1 duplicate labels removed\n",
      "\u001b[34m\u001b[1mval: \u001b[0mWARNING  D:\\YOLOV8-tomatod\\tomatOD_yolo\\val\\images\\stereo20190406_065607_p0_snap_080.jpg: 1 duplicate labels removed\n"
     ]
    },
    {
     "name": "stderr",
     "output_type": "stream",
     "text": [
      "\n",
      "                 Class     Images  Instances      Box(P          R      mAP50  mAP50-95): 100%|██████████| 22/22 [00:01\n"
     ]
    },
    {
     "name": "stdout",
     "output_type": "stream",
     "text": [
      "                   all         22        245      0.665      0.766      0.729      0.435\n",
      "                unripe         22        173      0.839      0.845      0.925      0.539\n",
      "             semi-ripe         17         37      0.605      0.595       0.62       0.41\n",
      "            fully-ripe         16         35       0.55      0.857      0.642      0.356\n",
      "Speed: 1.6ms preprocess, 16.9ms inference, 0.0ms loss, 1.6ms postprocess per image\n",
      "Saving runs\\detect\\tomatOD_run_effnet_epoch_25_val2\\predictions.json...\n",
      "Results saved to \u001b[1mruns\\detect\\tomatOD_run_effnet_epoch_25_val2\u001b[0m\n",
      "WARNING  imgsz=[300] must be multiple of max stride 32, updating to [320]\n",
      "Ultralytics 8.3.70  Python-3.11.11 torch-2.7.0.dev20250127+cu126 CUDA:0 (NVIDIA GeForce RTX 3050 Laptop GPU, 4096MiB)\n"
     ]
    },
    {
     "name": "stderr",
     "output_type": "stream",
     "text": [
      "\u001b[34m\u001b[1mval: \u001b[0mScanning D:\\YOLOV8-tomatod\\tomatOD_yolo\\test\\labels.cache... 55 images, 0 backgrounds, 0 corrupt: 100%|██████████|\u001b[0m\n",
      "                 Class     Images  Instances      Box(P          R      mAP50  mAP50-95): 100%|██████████| 55/55 [00:02\n"
     ]
    },
    {
     "name": "stdout",
     "output_type": "stream",
     "text": [
      "                   all         55        468      0.595       0.79      0.709      0.414\n",
      "                unripe         55        292      0.794      0.833       0.88      0.474\n",
      "             semi-ripe         37         77      0.374      0.629      0.436      0.283\n",
      "            fully-ripe         48         99      0.616      0.909      0.812      0.485\n",
      "Speed: 1.8ms preprocess, 16.5ms inference, 0.0ms loss, 2.0ms postprocess per image\n",
      "Saving runs\\detect\\tomatOD_run_effnet_epoch_25_test2\\predictions.json...\n",
      "Results saved to \u001b[1mruns\\detect\\tomatOD_run_effnet_epoch_25_test2\u001b[0m\n"
     ]
    }
   ],
   "source": [
    "from main import run_yolo_training\n",
    "run_yolo_training()"
   ]
  }
 ],
 "metadata": {
  "kernelspec": {
   "display_name": "Python 3 (ipykernel)",
   "language": "python",
   "name": "python3"
  },
  "language_info": {
   "codemirror_mode": {
    "name": "ipython",
    "version": 3
   },
   "file_extension": ".py",
   "mimetype": "text/x-python",
   "name": "python",
   "nbconvert_exporter": "python",
   "pygments_lexer": "ipython3",
   "version": "3.11.11"
  }
 },
 "nbformat": 4,
 "nbformat_minor": 5
}
