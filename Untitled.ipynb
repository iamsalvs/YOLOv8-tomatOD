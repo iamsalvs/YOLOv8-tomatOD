{
 "cells": [
  {
   "cell_type": "code",
   "execution_count": 1,
   "id": "ce5f00a2-8629-4171-9872-be14a36dd33a",
   "metadata": {
    "scrolled": true
   },
   "outputs": [],
   "source": [
    "from initialize_tomatod import tomatodInitialize\n",
    "\n",
    "tomatodInitialize()\n",
    "\n"
   ]
  },
  {
   "cell_type": "code",
   "execution_count": 2,
   "id": "d92ad71a-9752-49d9-8225-373e14bae9e7",
   "metadata": {},
   "outputs": [
    {
     "name": "stdout",
     "output_type": "stream",
     "text": [
      "New https://pypi.org/project/ultralytics/8.3.86 available  Update with 'pip install -U ultralytics'\n",
      "Ultralytics 8.3.70  Python-3.11.11 torch-2.7.0.dev20250127+cu126 CUDA:0 (NVIDIA GeForce RTX 3050 Laptop GPU, 4096MiB)\n",
      "\u001b[34m\u001b[1mengine\\trainer: \u001b[0mtask=detect, mode=train, model=D:\\YOLOV8-tomatod\\ultralytics\\ultralytics\\cfg\\models\\v8\\yolov8n.yaml, data=tomatOD_yolo/data.yaml, epochs=25, time=None, patience=100, batch=16, imgsz=300, save=True, save_period=1, cache=False, device=0, workers=0, project=runs/detect, name=tomatOD_run_effnet, exist_ok=False, pretrained=True, optimizer=SGD, verbose=True, seed=0, deterministic=True, single_cls=False, rect=False, cos_lr=False, close_mosaic=10, resume=False, amp=True, fraction=1.0, profile=False, freeze=None, multi_scale=False, overlap_mask=True, mask_ratio=4, dropout=0.0, val=True, split=val, save_json=False, save_hybrid=False, conf=None, iou=0.7, max_det=300, half=False, dnn=False, plots=True, source=None, vid_stride=1, stream_buffer=False, visualize=False, augment=False, agnostic_nms=False, classes=None, retina_masks=False, embed=None, show=False, save_frames=False, save_txt=False, save_conf=False, save_crop=False, show_labels=True, show_conf=True, show_boxes=True, line_width=None, format=torchscript, keras=False, optimize=False, int8=False, dynamic=False, simplify=True, opset=None, workspace=None, nms=False, lr0=0.01, lrf=0.0001, momentum=0.9, weight_decay=0.0005, warmup_epochs=3.0, warmup_momentum=0.8, warmup_bias_lr=0.1, box=7.5, cls=0.5, dfl=1.5, pose=12.0, kobj=1.0, nbs=64, hsv_h=0.015, hsv_s=0.7, hsv_v=0.4, degrees=0.0, translate=0.1, scale=0.5, shear=0.0, perspective=0.0, flipud=0.0, fliplr=0.5, bgr=0.0, mosaic=1.0, mixup=0.0, copy_paste=0.0, copy_paste_mode=flip, auto_augment=randaugment, erasing=0.4, crop_fraction=1.0, cfg=None, tracker=botsort.yaml, save_dir=runs\\detect\\tomatOD_run_effnet\n",
      "\n",
      "                   from  n    params  module                                       arguments                     \n",
      "  0                  -1  1       464  ultralytics.nn.modules.conv.Conv             [3, 16, 3, 2]                 \n",
      "  1                  -1  1      4672  ultralytics.nn.modules.conv.Conv             [16, 32, 3, 2]                \n",
      "  2                  -1  1      7360  ultralytics.nn.modules.block.C2f             [32, 32, 1, True]             \n",
      "  3                  -1  1     18560  ultralytics.nn.modules.conv.Conv             [32, 64, 3, 2]                \n",
      "  4                  -1  2     49664  ultralytics.nn.modules.block.C2f             [64, 64, 2, True]             \n",
      "  5                  -1  1     73984  ultralytics.nn.modules.conv.Conv             [64, 128, 3, 2]               \n",
      "  6                  -1  2    197632  ultralytics.nn.modules.block.C2f             [128, 128, 2, True]           \n",
      "  7                  -1  1    295424  ultralytics.nn.modules.conv.Conv             [128, 256, 3, 2]              \n",
      "  8                  -1  1    460288  ultralytics.nn.modules.block.C2f             [256, 256, 1, True]           \n",
      "  9                  -1  1    164608  ultralytics.nn.modules.block.SPPF            [256, 256, 5]                 \n",
      " 10                  -1  1         0  torch.nn.modules.upsampling.Upsample         [None, 2, 'nearest']          \n",
      " 11             [-1, 6]  1         0  ultralytics.nn.modules.conv.Concat           [1]                           \n",
      " 12                  -1  1    148224  ultralytics.nn.modules.block.C2f             [384, 128, 1]                 \n",
      " 13                  -1  1         0  torch.nn.modules.upsampling.Upsample         [None, 2, 'nearest']          \n",
      " 14             [-1, 4]  1         0  ultralytics.nn.modules.conv.Concat           [1]                           \n",
      " 15                  -1  1     37248  ultralytics.nn.modules.block.C2f             [192, 64, 1]                  \n",
      " 16                  -1  1     36992  ultralytics.nn.modules.conv.Conv             [64, 64, 3, 2]                \n",
      " 17            [-1, 12]  1         0  ultralytics.nn.modules.conv.Concat           [1]                           \n",
      " 18                  -1  1    123648  ultralytics.nn.modules.block.C2f             [192, 128, 1]                 \n",
      " 19                  -1  1    147712  ultralytics.nn.modules.conv.Conv             [128, 128, 3, 2]              \n",
      " 20             [-1, 9]  1         0  ultralytics.nn.modules.conv.Concat           [1]                           \n",
      " 21                  -1  1    493056  ultralytics.nn.modules.block.C2f             [384, 256, 1]                 \n",
      " 22        [15, 18, 21]  1    751897  ultralytics.nn.modules.head.Detect           [3, [64, 128, 256]]           \n",
      "YOLOv8n summary: 225 layers, 3,011,433 parameters, 3,011,417 gradients, 8.2 GFLOPs\n",
      "\n",
      "Freezing layer 'model.22.dfl.conv.weight'\n",
      "\u001b[34m\u001b[1mAMP: \u001b[0mrunning Automatic Mixed Precision (AMP) checks...\n",
      "\u001b[34m\u001b[1mAMP: \u001b[0mchecks passed \n",
      "WARNING  imgsz=[300] must be multiple of max stride 32, updating to [320]\n"
     ]
    },
    {
     "name": "stderr",
     "output_type": "stream",
     "text": [
      "\u001b[34m\u001b[1mtrain: \u001b[0mScanning D:\\YOLOV8-tomatod\\tomatOD_yolo\\train\\labels.cache... 200 images, 0 backgrounds, 0 corrupt: 100%|███████\u001b[0m"
     ]
    },
    {
     "name": "stdout",
     "output_type": "stream",
     "text": [
      "\u001b[34m\u001b[1mtrain: \u001b[0mWARNING  D:\\YOLOV8-tomatod\\tomatOD_yolo\\train\\images\\stereo20190405_133623_p1_snap_036.jpg: 1 duplicate labels removed\n",
      "\u001b[34m\u001b[1mtrain: \u001b[0mWARNING  D:\\YOLOV8-tomatod\\tomatOD_yolo\\train\\images\\stereo20190405_133623_p2_snap_087.jpg: 2 duplicate labels removed\n",
      "\u001b[34m\u001b[1mtrain: \u001b[0mWARNING  D:\\YOLOV8-tomatod\\tomatOD_yolo\\train\\images\\stereo20190406_054921_p0_snap_414.jpg: 1 duplicate labels removed\n",
      "\u001b[34m\u001b[1mtrain: \u001b[0mWARNING  D:\\YOLOV8-tomatod\\tomatOD_yolo\\train\\images\\stereo20190406_054921_p0_snap_544.jpg: 1 duplicate labels removed\n",
      "\u001b[34m\u001b[1mtrain: \u001b[0mWARNING  D:\\YOLOV8-tomatod\\tomatOD_yolo\\train\\images\\stereo20190406_054921_p0_snap_822.jpg: 1 duplicate labels removed\n"
     ]
    },
    {
     "name": "stderr",
     "output_type": "stream",
     "text": [
      "\n",
      "\u001b[34m\u001b[1mval: \u001b[0mScanning D:\\YOLOV8-tomatod\\tomatOD_yolo\\val\\labels.cache... 22 images, 0 backgrounds, 0 corrupt: 100%|██████████| \u001b[0m"
     ]
    },
    {
     "name": "stdout",
     "output_type": "stream",
     "text": [
      "\u001b[34m\u001b[1mval: \u001b[0mWARNING  D:\\YOLOV8-tomatod\\tomatOD_yolo\\val\\images\\stereo20190405_133623_p2_snap_043.jpg: 1 duplicate labels removed\n",
      "\u001b[34m\u001b[1mval: \u001b[0mWARNING  D:\\YOLOV8-tomatod\\tomatOD_yolo\\val\\images\\stereo20190406_065607_p0_snap_080.jpg: 1 duplicate labels removed\n"
     ]
    },
    {
     "name": "stderr",
     "output_type": "stream",
     "text": [
      "\n"
     ]
    },
    {
     "name": "stdout",
     "output_type": "stream",
     "text": [
      "Plotting labels to runs\\detect\\tomatOD_run_effnet\\labels.jpg... \n",
      "\u001b[34m\u001b[1moptimizer:\u001b[0m SGD(lr=0.01, momentum=0.9) with parameter groups 57 weight(decay=0.0), 64 weight(decay=0.0005), 63 bias(decay=0.0)\n",
      "Image sizes 320 train, 320 val\n",
      "Using 0 dataloader workers\n",
      "Logging results to \u001b[1mruns\\detect\\tomatOD_run_effnet\u001b[0m\n",
      "Starting training for 25 epochs...\n",
      "\n",
      "      Epoch    GPU_mem   box_loss   cls_loss   dfl_loss  Instances       Size\n"
     ]
    },
    {
     "name": "stderr",
     "output_type": "stream",
     "text": [
      "       1/25     0.623G      6.586      16.52      4.183         85        320: 100%|██████████| 13/13 [00:05<00:00,  2.\n",
      "                 Class     Images  Instances      Box(P          R      mAP50  mAP50-95): 100%|██████████| 1/1 [00:00<0"
     ]
    },
    {
     "name": "stdout",
     "output_type": "stream",
     "text": [
      "                   all         22        245          0          0          0          0\n"
     ]
    },
    {
     "name": "stderr",
     "output_type": "stream",
     "text": [
      "\n"
     ]
    },
    {
     "name": "stdout",
     "output_type": "stream",
     "text": [
      "\n",
      "      Epoch    GPU_mem   box_loss   cls_loss   dfl_loss  Instances       Size\n"
     ]
    },
    {
     "name": "stderr",
     "output_type": "stream",
     "text": [
      "       2/25     0.614G       6.83      10.31      4.071         90        320: 100%|██████████| 13/13 [00:04<00:00,  3.\n",
      "                 Class     Images  Instances      Box(P          R      mAP50  mAP50-95): 100%|██████████| 1/1 [00:00<0"
     ]
    },
    {
     "name": "stdout",
     "output_type": "stream",
     "text": [
      "                   all         22        245          0          0          0          0\n"
     ]
    },
    {
     "name": "stderr",
     "output_type": "stream",
     "text": [
      "\n"
     ]
    },
    {
     "name": "stdout",
     "output_type": "stream",
     "text": [
      "\n",
      "      Epoch    GPU_mem   box_loss   cls_loss   dfl_loss  Instances       Size\n"
     ]
    },
    {
     "name": "stderr",
     "output_type": "stream",
     "text": [
      "       3/25     0.621G      6.651      6.607      3.868         74        320: 100%|██████████| 13/13 [00:04<00:00,  3.\n",
      "                 Class     Images  Instances      Box(P          R      mAP50  mAP50-95): 100%|██████████| 1/1 [00:00<0"
     ]
    },
    {
     "name": "stdout",
     "output_type": "stream",
     "text": [
      "                   all         22        245          0          0          0          0\n"
     ]
    },
    {
     "name": "stderr",
     "output_type": "stream",
     "text": [
      "\n"
     ]
    },
    {
     "name": "stdout",
     "output_type": "stream",
     "text": [
      "\n",
      "      Epoch    GPU_mem   box_loss   cls_loss   dfl_loss  Instances       Size\n"
     ]
    },
    {
     "name": "stderr",
     "output_type": "stream",
     "text": [
      "       4/25     0.621G      6.675       5.33      3.486         93        320: 100%|██████████| 13/13 [00:04<00:00,  3.\n",
      "                 Class     Images  Instances      Box(P          R      mAP50  mAP50-95): 100%|██████████| 1/1 [00:00<0"
     ]
    },
    {
     "name": "stdout",
     "output_type": "stream",
     "text": [
      "                   all         22        245          0          0          0          0\n"
     ]
    },
    {
     "name": "stderr",
     "output_type": "stream",
     "text": [
      "\n"
     ]
    },
    {
     "name": "stdout",
     "output_type": "stream",
     "text": [
      "\n",
      "      Epoch    GPU_mem   box_loss   cls_loss   dfl_loss  Instances       Size\n"
     ]
    },
    {
     "name": "stderr",
     "output_type": "stream",
     "text": [
      "       5/25     0.621G      6.509      4.998      3.169         51        320: 100%|██████████| 13/13 [00:04<00:00,  3.\n",
      "                 Class     Images  Instances      Box(P          R      mAP50  mAP50-95): 100%|██████████| 1/1 [00:00<0"
     ]
    },
    {
     "name": "stdout",
     "output_type": "stream",
     "text": [
      "                   all         22        245          0          0          0          0\n"
     ]
    },
    {
     "name": "stderr",
     "output_type": "stream",
     "text": [
      "\n"
     ]
    },
    {
     "name": "stdout",
     "output_type": "stream",
     "text": [
      "\n",
      "      Epoch    GPU_mem   box_loss   cls_loss   dfl_loss  Instances       Size\n"
     ]
    },
    {
     "name": "stderr",
     "output_type": "stream",
     "text": [
      "       6/25     0.612G      6.142      4.714      3.003        124        320: 100%|██████████| 13/13 [00:04<00:00,  2.\n",
      "                 Class     Images  Instances      Box(P          R      mAP50  mAP50-95): 100%|██████████| 1/1 [00:00<0"
     ]
    },
    {
     "name": "stdout",
     "output_type": "stream",
     "text": [
      "                   all         22        245          0          0          0          0\n"
     ]
    },
    {
     "name": "stderr",
     "output_type": "stream",
     "text": [
      "\n"
     ]
    },
    {
     "name": "stdout",
     "output_type": "stream",
     "text": [
      "\n",
      "      Epoch    GPU_mem   box_loss   cls_loss   dfl_loss  Instances       Size\n"
     ]
    },
    {
     "name": "stderr",
     "output_type": "stream",
     "text": [
      "       7/25      0.61G      5.834        4.5      2.739         76        320: 100%|██████████| 13/13 [00:04<00:00,  3.\n",
      "                 Class     Images  Instances      Box(P          R      mAP50  mAP50-95): 100%|██████████| 1/1 [00:00<0"
     ]
    },
    {
     "name": "stdout",
     "output_type": "stream",
     "text": [
      "                   all         22        245          0          0          0          0\n"
     ]
    },
    {
     "name": "stderr",
     "output_type": "stream",
     "text": [
      "\n"
     ]
    },
    {
     "name": "stdout",
     "output_type": "stream",
     "text": [
      "\n",
      "      Epoch    GPU_mem   box_loss   cls_loss   dfl_loss  Instances       Size\n"
     ]
    },
    {
     "name": "stderr",
     "output_type": "stream",
     "text": [
      "       8/25     0.621G      5.469      4.317       2.54         99        320: 100%|██████████| 13/13 [00:04<00:00,  3.\n",
      "                 Class     Images  Instances      Box(P          R      mAP50  mAP50-95): 100%|██████████| 1/1 [00:00<0"
     ]
    },
    {
     "name": "stdout",
     "output_type": "stream",
     "text": [
      "                   all         22        245          0          0          0          0\n"
     ]
    },
    {
     "name": "stderr",
     "output_type": "stream",
     "text": [
      "\n"
     ]
    },
    {
     "name": "stdout",
     "output_type": "stream",
     "text": [
      "\n",
      "      Epoch    GPU_mem   box_loss   cls_loss   dfl_loss  Instances       Size\n"
     ]
    },
    {
     "name": "stderr",
     "output_type": "stream",
     "text": [
      "       9/25     0.619G      5.102      4.263      2.505         37        320: 100%|██████████| 13/13 [00:04<00:00,  3.\n",
      "                 Class     Images  Instances      Box(P          R      mAP50  mAP50-95): 100%|██████████| 1/1 [00:00<0"
     ]
    },
    {
     "name": "stdout",
     "output_type": "stream",
     "text": [
      "                   all         22        245   0.000517     0.0116   0.000277   0.000101\n"
     ]
    },
    {
     "name": "stderr",
     "output_type": "stream",
     "text": [
      "\n"
     ]
    },
    {
     "name": "stdout",
     "output_type": "stream",
     "text": [
      "\n",
      "      Epoch    GPU_mem   box_loss   cls_loss   dfl_loss  Instances       Size\n"
     ]
    },
    {
     "name": "stderr",
     "output_type": "stream",
     "text": [
      "      10/25     0.652G      4.755      4.082      2.222        106        320: 100%|██████████| 13/13 [00:04<00:00,  2.\n",
      "                 Class     Images  Instances      Box(P          R      mAP50  mAP50-95): 100%|██████████| 1/1 [00:00<0"
     ]
    },
    {
     "name": "stdout",
     "output_type": "stream",
     "text": [
      "                   all         22        245   0.000828     0.0173   0.000488   0.000154\n"
     ]
    },
    {
     "name": "stderr",
     "output_type": "stream",
     "text": [
      "\n"
     ]
    },
    {
     "name": "stdout",
     "output_type": "stream",
     "text": [
      "\n",
      "      Epoch    GPU_mem   box_loss   cls_loss   dfl_loss  Instances       Size\n"
     ]
    },
    {
     "name": "stderr",
     "output_type": "stream",
     "text": [
      "      11/25     0.621G      4.473       3.95      2.148         65        320: 100%|██████████| 13/13 [00:04<00:00,  3.\n",
      "                 Class     Images  Instances      Box(P          R      mAP50  mAP50-95): 100%|██████████| 1/1 [00:00<0"
     ]
    },
    {
     "name": "stdout",
     "output_type": "stream",
     "text": [
      "                   all         22        245    0.00133     0.0366     0.0009   0.000343\n"
     ]
    },
    {
     "name": "stderr",
     "output_type": "stream",
     "text": [
      "\n"
     ]
    },
    {
     "name": "stdout",
     "output_type": "stream",
     "text": [
      "\n",
      "      Epoch    GPU_mem   box_loss   cls_loss   dfl_loss  Instances       Size\n"
     ]
    },
    {
     "name": "stderr",
     "output_type": "stream",
     "text": [
      "      12/25     0.614G      4.403      3.819      2.035         83        320: 100%|██████████| 13/13 [00:04<00:00,  3.\n",
      "                 Class     Images  Instances      Box(P          R      mAP50  mAP50-95): 100%|██████████| 1/1 [00:00<0"
     ]
    },
    {
     "name": "stdout",
     "output_type": "stream",
     "text": [
      "                   all         22        245    0.00219     0.0636    0.00138   0.000311\n"
     ]
    },
    {
     "name": "stderr",
     "output_type": "stream",
     "text": [
      "\n"
     ]
    },
    {
     "name": "stdout",
     "output_type": "stream",
     "text": [
      "\n",
      "      Epoch    GPU_mem   box_loss   cls_loss   dfl_loss  Instances       Size\n"
     ]
    },
    {
     "name": "stderr",
     "output_type": "stream",
     "text": [
      "      13/25     0.619G      4.258      3.802      1.921         95        320: 100%|██████████| 13/13 [00:03<00:00,  3.\n",
      "                 Class     Images  Instances      Box(P          R      mAP50  mAP50-95): 100%|██████████| 1/1 [00:00<0"
     ]
    },
    {
     "name": "stdout",
     "output_type": "stream",
     "text": [
      "                   all         22        245    0.00166     0.0539    0.00104   0.000342\n"
     ]
    },
    {
     "name": "stderr",
     "output_type": "stream",
     "text": [
      "\n"
     ]
    },
    {
     "name": "stdout",
     "output_type": "stream",
     "text": [
      "\n",
      "      Epoch    GPU_mem   box_loss   cls_loss   dfl_loss  Instances       Size\n"
     ]
    },
    {
     "name": "stderr",
     "output_type": "stream",
     "text": [
      "      14/25      0.65G      4.129      3.646      1.987         84        320: 100%|██████████| 13/13 [00:04<00:00,  3.\n",
      "                 Class     Images  Instances      Box(P          R      mAP50  mAP50-95): 100%|██████████| 1/1 [00:00<0"
     ]
    },
    {
     "name": "stdout",
     "output_type": "stream",
     "text": [
      "                   all         22        245   0.000541     0.0173   0.000325   0.000118\n"
     ]
    },
    {
     "name": "stderr",
     "output_type": "stream",
     "text": [
      "\n"
     ]
    },
    {
     "name": "stdout",
     "output_type": "stream",
     "text": [
      "\n",
      "      Epoch    GPU_mem   box_loss   cls_loss   dfl_loss  Instances       Size\n"
     ]
    },
    {
     "name": "stderr",
     "output_type": "stream",
     "text": [
      "      15/25     0.629G      4.138      3.575      1.834        106        320: 100%|██████████| 13/13 [00:04<00:00,  3.\n",
      "                 Class     Images  Instances      Box(P          R      mAP50  mAP50-95): 100%|██████████| 1/1 [00:00<0"
     ]
    },
    {
     "name": "stdout",
     "output_type": "stream",
     "text": [
      "                   all         22        245     0.0011     0.0347    0.00073   0.000263\n"
     ]
    },
    {
     "name": "stderr",
     "output_type": "stream",
     "text": [
      "\n"
     ]
    },
    {
     "name": "stdout",
     "output_type": "stream",
     "text": [
      "Closing dataloader mosaic\n",
      "\n",
      "      Epoch    GPU_mem   box_loss   cls_loss   dfl_loss  Instances       Size\n"
     ]
    },
    {
     "name": "stderr",
     "output_type": "stream",
     "text": [
      "      16/25     0.604G      4.007      3.441      1.804         78        320: 100%|██████████| 13/13 [00:04<00:00,  2.\n",
      "                 Class     Images  Instances      Box(P          R      mAP50  mAP50-95): 100%|██████████| 1/1 [00:00<0"
     ]
    },
    {
     "name": "stdout",
     "output_type": "stream",
     "text": [
      "                   all         22        245    0.00391     0.0585    0.00354    0.00107\n"
     ]
    },
    {
     "name": "stderr",
     "output_type": "stream",
     "text": [
      "\n"
     ]
    },
    {
     "name": "stdout",
     "output_type": "stream",
     "text": [
      "\n",
      "      Epoch    GPU_mem   box_loss   cls_loss   dfl_loss  Instances       Size\n"
     ]
    },
    {
     "name": "stderr",
     "output_type": "stream",
     "text": [
      "      17/25     0.587G      3.891      3.276      1.704         41        320: 100%|██████████| 13/13 [00:04<00:00,  2.\n",
      "                 Class     Images  Instances      Box(P          R      mAP50  mAP50-95): 100%|██████████| 1/1 [00:00<0"
     ]
    },
    {
     "name": "stdout",
     "output_type": "stream",
     "text": [
      "                   all         22        245     0.0163      0.249     0.0391      0.014\n"
     ]
    },
    {
     "name": "stderr",
     "output_type": "stream",
     "text": [
      "\n"
     ]
    },
    {
     "name": "stdout",
     "output_type": "stream",
     "text": [
      "\n",
      "      Epoch    GPU_mem   box_loss   cls_loss   dfl_loss  Instances       Size\n"
     ]
    },
    {
     "name": "stderr",
     "output_type": "stream",
     "text": [
      "      18/25     0.608G      3.877      3.159      1.681         60        320: 100%|██████████| 13/13 [00:04<00:00,  3.\n",
      "                 Class     Images  Instances      Box(P          R      mAP50  mAP50-95): 100%|██████████| 1/1 [00:00<0"
     ]
    },
    {
     "name": "stdout",
     "output_type": "stream",
     "text": [
      "                   all         22        245     0.0149       0.29     0.0372    0.00992\n"
     ]
    },
    {
     "name": "stderr",
     "output_type": "stream",
     "text": [
      "\n"
     ]
    },
    {
     "name": "stdout",
     "output_type": "stream",
     "text": [
      "\n",
      "      Epoch    GPU_mem   box_loss   cls_loss   dfl_loss  Instances       Size\n"
     ]
    },
    {
     "name": "stderr",
     "output_type": "stream",
     "text": [
      "      19/25     0.591G      3.798      2.943      1.676         61        320: 100%|██████████| 13/13 [00:04<00:00,  3.\n",
      "                 Class     Images  Instances      Box(P          R      mAP50  mAP50-95): 100%|██████████| 1/1 [00:00<0"
     ]
    },
    {
     "name": "stdout",
     "output_type": "stream",
     "text": [
      "                   all         22        245     0.0163      0.334     0.0685     0.0187\n"
     ]
    },
    {
     "name": "stderr",
     "output_type": "stream",
     "text": [
      "\n"
     ]
    },
    {
     "name": "stdout",
     "output_type": "stream",
     "text": [
      "\n",
      "      Epoch    GPU_mem   box_loss   cls_loss   dfl_loss  Instances       Size\n"
     ]
    },
    {
     "name": "stderr",
     "output_type": "stream",
     "text": [
      "      20/25     0.598G      3.821      2.886      1.623         66        320: 100%|██████████| 13/13 [00:03<00:00,  3.\n",
      "                 Class     Images  Instances      Box(P          R      mAP50  mAP50-95): 100%|██████████| 1/1 [00:00<0"
     ]
    },
    {
     "name": "stdout",
     "output_type": "stream",
     "text": [
      "                   all         22        245     0.0186      0.393     0.0875     0.0279\n"
     ]
    },
    {
     "name": "stderr",
     "output_type": "stream",
     "text": [
      "\n"
     ]
    },
    {
     "name": "stdout",
     "output_type": "stream",
     "text": [
      "\n",
      "      Epoch    GPU_mem   box_loss   cls_loss   dfl_loss  Instances       Size\n"
     ]
    },
    {
     "name": "stderr",
     "output_type": "stream",
     "text": [
      "      21/25     0.587G      3.679      2.843      1.634         61        320: 100%|██████████| 13/13 [00:04<00:00,  3.\n",
      "                 Class     Images  Instances      Box(P          R      mAP50  mAP50-95): 100%|██████████| 1/1 [00:00<0"
     ]
    },
    {
     "name": "stdout",
     "output_type": "stream",
     "text": [
      "                   all         22        245       0.19      0.306      0.168     0.0561\n"
     ]
    },
    {
     "name": "stderr",
     "output_type": "stream",
     "text": [
      "\n"
     ]
    },
    {
     "name": "stdout",
     "output_type": "stream",
     "text": [
      "\n",
      "      Epoch    GPU_mem   box_loss   cls_loss   dfl_loss  Instances       Size\n"
     ]
    },
    {
     "name": "stderr",
     "output_type": "stream",
     "text": [
      "      22/25      0.61G      3.495       2.74      1.634         75        320: 100%|██████████| 13/13 [00:03<00:00,  3.\n",
      "                 Class     Images  Instances      Box(P          R      mAP50  mAP50-95): 100%|██████████| 1/1 [00:00<0"
     ]
    },
    {
     "name": "stdout",
     "output_type": "stream",
     "text": [
      "                   all         22        245      0.271      0.245      0.151     0.0443\n"
     ]
    },
    {
     "name": "stderr",
     "output_type": "stream",
     "text": [
      "\n"
     ]
    },
    {
     "name": "stdout",
     "output_type": "stream",
     "text": [
      "\n",
      "      Epoch    GPU_mem   box_loss   cls_loss   dfl_loss  Instances       Size\n"
     ]
    },
    {
     "name": "stderr",
     "output_type": "stream",
     "text": [
      "      23/25     0.598G        3.3      2.645       1.61         48        320: 100%|██████████| 13/13 [00:04<00:00,  3.\n",
      "                 Class     Images  Instances      Box(P          R      mAP50  mAP50-95): 100%|██████████| 1/1 [00:00<0"
     ]
    },
    {
     "name": "stdout",
     "output_type": "stream",
     "text": [
      "                   all         22        245      0.335      0.302      0.191     0.0701\n"
     ]
    },
    {
     "name": "stderr",
     "output_type": "stream",
     "text": [
      "\n"
     ]
    },
    {
     "name": "stdout",
     "output_type": "stream",
     "text": [
      "\n",
      "      Epoch    GPU_mem   box_loss   cls_loss   dfl_loss  Instances       Size\n"
     ]
    },
    {
     "name": "stderr",
     "output_type": "stream",
     "text": [
      "      24/25     0.598G      3.317      2.603       1.57         78        320: 100%|██████████| 13/13 [00:04<00:00,  2.\n",
      "                 Class     Images  Instances      Box(P          R      mAP50  mAP50-95): 100%|██████████| 1/1 [00:00<0"
     ]
    },
    {
     "name": "stdout",
     "output_type": "stream",
     "text": [
      "                   all         22        245      0.332      0.314      0.206     0.0815\n"
     ]
    },
    {
     "name": "stderr",
     "output_type": "stream",
     "text": [
      "\n"
     ]
    },
    {
     "name": "stdout",
     "output_type": "stream",
     "text": [
      "\n",
      "      Epoch    GPU_mem   box_loss   cls_loss   dfl_loss  Instances       Size\n"
     ]
    },
    {
     "name": "stderr",
     "output_type": "stream",
     "text": [
      "      25/25     0.587G      3.235      2.557      1.574         67        320: 100%|██████████| 13/13 [00:04<00:00,  3.\n",
      "                 Class     Images  Instances      Box(P          R      mAP50  mAP50-95): 100%|██████████| 1/1 [00:00<0"
     ]
    },
    {
     "name": "stdout",
     "output_type": "stream",
     "text": [
      "                   all         22        245       0.34      0.326      0.213     0.0884\n"
     ]
    },
    {
     "name": "stderr",
     "output_type": "stream",
     "text": [
      "\n"
     ]
    },
    {
     "name": "stdout",
     "output_type": "stream",
     "text": [
      "\n",
      "25 epochs completed in 0.066 hours.\n",
      "Optimizer stripped from runs\\detect\\tomatOD_run_effnet\\weights\\last.pt, 6.2MB\n",
      "Optimizer stripped from runs\\detect\\tomatOD_run_effnet\\weights\\best.pt, 6.2MB\n",
      "\n",
      "Validating runs\\detect\\tomatOD_run_effnet\\weights\\best.pt...\n",
      "Ultralytics 8.3.70  Python-3.11.11 torch-2.7.0.dev20250127+cu126 CUDA:0 (NVIDIA GeForce RTX 3050 Laptop GPU, 4096MiB)\n",
      "YOLOv8n summary (fused): 168 layers, 3,006,233 parameters, 0 gradients, 8.1 GFLOPs\n"
     ]
    },
    {
     "name": "stderr",
     "output_type": "stream",
     "text": [
      "                 Class     Images  Instances      Box(P          R      mAP50  mAP50-95): 100%|██████████| 1/1 [00:00<0\n"
     ]
    },
    {
     "name": "stdout",
     "output_type": "stream",
     "text": [
      "                   all         22        245      0.342      0.327      0.213     0.0885\n",
      "                unripe         22        173      0.238     0.0489     0.0445     0.0106\n",
      "             semi-ripe         17         37      0.403      0.475      0.299      0.118\n",
      "            fully-ripe         16         35      0.383      0.457      0.296      0.136\n",
      "Speed: 0.7ms preprocess, 10.8ms inference, 0.0ms loss, 1.2ms postprocess per image\n",
      "Results saved to \u001b[1mruns\\detect\\tomatOD_run_effnet\u001b[0m\n",
      "WARNING  imgsz=[300] must be multiple of max stride 32, updating to [320]\n",
      "Ultralytics 8.3.70  Python-3.11.11 torch-2.7.0.dev20250127+cu126 CUDA:0 (NVIDIA GeForce RTX 3050 Laptop GPU, 4096MiB)\n",
      "YOLOv8n summary (fused): 168 layers, 3,006,233 parameters, 0 gradients, 8.1 GFLOPs\n"
     ]
    },
    {
     "name": "stderr",
     "output_type": "stream",
     "text": [
      "\u001b[34m\u001b[1mval: \u001b[0mScanning D:\\YOLOV8-tomatod\\tomatOD_yolo\\val\\labels.cache... 22 images, 0 backgrounds, 0 corrupt: 100%|██████████| \u001b[0m"
     ]
    },
    {
     "name": "stdout",
     "output_type": "stream",
     "text": [
      "\u001b[34m\u001b[1mval: \u001b[0mWARNING  D:\\YOLOV8-tomatod\\tomatOD_yolo\\val\\images\\stereo20190405_133623_p2_snap_043.jpg: 1 duplicate labels removed\n",
      "\u001b[34m\u001b[1mval: \u001b[0mWARNING  D:\\YOLOV8-tomatod\\tomatOD_yolo\\val\\images\\stereo20190406_065607_p0_snap_080.jpg: 1 duplicate labels removed\n"
     ]
    },
    {
     "name": "stderr",
     "output_type": "stream",
     "text": [
      "\n",
      "                 Class     Images  Instances      Box(P          R      mAP50  mAP50-95): 100%|██████████| 22/22 [00:01"
     ]
    },
    {
     "name": "stdout",
     "output_type": "stream",
     "text": [
      "                   all         22        245          0          0          0          0\n"
     ]
    },
    {
     "name": "stderr",
     "output_type": "stream",
     "text": [
      "\n"
     ]
    },
    {
     "name": "stdout",
     "output_type": "stream",
     "text": [
      "Speed: 2.0ms preprocess, 17.5ms inference, 0.0ms loss, 0.6ms postprocess per image\n",
      "Results saved to \u001b[1mruns\\detect\\tomatOD_run_effnet_epoch_1_val\u001b[0m\n",
      "WARNING  imgsz=[300] must be multiple of max stride 32, updating to [320]\n",
      "Ultralytics 8.3.70  Python-3.11.11 torch-2.7.0.dev20250127+cu126 CUDA:0 (NVIDIA GeForce RTX 3050 Laptop GPU, 4096MiB)\n"
     ]
    },
    {
     "name": "stderr",
     "output_type": "stream",
     "text": [
      "\u001b[34m\u001b[1mval: \u001b[0mScanning D:\\YOLOV8-tomatod\\tomatOD_yolo\\test\\labels.cache... 55 images, 0 backgrounds, 0 corrupt: 100%|██████████|\u001b[0m\n",
      "                 Class     Images  Instances      Box(P          R      mAP50  mAP50-95): 100%|██████████| 55/55 [00:02"
     ]
    },
    {
     "name": "stdout",
     "output_type": "stream",
     "text": [
      "                   all         55        468          0          0          0          0\n"
     ]
    },
    {
     "name": "stderr",
     "output_type": "stream",
     "text": [
      "\n"
     ]
    },
    {
     "name": "stdout",
     "output_type": "stream",
     "text": [
      "Speed: 2.3ms preprocess, 14.7ms inference, 0.0ms loss, 0.5ms postprocess per image\n",
      "Results saved to \u001b[1mruns\\detect\\tomatOD_run_effnet_epoch_1_test\u001b[0m\n",
      "WARNING  imgsz=[300] must be multiple of max stride 32, updating to [320]\n",
      "Ultralytics 8.3.70  Python-3.11.11 torch-2.7.0.dev20250127+cu126 CUDA:0 (NVIDIA GeForce RTX 3050 Laptop GPU, 4096MiB)\n",
      "YOLOv8n summary (fused): 168 layers, 3,006,233 parameters, 0 gradients, 8.1 GFLOPs\n"
     ]
    },
    {
     "name": "stderr",
     "output_type": "stream",
     "text": [
      "\u001b[34m\u001b[1mval: \u001b[0mScanning D:\\YOLOV8-tomatod\\tomatOD_yolo\\val\\labels.cache... 22 images, 0 backgrounds, 0 corrupt: 100%|██████████| \u001b[0m"
     ]
    },
    {
     "name": "stdout",
     "output_type": "stream",
     "text": [
      "\u001b[34m\u001b[1mval: \u001b[0mWARNING  D:\\YOLOV8-tomatod\\tomatOD_yolo\\val\\images\\stereo20190405_133623_p2_snap_043.jpg: 1 duplicate labels removed\n",
      "\u001b[34m\u001b[1mval: \u001b[0mWARNING  D:\\YOLOV8-tomatod\\tomatOD_yolo\\val\\images\\stereo20190406_065607_p0_snap_080.jpg: 1 duplicate labels removed\n"
     ]
    },
    {
     "name": "stderr",
     "output_type": "stream",
     "text": [
      "\n",
      "                 Class     Images  Instances      Box(P          R      mAP50  mAP50-95): 100%|██████████| 22/22 [00:00"
     ]
    },
    {
     "name": "stdout",
     "output_type": "stream",
     "text": [
      "                   all         22        245          0          0          0          0\n"
     ]
    },
    {
     "name": "stderr",
     "output_type": "stream",
     "text": [
      "\n"
     ]
    },
    {
     "name": "stdout",
     "output_type": "stream",
     "text": [
      "Speed: 2.1ms preprocess, 16.2ms inference, 0.0ms loss, 0.8ms postprocess per image\n",
      "Results saved to \u001b[1mruns\\detect\\tomatOD_run_effnet_epoch_2_val\u001b[0m\n",
      "WARNING  imgsz=[300] must be multiple of max stride 32, updating to [320]\n",
      "Ultralytics 8.3.70  Python-3.11.11 torch-2.7.0.dev20250127+cu126 CUDA:0 (NVIDIA GeForce RTX 3050 Laptop GPU, 4096MiB)\n"
     ]
    },
    {
     "name": "stderr",
     "output_type": "stream",
     "text": [
      "\u001b[34m\u001b[1mval: \u001b[0mScanning D:\\YOLOV8-tomatod\\tomatOD_yolo\\test\\labels.cache... 55 images, 0 backgrounds, 0 corrupt: 100%|██████████|\u001b[0m\n",
      "                 Class     Images  Instances      Box(P          R      mAP50  mAP50-95): 100%|██████████| 55/55 [00:02"
     ]
    },
    {
     "name": "stdout",
     "output_type": "stream",
     "text": [
      "                   all         55        468          0          0          0          0\n"
     ]
    },
    {
     "name": "stderr",
     "output_type": "stream",
     "text": [
      "\n"
     ]
    },
    {
     "name": "stdout",
     "output_type": "stream",
     "text": [
      "Speed: 2.2ms preprocess, 13.8ms inference, 0.0ms loss, 1.1ms postprocess per image\n",
      "Results saved to \u001b[1mruns\\detect\\tomatOD_run_effnet_epoch_2_test\u001b[0m\n",
      "WARNING  imgsz=[300] must be multiple of max stride 32, updating to [320]\n",
      "Ultralytics 8.3.70  Python-3.11.11 torch-2.7.0.dev20250127+cu126 CUDA:0 (NVIDIA GeForce RTX 3050 Laptop GPU, 4096MiB)\n",
      "YOLOv8n summary (fused): 168 layers, 3,006,233 parameters, 0 gradients, 8.1 GFLOPs\n"
     ]
    },
    {
     "name": "stderr",
     "output_type": "stream",
     "text": [
      "\u001b[34m\u001b[1mval: \u001b[0mScanning D:\\YOLOV8-tomatod\\tomatOD_yolo\\val\\labels.cache... 22 images, 0 backgrounds, 0 corrupt: 100%|██████████| \u001b[0m"
     ]
    },
    {
     "name": "stdout",
     "output_type": "stream",
     "text": [
      "\u001b[34m\u001b[1mval: \u001b[0mWARNING  D:\\YOLOV8-tomatod\\tomatOD_yolo\\val\\images\\stereo20190405_133623_p2_snap_043.jpg: 1 duplicate labels removed\n",
      "\u001b[34m\u001b[1mval: \u001b[0mWARNING  D:\\YOLOV8-tomatod\\tomatOD_yolo\\val\\images\\stereo20190406_065607_p0_snap_080.jpg: 1 duplicate labels removed\n"
     ]
    },
    {
     "name": "stderr",
     "output_type": "stream",
     "text": [
      "\n",
      "                 Class     Images  Instances      Box(P          R      mAP50  mAP50-95): 100%|██████████| 22/22 [00:00"
     ]
    },
    {
     "name": "stdout",
     "output_type": "stream",
     "text": [
      "                   all         22        245          0          0          0          0\n"
     ]
    },
    {
     "name": "stderr",
     "output_type": "stream",
     "text": [
      "\n"
     ]
    },
    {
     "name": "stdout",
     "output_type": "stream",
     "text": [
      "Speed: 1.5ms preprocess, 14.0ms inference, 0.0ms loss, 0.8ms postprocess per image\n",
      "Results saved to \u001b[1mruns\\detect\\tomatOD_run_effnet_epoch_3_val\u001b[0m\n",
      "WARNING  imgsz=[300] must be multiple of max stride 32, updating to [320]\n",
      "Ultralytics 8.3.70  Python-3.11.11 torch-2.7.0.dev20250127+cu126 CUDA:0 (NVIDIA GeForce RTX 3050 Laptop GPU, 4096MiB)\n"
     ]
    },
    {
     "name": "stderr",
     "output_type": "stream",
     "text": [
      "\u001b[34m\u001b[1mval: \u001b[0mScanning D:\\YOLOV8-tomatod\\tomatOD_yolo\\test\\labels.cache... 55 images, 0 backgrounds, 0 corrupt: 100%|██████████|\u001b[0m\n",
      "                 Class     Images  Instances      Box(P          R      mAP50  mAP50-95): 100%|██████████| 55/55 [00:01"
     ]
    },
    {
     "name": "stdout",
     "output_type": "stream",
     "text": [
      "                   all         55        468          0          0          0          0\n"
     ]
    },
    {
     "name": "stderr",
     "output_type": "stream",
     "text": [
      "\n"
     ]
    },
    {
     "name": "stdout",
     "output_type": "stream",
     "text": [
      "Speed: 1.3ms preprocess, 10.2ms inference, 0.0ms loss, 1.1ms postprocess per image\n",
      "Results saved to \u001b[1mruns\\detect\\tomatOD_run_effnet_epoch_3_test\u001b[0m\n",
      "WARNING  imgsz=[300] must be multiple of max stride 32, updating to [320]\n",
      "Ultralytics 8.3.70  Python-3.11.11 torch-2.7.0.dev20250127+cu126 CUDA:0 (NVIDIA GeForce RTX 3050 Laptop GPU, 4096MiB)\n",
      "YOLOv8n summary (fused): 168 layers, 3,006,233 parameters, 0 gradients, 8.1 GFLOPs\n"
     ]
    },
    {
     "name": "stderr",
     "output_type": "stream",
     "text": [
      "\u001b[34m\u001b[1mval: \u001b[0mScanning D:\\YOLOV8-tomatod\\tomatOD_yolo\\val\\labels.cache... 22 images, 0 backgrounds, 0 corrupt: 100%|██████████| \u001b[0m"
     ]
    },
    {
     "name": "stdout",
     "output_type": "stream",
     "text": [
      "\u001b[34m\u001b[1mval: \u001b[0mWARNING  D:\\YOLOV8-tomatod\\tomatOD_yolo\\val\\images\\stereo20190405_133623_p2_snap_043.jpg: 1 duplicate labels removed\n",
      "\u001b[34m\u001b[1mval: \u001b[0mWARNING  D:\\YOLOV8-tomatod\\tomatOD_yolo\\val\\images\\stereo20190406_065607_p0_snap_080.jpg: 1 duplicate labels removed\n"
     ]
    },
    {
     "name": "stderr",
     "output_type": "stream",
     "text": [
      "\n",
      "                 Class     Images  Instances      Box(P          R      mAP50  mAP50-95): 100%|██████████| 22/22 [00:00"
     ]
    },
    {
     "name": "stdout",
     "output_type": "stream",
     "text": [
      "                   all         22        245          0          0          0          0\n"
     ]
    },
    {
     "name": "stderr",
     "output_type": "stream",
     "text": [
      "\n"
     ]
    },
    {
     "name": "stdout",
     "output_type": "stream",
     "text": [
      "Speed: 1.6ms preprocess, 15.4ms inference, 0.0ms loss, 0.8ms postprocess per image\n",
      "Results saved to \u001b[1mruns\\detect\\tomatOD_run_effnet_epoch_4_val\u001b[0m\n",
      "WARNING  imgsz=[300] must be multiple of max stride 32, updating to [320]\n",
      "Ultralytics 8.3.70  Python-3.11.11 torch-2.7.0.dev20250127+cu126 CUDA:0 (NVIDIA GeForce RTX 3050 Laptop GPU, 4096MiB)\n"
     ]
    },
    {
     "name": "stderr",
     "output_type": "stream",
     "text": [
      "\u001b[34m\u001b[1mval: \u001b[0mScanning D:\\YOLOV8-tomatod\\tomatOD_yolo\\test\\labels.cache... 55 images, 0 backgrounds, 0 corrupt: 100%|██████████|\u001b[0m\n",
      "                 Class     Images  Instances      Box(P          R      mAP50  mAP50-95): 100%|██████████| 55/55 [00:02"
     ]
    },
    {
     "name": "stdout",
     "output_type": "stream",
     "text": [
      "                   all         55        468          0          0          0          0\n"
     ]
    },
    {
     "name": "stderr",
     "output_type": "stream",
     "text": [
      "\n"
     ]
    },
    {
     "name": "stdout",
     "output_type": "stream",
     "text": [
      "Speed: 1.6ms preprocess, 13.8ms inference, 0.0ms loss, 1.0ms postprocess per image\n",
      "Results saved to \u001b[1mruns\\detect\\tomatOD_run_effnet_epoch_4_test\u001b[0m\n",
      "WARNING  imgsz=[300] must be multiple of max stride 32, updating to [320]\n",
      "Ultralytics 8.3.70  Python-3.11.11 torch-2.7.0.dev20250127+cu126 CUDA:0 (NVIDIA GeForce RTX 3050 Laptop GPU, 4096MiB)\n",
      "YOLOv8n summary (fused): 168 layers, 3,006,233 parameters, 0 gradients, 8.1 GFLOPs\n"
     ]
    },
    {
     "name": "stderr",
     "output_type": "stream",
     "text": [
      "\u001b[34m\u001b[1mval: \u001b[0mScanning D:\\YOLOV8-tomatod\\tomatOD_yolo\\val\\labels.cache... 22 images, 0 backgrounds, 0 corrupt: 100%|██████████| \u001b[0m"
     ]
    },
    {
     "name": "stdout",
     "output_type": "stream",
     "text": [
      "\u001b[34m\u001b[1mval: \u001b[0mWARNING  D:\\YOLOV8-tomatod\\tomatOD_yolo\\val\\images\\stereo20190405_133623_p2_snap_043.jpg: 1 duplicate labels removed\n",
      "\u001b[34m\u001b[1mval: \u001b[0mWARNING  D:\\YOLOV8-tomatod\\tomatOD_yolo\\val\\images\\stereo20190406_065607_p0_snap_080.jpg: 1 duplicate labels removed\n"
     ]
    },
    {
     "name": "stderr",
     "output_type": "stream",
     "text": [
      "\n",
      "                 Class     Images  Instances      Box(P          R      mAP50  mAP50-95): 100%|██████████| 22/22 [00:00"
     ]
    },
    {
     "name": "stdout",
     "output_type": "stream",
     "text": [
      "                   all         22        245          0          0          0          0\n"
     ]
    },
    {
     "name": "stderr",
     "output_type": "stream",
     "text": [
      "\n"
     ]
    },
    {
     "name": "stdout",
     "output_type": "stream",
     "text": [
      "Speed: 1.5ms preprocess, 15.9ms inference, 0.0ms loss, 1.3ms postprocess per image\n",
      "Results saved to \u001b[1mruns\\detect\\tomatOD_run_effnet_epoch_5_val\u001b[0m\n",
      "WARNING  imgsz=[300] must be multiple of max stride 32, updating to [320]\n",
      "Ultralytics 8.3.70  Python-3.11.11 torch-2.7.0.dev20250127+cu126 CUDA:0 (NVIDIA GeForce RTX 3050 Laptop GPU, 4096MiB)\n"
     ]
    },
    {
     "name": "stderr",
     "output_type": "stream",
     "text": [
      "\u001b[34m\u001b[1mval: \u001b[0mScanning D:\\YOLOV8-tomatod\\tomatOD_yolo\\test\\labels.cache... 55 images, 0 backgrounds, 0 corrupt: 100%|██████████|\u001b[0m\n",
      "                 Class     Images  Instances      Box(P          R      mAP50  mAP50-95): 100%|██████████| 55/55 [00:02"
     ]
    },
    {
     "name": "stdout",
     "output_type": "stream",
     "text": [
      "                   all         55        468          0          0          0          0\n"
     ]
    },
    {
     "name": "stderr",
     "output_type": "stream",
     "text": [
      "\n"
     ]
    },
    {
     "name": "stdout",
     "output_type": "stream",
     "text": [
      "Speed: 2.1ms preprocess, 14.2ms inference, 0.0ms loss, 0.7ms postprocess per image\n",
      "Results saved to \u001b[1mruns\\detect\\tomatOD_run_effnet_epoch_5_test\u001b[0m\n",
      "WARNING  imgsz=[300] must be multiple of max stride 32, updating to [320]\n",
      "Ultralytics 8.3.70  Python-3.11.11 torch-2.7.0.dev20250127+cu126 CUDA:0 (NVIDIA GeForce RTX 3050 Laptop GPU, 4096MiB)\n",
      "YOLOv8n summary (fused): 168 layers, 3,006,233 parameters, 0 gradients, 8.1 GFLOPs\n"
     ]
    },
    {
     "name": "stderr",
     "output_type": "stream",
     "text": [
      "\u001b[34m\u001b[1mval: \u001b[0mScanning D:\\YOLOV8-tomatod\\tomatOD_yolo\\val\\labels.cache... 22 images, 0 backgrounds, 0 corrupt: 100%|██████████| \u001b[0m"
     ]
    },
    {
     "name": "stdout",
     "output_type": "stream",
     "text": [
      "\u001b[34m\u001b[1mval: \u001b[0mWARNING  D:\\YOLOV8-tomatod\\tomatOD_yolo\\val\\images\\stereo20190405_133623_p2_snap_043.jpg: 1 duplicate labels removed\n",
      "\u001b[34m\u001b[1mval: \u001b[0mWARNING  D:\\YOLOV8-tomatod\\tomatOD_yolo\\val\\images\\stereo20190406_065607_p0_snap_080.jpg: 1 duplicate labels removed\n"
     ]
    },
    {
     "name": "stderr",
     "output_type": "stream",
     "text": [
      "\n",
      "                 Class     Images  Instances      Box(P          R      mAP50  mAP50-95): 100%|██████████| 22/22 [00:00"
     ]
    },
    {
     "name": "stdout",
     "output_type": "stream",
     "text": [
      "                   all         22        245          0          0          0          0\n"
     ]
    },
    {
     "name": "stderr",
     "output_type": "stream",
     "text": [
      "\n"
     ]
    },
    {
     "name": "stdout",
     "output_type": "stream",
     "text": [
      "Speed: 2.0ms preprocess, 14.8ms inference, 0.0ms loss, 1.0ms postprocess per image\n",
      "Results saved to \u001b[1mruns\\detect\\tomatOD_run_effnet_epoch_6_val\u001b[0m\n",
      "WARNING  imgsz=[300] must be multiple of max stride 32, updating to [320]\n",
      "Ultralytics 8.3.70  Python-3.11.11 torch-2.7.0.dev20250127+cu126 CUDA:0 (NVIDIA GeForce RTX 3050 Laptop GPU, 4096MiB)\n"
     ]
    },
    {
     "name": "stderr",
     "output_type": "stream",
     "text": [
      "\u001b[34m\u001b[1mval: \u001b[0mScanning D:\\YOLOV8-tomatod\\tomatOD_yolo\\test\\labels.cache... 55 images, 0 backgrounds, 0 corrupt: 100%|██████████|\u001b[0m\n",
      "                 Class     Images  Instances      Box(P          R      mAP50  mAP50-95): 100%|██████████| 55/55 [00:02"
     ]
    },
    {
     "name": "stdout",
     "output_type": "stream",
     "text": [
      "                   all         55        468          0          0          0          0\n"
     ]
    },
    {
     "name": "stderr",
     "output_type": "stream",
     "text": [
      "\n"
     ]
    },
    {
     "name": "stdout",
     "output_type": "stream",
     "text": [
      "Speed: 2.0ms preprocess, 13.1ms inference, 0.0ms loss, 0.5ms postprocess per image\n",
      "Results saved to \u001b[1mruns\\detect\\tomatOD_run_effnet_epoch_6_test\u001b[0m\n",
      "WARNING  imgsz=[300] must be multiple of max stride 32, updating to [320]\n",
      "Ultralytics 8.3.70  Python-3.11.11 torch-2.7.0.dev20250127+cu126 CUDA:0 (NVIDIA GeForce RTX 3050 Laptop GPU, 4096MiB)\n",
      "YOLOv8n summary (fused): 168 layers, 3,006,233 parameters, 0 gradients, 8.1 GFLOPs\n"
     ]
    },
    {
     "name": "stderr",
     "output_type": "stream",
     "text": [
      "\u001b[34m\u001b[1mval: \u001b[0mScanning D:\\YOLOV8-tomatod\\tomatOD_yolo\\val\\labels.cache... 22 images, 0 backgrounds, 0 corrupt: 100%|██████████| \u001b[0m"
     ]
    },
    {
     "name": "stdout",
     "output_type": "stream",
     "text": [
      "\u001b[34m\u001b[1mval: \u001b[0mWARNING  D:\\YOLOV8-tomatod\\tomatOD_yolo\\val\\images\\stereo20190405_133623_p2_snap_043.jpg: 1 duplicate labels removed\n",
      "\u001b[34m\u001b[1mval: \u001b[0mWARNING  D:\\YOLOV8-tomatod\\tomatOD_yolo\\val\\images\\stereo20190406_065607_p0_snap_080.jpg: 1 duplicate labels removed\n"
     ]
    },
    {
     "name": "stderr",
     "output_type": "stream",
     "text": [
      "\n",
      "                 Class     Images  Instances      Box(P          R      mAP50  mAP50-95): 100%|██████████| 22/22 [00:00"
     ]
    },
    {
     "name": "stdout",
     "output_type": "stream",
     "text": [
      "                   all         22        245          0          0          0          0\n"
     ]
    },
    {
     "name": "stderr",
     "output_type": "stream",
     "text": [
      "\n"
     ]
    },
    {
     "name": "stdout",
     "output_type": "stream",
     "text": [
      "Speed: 0.7ms preprocess, 14.0ms inference, 0.0ms loss, 1.1ms postprocess per image\n",
      "Results saved to \u001b[1mruns\\detect\\tomatOD_run_effnet_epoch_7_val\u001b[0m\n",
      "WARNING  imgsz=[300] must be multiple of max stride 32, updating to [320]\n",
      "Ultralytics 8.3.70  Python-3.11.11 torch-2.7.0.dev20250127+cu126 CUDA:0 (NVIDIA GeForce RTX 3050 Laptop GPU, 4096MiB)\n"
     ]
    },
    {
     "name": "stderr",
     "output_type": "stream",
     "text": [
      "\u001b[34m\u001b[1mval: \u001b[0mScanning D:\\YOLOV8-tomatod\\tomatOD_yolo\\test\\labels.cache... 55 images, 0 backgrounds, 0 corrupt: 100%|██████████|\u001b[0m\n",
      "                 Class     Images  Instances      Box(P          R      mAP50  mAP50-95): 100%|██████████| 55/55 [00:02"
     ]
    },
    {
     "name": "stdout",
     "output_type": "stream",
     "text": [
      "                   all         55        468          0          0          0          0\n"
     ]
    },
    {
     "name": "stderr",
     "output_type": "stream",
     "text": [
      "\n"
     ]
    },
    {
     "name": "stdout",
     "output_type": "stream",
     "text": [
      "Speed: 1.8ms preprocess, 14.0ms inference, 0.0ms loss, 0.8ms postprocess per image\n",
      "Results saved to \u001b[1mruns\\detect\\tomatOD_run_effnet_epoch_7_test\u001b[0m\n",
      "WARNING  imgsz=[300] must be multiple of max stride 32, updating to [320]\n",
      "Ultralytics 8.3.70  Python-3.11.11 torch-2.7.0.dev20250127+cu126 CUDA:0 (NVIDIA GeForce RTX 3050 Laptop GPU, 4096MiB)\n",
      "YOLOv8n summary (fused): 168 layers, 3,006,233 parameters, 0 gradients, 8.1 GFLOPs\n"
     ]
    },
    {
     "name": "stderr",
     "output_type": "stream",
     "text": [
      "\u001b[34m\u001b[1mval: \u001b[0mScanning D:\\YOLOV8-tomatod\\tomatOD_yolo\\val\\labels.cache... 22 images, 0 backgrounds, 0 corrupt: 100%|██████████| \u001b[0m"
     ]
    },
    {
     "name": "stdout",
     "output_type": "stream",
     "text": [
      "\u001b[34m\u001b[1mval: \u001b[0mWARNING  D:\\YOLOV8-tomatod\\tomatOD_yolo\\val\\images\\stereo20190405_133623_p2_snap_043.jpg: 1 duplicate labels removed\n",
      "\u001b[34m\u001b[1mval: \u001b[0mWARNING  D:\\YOLOV8-tomatod\\tomatOD_yolo\\val\\images\\stereo20190406_065607_p0_snap_080.jpg: 1 duplicate labels removed\n"
     ]
    },
    {
     "name": "stderr",
     "output_type": "stream",
     "text": [
      "\n",
      "                 Class     Images  Instances      Box(P          R      mAP50  mAP50-95): 100%|██████████| 22/22 [00:00"
     ]
    },
    {
     "name": "stdout",
     "output_type": "stream",
     "text": [
      "                   all         22        245          0          0          0          0\n"
     ]
    },
    {
     "name": "stderr",
     "output_type": "stream",
     "text": [
      "\n"
     ]
    },
    {
     "name": "stdout",
     "output_type": "stream",
     "text": [
      "Speed: 2.8ms preprocess, 12.6ms inference, 0.0ms loss, 1.2ms postprocess per image\n",
      "Results saved to \u001b[1mruns\\detect\\tomatOD_run_effnet_epoch_8_val\u001b[0m\n",
      "WARNING  imgsz=[300] must be multiple of max stride 32, updating to [320]\n",
      "Ultralytics 8.3.70  Python-3.11.11 torch-2.7.0.dev20250127+cu126 CUDA:0 (NVIDIA GeForce RTX 3050 Laptop GPU, 4096MiB)\n"
     ]
    },
    {
     "name": "stderr",
     "output_type": "stream",
     "text": [
      "\u001b[34m\u001b[1mval: \u001b[0mScanning D:\\YOLOV8-tomatod\\tomatOD_yolo\\test\\labels.cache... 55 images, 0 backgrounds, 0 corrupt: 100%|██████████|\u001b[0m\n",
      "                 Class     Images  Instances      Box(P          R      mAP50  mAP50-95): 100%|██████████| 55/55 [00:01"
     ]
    },
    {
     "name": "stdout",
     "output_type": "stream",
     "text": [
      "                   all         55        468          0          0          0          0\n"
     ]
    },
    {
     "name": "stderr",
     "output_type": "stream",
     "text": [
      "\n"
     ]
    },
    {
     "name": "stdout",
     "output_type": "stream",
     "text": [
      "Speed: 1.3ms preprocess, 12.0ms inference, 0.0ms loss, 0.6ms postprocess per image\n",
      "Results saved to \u001b[1mruns\\detect\\tomatOD_run_effnet_epoch_8_test\u001b[0m\n",
      "WARNING  imgsz=[300] must be multiple of max stride 32, updating to [320]\n",
      "Ultralytics 8.3.70  Python-3.11.11 torch-2.7.0.dev20250127+cu126 CUDA:0 (NVIDIA GeForce RTX 3050 Laptop GPU, 4096MiB)\n",
      "YOLOv8n summary (fused): 168 layers, 3,006,233 parameters, 0 gradients, 8.1 GFLOPs\n"
     ]
    },
    {
     "name": "stderr",
     "output_type": "stream",
     "text": [
      "\u001b[34m\u001b[1mval: \u001b[0mScanning D:\\YOLOV8-tomatod\\tomatOD_yolo\\val\\labels.cache... 22 images, 0 backgrounds, 0 corrupt: 100%|██████████| \u001b[0m"
     ]
    },
    {
     "name": "stdout",
     "output_type": "stream",
     "text": [
      "\u001b[34m\u001b[1mval: \u001b[0mWARNING  D:\\YOLOV8-tomatod\\tomatOD_yolo\\val\\images\\stereo20190405_133623_p2_snap_043.jpg: 1 duplicate labels removed\n",
      "\u001b[34m\u001b[1mval: \u001b[0mWARNING  D:\\YOLOV8-tomatod\\tomatOD_yolo\\val\\images\\stereo20190406_065607_p0_snap_080.jpg: 1 duplicate labels removed\n"
     ]
    },
    {
     "name": "stderr",
     "output_type": "stream",
     "text": [
      "\n",
      "                 Class     Images  Instances      Box(P          R      mAP50  mAP50-95): 100%|██████████| 22/22 [00:01"
     ]
    },
    {
     "name": "stdout",
     "output_type": "stream",
     "text": [
      "                   all         22        245          0          0          0          0\n"
     ]
    },
    {
     "name": "stderr",
     "output_type": "stream",
     "text": [
      "\n"
     ]
    },
    {
     "name": "stdout",
     "output_type": "stream",
     "text": [
      "Speed: 1.7ms preprocess, 16.7ms inference, 0.0ms loss, 0.7ms postprocess per image\n",
      "Results saved to \u001b[1mruns\\detect\\tomatOD_run_effnet_epoch_9_val\u001b[0m\n",
      "WARNING  imgsz=[300] must be multiple of max stride 32, updating to [320]\n",
      "Ultralytics 8.3.70  Python-3.11.11 torch-2.7.0.dev20250127+cu126 CUDA:0 (NVIDIA GeForce RTX 3050 Laptop GPU, 4096MiB)\n"
     ]
    },
    {
     "name": "stderr",
     "output_type": "stream",
     "text": [
      "\u001b[34m\u001b[1mval: \u001b[0mScanning D:\\YOLOV8-tomatod\\tomatOD_yolo\\test\\labels.cache... 55 images, 0 backgrounds, 0 corrupt: 100%|██████████|\u001b[0m\n",
      "                 Class     Images  Instances      Box(P          R      mAP50  mAP50-95): 100%|██████████| 55/55 [00:02"
     ]
    },
    {
     "name": "stdout",
     "output_type": "stream",
     "text": [
      "                   all         55        468          0          0          0          0\n"
     ]
    },
    {
     "name": "stderr",
     "output_type": "stream",
     "text": [
      "\n"
     ]
    },
    {
     "name": "stdout",
     "output_type": "stream",
     "text": [
      "Speed: 2.0ms preprocess, 14.3ms inference, 0.0ms loss, 0.6ms postprocess per image\n",
      "Results saved to \u001b[1mruns\\detect\\tomatOD_run_effnet_epoch_9_test\u001b[0m\n",
      "WARNING  imgsz=[300] must be multiple of max stride 32, updating to [320]\n",
      "Ultralytics 8.3.70  Python-3.11.11 torch-2.7.0.dev20250127+cu126 CUDA:0 (NVIDIA GeForce RTX 3050 Laptop GPU, 4096MiB)\n",
      "YOLOv8n summary (fused): 168 layers, 3,006,233 parameters, 0 gradients, 8.1 GFLOPs\n"
     ]
    },
    {
     "name": "stderr",
     "output_type": "stream",
     "text": [
      "\u001b[34m\u001b[1mval: \u001b[0mScanning D:\\YOLOV8-tomatod\\tomatOD_yolo\\val\\labels.cache... 22 images, 0 backgrounds, 0 corrupt: 100%|██████████| \u001b[0m"
     ]
    },
    {
     "name": "stdout",
     "output_type": "stream",
     "text": [
      "\u001b[34m\u001b[1mval: \u001b[0mWARNING  D:\\YOLOV8-tomatod\\tomatOD_yolo\\val\\images\\stereo20190405_133623_p2_snap_043.jpg: 1 duplicate labels removed\n",
      "\u001b[34m\u001b[1mval: \u001b[0mWARNING  D:\\YOLOV8-tomatod\\tomatOD_yolo\\val\\images\\stereo20190406_065607_p0_snap_080.jpg: 1 duplicate labels removed\n"
     ]
    },
    {
     "name": "stderr",
     "output_type": "stream",
     "text": [
      "\n",
      "                 Class     Images  Instances      Box(P          R      mAP50  mAP50-95): 100%|██████████| 22/22 [00:00"
     ]
    },
    {
     "name": "stdout",
     "output_type": "stream",
     "text": [
      "                   all         22        245          0          0          0          0\n"
     ]
    },
    {
     "name": "stderr",
     "output_type": "stream",
     "text": [
      "\n"
     ]
    },
    {
     "name": "stdout",
     "output_type": "stream",
     "text": [
      "Speed: 2.9ms preprocess, 15.2ms inference, 0.0ms loss, 0.6ms postprocess per image\n",
      "Saving runs\\detect\\tomatOD_run_effnet_epoch_10_val\\predictions.json...\n",
      "Results saved to \u001b[1mruns\\detect\\tomatOD_run_effnet_epoch_10_val\u001b[0m\n",
      "WARNING  imgsz=[300] must be multiple of max stride 32, updating to [320]\n",
      "Ultralytics 8.3.70  Python-3.11.11 torch-2.7.0.dev20250127+cu126 CUDA:0 (NVIDIA GeForce RTX 3050 Laptop GPU, 4096MiB)\n"
     ]
    },
    {
     "name": "stderr",
     "output_type": "stream",
     "text": [
      "\u001b[34m\u001b[1mval: \u001b[0mScanning D:\\YOLOV8-tomatod\\tomatOD_yolo\\test\\labels.cache... 55 images, 0 backgrounds, 0 corrupt: 100%|██████████|\u001b[0m\n",
      "                 Class     Images  Instances      Box(P          R      mAP50  mAP50-95): 100%|██████████| 55/55 [00:02"
     ]
    },
    {
     "name": "stdout",
     "output_type": "stream",
     "text": [
      "                   all         55        468          0          0          0          0\n"
     ]
    },
    {
     "name": "stderr",
     "output_type": "stream",
     "text": [
      "\n"
     ]
    },
    {
     "name": "stdout",
     "output_type": "stream",
     "text": [
      "Speed: 1.9ms preprocess, 13.9ms inference, 0.0ms loss, 0.8ms postprocess per image\n",
      "Saving runs\\detect\\tomatOD_run_effnet_epoch_10_test\\predictions.json...\n",
      "Results saved to \u001b[1mruns\\detect\\tomatOD_run_effnet_epoch_10_test\u001b[0m\n",
      "WARNING  imgsz=[300] must be multiple of max stride 32, updating to [320]\n",
      "Ultralytics 8.3.70  Python-3.11.11 torch-2.7.0.dev20250127+cu126 CUDA:0 (NVIDIA GeForce RTX 3050 Laptop GPU, 4096MiB)\n",
      "YOLOv8n summary (fused): 168 layers, 3,006,233 parameters, 0 gradients, 8.1 GFLOPs\n"
     ]
    },
    {
     "name": "stderr",
     "output_type": "stream",
     "text": [
      "\u001b[34m\u001b[1mval: \u001b[0mScanning D:\\YOLOV8-tomatod\\tomatOD_yolo\\val\\labels.cache... 22 images, 0 backgrounds, 0 corrupt: 100%|██████████| \u001b[0m"
     ]
    },
    {
     "name": "stdout",
     "output_type": "stream",
     "text": [
      "\u001b[34m\u001b[1mval: \u001b[0mWARNING  D:\\YOLOV8-tomatod\\tomatOD_yolo\\val\\images\\stereo20190405_133623_p2_snap_043.jpg: 1 duplicate labels removed\n",
      "\u001b[34m\u001b[1mval: \u001b[0mWARNING  D:\\YOLOV8-tomatod\\tomatOD_yolo\\val\\images\\stereo20190406_065607_p0_snap_080.jpg: 1 duplicate labels removed\n"
     ]
    },
    {
     "name": "stderr",
     "output_type": "stream",
     "text": [
      "\n",
      "                 Class     Images  Instances      Box(P          R      mAP50  mAP50-95): 100%|██████████| 22/22 [00:00"
     ]
    },
    {
     "name": "stdout",
     "output_type": "stream",
     "text": [
      "                   all         22        245          0          0          0          0\n"
     ]
    },
    {
     "name": "stderr",
     "output_type": "stream",
     "text": [
      "\n"
     ]
    },
    {
     "name": "stdout",
     "output_type": "stream",
     "text": [
      "Speed: 2.5ms preprocess, 14.3ms inference, 0.0ms loss, 1.4ms postprocess per image\n",
      "Saving runs\\detect\\tomatOD_run_effnet_epoch_11_val\\predictions.json...\n",
      "Results saved to \u001b[1mruns\\detect\\tomatOD_run_effnet_epoch_11_val\u001b[0m\n",
      "WARNING  imgsz=[300] must be multiple of max stride 32, updating to [320]\n",
      "Ultralytics 8.3.70  Python-3.11.11 torch-2.7.0.dev20250127+cu126 CUDA:0 (NVIDIA GeForce RTX 3050 Laptop GPU, 4096MiB)\n"
     ]
    },
    {
     "name": "stderr",
     "output_type": "stream",
     "text": [
      "\u001b[34m\u001b[1mval: \u001b[0mScanning D:\\YOLOV8-tomatod\\tomatOD_yolo\\test\\labels.cache... 55 images, 0 backgrounds, 0 corrupt: 100%|██████████|\u001b[0m\n",
      "                 Class     Images  Instances      Box(P          R      mAP50  mAP50-95): 100%|██████████| 55/55 [00:02\n"
     ]
    },
    {
     "name": "stdout",
     "output_type": "stream",
     "text": [
      "                   all         55        468    0.00179    0.00457   0.000958   0.000168\n",
      "                unripe         55        292    0.00537     0.0137    0.00287   0.000504\n",
      "             semi-ripe         37         77          0          0          0          0\n",
      "            fully-ripe         48         99          0          0          0          0\n",
      "Speed: 2.0ms preprocess, 13.9ms inference, 0.0ms loss, 1.1ms postprocess per image\n",
      "Saving runs\\detect\\tomatOD_run_effnet_epoch_11_test\\predictions.json...\n",
      "Results saved to \u001b[1mruns\\detect\\tomatOD_run_effnet_epoch_11_test\u001b[0m\n",
      "WARNING  imgsz=[300] must be multiple of max stride 32, updating to [320]\n",
      "Ultralytics 8.3.70  Python-3.11.11 torch-2.7.0.dev20250127+cu126 CUDA:0 (NVIDIA GeForce RTX 3050 Laptop GPU, 4096MiB)\n",
      "YOLOv8n summary (fused): 168 layers, 3,006,233 parameters, 0 gradients, 8.1 GFLOPs\n"
     ]
    },
    {
     "name": "stderr",
     "output_type": "stream",
     "text": [
      "\u001b[34m\u001b[1mval: \u001b[0mScanning D:\\YOLOV8-tomatod\\tomatOD_yolo\\val\\labels.cache... 22 images, 0 backgrounds, 0 corrupt: 100%|██████████| \u001b[0m"
     ]
    },
    {
     "name": "stdout",
     "output_type": "stream",
     "text": [
      "\u001b[34m\u001b[1mval: \u001b[0mWARNING  D:\\YOLOV8-tomatod\\tomatOD_yolo\\val\\images\\stereo20190405_133623_p2_snap_043.jpg: 1 duplicate labels removed\n",
      "\u001b[34m\u001b[1mval: \u001b[0mWARNING  D:\\YOLOV8-tomatod\\tomatOD_yolo\\val\\images\\stereo20190406_065607_p0_snap_080.jpg: 1 duplicate labels removed\n"
     ]
    },
    {
     "name": "stderr",
     "output_type": "stream",
     "text": [
      "\n",
      "                 Class     Images  Instances      Box(P          R      mAP50  mAP50-95): 100%|██████████| 22/22 [00:01\n"
     ]
    },
    {
     "name": "stdout",
     "output_type": "stream",
     "text": [
      "                   all         22        245    0.00208    0.00385     0.0011   0.000484\n",
      "                unripe         22        173    0.00623     0.0116    0.00329    0.00145\n",
      "             semi-ripe         17         37          0          0          0          0\n",
      "            fully-ripe         16         35          0          0          0          0\n",
      "Speed: 2.0ms preprocess, 15.5ms inference, 0.0ms loss, 0.5ms postprocess per image\n",
      "Saving runs\\detect\\tomatOD_run_effnet_epoch_12_val\\predictions.json...\n",
      "Results saved to \u001b[1mruns\\detect\\tomatOD_run_effnet_epoch_12_val\u001b[0m\n",
      "WARNING  imgsz=[300] must be multiple of max stride 32, updating to [320]\n",
      "Ultralytics 8.3.70  Python-3.11.11 torch-2.7.0.dev20250127+cu126 CUDA:0 (NVIDIA GeForce RTX 3050 Laptop GPU, 4096MiB)\n"
     ]
    },
    {
     "name": "stderr",
     "output_type": "stream",
     "text": [
      "\u001b[34m\u001b[1mval: \u001b[0mScanning D:\\YOLOV8-tomatod\\tomatOD_yolo\\test\\labels.cache... 55 images, 0 backgrounds, 0 corrupt: 100%|██████████|\u001b[0m\n",
      "                 Class     Images  Instances      Box(P          R      mAP50  mAP50-95): 100%|██████████| 55/55 [00:02\n"
     ]
    },
    {
     "name": "stdout",
     "output_type": "stream",
     "text": [
      "                   all         55        468    0.00165    0.00571   0.000987   0.000338\n",
      "                unripe         55        292    0.00495     0.0171    0.00296    0.00101\n",
      "             semi-ripe         37         77          0          0          0          0\n",
      "            fully-ripe         48         99          0          0          0          0\n",
      "Speed: 2.0ms preprocess, 15.2ms inference, 0.0ms loss, 1.1ms postprocess per image\n",
      "Saving runs\\detect\\tomatOD_run_effnet_epoch_12_test\\predictions.json...\n",
      "Results saved to \u001b[1mruns\\detect\\tomatOD_run_effnet_epoch_12_test\u001b[0m\n",
      "WARNING  imgsz=[300] must be multiple of max stride 32, updating to [320]\n",
      "Ultralytics 8.3.70  Python-3.11.11 torch-2.7.0.dev20250127+cu126 CUDA:0 (NVIDIA GeForce RTX 3050 Laptop GPU, 4096MiB)\n",
      "YOLOv8n summary (fused): 168 layers, 3,006,233 parameters, 0 gradients, 8.1 GFLOPs\n"
     ]
    },
    {
     "name": "stderr",
     "output_type": "stream",
     "text": [
      "\u001b[34m\u001b[1mval: \u001b[0mScanning D:\\YOLOV8-tomatod\\tomatOD_yolo\\val\\labels.cache... 22 images, 0 backgrounds, 0 corrupt: 100%|██████████| \u001b[0m"
     ]
    },
    {
     "name": "stdout",
     "output_type": "stream",
     "text": [
      "\u001b[34m\u001b[1mval: \u001b[0mWARNING  D:\\YOLOV8-tomatod\\tomatOD_yolo\\val\\images\\stereo20190405_133623_p2_snap_043.jpg: 1 duplicate labels removed\n",
      "\u001b[34m\u001b[1mval: \u001b[0mWARNING  D:\\YOLOV8-tomatod\\tomatOD_yolo\\val\\images\\stereo20190406_065607_p0_snap_080.jpg: 1 duplicate labels removed\n"
     ]
    },
    {
     "name": "stderr",
     "output_type": "stream",
     "text": [
      "\n",
      "                 Class     Images  Instances      Box(P          R      mAP50  mAP50-95): 100%|██████████| 22/22 [00:01"
     ]
    },
    {
     "name": "stdout",
     "output_type": "stream",
     "text": [
      "                   all         22        245          0          0          0          0\n"
     ]
    },
    {
     "name": "stderr",
     "output_type": "stream",
     "text": [
      "\n"
     ]
    },
    {
     "name": "stdout",
     "output_type": "stream",
     "text": [
      "Speed: 1.9ms preprocess, 17.2ms inference, 0.1ms loss, 1.1ms postprocess per image\n",
      "Saving runs\\detect\\tomatOD_run_effnet_epoch_13_val\\predictions.json...\n",
      "Results saved to \u001b[1mruns\\detect\\tomatOD_run_effnet_epoch_13_val\u001b[0m\n",
      "WARNING  imgsz=[300] must be multiple of max stride 32, updating to [320]\n",
      "Ultralytics 8.3.70  Python-3.11.11 torch-2.7.0.dev20250127+cu126 CUDA:0 (NVIDIA GeForce RTX 3050 Laptop GPU, 4096MiB)\n"
     ]
    },
    {
     "name": "stderr",
     "output_type": "stream",
     "text": [
      "\u001b[34m\u001b[1mval: \u001b[0mScanning D:\\YOLOV8-tomatod\\tomatOD_yolo\\test\\labels.cache... 55 images, 0 backgrounds, 0 corrupt: 100%|██████████|\u001b[0m\n",
      "                 Class     Images  Instances      Box(P          R      mAP50  mAP50-95): 100%|██████████| 55/55 [00:02"
     ]
    },
    {
     "name": "stdout",
     "output_type": "stream",
     "text": [
      "                   all         55        468          0          0          0          0\n"
     ]
    },
    {
     "name": "stderr",
     "output_type": "stream",
     "text": [
      "\n"
     ]
    },
    {
     "name": "stdout",
     "output_type": "stream",
     "text": [
      "Speed: 2.3ms preprocess, 12.5ms inference, 0.0ms loss, 2.2ms postprocess per image\n",
      "Saving runs\\detect\\tomatOD_run_effnet_epoch_13_test\\predictions.json...\n",
      "Results saved to \u001b[1mruns\\detect\\tomatOD_run_effnet_epoch_13_test\u001b[0m\n",
      "WARNING  imgsz=[300] must be multiple of max stride 32, updating to [320]\n",
      "Ultralytics 8.3.70  Python-3.11.11 torch-2.7.0.dev20250127+cu126 CUDA:0 (NVIDIA GeForce RTX 3050 Laptop GPU, 4096MiB)\n",
      "YOLOv8n summary (fused): 168 layers, 3,006,233 parameters, 0 gradients, 8.1 GFLOPs\n"
     ]
    },
    {
     "name": "stderr",
     "output_type": "stream",
     "text": [
      "\u001b[34m\u001b[1mval: \u001b[0mScanning D:\\YOLOV8-tomatod\\tomatOD_yolo\\val\\labels.cache... 22 images, 0 backgrounds, 0 corrupt: 100%|██████████| \u001b[0m"
     ]
    },
    {
     "name": "stdout",
     "output_type": "stream",
     "text": [
      "\u001b[34m\u001b[1mval: \u001b[0mWARNING  D:\\YOLOV8-tomatod\\tomatOD_yolo\\val\\images\\stereo20190405_133623_p2_snap_043.jpg: 1 duplicate labels removed\n",
      "\u001b[34m\u001b[1mval: \u001b[0mWARNING  D:\\YOLOV8-tomatod\\tomatOD_yolo\\val\\images\\stereo20190406_065607_p0_snap_080.jpg: 1 duplicate labels removed\n"
     ]
    },
    {
     "name": "stderr",
     "output_type": "stream",
     "text": [
      "\n",
      "                 Class     Images  Instances      Box(P          R      mAP50  mAP50-95): 100%|██████████| 22/22 [00:00"
     ]
    },
    {
     "name": "stdout",
     "output_type": "stream",
     "text": [
      "                   all         22        245          0          0          0          0\n"
     ]
    },
    {
     "name": "stderr",
     "output_type": "stream",
     "text": [
      "\n"
     ]
    },
    {
     "name": "stdout",
     "output_type": "stream",
     "text": [
      "Speed: 2.3ms preprocess, 13.4ms inference, 0.1ms loss, 0.8ms postprocess per image\n",
      "Saving runs\\detect\\tomatOD_run_effnet_epoch_14_val\\predictions.json...\n",
      "Results saved to \u001b[1mruns\\detect\\tomatOD_run_effnet_epoch_14_val\u001b[0m\n",
      "WARNING  imgsz=[300] must be multiple of max stride 32, updating to [320]\n",
      "Ultralytics 8.3.70  Python-3.11.11 torch-2.7.0.dev20250127+cu126 CUDA:0 (NVIDIA GeForce RTX 3050 Laptop GPU, 4096MiB)\n"
     ]
    },
    {
     "name": "stderr",
     "output_type": "stream",
     "text": [
      "\u001b[34m\u001b[1mval: \u001b[0mScanning D:\\YOLOV8-tomatod\\tomatOD_yolo\\test\\labels.cache... 55 images, 0 backgrounds, 0 corrupt: 100%|██████████|\u001b[0m\n",
      "                 Class     Images  Instances      Box(P          R      mAP50  mAP50-95): 100%|██████████| 55/55 [00:02"
     ]
    },
    {
     "name": "stdout",
     "output_type": "stream",
     "text": [
      "                   all         55        468          0          0          0          0\n"
     ]
    },
    {
     "name": "stderr",
     "output_type": "stream",
     "text": [
      "\n"
     ]
    },
    {
     "name": "stdout",
     "output_type": "stream",
     "text": [
      "Speed: 2.0ms preprocess, 15.0ms inference, 0.0ms loss, 0.9ms postprocess per image\n",
      "Saving runs\\detect\\tomatOD_run_effnet_epoch_14_test\\predictions.json...\n",
      "Results saved to \u001b[1mruns\\detect\\tomatOD_run_effnet_epoch_14_test\u001b[0m\n",
      "WARNING  imgsz=[300] must be multiple of max stride 32, updating to [320]\n",
      "Ultralytics 8.3.70  Python-3.11.11 torch-2.7.0.dev20250127+cu126 CUDA:0 (NVIDIA GeForce RTX 3050 Laptop GPU, 4096MiB)\n",
      "YOLOv8n summary (fused): 168 layers, 3,006,233 parameters, 0 gradients, 8.1 GFLOPs\n"
     ]
    },
    {
     "name": "stderr",
     "output_type": "stream",
     "text": [
      "\u001b[34m\u001b[1mval: \u001b[0mScanning D:\\YOLOV8-tomatod\\tomatOD_yolo\\val\\labels.cache... 22 images, 0 backgrounds, 0 corrupt: 100%|██████████| \u001b[0m"
     ]
    },
    {
     "name": "stdout",
     "output_type": "stream",
     "text": [
      "\u001b[34m\u001b[1mval: \u001b[0mWARNING  D:\\YOLOV8-tomatod\\tomatOD_yolo\\val\\images\\stereo20190405_133623_p2_snap_043.jpg: 1 duplicate labels removed\n",
      "\u001b[34m\u001b[1mval: \u001b[0mWARNING  D:\\YOLOV8-tomatod\\tomatOD_yolo\\val\\images\\stereo20190406_065607_p0_snap_080.jpg: 1 duplicate labels removed\n"
     ]
    },
    {
     "name": "stderr",
     "output_type": "stream",
     "text": [
      "\n",
      "                 Class     Images  Instances      Box(P          R      mAP50  mAP50-95): 100%|██████████| 22/22 [00:00"
     ]
    },
    {
     "name": "stdout",
     "output_type": "stream",
     "text": [
      "                   all         22        245          0          0          0          0\n"
     ]
    },
    {
     "name": "stderr",
     "output_type": "stream",
     "text": [
      "\n"
     ]
    },
    {
     "name": "stdout",
     "output_type": "stream",
     "text": [
      "Speed: 1.6ms preprocess, 14.7ms inference, 0.0ms loss, 1.2ms postprocess per image\n",
      "Saving runs\\detect\\tomatOD_run_effnet_epoch_15_val\\predictions.json...\n",
      "Results saved to \u001b[1mruns\\detect\\tomatOD_run_effnet_epoch_15_val\u001b[0m\n",
      "WARNING  imgsz=[300] must be multiple of max stride 32, updating to [320]\n",
      "Ultralytics 8.3.70  Python-3.11.11 torch-2.7.0.dev20250127+cu126 CUDA:0 (NVIDIA GeForce RTX 3050 Laptop GPU, 4096MiB)\n"
     ]
    },
    {
     "name": "stderr",
     "output_type": "stream",
     "text": [
      "\u001b[34m\u001b[1mval: \u001b[0mScanning D:\\YOLOV8-tomatod\\tomatOD_yolo\\test\\labels.cache... 55 images, 0 backgrounds, 0 corrupt: 100%|██████████|\u001b[0m\n",
      "                 Class     Images  Instances      Box(P          R      mAP50  mAP50-95): 100%|██████████| 55/55 [00:02"
     ]
    },
    {
     "name": "stdout",
     "output_type": "stream",
     "text": [
      "                   all         55        468          0          0          0          0\n"
     ]
    },
    {
     "name": "stderr",
     "output_type": "stream",
     "text": [
      "\n"
     ]
    },
    {
     "name": "stdout",
     "output_type": "stream",
     "text": [
      "Speed: 1.8ms preprocess, 13.9ms inference, 0.0ms loss, 1.9ms postprocess per image\n",
      "Saving runs\\detect\\tomatOD_run_effnet_epoch_15_test\\predictions.json...\n",
      "Results saved to \u001b[1mruns\\detect\\tomatOD_run_effnet_epoch_15_test\u001b[0m\n",
      "WARNING  imgsz=[300] must be multiple of max stride 32, updating to [320]\n",
      "Ultralytics 8.3.70  Python-3.11.11 torch-2.7.0.dev20250127+cu126 CUDA:0 (NVIDIA GeForce RTX 3050 Laptop GPU, 4096MiB)\n",
      "YOLOv8n summary (fused): 168 layers, 3,006,233 parameters, 0 gradients, 8.1 GFLOPs\n"
     ]
    },
    {
     "name": "stderr",
     "output_type": "stream",
     "text": [
      "\u001b[34m\u001b[1mval: \u001b[0mScanning D:\\YOLOV8-tomatod\\tomatOD_yolo\\val\\labels.cache... 22 images, 0 backgrounds, 0 corrupt: 100%|██████████| \u001b[0m"
     ]
    },
    {
     "name": "stdout",
     "output_type": "stream",
     "text": [
      "\u001b[34m\u001b[1mval: \u001b[0mWARNING  D:\\YOLOV8-tomatod\\tomatOD_yolo\\val\\images\\stereo20190405_133623_p2_snap_043.jpg: 1 duplicate labels removed\n",
      "\u001b[34m\u001b[1mval: \u001b[0mWARNING  D:\\YOLOV8-tomatod\\tomatOD_yolo\\val\\images\\stereo20190406_065607_p0_snap_080.jpg: 1 duplicate labels removed\n"
     ]
    },
    {
     "name": "stderr",
     "output_type": "stream",
     "text": [
      "\n",
      "                 Class     Images  Instances      Box(P          R      mAP50  mAP50-95): 100%|██████████| 22/22 [00:01\n"
     ]
    },
    {
     "name": "stdout",
     "output_type": "stream",
     "text": [
      "                   all         22        245      0.244     0.0257      0.129     0.0547\n",
      "                unripe         22        173     0.0667     0.0231     0.0344    0.00604\n",
      "             semi-ripe         17         37      0.667     0.0541      0.351      0.158\n",
      "            fully-ripe         16         35          0          0          0          0\n",
      "Speed: 1.7ms preprocess, 15.1ms inference, 0.0ms loss, 1.7ms postprocess per image\n",
      "Saving runs\\detect\\tomatOD_run_effnet_epoch_16_val\\predictions.json...\n",
      "Results saved to \u001b[1mruns\\detect\\tomatOD_run_effnet_epoch_16_val\u001b[0m\n",
      "WARNING  imgsz=[300] must be multiple of max stride 32, updating to [320]\n",
      "Ultralytics 8.3.70  Python-3.11.11 torch-2.7.0.dev20250127+cu126 CUDA:0 (NVIDIA GeForce RTX 3050 Laptop GPU, 4096MiB)\n"
     ]
    },
    {
     "name": "stderr",
     "output_type": "stream",
     "text": [
      "\u001b[34m\u001b[1mval: \u001b[0mScanning D:\\YOLOV8-tomatod\\tomatOD_yolo\\test\\labels.cache... 55 images, 0 backgrounds, 0 corrupt: 100%|██████████|\u001b[0m\n",
      "                 Class     Images  Instances      Box(P          R      mAP50  mAP50-95): 100%|██████████| 55/55 [00:02\n"
     ]
    },
    {
     "name": "stdout",
     "output_type": "stream",
     "text": [
      "                   all         55        468     0.0669     0.0132     0.0359     0.0193\n",
      "                unripe         55        292     0.0188     0.0137    0.00977    0.00241\n",
      "             semi-ripe         37         77      0.182      0.026      0.098     0.0555\n",
      "            fully-ripe         48         99          0          0          0          0\n",
      "Speed: 2.1ms preprocess, 15.9ms inference, 0.0ms loss, 1.4ms postprocess per image\n",
      "Saving runs\\detect\\tomatOD_run_effnet_epoch_16_test\\predictions.json...\n",
      "Results saved to \u001b[1mruns\\detect\\tomatOD_run_effnet_epoch_16_test\u001b[0m\n",
      "WARNING  imgsz=[300] must be multiple of max stride 32, updating to [320]\n",
      "Ultralytics 8.3.70  Python-3.11.11 torch-2.7.0.dev20250127+cu126 CUDA:0 (NVIDIA GeForce RTX 3050 Laptop GPU, 4096MiB)\n",
      "YOLOv8n summary (fused): 168 layers, 3,006,233 parameters, 0 gradients, 8.1 GFLOPs\n"
     ]
    },
    {
     "name": "stderr",
     "output_type": "stream",
     "text": [
      "\u001b[34m\u001b[1mval: \u001b[0mScanning D:\\YOLOV8-tomatod\\tomatOD_yolo\\val\\labels.cache... 22 images, 0 backgrounds, 0 corrupt: 100%|██████████| \u001b[0m"
     ]
    },
    {
     "name": "stdout",
     "output_type": "stream",
     "text": [
      "\u001b[34m\u001b[1mval: \u001b[0mWARNING  D:\\YOLOV8-tomatod\\tomatOD_yolo\\val\\images\\stereo20190405_133623_p2_snap_043.jpg: 1 duplicate labels removed\n",
      "\u001b[34m\u001b[1mval: \u001b[0mWARNING  D:\\YOLOV8-tomatod\\tomatOD_yolo\\val\\images\\stereo20190406_065607_p0_snap_080.jpg: 1 duplicate labels removed\n"
     ]
    },
    {
     "name": "stderr",
     "output_type": "stream",
     "text": [
      "\n",
      "                 Class     Images  Instances      Box(P          R      mAP50  mAP50-95): 100%|██████████| 22/22 [00:01\n"
     ]
    },
    {
     "name": "stdout",
     "output_type": "stream",
     "text": [
      "                   all         22        245       0.12      0.029     0.0697     0.0201\n",
      "                unripe         22        173      0.111    0.00578     0.0603     0.0181\n",
      "             semi-ripe         17         37       0.25     0.0811      0.149     0.0423\n",
      "            fully-ripe         16         35          0          0          0          0\n",
      "Speed: 1.9ms preprocess, 16.2ms inference, 0.0ms loss, 1.1ms postprocess per image\n",
      "Saving runs\\detect\\tomatOD_run_effnet_epoch_17_val\\predictions.json...\n",
      "Results saved to \u001b[1mruns\\detect\\tomatOD_run_effnet_epoch_17_val\u001b[0m\n",
      "WARNING  imgsz=[300] must be multiple of max stride 32, updating to [320]\n",
      "Ultralytics 8.3.70  Python-3.11.11 torch-2.7.0.dev20250127+cu126 CUDA:0 (NVIDIA GeForce RTX 3050 Laptop GPU, 4096MiB)\n"
     ]
    },
    {
     "name": "stderr",
     "output_type": "stream",
     "text": [
      "\u001b[34m\u001b[1mval: \u001b[0mScanning D:\\YOLOV8-tomatod\\tomatOD_yolo\\test\\labels.cache... 55 images, 0 backgrounds, 0 corrupt: 100%|██████████|\u001b[0m\n",
      "                 Class     Images  Instances      Box(P          R      mAP50  mAP50-95): 100%|██████████| 55/55 [00:02\n"
     ]
    },
    {
     "name": "stdout",
     "output_type": "stream",
     "text": [
      "                   all         55        468     0.0508      0.025     0.0291    0.00721\n",
      "                unripe         55        292          0          0          0          0\n",
      "             semi-ripe         37         77      0.122     0.0649     0.0717     0.0185\n",
      "            fully-ripe         48         99     0.0303     0.0101     0.0156    0.00311\n",
      "Speed: 2.1ms preprocess, 15.7ms inference, 0.0ms loss, 1.1ms postprocess per image\n",
      "Saving runs\\detect\\tomatOD_run_effnet_epoch_17_test\\predictions.json...\n",
      "Results saved to \u001b[1mruns\\detect\\tomatOD_run_effnet_epoch_17_test\u001b[0m\n",
      "WARNING  imgsz=[300] must be multiple of max stride 32, updating to [320]\n",
      "Ultralytics 8.3.70  Python-3.11.11 torch-2.7.0.dev20250127+cu126 CUDA:0 (NVIDIA GeForce RTX 3050 Laptop GPU, 4096MiB)\n",
      "YOLOv8n summary (fused): 168 layers, 3,006,233 parameters, 0 gradients, 8.1 GFLOPs\n"
     ]
    },
    {
     "name": "stderr",
     "output_type": "stream",
     "text": [
      "\u001b[34m\u001b[1mval: \u001b[0mScanning D:\\YOLOV8-tomatod\\tomatOD_yolo\\val\\labels.cache... 22 images, 0 backgrounds, 0 corrupt: 100%|██████████| \u001b[0m"
     ]
    },
    {
     "name": "stdout",
     "output_type": "stream",
     "text": [
      "\u001b[34m\u001b[1mval: \u001b[0mWARNING  D:\\YOLOV8-tomatod\\tomatOD_yolo\\val\\images\\stereo20190405_133623_p2_snap_043.jpg: 1 duplicate labels removed\n",
      "\u001b[34m\u001b[1mval: \u001b[0mWARNING  D:\\YOLOV8-tomatod\\tomatOD_yolo\\val\\images\\stereo20190406_065607_p0_snap_080.jpg: 1 duplicate labels removed\n"
     ]
    },
    {
     "name": "stderr",
     "output_type": "stream",
     "text": [
      "\n",
      "                 Class     Images  Instances      Box(P          R      mAP50  mAP50-95): 100%|██████████| 22/22 [00:01\n"
     ]
    },
    {
     "name": "stdout",
     "output_type": "stream",
     "text": [
      "                   all         22        245      0.177      0.115      0.126     0.0363\n",
      "                unripe         22        173      0.105     0.0116     0.0577     0.0115\n",
      "             semi-ripe         17         37      0.259      0.189      0.196     0.0658\n",
      "            fully-ripe         16         35      0.167      0.143      0.125     0.0315\n",
      "Speed: 1.7ms preprocess, 16.7ms inference, 0.0ms loss, 1.3ms postprocess per image\n",
      "Saving runs\\detect\\tomatOD_run_effnet_epoch_18_val\\predictions.json...\n",
      "Results saved to \u001b[1mruns\\detect\\tomatOD_run_effnet_epoch_18_val\u001b[0m\n",
      "WARNING  imgsz=[300] must be multiple of max stride 32, updating to [320]\n",
      "Ultralytics 8.3.70  Python-3.11.11 torch-2.7.0.dev20250127+cu126 CUDA:0 (NVIDIA GeForce RTX 3050 Laptop GPU, 4096MiB)\n"
     ]
    },
    {
     "name": "stderr",
     "output_type": "stream",
     "text": [
      "\u001b[34m\u001b[1mval: \u001b[0mScanning D:\\YOLOV8-tomatod\\tomatOD_yolo\\test\\labels.cache... 55 images, 0 backgrounds, 0 corrupt: 100%|██████████|\u001b[0m\n",
      "                 Class     Images  Instances      Box(P          R      mAP50  mAP50-95): 100%|██████████| 55/55 [00:02\n"
     ]
    },
    {
     "name": "stdout",
     "output_type": "stream",
     "text": [
      "                   all         55        468     0.0885       0.11      0.063     0.0176\n",
      "                unripe         55        292          0          0          0          0\n",
      "             semi-ripe         37         77      0.113      0.169     0.0885     0.0302\n",
      "            fully-ripe         48         99      0.152      0.162        0.1     0.0225\n",
      "Speed: 1.8ms preprocess, 15.2ms inference, 0.0ms loss, 1.7ms postprocess per image\n",
      "Saving runs\\detect\\tomatOD_run_effnet_epoch_18_test\\predictions.json...\n",
      "Results saved to \u001b[1mruns\\detect\\tomatOD_run_effnet_epoch_18_test\u001b[0m\n",
      "WARNING  imgsz=[300] must be multiple of max stride 32, updating to [320]\n",
      "Ultralytics 8.3.70  Python-3.11.11 torch-2.7.0.dev20250127+cu126 CUDA:0 (NVIDIA GeForce RTX 3050 Laptop GPU, 4096MiB)\n",
      "YOLOv8n summary (fused): 168 layers, 3,006,233 parameters, 0 gradients, 8.1 GFLOPs\n"
     ]
    },
    {
     "name": "stderr",
     "output_type": "stream",
     "text": [
      "\u001b[34m\u001b[1mval: \u001b[0mScanning D:\\YOLOV8-tomatod\\tomatOD_yolo\\val\\labels.cache... 22 images, 0 backgrounds, 0 corrupt: 100%|██████████| \u001b[0m"
     ]
    },
    {
     "name": "stdout",
     "output_type": "stream",
     "text": [
      "\u001b[34m\u001b[1mval: \u001b[0mWARNING  D:\\YOLOV8-tomatod\\tomatOD_yolo\\val\\images\\stereo20190405_133623_p2_snap_043.jpg: 1 duplicate labels removed\n",
      "\u001b[34m\u001b[1mval: \u001b[0mWARNING  D:\\YOLOV8-tomatod\\tomatOD_yolo\\val\\images\\stereo20190406_065607_p0_snap_080.jpg: 1 duplicate labels removed\n"
     ]
    },
    {
     "name": "stderr",
     "output_type": "stream",
     "text": [
      "\n",
      "                 Class     Images  Instances      Box(P          R      mAP50  mAP50-95): 100%|██████████| 22/22 [00:01\n"
     ]
    },
    {
     "name": "stdout",
     "output_type": "stream",
     "text": [
      "                   all         22        245      0.128      0.248      0.127     0.0431\n",
      "                unripe         22        173     0.0381      0.052     0.0231    0.00748\n",
      "             semi-ripe         17         37      0.187      0.378      0.219     0.0771\n",
      "            fully-ripe         16         35      0.159      0.314      0.139     0.0446\n",
      "Speed: 1.5ms preprocess, 15.6ms inference, 0.0ms loss, 2.1ms postprocess per image\n",
      "Saving runs\\detect\\tomatOD_run_effnet_epoch_19_val\\predictions.json...\n",
      "Results saved to \u001b[1mruns\\detect\\tomatOD_run_effnet_epoch_19_val\u001b[0m\n",
      "WARNING  imgsz=[300] must be multiple of max stride 32, updating to [320]\n",
      "Ultralytics 8.3.70  Python-3.11.11 torch-2.7.0.dev20250127+cu126 CUDA:0 (NVIDIA GeForce RTX 3050 Laptop GPU, 4096MiB)\n"
     ]
    },
    {
     "name": "stderr",
     "output_type": "stream",
     "text": [
      "\u001b[34m\u001b[1mval: \u001b[0mScanning D:\\YOLOV8-tomatod\\tomatOD_yolo\\test\\labels.cache... 55 images, 0 backgrounds, 0 corrupt: 100%|██████████|\u001b[0m\n",
      "                 Class     Images  Instances      Box(P          R      mAP50  mAP50-95): 100%|██████████| 55/55 [00:02\n"
     ]
    },
    {
     "name": "stdout",
     "output_type": "stream",
     "text": [
      "                   all         55        468     0.0958       0.24     0.0835      0.024\n",
      "                unripe         55        292     0.0174     0.0411    0.00931    0.00266\n",
      "             semi-ripe         37         77      0.102      0.325     0.0851     0.0274\n",
      "            fully-ripe         48         99      0.168      0.354      0.156     0.0419\n",
      "Speed: 2.0ms preprocess, 14.8ms inference, 0.0ms loss, 1.9ms postprocess per image\n",
      "Saving runs\\detect\\tomatOD_run_effnet_epoch_19_test\\predictions.json...\n",
      "Results saved to \u001b[1mruns\\detect\\tomatOD_run_effnet_epoch_19_test\u001b[0m\n",
      "WARNING  imgsz=[300] must be multiple of max stride 32, updating to [320]\n",
      "Ultralytics 8.3.70  Python-3.11.11 torch-2.7.0.dev20250127+cu126 CUDA:0 (NVIDIA GeForce RTX 3050 Laptop GPU, 4096MiB)\n",
      "YOLOv8n summary (fused): 168 layers, 3,006,233 parameters, 0 gradients, 8.1 GFLOPs\n"
     ]
    },
    {
     "name": "stderr",
     "output_type": "stream",
     "text": [
      "\u001b[34m\u001b[1mval: \u001b[0mScanning D:\\YOLOV8-tomatod\\tomatOD_yolo\\val\\labels.cache... 22 images, 0 backgrounds, 0 corrupt: 100%|██████████| \u001b[0m"
     ]
    },
    {
     "name": "stdout",
     "output_type": "stream",
     "text": [
      "\u001b[34m\u001b[1mval: \u001b[0mWARNING  D:\\YOLOV8-tomatod\\tomatOD_yolo\\val\\images\\stereo20190405_133623_p2_snap_043.jpg: 1 duplicate labels removed\n",
      "\u001b[34m\u001b[1mval: \u001b[0mWARNING  D:\\YOLOV8-tomatod\\tomatOD_yolo\\val\\images\\stereo20190406_065607_p0_snap_080.jpg: 1 duplicate labels removed\n"
     ]
    },
    {
     "name": "stderr",
     "output_type": "stream",
     "text": [
      "\n",
      "                 Class     Images  Instances      Box(P          R      mAP50  mAP50-95): 100%|██████████| 22/22 [00:01\n"
     ]
    },
    {
     "name": "stdout",
     "output_type": "stream",
     "text": [
      "                   all         22        245      0.148      0.353      0.208     0.0718\n",
      "                unripe         22        173      0.037      0.116     0.0288    0.00701\n",
      "             semi-ripe         17         37      0.205      0.486        0.3      0.122\n",
      "            fully-ripe         16         35      0.203      0.457      0.295     0.0869\n",
      "Speed: 1.7ms preprocess, 16.0ms inference, 0.0ms loss, 1.8ms postprocess per image\n",
      "Saving runs\\detect\\tomatOD_run_effnet_epoch_20_val\\predictions.json...\n",
      "Results saved to \u001b[1mruns\\detect\\tomatOD_run_effnet_epoch_20_val\u001b[0m\n",
      "WARNING  imgsz=[300] must be multiple of max stride 32, updating to [320]\n",
      "Ultralytics 8.3.70  Python-3.11.11 torch-2.7.0.dev20250127+cu126 CUDA:0 (NVIDIA GeForce RTX 3050 Laptop GPU, 4096MiB)\n"
     ]
    },
    {
     "name": "stderr",
     "output_type": "stream",
     "text": [
      "\u001b[34m\u001b[1mval: \u001b[0mScanning D:\\YOLOV8-tomatod\\tomatOD_yolo\\test\\labels.cache... 55 images, 0 backgrounds, 0 corrupt: 100%|██████████|\u001b[0m\n",
      "                 Class     Images  Instances      Box(P          R      mAP50  mAP50-95): 100%|██████████| 55/55 [00:02\n"
     ]
    },
    {
     "name": "stdout",
     "output_type": "stream",
     "text": [
      "                   all         55        468      0.127      0.322      0.128     0.0422\n",
      "                unripe         55        292     0.0227      0.106     0.0144     0.0038\n",
      "             semi-ripe         37         77      0.142      0.416      0.131     0.0442\n",
      "            fully-ripe         48         99      0.216      0.444      0.239     0.0787\n",
      "Speed: 2.0ms preprocess, 16.7ms inference, 0.0ms loss, 1.7ms postprocess per image\n",
      "Saving runs\\detect\\tomatOD_run_effnet_epoch_20_test\\predictions.json...\n",
      "Results saved to \u001b[1mruns\\detect\\tomatOD_run_effnet_epoch_20_test\u001b[0m\n",
      "WARNING  imgsz=[300] must be multiple of max stride 32, updating to [320]\n",
      "Ultralytics 8.3.70  Python-3.11.11 torch-2.7.0.dev20250127+cu126 CUDA:0 (NVIDIA GeForce RTX 3050 Laptop GPU, 4096MiB)\n",
      "YOLOv8n summary (fused): 168 layers, 3,006,233 parameters, 0 gradients, 8.1 GFLOPs\n"
     ]
    },
    {
     "name": "stderr",
     "output_type": "stream",
     "text": [
      "\u001b[34m\u001b[1mval: \u001b[0mScanning D:\\YOLOV8-tomatod\\tomatOD_yolo\\val\\labels.cache... 22 images, 0 backgrounds, 0 corrupt: 100%|██████████| \u001b[0m"
     ]
    },
    {
     "name": "stdout",
     "output_type": "stream",
     "text": [
      "\u001b[34m\u001b[1mval: \u001b[0mWARNING  D:\\YOLOV8-tomatod\\tomatOD_yolo\\val\\images\\stereo20190405_133623_p2_snap_043.jpg: 1 duplicate labels removed\n",
      "\u001b[34m\u001b[1mval: \u001b[0mWARNING  D:\\YOLOV8-tomatod\\tomatOD_yolo\\val\\images\\stereo20190406_065607_p0_snap_080.jpg: 1 duplicate labels removed\n"
     ]
    },
    {
     "name": "stderr",
     "output_type": "stream",
     "text": [
      "\n",
      "                 Class     Images  Instances      Box(P          R      mAP50  mAP50-95): 100%|██████████| 22/22 [00:01\n"
     ]
    },
    {
     "name": "stdout",
     "output_type": "stream",
     "text": [
      "                   all         22        245      0.321      0.251      0.169     0.0519\n",
      "                unripe         22        173      0.177     0.0286     0.0294    0.00693\n",
      "             semi-ripe         17         37      0.393      0.324      0.244     0.0889\n",
      "            fully-ripe         16         35      0.393        0.4      0.234     0.0598\n",
      "Speed: 2.1ms preprocess, 14.7ms inference, 0.0ms loss, 1.2ms postprocess per image\n",
      "Saving runs\\detect\\tomatOD_run_effnet_epoch_21_val\\predictions.json...\n",
      "Results saved to \u001b[1mruns\\detect\\tomatOD_run_effnet_epoch_21_val\u001b[0m\n",
      "WARNING  imgsz=[300] must be multiple of max stride 32, updating to [320]\n",
      "Ultralytics 8.3.70  Python-3.11.11 torch-2.7.0.dev20250127+cu126 CUDA:0 (NVIDIA GeForce RTX 3050 Laptop GPU, 4096MiB)\n"
     ]
    },
    {
     "name": "stderr",
     "output_type": "stream",
     "text": [
      "\u001b[34m\u001b[1mval: \u001b[0mScanning D:\\YOLOV8-tomatod\\tomatOD_yolo\\test\\labels.cache... 55 images, 0 backgrounds, 0 corrupt: 100%|██████████|\u001b[0m\n",
      "                 Class     Images  Instances      Box(P          R      mAP50  mAP50-95): 100%|██████████| 55/55 [00:02\n"
     ]
    },
    {
     "name": "stdout",
     "output_type": "stream",
     "text": [
      "                   all         55        468       0.18      0.185      0.117     0.0313\n",
      "                unripe         55        292          0          0     0.0131    0.00334\n",
      "             semi-ripe         37         77      0.197      0.221      0.127     0.0349\n",
      "            fully-ripe         48         99      0.343      0.333      0.211     0.0558\n",
      "Speed: 2.3ms preprocess, 13.2ms inference, 0.0ms loss, 2.5ms postprocess per image\n",
      "Saving runs\\detect\\tomatOD_run_effnet_epoch_21_test\\predictions.json...\n",
      "Results saved to \u001b[1mruns\\detect\\tomatOD_run_effnet_epoch_21_test\u001b[0m\n",
      "WARNING  imgsz=[300] must be multiple of max stride 32, updating to [320]\n",
      "Ultralytics 8.3.70  Python-3.11.11 torch-2.7.0.dev20250127+cu126 CUDA:0 (NVIDIA GeForce RTX 3050 Laptop GPU, 4096MiB)\n",
      "YOLOv8n summary (fused): 168 layers, 3,006,233 parameters, 0 gradients, 8.1 GFLOPs\n"
     ]
    },
    {
     "name": "stderr",
     "output_type": "stream",
     "text": [
      "\u001b[34m\u001b[1mval: \u001b[0mScanning D:\\YOLOV8-tomatod\\tomatOD_yolo\\val\\labels.cache... 22 images, 0 backgrounds, 0 corrupt: 100%|██████████| \u001b[0m"
     ]
    },
    {
     "name": "stdout",
     "output_type": "stream",
     "text": [
      "\u001b[34m\u001b[1mval: \u001b[0mWARNING  D:\\YOLOV8-tomatod\\tomatOD_yolo\\val\\images\\stereo20190405_133623_p2_snap_043.jpg: 1 duplicate labels removed\n",
      "\u001b[34m\u001b[1mval: \u001b[0mWARNING  D:\\YOLOV8-tomatod\\tomatOD_yolo\\val\\images\\stereo20190406_065607_p0_snap_080.jpg: 1 duplicate labels removed\n"
     ]
    },
    {
     "name": "stderr",
     "output_type": "stream",
     "text": [
      "\n",
      "                 Class     Images  Instances      Box(P          R      mAP50  mAP50-95): 100%|██████████| 22/22 [00:01\n"
     ]
    },
    {
     "name": "stdout",
     "output_type": "stream",
     "text": [
      "                   all         22        245      0.367      0.317      0.226      0.083\n",
      "                unripe         22        173       0.16     0.0347     0.0411    0.00915\n",
      "             semi-ripe         17         37      0.472      0.458      0.327      0.131\n",
      "            fully-ripe         16         35      0.468      0.457      0.309      0.108\n",
      "Speed: 1.8ms preprocess, 16.8ms inference, 0.0ms loss, 2.2ms postprocess per image\n",
      "Saving runs\\detect\\tomatOD_run_effnet_epoch_22_val\\predictions.json...\n",
      "Results saved to \u001b[1mruns\\detect\\tomatOD_run_effnet_epoch_22_val\u001b[0m\n",
      "WARNING  imgsz=[300] must be multiple of max stride 32, updating to [320]\n",
      "Ultralytics 8.3.70  Python-3.11.11 torch-2.7.0.dev20250127+cu126 CUDA:0 (NVIDIA GeForce RTX 3050 Laptop GPU, 4096MiB)\n"
     ]
    },
    {
     "name": "stderr",
     "output_type": "stream",
     "text": [
      "\u001b[34m\u001b[1mval: \u001b[0mScanning D:\\YOLOV8-tomatod\\tomatOD_yolo\\test\\labels.cache... 55 images, 0 backgrounds, 0 corrupt: 100%|██████████|\u001b[0m\n",
      "                 Class     Images  Instances      Box(P          R      mAP50  mAP50-95): 100%|██████████| 55/55 [00:02\n"
     ]
    },
    {
     "name": "stdout",
     "output_type": "stream",
     "text": [
      "                   all         55        468      0.225      0.224      0.144     0.0522\n",
      "                unripe         55        292      0.073     0.0205     0.0202    0.00496\n",
      "             semi-ripe         37         77      0.197      0.247       0.14     0.0508\n",
      "            fully-ripe         48         99      0.405      0.404      0.273      0.101\n",
      "Speed: 2.1ms preprocess, 16.6ms inference, 0.0ms loss, 1.9ms postprocess per image\n",
      "Saving runs\\detect\\tomatOD_run_effnet_epoch_22_test\\predictions.json...\n",
      "Results saved to \u001b[1mruns\\detect\\tomatOD_run_effnet_epoch_22_test\u001b[0m\n",
      "WARNING  imgsz=[300] must be multiple of max stride 32, updating to [320]\n",
      "Ultralytics 8.3.70  Python-3.11.11 torch-2.7.0.dev20250127+cu126 CUDA:0 (NVIDIA GeForce RTX 3050 Laptop GPU, 4096MiB)\n",
      "YOLOv8n summary (fused): 168 layers, 3,006,233 parameters, 0 gradients, 8.1 GFLOPs\n"
     ]
    },
    {
     "name": "stderr",
     "output_type": "stream",
     "text": [
      "\u001b[34m\u001b[1mval: \u001b[0mScanning D:\\YOLOV8-tomatod\\tomatOD_yolo\\val\\labels.cache... 22 images, 0 backgrounds, 0 corrupt: 100%|██████████| \u001b[0m"
     ]
    },
    {
     "name": "stdout",
     "output_type": "stream",
     "text": [
      "\u001b[34m\u001b[1mval: \u001b[0mWARNING  D:\\YOLOV8-tomatod\\tomatOD_yolo\\val\\images\\stereo20190405_133623_p2_snap_043.jpg: 1 duplicate labels removed\n",
      "\u001b[34m\u001b[1mval: \u001b[0mWARNING  D:\\YOLOV8-tomatod\\tomatOD_yolo\\val\\images\\stereo20190406_065607_p0_snap_080.jpg: 1 duplicate labels removed\n"
     ]
    },
    {
     "name": "stderr",
     "output_type": "stream",
     "text": [
      "\n",
      "                 Class     Images  Instances      Box(P          R      mAP50  mAP50-95): 100%|██████████| 22/22 [00:01\n"
     ]
    },
    {
     "name": "stdout",
     "output_type": "stream",
     "text": [
      "                   all         22        245      0.383      0.328      0.248     0.0993\n",
      "                unripe         22        173      0.287     0.0606      0.065     0.0153\n",
      "             semi-ripe         17         37      0.428      0.465      0.357      0.145\n",
      "            fully-ripe         16         35      0.433      0.457      0.323      0.138\n",
      "Speed: 2.0ms preprocess, 17.7ms inference, 0.0ms loss, 2.1ms postprocess per image\n",
      "Saving runs\\detect\\tomatOD_run_effnet_epoch_23_val\\predictions.json...\n",
      "Results saved to \u001b[1mruns\\detect\\tomatOD_run_effnet_epoch_23_val\u001b[0m\n",
      "WARNING  imgsz=[300] must be multiple of max stride 32, updating to [320]\n",
      "Ultralytics 8.3.70  Python-3.11.11 torch-2.7.0.dev20250127+cu126 CUDA:0 (NVIDIA GeForce RTX 3050 Laptop GPU, 4096MiB)\n"
     ]
    },
    {
     "name": "stderr",
     "output_type": "stream",
     "text": [
      "\u001b[34m\u001b[1mval: \u001b[0mScanning D:\\YOLOV8-tomatod\\tomatOD_yolo\\test\\labels.cache... 55 images, 0 backgrounds, 0 corrupt: 100%|██████████|\u001b[0m\n",
      "                 Class     Images  Instances      Box(P          R      mAP50  mAP50-95): 100%|██████████| 55/55 [00:02\n"
     ]
    },
    {
     "name": "stdout",
     "output_type": "stream",
     "text": [
      "                   all         55        468      0.278      0.328      0.231     0.0826\n",
      "                unripe         55        292     0.0683     0.0205     0.0219    0.00574\n",
      "             semi-ripe         37         77      0.265      0.408      0.192     0.0693\n",
      "            fully-ripe         48         99      0.502      0.556       0.48      0.173\n",
      "Speed: 1.8ms preprocess, 15.3ms inference, 0.0ms loss, 1.8ms postprocess per image\n",
      "Saving runs\\detect\\tomatOD_run_effnet_epoch_23_test\\predictions.json...\n",
      "Results saved to \u001b[1mruns\\detect\\tomatOD_run_effnet_epoch_23_test\u001b[0m\n",
      "WARNING  imgsz=[300] must be multiple of max stride 32, updating to [320]\n",
      "Ultralytics 8.3.70  Python-3.11.11 torch-2.7.0.dev20250127+cu126 CUDA:0 (NVIDIA GeForce RTX 3050 Laptop GPU, 4096MiB)\n",
      "YOLOv8n summary (fused): 168 layers, 3,006,233 parameters, 0 gradients, 8.1 GFLOPs\n"
     ]
    },
    {
     "name": "stderr",
     "output_type": "stream",
     "text": [
      "\u001b[34m\u001b[1mval: \u001b[0mScanning D:\\YOLOV8-tomatod\\tomatOD_yolo\\val\\labels.cache... 22 images, 0 backgrounds, 0 corrupt: 100%|██████████| \u001b[0m"
     ]
    },
    {
     "name": "stdout",
     "output_type": "stream",
     "text": [
      "\u001b[34m\u001b[1mval: \u001b[0mWARNING  D:\\YOLOV8-tomatod\\tomatOD_yolo\\val\\images\\stereo20190405_133623_p2_snap_043.jpg: 1 duplicate labels removed\n",
      "\u001b[34m\u001b[1mval: \u001b[0mWARNING  D:\\YOLOV8-tomatod\\tomatOD_yolo\\val\\images\\stereo20190406_065607_p0_snap_080.jpg: 1 duplicate labels removed\n"
     ]
    },
    {
     "name": "stderr",
     "output_type": "stream",
     "text": [
      "\n",
      "                 Class     Images  Instances      Box(P          R      mAP50  mAP50-95): 100%|██████████| 22/22 [00:01\n"
     ]
    },
    {
     "name": "stdout",
     "output_type": "stream",
     "text": [
      "                   all         22        245      0.363      0.334      0.245      0.101\n",
      "                unripe         22        173      0.248     0.0573     0.0589      0.015\n",
      "             semi-ripe         17         37      0.426      0.486      0.338      0.139\n",
      "            fully-ripe         16         35      0.415      0.457      0.338      0.149\n",
      "Speed: 2.1ms preprocess, 16.4ms inference, 0.1ms loss, 2.3ms postprocess per image\n",
      "Saving runs\\detect\\tomatOD_run_effnet_epoch_24_val\\predictions.json...\n",
      "Results saved to \u001b[1mruns\\detect\\tomatOD_run_effnet_epoch_24_val\u001b[0m\n",
      "WARNING  imgsz=[300] must be multiple of max stride 32, updating to [320]\n",
      "Ultralytics 8.3.70  Python-3.11.11 torch-2.7.0.dev20250127+cu126 CUDA:0 (NVIDIA GeForce RTX 3050 Laptop GPU, 4096MiB)\n"
     ]
    },
    {
     "name": "stderr",
     "output_type": "stream",
     "text": [
      "\u001b[34m\u001b[1mval: \u001b[0mScanning D:\\YOLOV8-tomatod\\tomatOD_yolo\\test\\labels.cache... 55 images, 0 backgrounds, 0 corrupt: 100%|██████████|\u001b[0m\n",
      "                 Class     Images  Instances      Box(P          R      mAP50  mAP50-95): 100%|██████████| 55/55 [00:02\n"
     ]
    },
    {
     "name": "stdout",
     "output_type": "stream",
     "text": [
      "                   all         55        468      0.261       0.33      0.234      0.088\n",
      "                unripe         55        292     0.0773     0.0308     0.0241    0.00599\n",
      "             semi-ripe         37         77      0.247      0.405      0.192     0.0747\n",
      "            fully-ripe         48         99       0.46      0.556      0.486      0.183\n",
      "Speed: 2.0ms preprocess, 16.0ms inference, 0.0ms loss, 2.0ms postprocess per image\n",
      "Saving runs\\detect\\tomatOD_run_effnet_epoch_24_test\\predictions.json...\n",
      "Results saved to \u001b[1mruns\\detect\\tomatOD_run_effnet_epoch_24_test\u001b[0m\n",
      "WARNING  imgsz=[300] must be multiple of max stride 32, updating to [320]\n",
      "Ultralytics 8.3.70  Python-3.11.11 torch-2.7.0.dev20250127+cu126 CUDA:0 (NVIDIA GeForce RTX 3050 Laptop GPU, 4096MiB)\n",
      "YOLOv8n summary (fused): 168 layers, 3,006,233 parameters, 0 gradients, 8.1 GFLOPs\n"
     ]
    },
    {
     "name": "stderr",
     "output_type": "stream",
     "text": [
      "\u001b[34m\u001b[1mval: \u001b[0mScanning D:\\YOLOV8-tomatod\\tomatOD_yolo\\val\\labels.cache... 22 images, 0 backgrounds, 0 corrupt: 100%|██████████| \u001b[0m"
     ]
    },
    {
     "name": "stdout",
     "output_type": "stream",
     "text": [
      "\u001b[34m\u001b[1mval: \u001b[0mWARNING  D:\\YOLOV8-tomatod\\tomatOD_yolo\\val\\images\\stereo20190405_133623_p2_snap_043.jpg: 1 duplicate labels removed\n",
      "\u001b[34m\u001b[1mval: \u001b[0mWARNING  D:\\YOLOV8-tomatod\\tomatOD_yolo\\val\\images\\stereo20190406_065607_p0_snap_080.jpg: 1 duplicate labels removed\n"
     ]
    },
    {
     "name": "stderr",
     "output_type": "stream",
     "text": [
      "\n",
      "                 Class     Images  Instances      Box(P          R      mAP50  mAP50-95): 100%|██████████| 22/22 [00:01\n"
     ]
    },
    {
     "name": "stdout",
     "output_type": "stream",
     "text": [
      "                   all         22        245      0.363      0.334      0.245      0.101\n",
      "                unripe         22        173      0.248     0.0573     0.0589      0.015\n",
      "             semi-ripe         17         37      0.426      0.486      0.338      0.139\n",
      "            fully-ripe         16         35      0.415      0.457      0.338      0.149\n",
      "Speed: 2.2ms preprocess, 17.1ms inference, 0.0ms loss, 1.6ms postprocess per image\n",
      "Saving runs\\detect\\tomatOD_run_effnet_epoch_25_val\\predictions.json...\n",
      "Results saved to \u001b[1mruns\\detect\\tomatOD_run_effnet_epoch_25_val\u001b[0m\n",
      "WARNING  imgsz=[300] must be multiple of max stride 32, updating to [320]\n",
      "Ultralytics 8.3.70  Python-3.11.11 torch-2.7.0.dev20250127+cu126 CUDA:0 (NVIDIA GeForce RTX 3050 Laptop GPU, 4096MiB)\n"
     ]
    },
    {
     "name": "stderr",
     "output_type": "stream",
     "text": [
      "\u001b[34m\u001b[1mval: \u001b[0mScanning D:\\YOLOV8-tomatod\\tomatOD_yolo\\test\\labels.cache... 55 images, 0 backgrounds, 0 corrupt: 100%|██████████|\u001b[0m\n",
      "                 Class     Images  Instances      Box(P          R      mAP50  mAP50-95): 100%|██████████| 55/55 [00:02\n"
     ]
    },
    {
     "name": "stdout",
     "output_type": "stream",
     "text": [
      "                   all         55        468      0.261       0.33      0.234      0.088\n",
      "                unripe         55        292     0.0773     0.0308     0.0241    0.00599\n",
      "             semi-ripe         37         77      0.247      0.405      0.192     0.0747\n",
      "            fully-ripe         48         99       0.46      0.556      0.486      0.183\n",
      "Speed: 2.6ms preprocess, 15.1ms inference, 0.0ms loss, 1.8ms postprocess per image\n",
      "Saving runs\\detect\\tomatOD_run_effnet_epoch_25_test\\predictions.json...\n",
      "Results saved to \u001b[1mruns\\detect\\tomatOD_run_effnet_epoch_25_test\u001b[0m\n",
      "New https://pypi.org/project/ultralytics/8.3.86 available  Update with 'pip install -U ultralytics'\n",
      "Ultralytics 8.3.70  Python-3.11.11 torch-2.7.0.dev20250127+cu126 CUDA:0 (NVIDIA GeForce RTX 3050 Laptop GPU, 4096MiB)\n",
      "\u001b[34m\u001b[1mengine\\trainer: \u001b[0mtask=detect, mode=train, model=D:\\YOLOV8-tomatod\\ultralytics\\ultralytics\\cfg\\models\\v8\\yolov8n.yaml, data=tomatOD_yolo/data.yaml, epochs=25, time=None, patience=100, batch=16, imgsz=300, save=True, save_period=1, cache=False, device=0, workers=0, project=runs/detect, name=tomatOD_run_effnet2, exist_ok=False, pretrained=True, optimizer=SGD, verbose=True, seed=0, deterministic=True, single_cls=False, rect=False, cos_lr=False, close_mosaic=10, resume=False, amp=True, fraction=1.0, profile=False, freeze=None, multi_scale=False, overlap_mask=True, mask_ratio=4, dropout=0.0, val=True, split=val, save_json=False, save_hybrid=False, conf=None, iou=0.7, max_det=300, half=False, dnn=False, plots=True, source=None, vid_stride=1, stream_buffer=False, visualize=False, augment=False, agnostic_nms=False, classes=None, retina_masks=False, embed=None, show=False, save_frames=False, save_txt=False, save_conf=False, save_crop=False, show_labels=True, show_conf=True, show_boxes=True, line_width=None, format=torchscript, keras=False, optimize=False, int8=False, dynamic=False, simplify=True, opset=None, workspace=None, nms=False, lr0=0.01, lrf=0.0001, momentum=0.9, weight_decay=0.0005, warmup_epochs=3.0, warmup_momentum=0.8, warmup_bias_lr=0.1, box=7.5, cls=0.5, dfl=1.5, pose=12.0, kobj=1.0, nbs=64, hsv_h=0.015, hsv_s=0.7, hsv_v=0.4, degrees=0.0, translate=0.1, scale=0.5, shear=0.0, perspective=0.0, flipud=0.0, fliplr=0.5, bgr=0.0, mosaic=1.0, mixup=0.0, copy_paste=0.0, copy_paste_mode=flip, auto_augment=randaugment, erasing=0.4, crop_fraction=1.0, cfg=None, tracker=botsort.yaml, save_dir=runs\\detect\\tomatOD_run_effnet2\n",
      "\n",
      "                   from  n    params  module                                       arguments                     \n",
      "  0                  -1  1       464  ultralytics.nn.modules.conv.Conv             [3, 16, 3, 2]                 \n",
      "  1                  -1  1      4672  ultralytics.nn.modules.conv.Conv             [16, 32, 3, 2]                \n",
      "  2                  -1  1      7360  ultralytics.nn.modules.block.C2f             [32, 32, 1, True]             \n",
      "  3                  -1  1     18560  ultralytics.nn.modules.conv.Conv             [32, 64, 3, 2]                \n",
      "  4                  -1  2     49664  ultralytics.nn.modules.block.C2f             [64, 64, 2, True]             \n",
      "  5                  -1  1     73984  ultralytics.nn.modules.conv.Conv             [64, 128, 3, 2]               \n",
      "  6                  -1  2    197632  ultralytics.nn.modules.block.C2f             [128, 128, 2, True]           \n",
      "  7                  -1  1    295424  ultralytics.nn.modules.conv.Conv             [128, 256, 3, 2]              \n",
      "  8                  -1  1    460288  ultralytics.nn.modules.block.C2f             [256, 256, 1, True]           \n",
      "  9                  -1  1    164608  ultralytics.nn.modules.block.SPPF            [256, 256, 5]                 \n",
      " 10                  -1  1         0  torch.nn.modules.upsampling.Upsample         [None, 2, 'nearest']          \n",
      " 11             [-1, 6]  1         0  ultralytics.nn.modules.conv.Concat           [1]                           \n",
      " 12                  -1  1    148224  ultralytics.nn.modules.block.C2f             [384, 128, 1]                 \n",
      " 13                  -1  1         0  torch.nn.modules.upsampling.Upsample         [None, 2, 'nearest']          \n",
      " 14             [-1, 4]  1         0  ultralytics.nn.modules.conv.Concat           [1]                           \n",
      " 15                  -1  1     37248  ultralytics.nn.modules.block.C2f             [192, 64, 1]                  \n",
      " 16                  -1  1     36992  ultralytics.nn.modules.conv.Conv             [64, 64, 3, 2]                \n",
      " 17            [-1, 12]  1         0  ultralytics.nn.modules.conv.Concat           [1]                           \n",
      " 18                  -1  1    123648  ultralytics.nn.modules.block.C2f             [192, 128, 1]                 \n",
      " 19                  -1  1    147712  ultralytics.nn.modules.conv.Conv             [128, 128, 3, 2]              \n",
      " 20             [-1, 9]  1         0  ultralytics.nn.modules.conv.Concat           [1]                           \n",
      " 21                  -1  1    493056  ultralytics.nn.modules.block.C2f             [384, 256, 1]                 \n",
      " 22        [15, 18, 21]  1    751897  ultralytics.nn.modules.head.Detect           [3, [64, 128, 256]]           \n",
      "YOLOv8n summary: 225 layers, 3,011,433 parameters, 3,011,417 gradients, 8.2 GFLOPs\n",
      "\n",
      "Freezing layer 'model.22.dfl.conv.weight'\n",
      "\u001b[34m\u001b[1mAMP: \u001b[0mrunning Automatic Mixed Precision (AMP) checks...\n",
      "\u001b[34m\u001b[1mAMP: \u001b[0mchecks passed \n",
      "WARNING  imgsz=[300] must be multiple of max stride 32, updating to [320]\n"
     ]
    },
    {
     "name": "stderr",
     "output_type": "stream",
     "text": [
      "\u001b[34m\u001b[1mtrain: \u001b[0mScanning D:\\YOLOV8-tomatod\\tomatOD_yolo\\train\\labels.cache... 200 images, 0 backgrounds, 0 corrupt: 100%|███████\u001b[0m"
     ]
    },
    {
     "name": "stdout",
     "output_type": "stream",
     "text": [
      "\u001b[34m\u001b[1mtrain: \u001b[0mWARNING  D:\\YOLOV8-tomatod\\tomatOD_yolo\\train\\images\\stereo20190405_133623_p1_snap_036.jpg: 1 duplicate labels removed\n",
      "\u001b[34m\u001b[1mtrain: \u001b[0mWARNING  D:\\YOLOV8-tomatod\\tomatOD_yolo\\train\\images\\stereo20190405_133623_p2_snap_087.jpg: 2 duplicate labels removed\n",
      "\u001b[34m\u001b[1mtrain: \u001b[0mWARNING  D:\\YOLOV8-tomatod\\tomatOD_yolo\\train\\images\\stereo20190406_054921_p0_snap_414.jpg: 1 duplicate labels removed\n",
      "\u001b[34m\u001b[1mtrain: \u001b[0mWARNING  D:\\YOLOV8-tomatod\\tomatOD_yolo\\train\\images\\stereo20190406_054921_p0_snap_544.jpg: 1 duplicate labels removed\n",
      "\u001b[34m\u001b[1mtrain: \u001b[0mWARNING  D:\\YOLOV8-tomatod\\tomatOD_yolo\\train\\images\\stereo20190406_054921_p0_snap_822.jpg: 1 duplicate labels removed\n"
     ]
    },
    {
     "name": "stderr",
     "output_type": "stream",
     "text": [
      "\n",
      "\u001b[34m\u001b[1mval: \u001b[0mScanning D:\\YOLOV8-tomatod\\tomatOD_yolo\\val\\labels.cache... 22 images, 0 backgrounds, 0 corrupt: 100%|██████████| \u001b[0m"
     ]
    },
    {
     "name": "stdout",
     "output_type": "stream",
     "text": [
      "\u001b[34m\u001b[1mval: \u001b[0mWARNING  D:\\YOLOV8-tomatod\\tomatOD_yolo\\val\\images\\stereo20190405_133623_p2_snap_043.jpg: 1 duplicate labels removed\n",
      "\u001b[34m\u001b[1mval: \u001b[0mWARNING  D:\\YOLOV8-tomatod\\tomatOD_yolo\\val\\images\\stereo20190406_065607_p0_snap_080.jpg: 1 duplicate labels removed\n",
      "Plotting labels to runs\\detect\\tomatOD_run_effnet2\\labels.jpg... \n"
     ]
    },
    {
     "name": "stderr",
     "output_type": "stream",
     "text": [
      "\n"
     ]
    },
    {
     "name": "stdout",
     "output_type": "stream",
     "text": [
      "\u001b[34m\u001b[1moptimizer:\u001b[0m SGD(lr=0.01, momentum=0.9) with parameter groups 57 weight(decay=0.0), 64 weight(decay=0.0005), 63 bias(decay=0.0)\n",
      "Image sizes 320 train, 320 val\n",
      "Using 0 dataloader workers\n",
      "Logging results to \u001b[1mruns\\detect\\tomatOD_run_effnet2\u001b[0m\n",
      "Starting training for 25 epochs...\n",
      "\n",
      "      Epoch    GPU_mem   box_loss   cls_loss   dfl_loss  Instances       Size\n"
     ]
    },
    {
     "name": "stderr",
     "output_type": "stream",
     "text": [
      "       1/25     0.656G      6.586      16.52      4.183         85        320: 100%|██████████| 13/13 [00:05<00:00,  2.\n",
      "                 Class     Images  Instances      Box(P          R      mAP50  mAP50-95): 100%|██████████| 1/1 [00:00<0"
     ]
    },
    {
     "name": "stdout",
     "output_type": "stream",
     "text": [
      "                   all         22        245          0          0          0          0\n"
     ]
    },
    {
     "name": "stderr",
     "output_type": "stream",
     "text": [
      "\n"
     ]
    },
    {
     "name": "stdout",
     "output_type": "stream",
     "text": [
      "\n",
      "      Epoch    GPU_mem   box_loss   cls_loss   dfl_loss  Instances       Size\n"
     ]
    },
    {
     "name": "stderr",
     "output_type": "stream",
     "text": [
      "       2/25     0.617G       6.83      10.31      4.071         90        320: 100%|██████████| 13/13 [00:04<00:00,  3.\n",
      "                 Class     Images  Instances      Box(P          R      mAP50  mAP50-95): 100%|██████████| 1/1 [00:00<0"
     ]
    },
    {
     "name": "stdout",
     "output_type": "stream",
     "text": [
      "                   all         22        245          0          0          0          0\n"
     ]
    },
    {
     "name": "stderr",
     "output_type": "stream",
     "text": [
      "\n"
     ]
    },
    {
     "name": "stdout",
     "output_type": "stream",
     "text": [
      "\n",
      "      Epoch    GPU_mem   box_loss   cls_loss   dfl_loss  Instances       Size\n"
     ]
    },
    {
     "name": "stderr",
     "output_type": "stream",
     "text": [
      "       3/25     0.621G      6.651      6.607      3.868         74        320: 100%|██████████| 13/13 [00:04<00:00,  2.\n",
      "                 Class     Images  Instances      Box(P          R      mAP50  mAP50-95): 100%|██████████| 1/1 [00:00<0"
     ]
    },
    {
     "name": "stdout",
     "output_type": "stream",
     "text": [
      "                   all         22        245          0          0          0          0\n"
     ]
    },
    {
     "name": "stderr",
     "output_type": "stream",
     "text": [
      "\n"
     ]
    },
    {
     "name": "stdout",
     "output_type": "stream",
     "text": [
      "\n",
      "      Epoch    GPU_mem   box_loss   cls_loss   dfl_loss  Instances       Size\n"
     ]
    },
    {
     "name": "stderr",
     "output_type": "stream",
     "text": [
      "       4/25     0.619G      6.675       5.33      3.486         93        320: 100%|██████████| 13/13 [00:04<00:00,  3.\n",
      "                 Class     Images  Instances      Box(P          R      mAP50  mAP50-95): 100%|██████████| 1/1 [00:00<0"
     ]
    },
    {
     "name": "stdout",
     "output_type": "stream",
     "text": [
      "                   all         22        245          0          0          0          0\n"
     ]
    },
    {
     "name": "stderr",
     "output_type": "stream",
     "text": [
      "\n"
     ]
    },
    {
     "name": "stdout",
     "output_type": "stream",
     "text": [
      "\n",
      "      Epoch    GPU_mem   box_loss   cls_loss   dfl_loss  Instances       Size\n"
     ]
    },
    {
     "name": "stderr",
     "output_type": "stream",
     "text": [
      "       5/25     0.619G      6.509      4.998      3.169         51        320: 100%|██████████| 13/13 [00:04<00:00,  3.\n",
      "                 Class     Images  Instances      Box(P          R      mAP50  mAP50-95): 100%|██████████| 1/1 [00:00<0"
     ]
    },
    {
     "name": "stdout",
     "output_type": "stream",
     "text": [
      "                   all         22        245          0          0          0          0\n"
     ]
    },
    {
     "name": "stderr",
     "output_type": "stream",
     "text": [
      "\n"
     ]
    },
    {
     "name": "stdout",
     "output_type": "stream",
     "text": [
      "\n",
      "      Epoch    GPU_mem   box_loss   cls_loss   dfl_loss  Instances       Size\n"
     ]
    },
    {
     "name": "stderr",
     "output_type": "stream",
     "text": [
      "       6/25     0.608G      6.142      4.714      3.003        124        320: 100%|██████████| 13/13 [00:04<00:00,  3.\n",
      "                 Class     Images  Instances      Box(P          R      mAP50  mAP50-95): 100%|██████████| 1/1 [00:00<0"
     ]
    },
    {
     "name": "stdout",
     "output_type": "stream",
     "text": [
      "                   all         22        245          0          0          0          0\n"
     ]
    },
    {
     "name": "stderr",
     "output_type": "stream",
     "text": [
      "\n"
     ]
    },
    {
     "name": "stdout",
     "output_type": "stream",
     "text": [
      "\n",
      "      Epoch    GPU_mem   box_loss   cls_loss   dfl_loss  Instances       Size\n"
     ]
    },
    {
     "name": "stderr",
     "output_type": "stream",
     "text": [
      "       7/25     0.619G      5.834        4.5      2.739         76        320: 100%|██████████| 13/13 [00:04<00:00,  3.\n",
      "                 Class     Images  Instances      Box(P          R      mAP50  mAP50-95): 100%|██████████| 1/1 [00:00<0"
     ]
    },
    {
     "name": "stdout",
     "output_type": "stream",
     "text": [
      "                   all         22        245          0          0          0          0\n"
     ]
    },
    {
     "name": "stderr",
     "output_type": "stream",
     "text": [
      "\n"
     ]
    },
    {
     "name": "stdout",
     "output_type": "stream",
     "text": [
      "\n",
      "      Epoch    GPU_mem   box_loss   cls_loss   dfl_loss  Instances       Size\n"
     ]
    },
    {
     "name": "stderr",
     "output_type": "stream",
     "text": [
      "       8/25     0.621G      5.469      4.317       2.54         99        320: 100%|██████████| 13/13 [00:04<00:00,  3.\n",
      "                 Class     Images  Instances      Box(P          R      mAP50  mAP50-95): 100%|██████████| 1/1 [00:00<0"
     ]
    },
    {
     "name": "stdout",
     "output_type": "stream",
     "text": [
      "                   all         22        245          0          0          0          0\n"
     ]
    },
    {
     "name": "stderr",
     "output_type": "stream",
     "text": [
      "\n"
     ]
    },
    {
     "name": "stdout",
     "output_type": "stream",
     "text": [
      "\n",
      "      Epoch    GPU_mem   box_loss   cls_loss   dfl_loss  Instances       Size\n"
     ]
    },
    {
     "name": "stderr",
     "output_type": "stream",
     "text": [
      "       9/25     0.619G      5.102      4.263      2.505         37        320: 100%|██████████| 13/13 [00:04<00:00,  3.\n",
      "                 Class     Images  Instances      Box(P          R      mAP50  mAP50-95): 100%|██████████| 1/1 [00:00<0"
     ]
    },
    {
     "name": "stdout",
     "output_type": "stream",
     "text": [
      "                   all         22        245   0.000517     0.0116   0.000277   0.000101\n"
     ]
    },
    {
     "name": "stderr",
     "output_type": "stream",
     "text": [
      "\n"
     ]
    },
    {
     "name": "stdout",
     "output_type": "stream",
     "text": [
      "\n",
      "      Epoch    GPU_mem   box_loss   cls_loss   dfl_loss  Instances       Size\n"
     ]
    },
    {
     "name": "stderr",
     "output_type": "stream",
     "text": [
      "      10/25      0.65G      4.755      4.082      2.222        106        320: 100%|██████████| 13/13 [00:04<00:00,  3.\n",
      "                 Class     Images  Instances      Box(P          R      mAP50  mAP50-95): 100%|██████████| 1/1 [00:00<0"
     ]
    },
    {
     "name": "stdout",
     "output_type": "stream",
     "text": [
      "                   all         22        245   0.000828     0.0173   0.000488   0.000154\n"
     ]
    },
    {
     "name": "stderr",
     "output_type": "stream",
     "text": [
      "\n"
     ]
    },
    {
     "name": "stdout",
     "output_type": "stream",
     "text": [
      "\n",
      "      Epoch    GPU_mem   box_loss   cls_loss   dfl_loss  Instances       Size\n"
     ]
    },
    {
     "name": "stderr",
     "output_type": "stream",
     "text": [
      "      11/25     0.617G      4.473       3.95      2.148         65        320: 100%|██████████| 13/13 [00:04<00:00,  3.\n",
      "                 Class     Images  Instances      Box(P          R      mAP50  mAP50-95): 100%|██████████| 1/1 [00:00<0"
     ]
    },
    {
     "name": "stdout",
     "output_type": "stream",
     "text": [
      "                   all         22        245    0.00133     0.0366     0.0009   0.000343\n"
     ]
    },
    {
     "name": "stderr",
     "output_type": "stream",
     "text": [
      "\n"
     ]
    },
    {
     "name": "stdout",
     "output_type": "stream",
     "text": [
      "\n",
      "      Epoch    GPU_mem   box_loss   cls_loss   dfl_loss  Instances       Size\n"
     ]
    },
    {
     "name": "stderr",
     "output_type": "stream",
     "text": [
      "      12/25      0.61G      4.403      3.819      2.035         83        320: 100%|██████████| 13/13 [00:04<00:00,  3.\n",
      "                 Class     Images  Instances      Box(P          R      mAP50  mAP50-95): 100%|██████████| 1/1 [00:00<0"
     ]
    },
    {
     "name": "stdout",
     "output_type": "stream",
     "text": [
      "                   all         22        245    0.00219     0.0636    0.00138   0.000311\n"
     ]
    },
    {
     "name": "stderr",
     "output_type": "stream",
     "text": [
      "\n"
     ]
    },
    {
     "name": "stdout",
     "output_type": "stream",
     "text": [
      "\n",
      "      Epoch    GPU_mem   box_loss   cls_loss   dfl_loss  Instances       Size\n"
     ]
    },
    {
     "name": "stderr",
     "output_type": "stream",
     "text": [
      "      13/25     0.617G      4.258      3.802      1.921         95        320: 100%|██████████| 13/13 [00:03<00:00,  3.\n",
      "                 Class     Images  Instances      Box(P          R      mAP50  mAP50-95): 100%|██████████| 1/1 [00:00<0"
     ]
    },
    {
     "name": "stdout",
     "output_type": "stream",
     "text": [
      "                   all         22        245    0.00166     0.0539    0.00104   0.000342\n"
     ]
    },
    {
     "name": "stderr",
     "output_type": "stream",
     "text": [
      "\n"
     ]
    },
    {
     "name": "stdout",
     "output_type": "stream",
     "text": [
      "\n",
      "      Epoch    GPU_mem   box_loss   cls_loss   dfl_loss  Instances       Size\n"
     ]
    },
    {
     "name": "stderr",
     "output_type": "stream",
     "text": [
      "      14/25     0.648G      4.129      3.646      1.987         84        320: 100%|██████████| 13/13 [00:04<00:00,  3.\n",
      "                 Class     Images  Instances      Box(P          R      mAP50  mAP50-95): 100%|██████████| 1/1 [00:00<0"
     ]
    },
    {
     "name": "stdout",
     "output_type": "stream",
     "text": [
      "                   all         22        245   0.000541     0.0173   0.000325   0.000118\n"
     ]
    },
    {
     "name": "stderr",
     "output_type": "stream",
     "text": [
      "\n"
     ]
    },
    {
     "name": "stdout",
     "output_type": "stream",
     "text": [
      "\n",
      "      Epoch    GPU_mem   box_loss   cls_loss   dfl_loss  Instances       Size\n"
     ]
    },
    {
     "name": "stderr",
     "output_type": "stream",
     "text": [
      "      15/25     0.623G      4.138      3.575      1.834        106        320: 100%|██████████| 13/13 [00:04<00:00,  3.\n",
      "                 Class     Images  Instances      Box(P          R      mAP50  mAP50-95): 100%|██████████| 1/1 [00:00<0"
     ]
    },
    {
     "name": "stdout",
     "output_type": "stream",
     "text": [
      "                   all         22        245     0.0011     0.0347    0.00073   0.000263\n"
     ]
    },
    {
     "name": "stderr",
     "output_type": "stream",
     "text": [
      "\n"
     ]
    },
    {
     "name": "stdout",
     "output_type": "stream",
     "text": [
      "Closing dataloader mosaic\n",
      "\n",
      "      Epoch    GPU_mem   box_loss   cls_loss   dfl_loss  Instances       Size\n"
     ]
    },
    {
     "name": "stderr",
     "output_type": "stream",
     "text": [
      "      16/25     0.604G      4.007      3.441      1.804         78        320: 100%|██████████| 13/13 [00:04<00:00,  3.\n",
      "                 Class     Images  Instances      Box(P          R      mAP50  mAP50-95): 100%|██████████| 1/1 [00:00<0"
     ]
    },
    {
     "name": "stdout",
     "output_type": "stream",
     "text": [
      "                   all         22        245    0.00391     0.0585    0.00354    0.00107\n"
     ]
    },
    {
     "name": "stderr",
     "output_type": "stream",
     "text": [
      "\n"
     ]
    },
    {
     "name": "stdout",
     "output_type": "stream",
     "text": [
      "\n",
      "      Epoch    GPU_mem   box_loss   cls_loss   dfl_loss  Instances       Size\n"
     ]
    },
    {
     "name": "stderr",
     "output_type": "stream",
     "text": [
      "      17/25     0.587G      3.891      3.276      1.704         41        320: 100%|██████████| 13/13 [00:04<00:00,  3.\n",
      "                 Class     Images  Instances      Box(P          R      mAP50  mAP50-95): 100%|██████████| 1/1 [00:00<0"
     ]
    },
    {
     "name": "stdout",
     "output_type": "stream",
     "text": [
      "                   all         22        245     0.0163      0.249     0.0391      0.014\n"
     ]
    },
    {
     "name": "stderr",
     "output_type": "stream",
     "text": [
      "\n"
     ]
    },
    {
     "name": "stdout",
     "output_type": "stream",
     "text": [
      "\n",
      "      Epoch    GPU_mem   box_loss   cls_loss   dfl_loss  Instances       Size\n"
     ]
    },
    {
     "name": "stderr",
     "output_type": "stream",
     "text": [
      "      18/25     0.608G      3.877      3.159      1.681         60        320: 100%|██████████| 13/13 [00:03<00:00,  3.\n",
      "                 Class     Images  Instances      Box(P          R      mAP50  mAP50-95): 100%|██████████| 1/1 [00:00<0"
     ]
    },
    {
     "name": "stdout",
     "output_type": "stream",
     "text": [
      "                   all         22        245     0.0149       0.29     0.0372    0.00992\n"
     ]
    },
    {
     "name": "stderr",
     "output_type": "stream",
     "text": [
      "\n"
     ]
    },
    {
     "name": "stdout",
     "output_type": "stream",
     "text": [
      "\n",
      "      Epoch    GPU_mem   box_loss   cls_loss   dfl_loss  Instances       Size\n"
     ]
    },
    {
     "name": "stderr",
     "output_type": "stream",
     "text": [
      "      19/25     0.593G      3.798      2.943      1.676         61        320: 100%|██████████| 13/13 [00:04<00:00,  3.\n",
      "                 Class     Images  Instances      Box(P          R      mAP50  mAP50-95): 100%|██████████| 1/1 [00:00<0"
     ]
    },
    {
     "name": "stdout",
     "output_type": "stream",
     "text": [
      "                   all         22        245     0.0163      0.334     0.0685     0.0187\n"
     ]
    },
    {
     "name": "stderr",
     "output_type": "stream",
     "text": [
      "\n"
     ]
    },
    {
     "name": "stdout",
     "output_type": "stream",
     "text": [
      "\n",
      "      Epoch    GPU_mem   box_loss   cls_loss   dfl_loss  Instances       Size\n"
     ]
    },
    {
     "name": "stderr",
     "output_type": "stream",
     "text": [
      "      20/25     0.598G      3.821      2.886      1.623         66        320: 100%|██████████| 13/13 [00:04<00:00,  2.\n",
      "                 Class     Images  Instances      Box(P          R      mAP50  mAP50-95): 100%|██████████| 1/1 [00:00<0"
     ]
    },
    {
     "name": "stdout",
     "output_type": "stream",
     "text": [
      "                   all         22        245     0.0186      0.393     0.0875     0.0279\n"
     ]
    },
    {
     "name": "stderr",
     "output_type": "stream",
     "text": [
      "\n"
     ]
    },
    {
     "name": "stdout",
     "output_type": "stream",
     "text": [
      "\n",
      "      Epoch    GPU_mem   box_loss   cls_loss   dfl_loss  Instances       Size\n"
     ]
    },
    {
     "name": "stderr",
     "output_type": "stream",
     "text": [
      "      21/25     0.587G      3.679      2.843      1.634         61        320: 100%|██████████| 13/13 [00:04<00:00,  3.\n",
      "                 Class     Images  Instances      Box(P          R      mAP50  mAP50-95): 100%|██████████| 1/1 [00:00<0"
     ]
    },
    {
     "name": "stdout",
     "output_type": "stream",
     "text": [
      "                   all         22        245       0.19      0.306      0.168     0.0561\n"
     ]
    },
    {
     "name": "stderr",
     "output_type": "stream",
     "text": [
      "\n"
     ]
    },
    {
     "name": "stdout",
     "output_type": "stream",
     "text": [
      "\n",
      "      Epoch    GPU_mem   box_loss   cls_loss   dfl_loss  Instances       Size\n"
     ]
    },
    {
     "name": "stderr",
     "output_type": "stream",
     "text": [
      "      22/25      0.61G      3.495       2.74      1.634         75        320: 100%|██████████| 13/13 [00:03<00:00,  3.\n",
      "                 Class     Images  Instances      Box(P          R      mAP50  mAP50-95): 100%|██████████| 1/1 [00:00<0"
     ]
    },
    {
     "name": "stdout",
     "output_type": "stream",
     "text": [
      "                   all         22        245      0.271      0.245      0.151     0.0443\n"
     ]
    },
    {
     "name": "stderr",
     "output_type": "stream",
     "text": [
      "\n"
     ]
    },
    {
     "name": "stdout",
     "output_type": "stream",
     "text": [
      "\n",
      "      Epoch    GPU_mem   box_loss   cls_loss   dfl_loss  Instances       Size\n"
     ]
    },
    {
     "name": "stderr",
     "output_type": "stream",
     "text": [
      "      23/25     0.598G        3.3      2.645       1.61         48        320: 100%|██████████| 13/13 [00:04<00:00,  3.\n",
      "                 Class     Images  Instances      Box(P          R      mAP50  mAP50-95): 100%|██████████| 1/1 [00:00<0"
     ]
    },
    {
     "name": "stdout",
     "output_type": "stream",
     "text": [
      "                   all         22        245      0.335      0.302      0.191     0.0701\n"
     ]
    },
    {
     "name": "stderr",
     "output_type": "stream",
     "text": [
      "\n"
     ]
    },
    {
     "name": "stdout",
     "output_type": "stream",
     "text": [
      "\n",
      "      Epoch    GPU_mem   box_loss   cls_loss   dfl_loss  Instances       Size\n"
     ]
    },
    {
     "name": "stderr",
     "output_type": "stream",
     "text": [
      "      24/25     0.598G      3.317      2.603       1.57         78        320: 100%|██████████| 13/13 [00:04<00:00,  2.\n",
      "                 Class     Images  Instances      Box(P          R      mAP50  mAP50-95): 100%|██████████| 1/1 [00:00<0"
     ]
    },
    {
     "name": "stdout",
     "output_type": "stream",
     "text": [
      "                   all         22        245      0.332      0.314      0.206     0.0815\n"
     ]
    },
    {
     "name": "stderr",
     "output_type": "stream",
     "text": [
      "\n"
     ]
    },
    {
     "name": "stdout",
     "output_type": "stream",
     "text": [
      "\n",
      "      Epoch    GPU_mem   box_loss   cls_loss   dfl_loss  Instances       Size\n"
     ]
    },
    {
     "name": "stderr",
     "output_type": "stream",
     "text": [
      "      25/25     0.587G      3.235      2.557      1.574         67        320: 100%|██████████| 13/13 [00:03<00:00,  3.\n",
      "                 Class     Images  Instances      Box(P          R      mAP50  mAP50-95): 100%|██████████| 1/1 [00:00<0"
     ]
    },
    {
     "name": "stdout",
     "output_type": "stream",
     "text": [
      "                   all         22        245       0.34      0.326      0.213     0.0884\n"
     ]
    },
    {
     "name": "stderr",
     "output_type": "stream",
     "text": [
      "\n"
     ]
    },
    {
     "name": "stdout",
     "output_type": "stream",
     "text": [
      "\n",
      "25 epochs completed in 0.087 hours.\n",
      "Optimizer stripped from runs\\detect\\tomatOD_run_effnet2\\weights\\last.pt, 6.2MB\n",
      "Optimizer stripped from runs\\detect\\tomatOD_run_effnet2\\weights\\best.pt, 6.2MB\n",
      "\n",
      "Validating runs\\detect\\tomatOD_run_effnet2\\weights\\best.pt...\n",
      "Ultralytics 8.3.70  Python-3.11.11 torch-2.7.0.dev20250127+cu126 CUDA:0 (NVIDIA GeForce RTX 3050 Laptop GPU, 4096MiB)\n",
      "YOLOv8n summary (fused): 168 layers, 3,006,233 parameters, 0 gradients, 8.1 GFLOPs\n"
     ]
    },
    {
     "name": "stderr",
     "output_type": "stream",
     "text": [
      "                 Class     Images  Instances      Box(P          R      mAP50  mAP50-95): 100%|██████████| 1/1 [00:00<0\n"
     ]
    },
    {
     "name": "stdout",
     "output_type": "stream",
     "text": [
      "                   all         22        245      0.342      0.327      0.213     0.0885\n",
      "                unripe         22        173      0.238     0.0489     0.0445     0.0106\n",
      "             semi-ripe         17         37      0.403      0.475      0.299      0.118\n",
      "            fully-ripe         16         35      0.383      0.457      0.296      0.136\n",
      "Speed: 0.7ms preprocess, 10.8ms inference, 0.0ms loss, 0.7ms postprocess per image\n",
      "Results saved to \u001b[1mruns\\detect\\tomatOD_run_effnet2\u001b[0m\n",
      "WARNING  imgsz=[300] must be multiple of max stride 32, updating to [320]\n",
      "Ultralytics 8.3.70  Python-3.11.11 torch-2.7.0.dev20250127+cu126 CUDA:0 (NVIDIA GeForce RTX 3050 Laptop GPU, 4096MiB)\n",
      "YOLOv8n summary (fused): 168 layers, 3,006,233 parameters, 0 gradients, 8.1 GFLOPs\n"
     ]
    },
    {
     "name": "stderr",
     "output_type": "stream",
     "text": [
      "\u001b[34m\u001b[1mval: \u001b[0mScanning D:\\YOLOV8-tomatod\\tomatOD_yolo\\val\\labels.cache... 22 images, 0 backgrounds, 0 corrupt: 100%|██████████| \u001b[0m"
     ]
    },
    {
     "name": "stdout",
     "output_type": "stream",
     "text": [
      "\u001b[34m\u001b[1mval: \u001b[0mWARNING  D:\\YOLOV8-tomatod\\tomatOD_yolo\\val\\images\\stereo20190405_133623_p2_snap_043.jpg: 1 duplicate labels removed\n",
      "\u001b[34m\u001b[1mval: \u001b[0mWARNING  D:\\YOLOV8-tomatod\\tomatOD_yolo\\val\\images\\stereo20190406_065607_p0_snap_080.jpg: 1 duplicate labels removed\n"
     ]
    },
    {
     "name": "stderr",
     "output_type": "stream",
     "text": [
      "\n",
      "                 Class     Images  Instances      Box(P          R      mAP50  mAP50-95): 100%|██████████| 22/22 [00:00"
     ]
    },
    {
     "name": "stdout",
     "output_type": "stream",
     "text": [
      "                   all         22        245          0          0          0          0\n"
     ]
    },
    {
     "name": "stderr",
     "output_type": "stream",
     "text": [
      "\n"
     ]
    },
    {
     "name": "stdout",
     "output_type": "stream",
     "text": [
      "Speed: 1.6ms preprocess, 14.6ms inference, 0.0ms loss, 0.3ms postprocess per image\n",
      "Results saved to \u001b[1mruns\\detect\\tomatOD_run_effnet_epoch_1_val2\u001b[0m\n",
      "WARNING  imgsz=[300] must be multiple of max stride 32, updating to [320]\n",
      "Ultralytics 8.3.70  Python-3.11.11 torch-2.7.0.dev20250127+cu126 CUDA:0 (NVIDIA GeForce RTX 3050 Laptop GPU, 4096MiB)\n"
     ]
    },
    {
     "name": "stderr",
     "output_type": "stream",
     "text": [
      "\u001b[34m\u001b[1mval: \u001b[0mScanning D:\\YOLOV8-tomatod\\tomatOD_yolo\\test\\labels.cache... 55 images, 0 backgrounds, 0 corrupt: 100%|██████████|\u001b[0m\n",
      "                 Class     Images  Instances      Box(P          R      mAP50  mAP50-95): 100%|██████████| 55/55 [00:02"
     ]
    },
    {
     "name": "stdout",
     "output_type": "stream",
     "text": [
      "                   all         55        468          0          0          0          0\n"
     ]
    },
    {
     "name": "stderr",
     "output_type": "stream",
     "text": [
      "\n"
     ]
    },
    {
     "name": "stdout",
     "output_type": "stream",
     "text": [
      "Speed: 2.8ms preprocess, 15.7ms inference, 0.0ms loss, 0.7ms postprocess per image\n",
      "Results saved to \u001b[1mruns\\detect\\tomatOD_run_effnet_epoch_1_test2\u001b[0m\n",
      "WARNING  imgsz=[300] must be multiple of max stride 32, updating to [320]\n",
      "Ultralytics 8.3.70  Python-3.11.11 torch-2.7.0.dev20250127+cu126 CUDA:0 (NVIDIA GeForce RTX 3050 Laptop GPU, 4096MiB)\n",
      "YOLOv8n summary (fused): 168 layers, 3,006,233 parameters, 0 gradients, 8.1 GFLOPs\n"
     ]
    },
    {
     "name": "stderr",
     "output_type": "stream",
     "text": [
      "\u001b[34m\u001b[1mval: \u001b[0mScanning D:\\YOLOV8-tomatod\\tomatOD_yolo\\val\\labels.cache... 22 images, 0 backgrounds, 0 corrupt: 100%|██████████| \u001b[0m"
     ]
    },
    {
     "name": "stdout",
     "output_type": "stream",
     "text": [
      "\u001b[34m\u001b[1mval: \u001b[0mWARNING  D:\\YOLOV8-tomatod\\tomatOD_yolo\\val\\images\\stereo20190405_133623_p2_snap_043.jpg: 1 duplicate labels removed\n",
      "\u001b[34m\u001b[1mval: \u001b[0mWARNING  D:\\YOLOV8-tomatod\\tomatOD_yolo\\val\\images\\stereo20190406_065607_p0_snap_080.jpg: 1 duplicate labels removed\n"
     ]
    },
    {
     "name": "stderr",
     "output_type": "stream",
     "text": [
      "\n",
      "                 Class     Images  Instances      Box(P          R      mAP50  mAP50-95): 100%|██████████| 22/22 [00:00"
     ]
    },
    {
     "name": "stdout",
     "output_type": "stream",
     "text": [
      "                   all         22        245          0          0          0          0\n"
     ]
    },
    {
     "name": "stderr",
     "output_type": "stream",
     "text": [
      "\n"
     ]
    },
    {
     "name": "stdout",
     "output_type": "stream",
     "text": [
      "Speed: 1.9ms preprocess, 14.8ms inference, 0.0ms loss, 0.8ms postprocess per image\n",
      "Results saved to \u001b[1mruns\\detect\\tomatOD_run_effnet_epoch_2_val2\u001b[0m\n",
      "WARNING  imgsz=[300] must be multiple of max stride 32, updating to [320]\n",
      "Ultralytics 8.3.70  Python-3.11.11 torch-2.7.0.dev20250127+cu126 CUDA:0 (NVIDIA GeForce RTX 3050 Laptop GPU, 4096MiB)\n"
     ]
    },
    {
     "name": "stderr",
     "output_type": "stream",
     "text": [
      "\u001b[34m\u001b[1mval: \u001b[0mScanning D:\\YOLOV8-tomatod\\tomatOD_yolo\\test\\labels.cache... 55 images, 0 backgrounds, 0 corrupt: 100%|██████████|\u001b[0m\n",
      "                 Class     Images  Instances      Box(P          R      mAP50  mAP50-95): 100%|██████████| 55/55 [00:02"
     ]
    },
    {
     "name": "stdout",
     "output_type": "stream",
     "text": [
      "                   all         55        468          0          0          0          0\n"
     ]
    },
    {
     "name": "stderr",
     "output_type": "stream",
     "text": [
      "\n"
     ]
    },
    {
     "name": "stdout",
     "output_type": "stream",
     "text": [
      "Speed: 2.0ms preprocess, 14.4ms inference, 0.0ms loss, 0.8ms postprocess per image\n",
      "Results saved to \u001b[1mruns\\detect\\tomatOD_run_effnet_epoch_2_test2\u001b[0m\n",
      "WARNING  imgsz=[300] must be multiple of max stride 32, updating to [320]\n",
      "Ultralytics 8.3.70  Python-3.11.11 torch-2.7.0.dev20250127+cu126 CUDA:0 (NVIDIA GeForce RTX 3050 Laptop GPU, 4096MiB)\n",
      "YOLOv8n summary (fused): 168 layers, 3,006,233 parameters, 0 gradients, 8.1 GFLOPs\n"
     ]
    },
    {
     "name": "stderr",
     "output_type": "stream",
     "text": [
      "\u001b[34m\u001b[1mval: \u001b[0mScanning D:\\YOLOV8-tomatod\\tomatOD_yolo\\val\\labels.cache... 22 images, 0 backgrounds, 0 corrupt: 100%|██████████| \u001b[0m"
     ]
    },
    {
     "name": "stdout",
     "output_type": "stream",
     "text": [
      "\u001b[34m\u001b[1mval: \u001b[0mWARNING  D:\\YOLOV8-tomatod\\tomatOD_yolo\\val\\images\\stereo20190405_133623_p2_snap_043.jpg: 1 duplicate labels removed\n",
      "\u001b[34m\u001b[1mval: \u001b[0mWARNING  D:\\YOLOV8-tomatod\\tomatOD_yolo\\val\\images\\stereo20190406_065607_p0_snap_080.jpg: 1 duplicate labels removed\n"
     ]
    },
    {
     "name": "stderr",
     "output_type": "stream",
     "text": [
      "\n",
      "                 Class     Images  Instances      Box(P          R      mAP50  mAP50-95): 100%|██████████| 22/22 [00:00"
     ]
    },
    {
     "name": "stdout",
     "output_type": "stream",
     "text": [
      "                   all         22        245          0          0          0          0\n"
     ]
    },
    {
     "name": "stderr",
     "output_type": "stream",
     "text": [
      "\n"
     ]
    },
    {
     "name": "stdout",
     "output_type": "stream",
     "text": [
      "Speed: 1.9ms preprocess, 14.8ms inference, 0.0ms loss, 0.6ms postprocess per image\n",
      "Results saved to \u001b[1mruns\\detect\\tomatOD_run_effnet_epoch_3_val2\u001b[0m\n",
      "WARNING  imgsz=[300] must be multiple of max stride 32, updating to [320]\n",
      "Ultralytics 8.3.70  Python-3.11.11 torch-2.7.0.dev20250127+cu126 CUDA:0 (NVIDIA GeForce RTX 3050 Laptop GPU, 4096MiB)\n"
     ]
    },
    {
     "name": "stderr",
     "output_type": "stream",
     "text": [
      "\u001b[34m\u001b[1mval: \u001b[0mScanning D:\\YOLOV8-tomatod\\tomatOD_yolo\\test\\labels.cache... 55 images, 0 backgrounds, 0 corrupt: 100%|██████████|\u001b[0m\n",
      "                 Class     Images  Instances      Box(P          R      mAP50  mAP50-95): 100%|██████████| 55/55 [00:02"
     ]
    },
    {
     "name": "stdout",
     "output_type": "stream",
     "text": [
      "                   all         55        468          0          0          0          0\n"
     ]
    },
    {
     "name": "stderr",
     "output_type": "stream",
     "text": [
      "\n"
     ]
    },
    {
     "name": "stdout",
     "output_type": "stream",
     "text": [
      "Speed: 1.9ms preprocess, 14.7ms inference, 0.0ms loss, 1.0ms postprocess per image\n",
      "Results saved to \u001b[1mruns\\detect\\tomatOD_run_effnet_epoch_3_test2\u001b[0m\n",
      "WARNING  imgsz=[300] must be multiple of max stride 32, updating to [320]\n",
      "Ultralytics 8.3.70  Python-3.11.11 torch-2.7.0.dev20250127+cu126 CUDA:0 (NVIDIA GeForce RTX 3050 Laptop GPU, 4096MiB)\n",
      "YOLOv8n summary (fused): 168 layers, 3,006,233 parameters, 0 gradients, 8.1 GFLOPs\n"
     ]
    },
    {
     "name": "stderr",
     "output_type": "stream",
     "text": [
      "\u001b[34m\u001b[1mval: \u001b[0mScanning D:\\YOLOV8-tomatod\\tomatOD_yolo\\val\\labels.cache... 22 images, 0 backgrounds, 0 corrupt: 100%|██████████| \u001b[0m"
     ]
    },
    {
     "name": "stdout",
     "output_type": "stream",
     "text": [
      "\u001b[34m\u001b[1mval: \u001b[0mWARNING  D:\\YOLOV8-tomatod\\tomatOD_yolo\\val\\images\\stereo20190405_133623_p2_snap_043.jpg: 1 duplicate labels removed\n",
      "\u001b[34m\u001b[1mval: \u001b[0mWARNING  D:\\YOLOV8-tomatod\\tomatOD_yolo\\val\\images\\stereo20190406_065607_p0_snap_080.jpg: 1 duplicate labels removed\n"
     ]
    },
    {
     "name": "stderr",
     "output_type": "stream",
     "text": [
      "\n",
      "                 Class     Images  Instances      Box(P          R      mAP50  mAP50-95): 100%|██████████| 22/22 [00:00"
     ]
    },
    {
     "name": "stdout",
     "output_type": "stream",
     "text": [
      "                   all         22        245          0          0          0          0\n"
     ]
    },
    {
     "name": "stderr",
     "output_type": "stream",
     "text": [
      "\n"
     ]
    },
    {
     "name": "stdout",
     "output_type": "stream",
     "text": [
      "Speed: 2.3ms preprocess, 14.6ms inference, 0.0ms loss, 0.7ms postprocess per image\n",
      "Results saved to \u001b[1mruns\\detect\\tomatOD_run_effnet_epoch_4_val2\u001b[0m\n",
      "WARNING  imgsz=[300] must be multiple of max stride 32, updating to [320]\n",
      "Ultralytics 8.3.70  Python-3.11.11 torch-2.7.0.dev20250127+cu126 CUDA:0 (NVIDIA GeForce RTX 3050 Laptop GPU, 4096MiB)\n"
     ]
    },
    {
     "name": "stderr",
     "output_type": "stream",
     "text": [
      "\u001b[34m\u001b[1mval: \u001b[0mScanning D:\\YOLOV8-tomatod\\tomatOD_yolo\\test\\labels.cache... 55 images, 0 backgrounds, 0 corrupt: 100%|██████████|\u001b[0m\n",
      "                 Class     Images  Instances      Box(P          R      mAP50  mAP50-95): 100%|██████████| 55/55 [00:02"
     ]
    },
    {
     "name": "stdout",
     "output_type": "stream",
     "text": [
      "                   all         55        468          0          0          0          0\n"
     ]
    },
    {
     "name": "stderr",
     "output_type": "stream",
     "text": [
      "\n"
     ]
    },
    {
     "name": "stdout",
     "output_type": "stream",
     "text": [
      "Speed: 2.9ms preprocess, 13.2ms inference, 0.0ms loss, 0.5ms postprocess per image\n",
      "Results saved to \u001b[1mruns\\detect\\tomatOD_run_effnet_epoch_4_test2\u001b[0m\n",
      "WARNING  imgsz=[300] must be multiple of max stride 32, updating to [320]\n",
      "Ultralytics 8.3.70  Python-3.11.11 torch-2.7.0.dev20250127+cu126 CUDA:0 (NVIDIA GeForce RTX 3050 Laptop GPU, 4096MiB)\n",
      "YOLOv8n summary (fused): 168 layers, 3,006,233 parameters, 0 gradients, 8.1 GFLOPs\n"
     ]
    },
    {
     "name": "stderr",
     "output_type": "stream",
     "text": [
      "\u001b[34m\u001b[1mval: \u001b[0mScanning D:\\YOLOV8-tomatod\\tomatOD_yolo\\val\\labels.cache... 22 images, 0 backgrounds, 0 corrupt: 100%|██████████| \u001b[0m"
     ]
    },
    {
     "name": "stdout",
     "output_type": "stream",
     "text": [
      "\u001b[34m\u001b[1mval: \u001b[0mWARNING  D:\\YOLOV8-tomatod\\tomatOD_yolo\\val\\images\\stereo20190405_133623_p2_snap_043.jpg: 1 duplicate labels removed\n",
      "\u001b[34m\u001b[1mval: \u001b[0mWARNING  D:\\YOLOV8-tomatod\\tomatOD_yolo\\val\\images\\stereo20190406_065607_p0_snap_080.jpg: 1 duplicate labels removed\n"
     ]
    },
    {
     "name": "stderr",
     "output_type": "stream",
     "text": [
      "\n",
      "                 Class     Images  Instances      Box(P          R      mAP50  mAP50-95): 100%|██████████| 22/22 [00:01"
     ]
    },
    {
     "name": "stdout",
     "output_type": "stream",
     "text": [
      "                   all         22        245          0          0          0          0\n"
     ]
    },
    {
     "name": "stderr",
     "output_type": "stream",
     "text": [
      "\n"
     ]
    },
    {
     "name": "stdout",
     "output_type": "stream",
     "text": [
      "Speed: 1.7ms preprocess, 14.9ms inference, 0.0ms loss, 0.3ms postprocess per image\n",
      "Results saved to \u001b[1mruns\\detect\\tomatOD_run_effnet_epoch_5_val2\u001b[0m\n",
      "WARNING  imgsz=[300] must be multiple of max stride 32, updating to [320]\n",
      "Ultralytics 8.3.70  Python-3.11.11 torch-2.7.0.dev20250127+cu126 CUDA:0 (NVIDIA GeForce RTX 3050 Laptop GPU, 4096MiB)\n"
     ]
    },
    {
     "name": "stderr",
     "output_type": "stream",
     "text": [
      "\u001b[34m\u001b[1mval: \u001b[0mScanning D:\\YOLOV8-tomatod\\tomatOD_yolo\\test\\labels.cache... 55 images, 0 backgrounds, 0 corrupt: 100%|██████████|\u001b[0m\n",
      "                 Class     Images  Instances      Box(P          R      mAP50  mAP50-95): 100%|██████████| 55/55 [00:02"
     ]
    },
    {
     "name": "stdout",
     "output_type": "stream",
     "text": [
      "                   all         55        468          0          0          0          0\n"
     ]
    },
    {
     "name": "stderr",
     "output_type": "stream",
     "text": [
      "\n"
     ]
    },
    {
     "name": "stdout",
     "output_type": "stream",
     "text": [
      "Speed: 1.5ms preprocess, 15.1ms inference, 0.0ms loss, 0.5ms postprocess per image\n",
      "Results saved to \u001b[1mruns\\detect\\tomatOD_run_effnet_epoch_5_test2\u001b[0m\n",
      "WARNING  imgsz=[300] must be multiple of max stride 32, updating to [320]\n",
      "Ultralytics 8.3.70  Python-3.11.11 torch-2.7.0.dev20250127+cu126 CUDA:0 (NVIDIA GeForce RTX 3050 Laptop GPU, 4096MiB)\n",
      "YOLOv8n summary (fused): 168 layers, 3,006,233 parameters, 0 gradients, 8.1 GFLOPs\n"
     ]
    },
    {
     "name": "stderr",
     "output_type": "stream",
     "text": [
      "\u001b[34m\u001b[1mval: \u001b[0mScanning D:\\YOLOV8-tomatod\\tomatOD_yolo\\val\\labels.cache... 22 images, 0 backgrounds, 0 corrupt: 100%|██████████| \u001b[0m"
     ]
    },
    {
     "name": "stdout",
     "output_type": "stream",
     "text": [
      "\u001b[34m\u001b[1mval: \u001b[0mWARNING  D:\\YOLOV8-tomatod\\tomatOD_yolo\\val\\images\\stereo20190405_133623_p2_snap_043.jpg: 1 duplicate labels removed\n",
      "\u001b[34m\u001b[1mval: \u001b[0mWARNING  D:\\YOLOV8-tomatod\\tomatOD_yolo\\val\\images\\stereo20190406_065607_p0_snap_080.jpg: 1 duplicate labels removed\n"
     ]
    },
    {
     "name": "stderr",
     "output_type": "stream",
     "text": [
      "\n",
      "                 Class     Images  Instances      Box(P          R      mAP50  mAP50-95): 100%|██████████| 22/22 [00:00"
     ]
    },
    {
     "name": "stdout",
     "output_type": "stream",
     "text": [
      "                   all         22        245          0          0          0          0\n"
     ]
    },
    {
     "name": "stderr",
     "output_type": "stream",
     "text": [
      "\n"
     ]
    },
    {
     "name": "stdout",
     "output_type": "stream",
     "text": [
      "Speed: 2.4ms preprocess, 16.2ms inference, 0.0ms loss, 0.8ms postprocess per image\n",
      "Results saved to \u001b[1mruns\\detect\\tomatOD_run_effnet_epoch_6_val2\u001b[0m\n",
      "WARNING  imgsz=[300] must be multiple of max stride 32, updating to [320]\n",
      "Ultralytics 8.3.70  Python-3.11.11 torch-2.7.0.dev20250127+cu126 CUDA:0 (NVIDIA GeForce RTX 3050 Laptop GPU, 4096MiB)\n"
     ]
    },
    {
     "name": "stderr",
     "output_type": "stream",
     "text": [
      "\u001b[34m\u001b[1mval: \u001b[0mScanning D:\\YOLOV8-tomatod\\tomatOD_yolo\\test\\labels.cache... 55 images, 0 backgrounds, 0 corrupt: 100%|██████████|\u001b[0m\n",
      "                 Class     Images  Instances      Box(P          R      mAP50  mAP50-95): 100%|██████████| 55/55 [00:02"
     ]
    },
    {
     "name": "stdout",
     "output_type": "stream",
     "text": [
      "                   all         55        468          0          0          0          0\n"
     ]
    },
    {
     "name": "stderr",
     "output_type": "stream",
     "text": [
      "\n"
     ]
    },
    {
     "name": "stdout",
     "output_type": "stream",
     "text": [
      "Speed: 2.1ms preprocess, 14.5ms inference, 0.0ms loss, 1.0ms postprocess per image\n",
      "Results saved to \u001b[1mruns\\detect\\tomatOD_run_effnet_epoch_6_test2\u001b[0m\n",
      "WARNING  imgsz=[300] must be multiple of max stride 32, updating to [320]\n",
      "Ultralytics 8.3.70  Python-3.11.11 torch-2.7.0.dev20250127+cu126 CUDA:0 (NVIDIA GeForce RTX 3050 Laptop GPU, 4096MiB)\n",
      "YOLOv8n summary (fused): 168 layers, 3,006,233 parameters, 0 gradients, 8.1 GFLOPs\n"
     ]
    },
    {
     "name": "stderr",
     "output_type": "stream",
     "text": [
      "\u001b[34m\u001b[1mval: \u001b[0mScanning D:\\YOLOV8-tomatod\\tomatOD_yolo\\val\\labels.cache... 22 images, 0 backgrounds, 0 corrupt: 100%|██████████| \u001b[0m"
     ]
    },
    {
     "name": "stdout",
     "output_type": "stream",
     "text": [
      "\u001b[34m\u001b[1mval: \u001b[0mWARNING  D:\\YOLOV8-tomatod\\tomatOD_yolo\\val\\images\\stereo20190405_133623_p2_snap_043.jpg: 1 duplicate labels removed\n",
      "\u001b[34m\u001b[1mval: \u001b[0mWARNING  D:\\YOLOV8-tomatod\\tomatOD_yolo\\val\\images\\stereo20190406_065607_p0_snap_080.jpg: 1 duplicate labels removed\n"
     ]
    },
    {
     "name": "stderr",
     "output_type": "stream",
     "text": [
      "\n",
      "                 Class     Images  Instances      Box(P          R      mAP50  mAP50-95): 100%|██████████| 22/22 [00:00"
     ]
    },
    {
     "name": "stdout",
     "output_type": "stream",
     "text": [
      "                   all         22        245          0          0          0          0\n"
     ]
    },
    {
     "name": "stderr",
     "output_type": "stream",
     "text": [
      "\n"
     ]
    },
    {
     "name": "stdout",
     "output_type": "stream",
     "text": [
      "Speed: 1.5ms preprocess, 13.0ms inference, 0.0ms loss, 0.6ms postprocess per image\n",
      "Results saved to \u001b[1mruns\\detect\\tomatOD_run_effnet_epoch_7_val2\u001b[0m\n",
      "WARNING  imgsz=[300] must be multiple of max stride 32, updating to [320]\n",
      "Ultralytics 8.3.70  Python-3.11.11 torch-2.7.0.dev20250127+cu126 CUDA:0 (NVIDIA GeForce RTX 3050 Laptop GPU, 4096MiB)\n"
     ]
    },
    {
     "name": "stderr",
     "output_type": "stream",
     "text": [
      "\u001b[34m\u001b[1mval: \u001b[0mScanning D:\\YOLOV8-tomatod\\tomatOD_yolo\\test\\labels.cache... 55 images, 0 backgrounds, 0 corrupt: 100%|██████████|\u001b[0m\n",
      "                 Class     Images  Instances      Box(P          R      mAP50  mAP50-95): 100%|██████████| 55/55 [00:02"
     ]
    },
    {
     "name": "stdout",
     "output_type": "stream",
     "text": [
      "                   all         55        468          0          0          0          0\n"
     ]
    },
    {
     "name": "stderr",
     "output_type": "stream",
     "text": [
      "\n"
     ]
    },
    {
     "name": "stdout",
     "output_type": "stream",
     "text": [
      "Speed: 1.6ms preprocess, 15.5ms inference, 0.0ms loss, 0.7ms postprocess per image\n",
      "Results saved to \u001b[1mruns\\detect\\tomatOD_run_effnet_epoch_7_test2\u001b[0m\n",
      "WARNING  imgsz=[300] must be multiple of max stride 32, updating to [320]\n",
      "Ultralytics 8.3.70  Python-3.11.11 torch-2.7.0.dev20250127+cu126 CUDA:0 (NVIDIA GeForce RTX 3050 Laptop GPU, 4096MiB)\n",
      "YOLOv8n summary (fused): 168 layers, 3,006,233 parameters, 0 gradients, 8.1 GFLOPs\n"
     ]
    },
    {
     "name": "stderr",
     "output_type": "stream",
     "text": [
      "\u001b[34m\u001b[1mval: \u001b[0mScanning D:\\YOLOV8-tomatod\\tomatOD_yolo\\val\\labels.cache... 22 images, 0 backgrounds, 0 corrupt: 100%|██████████| \u001b[0m"
     ]
    },
    {
     "name": "stdout",
     "output_type": "stream",
     "text": [
      "\u001b[34m\u001b[1mval: \u001b[0mWARNING  D:\\YOLOV8-tomatod\\tomatOD_yolo\\val\\images\\stereo20190405_133623_p2_snap_043.jpg: 1 duplicate labels removed\n",
      "\u001b[34m\u001b[1mval: \u001b[0mWARNING  D:\\YOLOV8-tomatod\\tomatOD_yolo\\val\\images\\stereo20190406_065607_p0_snap_080.jpg: 1 duplicate labels removed\n"
     ]
    },
    {
     "name": "stderr",
     "output_type": "stream",
     "text": [
      "\n",
      "                 Class     Images  Instances      Box(P          R      mAP50  mAP50-95): 100%|██████████| 22/22 [00:00"
     ]
    },
    {
     "name": "stdout",
     "output_type": "stream",
     "text": [
      "                   all         22        245          0          0          0          0\n"
     ]
    },
    {
     "name": "stderr",
     "output_type": "stream",
     "text": [
      "\n"
     ]
    },
    {
     "name": "stdout",
     "output_type": "stream",
     "text": [
      "Speed: 2.3ms preprocess, 14.0ms inference, 0.0ms loss, 0.4ms postprocess per image\n",
      "Results saved to \u001b[1mruns\\detect\\tomatOD_run_effnet_epoch_8_val2\u001b[0m\n",
      "WARNING  imgsz=[300] must be multiple of max stride 32, updating to [320]\n",
      "Ultralytics 8.3.70  Python-3.11.11 torch-2.7.0.dev20250127+cu126 CUDA:0 (NVIDIA GeForce RTX 3050 Laptop GPU, 4096MiB)\n"
     ]
    },
    {
     "name": "stderr",
     "output_type": "stream",
     "text": [
      "\u001b[34m\u001b[1mval: \u001b[0mScanning D:\\YOLOV8-tomatod\\tomatOD_yolo\\test\\labels.cache... 55 images, 0 backgrounds, 0 corrupt: 100%|██████████|\u001b[0m\n",
      "                 Class     Images  Instances      Box(P          R      mAP50  mAP50-95): 100%|██████████| 55/55 [00:02"
     ]
    },
    {
     "name": "stdout",
     "output_type": "stream",
     "text": [
      "                   all         55        468          0          0          0          0\n"
     ]
    },
    {
     "name": "stderr",
     "output_type": "stream",
     "text": [
      "\n"
     ]
    },
    {
     "name": "stdout",
     "output_type": "stream",
     "text": [
      "Speed: 2.6ms preprocess, 13.5ms inference, 0.0ms loss, 0.4ms postprocess per image\n",
      "Results saved to \u001b[1mruns\\detect\\tomatOD_run_effnet_epoch_8_test2\u001b[0m\n",
      "WARNING  imgsz=[300] must be multiple of max stride 32, updating to [320]\n",
      "Ultralytics 8.3.70  Python-3.11.11 torch-2.7.0.dev20250127+cu126 CUDA:0 (NVIDIA GeForce RTX 3050 Laptop GPU, 4096MiB)\n",
      "YOLOv8n summary (fused): 168 layers, 3,006,233 parameters, 0 gradients, 8.1 GFLOPs\n"
     ]
    },
    {
     "name": "stderr",
     "output_type": "stream",
     "text": [
      "\u001b[34m\u001b[1mval: \u001b[0mScanning D:\\YOLOV8-tomatod\\tomatOD_yolo\\val\\labels.cache... 22 images, 0 backgrounds, 0 corrupt: 100%|██████████| \u001b[0m"
     ]
    },
    {
     "name": "stdout",
     "output_type": "stream",
     "text": [
      "\u001b[34m\u001b[1mval: \u001b[0mWARNING  D:\\YOLOV8-tomatod\\tomatOD_yolo\\val\\images\\stereo20190405_133623_p2_snap_043.jpg: 1 duplicate labels removed\n",
      "\u001b[34m\u001b[1mval: \u001b[0mWARNING  D:\\YOLOV8-tomatod\\tomatOD_yolo\\val\\images\\stereo20190406_065607_p0_snap_080.jpg: 1 duplicate labels removed\n"
     ]
    },
    {
     "name": "stderr",
     "output_type": "stream",
     "text": [
      "\n",
      "                 Class     Images  Instances      Box(P          R      mAP50  mAP50-95): 100%|██████████| 22/22 [00:00"
     ]
    },
    {
     "name": "stdout",
     "output_type": "stream",
     "text": [
      "                   all         22        245          0          0          0          0\n"
     ]
    },
    {
     "name": "stderr",
     "output_type": "stream",
     "text": [
      "\n"
     ]
    },
    {
     "name": "stdout",
     "output_type": "stream",
     "text": [
      "Speed: 2.3ms preprocess, 16.6ms inference, 0.0ms loss, 0.2ms postprocess per image\n",
      "Results saved to \u001b[1mruns\\detect\\tomatOD_run_effnet_epoch_9_val2\u001b[0m\n",
      "WARNING  imgsz=[300] must be multiple of max stride 32, updating to [320]\n",
      "Ultralytics 8.3.70  Python-3.11.11 torch-2.7.0.dev20250127+cu126 CUDA:0 (NVIDIA GeForce RTX 3050 Laptop GPU, 4096MiB)\n"
     ]
    },
    {
     "name": "stderr",
     "output_type": "stream",
     "text": [
      "\u001b[34m\u001b[1mval: \u001b[0mScanning D:\\YOLOV8-tomatod\\tomatOD_yolo\\test\\labels.cache... 55 images, 0 backgrounds, 0 corrupt: 100%|██████████|\u001b[0m\n",
      "                 Class     Images  Instances      Box(P          R      mAP50  mAP50-95): 100%|██████████| 55/55 [00:02"
     ]
    },
    {
     "name": "stdout",
     "output_type": "stream",
     "text": [
      "                   all         55        468          0          0          0          0\n"
     ]
    },
    {
     "name": "stderr",
     "output_type": "stream",
     "text": [
      "\n"
     ]
    },
    {
     "name": "stdout",
     "output_type": "stream",
     "text": [
      "Speed: 1.9ms preprocess, 12.9ms inference, 0.0ms loss, 0.8ms postprocess per image\n",
      "Results saved to \u001b[1mruns\\detect\\tomatOD_run_effnet_epoch_9_test2\u001b[0m\n",
      "WARNING  imgsz=[300] must be multiple of max stride 32, updating to [320]\n",
      "Ultralytics 8.3.70  Python-3.11.11 torch-2.7.0.dev20250127+cu126 CUDA:0 (NVIDIA GeForce RTX 3050 Laptop GPU, 4096MiB)\n",
      "YOLOv8n summary (fused): 168 layers, 3,006,233 parameters, 0 gradients, 8.1 GFLOPs\n"
     ]
    },
    {
     "name": "stderr",
     "output_type": "stream",
     "text": [
      "\u001b[34m\u001b[1mval: \u001b[0mScanning D:\\YOLOV8-tomatod\\tomatOD_yolo\\val\\labels.cache... 22 images, 0 backgrounds, 0 corrupt: 100%|██████████| \u001b[0m"
     ]
    },
    {
     "name": "stdout",
     "output_type": "stream",
     "text": [
      "\u001b[34m\u001b[1mval: \u001b[0mWARNING  D:\\YOLOV8-tomatod\\tomatOD_yolo\\val\\images\\stereo20190405_133623_p2_snap_043.jpg: 1 duplicate labels removed\n",
      "\u001b[34m\u001b[1mval: \u001b[0mWARNING  D:\\YOLOV8-tomatod\\tomatOD_yolo\\val\\images\\stereo20190406_065607_p0_snap_080.jpg: 1 duplicate labels removed\n"
     ]
    },
    {
     "name": "stderr",
     "output_type": "stream",
     "text": [
      "\n",
      "                 Class     Images  Instances      Box(P          R      mAP50  mAP50-95): 100%|██████████| 22/22 [00:00"
     ]
    },
    {
     "name": "stdout",
     "output_type": "stream",
     "text": [
      "                   all         22        245          0          0          0          0\n"
     ]
    },
    {
     "name": "stderr",
     "output_type": "stream",
     "text": [
      "\n"
     ]
    },
    {
     "name": "stdout",
     "output_type": "stream",
     "text": [
      "Speed: 1.8ms preprocess, 13.0ms inference, 0.0ms loss, 0.2ms postprocess per image\n",
      "Saving runs\\detect\\tomatOD_run_effnet_epoch_10_val2\\predictions.json...\n",
      "Results saved to \u001b[1mruns\\detect\\tomatOD_run_effnet_epoch_10_val2\u001b[0m\n",
      "WARNING  imgsz=[300] must be multiple of max stride 32, updating to [320]\n",
      "Ultralytics 8.3.70  Python-3.11.11 torch-2.7.0.dev20250127+cu126 CUDA:0 (NVIDIA GeForce RTX 3050 Laptop GPU, 4096MiB)\n"
     ]
    },
    {
     "name": "stderr",
     "output_type": "stream",
     "text": [
      "\u001b[34m\u001b[1mval: \u001b[0mScanning D:\\YOLOV8-tomatod\\tomatOD_yolo\\test\\labels.cache... 55 images, 0 backgrounds, 0 corrupt: 100%|██████████|\u001b[0m\n",
      "                 Class     Images  Instances      Box(P          R      mAP50  mAP50-95): 100%|██████████| 55/55 [00:02"
     ]
    },
    {
     "name": "stdout",
     "output_type": "stream",
     "text": [
      "                   all         55        468          0          0          0          0\n"
     ]
    },
    {
     "name": "stderr",
     "output_type": "stream",
     "text": [
      "\n"
     ]
    },
    {
     "name": "stdout",
     "output_type": "stream",
     "text": [
      "Speed: 1.2ms preprocess, 13.8ms inference, 0.0ms loss, 0.4ms postprocess per image\n",
      "Saving runs\\detect\\tomatOD_run_effnet_epoch_10_test2\\predictions.json...\n",
      "Results saved to \u001b[1mruns\\detect\\tomatOD_run_effnet_epoch_10_test2\u001b[0m\n",
      "WARNING  imgsz=[300] must be multiple of max stride 32, updating to [320]\n",
      "Ultralytics 8.3.70  Python-3.11.11 torch-2.7.0.dev20250127+cu126 CUDA:0 (NVIDIA GeForce RTX 3050 Laptop GPU, 4096MiB)\n",
      "YOLOv8n summary (fused): 168 layers, 3,006,233 parameters, 0 gradients, 8.1 GFLOPs\n"
     ]
    },
    {
     "name": "stderr",
     "output_type": "stream",
     "text": [
      "\u001b[34m\u001b[1mval: \u001b[0mScanning D:\\YOLOV8-tomatod\\tomatOD_yolo\\val\\labels.cache... 22 images, 0 backgrounds, 0 corrupt: 100%|██████████| \u001b[0m"
     ]
    },
    {
     "name": "stdout",
     "output_type": "stream",
     "text": [
      "\u001b[34m\u001b[1mval: \u001b[0mWARNING  D:\\YOLOV8-tomatod\\tomatOD_yolo\\val\\images\\stereo20190405_133623_p2_snap_043.jpg: 1 duplicate labels removed\n",
      "\u001b[34m\u001b[1mval: \u001b[0mWARNING  D:\\YOLOV8-tomatod\\tomatOD_yolo\\val\\images\\stereo20190406_065607_p0_snap_080.jpg: 1 duplicate labels removed\n"
     ]
    },
    {
     "name": "stderr",
     "output_type": "stream",
     "text": [
      "\n",
      "                 Class     Images  Instances      Box(P          R      mAP50  mAP50-95): 100%|██████████| 22/22 [00:01"
     ]
    },
    {
     "name": "stdout",
     "output_type": "stream",
     "text": [
      "                   all         22        245          0          0          0          0\n"
     ]
    },
    {
     "name": "stderr",
     "output_type": "stream",
     "text": [
      "\n"
     ]
    },
    {
     "name": "stdout",
     "output_type": "stream",
     "text": [
      "Speed: 1.5ms preprocess, 16.7ms inference, 0.0ms loss, 1.2ms postprocess per image\n",
      "Saving runs\\detect\\tomatOD_run_effnet_epoch_11_val2\\predictions.json...\n",
      "Results saved to \u001b[1mruns\\detect\\tomatOD_run_effnet_epoch_11_val2\u001b[0m\n",
      "WARNING  imgsz=[300] must be multiple of max stride 32, updating to [320]\n",
      "Ultralytics 8.3.70  Python-3.11.11 torch-2.7.0.dev20250127+cu126 CUDA:0 (NVIDIA GeForce RTX 3050 Laptop GPU, 4096MiB)\n"
     ]
    },
    {
     "name": "stderr",
     "output_type": "stream",
     "text": [
      "\u001b[34m\u001b[1mval: \u001b[0mScanning D:\\YOLOV8-tomatod\\tomatOD_yolo\\test\\labels.cache... 55 images, 0 backgrounds, 0 corrupt: 100%|██████████|\u001b[0m\n",
      "                 Class     Images  Instances      Box(P          R      mAP50  mAP50-95): 100%|██████████| 55/55 [00:02\n"
     ]
    },
    {
     "name": "stdout",
     "output_type": "stream",
     "text": [
      "                   all         55        468    0.00179    0.00457   0.000958   0.000168\n",
      "                unripe         55        292    0.00537     0.0137    0.00287   0.000504\n",
      "             semi-ripe         37         77          0          0          0          0\n",
      "            fully-ripe         48         99          0          0          0          0\n",
      "Speed: 2.2ms preprocess, 13.7ms inference, 0.0ms loss, 1.2ms postprocess per image\n",
      "Saving runs\\detect\\tomatOD_run_effnet_epoch_11_test2\\predictions.json...\n",
      "Results saved to \u001b[1mruns\\detect\\tomatOD_run_effnet_epoch_11_test2\u001b[0m\n",
      "WARNING  imgsz=[300] must be multiple of max stride 32, updating to [320]\n",
      "Ultralytics 8.3.70  Python-3.11.11 torch-2.7.0.dev20250127+cu126 CUDA:0 (NVIDIA GeForce RTX 3050 Laptop GPU, 4096MiB)\n",
      "YOLOv8n summary (fused): 168 layers, 3,006,233 parameters, 0 gradients, 8.1 GFLOPs\n"
     ]
    },
    {
     "name": "stderr",
     "output_type": "stream",
     "text": [
      "\u001b[34m\u001b[1mval: \u001b[0mScanning D:\\YOLOV8-tomatod\\tomatOD_yolo\\val\\labels.cache... 22 images, 0 backgrounds, 0 corrupt: 100%|██████████| \u001b[0m"
     ]
    },
    {
     "name": "stdout",
     "output_type": "stream",
     "text": [
      "\u001b[34m\u001b[1mval: \u001b[0mWARNING  D:\\YOLOV8-tomatod\\tomatOD_yolo\\val\\images\\stereo20190405_133623_p2_snap_043.jpg: 1 duplicate labels removed\n",
      "\u001b[34m\u001b[1mval: \u001b[0mWARNING  D:\\YOLOV8-tomatod\\tomatOD_yolo\\val\\images\\stereo20190406_065607_p0_snap_080.jpg: 1 duplicate labels removed\n"
     ]
    },
    {
     "name": "stderr",
     "output_type": "stream",
     "text": [
      "\n",
      "                 Class     Images  Instances      Box(P          R      mAP50  mAP50-95): 100%|██████████| 22/22 [00:01\n"
     ]
    },
    {
     "name": "stdout",
     "output_type": "stream",
     "text": [
      "                   all         22        245    0.00208    0.00385     0.0011   0.000484\n",
      "                unripe         22        173    0.00623     0.0116    0.00329    0.00145\n",
      "             semi-ripe         17         37          0          0          0          0\n",
      "            fully-ripe         16         35          0          0          0          0\n",
      "Speed: 1.9ms preprocess, 14.5ms inference, 0.0ms loss, 1.4ms postprocess per image\n",
      "Saving runs\\detect\\tomatOD_run_effnet_epoch_12_val2\\predictions.json...\n",
      "Results saved to \u001b[1mruns\\detect\\tomatOD_run_effnet_epoch_12_val2\u001b[0m\n",
      "WARNING  imgsz=[300] must be multiple of max stride 32, updating to [320]\n",
      "Ultralytics 8.3.70  Python-3.11.11 torch-2.7.0.dev20250127+cu126 CUDA:0 (NVIDIA GeForce RTX 3050 Laptop GPU, 4096MiB)\n"
     ]
    },
    {
     "name": "stderr",
     "output_type": "stream",
     "text": [
      "\u001b[34m\u001b[1mval: \u001b[0mScanning D:\\YOLOV8-tomatod\\tomatOD_yolo\\test\\labels.cache... 55 images, 0 backgrounds, 0 corrupt: 100%|██████████|\u001b[0m\n",
      "                 Class     Images  Instances      Box(P          R      mAP50  mAP50-95): 100%|██████████| 55/55 [00:02\n"
     ]
    },
    {
     "name": "stdout",
     "output_type": "stream",
     "text": [
      "                   all         55        468    0.00165    0.00571   0.000987   0.000338\n",
      "                unripe         55        292    0.00495     0.0171    0.00296    0.00101\n",
      "             semi-ripe         37         77          0          0          0          0\n",
      "            fully-ripe         48         99          0          0          0          0\n",
      "Speed: 1.4ms preprocess, 16.6ms inference, 0.0ms loss, 0.9ms postprocess per image\n",
      "Saving runs\\detect\\tomatOD_run_effnet_epoch_12_test2\\predictions.json...\n",
      "Results saved to \u001b[1mruns\\detect\\tomatOD_run_effnet_epoch_12_test2\u001b[0m\n",
      "WARNING  imgsz=[300] must be multiple of max stride 32, updating to [320]\n",
      "Ultralytics 8.3.70  Python-3.11.11 torch-2.7.0.dev20250127+cu126 CUDA:0 (NVIDIA GeForce RTX 3050 Laptop GPU, 4096MiB)\n",
      "YOLOv8n summary (fused): 168 layers, 3,006,233 parameters, 0 gradients, 8.1 GFLOPs\n"
     ]
    },
    {
     "name": "stderr",
     "output_type": "stream",
     "text": [
      "\u001b[34m\u001b[1mval: \u001b[0mScanning D:\\YOLOV8-tomatod\\tomatOD_yolo\\val\\labels.cache... 22 images, 0 backgrounds, 0 corrupt: 100%|██████████| \u001b[0m"
     ]
    },
    {
     "name": "stdout",
     "output_type": "stream",
     "text": [
      "\u001b[34m\u001b[1mval: \u001b[0mWARNING  D:\\YOLOV8-tomatod\\tomatOD_yolo\\val\\images\\stereo20190405_133623_p2_snap_043.jpg: 1 duplicate labels removed\n",
      "\u001b[34m\u001b[1mval: \u001b[0mWARNING  D:\\YOLOV8-tomatod\\tomatOD_yolo\\val\\images\\stereo20190406_065607_p0_snap_080.jpg: 1 duplicate labels removed\n"
     ]
    },
    {
     "name": "stderr",
     "output_type": "stream",
     "text": [
      "\n",
      "                 Class     Images  Instances      Box(P          R      mAP50  mAP50-95): 100%|██████████| 22/22 [00:01"
     ]
    },
    {
     "name": "stdout",
     "output_type": "stream",
     "text": [
      "                   all         22        245          0          0          0          0\n"
     ]
    },
    {
     "name": "stderr",
     "output_type": "stream",
     "text": [
      "\n"
     ]
    },
    {
     "name": "stdout",
     "output_type": "stream",
     "text": [
      "Speed: 1.8ms preprocess, 18.1ms inference, 0.0ms loss, 1.0ms postprocess per image\n",
      "Saving runs\\detect\\tomatOD_run_effnet_epoch_13_val2\\predictions.json...\n",
      "Results saved to \u001b[1mruns\\detect\\tomatOD_run_effnet_epoch_13_val2\u001b[0m\n",
      "WARNING  imgsz=[300] must be multiple of max stride 32, updating to [320]\n",
      "Ultralytics 8.3.70  Python-3.11.11 torch-2.7.0.dev20250127+cu126 CUDA:0 (NVIDIA GeForce RTX 3050 Laptop GPU, 4096MiB)\n"
     ]
    },
    {
     "name": "stderr",
     "output_type": "stream",
     "text": [
      "\u001b[34m\u001b[1mval: \u001b[0mScanning D:\\YOLOV8-tomatod\\tomatOD_yolo\\test\\labels.cache... 55 images, 0 backgrounds, 0 corrupt: 100%|██████████|\u001b[0m\n",
      "                 Class     Images  Instances      Box(P          R      mAP50  mAP50-95): 100%|██████████| 55/55 [00:02"
     ]
    },
    {
     "name": "stdout",
     "output_type": "stream",
     "text": [
      "                   all         55        468          0          0          0          0\n"
     ]
    },
    {
     "name": "stderr",
     "output_type": "stream",
     "text": [
      "\n"
     ]
    },
    {
     "name": "stdout",
     "output_type": "stream",
     "text": [
      "Speed: 2.1ms preprocess, 14.6ms inference, 0.0ms loss, 1.2ms postprocess per image\n",
      "Saving runs\\detect\\tomatOD_run_effnet_epoch_13_test2\\predictions.json...\n",
      "Results saved to \u001b[1mruns\\detect\\tomatOD_run_effnet_epoch_13_test2\u001b[0m\n",
      "WARNING  imgsz=[300] must be multiple of max stride 32, updating to [320]\n",
      "Ultralytics 8.3.70  Python-3.11.11 torch-2.7.0.dev20250127+cu126 CUDA:0 (NVIDIA GeForce RTX 3050 Laptop GPU, 4096MiB)\n",
      "YOLOv8n summary (fused): 168 layers, 3,006,233 parameters, 0 gradients, 8.1 GFLOPs\n"
     ]
    },
    {
     "name": "stderr",
     "output_type": "stream",
     "text": [
      "\u001b[34m\u001b[1mval: \u001b[0mScanning D:\\YOLOV8-tomatod\\tomatOD_yolo\\val\\labels.cache... 22 images, 0 backgrounds, 0 corrupt: 100%|██████████| \u001b[0m"
     ]
    },
    {
     "name": "stdout",
     "output_type": "stream",
     "text": [
      "\u001b[34m\u001b[1mval: \u001b[0mWARNING  D:\\YOLOV8-tomatod\\tomatOD_yolo\\val\\images\\stereo20190405_133623_p2_snap_043.jpg: 1 duplicate labels removed\n",
      "\u001b[34m\u001b[1mval: \u001b[0mWARNING  D:\\YOLOV8-tomatod\\tomatOD_yolo\\val\\images\\stereo20190406_065607_p0_snap_080.jpg: 1 duplicate labels removed\n"
     ]
    },
    {
     "name": "stderr",
     "output_type": "stream",
     "text": [
      "\n",
      "                 Class     Images  Instances      Box(P          R      mAP50  mAP50-95): 100%|██████████| 22/22 [00:00"
     ]
    },
    {
     "name": "stdout",
     "output_type": "stream",
     "text": [
      "                   all         22        245          0          0          0          0\n"
     ]
    },
    {
     "name": "stderr",
     "output_type": "stream",
     "text": [
      "\n"
     ]
    },
    {
     "name": "stdout",
     "output_type": "stream",
     "text": [
      "Speed: 2.7ms preprocess, 13.0ms inference, 0.0ms loss, 2.3ms postprocess per image\n",
      "Saving runs\\detect\\tomatOD_run_effnet_epoch_14_val2\\predictions.json...\n",
      "Results saved to \u001b[1mruns\\detect\\tomatOD_run_effnet_epoch_14_val2\u001b[0m\n",
      "WARNING  imgsz=[300] must be multiple of max stride 32, updating to [320]\n",
      "Ultralytics 8.3.70  Python-3.11.11 torch-2.7.0.dev20250127+cu126 CUDA:0 (NVIDIA GeForce RTX 3050 Laptop GPU, 4096MiB)\n"
     ]
    },
    {
     "name": "stderr",
     "output_type": "stream",
     "text": [
      "\u001b[34m\u001b[1mval: \u001b[0mScanning D:\\YOLOV8-tomatod\\tomatOD_yolo\\test\\labels.cache... 55 images, 0 backgrounds, 0 corrupt: 100%|██████████|\u001b[0m\n",
      "                 Class     Images  Instances      Box(P          R      mAP50  mAP50-95): 100%|██████████| 55/55 [00:02"
     ]
    },
    {
     "name": "stdout",
     "output_type": "stream",
     "text": [
      "                   all         55        468          0          0          0          0\n"
     ]
    },
    {
     "name": "stderr",
     "output_type": "stream",
     "text": [
      "\n"
     ]
    },
    {
     "name": "stdout",
     "output_type": "stream",
     "text": [
      "Speed: 1.7ms preprocess, 12.7ms inference, 0.0ms loss, 1.7ms postprocess per image\n",
      "Saving runs\\detect\\tomatOD_run_effnet_epoch_14_test2\\predictions.json...\n",
      "Results saved to \u001b[1mruns\\detect\\tomatOD_run_effnet_epoch_14_test2\u001b[0m\n",
      "WARNING  imgsz=[300] must be multiple of max stride 32, updating to [320]\n",
      "Ultralytics 8.3.70  Python-3.11.11 torch-2.7.0.dev20250127+cu126 CUDA:0 (NVIDIA GeForce RTX 3050 Laptop GPU, 4096MiB)\n",
      "YOLOv8n summary (fused): 168 layers, 3,006,233 parameters, 0 gradients, 8.1 GFLOPs\n"
     ]
    },
    {
     "name": "stderr",
     "output_type": "stream",
     "text": [
      "\u001b[34m\u001b[1mval: \u001b[0mScanning D:\\YOLOV8-tomatod\\tomatOD_yolo\\val\\labels.cache... 22 images, 0 backgrounds, 0 corrupt: 100%|██████████| \u001b[0m"
     ]
    },
    {
     "name": "stdout",
     "output_type": "stream",
     "text": [
      "\u001b[34m\u001b[1mval: \u001b[0mWARNING  D:\\YOLOV8-tomatod\\tomatOD_yolo\\val\\images\\stereo20190405_133623_p2_snap_043.jpg: 1 duplicate labels removed\n",
      "\u001b[34m\u001b[1mval: \u001b[0mWARNING  D:\\YOLOV8-tomatod\\tomatOD_yolo\\val\\images\\stereo20190406_065607_p0_snap_080.jpg: 1 duplicate labels removed\n"
     ]
    },
    {
     "name": "stderr",
     "output_type": "stream",
     "text": [
      "\n",
      "                 Class     Images  Instances      Box(P          R      mAP50  mAP50-95): 100%|██████████| 22/22 [00:01"
     ]
    },
    {
     "name": "stdout",
     "output_type": "stream",
     "text": [
      "                   all         22        245          0          0          0          0\n"
     ]
    },
    {
     "name": "stderr",
     "output_type": "stream",
     "text": [
      "\n"
     ]
    },
    {
     "name": "stdout",
     "output_type": "stream",
     "text": [
      "Speed: 1.8ms preprocess, 13.7ms inference, 0.0ms loss, 1.2ms postprocess per image\n",
      "Saving runs\\detect\\tomatOD_run_effnet_epoch_15_val2\\predictions.json...\n",
      "Results saved to \u001b[1mruns\\detect\\tomatOD_run_effnet_epoch_15_val2\u001b[0m\n",
      "WARNING  imgsz=[300] must be multiple of max stride 32, updating to [320]\n",
      "Ultralytics 8.3.70  Python-3.11.11 torch-2.7.0.dev20250127+cu126 CUDA:0 (NVIDIA GeForce RTX 3050 Laptop GPU, 4096MiB)\n"
     ]
    },
    {
     "name": "stderr",
     "output_type": "stream",
     "text": [
      "\u001b[34m\u001b[1mval: \u001b[0mScanning D:\\YOLOV8-tomatod\\tomatOD_yolo\\test\\labels.cache... 55 images, 0 backgrounds, 0 corrupt: 100%|██████████|\u001b[0m\n",
      "                 Class     Images  Instances      Box(P          R      mAP50  mAP50-95): 100%|██████████| 55/55 [00:02"
     ]
    },
    {
     "name": "stdout",
     "output_type": "stream",
     "text": [
      "                   all         55        468          0          0          0          0\n"
     ]
    },
    {
     "name": "stderr",
     "output_type": "stream",
     "text": [
      "\n"
     ]
    },
    {
     "name": "stdout",
     "output_type": "stream",
     "text": [
      "Speed: 1.6ms preprocess, 15.4ms inference, 0.0ms loss, 0.9ms postprocess per image\n",
      "Saving runs\\detect\\tomatOD_run_effnet_epoch_15_test2\\predictions.json...\n",
      "Results saved to \u001b[1mruns\\detect\\tomatOD_run_effnet_epoch_15_test2\u001b[0m\n",
      "WARNING  imgsz=[300] must be multiple of max stride 32, updating to [320]\n",
      "Ultralytics 8.3.70  Python-3.11.11 torch-2.7.0.dev20250127+cu126 CUDA:0 (NVIDIA GeForce RTX 3050 Laptop GPU, 4096MiB)\n",
      "YOLOv8n summary (fused): 168 layers, 3,006,233 parameters, 0 gradients, 8.1 GFLOPs\n"
     ]
    },
    {
     "name": "stderr",
     "output_type": "stream",
     "text": [
      "\u001b[34m\u001b[1mval: \u001b[0mScanning D:\\YOLOV8-tomatod\\tomatOD_yolo\\val\\labels.cache... 22 images, 0 backgrounds, 0 corrupt: 100%|██████████| \u001b[0m"
     ]
    },
    {
     "name": "stdout",
     "output_type": "stream",
     "text": [
      "\u001b[34m\u001b[1mval: \u001b[0mWARNING  D:\\YOLOV8-tomatod\\tomatOD_yolo\\val\\images\\stereo20190405_133623_p2_snap_043.jpg: 1 duplicate labels removed\n",
      "\u001b[34m\u001b[1mval: \u001b[0mWARNING  D:\\YOLOV8-tomatod\\tomatOD_yolo\\val\\images\\stereo20190406_065607_p0_snap_080.jpg: 1 duplicate labels removed\n"
     ]
    },
    {
     "name": "stderr",
     "output_type": "stream",
     "text": [
      "\n",
      "                 Class     Images  Instances      Box(P          R      mAP50  mAP50-95): 100%|██████████| 22/22 [00:01\n"
     ]
    },
    {
     "name": "stdout",
     "output_type": "stream",
     "text": [
      "                   all         22        245      0.244     0.0257      0.129     0.0547\n",
      "                unripe         22        173     0.0667     0.0231     0.0344    0.00604\n",
      "             semi-ripe         17         37      0.667     0.0541      0.351      0.158\n",
      "            fully-ripe         16         35          0          0          0          0\n",
      "Speed: 1.7ms preprocess, 14.3ms inference, 0.0ms loss, 2.8ms postprocess per image\n",
      "Saving runs\\detect\\tomatOD_run_effnet_epoch_16_val2\\predictions.json...\n",
      "Results saved to \u001b[1mruns\\detect\\tomatOD_run_effnet_epoch_16_val2\u001b[0m\n",
      "WARNING  imgsz=[300] must be multiple of max stride 32, updating to [320]\n",
      "Ultralytics 8.3.70  Python-3.11.11 torch-2.7.0.dev20250127+cu126 CUDA:0 (NVIDIA GeForce RTX 3050 Laptop GPU, 4096MiB)\n"
     ]
    },
    {
     "name": "stderr",
     "output_type": "stream",
     "text": [
      "\u001b[34m\u001b[1mval: \u001b[0mScanning D:\\YOLOV8-tomatod\\tomatOD_yolo\\test\\labels.cache... 55 images, 0 backgrounds, 0 corrupt: 100%|██████████|\u001b[0m\n",
      "                 Class     Images  Instances      Box(P          R      mAP50  mAP50-95): 100%|██████████| 55/55 [00:02\n"
     ]
    },
    {
     "name": "stdout",
     "output_type": "stream",
     "text": [
      "                   all         55        468     0.0669     0.0132     0.0359     0.0193\n",
      "                unripe         55        292     0.0188     0.0137    0.00977    0.00241\n",
      "             semi-ripe         37         77      0.182      0.026      0.098     0.0555\n",
      "            fully-ripe         48         99          0          0          0          0\n",
      "Speed: 2.2ms preprocess, 15.2ms inference, 0.0ms loss, 2.2ms postprocess per image\n",
      "Saving runs\\detect\\tomatOD_run_effnet_epoch_16_test2\\predictions.json...\n",
      "Results saved to \u001b[1mruns\\detect\\tomatOD_run_effnet_epoch_16_test2\u001b[0m\n",
      "WARNING  imgsz=[300] must be multiple of max stride 32, updating to [320]\n",
      "Ultralytics 8.3.70  Python-3.11.11 torch-2.7.0.dev20250127+cu126 CUDA:0 (NVIDIA GeForce RTX 3050 Laptop GPU, 4096MiB)\n",
      "YOLOv8n summary (fused): 168 layers, 3,006,233 parameters, 0 gradients, 8.1 GFLOPs\n"
     ]
    },
    {
     "name": "stderr",
     "output_type": "stream",
     "text": [
      "\u001b[34m\u001b[1mval: \u001b[0mScanning D:\\YOLOV8-tomatod\\tomatOD_yolo\\val\\labels.cache... 22 images, 0 backgrounds, 0 corrupt: 100%|██████████| \u001b[0m"
     ]
    },
    {
     "name": "stdout",
     "output_type": "stream",
     "text": [
      "\u001b[34m\u001b[1mval: \u001b[0mWARNING  D:\\YOLOV8-tomatod\\tomatOD_yolo\\val\\images\\stereo20190405_133623_p2_snap_043.jpg: 1 duplicate labels removed\n",
      "\u001b[34m\u001b[1mval: \u001b[0mWARNING  D:\\YOLOV8-tomatod\\tomatOD_yolo\\val\\images\\stereo20190406_065607_p0_snap_080.jpg: 1 duplicate labels removed\n"
     ]
    },
    {
     "name": "stderr",
     "output_type": "stream",
     "text": [
      "\n",
      "                 Class     Images  Instances      Box(P          R      mAP50  mAP50-95): 100%|██████████| 22/22 [00:01\n"
     ]
    },
    {
     "name": "stdout",
     "output_type": "stream",
     "text": [
      "                   all         22        245       0.12      0.029     0.0697     0.0201\n",
      "                unripe         22        173      0.111    0.00578     0.0603     0.0181\n",
      "             semi-ripe         17         37       0.25     0.0811      0.149     0.0423\n",
      "            fully-ripe         16         35          0          0          0          0\n",
      "Speed: 2.0ms preprocess, 17.0ms inference, 0.0ms loss, 1.9ms postprocess per image\n",
      "Saving runs\\detect\\tomatOD_run_effnet_epoch_17_val2\\predictions.json...\n",
      "Results saved to \u001b[1mruns\\detect\\tomatOD_run_effnet_epoch_17_val2\u001b[0m\n",
      "WARNING  imgsz=[300] must be multiple of max stride 32, updating to [320]\n",
      "Ultralytics 8.3.70  Python-3.11.11 torch-2.7.0.dev20250127+cu126 CUDA:0 (NVIDIA GeForce RTX 3050 Laptop GPU, 4096MiB)\n"
     ]
    },
    {
     "name": "stderr",
     "output_type": "stream",
     "text": [
      "\u001b[34m\u001b[1mval: \u001b[0mScanning D:\\YOLOV8-tomatod\\tomatOD_yolo\\test\\labels.cache... 55 images, 0 backgrounds, 0 corrupt: 100%|██████████|\u001b[0m\n",
      "                 Class     Images  Instances      Box(P          R      mAP50  mAP50-95): 100%|██████████| 55/55 [00:02\n"
     ]
    },
    {
     "name": "stdout",
     "output_type": "stream",
     "text": [
      "                   all         55        468     0.0508      0.025     0.0291    0.00721\n",
      "                unripe         55        292          0          0          0          0\n",
      "             semi-ripe         37         77      0.122     0.0649     0.0717     0.0185\n",
      "            fully-ripe         48         99     0.0303     0.0101     0.0156    0.00311\n",
      "Speed: 2.0ms preprocess, 15.7ms inference, 0.0ms loss, 1.5ms postprocess per image\n",
      "Saving runs\\detect\\tomatOD_run_effnet_epoch_17_test2\\predictions.json...\n",
      "Results saved to \u001b[1mruns\\detect\\tomatOD_run_effnet_epoch_17_test2\u001b[0m\n",
      "WARNING  imgsz=[300] must be multiple of max stride 32, updating to [320]\n",
      "Ultralytics 8.3.70  Python-3.11.11 torch-2.7.0.dev20250127+cu126 CUDA:0 (NVIDIA GeForce RTX 3050 Laptop GPU, 4096MiB)\n",
      "YOLOv8n summary (fused): 168 layers, 3,006,233 parameters, 0 gradients, 8.1 GFLOPs\n"
     ]
    },
    {
     "name": "stderr",
     "output_type": "stream",
     "text": [
      "\u001b[34m\u001b[1mval: \u001b[0mScanning D:\\YOLOV8-tomatod\\tomatOD_yolo\\val\\labels.cache... 22 images, 0 backgrounds, 0 corrupt: 100%|██████████| \u001b[0m"
     ]
    },
    {
     "name": "stdout",
     "output_type": "stream",
     "text": [
      "\u001b[34m\u001b[1mval: \u001b[0mWARNING  D:\\YOLOV8-tomatod\\tomatOD_yolo\\val\\images\\stereo20190405_133623_p2_snap_043.jpg: 1 duplicate labels removed\n",
      "\u001b[34m\u001b[1mval: \u001b[0mWARNING  D:\\YOLOV8-tomatod\\tomatOD_yolo\\val\\images\\stereo20190406_065607_p0_snap_080.jpg: 1 duplicate labels removed\n"
     ]
    },
    {
     "name": "stderr",
     "output_type": "stream",
     "text": [
      "\n",
      "                 Class     Images  Instances      Box(P          R      mAP50  mAP50-95): 100%|██████████| 22/22 [00:01\n"
     ]
    },
    {
     "name": "stdout",
     "output_type": "stream",
     "text": [
      "                   all         22        245      0.177      0.115      0.126     0.0363\n",
      "                unripe         22        173      0.105     0.0116     0.0577     0.0115\n",
      "             semi-ripe         17         37      0.259      0.189      0.196     0.0658\n",
      "            fully-ripe         16         35      0.167      0.143      0.125     0.0315\n",
      "Speed: 1.8ms preprocess, 16.0ms inference, 0.0ms loss, 2.6ms postprocess per image\n",
      "Saving runs\\detect\\tomatOD_run_effnet_epoch_18_val2\\predictions.json...\n",
      "Results saved to \u001b[1mruns\\detect\\tomatOD_run_effnet_epoch_18_val2\u001b[0m\n",
      "WARNING  imgsz=[300] must be multiple of max stride 32, updating to [320]\n",
      "Ultralytics 8.3.70  Python-3.11.11 torch-2.7.0.dev20250127+cu126 CUDA:0 (NVIDIA GeForce RTX 3050 Laptop GPU, 4096MiB)\n"
     ]
    },
    {
     "name": "stderr",
     "output_type": "stream",
     "text": [
      "\u001b[34m\u001b[1mval: \u001b[0mScanning D:\\YOLOV8-tomatod\\tomatOD_yolo\\test\\labels.cache... 55 images, 0 backgrounds, 0 corrupt: 100%|██████████|\u001b[0m\n",
      "                 Class     Images  Instances      Box(P          R      mAP50  mAP50-95): 100%|██████████| 55/55 [00:02\n"
     ]
    },
    {
     "name": "stdout",
     "output_type": "stream",
     "text": [
      "                   all         55        468     0.0885       0.11      0.063     0.0176\n",
      "                unripe         55        292          0          0          0          0\n",
      "             semi-ripe         37         77      0.113      0.169     0.0885     0.0302\n",
      "            fully-ripe         48         99      0.152      0.162        0.1     0.0225\n",
      "Speed: 2.3ms preprocess, 16.3ms inference, 0.0ms loss, 1.6ms postprocess per image\n",
      "Saving runs\\detect\\tomatOD_run_effnet_epoch_18_test2\\predictions.json...\n",
      "Results saved to \u001b[1mruns\\detect\\tomatOD_run_effnet_epoch_18_test2\u001b[0m\n",
      "WARNING  imgsz=[300] must be multiple of max stride 32, updating to [320]\n",
      "Ultralytics 8.3.70  Python-3.11.11 torch-2.7.0.dev20250127+cu126 CUDA:0 (NVIDIA GeForce RTX 3050 Laptop GPU, 4096MiB)\n",
      "YOLOv8n summary (fused): 168 layers, 3,006,233 parameters, 0 gradients, 8.1 GFLOPs\n"
     ]
    },
    {
     "name": "stderr",
     "output_type": "stream",
     "text": [
      "\u001b[34m\u001b[1mval: \u001b[0mScanning D:\\YOLOV8-tomatod\\tomatOD_yolo\\val\\labels.cache... 22 images, 0 backgrounds, 0 corrupt: 100%|██████████| \u001b[0m"
     ]
    },
    {
     "name": "stdout",
     "output_type": "stream",
     "text": [
      "\u001b[34m\u001b[1mval: \u001b[0mWARNING  D:\\YOLOV8-tomatod\\tomatOD_yolo\\val\\images\\stereo20190405_133623_p2_snap_043.jpg: 1 duplicate labels removed\n",
      "\u001b[34m\u001b[1mval: \u001b[0mWARNING  D:\\YOLOV8-tomatod\\tomatOD_yolo\\val\\images\\stereo20190406_065607_p0_snap_080.jpg: 1 duplicate labels removed\n"
     ]
    },
    {
     "name": "stderr",
     "output_type": "stream",
     "text": [
      "\n",
      "                 Class     Images  Instances      Box(P          R      mAP50  mAP50-95): 100%|██████████| 22/22 [00:01\n"
     ]
    },
    {
     "name": "stdout",
     "output_type": "stream",
     "text": [
      "                   all         22        245      0.128      0.248      0.127     0.0431\n",
      "                unripe         22        173     0.0381      0.052     0.0231    0.00748\n",
      "             semi-ripe         17         37      0.187      0.378      0.219     0.0771\n",
      "            fully-ripe         16         35      0.159      0.314      0.139     0.0446\n",
      "Speed: 1.8ms preprocess, 17.5ms inference, 0.0ms loss, 2.0ms postprocess per image\n",
      "Saving runs\\detect\\tomatOD_run_effnet_epoch_19_val2\\predictions.json...\n",
      "Results saved to \u001b[1mruns\\detect\\tomatOD_run_effnet_epoch_19_val2\u001b[0m\n",
      "WARNING  imgsz=[300] must be multiple of max stride 32, updating to [320]\n",
      "Ultralytics 8.3.70  Python-3.11.11 torch-2.7.0.dev20250127+cu126 CUDA:0 (NVIDIA GeForce RTX 3050 Laptop GPU, 4096MiB)\n"
     ]
    },
    {
     "name": "stderr",
     "output_type": "stream",
     "text": [
      "\u001b[34m\u001b[1mval: \u001b[0mScanning D:\\YOLOV8-tomatod\\tomatOD_yolo\\test\\labels.cache... 55 images, 0 backgrounds, 0 corrupt: 100%|██████████|\u001b[0m\n",
      "                 Class     Images  Instances      Box(P          R      mAP50  mAP50-95): 100%|██████████| 55/55 [00:02\n"
     ]
    },
    {
     "name": "stdout",
     "output_type": "stream",
     "text": [
      "                   all         55        468     0.0958       0.24     0.0835      0.024\n",
      "                unripe         55        292     0.0174     0.0411    0.00931    0.00266\n",
      "             semi-ripe         37         77      0.102      0.325     0.0851     0.0274\n",
      "            fully-ripe         48         99      0.168      0.354      0.156     0.0419\n",
      "Speed: 2.2ms preprocess, 16.2ms inference, 0.0ms loss, 1.5ms postprocess per image\n",
      "Saving runs\\detect\\tomatOD_run_effnet_epoch_19_test2\\predictions.json...\n",
      "Results saved to \u001b[1mruns\\detect\\tomatOD_run_effnet_epoch_19_test2\u001b[0m\n",
      "WARNING  imgsz=[300] must be multiple of max stride 32, updating to [320]\n",
      "Ultralytics 8.3.70  Python-3.11.11 torch-2.7.0.dev20250127+cu126 CUDA:0 (NVIDIA GeForce RTX 3050 Laptop GPU, 4096MiB)\n",
      "YOLOv8n summary (fused): 168 layers, 3,006,233 parameters, 0 gradients, 8.1 GFLOPs\n"
     ]
    },
    {
     "name": "stderr",
     "output_type": "stream",
     "text": [
      "\u001b[34m\u001b[1mval: \u001b[0mScanning D:\\YOLOV8-tomatod\\tomatOD_yolo\\val\\labels.cache... 22 images, 0 backgrounds, 0 corrupt: 100%|██████████| \u001b[0m"
     ]
    },
    {
     "name": "stdout",
     "output_type": "stream",
     "text": [
      "\u001b[34m\u001b[1mval: \u001b[0mWARNING  D:\\YOLOV8-tomatod\\tomatOD_yolo\\val\\images\\stereo20190405_133623_p2_snap_043.jpg: 1 duplicate labels removed\n",
      "\u001b[34m\u001b[1mval: \u001b[0mWARNING  D:\\YOLOV8-tomatod\\tomatOD_yolo\\val\\images\\stereo20190406_065607_p0_snap_080.jpg: 1 duplicate labels removed\n"
     ]
    },
    {
     "name": "stderr",
     "output_type": "stream",
     "text": [
      "\n",
      "                 Class     Images  Instances      Box(P          R      mAP50  mAP50-95): 100%|██████████| 22/22 [00:01\n"
     ]
    },
    {
     "name": "stdout",
     "output_type": "stream",
     "text": [
      "                   all         22        245      0.148      0.353      0.208     0.0718\n",
      "                unripe         22        173      0.037      0.116     0.0288    0.00701\n",
      "             semi-ripe         17         37      0.205      0.486        0.3      0.122\n",
      "            fully-ripe         16         35      0.203      0.457      0.295     0.0869\n",
      "Speed: 3.2ms preprocess, 15.2ms inference, 0.0ms loss, 2.8ms postprocess per image\n",
      "Saving runs\\detect\\tomatOD_run_effnet_epoch_20_val2\\predictions.json...\n",
      "Results saved to \u001b[1mruns\\detect\\tomatOD_run_effnet_epoch_20_val2\u001b[0m\n",
      "WARNING  imgsz=[300] must be multiple of max stride 32, updating to [320]\n",
      "Ultralytics 8.3.70  Python-3.11.11 torch-2.7.0.dev20250127+cu126 CUDA:0 (NVIDIA GeForce RTX 3050 Laptop GPU, 4096MiB)\n"
     ]
    },
    {
     "name": "stderr",
     "output_type": "stream",
     "text": [
      "\u001b[34m\u001b[1mval: \u001b[0mScanning D:\\YOLOV8-tomatod\\tomatOD_yolo\\test\\labels.cache... 55 images, 0 backgrounds, 0 corrupt: 100%|██████████|\u001b[0m\n",
      "                 Class     Images  Instances      Box(P          R      mAP50  mAP50-95): 100%|██████████| 55/55 [00:02\n"
     ]
    },
    {
     "name": "stdout",
     "output_type": "stream",
     "text": [
      "                   all         55        468      0.127      0.322      0.128     0.0422\n",
      "                unripe         55        292     0.0227      0.106     0.0144     0.0038\n",
      "             semi-ripe         37         77      0.142      0.416      0.131     0.0442\n",
      "            fully-ripe         48         99      0.216      0.444      0.239     0.0787\n",
      "Speed: 2.2ms preprocess, 15.5ms inference, 0.0ms loss, 1.8ms postprocess per image\n",
      "Saving runs\\detect\\tomatOD_run_effnet_epoch_20_test2\\predictions.json...\n",
      "Results saved to \u001b[1mruns\\detect\\tomatOD_run_effnet_epoch_20_test2\u001b[0m\n",
      "WARNING  imgsz=[300] must be multiple of max stride 32, updating to [320]\n",
      "Ultralytics 8.3.70  Python-3.11.11 torch-2.7.0.dev20250127+cu126 CUDA:0 (NVIDIA GeForce RTX 3050 Laptop GPU, 4096MiB)\n",
      "YOLOv8n summary (fused): 168 layers, 3,006,233 parameters, 0 gradients, 8.1 GFLOPs\n"
     ]
    },
    {
     "name": "stderr",
     "output_type": "stream",
     "text": [
      "\u001b[34m\u001b[1mval: \u001b[0mScanning D:\\YOLOV8-tomatod\\tomatOD_yolo\\val\\labels.cache... 22 images, 0 backgrounds, 0 corrupt: 100%|██████████| \u001b[0m"
     ]
    },
    {
     "name": "stdout",
     "output_type": "stream",
     "text": [
      "\u001b[34m\u001b[1mval: \u001b[0mWARNING  D:\\YOLOV8-tomatod\\tomatOD_yolo\\val\\images\\stereo20190405_133623_p2_snap_043.jpg: 1 duplicate labels removed\n",
      "\u001b[34m\u001b[1mval: \u001b[0mWARNING  D:\\YOLOV8-tomatod\\tomatOD_yolo\\val\\images\\stereo20190406_065607_p0_snap_080.jpg: 1 duplicate labels removed\n"
     ]
    },
    {
     "name": "stderr",
     "output_type": "stream",
     "text": [
      "\n",
      "                 Class     Images  Instances      Box(P          R      mAP50  mAP50-95): 100%|██████████| 22/22 [00:01\n"
     ]
    },
    {
     "name": "stdout",
     "output_type": "stream",
     "text": [
      "                   all         22        245      0.321      0.251      0.169     0.0519\n",
      "                unripe         22        173      0.177     0.0286     0.0294    0.00693\n",
      "             semi-ripe         17         37      0.393      0.324      0.244     0.0889\n",
      "            fully-ripe         16         35      0.393        0.4      0.234     0.0598\n",
      "Speed: 1.8ms preprocess, 15.8ms inference, 0.0ms loss, 1.0ms postprocess per image\n",
      "Saving runs\\detect\\tomatOD_run_effnet_epoch_21_val2\\predictions.json...\n",
      "Results saved to \u001b[1mruns\\detect\\tomatOD_run_effnet_epoch_21_val2\u001b[0m\n",
      "WARNING  imgsz=[300] must be multiple of max stride 32, updating to [320]\n",
      "Ultralytics 8.3.70  Python-3.11.11 torch-2.7.0.dev20250127+cu126 CUDA:0 (NVIDIA GeForce RTX 3050 Laptop GPU, 4096MiB)\n"
     ]
    },
    {
     "name": "stderr",
     "output_type": "stream",
     "text": [
      "\u001b[34m\u001b[1mval: \u001b[0mScanning D:\\YOLOV8-tomatod\\tomatOD_yolo\\test\\labels.cache... 55 images, 0 backgrounds, 0 corrupt: 100%|██████████|\u001b[0m\n",
      "                 Class     Images  Instances      Box(P          R      mAP50  mAP50-95): 100%|██████████| 55/55 [00:02\n"
     ]
    },
    {
     "name": "stdout",
     "output_type": "stream",
     "text": [
      "                   all         55        468       0.18      0.185      0.117     0.0313\n",
      "                unripe         55        292          0          0     0.0131    0.00334\n",
      "             semi-ripe         37         77      0.197      0.221      0.127     0.0349\n",
      "            fully-ripe         48         99      0.343      0.333      0.211     0.0558\n",
      "Speed: 2.4ms preprocess, 15.0ms inference, 0.0ms loss, 1.9ms postprocess per image\n",
      "Saving runs\\detect\\tomatOD_run_effnet_epoch_21_test2\\predictions.json...\n",
      "Results saved to \u001b[1mruns\\detect\\tomatOD_run_effnet_epoch_21_test2\u001b[0m\n",
      "WARNING  imgsz=[300] must be multiple of max stride 32, updating to [320]\n",
      "Ultralytics 8.3.70  Python-3.11.11 torch-2.7.0.dev20250127+cu126 CUDA:0 (NVIDIA GeForce RTX 3050 Laptop GPU, 4096MiB)\n",
      "YOLOv8n summary (fused): 168 layers, 3,006,233 parameters, 0 gradients, 8.1 GFLOPs\n"
     ]
    },
    {
     "name": "stderr",
     "output_type": "stream",
     "text": [
      "\u001b[34m\u001b[1mval: \u001b[0mScanning D:\\YOLOV8-tomatod\\tomatOD_yolo\\val\\labels.cache... 22 images, 0 backgrounds, 0 corrupt: 100%|██████████| \u001b[0m"
     ]
    },
    {
     "name": "stdout",
     "output_type": "stream",
     "text": [
      "\u001b[34m\u001b[1mval: \u001b[0mWARNING  D:\\YOLOV8-tomatod\\tomatOD_yolo\\val\\images\\stereo20190405_133623_p2_snap_043.jpg: 1 duplicate labels removed\n",
      "\u001b[34m\u001b[1mval: \u001b[0mWARNING  D:\\YOLOV8-tomatod\\tomatOD_yolo\\val\\images\\stereo20190406_065607_p0_snap_080.jpg: 1 duplicate labels removed\n"
     ]
    },
    {
     "name": "stderr",
     "output_type": "stream",
     "text": [
      "\n",
      "                 Class     Images  Instances      Box(P          R      mAP50  mAP50-95): 100%|██████████| 22/22 [00:01\n"
     ]
    },
    {
     "name": "stdout",
     "output_type": "stream",
     "text": [
      "                   all         22        245      0.367      0.317      0.226      0.083\n",
      "                unripe         22        173       0.16     0.0347     0.0411    0.00915\n",
      "             semi-ripe         17         37      0.472      0.458      0.327      0.131\n",
      "            fully-ripe         16         35      0.468      0.457      0.309      0.108\n",
      "Speed: 2.2ms preprocess, 16.7ms inference, 0.1ms loss, 2.0ms postprocess per image\n",
      "Saving runs\\detect\\tomatOD_run_effnet_epoch_22_val2\\predictions.json...\n",
      "Results saved to \u001b[1mruns\\detect\\tomatOD_run_effnet_epoch_22_val2\u001b[0m\n",
      "WARNING  imgsz=[300] must be multiple of max stride 32, updating to [320]\n",
      "Ultralytics 8.3.70  Python-3.11.11 torch-2.7.0.dev20250127+cu126 CUDA:0 (NVIDIA GeForce RTX 3050 Laptop GPU, 4096MiB)\n"
     ]
    },
    {
     "name": "stderr",
     "output_type": "stream",
     "text": [
      "\u001b[34m\u001b[1mval: \u001b[0mScanning D:\\YOLOV8-tomatod\\tomatOD_yolo\\test\\labels.cache... 55 images, 0 backgrounds, 0 corrupt: 100%|██████████|\u001b[0m\n",
      "                 Class     Images  Instances      Box(P          R      mAP50  mAP50-95): 100%|██████████| 55/55 [00:02\n"
     ]
    },
    {
     "name": "stdout",
     "output_type": "stream",
     "text": [
      "                   all         55        468      0.225      0.224      0.144     0.0522\n",
      "                unripe         55        292      0.073     0.0205     0.0202    0.00496\n",
      "             semi-ripe         37         77      0.197      0.247       0.14     0.0508\n",
      "            fully-ripe         48         99      0.405      0.404      0.273      0.101\n",
      "Speed: 2.2ms preprocess, 13.4ms inference, 0.0ms loss, 2.6ms postprocess per image\n",
      "Saving runs\\detect\\tomatOD_run_effnet_epoch_22_test2\\predictions.json...\n",
      "Results saved to \u001b[1mruns\\detect\\tomatOD_run_effnet_epoch_22_test2\u001b[0m\n",
      "WARNING  imgsz=[300] must be multiple of max stride 32, updating to [320]\n",
      "Ultralytics 8.3.70  Python-3.11.11 torch-2.7.0.dev20250127+cu126 CUDA:0 (NVIDIA GeForce RTX 3050 Laptop GPU, 4096MiB)\n",
      "YOLOv8n summary (fused): 168 layers, 3,006,233 parameters, 0 gradients, 8.1 GFLOPs\n"
     ]
    },
    {
     "name": "stderr",
     "output_type": "stream",
     "text": [
      "\u001b[34m\u001b[1mval: \u001b[0mScanning D:\\YOLOV8-tomatod\\tomatOD_yolo\\val\\labels.cache... 22 images, 0 backgrounds, 0 corrupt: 100%|██████████| \u001b[0m"
     ]
    },
    {
     "name": "stdout",
     "output_type": "stream",
     "text": [
      "\u001b[34m\u001b[1mval: \u001b[0mWARNING  D:\\YOLOV8-tomatod\\tomatOD_yolo\\val\\images\\stereo20190405_133623_p2_snap_043.jpg: 1 duplicate labels removed\n",
      "\u001b[34m\u001b[1mval: \u001b[0mWARNING  D:\\YOLOV8-tomatod\\tomatOD_yolo\\val\\images\\stereo20190406_065607_p0_snap_080.jpg: 1 duplicate labels removed\n"
     ]
    },
    {
     "name": "stderr",
     "output_type": "stream",
     "text": [
      "\n",
      "                 Class     Images  Instances      Box(P          R      mAP50  mAP50-95): 100%|██████████| 22/22 [00:01\n"
     ]
    },
    {
     "name": "stdout",
     "output_type": "stream",
     "text": [
      "                   all         22        245      0.383      0.328      0.248     0.0993\n",
      "                unripe         22        173      0.287     0.0606      0.065     0.0153\n",
      "             semi-ripe         17         37      0.428      0.465      0.357      0.145\n",
      "            fully-ripe         16         35      0.433      0.457      0.323      0.138\n",
      "Speed: 1.9ms preprocess, 16.8ms inference, 0.0ms loss, 2.0ms postprocess per image\n",
      "Saving runs\\detect\\tomatOD_run_effnet_epoch_23_val2\\predictions.json...\n",
      "Results saved to \u001b[1mruns\\detect\\tomatOD_run_effnet_epoch_23_val2\u001b[0m\n",
      "WARNING  imgsz=[300] must be multiple of max stride 32, updating to [320]\n",
      "Ultralytics 8.3.70  Python-3.11.11 torch-2.7.0.dev20250127+cu126 CUDA:0 (NVIDIA GeForce RTX 3050 Laptop GPU, 4096MiB)\n"
     ]
    },
    {
     "name": "stderr",
     "output_type": "stream",
     "text": [
      "\u001b[34m\u001b[1mval: \u001b[0mScanning D:\\YOLOV8-tomatod\\tomatOD_yolo\\test\\labels.cache... 55 images, 0 backgrounds, 0 corrupt: 100%|██████████|\u001b[0m\n",
      "                 Class     Images  Instances      Box(P          R      mAP50  mAP50-95): 100%|██████████| 55/55 [00:03\n"
     ]
    },
    {
     "name": "stdout",
     "output_type": "stream",
     "text": [
      "                   all         55        468      0.278      0.328      0.231     0.0826\n",
      "                unripe         55        292     0.0683     0.0205     0.0219    0.00574\n",
      "             semi-ripe         37         77      0.265      0.408      0.192     0.0693\n",
      "            fully-ripe         48         99      0.502      0.556       0.48      0.173\n",
      "Speed: 1.8ms preprocess, 15.9ms inference, 0.0ms loss, 1.8ms postprocess per image\n",
      "Saving runs\\detect\\tomatOD_run_effnet_epoch_23_test2\\predictions.json...\n",
      "Results saved to \u001b[1mruns\\detect\\tomatOD_run_effnet_epoch_23_test2\u001b[0m\n",
      "WARNING  imgsz=[300] must be multiple of max stride 32, updating to [320]\n",
      "Ultralytics 8.3.70  Python-3.11.11 torch-2.7.0.dev20250127+cu126 CUDA:0 (NVIDIA GeForce RTX 3050 Laptop GPU, 4096MiB)\n",
      "YOLOv8n summary (fused): 168 layers, 3,006,233 parameters, 0 gradients, 8.1 GFLOPs\n"
     ]
    },
    {
     "name": "stderr",
     "output_type": "stream",
     "text": [
      "\u001b[34m\u001b[1mval: \u001b[0mScanning D:\\YOLOV8-tomatod\\tomatOD_yolo\\val\\labels.cache... 22 images, 0 backgrounds, 0 corrupt: 100%|██████████| \u001b[0m"
     ]
    },
    {
     "name": "stdout",
     "output_type": "stream",
     "text": [
      "\u001b[34m\u001b[1mval: \u001b[0mWARNING  D:\\YOLOV8-tomatod\\tomatOD_yolo\\val\\images\\stereo20190405_133623_p2_snap_043.jpg: 1 duplicate labels removed\n",
      "\u001b[34m\u001b[1mval: \u001b[0mWARNING  D:\\YOLOV8-tomatod\\tomatOD_yolo\\val\\images\\stereo20190406_065607_p0_snap_080.jpg: 1 duplicate labels removed\n"
     ]
    },
    {
     "name": "stderr",
     "output_type": "stream",
     "text": [
      "\n",
      "                 Class     Images  Instances      Box(P          R      mAP50  mAP50-95): 100%|██████████| 22/22 [00:01\n"
     ]
    },
    {
     "name": "stdout",
     "output_type": "stream",
     "text": [
      "                   all         22        245      0.363      0.334      0.245      0.101\n",
      "                unripe         22        173      0.248     0.0573     0.0589      0.015\n",
      "             semi-ripe         17         37      0.426      0.486      0.338      0.139\n",
      "            fully-ripe         16         35      0.415      0.457      0.338      0.149\n",
      "Speed: 2.0ms preprocess, 16.8ms inference, 0.0ms loss, 2.0ms postprocess per image\n",
      "Saving runs\\detect\\tomatOD_run_effnet_epoch_24_val2\\predictions.json...\n",
      "Results saved to \u001b[1mruns\\detect\\tomatOD_run_effnet_epoch_24_val2\u001b[0m\n",
      "WARNING  imgsz=[300] must be multiple of max stride 32, updating to [320]\n",
      "Ultralytics 8.3.70  Python-3.11.11 torch-2.7.0.dev20250127+cu126 CUDA:0 (NVIDIA GeForce RTX 3050 Laptop GPU, 4096MiB)\n"
     ]
    },
    {
     "name": "stderr",
     "output_type": "stream",
     "text": [
      "\u001b[34m\u001b[1mval: \u001b[0mScanning D:\\YOLOV8-tomatod\\tomatOD_yolo\\test\\labels.cache... 55 images, 0 backgrounds, 0 corrupt: 100%|██████████|\u001b[0m\n",
      "                 Class     Images  Instances      Box(P          R      mAP50  mAP50-95): 100%|██████████| 55/55 [00:02\n"
     ]
    },
    {
     "name": "stdout",
     "output_type": "stream",
     "text": [
      "                   all         55        468      0.261       0.33      0.234      0.088\n",
      "                unripe         55        292     0.0773     0.0308     0.0241    0.00599\n",
      "             semi-ripe         37         77      0.247      0.405      0.192     0.0747\n",
      "            fully-ripe         48         99       0.46      0.556      0.486      0.183\n",
      "Speed: 1.9ms preprocess, 15.0ms inference, 0.0ms loss, 1.6ms postprocess per image\n",
      "Saving runs\\detect\\tomatOD_run_effnet_epoch_24_test2\\predictions.json...\n",
      "Results saved to \u001b[1mruns\\detect\\tomatOD_run_effnet_epoch_24_test2\u001b[0m\n",
      "WARNING  imgsz=[300] must be multiple of max stride 32, updating to [320]\n",
      "Ultralytics 8.3.70  Python-3.11.11 torch-2.7.0.dev20250127+cu126 CUDA:0 (NVIDIA GeForce RTX 3050 Laptop GPU, 4096MiB)\n",
      "YOLOv8n summary (fused): 168 layers, 3,006,233 parameters, 0 gradients, 8.1 GFLOPs\n"
     ]
    },
    {
     "name": "stderr",
     "output_type": "stream",
     "text": [
      "\u001b[34m\u001b[1mval: \u001b[0mScanning D:\\YOLOV8-tomatod\\tomatOD_yolo\\val\\labels.cache... 22 images, 0 backgrounds, 0 corrupt: 100%|██████████| \u001b[0m"
     ]
    },
    {
     "name": "stdout",
     "output_type": "stream",
     "text": [
      "\u001b[34m\u001b[1mval: \u001b[0mWARNING  D:\\YOLOV8-tomatod\\tomatOD_yolo\\val\\images\\stereo20190405_133623_p2_snap_043.jpg: 1 duplicate labels removed\n",
      "\u001b[34m\u001b[1mval: \u001b[0mWARNING  D:\\YOLOV8-tomatod\\tomatOD_yolo\\val\\images\\stereo20190406_065607_p0_snap_080.jpg: 1 duplicate labels removed\n"
     ]
    },
    {
     "name": "stderr",
     "output_type": "stream",
     "text": [
      "\n",
      "                 Class     Images  Instances      Box(P          R      mAP50  mAP50-95): 100%|██████████| 22/22 [00:01\n"
     ]
    },
    {
     "name": "stdout",
     "output_type": "stream",
     "text": [
      "                   all         22        245      0.363      0.334      0.245      0.101\n",
      "                unripe         22        173      0.248     0.0573     0.0589      0.015\n",
      "             semi-ripe         17         37      0.426      0.486      0.338      0.139\n",
      "            fully-ripe         16         35      0.415      0.457      0.338      0.149\n",
      "Speed: 1.7ms preprocess, 16.9ms inference, 0.0ms loss, 1.7ms postprocess per image\n",
      "Saving runs\\detect\\tomatOD_run_effnet_epoch_25_val2\\predictions.json...\n",
      "Results saved to \u001b[1mruns\\detect\\tomatOD_run_effnet_epoch_25_val2\u001b[0m\n",
      "WARNING  imgsz=[300] must be multiple of max stride 32, updating to [320]\n",
      "Ultralytics 8.3.70  Python-3.11.11 torch-2.7.0.dev20250127+cu126 CUDA:0 (NVIDIA GeForce RTX 3050 Laptop GPU, 4096MiB)\n"
     ]
    },
    {
     "name": "stderr",
     "output_type": "stream",
     "text": [
      "\u001b[34m\u001b[1mval: \u001b[0mScanning D:\\YOLOV8-tomatod\\tomatOD_yolo\\test\\labels.cache... 55 images, 0 backgrounds, 0 corrupt: 100%|██████████|\u001b[0m\n",
      "                 Class     Images  Instances      Box(P          R      mAP50  mAP50-95): 100%|██████████| 55/55 [00:02\n"
     ]
    },
    {
     "name": "stdout",
     "output_type": "stream",
     "text": [
      "                   all         55        468      0.261       0.33      0.234      0.088\n",
      "                unripe         55        292     0.0773     0.0308     0.0241    0.00599\n",
      "             semi-ripe         37         77      0.247      0.405      0.192     0.0747\n",
      "            fully-ripe         48         99       0.46      0.556      0.486      0.183\n",
      "Speed: 1.8ms preprocess, 17.0ms inference, 0.0ms loss, 1.9ms postprocess per image\n",
      "Saving runs\\detect\\tomatOD_run_effnet_epoch_25_test2\\predictions.json...\n",
      "Results saved to \u001b[1mruns\\detect\\tomatOD_run_effnet_epoch_25_test2\u001b[0m\n"
     ]
    }
   ],
   "source": [
    "from main import run_yolo_training\n",
    "run_yolo_training()"
   ]
  }
 ],
 "metadata": {
  "kernelspec": {
   "display_name": "Python 3 (ipykernel)",
   "language": "python",
   "name": "python3"
  },
  "language_info": {
   "codemirror_mode": {
    "name": "ipython",
    "version": 3
   },
   "file_extension": ".py",
   "mimetype": "text/x-python",
   "name": "python",
   "nbconvert_exporter": "python",
   "pygments_lexer": "ipython3",
   "version": "3.11.5"
  }
 },
 "nbformat": 4,
 "nbformat_minor": 5
}
